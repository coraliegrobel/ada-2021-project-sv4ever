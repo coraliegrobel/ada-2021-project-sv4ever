{
 "cells": [
  {
   "cell_type": "markdown",
   "metadata": {},
   "source": [
    "# ADA - Project Milestone 2: \n",
    "# *Analysis of speech behaviours between genders*\n",
    "\n",
    "## Context\n",
    "\n",
    "In this project, we are going to analyze data from Quotebank. Quotebank, as the name suggests, is an open corpus which gathers 178 million quotations from 2008 to 2020. Still, in this project, we will only focus on the most recent quotations, being from 2015 to 2020.\n",
    "\n",
    "We are interested in using this dataset to answer the following question: Do speech behaviours related to confidence and uncertainty vary between men and women?\n",
    "\n",
    "To answer this question, we'll go through the following points:\n",
    "\n",
    "1. To what extent can we observe the differences in communicative acts in relation to gender within a professional area? Are there noticeable differences between those professional areas?\n",
    "3. What are the roles of environment (nationality), culture/tradition (religion, ethnic groups), and education (whether the speaker obtained an academic degree) in determining those differences in speech between men and women? How are the lines drawn between the language we use and the environment around us?\n",
    "4. Has there been a possible change over time (from 2015 to 2020)?\n",
    "\n",
    "In order to have access to the speakers' information (e.g., speakers' genders), we use the open source data from wikidata (https://www.wikidata.org/wiki/Wikidata:Main_Page).\n",
    "\n",
    "To analyse speech uncertainty, we use an uncertainty detection classifier, adapted from the following paper \"P. A. Jean, S. Harispe, S. Ranwez, P. Bellot, and J. Montmain, “[Uncertainty detection in natural language: A probabilistic model](https://www.researchgate.net/publication/303842922)” ACM Int. Conf. Proceeding Ser., vol. 13-15-June, no. June, 2016, doi: 10.1145/2912845.2912873\"."
   ]
  },
  {
   "cell_type": "markdown",
   "metadata": {
    "jp-MarkdownHeadingCollapsed": true,
    "tags": []
   },
   "source": [
    "## Table of contents\n",
    "\n",
    "[1. Pre-processing of the data](#pre-processing) \n",
    "- [Imports](#1imports)\n",
    "- [Pathways](#1pathways)\n",
    "- [Functions](#1functions)\n",
    "- [Merging files from wikidata into one file containing the 9 million speakers](#1merging)\n",
    "- [1.1 Loading and pre-processing of Quotebank data](#1.1)\n",
    "- [1.2 Analysis of the quotes from Quotebank](#1.2)\n",
    "- [1.3 Loading wikidata labels](#1.3) \n",
    "- [1.4 Pre-processing of wikidata](#1.4)\n",
    "- [1.5 Exploratory Data Analysis of wikidata](#1.5)\n",
    "\n",
    "[2. Creation of our sub data frames](#dataframes)\n",
    "- [Imports](#2imports)\n",
    "- [Functions](#2functions)\n",
    "- [2.1 Creation of professional fields](#2.1)\n",
    "- [2.2 Creation of sub-dataframes](#2.2) \n",
    "- [2.3 Creation of Data Frames with English Quotes only](#2.3)\n",
    "- [2.4 Saving of all sub data frames](#2.4)\n",
    "\n",
    "[3. Classification of the quotes](#classifier)\n",
    "- [Pathways](#3pathways)\n",
    "- [Functions](#3functions)\n",
    "- [3.1 Reading of all sub data frames](#3.1)\n",
    "- [3.2 Creation of the text files](#3.2)\n",
    "- [3.3 Use of the uncertainty detection classifier](#3.3) \n",
    "\n",
    "[4. Statistical-analysis](#stat_analysis)\n",
    "- [Imports](#4imports)\n",
    "- [Functions](#4functions)\n",
    "- [4.1 Gender distribution accross occupations](#4.1)\n",
    "- [4.2 Analysis of the gender distribution per professions](#4.2) \n",
    "- [4.3 Background influence](#4.3)\n",
    "- [4.4 Possible variation from 2015 to 2020](#4.4)\n",
    "\n",
    "[5. Interpretation of results](#interpretation)"
   ]
  },
  {
   "cell_type": "markdown",
   "metadata": {},
   "source": [
    "## 1. Pre-processing of the data <a class = anchor id=\"pre-processing\"></a>"
   ]
  },
  {
   "cell_type": "markdown",
   "metadata": {},
   "source": [
    "### Imports <a class = anchor id=\"1imports\"></a>"
   ]
  },
  {
   "cell_type": "markdown",
   "metadata": {},
   "source": [
    "Let's start by importing our libraries. "
   ]
  },
  {
   "cell_type": "code",
   "execution_count": 3,
   "metadata": {},
   "outputs": [],
   "source": [
    "import pandas as pd\n",
    "import numpy as np\n",
    "import seaborn as sns\n",
    "import matplotlib.pyplot as plt\n",
    "from langdetect import detect\n",
    "#import plotly\n",
    "#import plotly.graph_objects as go\n",
    "import mpld3"
   ]
  },
  {
   "cell_type": "markdown",
   "metadata": {},
   "source": [
    "### Pathways <a class = anchor id=\"1pathways\"></a>"
   ]
  },
  {
   "cell_type": "markdown",
   "metadata": {},
   "source": [
    "In order to run this project, one needs to download the directories and files from the following drive: https://drive.google.com/drive/folders/1UgvnLUFhs14NDcZYH6NuZx2f_YC5i06N?usp=sharing. All directories need to be added in the same directory as this notebook. The data folders \"Data\" and \"Data_parquet\" are already important for the upcoming [1. Pre-processing of the data](#pre-processing); the two other directories (\"Classifier\" and \"txt_files\") will be needed in the [3. Classification of the quotes](#classifier)."
   ]
  },
  {
   "cell_type": "code",
   "execution_count": 4,
   "metadata": {},
   "outputs": [],
   "source": [
    "# DATA_PATH contains all data frames\n",
    "DATA_PATH = 'Data/'\n",
    "# PATH_PARQUET contains all the data from wikidata\n",
    "PATH_PARQUET = 'Data_parquet/'"
   ]
  },
  {
   "cell_type": "markdown",
   "metadata": {},
   "source": [
    "### Functions <a class = anchor id=\"1functions\"></a>"
   ]
  },
  {
   "cell_type": "markdown",
   "metadata": {},
   "source": [
    "The following function is needed for the pre-processing."
   ]
  },
  {
   "cell_type": "code",
   "execution_count": 5,
   "metadata": {},
   "outputs": [],
   "source": [
    "def saving_wikidata(path):\n",
    "    \"\"\"\n",
    "    Transforms all the wikidata files in one dataset saved as pickle. \n",
    "    This allows to load the file and use it more quickly and easily.\n",
    "    Input:\n",
    "        * path : pathway where to save the pickle file\n",
    "    \"\"\"\n",
    "    wikidata_all = pd.DataFrame()\n",
    "    for i in range(1,16):\n",
    "        if i < 10:\n",
    "            DATA_FILE = 'part-0000{}-0d587965-3d8f-41ce-9771-5b8c9024dce9-c000.snappy.parquet'.format(i)\n",
    "        else:\n",
    "            DATA_FILE = 'part-000{}-0d587965-3d8f-41ce-9771-5b8c9024dce9-c000.snappy.parquet'.format(i)\n",
    "        wikidata = pd.read_parquet(PATH_PARQUET + DATA_FILE)\n",
    "        wikidata_all = pd.concat([wikidata_all, wikidata])\n",
    "    wikidata_all.to_pickle(path)\n",
    "\n",
    "def det(x):\n",
    "    \"\"\"\n",
    "    Detects the language a quote.\n",
    "    Input:\n",
    "        * x : one quote\n",
    "    Output:\n",
    "        * lang : language of the quote\n",
    "    \"\"\"\n",
    "    try:\n",
    "        lang = detect(x)\n",
    "    except:\n",
    "        lang = 'Other'\n",
    "    return lang"
   ]
  },
  {
   "cell_type": "markdown",
   "metadata": {
    "tags": []
   },
   "source": [
    "### Merging files from wikidata into one file containing the 9 million speakers <a class = anchor id=\"1merging\"></a>"
   ]
  },
  {
   "cell_type": "markdown",
   "metadata": {},
   "source": [
    "Here, we create the file \"wikidata_all.pck\" containing all the raw data from wikidata. We already ran this cell and the file can be found in \"Data\". As this is a huge dataset, we save the file as pickle, as this is much less comutationally costly than directly working with the data."
   ]
  },
  {
   "cell_type": "code",
   "execution_count": 6,
   "metadata": {},
   "outputs": [],
   "source": [
    "\"\"\" Only intented to be run once\n",
    "saving_wikidata(DATA_PATH + \"wikidata_all.pck\")\"\"\";"
   ]
  },
  {
   "cell_type": "markdown",
   "metadata": {},
   "source": [
    "### 1.1. Loading and pre-processing of Quotebank data <a class = anchor id=\"1.1\"></a>"
   ]
  },
  {
   "cell_type": "markdown",
   "metadata": {},
   "source": [
    "The function `clean_quotebank` (in [Functions](#2functions) below) does a first cleaning of the quotebank dataset by leaving behind quotes from unknown speakers as they would not be useful towards our study. We chose to also drop the quotes from uncertain speakers, i.e. when the speaker probability was below 0.5. As this is a computationally costly operation, the cleaning is performed at the same time as we create our quotebank sub dataframes ([2. Creation of our sub data frames](#dataframes))."
   ]
  },
  {
   "cell_type": "markdown",
   "metadata": {},
   "source": [
    "### 1.2 Analysis of the quotes from Quotebank <a class = anchor id=\"1.2\"></a>"
   ]
  },
  {
   "cell_type": "markdown",
   "metadata": {},
   "source": [
    "We take a random sample of our dataframe to analyze the language distribution in the dataset. More information about this dataframe (saved as \"df_no_conditions_2020.pck\" in Data) will be provided in the [2. Creation of our sub data frames](#dataframes). We consider that this sample selected randomly is representative of the whole dataset."
   ]
  },
  {
   "cell_type": "code",
   "execution_count": 7,
   "metadata": {},
   "outputs": [],
   "source": [
    "df_no_conditions_2020 = pd.read_pickle(DATA_PATH + \"df_no_conditions_2020.pck\")"
   ]
  },
  {
   "cell_type": "markdown",
   "metadata": {},
   "source": [
    "For reproducibility, a seed is fixed for the entire dataframe (`seed` = 2). "
   ]
  },
  {
   "cell_type": "code",
   "execution_count": 8,
   "metadata": {},
   "outputs": [],
   "source": [
    "seed = 2\n",
    "small_df = df_no_conditions_2020.sample(n = 300, random_state = seed)"
   ]
  },
  {
   "cell_type": "markdown",
   "metadata": {},
   "source": [
    "Here is a glampse at some quotes."
   ]
  },
  {
   "cell_type": "code",
   "execution_count": 9,
   "metadata": {
    "scrolled": false
   },
   "outputs": [
    {
     "name": "stdout",
     "output_type": "stream",
     "text": [
      "(300, 24)\n"
     ]
    },
    {
     "data": {
      "text/html": [
       "<div>\n",
       "<style scoped>\n",
       "    .dataframe tbody tr th:only-of-type {\n",
       "        vertical-align: middle;\n",
       "    }\n",
       "\n",
       "    .dataframe tbody tr th {\n",
       "        vertical-align: top;\n",
       "    }\n",
       "\n",
       "    .dataframe thead th {\n",
       "        text-align: right;\n",
       "    }\n",
       "</style>\n",
       "<table border=\"1\" class=\"dataframe\">\n",
       "  <thead>\n",
       "    <tr style=\"text-align: right;\">\n",
       "      <th></th>\n",
       "      <th>quoteID</th>\n",
       "      <th>quotation</th>\n",
       "      <th>speaker</th>\n",
       "      <th>qids</th>\n",
       "      <th>date</th>\n",
       "      <th>numOccurrences</th>\n",
       "      <th>probas</th>\n",
       "      <th>urls</th>\n",
       "      <th>phase</th>\n",
       "      <th>aliases</th>\n",
       "      <th>...</th>\n",
       "      <th>ethnic_group</th>\n",
       "      <th>US_congress_bio_ID</th>\n",
       "      <th>occupation</th>\n",
       "      <th>party</th>\n",
       "      <th>academic_degree</th>\n",
       "      <th>id</th>\n",
       "      <th>label</th>\n",
       "      <th>candidacy</th>\n",
       "      <th>type</th>\n",
       "      <th>religion</th>\n",
       "    </tr>\n",
       "  </thead>\n",
       "  <tbody>\n",
       "    <tr>\n",
       "      <th>65382</th>\n",
       "      <td>2020-01-16-037739</td>\n",
       "      <td>I will seek to mend fences with our neighbouri...</td>\n",
       "      <td>John Campion</td>\n",
       "      <td>Q24572630</td>\n",
       "      <td>2020-01-16 06:01:00</td>\n",
       "      <td>1</td>\n",
       "      <td>[[John Campion, 0.6249], [None, 0.3751]]</td>\n",
       "      <td>[http://www.shropshirestar.com/news/crime/2020...</td>\n",
       "      <td>E</td>\n",
       "      <td>[John-Paul Campion]</td>\n",
       "      <td>...</td>\n",
       "      <td>None</td>\n",
       "      <td>None</td>\n",
       "      <td>[Q82955]</td>\n",
       "      <td>[Q9626]</td>\n",
       "      <td>None</td>\n",
       "      <td>Q24572630</td>\n",
       "      <td>John Campion</td>\n",
       "      <td>None</td>\n",
       "      <td>item</td>\n",
       "      <td>None</td>\n",
       "    </tr>\n",
       "    <tr>\n",
       "      <th>27097</th>\n",
       "      <td>2020-02-13-119432</td>\n",
       "      <td>We're training at Aston Villa again, mid journ...</td>\n",
       "      <td>Chris Beech</td>\n",
       "      <td>Q5105871</td>\n",
       "      <td>2020-02-13 17:27:16</td>\n",
       "      <td>1</td>\n",
       "      <td>[[Chris Beech, 0.6725], [None, 0.238], [Dean S...</td>\n",
       "      <td>[https://www.birminghammail.co.uk/sport/footba...</td>\n",
       "      <td>E</td>\n",
       "      <td>None</td>\n",
       "      <td>...</td>\n",
       "      <td>None</td>\n",
       "      <td>None</td>\n",
       "      <td>[Q937857]</td>\n",
       "      <td>None</td>\n",
       "      <td>None</td>\n",
       "      <td>Q5105871</td>\n",
       "      <td>Chris Beech</td>\n",
       "      <td>None</td>\n",
       "      <td>item</td>\n",
       "      <td>None</td>\n",
       "    </tr>\n",
       "    <tr>\n",
       "      <th>25289</th>\n",
       "      <td>2020-01-23-019530</td>\n",
       "      <td>Exports of firearms and related items that do ...</td>\n",
       "      <td>R. Clarke Cooper</td>\n",
       "      <td>Q7273550</td>\n",
       "      <td>2020-01-23 22:15:25</td>\n",
       "      <td>1</td>\n",
       "      <td>[[R. Clarke Cooper, 0.8201], [None, 0.1799]]</td>\n",
       "      <td>[https://www.cnbc.com/2020/01/23/gun-exports-g...</td>\n",
       "      <td>E</td>\n",
       "      <td>[René Clarke Cooper]</td>\n",
       "      <td>...</td>\n",
       "      <td>None</td>\n",
       "      <td>None</td>\n",
       "      <td>[Q11986654, Q189290, Q82955]</td>\n",
       "      <td>[Q29468]</td>\n",
       "      <td>None</td>\n",
       "      <td>Q7273550</td>\n",
       "      <td>R. Clarke Cooper</td>\n",
       "      <td>None</td>\n",
       "      <td>item</td>\n",
       "      <td>[Q682443]</td>\n",
       "    </tr>\n",
       "  </tbody>\n",
       "</table>\n",
       "<p>3 rows × 24 columns</p>\n",
       "</div>"
      ],
      "text/plain": [
       "                 quoteID                                          quotation  \\\n",
       "65382  2020-01-16-037739  I will seek to mend fences with our neighbouri...   \n",
       "27097  2020-02-13-119432  We're training at Aston Villa again, mid journ...   \n",
       "25289  2020-01-23-019530  Exports of firearms and related items that do ...   \n",
       "\n",
       "                speaker       qids                date  numOccurrences  \\\n",
       "65382      John Campion  Q24572630 2020-01-16 06:01:00               1   \n",
       "27097       Chris Beech   Q5105871 2020-02-13 17:27:16               1   \n",
       "25289  R. Clarke Cooper   Q7273550 2020-01-23 22:15:25               1   \n",
       "\n",
       "                                                  probas  \\\n",
       "65382           [[John Campion, 0.6249], [None, 0.3751]]   \n",
       "27097  [[Chris Beech, 0.6725], [None, 0.238], [Dean S...   \n",
       "25289       [[R. Clarke Cooper, 0.8201], [None, 0.1799]]   \n",
       "\n",
       "                                                    urls phase  \\\n",
       "65382  [http://www.shropshirestar.com/news/crime/2020...     E   \n",
       "27097  [https://www.birminghammail.co.uk/sport/footba...     E   \n",
       "25289  [https://www.cnbc.com/2020/01/23/gun-exports-g...     E   \n",
       "\n",
       "                    aliases  ... ethnic_group US_congress_bio_ID  \\\n",
       "65382   [John-Paul Campion]  ...         None               None   \n",
       "27097                  None  ...         None               None   \n",
       "25289  [René Clarke Cooper]  ...         None               None   \n",
       "\n",
       "                         occupation     party academic_degree         id  \\\n",
       "65382                      [Q82955]   [Q9626]            None  Q24572630   \n",
       "27097                     [Q937857]      None            None   Q5105871   \n",
       "25289  [Q11986654, Q189290, Q82955]  [Q29468]            None   Q7273550   \n",
       "\n",
       "                  label candidacy  type   religion  \n",
       "65382      John Campion      None  item       None  \n",
       "27097       Chris Beech      None  item       None  \n",
       "25289  R. Clarke Cooper      None  item  [Q682443]  \n",
       "\n",
       "[3 rows x 24 columns]"
      ]
     },
     "execution_count": 9,
     "metadata": {},
     "output_type": "execute_result"
    }
   ],
   "source": [
    "print(small_df.shape)\n",
    "small_df.head(3)"
   ]
  },
  {
   "cell_type": "markdown",
   "metadata": {},
   "source": [
    "We use langdetect to identify quotations language."
   ]
  },
  {
   "cell_type": "code",
   "execution_count": 10,
   "metadata": {},
   "outputs": [],
   "source": [
    "small_df['quote_language'] = small_df['quotation'].apply(lambda x: det(x))"
   ]
  },
  {
   "cell_type": "markdown",
   "metadata": {},
   "source": [
    "Let's print all languages contained in `small_df`."
   ]
  },
  {
   "cell_type": "code",
   "execution_count": 11,
   "metadata": {},
   "outputs": [
    {
     "data": {
      "text/plain": [
       "array(['en', 'af', 'fr', 'et', 'ca', 'sw'], dtype=object)"
      ]
     },
     "execution_count": 11,
     "metadata": {},
     "output_type": "execute_result"
    }
   ],
   "source": [
    "small_df['quote_language'].unique()"
   ]
  },
  {
   "cell_type": "markdown",
   "metadata": {},
   "source": [
    "We see that not all quotes are in English. Therefore, in part [2.3 Creation of Data Frames with English Quotes only](#2.3), we will select only the English quotes from our data frames."
   ]
  },
  {
   "cell_type": "markdown",
   "metadata": {},
   "source": [
    "Before the visualisation, we define a color palette that will be used carefully throughout the project to be robust for color blind people."
   ]
  },
  {
   "cell_type": "code",
   "execution_count": 12,
   "metadata": {},
   "outputs": [],
   "source": [
    "color_palette = sns.color_palette(\"rocket\",8)"
   ]
  },
  {
   "cell_type": "markdown",
   "metadata": {},
   "source": [
    "Let's visualise the languages in this sample of our dataset."
   ]
  },
  {
   "cell_type": "code",
   "execution_count": 13,
   "metadata": {},
   "outputs": [],
   "source": [
    "language_dist = small_df.groupby('quote_language').size()\n",
    "language_dist = language_dist.div(language_dist.sum(axis = 0), axis = 0)"
   ]
  },
  {
   "cell_type": "code",
   "execution_count": 23,
   "metadata": {},
   "outputs": [
    {
     "data": {
      "image/png": "[encoded data removed]",
      "text/plain": [
       "<Figure size 504x360 with 1 Axes>"
      ]
     },
     "metadata": {
      "needs_background": "light"
     },
     "output_type": "display_data"
    }
   ],
   "source": [
    "fig = plt.figure()\n",
    "language_dist.plot(kind = 'bar', figsize = [7,5], color = color_palette[1])\n",
    "plt.xlabel('Languages')\n",
    "plt.ylabel('Quotes (log scale)')\n",
    "#plt.yscale('log')\n",
    "plt.title('Language distribution of the quotations');"
   ]
  },
  {
   "cell_type": "code",
   "execution_count": 24,
   "metadata": {},
   "outputs": [],
   "source": [
    "html_str = mpld3.fig_to_html(fig)\n",
    "Html_file= open(\"Images/language_dist_plot.html\",\"w\")\n",
    "Html_file.write(html_str)\n",
    "Html_file.close()"
   ]
  },
  {
   "cell_type": "code",
   "execution_count": 25,
   "metadata": {},
   "outputs": [],
   "source": [
    "'''language_dist = small_df.groupby('quote_language').size()\n",
    "language_dist = language_dist.div(language_dist.sum(axis = 0), axis = 0)''';"
   ]
  },
  {
   "cell_type": "code",
   "execution_count": 26,
   "metadata": {
    "scrolled": false
   },
   "outputs": [],
   "source": [
    "'''fig = go.Figure()\n",
    "language_dist = small_df.groupby('quote_language').size()\n",
    "language_dist = language_dist.div(language_dist.sum(axis = 0), axis = 0)\n",
    "ax = language_dist.plot(kind = 'bar', figsize = [7,5], color = color_palette[1])\n",
    "ax.set_title('Language distribution of the quotations')\n",
    "ax.set_ylabel('Quotes (log scale)')\n",
    "ax.set_xlabel('Languages')\n",
    "ax.set_yscale('log')\n",
    "plt.show()''';"
   ]
  },
  {
   "cell_type": "markdown",
   "metadata": {},
   "source": [
    "We save the image for the data story. All images have already been created and can be found in the folder \"Images\"."
   ]
  },
  {
   "cell_type": "code",
   "execution_count": 101,
   "metadata": {},
   "outputs": [],
   "source": [
    "'''fig.write_html(\"Images/language_dist_plot.html\")'''"
   ]
  },
  {
   "cell_type": "markdown",
   "metadata": {},
   "source": [
    "We observe that the dataset is composed in vast majority of english quotes (99%) but it also contains quotes coming from different languages like French, Malaysian and Swahili."
   ]
  },
  {
   "cell_type": "markdown",
   "metadata": {},
   "source": [
    "### 1.3 Loading wikidata labels <a class = anchor id=\"1.3\"></a>"
   ]
  },
  {
   "cell_type": "markdown",
   "metadata": {},
   "source": [
    "Wikidata labels are encoded in items called QIDs, to map them back to human readable labels, we upload the following dataset."
   ]
  },
  {
   "cell_type": "code",
   "execution_count": 28,
   "metadata": {},
   "outputs": [],
   "source": [
    "qid_label = pd.read_csv(DATA_PATH+'wikidata_labels_descriptions_quotebank.csv.bz2', \\\n",
    "                        compression = 'bz2', index_col = 'QID')"
   ]
  },
  {
   "cell_type": "markdown",
   "metadata": {},
   "source": [
    "Let's have a quick look at this data frame."
   ]
  },
  {
   "cell_type": "code",
   "execution_count": 29,
   "metadata": {},
   "outputs": [
    {
     "data": {
      "text/html": [
       "<div>\n",
       "<style scoped>\n",
       "    .dataframe tbody tr th:only-of-type {\n",
       "        vertical-align: middle;\n",
       "    }\n",
       "\n",
       "    .dataframe tbody tr th {\n",
       "        vertical-align: top;\n",
       "    }\n",
       "\n",
       "    .dataframe thead th {\n",
       "        text-align: right;\n",
       "    }\n",
       "</style>\n",
       "<table border=\"1\" class=\"dataframe\">\n",
       "  <thead>\n",
       "    <tr style=\"text-align: right;\">\n",
       "      <th></th>\n",
       "      <th>Label</th>\n",
       "      <th>Description</th>\n",
       "    </tr>\n",
       "    <tr>\n",
       "      <th>QID</th>\n",
       "      <th></th>\n",
       "      <th></th>\n",
       "    </tr>\n",
       "  </thead>\n",
       "  <tbody>\n",
       "    <tr>\n",
       "      <th>Q31</th>\n",
       "      <td>Belgium</td>\n",
       "      <td>country in western Europe</td>\n",
       "    </tr>\n",
       "    <tr>\n",
       "      <th>Q45</th>\n",
       "      <td>Portugal</td>\n",
       "      <td>country in southwestern Europe</td>\n",
       "    </tr>\n",
       "    <tr>\n",
       "      <th>Q75</th>\n",
       "      <td>Internet</td>\n",
       "      <td>global system of connected computer networks</td>\n",
       "    </tr>\n",
       "    <tr>\n",
       "      <th>Q148</th>\n",
       "      <td>People's Republic of China</td>\n",
       "      <td>sovereign state in East Asia</td>\n",
       "    </tr>\n",
       "    <tr>\n",
       "      <th>Q155</th>\n",
       "      <td>Brazil</td>\n",
       "      <td>country in South America</td>\n",
       "    </tr>\n",
       "  </tbody>\n",
       "</table>\n",
       "</div>"
      ],
      "text/plain": [
       "                           Label                                   Description\n",
       "QID                                                                           \n",
       "Q31                      Belgium                     country in western Europe\n",
       "Q45                     Portugal                country in southwestern Europe\n",
       "Q75                     Internet  global system of connected computer networks\n",
       "Q148  People's Republic of China                  sovereign state in East Asia\n",
       "Q155                      Brazil                      country in South America"
      ]
     },
     "execution_count": 29,
     "metadata": {},
     "output_type": "execute_result"
    }
   ],
   "source": [
    "qid_label.head()"
   ]
  },
  {
   "cell_type": "markdown",
   "metadata": {},
   "source": [
    "### 1.4 Pre-processing of wikidata <a class = anchor id=\"1.4\"></a>"
   ]
  },
  {
   "cell_type": "markdown",
   "metadata": {},
   "source": [
    "To be able to find information about the speakers, we use wikidata. Let's start by creating a data frame of all the speakers from our pickle file \"wikidata_all.pck\"."
   ]
  },
  {
   "cell_type": "code",
   "execution_count": 30,
   "metadata": {},
   "outputs": [
    {
     "data": {
      "text/plain": [
       "(8583613, 15)"
      ]
     },
     "execution_count": 30,
     "metadata": {},
     "output_type": "execute_result"
    }
   ],
   "source": [
    "wikidata_all = pd.read_pickle(\"Data/wikidata_all.pck\")\n",
    "wikidata_all.shape"
   ]
  },
  {
   "cell_type": "markdown",
   "metadata": {},
   "source": [
    "We now search for possible redundant speakers."
   ]
  },
  {
   "cell_type": "code",
   "execution_count": 31,
   "metadata": {},
   "outputs": [
    {
     "data": {
      "text/plain": [
       "True"
      ]
     },
     "execution_count": 31,
     "metadata": {},
     "output_type": "execute_result"
    }
   ],
   "source": [
    "wikidata_all['id'].is_unique"
   ]
  },
  {
   "cell_type": "markdown",
   "metadata": {},
   "source": [
    "As this returns `True`, we can see that there are no duplicate speakers in wikidata. We'll now create a new dataframe (`cleaned_wikidata`), that will contain a clean version of the data (without modifying the original one)."
   ]
  },
  {
   "cell_type": "code",
   "execution_count": 32,
   "metadata": {},
   "outputs": [],
   "source": [
    "cleaned_wikidata = wikidata_all.copy(deep = True)"
   ]
  },
  {
   "cell_type": "markdown",
   "metadata": {},
   "source": [
    "Let's visualise this data frame."
   ]
  },
  {
   "cell_type": "code",
   "execution_count": 33,
   "metadata": {},
   "outputs": [
    {
     "data": {
      "text/html": [
       "<div>\n",
       "<style scoped>\n",
       "    .dataframe tbody tr th:only-of-type {\n",
       "        vertical-align: middle;\n",
       "    }\n",
       "\n",
       "    .dataframe tbody tr th {\n",
       "        vertical-align: top;\n",
       "    }\n",
       "\n",
       "    .dataframe thead th {\n",
       "        text-align: right;\n",
       "    }\n",
       "</style>\n",
       "<table border=\"1\" class=\"dataframe\">\n",
       "  <thead>\n",
       "    <tr style=\"text-align: right;\">\n",
       "      <th></th>\n",
       "      <th>aliases</th>\n",
       "      <th>date_of_birth</th>\n",
       "      <th>nationality</th>\n",
       "      <th>gender</th>\n",
       "      <th>lastrevid</th>\n",
       "      <th>ethnic_group</th>\n",
       "      <th>US_congress_bio_ID</th>\n",
       "      <th>occupation</th>\n",
       "      <th>party</th>\n",
       "      <th>academic_degree</th>\n",
       "      <th>id</th>\n",
       "      <th>label</th>\n",
       "      <th>candidacy</th>\n",
       "      <th>type</th>\n",
       "      <th>religion</th>\n",
       "    </tr>\n",
       "  </thead>\n",
       "  <tbody>\n",
       "    <tr>\n",
       "      <th>0</th>\n",
       "      <td>None</td>\n",
       "      <td>None</td>\n",
       "      <td>None</td>\n",
       "      <td>[Q6581097]</td>\n",
       "      <td>985453603</td>\n",
       "      <td>None</td>\n",
       "      <td>None</td>\n",
       "      <td>None</td>\n",
       "      <td>None</td>\n",
       "      <td>None</td>\n",
       "      <td>Q45441526</td>\n",
       "      <td>Cui Yan</td>\n",
       "      <td>None</td>\n",
       "      <td>item</td>\n",
       "      <td>None</td>\n",
       "    </tr>\n",
       "    <tr>\n",
       "      <th>1</th>\n",
       "      <td>None</td>\n",
       "      <td>None</td>\n",
       "      <td>[Q9903]</td>\n",
       "      <td>[Q6581097]</td>\n",
       "      <td>1008699604</td>\n",
       "      <td>None</td>\n",
       "      <td>None</td>\n",
       "      <td>None</td>\n",
       "      <td>None</td>\n",
       "      <td>None</td>\n",
       "      <td>Q45441555</td>\n",
       "      <td>Guo Ziyi</td>\n",
       "      <td>None</td>\n",
       "      <td>item</td>\n",
       "      <td>None</td>\n",
       "    </tr>\n",
       "    <tr>\n",
       "      <th>2</th>\n",
       "      <td>None</td>\n",
       "      <td>None</td>\n",
       "      <td>[Q9903]</td>\n",
       "      <td>[Q6581097]</td>\n",
       "      <td>1008699709</td>\n",
       "      <td>None</td>\n",
       "      <td>None</td>\n",
       "      <td>None</td>\n",
       "      <td>None</td>\n",
       "      <td>None</td>\n",
       "      <td>Q45441562</td>\n",
       "      <td>Wan Zikui</td>\n",
       "      <td>None</td>\n",
       "      <td>item</td>\n",
       "      <td>None</td>\n",
       "    </tr>\n",
       "    <tr>\n",
       "      <th>3</th>\n",
       "      <td>None</td>\n",
       "      <td>None</td>\n",
       "      <td>[Q9903]</td>\n",
       "      <td>[Q6581097]</td>\n",
       "      <td>1008699728</td>\n",
       "      <td>None</td>\n",
       "      <td>None</td>\n",
       "      <td>None</td>\n",
       "      <td>None</td>\n",
       "      <td>None</td>\n",
       "      <td>Q45441563</td>\n",
       "      <td>Lin Pei</td>\n",
       "      <td>None</td>\n",
       "      <td>item</td>\n",
       "      <td>None</td>\n",
       "    </tr>\n",
       "    <tr>\n",
       "      <th>4</th>\n",
       "      <td>None</td>\n",
       "      <td>None</td>\n",
       "      <td>[Q9683]</td>\n",
       "      <td>[Q6581097]</td>\n",
       "      <td>985261661</td>\n",
       "      <td>None</td>\n",
       "      <td>None</td>\n",
       "      <td>None</td>\n",
       "      <td>None</td>\n",
       "      <td>None</td>\n",
       "      <td>Q45441565</td>\n",
       "      <td>Guan Zhen</td>\n",
       "      <td>None</td>\n",
       "      <td>item</td>\n",
       "      <td>None</td>\n",
       "    </tr>\n",
       "  </tbody>\n",
       "</table>\n",
       "</div>"
      ],
      "text/plain": [
       "  aliases date_of_birth nationality      gender   lastrevid ethnic_group  \\\n",
       "0    None          None        None  [Q6581097]   985453603         None   \n",
       "1    None          None     [Q9903]  [Q6581097]  1008699604         None   \n",
       "2    None          None     [Q9903]  [Q6581097]  1008699709         None   \n",
       "3    None          None     [Q9903]  [Q6581097]  1008699728         None   \n",
       "4    None          None     [Q9683]  [Q6581097]   985261661         None   \n",
       "\n",
       "  US_congress_bio_ID occupation party academic_degree         id      label  \\\n",
       "0               None       None  None            None  Q45441526    Cui Yan   \n",
       "1               None       None  None            None  Q45441555   Guo Ziyi   \n",
       "2               None       None  None            None  Q45441562  Wan Zikui   \n",
       "3               None       None  None            None  Q45441563    Lin Pei   \n",
       "4               None       None  None            None  Q45441565  Guan Zhen   \n",
       "\n",
       "  candidacy  type religion  \n",
       "0      None  item     None  \n",
       "1      None  item     None  \n",
       "2      None  item     None  \n",
       "3      None  item     None  \n",
       "4      None  item     None  "
      ]
     },
     "execution_count": 33,
     "metadata": {},
     "output_type": "execute_result"
    }
   ],
   "source": [
    "cleaned_wikidata.head()"
   ]
  },
  {
   "cell_type": "markdown",
   "metadata": {},
   "source": [
    "Now we want to remove rows where mandatory values for our study are missing like the name of the speaker and the gender."
   ]
  },
  {
   "cell_type": "code",
   "execution_count": 34,
   "metadata": {},
   "outputs": [
    {
     "name": "stdout",
     "output_type": "stream",
     "text": [
      "(8113215, 15)\n",
      "(6288640, 15)\n"
     ]
    }
   ],
   "source": [
    "cleaned_wikidata = cleaned_wikidata[~cleaned_wikidata.label.isin([None, \"None\"])]\n",
    "print(cleaned_wikidata.shape)\n",
    "cleaned_wikidata = cleaned_wikidata[~cleaned_wikidata.gender.isin([None, \"None\"])]\n",
    "print(cleaned_wikidata.shape)"
   ]
  },
  {
   "cell_type": "markdown",
   "metadata": {},
   "source": [
    "We see that there were 470.398 missing names of speakers and 1.824.575 missing speakers' genders. Our new cleaned data frame contains 6.288.640 speakers."
   ]
  },
  {
   "cell_type": "markdown",
   "metadata": {},
   "source": [
    "### 1.5 Exploratory Data Analysis of wikidata <a class = anchor id=\"1.5\"></a>"
   ]
  },
  {
   "cell_type": "markdown",
   "metadata": {},
   "source": [
    "We will now analyse the genders present in wikidata."
   ]
  },
  {
   "cell_type": "code",
   "execution_count": 35,
   "metadata": {},
   "outputs": [
    {
     "name": "stdout",
     "output_type": "stream",
     "text": [
      "There are 32 different unique genders in wikidata\n"
     ]
    },
    {
     "data": {
      "text/plain": [
       "array(['Q6581097', 'Q6581072', 'Q179294', 'Q1052281', 'Q48270',\n",
       "       'Q2449503', 'Q18116794', 'Q12964198', 'Q15145779', 'Q189125',\n",
       "       'Q859614', 'Q1097630', 'Q44148', 'Q1289754', 'Q301702',\n",
       "       'Q106299064', 'Q27679684', 'Q15145778', 'Q52261234', 'Q207959',\n",
       "       'Q505371', 'Q7130936', 'Q43445', 'Q96000630', 'Q27679766',\n",
       "       'Q1984232', 'Q93954933', 'Q746411', 'Q48279', 'Q3177577',\n",
       "       'Q1775415', 'Q6636'], dtype=object)"
      ]
     },
     "execution_count": 35,
     "metadata": {},
     "output_type": "execute_result"
    }
   ],
   "source": [
    "cleaned_wikidata['gender'] = cleaned_wikidata['gender'].apply(lambda x: x[0])\n",
    "print(\"There are {} different unique genders in wikidata\".format(cleaned_wikidata['gender'].unique().shape[0]))\n",
    "cleaned_wikidata['gender'].unique()"
   ]
  },
  {
   "cell_type": "markdown",
   "metadata": {},
   "source": [
    "Let's observe their distribution."
   ]
  },
  {
   "cell_type": "code",
   "execution_count": 36,
   "metadata": {},
   "outputs": [],
   "source": [
    "gender_dist = cleaned_wikidata.groupby('gender').size()\n",
    "gender_dist = gender_dist.div(gender_dist.sum(axis = 0), axis = 0)\n",
    "gender_dist.index = qid_label.loc[gender_dist.index].Label.values"
   ]
  },
  {
   "cell_type": "code",
   "execution_count": 45,
   "metadata": {},
   "outputs": [
    {
     "data": {
      "image/png": "[encoded data removed]",
      "text/plain": [
       "<Figure size 504x360 with 1 Axes>"
      ]
     },
     "metadata": {
      "needs_background": "light"
     },
     "output_type": "display_data"
    }
   ],
   "source": [
    "fig = plt.figure()\n",
    "gender_dist.plot(kind = 'bar', figsize = [7, 5],  color = [color_palette[2]])\n",
    "plt.xlabel('Genders')\n",
    "plt.ylabel('Speakers (log scale)')\n",
    "#plt.yscale('log')\n",
    "plt.title('Genders distribution of the speakers');"
   ]
  },
  {
   "cell_type": "code",
   "execution_count": 46,
   "metadata": {},
   "outputs": [],
   "source": [
    "html_str = mpld3.fig_to_html(fig)\n",
    "Html_file= open(\"Images/gender_dist_plot3.html\",\"w\")\n",
    "Html_file.write(html_str)\n",
    "Html_file.close()"
   ]
  },
  {
   "cell_type": "code",
   "execution_count": 48,
   "metadata": {
    "scrolled": false
   },
   "outputs": [],
   "source": [
    "import plotly.graph_objects as go"
   ]
  },
  {
   "cell_type": "code",
   "execution_count": 50,
   "metadata": {},
   "outputs": [
    {
     "data": {
      "image/png": "[encoded data removed]",
      "text/plain": [
       "<Figure size 504x360 with 1 Axes>"
      ]
     },
     "metadata": {
      "needs_background": "light"
     },
     "output_type": "display_data"
    }
   ],
   "source": [
    "'''fig = go.Figure()\n",
    "\n",
    "ax = gender_dist.plot(kind = 'bar', figsize = [7,5],  color = [color_palette[2]])\n",
    "ax.set_title('Genders distribution of the speakers')\n",
    "ax.set_ylabel('Speakers (log scale)')\n",
    "ax.set_xlabel('Genders')\n",
    "ax.set_yscale('log')\n",
    "plt.show()'''"
   ]
  },
  {
   "cell_type": "markdown",
   "metadata": {},
   "source": [
    "The image is saved."
   ]
  },
  {
   "cell_type": "code",
   "execution_count": 103,
   "metadata": {},
   "outputs": [],
   "source": [
    "'''fig.write_html(\"Images/gender_dist.html\")'''"
   ]
  },
  {
   "cell_type": "markdown",
   "metadata": {},
   "source": [
    "We see that there are 31 genders present in wikidata. Let's now print those genders."
   ]
  },
  {
   "cell_type": "code",
   "execution_count": 21,
   "metadata": {},
   "outputs": [
    {
     "data": {
      "text/html": [
       "<div>\n",
       "<style scoped>\n",
       "    .dataframe tbody tr th:only-of-type {\n",
       "        vertical-align: middle;\n",
       "    }\n",
       "\n",
       "    .dataframe tbody tr th {\n",
       "        vertical-align: top;\n",
       "    }\n",
       "\n",
       "    .dataframe thead th {\n",
       "        text-align: right;\n",
       "    }\n",
       "</style>\n",
       "<table border=\"1\" class=\"dataframe\">\n",
       "  <thead>\n",
       "    <tr style=\"text-align: right;\">\n",
       "      <th></th>\n",
       "      <th>Label</th>\n",
       "      <th>Description</th>\n",
       "    </tr>\n",
       "    <tr>\n",
       "      <th>QID</th>\n",
       "      <th></th>\n",
       "      <th></th>\n",
       "    </tr>\n",
       "  </thead>\n",
       "  <tbody>\n",
       "    <tr>\n",
       "      <th>Q6581097</th>\n",
       "      <td>male</td>\n",
       "      <td>to be used in \"sex or gender\" (P21) to indicat...</td>\n",
       "    </tr>\n",
       "    <tr>\n",
       "      <th>Q6581072</th>\n",
       "      <td>female</td>\n",
       "      <td>to be used in \"sex or gender\" (P21) to indicat...</td>\n",
       "    </tr>\n",
       "    <tr>\n",
       "      <th>Q179294</th>\n",
       "      <td>eunuch</td>\n",
       "      <td>castrated male human</td>\n",
       "    </tr>\n",
       "    <tr>\n",
       "      <th>Q1052281</th>\n",
       "      <td>transgender female</td>\n",
       "      <td>female person who was assigned a different gen...</td>\n",
       "    </tr>\n",
       "    <tr>\n",
       "      <th>Q48270</th>\n",
       "      <td>non-binary</td>\n",
       "      <td>range of gender identities that are not exclus...</td>\n",
       "    </tr>\n",
       "    <tr>\n",
       "      <th>Q2449503</th>\n",
       "      <td>transgender male</td>\n",
       "      <td>person assigned to the female sex at birth who...</td>\n",
       "    </tr>\n",
       "    <tr>\n",
       "      <th>Q18116794</th>\n",
       "      <td>genderfluid</td>\n",
       "      <td>gender identity which doesn't conform to fixed...</td>\n",
       "    </tr>\n",
       "    <tr>\n",
       "      <th>Q12964198</th>\n",
       "      <td>genderqueer</td>\n",
       "      <td>range of gender identities that are not exclus...</td>\n",
       "    </tr>\n",
       "    <tr>\n",
       "      <th>Q15145779</th>\n",
       "      <td>cisgender female</td>\n",
       "      <td>female person who was assigned female at birth</td>\n",
       "    </tr>\n",
       "    <tr>\n",
       "      <th>Q189125</th>\n",
       "      <td>transgender person</td>\n",
       "      <td>person whose gender identity is different from...</td>\n",
       "    </tr>\n",
       "    <tr>\n",
       "      <th>Q859614</th>\n",
       "      <td>bigender</td>\n",
       "      <td>gender identity that includes any two gender i...</td>\n",
       "    </tr>\n",
       "    <tr>\n",
       "      <th>Q1097630</th>\n",
       "      <td>intersex</td>\n",
       "      <td>innate variations in sex characteristics such ...</td>\n",
       "    </tr>\n",
       "    <tr>\n",
       "      <th>Q44148</th>\n",
       "      <td>male organism</td>\n",
       "      <td>for use with plants or non-human animals; use ...</td>\n",
       "    </tr>\n",
       "    <tr>\n",
       "      <th>Q1289754</th>\n",
       "      <td>neutrois</td>\n",
       "      <td>non-binary gender identity</td>\n",
       "    </tr>\n",
       "    <tr>\n",
       "      <th>Q301702</th>\n",
       "      <td>two-spirit</td>\n",
       "      <td>umbrella term for the third gender in the indi...</td>\n",
       "    </tr>\n",
       "    <tr>\n",
       "      <th>Q106299064</th>\n",
       "      <td>Erkek</td>\n",
       "      <td>family name</td>\n",
       "    </tr>\n",
       "    <tr>\n",
       "      <th>Q27679684</th>\n",
       "      <td>transfeminine</td>\n",
       "      <td>gender of individuals who were assigned male a...</td>\n",
       "    </tr>\n",
       "    <tr>\n",
       "      <th>Q15145778</th>\n",
       "      <td>cisgender male</td>\n",
       "      <td>male person who was assigned male at birth</td>\n",
       "    </tr>\n",
       "    <tr>\n",
       "      <th>Q52261234</th>\n",
       "      <td>neutral sex</td>\n",
       "      <td>human who has neutral sex (use with Property:P...</td>\n",
       "    </tr>\n",
       "    <tr>\n",
       "      <th>Q207959</th>\n",
       "      <td>androgyny</td>\n",
       "      <td>combination of male and female traits</td>\n",
       "    </tr>\n",
       "    <tr>\n",
       "      <th>Q505371</th>\n",
       "      <td>agender</td>\n",
       "      <td>absence of a gender identity</td>\n",
       "    </tr>\n",
       "    <tr>\n",
       "      <th>Q7130936</th>\n",
       "      <td>pangender</td>\n",
       "      <td>non-binary gender defined as being more than o...</td>\n",
       "    </tr>\n",
       "    <tr>\n",
       "      <th>Q43445</th>\n",
       "      <td>female organism</td>\n",
       "      <td>plant or animal which is female</td>\n",
       "    </tr>\n",
       "    <tr>\n",
       "      <th>Q96000630</th>\n",
       "      <td>X-gender</td>\n",
       "      <td>a third gender or non-binary gender identity t...</td>\n",
       "    </tr>\n",
       "    <tr>\n",
       "      <th>Q27679766</th>\n",
       "      <td>transmasculine</td>\n",
       "      <td>gender of individuals who were assigned female...</td>\n",
       "    </tr>\n",
       "    <tr>\n",
       "      <th>Q1984232</th>\n",
       "      <td>shemale</td>\n",
       "      <td>term primarily used in sex work to describe a ...</td>\n",
       "    </tr>\n",
       "    <tr>\n",
       "      <th>Q93954933</th>\n",
       "      <td>demiboy</td>\n",
       "      <td>gender identity where a person identifies as o...</td>\n",
       "    </tr>\n",
       "    <tr>\n",
       "      <th>Q746411</th>\n",
       "      <td>kathoey</td>\n",
       "      <td>third gender in Thai culture, usually transgen...</td>\n",
       "    </tr>\n",
       "    <tr>\n",
       "      <th>Q48279</th>\n",
       "      <td>third gender</td>\n",
       "      <td>set of gender identities that are not exclusiv...</td>\n",
       "    </tr>\n",
       "    <tr>\n",
       "      <th>Q3177577</th>\n",
       "      <td>muxe</td>\n",
       "      <td>Zapotec gender identity, often regarded as tra...</td>\n",
       "    </tr>\n",
       "    <tr>\n",
       "      <th>Q1775415</th>\n",
       "      <td>feminine</td>\n",
       "      <td>grammatical gender</td>\n",
       "    </tr>\n",
       "    <tr>\n",
       "      <th>Q6636</th>\n",
       "      <td>homosexuality</td>\n",
       "      <td>romantic or sexual attraction or behavior betw...</td>\n",
       "    </tr>\n",
       "  </tbody>\n",
       "</table>\n",
       "</div>"
      ],
      "text/plain": [
       "                         Label  \\\n",
       "QID                              \n",
       "Q6581097                  male   \n",
       "Q6581072                female   \n",
       "Q179294                 eunuch   \n",
       "Q1052281    transgender female   \n",
       "Q48270              non-binary   \n",
       "Q2449503      transgender male   \n",
       "Q18116794          genderfluid   \n",
       "Q12964198          genderqueer   \n",
       "Q15145779     cisgender female   \n",
       "Q189125     transgender person   \n",
       "Q859614               bigender   \n",
       "Q1097630              intersex   \n",
       "Q44148           male organism   \n",
       "Q1289754              neutrois   \n",
       "Q301702             two-spirit   \n",
       "Q106299064               Erkek   \n",
       "Q27679684        transfeminine   \n",
       "Q15145778       cisgender male   \n",
       "Q52261234          neutral sex   \n",
       "Q207959              androgyny   \n",
       "Q505371                agender   \n",
       "Q7130936             pangender   \n",
       "Q43445         female organism   \n",
       "Q96000630             X-gender   \n",
       "Q27679766       transmasculine   \n",
       "Q1984232               shemale   \n",
       "Q93954933              demiboy   \n",
       "Q746411                kathoey   \n",
       "Q48279            third gender   \n",
       "Q3177577                  muxe   \n",
       "Q1775415              feminine   \n",
       "Q6636            homosexuality   \n",
       "\n",
       "                                                  Description  \n",
       "QID                                                            \n",
       "Q6581097    to be used in \"sex or gender\" (P21) to indicat...  \n",
       "Q6581072    to be used in \"sex or gender\" (P21) to indicat...  \n",
       "Q179294                                  castrated male human  \n",
       "Q1052281    female person who was assigned a different gen...  \n",
       "Q48270      range of gender identities that are not exclus...  \n",
       "Q2449503    person assigned to the female sex at birth who...  \n",
       "Q18116794   gender identity which doesn't conform to fixed...  \n",
       "Q12964198   range of gender identities that are not exclus...  \n",
       "Q15145779      female person who was assigned female at birth  \n",
       "Q189125     person whose gender identity is different from...  \n",
       "Q859614     gender identity that includes any two gender i...  \n",
       "Q1097630    innate variations in sex characteristics such ...  \n",
       "Q44148      for use with plants or non-human animals; use ...  \n",
       "Q1289754                           non-binary gender identity  \n",
       "Q301702     umbrella term for the third gender in the indi...  \n",
       "Q106299064                                        family name  \n",
       "Q27679684   gender of individuals who were assigned male a...  \n",
       "Q15145778          male person who was assigned male at birth  \n",
       "Q52261234   human who has neutral sex (use with Property:P...  \n",
       "Q207959                 combination of male and female traits  \n",
       "Q505371                          absence of a gender identity  \n",
       "Q7130936    non-binary gender defined as being more than o...  \n",
       "Q43445                        plant or animal which is female  \n",
       "Q96000630   a third gender or non-binary gender identity t...  \n",
       "Q27679766   gender of individuals who were assigned female...  \n",
       "Q1984232    term primarily used in sex work to describe a ...  \n",
       "Q93954933   gender identity where a person identifies as o...  \n",
       "Q746411     third gender in Thai culture, usually transgen...  \n",
       "Q48279      set of gender identities that are not exclusiv...  \n",
       "Q3177577    Zapotec gender identity, often regarded as tra...  \n",
       "Q1775415                                   grammatical gender  \n",
       "Q6636       romantic or sexual attraction or behavior betw...  "
      ]
     },
     "execution_count": 21,
     "metadata": {},
     "output_type": "execute_result"
    }
   ],
   "source": [
    "qid_label.loc[cleaned_wikidata['gender'].unique()]"
   ]
  },
  {
   "cell_type": "markdown",
   "metadata": {},
   "source": [
    "We define the male and female genders for further analysis."
   ]
  },
  {
   "cell_type": "code",
   "execution_count": 67,
   "metadata": {},
   "outputs": [],
   "source": [
    "male_label = \"Q6581097\"\n",
    "female_label= \"Q6581072\""
   ]
  },
  {
   "cell_type": "markdown",
   "metadata": {},
   "source": [
    "Let's compute the proportion of non-male and non-female genders."
   ]
  },
  {
   "cell_type": "code",
   "execution_count": 23,
   "metadata": {},
   "outputs": [
    {
     "data": {
      "text/plain": [
       "0.0002668303480561776"
      ]
     },
     "execution_count": 23,
     "metadata": {},
     "output_type": "execute_result"
    }
   ],
   "source": [
    "gender_dist[(gender_dist.index != male_label) & (gender_dist.index != female_label)].sum()"
   ]
  },
  {
   "cell_type": "markdown",
   "metadata": {},
   "source": [
    "We can see that less than 0.03% of the data is neither considered a male or a female. For simplicity in our study we will ignore those cases."
   ]
  },
  {
   "cell_type": "code",
   "execution_count": 85,
   "metadata": {},
   "outputs": [],
   "source": [
    "cleaned_wikidata = cleaned_wikidata[cleaned_wikidata.gender.isin([male_label, female_label])]"
   ]
  },
  {
   "cell_type": "markdown",
   "metadata": {},
   "source": [
    "We know creates an occupation data frame where everyone's occupation is known (not `None`)."
   ]
  },
  {
   "cell_type": "code",
   "execution_count": 25,
   "metadata": {},
   "outputs": [],
   "source": [
    "\"\"\"Only intented to be run once \n",
    "wiki_occupation = cleaned_wikidata[~cleaned_wikidata['occupation'].isin([None])]\"\"\";"
   ]
  },
  {
   "cell_type": "markdown",
   "metadata": {},
   "source": [
    "Then, we create a complete data frame where occupation, religion, nationality, ethnic_group and academic_degree are known for every speaker in the dataset."
   ]
  },
  {
   "cell_type": "code",
   "execution_count": 26,
   "metadata": {},
   "outputs": [],
   "source": [
    "\"\"\" Only intented to be run once \n",
    "wiki_background = wiki_occupation[~(wiki_occupation['religion'].isin([None, \"None\"]) & \n",
    "                        wiki_occupation['nationality'].isin([None, \"None\"]) &\n",
    "                        wiki_occupation['ethnic_group'].isin([None, \"None\"]) & \n",
    "                        wiki_occupation['academic_degree'].isin([None, \"None\"]))]\"\"\";"
   ]
  },
  {
   "cell_type": "markdown",
   "metadata": {},
   "source": [
    "We save those data frames as pickle for further analysis. We already ran the following cell and the files can be found in \"Data\"."
   ]
  },
  {
   "cell_type": "code",
   "execution_count": 27,
   "metadata": {},
   "outputs": [],
   "source": [
    "\"\"\" Only intented to be run once \n",
    "wiki_occupation.to_pickle(DATA_PATH + \"wiki_occupation.pck\")\n",
    "wiki_background.to_pickle(DATA_PATH + \"wiki_background.pck\")\"\"\";"
   ]
  },
  {
   "cell_type": "markdown",
   "metadata": {},
   "source": [
    "Now that all the pre-processing is done, we can start our analysis. "
   ]
  },
  {
   "cell_type": "markdown",
   "metadata": {
    "tags": []
   },
   "source": [
    "## 2.  Creation of our sub data frames <a class = anchor id=\"dataframes\"></a>"
   ]
  },
  {
   "cell_type": "markdown",
   "metadata": {},
   "source": [
    "First, we will focus on the initial matter, being to what extent we can observe the differences in communicative acts in relation to gender within a professional area and whether there are noticeable differences between those professional areas."
   ]
  },
  {
   "cell_type": "markdown",
   "metadata": {},
   "source": [
    "### Imports <a class = anchor id=\"2imports\"></a>"
   ]
  },
  {
   "cell_type": "markdown",
   "metadata": {},
   "source": [
    "First we import Empath, a tool for analyzing text across lexical categories."
   ]
  },
  {
   "cell_type": "code",
   "execution_count": 28,
   "metadata": {},
   "outputs": [],
   "source": [
    "from empath import Empath"
   ]
  },
  {
   "cell_type": "markdown",
   "metadata": {},
   "source": [
    "### Functions <a class = anchor id=\"2functions\"></a>"
   ]
  },
  {
   "cell_type": "markdown",
   "metadata": {},
   "source": [
    "Let's define the functions needed for this part."
   ]
  },
  {
   "cell_type": "code",
   "execution_count": 29,
   "metadata": {},
   "outputs": [],
   "source": [
    "def add_columns(column, target, init_df, name_column):\n",
    "    \"\"\"\n",
    "    Checks if a target ('politician', 'male', 'female' etc...) is in a certain column.\n",
    "    If it is, we return True in an additional column (name_column).\n",
    "    Inputs:\n",
    "        * column : name of column to search for target\n",
    "        * target : item of interest \n",
    "        * init_df : initial data frame\n",
    "        * name_column : name of new column of booleans\n",
    "    Output:\n",
    "        * final_df : dataframe with new column and only rows which contains the item\n",
    "    \"\"\"\n",
    "    final_df = init_df.copy(deep = True)\n",
    "    final_df[name_column] = final_df[column].apply(lambda x: np.any(x) in target)\n",
    "    return final_df\n",
    "\n",
    "def extracting_sub_df(quotebank, wikidata, column):\n",
    "    \"\"\"\n",
    "    Creates a sub dataframe with information from quotebank and wikidata.\n",
    "    We only take the rows in column which are True.\n",
    "    Inputs:\n",
    "        * quotebank : data frame extracted from quotebank\n",
    "        * wikidata : data frame extracted from wikidata\n",
    "        * column : column on which we base the merge\n",
    "    Output:\n",
    "        * sub_df : merged dataframe \n",
    "    \"\"\"\n",
    "    merged_df = pd.merge(quotebank, wikidata, left_on = 'speaker', right_on = 'label')\n",
    "    merged_df['qids'] = merged_df['qids'].apply(lambda x : x[0])\n",
    "    merged_df = merged_df[merged_df['qids'] == merged_df['id']]\n",
    "    sub_df = merged_df[merged_df[column] == True]\n",
    "    return sub_df\n",
    "\n",
    "def clean_quotebank(df):\n",
    "    \"\"\" \n",
    "    Cleans quotebank dataset by droping quotes from unknown speakers and\n",
    "    quotes where the speaker is uncertain (p < 0.5).\n",
    "    Input:\n",
    "        * df : quotebank data frame to clean  \n",
    "    Output:\n",
    "        * df_copy : cleaned data frame\n",
    "    \"\"\" \n",
    "    df_copy = df.copy(deep = True)\n",
    "    df_copy = df_copy[~df_copy.speaker.isin(['None', None])]\n",
    "    df_copy =  df_copy[df_copy['probas'].apply(lambda x: x[0][1]).values.astype(float) > 0.5]\n",
    "    return df_copy \n",
    "\n",
    "def create_df_with_conditions(column, conditions, wikidata, columns_temp, start, stop):\n",
    "    \"\"\"\n",
    "    From quotebank data, extracts and returns a data frame with only the rows that respect the condition.\n",
    "    Inputs:\n",
    "        * column : name of column where the condition is applied\n",
    "        * conditions : conditions of interest \n",
    "        * wikidata : wiki database\n",
    "        * columns_temp : name of new columns of booleans\n",
    "    Output:\n",
    "        * sub_df : data frame with only rows which contains the item\n",
    "    \"\"\"\n",
    "    wiki_plus = wikidata.copy(deep = True)\n",
    "    for j in range(len(conditions)):\n",
    "        wiki_plus = add_columns(column, conditions[j], wiki_plus, columns_temp[j])\n",
    "\n",
    "    sub_df = {}\n",
    "    for g in range(len(columns_temp)):\n",
    "        sub_df[str(g)] = pd.DataFrame()\n",
    "    for i in range(start,stop):\n",
    "        DATA_FILE = 'quotes-20{}.json.bz2'.format(i)\n",
    "        with pd.read_json(DATA_PATH + DATA_FILE, lines = True, compression ='bz2', chunksize = 100000) as df_reader:\n",
    "            for chunk in df_reader:\n",
    "                for k in range(len(columns_temp)):\n",
    "                    sub_df[str(k)] = pd.concat([sub_df[str(k)], extracting_sub_df(clean_quotebank(chunk),\n",
    "                                                                                  wiki_plus, columns_temp[k])])\n",
    "    \n",
    "    for l in range(len(columns_temp)):\n",
    "        sub_df[str(l)] = sub_df[str(l)].drop(columns_temp, axis = 1)\n",
    "\n",
    "    return sub_df['0'], sub_df['1'], sub_df['2'], sub_df['3']\n",
    "\n",
    "def merging(quotebank, wikidata):\n",
    "    \"\"\"\n",
    "    Creates a sub dataframe with information from quotebank and wikidata.\n",
    "    Inputs:\n",
    "        * quotebank : data frame extracted from quotebank\n",
    "        * wikidata : data frame extracted from wikidata\n",
    "    Output:\n",
    "        * sub_df : merged data frame \n",
    "    \"\"\"\n",
    "    merged_df = pd.merge(quotebank, wikidata, left_on = 'speaker', right_on = 'label')\n",
    "    merged_df['qids'] = merged_df['qids'].apply(lambda x : x[0])\n",
    "    merged_df = merged_df[merged_df['qids'] == merged_df['id']]\n",
    "    return merged_df\n",
    "\n",
    "def create_df(wikidata, start, stop):\n",
    "    \"\"\"\n",
    "    From quotebank data, extracts and returns a data frame with only the rows where all informations are present.\n",
    "    Inputs:\n",
    "        * wikidata : wiki database\n",
    "        * start : years of beginning, for example 15 for 2015. Have to be between 15 and 21\n",
    "        * stop : years of end + 1, for example 16 if you only want 2015. Have to be between 15 and 21\n",
    "    Output:\n",
    "        * sub_df : data frame only the rows that have all the information of interest (without 'None')\n",
    "    \"\"\"\n",
    "    sub_df = pd.DataFrame()\n",
    "    for i in range(start, stop):\n",
    "        DATA_FILE = 'quotes-20{}.json.bz2'.format(i)\n",
    "        with pd.read_json(DATA_PATH + DATA_FILE, lines = True, compression ='bz2', chunksize = 100000) as df_reader:\n",
    "            for chunk in df_reader:\n",
    "                new_chunk = chunk.sample(n = 10000, random_state = seed)\n",
    "                sub_df = pd.concat([sub_df, merging(clean_quotebank(new_chunk), wikidata)])\n",
    "    return sub_df\n",
    "\n",
    "def return_english_df(df):\n",
    "    \"\"\"\n",
    "    Returns a data frame containing the rows of data frame if the quote is in English.\n",
    "    Input:\n",
    "        * df : data frame with quotes in all languages\n",
    "    Output:\n",
    "        * english : data frame with only English quotes \n",
    "    \"\"\"\n",
    "    english = df.copy(deep = True)\n",
    "    english['language'] = english['quotation'].apply(det)\n",
    "    english = english[english['language'] == 'en']\n",
    "    english.drop('language', axis = 1)\n",
    "    return english"
   ]
  },
  {
   "cell_type": "markdown",
   "metadata": {},
   "source": [
    "### 2.1 Creation of professional fields <a class = anchor id=\"2.1\"></a>"
   ]
  },
  {
   "cell_type": "markdown",
   "metadata": {},
   "source": [
    "Let's create data frames with different fields of professions to compare quotations of men and women without the bias of the professional background. To do that, we start by choosing four professional fields: arts, science, economy and politics. We then create our lists of professions related to each field. For this, we use the `occupation` list from Empath, as well as other intuitive professions we felt relevant to complement it with. We then manually assign each profession/occupation to a professional field, after checking its presence and relevance in `qid_label`."
   ]
  },
  {
   "cell_type": "code",
   "execution_count": 30,
   "metadata": {},
   "outputs": [
    {
     "data": {
      "text/plain": [
       "['banker',\n",
       " 'nurse',\n",
       " 'waitress',\n",
       " 'entertainer',\n",
       " 'professional',\n",
       " 'businesswoman',\n",
       " 'chemist',\n",
       " 'hairdresser',\n",
       " 'employment',\n",
       " 'businessman',\n",
       " 'executive',\n",
       " 'service',\n",
       " 'detective',\n",
       " 'hostess',\n",
       " 'technician']"
      ]
     },
     "execution_count": 30,
     "metadata": {},
     "output_type": "execute_result"
    }
   ],
   "source": [
    "lexicon = Empath()\n",
    "lexicon.cats[\"occupation\"][:15]"
   ]
  },
  {
   "cell_type": "code",
   "execution_count": 31,
   "metadata": {
    "tags": []
   },
   "outputs": [],
   "source": [
    "art_professions = qid_label[qid_label['Label'].str.contains('cineast|painter|musician|sculpter|architect|dancer| \\\n",
    "        philosoph|writer|actor|actress|choreographer|music interpreter|singer|photographer|entertainer', na = False)]\n",
    "\n",
    "scientific_professions = qid_label[qid_label['Label'].str.contains('scientific|researcher|mathematician|doctor| \\\n",
    "        astronomist|biologist|chemist|physicist|physician|psychologist|engineer|anatomist|neurologist| \\\n",
    "        pediatrician|veterinarian|pharmacist|obstetrician|gynecologist|therapist|dentist|surgeon|nurse| \\\n",
    "        psychiatrist|Scientific', na = False)]\n",
    "\n",
    "economic_professions = qid_label[qid_label['Label'].str.contains('economist|banke|financ|CEO|CTO|chairman|auditor| \\\n",
    "        stockbroker|insurer|business manager|retail merchandizer|pricing analyst|statistician|financial consultant| \\\n",
    "        salesperson|risk analyst|Data analyst|accountant|economic researcher|Investm|actuary', na = False)]\n",
    "\n",
    "political_professions = qid_label[qid_label['Label'].str.contains('politician|president|minister|government \\\n",
    "        accountant General', na = False)]"
   ]
  },
  {
   "cell_type": "markdown",
   "metadata": {},
   "source": [
    "### 2.2 Creation of sub-dataframes  <a class = anchor id=\"2.2\"></a>"
   ]
  },
  {
   "cell_type": "markdown",
   "metadata": {},
   "source": [
    "To create the sub data frames, we need to read the pickle files that we previously saved. Still, the creation and saving of our sub pickle files is already done and those files can be found in \"Data\"."
   ]
  },
  {
   "cell_type": "code",
   "execution_count": 32,
   "metadata": {},
   "outputs": [],
   "source": [
    "\"\"\" Only intented to be run once\n",
    "wiki_occupation = pd.read_pickle(DATA_PATH + \"wiki_occupation.pck\")\n",
    "wiki_background = pd.read_pickle(DATA_PATH + \"wiki_background.pck\")\"\"\";"
   ]
  },
  {
   "cell_type": "markdown",
   "metadata": {},
   "source": [
    "#### Creation of sub-dataframes per professions (from 2015 to 2020)"
   ]
  },
  {
   "cell_type": "markdown",
   "metadata": {},
   "source": [
    "We now want to combine the information of the speakers from wikidata with our professional fields to create data frames of specific speakers' professions."
   ]
  },
  {
   "cell_type": "code",
   "execution_count": 33,
   "metadata": {},
   "outputs": [],
   "source": [
    "\"\"\" Only intented to be run once \n",
    "df_per_year = {}\n",
    "conditions = [political_professions.index, art_professions.index, scientific_professions.index, \\\n",
    "                                                                                        economic_professions.index]\n",
    "columns = ['ispolitician', 'isartist', 'isscientist','iseconomist']\n",
    "for i in range(15,21):\n",
    "    df_per_year['df_politicians_20' + str(i)], df_per_year['df_artists_20' + str(i)], \\\n",
    "            df_per_year['df_scientists_20' + str(i)], df_per_year['df_economists_20' + str(i)] = \\\n",
    "                        create_df_with_conditions('occupation', conditions, wiki_occupation, columns, i, i + 1)\"\"\";\n"
   ]
  },
  {
   "cell_type": "markdown",
   "metadata": {},
   "source": [
    "#### Creation of a general background sub-dataframes (from 2015 to 2020)"
   ]
  },
  {
   "cell_type": "markdown",
   "metadata": {},
   "source": [
    "We now create our data frame from the more precise wikidata where the `occupation`, `religion`, `nationality`, `ethnic_group` and `academic_degree` are known for every speaker in the dataset."
   ]
  },
  {
   "cell_type": "code",
   "execution_count": 34,
   "metadata": {},
   "outputs": [],
   "source": [
    "\"\"\" Only intented to be run once\n",
    "df_no_conditions_per_year = {}\n",
    "for i in range(15,21):\n",
    "    df_no_conditions_per_year['20' + str(i)] = create_df(wiki_background, i, i + 1)\"\"\";"
   ]
  },
  {
   "cell_type": "markdown",
   "metadata": {},
   "source": [
    "### 2.3 Creation of Data Frames with English Quotes only <a class = anchor id=\"2.3\"></a>"
   ]
  },
  {
   "cell_type": "code",
   "execution_count": 36,
   "metadata": {},
   "outputs": [],
   "source": [
    "\"\"\"Only intended to be run once\n",
    "df_english = {}\n",
    "for i in range(15, 21):\n",
    "    df_english['df_politicians_english_20' + str(i)] = return_english_df(df_per_year['df_politicians_20' + str(i)])\n",
    "    df_english['df_artists_english_20' + str(i)] = return_english_df(df_per_year['df_artists_20' + str(i)])\n",
    "    df_english['df_scientists_english_20' + str(i)] = return_english_df(df_per_year['df_scientists_20' + str(i)])\n",
    "    df_english['df_economists_english_20' + str(i)] = return_english_df(df_per_year['df_economists_20' + str(i)])\n",
    "    df_english['df_no_conditions_20' + str(i)] = return_english_df(df_no_conditions_per_year['20' + str(i)])\"\"\";"
   ]
  },
  {
   "cell_type": "markdown",
   "metadata": {},
   "source": [
    "### 2.4 Saving of all sub data frames <a class = anchor id=\"2.4\"></a>"
   ]
  },
  {
   "cell_type": "markdown",
   "metadata": {},
   "source": [
    "Finally, we generate pickle files where we store all the english quotations of both genders with the same professional field, from 2015 to 2020, as well as the files containing the speakers with more background information (ex : \"df_no_conditions_2020.pck\"). As mentioned above, the saving is already done and the files can be found in \"Data\"."
   ]
  },
  {
   "cell_type": "markdown",
   "metadata": {},
   "source": [
    "#### Saving of sub-dataframes per professions and general background sub-dataframes (from 2015 to 2020)"
   ]
  },
  {
   "cell_type": "code",
   "execution_count": null,
   "metadata": {},
   "outputs": [],
   "source": [
    "\"\"\" Only intented to be run once\n",
    "for i in range(15, 21):\n",
    "    df_english['df_politicians_english_20' + str(i)].to_pickle(DATA_PATH + \"politicians_english_20\" + str(i) + \".pck\")\n",
    "    df_english['df_artists_english_20' + str(i)].to_pickle(DATA_PATH + \"artists_english_20\" + str(i) + \".pck\")\n",
    "    df_english['df_scientists_english_20' + str(i)].to_pickle(DATA_PATH + \"scientists_english_20\" + str(i) + \".pck\")\n",
    "    df_english['df_economists_english_20' + str(i)].to_pickle(DATA_PATH + \"economists_english_20\" + str(i) + \".pck\")\n",
    "    df_english['df_no_conditions_20' + str(i)].to_pickle(DATA_PATH + \"df_no_conditions_english_20\" + str(i) + \".pck\")\n",
    "    \"\"\";"
   ]
  },
  {
   "cell_type": "markdown",
   "metadata": {},
   "source": [
    "Our specific data frames are now saved and ready for the classification."
   ]
  },
  {
   "cell_type": "markdown",
   "metadata": {},
   "source": [
    "## 3. Classification of the quotes <a class = anchor id=\"classifier\"></a>"
   ]
  },
  {
   "cell_type": "markdown",
   "metadata": {},
   "source": [
    "To distinguish between uncertain and certain quotations, we use the uncertainty detection classifier from the following paper \"P. A. Jean, S. Harispe, S. Ranwez, P. Bellot, and J. Montmain, “[Uncertainty detection in natural language: A probabilistic model](https://www.researchgate.net/publication/303842922)” ACM Int. Conf. Proceeding Ser., vol. 13-15-June, no. June, 2016, doi: 10.1145/2912845.2912873\". Its public git repository is: https://github.com/PAJEAN/uncertaintyDetection.\n",
    "\n",
    "Uncertainty is defined by speculative verbs (like suggest or presume), adjectives and adverbs (like probably, possibly), auxiliary verbs (must, should) or the use of some tense or modes of conjugation (subjunctive, conditional). This classifier is an automatic machine learning method to detect uncertainty in natural language. It is inspired by binary classification methods, and is based on an optimal features’ selection. This classifier has as learning ground three corpora: Bioscope (a corpus in the biomedical domain containing 1.871 sentences), WikiWeasel (a generic corpus composed of paragraphs extracted from Wikipedia) and SFU (17.263 sentences extracted from various resources (movies, books, etc.)). Here, we only use SFU to train our classifier. In milestone 3, we will try do have a more optimal classifier by training it using the three training sets. From the set of extracted features, a vectorial representation is then defined for each sentence. The most certain and uncertain sentences are then extracted from the our test data.\n",
    "\n",
    "Still, as this classifier was created 6 years ago, it only runs on python2. As we are using python3, we modified it to run for our project. We describe below how to run it."
   ]
  },
  {
   "cell_type": "markdown",
   "metadata": {},
   "source": [
    "### Pathways <a class = anchor id=\"3pathways\"></a>"
   ]
  },
  {
   "cell_type": "markdown",
   "metadata": {},
   "source": [
    "As already mentionned in the [1. Pre-processing of the data](#pre-processing), the data folder \"txt_files\" must be downloaded and added in the same directory as this notebook."
   ]
  },
  {
   "cell_type": "code",
   "execution_count": 75,
   "metadata": {
    "tags": []
   },
   "outputs": [],
   "source": [
    "PATH_TXT = 'txt_files/'"
   ]
  },
  {
   "cell_type": "markdown",
   "metadata": {},
   "source": [
    "### Functions <a class = anchor id=\"3functions\"></a>"
   ]
  },
  {
   "cell_type": "code",
   "execution_count": 39,
   "metadata": {},
   "outputs": [],
   "source": [
    "def quotes_to_txt(file_name, df):\n",
    "    \"\"\"\n",
    "    Changes quotes dataframe to a text file.\n",
    "    Inputs:\n",
    "        * file_name : text name\n",
    "        * df : dataframe to convert\n",
    "    \"\"\"\n",
    "    quotes = df.quotation.astype(str)\n",
    "    with open(file_name, \"w\", encoding = \"utf-8\") as f:\n",
    "        for ind, quote in enumerate(quotes):\n",
    "            f.write(str(ind) + \" \" + quote + \"\\n\")\n",
    "    f.close()"
   ]
  },
  {
   "cell_type": "markdown",
   "metadata": {},
   "source": [
    "### 3.1 Reading of all sub data frames <a class = anchor id=\"3.1\"></a>"
   ]
  },
  {
   "cell_type": "markdown",
   "metadata": {},
   "source": [
    "We start by reading our sub data frames."
   ]
  },
  {
   "cell_type": "markdown",
   "metadata": {},
   "source": [
    "#### Sub data frames per professions"
   ]
  },
  {
   "cell_type": "markdown",
   "metadata": {},
   "source": [
    "We start by creating a dictionnary containing the data frames of all the professions per year (`df_per_year`)."
   ]
  },
  {
   "cell_type": "code",
   "execution_count": 52,
   "metadata": {},
   "outputs": [],
   "source": [
    "df_per_year = {}\n",
    "for i in range(20, 21): #(15, 21)\n",
    "    df_per_year['df_politicians_20' + str(i)] = pd.read_pickle(DATA_PATH + \"politicians_english_20\" + str(i) + \".pck\")\n",
    "    df_per_year['df_artists_20' + str(i)] = pd.read_pickle(DATA_PATH + \"artists_english_20\" + str(i) + \".pck\")\n",
    "    df_per_year['df_scientists_20' + str(i)] = pd.read_pickle(DATA_PATH + \"scientists_english_20\" + str(i) + \".pck\")\n",
    "    df_per_year['df_economists_20' + str(i)] = pd.read_pickle(DATA_PATH + \"economists_english_20\" + str(i) + \".pck\")"
   ]
  },
  {
   "cell_type": "markdown",
   "metadata": {},
   "source": [
    "#### Sub data frame with no conditions on profession"
   ]
  },
  {
   "cell_type": "markdown",
   "metadata": {},
   "source": [
    "We now create a dictionnary containing the data frames of background information of the speakers per year (`df_no_conditions_per_year`)."
   ]
  },
  {
   "cell_type": "code",
   "execution_count": 53,
   "metadata": {},
   "outputs": [],
   "source": [
    "df_no_conditions_per_year = {}\n",
    "for i in range(20, 21): #(15, 21)\n",
    "    df_no_conditions_per_year['20' + str(i)] = pd.read_pickle(DATA_PATH + \\\n",
    "                                                    \"df_no_conditions_english_20\" + str(i) + \".pck\")"
   ]
  },
  {
   "cell_type": "markdown",
   "metadata": {},
   "source": [
    "### 3.2 Creation of the text files <a class = anchor id=\"3.2\"></a>"
   ]
  },
  {
   "cell_type": "markdown",
   "metadata": {},
   "source": [
    "#### Sub data frames per professions"
   ]
  },
  {
   "cell_type": "markdown",
   "metadata": {},
   "source": [
    "To be able to run the classifier, we first need to create txt files with all the quotes and their indices for each professional field."
   ]
  },
  {
   "cell_type": "code",
   "execution_count": 43,
   "metadata": {},
   "outputs": [],
   "source": [
    "\"\"\" Only intented to be run once\n",
    "for i in range(15,21):\n",
    "    quotes_to_txt(PATH_TXT + \"politicians_20\" + str(i)+ \".txt\", df_per_year['df_politicians_20' + str(i)])\n",
    "    quotes_to_txt(PATH_TXT + \"artists_20\" + str(i)+ \".txt\", df_per_year['df_artists_20' + str(i)])\n",
    "    quotes_to_txt(PATH_TXT + \"scientists_20\" + str(i)+ \".txt\", df_per_year['df_scientists_20' + str(i)])\n",
    "    quotes_to_txt(PATH_TXT + \"economists_20\" + str(i)+ \".txt\", df_per_year['df_economists_20' + str(i)])\"\"\";"
   ]
  },
  {
   "cell_type": "markdown",
   "metadata": {},
   "source": [
    "#### Sub data frame with no conditions on professions"
   ]
  },
  {
   "cell_type": "code",
   "execution_count": 44,
   "metadata": {},
   "outputs": [],
   "source": [
    "\"\"\" Only intented to be run once\n",
    "for i in range(15,21):\n",
    "    quotes_to_txt(PATH_TXT + \"df_no_conditions_20\" + str(i) + \".txt\", df_no_conditions_per_year['20' + str(i)])\"\"\";"
   ]
  },
  {
   "cell_type": "markdown",
   "metadata": {},
   "source": [
    "All text files have already been saved and can be found in \"txt_files\". As we have generated the txt files, we can now use them with the classifier."
   ]
  },
  {
   "cell_type": "markdown",
   "metadata": {},
   "source": [
    "### 3.3 Use of the uncertainty detection classifier <a class = anchor id=\"3.3\"></a>"
   ]
  },
  {
   "cell_type": "markdown",
   "metadata": {},
   "source": [
    "After creating the files, we need to use the classifier to separate the uncertain and certain quotes. To continue, you must have downloaded the \"Classifier\" directory (see the [1. Pre-processing of the data](#pre-processing)) and add its files to the Classifier folder of the github repository."
   ]
  },
  {
   "cell_type": "markdown",
   "metadata": {},
   "source": [
    "#### How to run the classifier?"
   ]
  },
  {
   "cell_type": "markdown",
   "metadata": {},
   "source": [
    "To be able to run the file MUD.py, you will need in your ADA environment: \n",
    "* Python 3.8\n",
    "* nltk library\n",
    "* numpy library\n",
    "* sklearn library"
   ]
  },
  {
   "cell_type": "markdown",
   "metadata": {},
   "source": [
    "Once you have downloaded and installed all the libraries in your envrionment, you are good to go.  \n",
    "\n",
    "To run the program, you have to open a terminal on jupyter notebook or an anaconda prompt on anaconda. You must go in the project repository (in the main folder) and then in the Classifier folder. Then you have to run the following command : **python MUD.py w Input/name_of_the_file.txt**\n",
    "\n",
    "It is really important that you have the **ADA environment activated** to run this line.   \n",
    "\n",
    "The following files are the ones that you can put in the classifier (instead of name_of_the_file) :\n",
    "* politicians_year.txt\n",
    "* artists_year.txt\n",
    "* scientists_year.txt\n",
    "* economists_year.txt\n",
    "* df_no_conditions_year.txt\n",
    "\n",
    "With year between 2015 and 2020."
   ]
  },
  {
   "cell_type": "markdown",
   "metadata": {},
   "source": [
    "#### What does it return?"
   ]
  },
  {
   "cell_type": "markdown",
   "metadata": {},
   "source": [
    "The classifier will run for approximately 10 to 20 min depending on the file you give him. Once it is finished, you can find in the Data/Results folder two files, ***certainty_sentences*** and ***uncertainty_sentences***.  \n",
    "The file ***certainty_sentences*** is a txt file with all the quotes that have been considered as \"certain\" by the classifier; the file ***uncertainty_sentences*** is a txt file with all the quotes that have been considered as \"uncertain\" by the classifier.  \n",
    "\n",
    "You can find all these files under the following names in the txt_files folder : \n",
    "* uncertainty_politicians_year.txt\n",
    "* uncertainty_artists_year.txt\n",
    "* uncertainty_scientists_year.txt\n",
    "* uncertainty_economists_year.txt\n",
    "* uncertainty_df_no_conditions_year.txt\n",
    "\n",
    "With year between 2015 and 2020."
   ]
  },
  {
   "cell_type": "markdown",
   "metadata": {},
   "source": [
    "In the next section, we will load those files and start the statistical analysis."
   ]
  },
  {
   "cell_type": "markdown",
   "metadata": {
    "tags": []
   },
   "source": [
    "## 4. Statistical analysis <a class = anchor id=\"stat_analysis\"></a>"
   ]
  },
  {
   "cell_type": "markdown",
   "metadata": {},
   "source": [
    "### Imports <a class = anchor id=\"4imports\"></a>"
   ]
  },
  {
   "cell_type": "code",
   "execution_count": 8,
   "metadata": {},
   "outputs": [],
   "source": [
    "import statsmodels.formula.api as smf"
   ]
  },
  {
   "cell_type": "markdown",
   "metadata": {
    "tags": []
   },
   "source": [
    "### Functions <a class = anchor id=\"4functions\"></a>"
   ]
  },
  {
   "cell_type": "markdown",
   "metadata": {},
   "source": [
    "We define some functions important for our analysis."
   ]
  },
  {
   "cell_type": "code",
   "execution_count": 54,
   "metadata": {},
   "outputs": [],
   "source": [
    "def extract_lines(txt_file):\n",
    "    \"\"\"\n",
    "    Extracts the lines from a text file.\n",
    "    Input:\n",
    "        * txt_file : text file\n",
    "    Output:\n",
    "        * lines : all lines from text file\n",
    "    \"\"\"\n",
    "    lines = []\n",
    "    with open(txt_file, \"r\", encoding = \"utf8\") as file:\n",
    "        for line in file:\n",
    "            lines.append(line) \n",
    "    return lines\n",
    "\n",
    "def extract_indices(lines):\n",
    "    \"\"\"\n",
    "    Extracts the indices from every line.\n",
    "    Input:\n",
    "        * lines : all lines from text file\n",
    "    Output:\n",
    "        * indices : the indices from each lines\n",
    "    \"\"\"\n",
    "    indices = []\n",
    "    for i in range(0,len(lines)):\n",
    "        index = ''\n",
    "        line = lines[i]\n",
    "        for j in range(0,len(line)):\n",
    "            char = line[j]\n",
    "            if char.isspace():\n",
    "                break\n",
    "            else:\n",
    "                index += char\n",
    "        indices.append(index)\n",
    "    return indices\n",
    "\n",
    "def create_df_from_txt(txt_file, df_profession):\n",
    "    \"\"\"\n",
    "    Creates a sub data frame from df_profession containing the rows defined in the txt_file.\n",
    "    Inputs:\n",
    "        * txt_file : text file\n",
    "        * df_profession : data frame containing all the quotes from a field\n",
    "    Output:\n",
    "        * df_uncertain_profession : dataframe containing the uncertain quotes from this field\n",
    "    \"\"\"\n",
    "    df_uncertain_profession = df_profession.iloc[extract_indices(extract_lines(txt_file))]\n",
    "    return df_uncertain_profession\n",
    "\n",
    "def create_gender_dist(df_profession, df_uncertain_profession):\n",
    "    \"\"\"\n",
    "    Computes the gender distribution of uncertain speakers for a certain profession.\n",
    "    Inputs:\n",
    "        * df_profession : data frame containing all the quotes from a professional field\n",
    "        * df_uncertain_profession : dataframe containing the uncertain quotes from this professional field\n",
    "    Output:\n",
    "        * gender_dist : the gender distribution of uncertain speakers for a certain profession in percentage\n",
    "    \"\"\"\n",
    "    gender_dist = df_uncertain_profession.groupby('gender').size()/df_profession.groupby('gender').size() * 100\n",
    "    return gender_dist\n",
    "\n",
    "def plot_hist(df, profession):\n",
    "    \"\"\"\n",
    "    Plots a histogram.\n",
    "    Inputs:\n",
    "        * df : data frame \n",
    "        * profession : professional field to print\n",
    "    \"\"\"\n",
    "    double_std = np.std(df) * 2\n",
    "    ax = df.plot(kind='bar', yerr = double_std, color = [color_palette[2], color_palette[3]])\n",
    "    #ax = df.plot(kind = 'bar', color = [color_palette[9], color_palette[6]])\n",
    "    labels = qid_label.loc[df.index]['Label'].values\n",
    "    ax.set_ylabel('% of {}s'.format(profession))\n",
    "    ax.set_xticklabels(labels)\n",
    "    plt.title('Relative % of uncertain \\n {a}s within a gender'.format(a = profession), pad = 20)\n",
    "    \n",
    "def create_df_with_uncertainty_label(txt_file, df_profession):\n",
    "    \"\"\"\n",
    "    Creates a sub data frame from df_profession containing the rows defined in the txt_file.\n",
    "    Inputs:\n",
    "        * txt_file : text file\n",
    "        * df_profession : data frame containing all the quotes from a field\n",
    "    Output:\n",
    "        * df_uncertain_profession : dataframe containing the uncertain quotes from this field\n",
    "    \"\"\"\n",
    "    df_profession['uncertainty_label'] = 0\n",
    "    print(df_profession.index)\n",
    "    print(extract_indices(extract_lines(txt_file)))\n",
    "    df_profession.loc[extract_indices(extract_lines(txt_file)),['uncertainty_label']]  = 1\n",
    "    #df_profession.iloc[~extract_indices(extract_lines(txt_file))]['uncertainty_label']  = 0\n",
    "    return df_profession\n",
    "\n",
    "def linear_reg(data, formula):\n",
    "    \"\"\"\n",
    "    ...........\n",
    "    Inputs:\n",
    "        * data : ...\n",
    "        * formula : ...\n",
    "        * seed : ...\n",
    "    Output:\n",
    "        * res : ...\n",
    "    \"\"\"   \n",
    "    model_intercept = smf.ols(formula = formula, data = data)\n",
    "    # Fits the model (find the optimal coefficients, adding a random seed ensures consistency)\n",
    "    np.random.seed(seed)\n",
    "    res = model_intercept.fit()\n",
    "    return res"
   ]
  },
  {
   "cell_type": "markdown",
   "metadata": {},
   "source": [
    "### 4.1 Gender distribution <a class = anchor id=\"4.1\"></a>"
   ]
  },
  {
   "cell_type": "markdown",
   "metadata": {},
   "source": [
    "#### Accross occupations"
   ]
  },
  {
   "cell_type": "markdown",
   "metadata": {},
   "source": [
    "To have a general idea of the distribution of men and women speakers, we start by computing the number of men and women per professions."
   ]
  },
  {
   "cell_type": "code",
   "execution_count": 55,
   "metadata": {},
   "outputs": [],
   "source": [
    "gender_dist = {} # CHANGER df_politicians_2020 EN df_politicians_2015\n",
    "gender_dist['politicians'] = df_per_year['df_politicians_2020'].groupby('gender').size()\n",
    "gender_dist['artists'] = df_per_year['df_artists_2020'].groupby('gender').size()\n",
    "gender_dist['scientists'] = df_per_year['df_scientists_2020'].groupby('gender').size()\n",
    "gender_dist['economists'] = df_per_year['df_economists_2020'].groupby('gender').size()\n",
    "\n",
    "\n",
    "for i in range(20,21): # A CHANGER EN (16, 21)\n",
    "    gender_dist['politicians'] += df_per_year['df_politicians_20' + str(i)].groupby('gender').size()\n",
    "    gender_dist['artists'] += df_per_year['df_artists_20' + str(i)].groupby('gender').size()\n",
    "    gender_dist['scientists'] += df_per_year['df_scientists_20' + str(i)].groupby('gender').size()\n",
    "    gender_dist['economists'] += df_per_year['df_economists_20' + str(i)].groupby('gender').size()"
   ]
  },
  {
   "cell_type": "code",
   "execution_count": 56,
   "metadata": {},
   "outputs": [
    {
     "data": {
      "text/html": [
       "<div>\n",
       "<style scoped>\n",
       "    .dataframe tbody tr th:only-of-type {\n",
       "        vertical-align: middle;\n",
       "    }\n",
       "\n",
       "    .dataframe tbody tr th {\n",
       "        vertical-align: top;\n",
       "    }\n",
       "\n",
       "    .dataframe thead th {\n",
       "        text-align: right;\n",
       "    }\n",
       "</style>\n",
       "<table border=\"1\" class=\"dataframe\">\n",
       "  <thead>\n",
       "    <tr style=\"text-align: right;\">\n",
       "      <th></th>\n",
       "      <th>politicians</th>\n",
       "      <th>artists</th>\n",
       "      <th>scientists</th>\n",
       "      <th>economists</th>\n",
       "    </tr>\n",
       "  </thead>\n",
       "  <tbody>\n",
       "    <tr>\n",
       "      <th>Female</th>\n",
       "      <td>212044</td>\n",
       "      <td>220702</td>\n",
       "      <td>44478</td>\n",
       "      <td>11722</td>\n",
       "    </tr>\n",
       "    <tr>\n",
       "      <th>Male</th>\n",
       "      <td>791176</td>\n",
       "      <td>425150</td>\n",
       "      <td>134554</td>\n",
       "      <td>53022</td>\n",
       "    </tr>\n",
       "  </tbody>\n",
       "</table>\n",
       "</div>"
      ],
      "text/plain": [
       "        politicians  artists  scientists  economists\n",
       "Female       212044   220702       44478       11722\n",
       "Male         791176   425150      134554       53022"
      ]
     },
     "execution_count": 56,
     "metadata": {},
     "output_type": "execute_result"
    }
   ],
   "source": [
    "df_gender = pd.DataFrame(gender_dist)\n",
    "df_gender.index = ['Female', 'Male']\n",
    "df_gender"
   ]
  },
  {
   "cell_type": "markdown",
   "metadata": {},
   "source": [
    "Let's now plot the genders' distributions per professions."
   ]
  },
  {
   "cell_type": "code",
   "execution_count": 62,
   "metadata": {},
   "outputs": [
    {
     "data": {
      "image/png": "[encoded data removed]",
      "text/plain": [
       "<Figure size 1440x720 with 4 Axes>"
      ]
     },
     "metadata": {
      "needs_background": "light"
     },
     "output_type": "display_data"
    }
   ],
   "source": [
    "# To have a more readable x legend on the plot\n",
    "gender_dist['politicians'].index = ['Female', 'Male']\n",
    "gender_dist['artists'].index = ['Female', 'Male']\n",
    "gender_dist['scientists'].index = ['Female', 'Male'] \n",
    "gender_dist['economists'].index = ['Female', 'Male']\n",
    "\n",
    "fig, axs = plt.subplots(1, 4, sharex = True, sharey = True, figsize = (20,10))\n",
    "fig.subplots_adjust(hspace = 0.4, wspace = 0.4)\n",
    "\n",
    "for idx, profession in enumerate(gender_dist.keys()):\n",
    "    gender_dist[profession].plot(kind = 'bar', color = [color_palette[3],color_palette[1]], ax = axs[idx])\n",
    "    axs[idx].set_title(profession)\n",
    "    axs[idx].set_xlabel('Genders')\n",
    "    axs[idx].set_ylabel('Participants')\n",
    "\n",
    "fig.suptitle('Gender distribution across the professional fields', fontsize = 20)\n",
    "fig.tight_layout()\n",
    "plt.show()"
   ]
  },
  {
   "cell_type": "code",
   "execution_count": 63,
   "metadata": {},
   "outputs": [],
   "source": [
    "html_str = mpld3.fig_to_html(fig)\n",
    "Html_file= open(\"Images/gender_dist_plot_across_prof.html\",\"w\")\n",
    "Html_file.write(html_str)\n",
    "Html_file.close()"
   ]
  },
  {
   "cell_type": "code",
   "execution_count": 51,
   "metadata": {},
   "outputs": [],
   "source": [
    "'''fig.write_html(\"Images/gender_dist_plot_across_prof.html\")''';"
   ]
  },
  {
   "cell_type": "markdown",
   "metadata": {},
   "source": [
    "#### Accross the general dataframe (containing background information)"
   ]
  },
  {
   "cell_type": "code",
   "execution_count": 59,
   "metadata": {},
   "outputs": [],
   "source": [
    "# CHANGER 2020 EN 2015\n",
    "gender_dist_background = df_no_conditions_per_year['2020'].groupby('gender').size()\n",
    "\n",
    "for i in range(20,21): # A CHANGER EN (16, 21)\n",
    "    gender_dist_background += df_no_conditions_per_year['20' + str(i)].groupby('gender').size()"
   ]
  },
  {
   "cell_type": "markdown",
   "metadata": {},
   "source": [
    "Now we plot the distributions for the background dataframe."
   ]
  },
  {
   "cell_type": "code",
   "execution_count": 64,
   "metadata": {
    "scrolled": true
   },
   "outputs": [
    {
     "data": {
      "image/png": "[encoded data removed]",
      "text/plain": [
       "<Figure size 432x288 with 1 Axes>"
      ]
     },
     "metadata": {
      "needs_background": "light"
     },
     "output_type": "display_data"
    }
   ],
   "source": [
    "# To have a \"more readable\" x legend on the plot\n",
    "gender_dist_background.index = ['Female', 'Male']\n",
    "\n",
    "#fig = go.Figure()\n",
    "fig = plt.figure()\n",
    "ax = gender_dist_background.plot(kind = 'bar', color = [color_palette[3], color_palette[1]])\n",
    "ax.set_title('Gender distribution in our general dataframe', pad = 20)\n",
    "ax.set_ylabel('Participants')\n",
    "ax.set_xlabel('Genders')\n",
    "plt.show()"
   ]
  },
  {
   "cell_type": "code",
   "execution_count": 65,
   "metadata": {},
   "outputs": [],
   "source": [
    "html_str = mpld3.fig_to_html(fig)\n",
    "Html_file= open(\"Images/gender_dist_plot_across_background.html\",\"w\")\n",
    "Html_file.write(html_str)\n",
    "Html_file.close()"
   ]
  },
  {
   "cell_type": "markdown",
   "metadata": {},
   "source": [
    "We save the plot."
   ]
  },
  {
   "cell_type": "code",
   "execution_count": 125,
   "metadata": {},
   "outputs": [],
   "source": [
    "'''fig.write_html(\"Images/gender_dist_plot_across_background.html\")'''"
   ]
  },
  {
   "cell_type": "markdown",
   "metadata": {},
   "source": [
    "We can observe a majority of males in every occupation category, as well as in the general (background) dataframe."
   ]
  },
  {
   "cell_type": "markdown",
   "metadata": {},
   "source": [
    "#### Summary : computation of the ratios"
   ]
  },
  {
   "cell_type": "code",
   "execution_count": 69,
   "metadata": {},
   "outputs": [
    {
     "name": "stdout",
     "output_type": "stream",
     "text": [
      "The female ratio for the different occupation groups are: \n",
      " 0.21 in politicians, \n",
      " 0.34 in artist, \n",
      " 0.25 in scientists, \n",
      " 0.18 in economists, \n",
      " and 0.20 accross all different occupations.\n"
     ]
    }
   ],
   "source": [
    "# Put back \"less readable\" indices\n",
    "gender_dist['politicians'] = df_per_year['df_politicians_2020'].groupby('gender').size()\n",
    "gender_dist['artists'] = df_per_year['df_artists_2020'].groupby('gender').size()\n",
    "gender_dist['scientists'].index = ['Q6581072', 'Q6581097']\n",
    "gender_dist['economists'].index = ['Q6581072', 'Q6581097']\n",
    "gender_dist_background.index = ['Q6581072', 'Q6581097']\n",
    "\n",
    "politicians_female_ratio = gender_dist['politicians'][female_label]/gender_dist['politicians'].sum()\n",
    "artist_female_ratio = gender_dist['artists'][female_label]/gender_dist['artists'].sum()\n",
    "scientists_female_ratio = gender_dist['scientists'][female_label]/gender_dist['scientists'].sum()\n",
    "economists_female_ratio = gender_dist['economists'][female_label]/gender_dist['economists'].sum()\n",
    "background_female_ratio = gender_dist_background[female_label]/gender_dist_background.sum()\n",
    "\n",
    "print(\"The female ratio for the different occupation groups are:\", \"\\n\", \n",
    "      \"{:.2f} in politicians,\".format(politicians_female_ratio),\n",
    "      \"\\n\",  \"{:.2f} in artist,\".format(artist_female_ratio), \"\\n\", \n",
    "      \"{:.2f} in scientists,\".format(scientists_female_ratio),\n",
    "      \"\\n\", \"{:.2f} in economists,\".format(economists_female_ratio), \"\\n\",\n",
    "      \"and {:.2f} accross all different occupations.\".format(background_female_ratio))"
   ]
  },
  {
   "cell_type": "markdown",
   "metadata": {},
   "source": [
    "This represents an important imbalance in the dataset that we will take into account during our study and futur analysis. One could note that the highest imbalance (18% of women) is in the economist professions."
   ]
  },
  {
   "cell_type": "markdown",
   "metadata": {},
   "source": [
    "### 4.2 Analysis of the genders distribution per professions <a class = anchor id=\"4.2\"></a>"
   ]
  },
  {
   "cell_type": "markdown",
   "metadata": {},
   "source": [
    "Let's compute the uncertainty genders' distributions per professions (e.g., how many uncertain artists women are there compared to the total number of artists women)."
   ]
  },
  {
   "cell_type": "code",
   "execution_count": 70,
   "metadata": {},
   "outputs": [],
   "source": [
    "df_professions_all_years = {} #Changer 2020 en 2015\n",
    "df_professions_all_years['politicians'] = df_per_year['df_politicians_2020']\n",
    "df_professions_all_years['artists'] = df_per_year['df_artists_2020']\n",
    "df_professions_all_years['scientists'] = df_per_year['df_scientists_2020']\n",
    "df_professions_all_years['economists'] = df_per_year['df_economists_2020']\n",
    "\n",
    "for i in range(20,21): #changer en 16 21\n",
    "    df_professions_all_years['politicians'] = pd.concat([df_professions_all_years['politicians'], \n",
    "                                                              df_per_year['df_politicians_20' + str(i)]])\n",
    "    \n",
    "    df_professions_all_years['artists'] = pd.concat([df_professions_all_years['artists'], \n",
    "                                                              df_per_year['df_artists_20' + str(i)]])\n",
    "    \n",
    "    df_professions_all_years['scientists'] = pd.concat([df_professions_all_years['scientists'], \n",
    "                                                              df_per_year['df_scientists_20' + str(i)]])\n",
    "    \n",
    "    df_professions_all_years['economists'] = pd.concat([df_professions_all_years['economists'], \n",
    "                                                              df_per_year['df_economists_20' + str(i)]])"
   ]
  },
  {
   "cell_type": "markdown",
   "metadata": {},
   "source": [
    "We start by creating our dictionnary (`df_uncertain_professions_per_year`) containing our uncertain quotes per profession per year. This will also later be used in part [4.4 Possible variation from 2015 to 2020](#4.4)."
   ]
  },
  {
   "cell_type": "code",
   "execution_count": 76,
   "metadata": {},
   "outputs": [],
   "source": [
    "df_uncertain_professions_per_year = {}\n",
    "for i in range(20,21): # A CHANGER EN (15, 21)\n",
    "    df_uncertain_professions_per_year['df_uncertain_politicians_20' + str(i)] = create_df_from_txt(PATH_TXT + \\\n",
    "                            \"uncertainty_politicians_20\" + str(i) + \".txt\", df_per_year['df_politicians_20' + str(i)])\n",
    "    \n",
    "    df_uncertain_professions_per_year['df_uncertain_artists_20' + str(i)] = create_df_from_txt(PATH_TXT + \\\n",
    "                            \"uncertainty_artists_20\" + str(i) + \".txt\", df_per_year['df_artists_20' + str(i)])\n",
    "    \n",
    "    df_uncertain_professions_per_year['df_uncertain_scientists_20' + str(i)] = create_df_from_txt(PATH_TXT + \\\n",
    "                            \"uncertainty_scientists_20\" + str(i) + \".txt\", df_per_year['df_scientists_20' + str(i)])\n",
    "    \n",
    "    df_uncertain_professions_per_year['df_uncertain_economists_20' + str(i)] = create_df_from_txt(PATH_TXT + \\\n",
    "                            \"uncertainty_economists_20\" + str(i) + \".txt\", df_per_year['df_economists_20' + str(i)])"
   ]
  },
  {
   "cell_type": "markdown",
   "metadata": {},
   "source": [
    "We now create a dictionnary containing all uncertain quotes per profession (regrouping all years)."
   ]
  },
  {
   "cell_type": "code",
   "execution_count": 77,
   "metadata": {},
   "outputs": [],
   "source": [
    "df_uncertain_professions_all_years = {} # CHANGER 2020 EN 2015\n",
    "\n",
    "df_uncertain_professions_all_years['politicians'] = df_uncertain_professions_per_year['df_uncertain_politicians_2020']\n",
    "\n",
    "df_uncertain_professions_all_years['artists'] = df_uncertain_professions_per_year['df_uncertain_artists_2020']\n",
    "\n",
    "df_uncertain_professions_all_years['scientists'] = df_uncertain_professions_per_year['df_uncertain_scientists_2020']\n",
    "\n",
    "df_uncertain_professions_all_years['economists'] = df_uncertain_professions_per_year['df_uncertain_economists_2020']\n",
    "\n",
    "for i in range(20,21): # A CHANGER EN (16, 21)\n",
    "    df_uncertain_professions_all_years['politicians'] = pd.concat([df_uncertain_professions_all_years['politicians'],\n",
    "                                        df_uncertain_professions_per_year['df_uncertain_politicians_20' + str(i)]])\n",
    "    \n",
    "    df_uncertain_professions_all_years['artists'] = pd.concat([df_uncertain_professions_all_years['artists'],\n",
    "                                        df_uncertain_professions_per_year['df_uncertain_artists_20' + str(i)]])\n",
    "    \n",
    "    df_uncertain_professions_all_years['scientists'] = pd.concat([df_uncertain_professions_all_years['scientists'],\n",
    "                                        df_uncertain_professions_per_year['df_uncertain_scientists_20' + str(i)]])\n",
    "    \n",
    "    df_uncertain_professions_all_years['economists'] = pd.concat([df_uncertain_professions_all_years['economists'],\n",
    "                                        df_uncertain_professions_per_year['df_uncertain_economists_20' + str(i)]])"
   ]
  },
  {
   "cell_type": "markdown",
   "metadata": {},
   "source": [
    "We now compute the gender ratios (in %) of each profession."
   ]
  },
  {
   "cell_type": "code",
   "execution_count": 78,
   "metadata": {},
   "outputs": [],
   "source": [
    "gender_dist_ratio= {}\n",
    "gender_dist_ratio['politicians'] = create_gender_dist(df_professions_all_years['politicians'], \n",
    "                                                               df_uncertain_professions_all_years['politicians'])\n",
    "\n",
    "gender_dist_ratio['artists'] = create_gender_dist(df_professions_all_years['artists'], \n",
    "                                                               df_uncertain_professions_all_years['artists'])\n",
    "\n",
    "gender_dist_ratio['scientists'] = create_gender_dist(df_professions_all_years['scientists'], \n",
    "                                                              df_uncertain_professions_all_years['scientists'])\n",
    "\n",
    "gender_dist_ratio['economists'] = create_gender_dist(df_professions_all_years['economists'], \n",
    "                                                              df_uncertain_professions_all_years['economists'])"
   ]
  },
  {
   "cell_type": "markdown",
   "metadata": {},
   "source": [
    "Lastly, we plot those genders' distributions per occupation."
   ]
  },
  {
   "cell_type": "code",
   "execution_count": 79,
   "metadata": {
    "scrolled": false
   },
   "outputs": [
    {
     "data": {
      "image/png": "[encoded data removed]",
      "text/plain": [
       "<Figure size 1440x720 with 4 Axes>"
      ]
     },
     "metadata": {
      "needs_background": "light"
     },
     "output_type": "display_data"
    }
   ],
   "source": [
    "# To have a more readable x legend on the plot\n",
    "gender_dist_ratio['politicians'].index = ['Female', 'Male'] \n",
    "gender_dist_ratio['artists'].index = ['Female', 'Male'] \n",
    "gender_dist_ratio['scientists'].index = ['Female', 'Male'] \n",
    "gender_dist_ratio['economists'].index = ['Female', 'Male'] \n",
    "\n",
    "#fig = go.Figure()\n",
    "fig, axs = plt.subplots(1, 4, sharex = True, sharey = True, figsize = (20,10))\n",
    "fig.subplots_adjust(hspace = 0.4, wspace = 0.4)\n",
    "\n",
    "for idx, profession in enumerate(gender_dist.keys()):\n",
    "    double_std = np.std(gender_dist_ratio[profession]) * 2\n",
    "    gender_dist_ratio[profession].plot(kind='bar', yerr = double_std, color = [color_palette[3], color_palette[1]], ax = axs[idx])\n",
    "    axs[idx].set_title(profession)\n",
    "    axs[idx].set_xlabel('Genders')\n",
    "    axs[idx].set_ylabel('% of uncertain speakers')\n",
    "\n",
    "fig.suptitle('Relative % of uncertain speakers within a gender for each profession', fontsize = 20)\n",
    "fig.tight_layout()\n",
    "plt.show()"
   ]
  },
  {
   "cell_type": "code",
   "execution_count": 80,
   "metadata": {},
   "outputs": [],
   "source": [
    "html_str = mpld3.fig_to_html(fig)\n",
    "Html_file= open(\"Images/percentage_uncertain_plot_across_prof.html\",\"w\")\n",
    "Html_file.write(html_str)\n",
    "Html_file.close()"
   ]
  },
  {
   "cell_type": "code",
   "execution_count": 74,
   "metadata": {},
   "outputs": [],
   "source": [
    "'''fig.write_html(\"Images/percentage_uncertain_plot_across_prof.html\")''';"
   ]
  },
  {
   "cell_type": "markdown",
   "metadata": {},
   "source": [
    "Looking at the plots, there seems to be little differences between genders when only looking at the speakers' occupations. Analysis of significance is now performed ........."
   ]
  },
  {
   "cell_type": "markdown",
   "metadata": {
    "tags": []
   },
   "source": [
    "### 4.3 Background influence <a class = anchor id=\"4.3\"></a>"
   ]
  },
  {
   "cell_type": "markdown",
   "metadata": {},
   "source": [
    "Let's have a look at our second question which investigates the roles culture/traditions, education and place of living play in determining those differences in speech between men and women."
   ]
  },
  {
   "cell_type": "markdown",
   "metadata": {},
   "source": [
    "We start by creating our data frame containing our uncertain quotes."
   ]
  },
  {
   "cell_type": "code",
   "execution_count": 81,
   "metadata": {},
   "outputs": [],
   "source": [
    "# CHANGER uncertainty_df_no_conditions_2020.txt EN uncertainty_df_no_conditions_2015.txt\n",
    "df_uncertain_no_conditions_all_years = create_df_from_txt(PATH_TXT + \"uncertainty_df_no_conditions_2020.txt\",\n",
    "                                                                                df_no_conditions_per_year['2020'])\n",
    "\n",
    "for i in range(20,21): # A CHANGER EN (16, 21)\n",
    "    df_uncertain_no_conditions_new_year = create_df_from_txt(PATH_TXT + \"uncertainty_df_no_conditions_20\" + str(i) \\\n",
    "                                                                + \".txt\", df_no_conditions_per_year['20' + str(i)])\n",
    "    df_uncertain_no_conditions_all_years = pd.concat([df_uncertain_no_conditions_all_years,\n",
    "                                                                                df_uncertain_no_conditions_new_year])"
   ]
  },
  {
   "cell_type": "markdown",
   "metadata": {},
   "source": [
    "Let's first have a look at our features and which could relate to culture, education or country."
   ]
  },
  {
   "cell_type": "code",
   "execution_count": 82,
   "metadata": {},
   "outputs": [
    {
     "data": {
      "text/plain": [
       "Index(['quoteID', 'quotation', 'speaker', 'qids', 'date', 'numOccurrences',\n",
       "       'probas', 'urls', 'phase', 'aliases', 'date_of_birth', 'nationality',\n",
       "       'gender', 'lastrevid', 'ethnic_group', 'US_congress_bio_ID',\n",
       "       'occupation', 'party', 'academic_degree', 'id', 'label', 'candidacy',\n",
       "       'type', 'religion'],\n",
       "      dtype='object')"
      ]
     },
     "execution_count": 82,
     "metadata": {},
     "output_type": "execute_result"
    }
   ],
   "source": [
    "df_uncertain_no_conditions_all_years.columns"
   ]
  },
  {
   "cell_type": "markdown",
   "metadata": {},
   "source": [
    "We see that `nationality`, `ethnic_group` and `religion` could give cultural, traditional and surrounding environmental background information on the speaker, while `academic_degree` gives information on the educational aspect of the quotation's author."
   ]
  },
  {
   "cell_type": "code",
   "execution_count": 83,
   "metadata": {},
   "outputs": [],
   "source": [
    "influences = ['nationality', 'religion','ethnic_group', 'academic_degree']"
   ]
  },
  {
   "cell_type": "markdown",
   "metadata": {},
   "source": [
    "Let's define the function which allows to plot the labels of each cultural and educationnal category with respect to gender."
   ]
  },
  {
   "cell_type": "code",
   "execution_count": 87,
   "metadata": {},
   "outputs": [],
   "source": [
    "def plot_influence(df, name_influence):\n",
    "    df[name_influence] = qid_label.loc[df[name_influence]].Label.values\n",
    "    occur = df.groupby(name_influence)[name_influence].agg('count').sort_values(ascending = False).head(20)\n",
    "    df = df[df[name_influence].isin(occur.index)]\n",
    "    fem = df[df['gender'] == 'Q6581072']\n",
    "    mal = df[df['gender'] == 'Q6581097']\n",
    "    df = pd.concat([fem[name_influence].value_counts(normalize = True), \\\n",
    "                    mal[name_influence].value_counts(normalize = True)], axis = 1, sort = True)\n",
    "    df.columns = [\"Female\", \"Male\"]\n",
    "    double_std = np.std(df) * 2\n",
    "    fig = plt.figure()\n",
    "    df.sort_values('Male', ascending=True).plot(kind = 'barh', xerr = double_std, figsize = (15,8), \\\n",
    "                                                    color = [color_palette[3],color_palette[1]])\n",
    "    plt.ylabel('Normalised count')\n",
    "    plt.xticks(rotation = 45, ha = \"right\")\n",
    "    plt.title('Number of uncertain quotations in function of {} and gender'.format(name_influence))\n",
    "    plt.show()"
   ]
  },
  {
   "cell_type": "markdown",
   "metadata": {},
   "source": [
    "text"
   ]
  },
  {
   "cell_type": "code",
   "execution_count": 88,
   "metadata": {
    "scrolled": false
   },
   "outputs": [
    {
     "data": {
      "text/plain": [
       "<Figure size 432x288 with 0 Axes>"
      ]
     },
     "metadata": {},
     "output_type": "display_data"
    },
    {
     "data": {
      "image/png": "[encoded data removed]",
      "text/plain": [
       "<Figure size 1080x576 with 1 Axes>"
      ]
     },
     "metadata": {
      "needs_background": "light"
     },
     "output_type": "display_data"
    },
    {
     "data": {
      "text/plain": [
       "<Figure size 432x288 with 0 Axes>"
      ]
     },
     "metadata": {},
     "output_type": "display_data"
    },
    {
     "data": {
      "image/png": "[encoded data removed]",
      "text/plain": [
       "<Figure size 1080x576 with 1 Axes>"
      ]
     },
     "metadata": {
      "needs_background": "light"
     },
     "output_type": "display_data"
    },
    {
     "data": {
      "text/plain": [
       "<Figure size 432x288 with 0 Axes>"
      ]
     },
     "metadata": {},
     "output_type": "display_data"
    },
    {
     "data": {
      "image/png": "[encoded data removed]",
      "text/plain": [
       "<Figure size 1080x576 with 1 Axes>"
      ]
     },
     "metadata": {
      "needs_background": "light"
     },
     "output_type": "display_data"
    },
    {
     "data": {
      "text/plain": [
       "<Figure size 432x288 with 0 Axes>"
      ]
     },
     "metadata": {},
     "output_type": "display_data"
    },
    {
     "data": {
      "image/png": "[encoded data removed]",
      "text/plain": [
       "<Figure size 1080x576 with 1 Axes>"
      ]
     },
     "metadata": {
      "needs_background": "light"
     },
     "output_type": "display_data"
    }
   ],
   "source": [
    "#fig = plt.figure()\n",
    "for influence in influences:\n",
    "    working_df = df_uncertain_no_conditions_all_years.copy(deep = True)\n",
    "    working_df = working_df[~working_df[influence].isin([None, \"None\"])]\n",
    "    working_df[influence] = working_df[influence].apply(lambda x: x[0])\n",
    "    plot_influence(working_df, influence)"
   ]
  },
  {
   "cell_type": "code",
   "execution_count": 34,
   "metadata": {
    "scrolled": false
   },
   "outputs": [
    {
     "data": {
      "image/png": "[encoded data removed]",
      "text/plain": [
       "<Figure size 1080x576 with 1 Axes>"
      ]
     },
     "metadata": {
      "needs_background": "light"
     },
     "output_type": "display_data"
    },
    {
     "data": {
      "image/png": "[encoded data removed]",
      "text/plain": [
       "<Figure size 1080x576 with 1 Axes>"
      ]
     },
     "metadata": {
      "needs_background": "light"
     },
     "output_type": "display_data"
    },
    {
     "data": {
      "image/png": "[encoded data removed]",
      "text/plain": [
       "<Figure size 1080x576 with 1 Axes>"
      ]
     },
     "metadata": {
      "needs_background": "light"
     },
     "output_type": "display_data"
    },
    {
     "data": {
      "image/png": "[encoded data removed]",
      "text/plain": [
       "<Figure size 1080x576 with 1 Axes>"
      ]
     },
     "metadata": {
      "needs_background": "light"
     },
     "output_type": "display_data"
    }
   ],
   "source": [
    "'''for influence in influences:\n",
    "    working_df = df_uncertain_no_conditions_all_years.copy(deep = True)\n",
    "    working_df = working_df[~working_df[influence].isin([None, \"None\"])]\n",
    "    working_df[influence] = working_df[influence].apply(lambda x: x[0])\n",
    "    plot_influence(working_df, influence)'''"
   ]
  },
  {
   "cell_type": "code",
   "execution_count": 89,
   "metadata": {},
   "outputs": [],
   "source": [
    "html_str = mpld3.fig_to_html(fig)\n",
    "Html_file= open(\"Images/percentage_uncertain_plot_across_background.html\",\"w\")\n",
    "Html_file.write(html_str)\n",
    "Html_file.close()"
   ]
  },
  {
   "cell_type": "markdown",
   "metadata": {},
   "source": [
    "We see that the genders' distributions are very different depending on all conditions. Analysis of significance is now performed using hypothesis testing."
   ]
  },
  {
   "cell_type": "code",
   "execution_count": null,
   "metadata": {},
   "outputs": [],
   "source": [
    "df_certain_no_conditions_all_years = df_no_conditions_all_years[~df_no_conditions_all_years.quoteID.isin(\n",
    "                                                                df_uncertain_no_conditions_all_years.quoteID)].copy()"
   ]
  },
  {
   "cell_type": "markdown",
   "metadata": {},
   "source": [
    "text"
   ]
  },
  {
   "cell_type": "code",
   "execution_count": null,
   "metadata": {},
   "outputs": [],
   "source": [
    "df_certain_no_conditions_all_years['uncertainty_label'] = 1\n",
    "df_uncertain_no_conditions_all_years['uncertainty_label'] = 0"
   ]
  },
  {
   "cell_type": "markdown",
   "metadata": {},
   "source": [
    "text"
   ]
  },
  {
   "cell_type": "code",
   "execution_count": null,
   "metadata": {},
   "outputs": [],
   "source": [
    "my_df = pd.concat([df_uncertain_no_conditions_all_years, df_certain_no_conditions_all_years], ignore_index = True)"
   ]
  },
  {
   "cell_type": "markdown",
   "metadata": {},
   "source": [
    "text"
   ]
  },
  {
   "cell_type": "code",
   "execution_count": null,
   "metadata": {},
   "outputs": [
    {
     "name": "stdout",
     "output_type": "stream",
     "text": [
      "                            OLS Regression Results                            \n",
      "==============================================================================\n",
      "Dep. Variable:      uncertainty_label   R-squared:                       0.000\n",
      "Model:                            OLS   Adj. R-squared:                  0.000\n",
      "Method:                 Least Squares   F-statistic:                     497.4\n",
      "Date:                Fri, 10 Dec 2021   Prob (F-statistic):          3.58e-110\n",
      "Time:                        11:54:29   Log-Likelihood:            -2.1034e+06\n",
      "No. Observations:             2898820   AIC:                         4.207e+06\n",
      "Df Residuals:                 2898818   BIC:                         4.207e+06\n",
      "Df Model:                           1                                         \n",
      "Covariance Type:            nonrobust                                         \n",
      "======================================================================================\n",
      "                         coef    std err          t      P>|t|      [0.025      0.975]\n",
      "--------------------------------------------------------------------------------------\n",
      "Intercept              0.5210      0.001    780.890      0.000       0.520       0.522\n",
      "gender[T.Q6581097]    -0.0166      0.001    -22.302      0.000      -0.018      -0.015\n",
      "==============================================================================\n",
      "Omnibus:                  9879724.580   Durbin-Watson:                   0.000\n",
      "Prob(Omnibus):                  0.000   Jarque-Bera (JB):           482805.515\n",
      "Skew:                          -0.031   Prob(JB):                         0.00\n",
      "Kurtosis:                       1.002   Cond. No.                         4.34\n",
      "==============================================================================\n",
      "\n",
      "Notes:\n",
      "[1] Standard Errors assume that the covariance matrix of the errors is correctly specified.\n"
     ]
    }
   ],
   "source": [
    "res = linear_reg(data = my_df, formula = 'uncertainty_label ~ gender')\n",
    "print(res.summary())"
   ]
  },
  {
   "cell_type": "markdown",
   "metadata": {},
   "source": [
    "We can see that being categorised as male is correlated with a -1,66% uncertainty rate."
   ]
  },
  {
   "cell_type": "code",
   "execution_count": null,
   "metadata": {},
   "outputs": [],
   "source": [
    "df_nat, df_rel, df_eth, df_aca = pd.DataFrame(), pd.DataFrame(), pd.DataFrame(), pd.DataFrame()"
   ]
  },
  {
   "cell_type": "markdown",
   "metadata": {},
   "source": [
    "text"
   ]
  },
  {
   "cell_type": "code",
   "execution_count": null,
   "metadata": {},
   "outputs": [],
   "source": [
    "dict_df = {\n",
    "  \"nationality\": df_nat,\n",
    "  \"religion\": df_rel,\n",
    "  \"ethnic_group\": df_eth,\n",
    "  \"academic_degree\": df_aca\n",
    "}"
   ]
  },
  {
   "cell_type": "markdown",
   "metadata": {},
   "source": [
    "text"
   ]
  },
  {
   "cell_type": "code",
   "execution_count": null,
   "metadata": {},
   "outputs": [
    {
     "name": "stdout",
     "output_type": "stream",
     "text": [
      "nationality\n",
      "religion\n",
      "ethnic_group\n",
      "academic_degree\n"
     ]
    }
   ],
   "source": [
    "for influence in influences:\n",
    "    print(influence)\n",
    "    dict_df[influence] = my_df.copy(deep = True)\n",
    "    dict_df[influence] = dict_df[influence][~dict_df[influence][influence].isin([None, \"None\"])]\n",
    "    dict_df[influence][influence] = dict_df[influence][influence].apply(lambda x: x[0])\n",
    "    dict_df[influence][influence] = qid_label.loc[dict_df[influence][influence]].Label.values\n",
    "    if influence == 'nationality':\n",
    "        dict_df[influence] = dict_df[influence][dict_df[influence]['nationality'].isin([\n",
    "            'United States of America', 'United Kingdom', 'India', 'Canada', 'Australia'])]\n",
    "        X = pd.get_dummies(dict_df[influence]['nationality'])\n",
    "        dict_df[influence] = dict_df[influence].join(X)\n",
    "        dict_df[influence].rename(columns = {'United States of America': 'USA', 'United Kingdom': 'UK'}, \n",
    "                                  inplace = True)\n",
    "    if influence == 'religion':\n",
    "        dict_df[influence] = dict_df[influence][dict_df[influence]['religion'].isin([\n",
    "            'Catholicism', 'Judaism', 'Hinduism', 'Islam', 'Anglicanism'])]\n",
    "        X = pd.get_dummies(dict_df[influence]['religion'])\n",
    "        dict_df[influence] = dict_df[influence].join(X)\n",
    "    if influence == 'academic_degree':\n",
    "        dict_df[influence] = dict_df[influence][dict_df[influence]['nationality'].isin([\n",
    "            'Catholicism', 'Judaism', 'Hinduism', 'Islam'])]            \n",
    "    \n",
    "    \n",
    "\n",
    "    "
   ]
  },
  {
   "cell_type": "markdown",
   "metadata": {},
   "source": [
    "text"
   ]
  },
  {
   "cell_type": "code",
   "execution_count": null,
   "metadata": {},
   "outputs": [],
   "source": [
    "print('United States of America: ', dict_df['nationality'][dict_df['nationality']['USA'] == 1]\\\n",
    "            ['uncertainty_label'].mean(), dict_df['nationality']['USA'].std(),\n",
    "      '\\nUnited Kingdom: ', dict_df['nationality'][dict_df['nationality']['UK'] == 1]\\\n",
    "            ['uncertainty_label'].mean(), dict_df['nationality']['UK'].std(),\n",
    "      '\\nIndia', dict_df['nationality'][dict_df['nationality']['India'] == 1]\\\n",
    "            ['uncertainty_label'].mean(), dict_df['nationality']['India'].std(),\n",
    "      '\\nCanada', dict_df['nationality'][dict_df['nationality']['Canada'] == 1]\\\n",
    "            ['uncertainty_label'].mean(), dict_df['nationality']['Canada'].std())"
   ]
  },
  {
   "cell_type": "markdown",
   "metadata": {},
   "source": [
    "text"
   ]
  },
  {
   "cell_type": "code",
   "execution_count": null,
   "metadata": {},
   "outputs": [
    {
     "name": "stdout",
     "output_type": "stream",
     "text": [
      "                            OLS Regression Results                            \n",
      "==============================================================================\n",
      "Dep. Variable:      uncertainty_label   R-squared:                       0.000\n",
      "Model:                            OLS   Adj. R-squared:                  0.000\n",
      "Method:                 Least Squares   F-statistic:                     152.0\n",
      "Date:                Sat, 11 Dec 2021   Prob (F-statistic):          3.08e-130\n",
      "Time:                        17:08:55   Log-Likelihood:            -1.6611e+06\n",
      "No. Observations:             2289480   AIC:                         3.322e+06\n",
      "Df Residuals:                 2289475   BIC:                         3.322e+06\n",
      "Df Model:                           4                                         \n",
      "Covariance Type:            nonrobust                                         \n",
      "==============================================================================\n",
      "                 coef    std err          t      P>|t|      [0.025      0.975]\n",
      "------------------------------------------------------------------------------\n",
      "Intercept      0.5061      0.001    406.921      0.000       0.504       0.509\n",
      "USA            0.0077      0.001      5.891      0.000       0.005       0.010\n",
      "UK            -0.0107      0.001     -7.341      0.000      -0.014      -0.008\n",
      "India         -0.0130      0.002     -7.414      0.000      -0.016      -0.010\n",
      "Canada         0.0023      0.002      1.322      0.186      -0.001       0.006\n",
      "==============================================================================\n",
      "Omnibus:                  7805077.491   Durbin-Watson:                   0.000\n",
      "Prob(Omnibus):                  0.000   Jarque-Bera (JB):           381175.003\n",
      "Skew:                          -0.032   Prob(JB):                         0.00\n",
      "Kurtosis:                       1.002   Cond. No.                         10.7\n",
      "==============================================================================\n",
      "\n",
      "Notes:\n",
      "[1] Standard Errors assume that the covariance matrix of the errors is correctly specified.\n"
     ]
    }
   ],
   "source": [
    "res_nat = linear_reg(data = dict_df['nationality'], formula = 'uncertainty_label ~ \\\n",
    "    USA + UK + India + Canada ')\n",
    "\n",
    "print(res_nat.summary())"
   ]
  },
  {
   "cell_type": "markdown",
   "metadata": {},
   "source": [
    "text"
   ]
  },
  {
   "cell_type": "code",
   "execution_count": null,
   "metadata": {},
   "outputs": [],
   "source": [
    "encoded_df = my_df.copy()\n",
    "for influence in influences:\n",
    "    encoded_df = encoded_df[~encoded_df[influence].isin([None, \"None\"])]\n",
    "    encoded_df[influence] = encoded_df[influence].apply(lambda x: x[0])\n",
    "    encoded_df[influence] = qid_label.loc[encoded_df[influence]].Label.values\n",
    "    if influence == 'nationality':\n",
    "        encoded_df = encoded_df[encoded_df['nationality'].isin([\n",
    "            'United States of America', 'United Kingdom', 'India', 'Canada', 'Australia'])]\n",
    "        X = pd.get_dummies(encoded_df['nationality'])\n",
    "        encoded_df = encoded_df.join(X)\n",
    "        encoded_df.rename(columns = {'United States of America': 'USA', 'United Kingdom': 'UK'}, inplace = True)\n",
    "        \n",
    "    if influence == 'religion':\n",
    "        encoded_df = encoded_df[encoded_df['religion'].isin([\n",
    "            'Catholicism', 'Judaism', 'Hinduism', 'Islam'])] \n",
    "        X = pd.get_dummies(encoded_df['religion'])\n",
    "        encoded_df = encoded_df.join(X)"
   ]
  },
  {
   "cell_type": "markdown",
   "metadata": {},
   "source": [
    "text"
   ]
  },
  {
   "cell_type": "markdown",
   "metadata": {},
   "source": [
    "### 4.4 Possible variation from 2015 to 2020 <a class = anchor id=\"4.4\"></a>"
   ]
  },
  {
   "cell_type": "markdown",
   "metadata": {},
   "source": [
    "Finally, we want to see if those distributions would vary between years. Let's compare the possible change between 2015 and 2020 concerning speech uncertainty gender difference. "
   ]
  },
  {
   "cell_type": "markdown",
   "metadata": {},
   "source": [
    "#### Accross occupations"
   ]
  },
  {
   "cell_type": "markdown",
   "metadata": {},
   "source": [
    "Here, again, we still separate between the different profesionnal fields. We use the previously created dictionnary containing all uncertainty quotes from each profession per year (`df_uncertain_professions_per_year`) from part [4.2 Analysis of the genders distribution per professions](#4.2)"
   ]
  },
  {
   "cell_type": "code",
   "execution_count": null,
   "metadata": {},
   "outputs": [],
   "source": [
    "gender_dist_ratio_professions_per_year = {}\n",
    "for i in range(20,21): # A CHANGER EN (15, 21)\n",
    "    gender_dist_ratio_professions_per_year['politicians_20' + str(i)] = \\\n",
    "                                            create_gender_dist(df_per_year['df_politicians_20' + str(i)],\n",
    "                                            df_uncertain_professions_per_year['df_uncertain_politicians_20' + str(i)])\n",
    "    gender_dist_ratio_professions_per_year['artists_20' + str(i)] = \\\n",
    "                                            create_gender_dist(df_per_year['df_artists_20' + str(i)],\n",
    "                                            df_uncertain_professions_per_year['df_uncertain_artists_20' + str(i)])\n",
    "    gender_dist_ratio_professions_per_year['scientists_20' + str(i)] = \\\n",
    "                                            create_gender_dist(df_per_year['df_scientists_20' + str(i)],\n",
    "                                            df_uncertain_professions_per_year['df_uncertain_scientists_20' + str(i)])\n",
    "    gender_dist_ratio_professions_per_year['economists_20' + str(i)] = \\\n",
    "                                            create_gender_dist(df_per_year['df_economists_20' + str(i)],\n",
    "                                            df_uncertain_professions_per_year['df_uncertain_economists_20' + str(i)])"
   ]
  },
  {
   "cell_type": "markdown",
   "metadata": {},
   "source": [
    "We visualise our ratio in percentages in a table."
   ]
  },
  {
   "cell_type": "code",
   "execution_count": null,
   "metadata": {
    "scrolled": true
   },
   "outputs": [
    {
     "data": {
      "text/html": [
       "<div>\n",
       "<style scoped>\n",
       "    .dataframe tbody tr th:only-of-type {\n",
       "        vertical-align: middle;\n",
       "    }\n",
       "\n",
       "    .dataframe tbody tr th {\n",
       "        vertical-align: top;\n",
       "    }\n",
       "\n",
       "    .dataframe thead th {\n",
       "        text-align: right;\n",
       "    }\n",
       "</style>\n",
       "<table border=\"1\" class=\"dataframe\">\n",
       "  <thead>\n",
       "    <tr style=\"text-align: right;\">\n",
       "      <th></th>\n",
       "      <th>politicians_2020</th>\n",
       "      <th>artists_2020</th>\n",
       "      <th>scientists_2020</th>\n",
       "      <th>economists_2020</th>\n",
       "    </tr>\n",
       "    <tr>\n",
       "      <th>gender</th>\n",
       "      <th></th>\n",
       "      <th></th>\n",
       "      <th></th>\n",
       "      <th></th>\n",
       "    </tr>\n",
       "  </thead>\n",
       "  <tbody>\n",
       "    <tr>\n",
       "      <th>Q6581072</th>\n",
       "      <td>32.466847</td>\n",
       "      <td>30.079474</td>\n",
       "      <td>35.424255</td>\n",
       "      <td>34.601604</td>\n",
       "    </tr>\n",
       "    <tr>\n",
       "      <th>Q6581097</th>\n",
       "      <td>33.150146</td>\n",
       "      <td>31.440668</td>\n",
       "      <td>34.478351</td>\n",
       "      <td>35.030742</td>\n",
       "    </tr>\n",
       "  </tbody>\n",
       "</table>\n",
       "</div>"
      ],
      "text/plain": [
       "          politicians_2020  artists_2020  scientists_2020  economists_2020\n",
       "gender                                                                    \n",
       "Q6581072         32.466847     30.079474        35.424255        34.601604\n",
       "Q6581097         33.150146     31.440668        34.478351        35.030742"
      ]
     },
     "execution_count": 40,
     "metadata": {},
     "output_type": "execute_result"
    }
   ],
   "source": [
    "df = pd.DataFrame(gender_dist_ratio_professions_per_year)\n",
    "df.index = ['Female', 'Male']\n",
    "df"
   ]
  },
  {
   "cell_type": "markdown",
   "metadata": {},
   "source": [
    "We plot the change in distributions of uncertain speakers from 2015 to 2020 in our four professional fields."
   ]
  },
  {
   "cell_type": "code",
   "execution_count": null,
   "metadata": {},
   "outputs": [
    {
     "data": {
      "image/png": "[encoded data removed]",
      "text/plain": [
       "<Figure size 1080x360 with 4 Axes>"
      ]
     },
     "metadata": {
      "needs_background": "light"
     },
     "output_type": "display_data"
    },
    {
     "data": {
      "image/png": "[encoded data removed]",
      "text/plain": [
       "<Figure size 432x288 with 1 Axes>"
      ]
     },
     "metadata": {
      "needs_background": "light"
     },
     "output_type": "display_data"
    }
   ],
   "source": [
    "#Faire un grand graph par profession avec courbe et points selon années\n",
    "fig, axs = plt.subplots(1, 4,figsize = (15,5))\n",
    "\n",
    "professions = ['politicians', 'artists', 'scientists', 'economists']\n",
    "\n",
    "for idx, profession in enumerate(professions):\n",
    "    df = pd.concat([professions_2015_df[idx], professions_2020_df[idx]],axis = 1)\n",
    "    df.index = ['female', 'male']\n",
    "    df.columns = ['2015', '2020'] \n",
    "    double_std = np.std(df) * 2\n",
    "    df.plot(kind = 'bar', yerr = double_std, ax = axs[idx], color = [color_palette[4],color_palette[2]])\n",
    "    axs[idx].set_ylabel('% of uncertain {}'.format(profession))\n",
    "    axs[idx].set_title('Relative % of uncertain \\n {a}s from 2015 to 2020'.format(a = profession), pad = 20)\n",
    "\n",
    "plt.show()    \n",
    "\n",
    "df.index = ['Female', 'Male']\n",
    "df.plot(kind = 'bar', color = [color_palette[4], color_palette[3], color_palette[2],color_palette[1],color_palette[0]])\n",
    "plt.xlabel('Gender')\n",
    "plt.ylabel('% of uncertain speakers')\n",
    "plt.title('Relative % of uncertain speakers from 2015 to 2020 in our general dataframe', pad = 20)\n",
    "plt.show()"
   ]
  },
  {
   "cell_type": "code",
   "execution_count": null,
   "metadata": {},
   "outputs": [
    {
     "data": {
      "image/png": "[encoded data removed]",
      "text/plain": [
       "<Figure size 1080x360 with 4 Axes>"
      ]
     },
     "metadata": {
      "needs_background": "light"
     },
     "output_type": "display_data"
    }
   ],
   "source": [
    "# PLOT A MODIFIER\n",
    "fig, axs = plt.subplots(1, 4,figsize = (15,5))\n",
    "\n",
    "professions = ['politicians', 'artist', 'scientist', 'economist']\n",
    "#professions_2020_df = [gender_dist_ratio_politicians, gender_dist_ratio_artists, gender_dist_ratio_scientists, \\\n",
    "#                       gender_dist_ratio_economists]\n",
    "#professions_2015_df = [politicians_gender_dist_2015, artists_gender_dist_2015, scientists_gender_dist_2015, \\\n",
    "#                       economists_gender_dist_2015]\n",
    "\n",
    "for idx, profession in enumerate(professions):\n",
    "    df = pd.concat([professions_2015_df[idx], professions_2020_df[idx]],axis = 1)\n",
    "    df.index = ['female', 'male']\n",
    "    df.columns = ['2015', '2020']\n",
    "    double_std = np.std(df) * 2\n",
    "    df.plot(kind = 'bar', yerr = double_std, ax = axs[idx], color = [color_palette[4],color_palette[2]])\n",
    "    axs[idx].set_ylabel('% of uncertain {}'.format(profession))\n",
    "    axs[idx].set_title('Relative % of uncertain \\n {a}s from 2015 to 2020'.format(a = profession), pad = 20)\n",
    "\n",
    "plt.show()"
   ]
  },
  {
   "cell_type": "markdown",
   "metadata": {},
   "source": [
    "Again, we see that that the genders' distributions are slightly different depending on the profession. Statistical analysis..."
   ]
  },
  {
   "cell_type": "markdown",
   "metadata": {},
   "source": [
    "#### Accross the general dataframe (containing background information)"
   ]
  },
  {
   "cell_type": "markdown",
   "metadata": {},
   "source": [
    "We start by creating our data frames containing our uncertain quotes in the general dataframe per year."
   ]
  },
  {
   "cell_type": "code",
   "execution_count": null,
   "metadata": {},
   "outputs": [],
   "source": [
    "df_uncertain_no_conditions_per_year = {}\n",
    "for i in range(20,21): # A CHANGER EN (15, 21)\n",
    "    df_uncertain_no_conditions_per_year['20' + str(i)] = create_df_from_txt(PATH_TXT + \\\n",
    "                                                                \"uncertainty_df_no_conditions_20\" + str(i) + \".txt\",\n",
    "                                                                df_no_conditions_per_year['20' + str(i)])"
   ]
  },
  {
   "cell_type": "markdown",
   "metadata": {},
   "source": [
    "We compute our Female/Male ratios."
   ]
  },
  {
   "cell_type": "code",
   "execution_count": null,
   "metadata": {},
   "outputs": [],
   "source": [
    "gender_dist_ratio_no_conditions_per_year = {}\n",
    "for i in range(20,21): # A CHANGER EN (15, 21)\n",
    "    gender_dist_ratio_no_conditions_per_year['20' + str(i)] = create_gender_dist(df_no_conditions_per_year['20' +\n",
    "                                                          str(i)], df_uncertain_no_conditions_per_year['20' + str(i)])"
   ]
  },
  {
   "cell_type": "markdown",
   "metadata": {},
   "source": [
    "The uncertainty percentages per gender per year are displayed in the following table."
   ]
  },
  {
   "cell_type": "code",
   "execution_count": null,
   "metadata": {},
   "outputs": [
    {
     "data": {
      "text/html": [
       "<div>\n",
       "<style scoped>\n",
       "    .dataframe tbody tr th:only-of-type {\n",
       "        vertical-align: middle;\n",
       "    }\n",
       "\n",
       "    .dataframe tbody tr th {\n",
       "        vertical-align: top;\n",
       "    }\n",
       "\n",
       "    .dataframe thead th {\n",
       "        text-align: right;\n",
       "    }\n",
       "</style>\n",
       "<table border=\"1\" class=\"dataframe\">\n",
       "  <thead>\n",
       "    <tr style=\"text-align: right;\">\n",
       "      <th></th>\n",
       "      <th>2020</th>\n",
       "    </tr>\n",
       "    <tr>\n",
       "      <th>gender</th>\n",
       "      <th></th>\n",
       "    </tr>\n",
       "  </thead>\n",
       "  <tbody>\n",
       "    <tr>\n",
       "      <th>Q6581072</th>\n",
       "      <td>31.491653</td>\n",
       "    </tr>\n",
       "    <tr>\n",
       "      <th>Q6581097</th>\n",
       "      <td>32.939992</td>\n",
       "    </tr>\n",
       "  </tbody>\n",
       "</table>\n",
       "</div>"
      ],
      "text/plain": [
       "               2020\n",
       "gender             \n",
       "Q6581072  31.491653\n",
       "Q6581097  32.939992"
      ]
     },
     "execution_count": 57,
     "metadata": {},
     "output_type": "execute_result"
    }
   ],
   "source": [
    "df2 = pd.DataFrame(gender_dist_ratio_no_conditions_per_year)\n",
    "df2.index = ['Female', 'Male']\n",
    "df2"
   ]
  },
  {
   "cell_type": "markdown",
   "metadata": {},
   "source": [
    "Finally, we visualise our distributions from 2015 to 2020."
   ]
  },
  {
   "cell_type": "code",
   "execution_count": null,
   "metadata": {},
   "outputs": [
    {
     "data": {
      "image/png": "[encoded data removed]",
      "text/plain": [
       "<Figure size 432x288 with 1 Axes>"
      ]
     },
     "metadata": {
      "needs_background": "light"
     },
     "output_type": "display_data"
    }
   ],
   "source": [
    "df2.index = ['Female', 'Male']\n",
    "df2.plot(kind = 'bar', color = [color_palette[4], color_palette[3], color_palette[2], color_palette[1], \n",
    "                                color_palette[0]])\n",
    "plt.xlabel('Gender')\n",
    "plt.ylabel('% of uncertain speakers')\n",
    "plt.title('Relative % of uncertain speakers from 2015 to 2020 in our general dataframe', pad = 20)\n",
    "plt.show()"
   ]
  },
  {
   "cell_type": "markdown",
   "metadata": {},
   "source": [
    "Statistical analysis..."
   ]
  },
  {
   "cell_type": "markdown",
   "metadata": {
    "tags": []
   },
   "source": [
    "## 5. Interpretation of results <a class = anchor id=\"interpretation\"></a>"
   ]
  },
  {
   "cell_type": "markdown",
   "metadata": {},
   "source": [
    "(OLD TEXT)\n",
    "\n",
    "Through this notebook, we aimed to analyse the speech difference between women and men using the Quotebank dataset. We started from the hypothesis that women speak less confidently than men and in a more uncertain way. To verify this claim, we conducted an analysis with the help of a classifier which distinguishes uncertain quotations from certain quotation. We also used Wikidata as a supplement input data to study more closely the quotation speakers.   \n",
    "We performed various data frame separation with respect to the `occupation`, `religion`, `nationality` and `education`, to be able to measure the impact of each influence and to remove out the bias. For our initial question, it seems that there is no significant difference between men and women when compared in the same field of work. However, there seems that women in some culture or education level do show speech uncertainty more than men. However, it is important to follow these intial suggestions by a robust data statistical analysis with hypothesis testing.   \n",
    "As a continuation of our milestone 2, it would be interesting to dive deeper on the statistical analysis of our findings as well as generalize to all of our quotebank dataset from 2015 up to 2020."
   ]
  },
  {
   "cell_type": "code",
   "execution_count": null,
   "metadata": {},
   "outputs": [],
   "source": []
  }
 ],
 "metadata": {
  "interpreter": {
   "hash": "a53c85f19ec6b2954a44487f2d44944431fd108845d569e7201686def1655526"
  },
  "kernelspec": {
   "display_name": "Python 3 (ipykernel)",
   "language": "python",
   "name": "python3"
  },
  "language_info": {
   "codemirror_mode": {
    "name": "ipython",
    "version": 3
   },
   "file_extension": ".py",
   "mimetype": "text/x-python",
   "name": "python",
   "nbconvert_exporter": "python",
   "pygments_lexer": "ipython3",
   "version": "3.8.11"
  }
 },
 "nbformat": 4,
 "nbformat_minor": 4
}
