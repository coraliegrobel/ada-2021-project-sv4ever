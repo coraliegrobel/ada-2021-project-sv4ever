{
 "cells": [
  {
   "cell_type": "markdown",
   "metadata": {},
   "source": [
    "# *Analysis of speech behaviours between genders*\n",
    "\n",
    "## Context\n",
    "\n",
    "In this project, we are going to analyze data from Quotebank. Quotebank, as the name suggests, is an open corpus which gathers 178 million quotations from 2008 to 2020. Still, in this project, we will only focus on the most recent quotations, being from 2015 to 2020.\n",
    "\n",
    "We are interested in using this dataset to answer the following question: Do speech behaviours related to confidence and uncertainty vary between men and women?\n",
    "\n",
    "To answer this question, we'll go through the following points:\n",
    "\n",
    "1. To what extent can we observe the differences in communicative acts in relation to gender within a professional area? Are there noticeable differences between those professional areas?\n",
    "2. What are the roles of environment (nationality), culture/tradition (religion, ethnic groups), and education (whether the speaker obtained an academic degree) in determining those differences in speech between men and women? How are the lines drawn between the language we use and the environment around us?\n",
    "3. Has there been a possible change over time (from 2015 to 2020)?\n",
    "\n",
    "In order to have access to the speakers' information (e.g., speakers' genders), we use the open source data from wikidata (https://www.wikidata.org/wiki/Wikidata:Main_Page).\n",
    "\n",
    "To analyse speech uncertainty, we use an uncertainty detection classifier, adapted from the following paper \"P. A. Jean, S. Harispe, S. Ranwez, P. Bellot, and J. Montmain, “[Uncertainty detection in natural language: A probabilistic model](https://www.researchgate.net/publication/303842922)” ACM Int. Conf. Proceeding Ser., vol. 13-15-June, no. June, 2016, doi: 10.1145/2912845.2912873\"."
   ]
  },
  {
   "cell_type": "markdown",
   "metadata": {
    "jp-MarkdownHeadingCollapsed": true,
    "tags": []
   },
   "source": [
    "## Table of contents\n",
    "\n",
    "[1. Pre-processing of the data](#pre-processing) \n",
    "- [Imports](#1imports)\n",
    "- [Pathways](#1pathways)\n",
    "- [Functions](#1functions)\n",
    "- [Merging files from wikidata into one file containing the 9 million speakers](#1merging)\n",
    "- [1.1 Loading and pre-processing of Quotebank data](#1.1)\n",
    "- [1.2 Analysis of the quotes from Quotebank](#1.2)\n",
    "- [1.3 Loading wikidata labels](#1.3) \n",
    "- [1.4 Pre-processing of wikidata](#1.4)\n",
    "- [1.5 Exploratory Data Analysis of wikidata](#1.5)\n",
    "\n",
    "[2. Creation of our sub data frames](#dataframes)\n",
    "- [Imports](#2imports)\n",
    "- [Functions](#2functions)\n",
    "- [2.1 Creation of professional fields](#2.1)\n",
    "- [2.2 Creation of sub-dataframes](#2.2) \n",
    "- [2.3 Creation of Data Frames with English Quotes only](#2.3)\n",
    "- [2.4 Saving of all sub data frames](#2.4)\n",
    "\n",
    "[3. Classification of the quotes](#classifier)\n",
    "- [Pathways](#3pathways)\n",
    "- [Functions](#3functions)\n",
    "- [3.1 Reading of all sub data frames](#3.1)\n",
    "- [3.2 Creation of the text files](#3.2)\n",
    "- [3.3 Use of the uncertainty detection classifier](#3.3) \n",
    "\n",
    "[4. Results](#results)\n",
    "- [Imports](#4imports)\n",
    "- [Functions](#4functions)\n",
    "- [4.1 Gender distribution accross occupations](#4.1)\n",
    "- [4.2 Analysis of the gender distribution per professions](#4.2) \n",
    "- [4.3 Background influence](#4.3)\n",
    "- [4.4 Possible variation from 2015 to 2020](#4.4)\n",
    "\n",
    "[5. Statistical analysis](#statanalysis)\n",
    "- [5.1 Analysis of the gender distribution](#5.1)\n",
    "- [5.2 Analysis of the gender distribution per profession](#5.2)\n",
    "- [5.3 Analysis of background influence regarding gender distribution](#5.3) \n",
    "- [5.4 Possible variation from 2015 to 2020](#5.4)\n",
    "\n",
    "[6. Conclusion](#conclusion)"
   ]
  },
  {
   "cell_type": "markdown",
   "metadata": {},
   "source": [
    "## 1. Pre-processing of the data <a class = anchor id=\"pre-processing\"></a>"
   ]
  },
  {
   "cell_type": "markdown",
   "metadata": {},
   "source": [
    "### Imports <a class = anchor id=\"1imports\"></a>"
   ]
  },
  {
   "cell_type": "markdown",
   "metadata": {},
   "source": [
    "Let's start by importing our libraries. "
   ]
  },
  {
   "cell_type": "code",
   "execution_count": 1,
   "metadata": {},
   "outputs": [],
   "source": [
    "import pandas as pd\n",
    "import numpy as np\n",
    "import seaborn as sns\n",
    "import matplotlib.pyplot as plt\n",
    "from langdetect import detect, DetectorFactory\n",
    "import requests\n",
    "import plotly\n",
    "import plotly.graph_objects as go\n",
    "from plotly.subplots import make_subplots"
   ]
  },
  {
   "cell_type": "markdown",
   "metadata": {},
   "source": [
    "### Pathways <a class = anchor id=\"1pathways\"></a>"
   ]
  },
  {
   "cell_type": "markdown",
   "metadata": {},
   "source": [
    "In order to run this project, one needs to download the directories and files from the following drive: https://drive.google.com/drive/folders/1UgvnLUFhs14NDcZYH6NuZx2f_YC5i06N?usp=sharing. All directories need to be added in the same directory as this notebook. The data folders \"Data\", \"Data_parquet\" and \"Images\" are already important for the upcoming [1. Pre-processing of the data](#pre-processing); the directories \"Classifier\" and \"txt_files\" will be needed in the [3. Classification of the quotes](#classifier); the \"Small Data\" directory is needed for the [5. Statistical analysis](#statanalysis)."
   ]
  },
  {
   "cell_type": "code",
   "execution_count": 2,
   "metadata": {},
   "outputs": [],
   "source": [
    "# DATA_PATH contains all data frames\n",
    "DATA_PATH = 'Data/'\n",
    "# PATH_PARQUET contains all the data from wikidata\n",
    "PATH_PARQUET = 'Data_parquet/'\n",
    "# IMAGE_PATH contains all saved images\n",
    "IMAGE_PATH = 'Images/'"
   ]
  },
  {
   "cell_type": "markdown",
   "metadata": {},
   "source": [
    "### Functions <a class = anchor id=\"1functions\"></a>"
   ]
  },
  {
   "cell_type": "markdown",
   "metadata": {},
   "source": [
    "The following function is needed for the pre-processing."
   ]
  },
  {
   "cell_type": "code",
   "execution_count": 3,
   "metadata": {},
   "outputs": [],
   "source": [
    "def saving_wikidata(path):\n",
    "    \"\"\"\n",
    "    Transforms all the wikidata files in one dataset saved as pickle. \n",
    "    This allows to load the file and use it more quickly and easily.\n",
    "    Input:\n",
    "        * path : pathway where to save the pickle file\n",
    "    \"\"\"\n",
    "    wikidata_all = pd.DataFrame()\n",
    "    for i in range(1,16):\n",
    "        if i < 10:\n",
    "            DATA_FILE = 'part-0000{}-0d587965-3d8f-41ce-9771-5b8c9024dce9-c000.snappy.parquet'.format(i)\n",
    "        else:\n",
    "            DATA_FILE = 'part-000{}-0d587965-3d8f-41ce-9771-5b8c9024dce9-c000.snappy.parquet'.format(i)\n",
    "        wikidata = pd.read_parquet(PATH_PARQUET + DATA_FILE)\n",
    "        wikidata_all = pd.concat([wikidata_all, wikidata])\n",
    "    wikidata_all.to_pickle(path)\n",
    "\n",
    "def det(x):\n",
    "    \"\"\"\n",
    "    Detects the language a quote.\n",
    "    Input:\n",
    "        * x : one quote\n",
    "    Output:\n",
    "        * lang : language of the quote\n",
    "    \"\"\"\n",
    "    DetectorFactory.seed = seed\n",
    "    try:\n",
    "        lang = detect(x)\n",
    "    except:\n",
    "        lang = 'Other'\n",
    "    return lang"
   ]
  },
  {
   "cell_type": "markdown",
   "metadata": {
    "tags": []
   },
   "source": [
    "### Merging files from wikidata into one file containing the 9 million speakers <a class = anchor id=\"1merging\"></a>"
   ]
  },
  {
   "cell_type": "markdown",
   "metadata": {},
   "source": [
    "Here, we create the file \"wikidata_all.pck\" containing all the raw data from wikidata. We already ran this cell and the file can be found in \"Data\". As this is a huge dataset, we save the file as pickle, as this is much less comutationally costly than directly working with the data."
   ]
  },
  {
   "cell_type": "code",
   "execution_count": 4,
   "metadata": {},
   "outputs": [],
   "source": [
    "\"\"\" Only intented to be run once\n",
    "saving_wikidata(DATA_PATH + \"wikidata_all.pck\")\"\"\";"
   ]
  },
  {
   "cell_type": "markdown",
   "metadata": {},
   "source": [
    "### 1.1. Loading and pre-processing of Quotebank data <a class = anchor id=\"1.1\"></a>"
   ]
  },
  {
   "cell_type": "markdown",
   "metadata": {},
   "source": [
    "The function `clean_quotebank` (in [Functions](#2functions) below) does a first cleaning of the quotebank dataset by leaving behind quotes from unknown speakers as they would not be useful towards our study. We chose to also drop the quotes from uncertain speakers, i.e. when the speaker probability was below 0.5. As this is a computationally costly operation, the cleaning is performed at the same time as we create our quotebank sub dataframes ([2. Creation of our sub data frames](#dataframes))."
   ]
  },
  {
   "cell_type": "markdown",
   "metadata": {},
   "source": [
    "### 1.2 Analysis of the quotes from Quotebank <a class = anchor id=\"1.2\"></a>"
   ]
  },
  {
   "cell_type": "markdown",
   "metadata": {},
   "source": [
    "We take a random sample of our dataframe to analyze the language distribution in the dataset. More information about this dataframe (saved as \"df_no_conditions_2020.pck\" in Data) will be provided in the [2. Creation of our sub data frames](#dataframes). We consider that this sample selected randomly is representative of the whole dataset."
   ]
  },
  {
   "cell_type": "code",
   "execution_count": 4,
   "metadata": {},
   "outputs": [],
   "source": [
    "df_no_conditions_2020 = pd.read_pickle(DATA_PATH + \"df_no_conditions_2020.pck\")"
   ]
  },
  {
   "cell_type": "markdown",
   "metadata": {},
   "source": [
    "For reproducibility, a seed is fixed for the entire dataframe (`seed` = 2). "
   ]
  },
  {
   "cell_type": "code",
   "execution_count": 3,
   "metadata": {},
   "outputs": [],
   "source": [
    "seed = 2"
   ]
  },
  {
   "cell_type": "code",
   "execution_count": 6,
   "metadata": {},
   "outputs": [],
   "source": [
    "small_df = df_no_conditions_2020.sample(n = 300, random_state = seed)"
   ]
  },
  {
   "cell_type": "markdown",
   "metadata": {},
   "source": [
    "Here is a glampse at some quotes."
   ]
  },
  {
   "cell_type": "code",
   "execution_count": 7,
   "metadata": {
    "scrolled": false
   },
   "outputs": [
    {
     "name": "stdout",
     "output_type": "stream",
     "text": [
      "(300, 24)\n"
     ]
    },
    {
     "data": {
      "text/html": [
       "<div>\n",
       "<style scoped>\n",
       "    .dataframe tbody tr th:only-of-type {\n",
       "        vertical-align: middle;\n",
       "    }\n",
       "\n",
       "    .dataframe tbody tr th {\n",
       "        vertical-align: top;\n",
       "    }\n",
       "\n",
       "    .dataframe thead th {\n",
       "        text-align: right;\n",
       "    }\n",
       "</style>\n",
       "<table border=\"1\" class=\"dataframe\">\n",
       "  <thead>\n",
       "    <tr style=\"text-align: right;\">\n",
       "      <th></th>\n",
       "      <th>quoteID</th>\n",
       "      <th>quotation</th>\n",
       "      <th>speaker</th>\n",
       "      <th>qids</th>\n",
       "      <th>date</th>\n",
       "      <th>numOccurrences</th>\n",
       "      <th>probas</th>\n",
       "      <th>urls</th>\n",
       "      <th>phase</th>\n",
       "      <th>aliases</th>\n",
       "      <th>...</th>\n",
       "      <th>ethnic_group</th>\n",
       "      <th>US_congress_bio_ID</th>\n",
       "      <th>occupation</th>\n",
       "      <th>party</th>\n",
       "      <th>academic_degree</th>\n",
       "      <th>id</th>\n",
       "      <th>label</th>\n",
       "      <th>candidacy</th>\n",
       "      <th>type</th>\n",
       "      <th>religion</th>\n",
       "    </tr>\n",
       "  </thead>\n",
       "  <tbody>\n",
       "    <tr>\n",
       "      <th>65382</th>\n",
       "      <td>2020-01-16-037739</td>\n",
       "      <td>I will seek to mend fences with our neighbouri...</td>\n",
       "      <td>John Campion</td>\n",
       "      <td>Q24572630</td>\n",
       "      <td>2020-01-16 06:01:00</td>\n",
       "      <td>1</td>\n",
       "      <td>[[John Campion, 0.6249], [None, 0.3751]]</td>\n",
       "      <td>[http://www.shropshirestar.com/news/crime/2020...</td>\n",
       "      <td>E</td>\n",
       "      <td>[John-Paul Campion]</td>\n",
       "      <td>...</td>\n",
       "      <td>None</td>\n",
       "      <td>None</td>\n",
       "      <td>[Q82955]</td>\n",
       "      <td>[Q9626]</td>\n",
       "      <td>None</td>\n",
       "      <td>Q24572630</td>\n",
       "      <td>John Campion</td>\n",
       "      <td>None</td>\n",
       "      <td>item</td>\n",
       "      <td>None</td>\n",
       "    </tr>\n",
       "    <tr>\n",
       "      <th>27097</th>\n",
       "      <td>2020-02-13-119432</td>\n",
       "      <td>We're training at Aston Villa again, mid journ...</td>\n",
       "      <td>Chris Beech</td>\n",
       "      <td>Q5105871</td>\n",
       "      <td>2020-02-13 17:27:16</td>\n",
       "      <td>1</td>\n",
       "      <td>[[Chris Beech, 0.6725], [None, 0.238], [Dean S...</td>\n",
       "      <td>[https://www.birminghammail.co.uk/sport/footba...</td>\n",
       "      <td>E</td>\n",
       "      <td>None</td>\n",
       "      <td>...</td>\n",
       "      <td>None</td>\n",
       "      <td>None</td>\n",
       "      <td>[Q937857]</td>\n",
       "      <td>None</td>\n",
       "      <td>None</td>\n",
       "      <td>Q5105871</td>\n",
       "      <td>Chris Beech</td>\n",
       "      <td>None</td>\n",
       "      <td>item</td>\n",
       "      <td>None</td>\n",
       "    </tr>\n",
       "    <tr>\n",
       "      <th>25289</th>\n",
       "      <td>2020-01-23-019530</td>\n",
       "      <td>Exports of firearms and related items that do ...</td>\n",
       "      <td>R. Clarke Cooper</td>\n",
       "      <td>Q7273550</td>\n",
       "      <td>2020-01-23 22:15:25</td>\n",
       "      <td>1</td>\n",
       "      <td>[[R. Clarke Cooper, 0.8201], [None, 0.1799]]</td>\n",
       "      <td>[https://www.cnbc.com/2020/01/23/gun-exports-g...</td>\n",
       "      <td>E</td>\n",
       "      <td>[René Clarke Cooper]</td>\n",
       "      <td>...</td>\n",
       "      <td>None</td>\n",
       "      <td>None</td>\n",
       "      <td>[Q11986654, Q189290, Q82955]</td>\n",
       "      <td>[Q29468]</td>\n",
       "      <td>None</td>\n",
       "      <td>Q7273550</td>\n",
       "      <td>R. Clarke Cooper</td>\n",
       "      <td>None</td>\n",
       "      <td>item</td>\n",
       "      <td>[Q682443]</td>\n",
       "    </tr>\n",
       "  </tbody>\n",
       "</table>\n",
       "<p>3 rows × 24 columns</p>\n",
       "</div>"
      ],
      "text/plain": [
       "                 quoteID                                          quotation  \\\n",
       "65382  2020-01-16-037739  I will seek to mend fences with our neighbouri...   \n",
       "27097  2020-02-13-119432  We're training at Aston Villa again, mid journ...   \n",
       "25289  2020-01-23-019530  Exports of firearms and related items that do ...   \n",
       "\n",
       "                speaker       qids                date  numOccurrences  \\\n",
       "65382      John Campion  Q24572630 2020-01-16 06:01:00               1   \n",
       "27097       Chris Beech   Q5105871 2020-02-13 17:27:16               1   \n",
       "25289  R. Clarke Cooper   Q7273550 2020-01-23 22:15:25               1   \n",
       "\n",
       "                                                  probas  \\\n",
       "65382           [[John Campion, 0.6249], [None, 0.3751]]   \n",
       "27097  [[Chris Beech, 0.6725], [None, 0.238], [Dean S...   \n",
       "25289       [[R. Clarke Cooper, 0.8201], [None, 0.1799]]   \n",
       "\n",
       "                                                    urls phase  \\\n",
       "65382  [http://www.shropshirestar.com/news/crime/2020...     E   \n",
       "27097  [https://www.birminghammail.co.uk/sport/footba...     E   \n",
       "25289  [https://www.cnbc.com/2020/01/23/gun-exports-g...     E   \n",
       "\n",
       "                    aliases  ... ethnic_group US_congress_bio_ID  \\\n",
       "65382   [John-Paul Campion]  ...         None               None   \n",
       "27097                  None  ...         None               None   \n",
       "25289  [René Clarke Cooper]  ...         None               None   \n",
       "\n",
       "                         occupation     party academic_degree         id  \\\n",
       "65382                      [Q82955]   [Q9626]            None  Q24572630   \n",
       "27097                     [Q937857]      None            None   Q5105871   \n",
       "25289  [Q11986654, Q189290, Q82955]  [Q29468]            None   Q7273550   \n",
       "\n",
       "                  label candidacy  type   religion  \n",
       "65382      John Campion      None  item       None  \n",
       "27097       Chris Beech      None  item       None  \n",
       "25289  R. Clarke Cooper      None  item  [Q682443]  \n",
       "\n",
       "[3 rows x 24 columns]"
      ]
     },
     "execution_count": 7,
     "metadata": {},
     "output_type": "execute_result"
    }
   ],
   "source": [
    "print(small_df.shape)\n",
    "small_df.head(3)"
   ]
  },
  {
   "cell_type": "markdown",
   "metadata": {},
   "source": [
    "We use langdetect to identify quotations language."
   ]
  },
  {
   "cell_type": "code",
   "execution_count": 8,
   "metadata": {},
   "outputs": [],
   "source": [
    "small_df['quote_language'] = small_df['quotation'].apply(lambda x: det(x))"
   ]
  },
  {
   "cell_type": "markdown",
   "metadata": {},
   "source": [
    "Let's print all languages contained in `small_df`."
   ]
  },
  {
   "cell_type": "code",
   "execution_count": 9,
   "metadata": {},
   "outputs": [
    {
     "data": {
      "text/plain": [
       "array(['en', 'fr', 'et', 'ca', 'sw'], dtype=object)"
      ]
     },
     "execution_count": 9,
     "metadata": {},
     "output_type": "execute_result"
    }
   ],
   "source": [
    "small_df['quote_language'].unique()"
   ]
  },
  {
   "cell_type": "markdown",
   "metadata": {},
   "source": [
    "We see that not all quotes are in English. Therefore, in part [2.3 Creation of Data Frames with English Quotes only](#2.3), we will select only the English quotes from our data frames."
   ]
  },
  {
   "cell_type": "markdown",
   "metadata": {},
   "source": [
    "Before the visualisation, we define a color palette that will be used carefully throughout the project to be robust for color blind people."
   ]
  },
  {
   "cell_type": "code",
   "execution_count": 6,
   "metadata": {},
   "outputs": [],
   "source": [
    "colors=[\"#FF0000\", \"#FF1B1B\", \"#FF3637\", \"#FF5252\", \"#FF6D6E\", \"#FE8889\", \"#FEA3A5\", \"#FEBFC0\", \"#FEDADC\", \"#FEF5F7\"]"
   ]
  },
  {
   "cell_type": "markdown",
   "metadata": {},
   "source": [
    "Let's visualise the languages in this sample of our dataset."
   ]
  },
  {
   "cell_type": "code",
   "execution_count": 11,
   "metadata": {},
   "outputs": [],
   "source": [
    "language_dist = small_df.groupby('quote_language').size()\n",
    "language_dist = language_dist.div(language_dist.sum(axis = 0), axis = 0)"
   ]
  },
  {
   "cell_type": "code",
   "execution_count": 12,
   "metadata": {},
   "outputs": [
    {
     "data": {
      "text/html": [
       "<div>\n",
       "<style scoped>\n",
       "    .dataframe tbody tr th:only-of-type {\n",
       "        vertical-align: middle;\n",
       "    }\n",
       "\n",
       "    .dataframe tbody tr th {\n",
       "        vertical-align: top;\n",
       "    }\n",
       "\n",
       "    .dataframe thead th {\n",
       "        text-align: right;\n",
       "    }\n",
       "</style>\n",
       "<table border=\"1\" class=\"dataframe\">\n",
       "  <thead>\n",
       "    <tr style=\"text-align: right;\">\n",
       "      <th></th>\n",
       "      <th>languages</th>\n",
       "    </tr>\n",
       "    <tr>\n",
       "      <th>quote_language</th>\n",
       "      <th></th>\n",
       "    </tr>\n",
       "  </thead>\n",
       "  <tbody>\n",
       "    <tr>\n",
       "      <th>en</th>\n",
       "      <td>0.983</td>\n",
       "    </tr>\n",
       "    <tr>\n",
       "      <th>fr</th>\n",
       "      <td>0.007</td>\n",
       "    </tr>\n",
       "    <tr>\n",
       "      <th>ca</th>\n",
       "      <td>0.003</td>\n",
       "    </tr>\n",
       "    <tr>\n",
       "      <th>et</th>\n",
       "      <td>0.003</td>\n",
       "    </tr>\n",
       "    <tr>\n",
       "      <th>sw</th>\n",
       "      <td>0.003</td>\n",
       "    </tr>\n",
       "  </tbody>\n",
       "</table>\n",
       "</div>"
      ],
      "text/plain": [
       "                languages\n",
       "quote_language           \n",
       "en                  0.983\n",
       "fr                  0.007\n",
       "ca                  0.003\n",
       "et                  0.003\n",
       "sw                  0.003"
      ]
     },
     "execution_count": 12,
     "metadata": {},
     "output_type": "execute_result"
    }
   ],
   "source": [
    "df_lang = pd.DataFrame()\n",
    "df_lang['languages'] = language_dist.sort_values(ascending = False)\n",
    "df_lang.round(decimals = 3)"
   ]
  },
  {
   "cell_type": "markdown",
   "metadata": {},
   "source": [
    "The languages are then retrieved using the \"List of ISO 639-1 codes\" (https://en.wikipedia.org/wiki/List_of_ISO_639-1_codes)."
   ]
  },
  {
   "cell_type": "code",
   "execution_count": 13,
   "metadata": {},
   "outputs": [
    {
     "data": {
      "text/html": [
       "<div>\n",
       "<style scoped>\n",
       "    .dataframe tbody tr th:only-of-type {\n",
       "        vertical-align: middle;\n",
       "    }\n",
       "\n",
       "    .dataframe tbody tr th {\n",
       "        vertical-align: top;\n",
       "    }\n",
       "\n",
       "    .dataframe thead th {\n",
       "        text-align: right;\n",
       "    }\n",
       "</style>\n",
       "<table border=\"1\" class=\"dataframe\">\n",
       "  <thead>\n",
       "    <tr style=\"text-align: right;\">\n",
       "      <th></th>\n",
       "      <th>languages</th>\n",
       "    </tr>\n",
       "  </thead>\n",
       "  <tbody>\n",
       "    <tr>\n",
       "      <th>English</th>\n",
       "      <td>0.983</td>\n",
       "    </tr>\n",
       "    <tr>\n",
       "      <th>French</th>\n",
       "      <td>0.007</td>\n",
       "    </tr>\n",
       "    <tr>\n",
       "      <th>Catalan</th>\n",
       "      <td>0.003</td>\n",
       "    </tr>\n",
       "    <tr>\n",
       "      <th>Estonian</th>\n",
       "      <td>0.003</td>\n",
       "    </tr>\n",
       "    <tr>\n",
       "      <th>Swahili</th>\n",
       "      <td>0.003</td>\n",
       "    </tr>\n",
       "  </tbody>\n",
       "</table>\n",
       "</div>"
      ],
      "text/plain": [
       "          languages\n",
       "English       0.983\n",
       "French        0.007\n",
       "Catalan       0.003\n",
       "Estonian      0.003\n",
       "Swahili       0.003"
      ]
     },
     "execution_count": 13,
     "metadata": {},
     "output_type": "execute_result"
    }
   ],
   "source": [
    "df_lang.index = ['English', 'French', 'Catalan', 'Estonian', 'Swahili']\n",
    "df_lang.round(decimals = 3)"
   ]
  },
  {
   "cell_type": "markdown",
   "metadata": {},
   "source": [
    "We now display the languages in a plot."
   ]
  },
  {
   "cell_type": "code",
   "execution_count": 14,
   "metadata": {},
   "outputs": [
    {
     "data": {
      "application/vnd.plotly.v1+json": {
       "config": {
        "plotlyServerURL": "https://plot.ly"
       },
       "data": [
        {
         "marker": {
          "color": "#FF0000"
         },
         "type": "bar",
         "x": [
          "English",
          "French",
          "Catalan",
          "Estonian",
          "Swahili"
         ],
         "y": [
          0.9833333333333333,
          0.006666666666666667,
          0.0033333333333333335,
          0.0033333333333333335,
          0.0033333333333333335
         ]
        }
       ],
       "layout": {
        "template": {
         "data": {
          "bar": [
           {
            "error_x": {
             "color": "#2a3f5f"
            },
            "error_y": {
             "color": "#2a3f5f"
            },
            "marker": {
             "line": {
              "color": "#E5ECF6",
              "width": 0.5
             },
             "pattern": {
              "fillmode": "overlay",
              "size": 10,
              "solidity": 0.2
             }
            },
            "type": "bar"
           }
          ],
          "barpolar": [
           {
            "marker": {
             "line": {
              "color": "#E5ECF6",
              "width": 0.5
             },
             "pattern": {
              "fillmode": "overlay",
              "size": 10,
              "solidity": 0.2
             }
            },
            "type": "barpolar"
           }
          ],
          "carpet": [
           {
            "aaxis": {
             "endlinecolor": "#2a3f5f",
             "gridcolor": "white",
             "linecolor": "white",
             "minorgridcolor": "white",
             "startlinecolor": "#2a3f5f"
            },
            "baxis": {
             "endlinecolor": "#2a3f5f",
             "gridcolor": "white",
             "linecolor": "white",
             "minorgridcolor": "white",
             "startlinecolor": "#2a3f5f"
            },
            "type": "carpet"
           }
          ],
          "choropleth": [
           {
            "colorbar": {
             "outlinewidth": 0,
             "ticks": ""
            },
            "type": "choropleth"
           }
          ],
          "contour": [
           {
            "colorbar": {
             "outlinewidth": 0,
             "ticks": ""
            },
            "colorscale": [
             [
              0,
              "#0d0887"
             ],
             [
              0.1111111111111111,
              "#46039f"
             ],
             [
              0.2222222222222222,
              "#7201a8"
             ],
             [
              0.3333333333333333,
              "#9c179e"
             ],
             [
              0.4444444444444444,
              "#bd3786"
             ],
             [
              0.5555555555555556,
              "#d8576b"
             ],
             [
              0.6666666666666666,
              "#ed7953"
             ],
             [
              0.7777777777777778,
              "#fb9f3a"
             ],
             [
              0.8888888888888888,
              "#fdca26"
             ],
             [
              1,
              "#f0f921"
             ]
            ],
            "type": "contour"
           }
          ],
          "contourcarpet": [
           {
            "colorbar": {
             "outlinewidth": 0,
             "ticks": ""
            },
            "type": "contourcarpet"
           }
          ],
          "heatmap": [
           {
            "colorbar": {
             "outlinewidth": 0,
             "ticks": ""
            },
            "colorscale": [
             [
              0,
              "#0d0887"
             ],
             [
              0.1111111111111111,
              "#46039f"
             ],
             [
              0.2222222222222222,
              "#7201a8"
             ],
             [
              0.3333333333333333,
              "#9c179e"
             ],
             [
              0.4444444444444444,
              "#bd3786"
             ],
             [
              0.5555555555555556,
              "#d8576b"
             ],
             [
              0.6666666666666666,
              "#ed7953"
             ],
             [
              0.7777777777777778,
              "#fb9f3a"
             ],
             [
              0.8888888888888888,
              "#fdca26"
             ],
             [
              1,
              "#f0f921"
             ]
            ],
            "type": "heatmap"
           }
          ],
          "heatmapgl": [
           {
            "colorbar": {
             "outlinewidth": 0,
             "ticks": ""
            },
            "colorscale": [
             [
              0,
              "#0d0887"
             ],
             [
              0.1111111111111111,
              "#46039f"
             ],
             [
              0.2222222222222222,
              "#7201a8"
             ],
             [
              0.3333333333333333,
              "#9c179e"
             ],
             [
              0.4444444444444444,
              "#bd3786"
             ],
             [
              0.5555555555555556,
              "#d8576b"
             ],
             [
              0.6666666666666666,
              "#ed7953"
             ],
             [
              0.7777777777777778,
              "#fb9f3a"
             ],
             [
              0.8888888888888888,
              "#fdca26"
             ],
             [
              1,
              "#f0f921"
             ]
            ],
            "type": "heatmapgl"
           }
          ],
          "histogram": [
           {
            "marker": {
             "pattern": {
              "fillmode": "overlay",
              "size": 10,
              "solidity": 0.2
             }
            },
            "type": "histogram"
           }
          ],
          "histogram2d": [
           {
            "colorbar": {
             "outlinewidth": 0,
             "ticks": ""
            },
            "colorscale": [
             [
              0,
              "#0d0887"
             ],
             [
              0.1111111111111111,
              "#46039f"
             ],
             [
              0.2222222222222222,
              "#7201a8"
             ],
             [
              0.3333333333333333,
              "#9c179e"
             ],
             [
              0.4444444444444444,
              "#bd3786"
             ],
             [
              0.5555555555555556,
              "#d8576b"
             ],
             [
              0.6666666666666666,
              "#ed7953"
             ],
             [
              0.7777777777777778,
              "#fb9f3a"
             ],
             [
              0.8888888888888888,
              "#fdca26"
             ],
             [
              1,
              "#f0f921"
             ]
            ],
            "type": "histogram2d"
           }
          ],
          "histogram2dcontour": [
           {
            "colorbar": {
             "outlinewidth": 0,
             "ticks": ""
            },
            "colorscale": [
             [
              0,
              "#0d0887"
             ],
             [
              0.1111111111111111,
              "#46039f"
             ],
             [
              0.2222222222222222,
              "#7201a8"
             ],
             [
              0.3333333333333333,
              "#9c179e"
             ],
             [
              0.4444444444444444,
              "#bd3786"
             ],
             [
              0.5555555555555556,
              "#d8576b"
             ],
             [
              0.6666666666666666,
              "#ed7953"
             ],
             [
              0.7777777777777778,
              "#fb9f3a"
             ],
             [
              0.8888888888888888,
              "#fdca26"
             ],
             [
              1,
              "#f0f921"
             ]
            ],
            "type": "histogram2dcontour"
           }
          ],
          "mesh3d": [
           {
            "colorbar": {
             "outlinewidth": 0,
             "ticks": ""
            },
            "type": "mesh3d"
           }
          ],
          "parcoords": [
           {
            "line": {
             "colorbar": {
              "outlinewidth": 0,
              "ticks": ""
             }
            },
            "type": "parcoords"
           }
          ],
          "pie": [
           {
            "automargin": true,
            "type": "pie"
           }
          ],
          "scatter": [
           {
            "marker": {
             "colorbar": {
              "outlinewidth": 0,
              "ticks": ""
             }
            },
            "type": "scatter"
           }
          ],
          "scatter3d": [
           {
            "line": {
             "colorbar": {
              "outlinewidth": 0,
              "ticks": ""
             }
            },
            "marker": {
             "colorbar": {
              "outlinewidth": 0,
              "ticks": ""
             }
            },
            "type": "scatter3d"
           }
          ],
          "scattercarpet": [
           {
            "marker": {
             "colorbar": {
              "outlinewidth": 0,
              "ticks": ""
             }
            },
            "type": "scattercarpet"
           }
          ],
          "scattergeo": [
           {
            "marker": {
             "colorbar": {
              "outlinewidth": 0,
              "ticks": ""
             }
            },
            "type": "scattergeo"
           }
          ],
          "scattergl": [
           {
            "marker": {
             "colorbar": {
              "outlinewidth": 0,
              "ticks": ""
             }
            },
            "type": "scattergl"
           }
          ],
          "scattermapbox": [
           {
            "marker": {
             "colorbar": {
              "outlinewidth": 0,
              "ticks": ""
             }
            },
            "type": "scattermapbox"
           }
          ],
          "scatterpolar": [
           {
            "marker": {
             "colorbar": {
              "outlinewidth": 0,
              "ticks": ""
             }
            },
            "type": "scatterpolar"
           }
          ],
          "scatterpolargl": [
           {
            "marker": {
             "colorbar": {
              "outlinewidth": 0,
              "ticks": ""
             }
            },
            "type": "scatterpolargl"
           }
          ],
          "scatterternary": [
           {
            "marker": {
             "colorbar": {
              "outlinewidth": 0,
              "ticks": ""
             }
            },
            "type": "scatterternary"
           }
          ],
          "surface": [
           {
            "colorbar": {
             "outlinewidth": 0,
             "ticks": ""
            },
            "colorscale": [
             [
              0,
              "#0d0887"
             ],
             [
              0.1111111111111111,
              "#46039f"
             ],
             [
              0.2222222222222222,
              "#7201a8"
             ],
             [
              0.3333333333333333,
              "#9c179e"
             ],
             [
              0.4444444444444444,
              "#bd3786"
             ],
             [
              0.5555555555555556,
              "#d8576b"
             ],
             [
              0.6666666666666666,
              "#ed7953"
             ],
             [
              0.7777777777777778,
              "#fb9f3a"
             ],
             [
              0.8888888888888888,
              "#fdca26"
             ],
             [
              1,
              "#f0f921"
             ]
            ],
            "type": "surface"
           }
          ],
          "table": [
           {
            "cells": {
             "fill": {
              "color": "#EBF0F8"
             },
             "line": {
              "color": "white"
             }
            },
            "header": {
             "fill": {
              "color": "#C8D4E3"
             },
             "line": {
              "color": "white"
             }
            },
            "type": "table"
           }
          ]
         },
         "layout": {
          "annotationdefaults": {
           "arrowcolor": "#2a3f5f",
           "arrowhead": 0,
           "arrowwidth": 1
          },
          "autotypenumbers": "strict",
          "coloraxis": {
           "colorbar": {
            "outlinewidth": 0,
            "ticks": ""
           }
          },
          "colorscale": {
           "diverging": [
            [
             0,
             "#8e0152"
            ],
            [
             0.1,
             "#c51b7d"
            ],
            [
             0.2,
             "#de77ae"
            ],
            [
             0.3,
             "#f1b6da"
            ],
            [
             0.4,
             "#fde0ef"
            ],
            [
             0.5,
             "#f7f7f7"
            ],
            [
             0.6,
             "#e6f5d0"
            ],
            [
             0.7,
             "#b8e186"
            ],
            [
             0.8,
             "#7fbc41"
            ],
            [
             0.9,
             "#4d9221"
            ],
            [
             1,
             "#276419"
            ]
           ],
           "sequential": [
            [
             0,
             "#0d0887"
            ],
            [
             0.1111111111111111,
             "#46039f"
            ],
            [
             0.2222222222222222,
             "#7201a8"
            ],
            [
             0.3333333333333333,
             "#9c179e"
            ],
            [
             0.4444444444444444,
             "#bd3786"
            ],
            [
             0.5555555555555556,
             "#d8576b"
            ],
            [
             0.6666666666666666,
             "#ed7953"
            ],
            [
             0.7777777777777778,
             "#fb9f3a"
            ],
            [
             0.8888888888888888,
             "#fdca26"
            ],
            [
             1,
             "#f0f921"
            ]
           ],
           "sequentialminus": [
            [
             0,
             "#0d0887"
            ],
            [
             0.1111111111111111,
             "#46039f"
            ],
            [
             0.2222222222222222,
             "#7201a8"
            ],
            [
             0.3333333333333333,
             "#9c179e"
            ],
            [
             0.4444444444444444,
             "#bd3786"
            ],
            [
             0.5555555555555556,
             "#d8576b"
            ],
            [
             0.6666666666666666,
             "#ed7953"
            ],
            [
             0.7777777777777778,
             "#fb9f3a"
            ],
            [
             0.8888888888888888,
             "#fdca26"
            ],
            [
             1,
             "#f0f921"
            ]
           ]
          },
          "colorway": [
           "#636efa",
           "#EF553B",
           "#00cc96",
           "#ab63fa",
           "#FFA15A",
           "#19d3f3",
           "#FF6692",
           "#B6E880",
           "#FF97FF",
           "#FECB52"
          ],
          "font": {
           "color": "#2a3f5f"
          },
          "geo": {
           "bgcolor": "white",
           "lakecolor": "white",
           "landcolor": "#E5ECF6",
           "showlakes": true,
           "showland": true,
           "subunitcolor": "white"
          },
          "hoverlabel": {
           "align": "left"
          },
          "hovermode": "closest",
          "mapbox": {
           "style": "light"
          },
          "paper_bgcolor": "white",
          "plot_bgcolor": "#E5ECF6",
          "polar": {
           "angularaxis": {
            "gridcolor": "white",
            "linecolor": "white",
            "ticks": ""
           },
           "bgcolor": "#E5ECF6",
           "radialaxis": {
            "gridcolor": "white",
            "linecolor": "white",
            "ticks": ""
           }
          },
          "scene": {
           "xaxis": {
            "backgroundcolor": "#E5ECF6",
            "gridcolor": "white",
            "gridwidth": 2,
            "linecolor": "white",
            "showbackground": true,
            "ticks": "",
            "zerolinecolor": "white"
           },
           "yaxis": {
            "backgroundcolor": "#E5ECF6",
            "gridcolor": "white",
            "gridwidth": 2,
            "linecolor": "white",
            "showbackground": true,
            "ticks": "",
            "zerolinecolor": "white"
           },
           "zaxis": {
            "backgroundcolor": "#E5ECF6",
            "gridcolor": "white",
            "gridwidth": 2,
            "linecolor": "white",
            "showbackground": true,
            "ticks": "",
            "zerolinecolor": "white"
           }
          },
          "shapedefaults": {
           "line": {
            "color": "#2a3f5f"
           }
          },
          "ternary": {
           "aaxis": {
            "gridcolor": "white",
            "linecolor": "white",
            "ticks": ""
           },
           "baxis": {
            "gridcolor": "white",
            "linecolor": "white",
            "ticks": ""
           },
           "bgcolor": "#E5ECF6",
           "caxis": {
            "gridcolor": "white",
            "linecolor": "white",
            "ticks": ""
           }
          },
          "title": {
           "x": 0.05
          },
          "xaxis": {
           "automargin": true,
           "gridcolor": "white",
           "linecolor": "white",
           "ticks": "",
           "title": {
            "standoff": 15
           },
           "zerolinecolor": "white",
           "zerolinewidth": 2
          },
          "yaxis": {
           "automargin": true,
           "gridcolor": "white",
           "linecolor": "white",
           "ticks": "",
           "title": {
            "standoff": 15
           },
           "zerolinecolor": "white",
           "zerolinewidth": 2
          }
         }
        },
        "title": {
         "text": "Language distribution of the quotations",
         "x": 0.5
        },
        "xaxis": {
         "title": {
          "text": "Languages"
         }
        },
        "yaxis": {
         "title": {
          "text": "Quotes (log scale)"
         },
         "type": "log"
        }
       }
      }
     },
     "metadata": {},
     "output_type": "display_data"
    }
   ],
   "source": [
    "trace_lang = go.Bar(x = df_lang.index, y = df_lang['languages'], marker_color = colors[0])\n",
    "\n",
    "my_layout = {\n",
    "    'title': 'Language distribution of the quotations',\n",
    "    'xaxis': {'title': 'Languages'},\n",
    "    'yaxis': {'title': 'Quotes (log scale)'},\n",
    "    }\n",
    "\n",
    "fig = go.Figure()\n",
    "fig.add_trace(trace_lang)\n",
    "fig.update_layout(my_layout, title_x = 0.5)\n",
    "fig.update_yaxes(type = \"log\")\n",
    "\n",
    "fig.show()"
   ]
  },
  {
   "cell_type": "markdown",
   "metadata": {},
   "source": [
    "We save the image for the data story. All images have already been created and can be found in the folder \"Images\"."
   ]
  },
  {
   "cell_type": "code",
   "execution_count": 15,
   "metadata": {},
   "outputs": [],
   "source": [
    "\"\"\"html_path = IMAGE_PATH + \"language_dist_plot.html\"\n",
    "fig.write_html(html_path)\"\"\";"
   ]
  },
  {
   "cell_type": "markdown",
   "metadata": {},
   "source": [
    "We observe that the dataset is composed in vast majority of english quotes (99%) but it also contains quotes coming from different languages like French and Swahili."
   ]
  },
  {
   "cell_type": "markdown",
   "metadata": {},
   "source": [
    "### 1.3 Loading wikidata labels <a class = anchor id=\"1.3\"></a>"
   ]
  },
  {
   "cell_type": "markdown",
   "metadata": {},
   "source": [
    "Wikidata labels are encoded in items called QIDs, to map them back to human readable labels, we upload the following dataset."
   ]
  },
  {
   "cell_type": "code",
   "execution_count": 5,
   "metadata": {},
   "outputs": [],
   "source": [
    "qid_label = pd.read_csv(DATA_PATH+'wikidata_labels_descriptions_quotebank.csv.bz2',\n",
    "                        compression = 'bz2', index_col = 'QID')"
   ]
  },
  {
   "cell_type": "markdown",
   "metadata": {},
   "source": [
    "Let's have a quick look at this data frame."
   ]
  },
  {
   "cell_type": "code",
   "execution_count": 16,
   "metadata": {},
   "outputs": [
    {
     "data": {
      "text/html": [
       "<div>\n",
       "<style scoped>\n",
       "    .dataframe tbody tr th:only-of-type {\n",
       "        vertical-align: middle;\n",
       "    }\n",
       "\n",
       "    .dataframe tbody tr th {\n",
       "        vertical-align: top;\n",
       "    }\n",
       "\n",
       "    .dataframe thead th {\n",
       "        text-align: right;\n",
       "    }\n",
       "</style>\n",
       "<table border=\"1\" class=\"dataframe\">\n",
       "  <thead>\n",
       "    <tr style=\"text-align: right;\">\n",
       "      <th></th>\n",
       "      <th>Label</th>\n",
       "      <th>Description</th>\n",
       "    </tr>\n",
       "    <tr>\n",
       "      <th>QID</th>\n",
       "      <th></th>\n",
       "      <th></th>\n",
       "    </tr>\n",
       "  </thead>\n",
       "  <tbody>\n",
       "    <tr>\n",
       "      <th>Q31</th>\n",
       "      <td>Belgium</td>\n",
       "      <td>country in western Europe</td>\n",
       "    </tr>\n",
       "    <tr>\n",
       "      <th>Q45</th>\n",
       "      <td>Portugal</td>\n",
       "      <td>country in southwestern Europe</td>\n",
       "    </tr>\n",
       "    <tr>\n",
       "      <th>Q75</th>\n",
       "      <td>Internet</td>\n",
       "      <td>global system of connected computer networks</td>\n",
       "    </tr>\n",
       "    <tr>\n",
       "      <th>Q148</th>\n",
       "      <td>People's Republic of China</td>\n",
       "      <td>sovereign state in East Asia</td>\n",
       "    </tr>\n",
       "    <tr>\n",
       "      <th>Q155</th>\n",
       "      <td>Brazil</td>\n",
       "      <td>country in South America</td>\n",
       "    </tr>\n",
       "  </tbody>\n",
       "</table>\n",
       "</div>"
      ],
      "text/plain": [
       "                           Label                                   Description\n",
       "QID                                                                           \n",
       "Q31                      Belgium                     country in western Europe\n",
       "Q45                     Portugal                country in southwestern Europe\n",
       "Q75                     Internet  global system of connected computer networks\n",
       "Q148  People's Republic of China                  sovereign state in East Asia\n",
       "Q155                      Brazil                      country in South America"
      ]
     },
     "execution_count": 16,
     "metadata": {},
     "output_type": "execute_result"
    }
   ],
   "source": [
    "qid_label.head()"
   ]
  },
  {
   "cell_type": "markdown",
   "metadata": {},
   "source": [
    "### 1.4 Pre-processing of wikidata <a class = anchor id=\"1.4\"></a>"
   ]
  },
  {
   "cell_type": "markdown",
   "metadata": {},
   "source": [
    "To be able to find information about the speakers, we use wikidata. Let's start by creating a data frame of all the speakers from our pickle file \"wikidata_all.pck\"."
   ]
  },
  {
   "cell_type": "code",
   "execution_count": 17,
   "metadata": {},
   "outputs": [
    {
     "data": {
      "text/plain": [
       "(8583613, 15)"
      ]
     },
     "execution_count": 17,
     "metadata": {},
     "output_type": "execute_result"
    }
   ],
   "source": [
    "wikidata_all = pd.read_pickle(\"Data/wikidata_all.pck\")\n",
    "wikidata_all.shape"
   ]
  },
  {
   "cell_type": "markdown",
   "metadata": {},
   "source": [
    "We now search for possible redundant speakers."
   ]
  },
  {
   "cell_type": "code",
   "execution_count": 18,
   "metadata": {},
   "outputs": [
    {
     "data": {
      "text/plain": [
       "True"
      ]
     },
     "execution_count": 18,
     "metadata": {},
     "output_type": "execute_result"
    }
   ],
   "source": [
    "wikidata_all['id'].is_unique"
   ]
  },
  {
   "cell_type": "markdown",
   "metadata": {},
   "source": [
    "As this returns `True`, we can see that there are no duplicate speakers in wikidata. We'll now create a new dataframe (`cleaned_wikidata`), that will contain a clean version of the data (without modifying the original one)."
   ]
  },
  {
   "cell_type": "code",
   "execution_count": 19,
   "metadata": {},
   "outputs": [],
   "source": [
    "cleaned_wikidata = wikidata_all.copy(deep = True)"
   ]
  },
  {
   "cell_type": "markdown",
   "metadata": {},
   "source": [
    "Let's visualise this data frame."
   ]
  },
  {
   "cell_type": "code",
   "execution_count": 20,
   "metadata": {},
   "outputs": [
    {
     "data": {
      "text/html": [
       "<div>\n",
       "<style scoped>\n",
       "    .dataframe tbody tr th:only-of-type {\n",
       "        vertical-align: middle;\n",
       "    }\n",
       "\n",
       "    .dataframe tbody tr th {\n",
       "        vertical-align: top;\n",
       "    }\n",
       "\n",
       "    .dataframe thead th {\n",
       "        text-align: right;\n",
       "    }\n",
       "</style>\n",
       "<table border=\"1\" class=\"dataframe\">\n",
       "  <thead>\n",
       "    <tr style=\"text-align: right;\">\n",
       "      <th></th>\n",
       "      <th>aliases</th>\n",
       "      <th>date_of_birth</th>\n",
       "      <th>nationality</th>\n",
       "      <th>gender</th>\n",
       "      <th>lastrevid</th>\n",
       "      <th>ethnic_group</th>\n",
       "      <th>US_congress_bio_ID</th>\n",
       "      <th>occupation</th>\n",
       "      <th>party</th>\n",
       "      <th>academic_degree</th>\n",
       "      <th>id</th>\n",
       "      <th>label</th>\n",
       "      <th>candidacy</th>\n",
       "      <th>type</th>\n",
       "      <th>religion</th>\n",
       "    </tr>\n",
       "  </thead>\n",
       "  <tbody>\n",
       "    <tr>\n",
       "      <th>0</th>\n",
       "      <td>None</td>\n",
       "      <td>None</td>\n",
       "      <td>None</td>\n",
       "      <td>[Q6581097]</td>\n",
       "      <td>985453603</td>\n",
       "      <td>None</td>\n",
       "      <td>None</td>\n",
       "      <td>None</td>\n",
       "      <td>None</td>\n",
       "      <td>None</td>\n",
       "      <td>Q45441526</td>\n",
       "      <td>Cui Yan</td>\n",
       "      <td>None</td>\n",
       "      <td>item</td>\n",
       "      <td>None</td>\n",
       "    </tr>\n",
       "    <tr>\n",
       "      <th>1</th>\n",
       "      <td>None</td>\n",
       "      <td>None</td>\n",
       "      <td>[Q9903]</td>\n",
       "      <td>[Q6581097]</td>\n",
       "      <td>1008699604</td>\n",
       "      <td>None</td>\n",
       "      <td>None</td>\n",
       "      <td>None</td>\n",
       "      <td>None</td>\n",
       "      <td>None</td>\n",
       "      <td>Q45441555</td>\n",
       "      <td>Guo Ziyi</td>\n",
       "      <td>None</td>\n",
       "      <td>item</td>\n",
       "      <td>None</td>\n",
       "    </tr>\n",
       "    <tr>\n",
       "      <th>2</th>\n",
       "      <td>None</td>\n",
       "      <td>None</td>\n",
       "      <td>[Q9903]</td>\n",
       "      <td>[Q6581097]</td>\n",
       "      <td>1008699709</td>\n",
       "      <td>None</td>\n",
       "      <td>None</td>\n",
       "      <td>None</td>\n",
       "      <td>None</td>\n",
       "      <td>None</td>\n",
       "      <td>Q45441562</td>\n",
       "      <td>Wan Zikui</td>\n",
       "      <td>None</td>\n",
       "      <td>item</td>\n",
       "      <td>None</td>\n",
       "    </tr>\n",
       "    <tr>\n",
       "      <th>3</th>\n",
       "      <td>None</td>\n",
       "      <td>None</td>\n",
       "      <td>[Q9903]</td>\n",
       "      <td>[Q6581097]</td>\n",
       "      <td>1008699728</td>\n",
       "      <td>None</td>\n",
       "      <td>None</td>\n",
       "      <td>None</td>\n",
       "      <td>None</td>\n",
       "      <td>None</td>\n",
       "      <td>Q45441563</td>\n",
       "      <td>Lin Pei</td>\n",
       "      <td>None</td>\n",
       "      <td>item</td>\n",
       "      <td>None</td>\n",
       "    </tr>\n",
       "    <tr>\n",
       "      <th>4</th>\n",
       "      <td>None</td>\n",
       "      <td>None</td>\n",
       "      <td>[Q9683]</td>\n",
       "      <td>[Q6581097]</td>\n",
       "      <td>985261661</td>\n",
       "      <td>None</td>\n",
       "      <td>None</td>\n",
       "      <td>None</td>\n",
       "      <td>None</td>\n",
       "      <td>None</td>\n",
       "      <td>Q45441565</td>\n",
       "      <td>Guan Zhen</td>\n",
       "      <td>None</td>\n",
       "      <td>item</td>\n",
       "      <td>None</td>\n",
       "    </tr>\n",
       "  </tbody>\n",
       "</table>\n",
       "</div>"
      ],
      "text/plain": [
       "  aliases date_of_birth nationality      gender   lastrevid ethnic_group  \\\n",
       "0    None          None        None  [Q6581097]   985453603         None   \n",
       "1    None          None     [Q9903]  [Q6581097]  1008699604         None   \n",
       "2    None          None     [Q9903]  [Q6581097]  1008699709         None   \n",
       "3    None          None     [Q9903]  [Q6581097]  1008699728         None   \n",
       "4    None          None     [Q9683]  [Q6581097]   985261661         None   \n",
       "\n",
       "  US_congress_bio_ID occupation party academic_degree         id      label  \\\n",
       "0               None       None  None            None  Q45441526    Cui Yan   \n",
       "1               None       None  None            None  Q45441555   Guo Ziyi   \n",
       "2               None       None  None            None  Q45441562  Wan Zikui   \n",
       "3               None       None  None            None  Q45441563    Lin Pei   \n",
       "4               None       None  None            None  Q45441565  Guan Zhen   \n",
       "\n",
       "  candidacy  type religion  \n",
       "0      None  item     None  \n",
       "1      None  item     None  \n",
       "2      None  item     None  \n",
       "3      None  item     None  \n",
       "4      None  item     None  "
      ]
     },
     "execution_count": 20,
     "metadata": {},
     "output_type": "execute_result"
    }
   ],
   "source": [
    "cleaned_wikidata.head()"
   ]
  },
  {
   "cell_type": "markdown",
   "metadata": {},
   "source": [
    "Now we want to remove rows where mandatory values for our study are missing like the name of the speaker and the gender."
   ]
  },
  {
   "cell_type": "code",
   "execution_count": 21,
   "metadata": {},
   "outputs": [
    {
     "name": "stdout",
     "output_type": "stream",
     "text": [
      "(8113215, 15)\n",
      "(6288640, 15)\n"
     ]
    }
   ],
   "source": [
    "cleaned_wikidata = cleaned_wikidata[~cleaned_wikidata.label.isin([None, \"None\"])]\n",
    "print(cleaned_wikidata.shape)\n",
    "cleaned_wikidata = cleaned_wikidata[~cleaned_wikidata.gender.isin([None, \"None\"])]\n",
    "print(cleaned_wikidata.shape)"
   ]
  },
  {
   "cell_type": "markdown",
   "metadata": {},
   "source": [
    "We see that there were 470.398 missing names of speakers and 1.824.575 missing speakers' genders. Our new cleaned data frame contains 6.288.640 speakers."
   ]
  },
  {
   "cell_type": "markdown",
   "metadata": {},
   "source": [
    "### 1.5 Exploratory Data Analysis of wikidata <a class = anchor id=\"1.5\"></a>"
   ]
  },
  {
   "cell_type": "markdown",
   "metadata": {},
   "source": [
    "We will now analyse the genders present in wikidata."
   ]
  },
  {
   "cell_type": "code",
   "execution_count": 22,
   "metadata": {},
   "outputs": [
    {
     "name": "stdout",
     "output_type": "stream",
     "text": [
      "There are 32 different unique genders in wikidata\n"
     ]
    },
    {
     "data": {
      "text/plain": [
       "array(['Q6581097', 'Q6581072', 'Q179294', 'Q1052281', 'Q48270',\n",
       "       'Q2449503', 'Q18116794', 'Q12964198', 'Q15145779', 'Q189125',\n",
       "       'Q859614', 'Q1097630', 'Q44148', 'Q1289754', 'Q301702',\n",
       "       'Q106299064', 'Q27679684', 'Q15145778', 'Q52261234', 'Q207959',\n",
       "       'Q505371', 'Q7130936', 'Q43445', 'Q96000630', 'Q27679766',\n",
       "       'Q1984232', 'Q93954933', 'Q746411', 'Q48279', 'Q3177577',\n",
       "       'Q1775415', 'Q6636'], dtype=object)"
      ]
     },
     "execution_count": 22,
     "metadata": {},
     "output_type": "execute_result"
    }
   ],
   "source": [
    "cleaned_wikidata['gender'] = cleaned_wikidata['gender'].apply(lambda x: x[0])\n",
    "print(\"There are {} different unique genders in wikidata\".format(cleaned_wikidata['gender'].unique().shape[0]))\n",
    "cleaned_wikidata['gender'].unique()"
   ]
  },
  {
   "cell_type": "markdown",
   "metadata": {},
   "source": [
    "Let's compute then observe their distribution."
   ]
  },
  {
   "cell_type": "code",
   "execution_count": 23,
   "metadata": {},
   "outputs": [],
   "source": [
    "genders_dist = cleaned_wikidata.groupby('gender').size()\n",
    "genders_dist = genders_dist.div(genders_dist.sum(axis = 0), axis = 0)\n",
    "genders_dist.index = qid_label.loc[genders_dist.index].Label.values"
   ]
  },
  {
   "cell_type": "code",
   "execution_count": 24,
   "metadata": {},
   "outputs": [],
   "source": [
    "df_genders = pd.DataFrame()\n",
    "df_genders['genders'] = genders_dist.sort_values(ascending=False)"
   ]
  },
  {
   "cell_type": "code",
   "execution_count": 25,
   "metadata": {},
   "outputs": [
    {
     "data": {
      "application/vnd.plotly.v1+json": {
       "config": {
        "plotlyServerURL": "https://plot.ly"
       },
       "data": [
        {
         "marker": {
          "color": "#FF0000"
         },
         "type": "bar",
         "x": [
          "male",
          "female",
          "transgender female",
          "non-binary",
          "transgender male",
          "eunuch",
          "intersex",
          "genderfluid",
          "genderqueer",
          "male organism",
          "cisgender female",
          "transgender person",
          "two-spirit",
          "agender",
          "cisgender male",
          "bigender",
          "neutral sex",
          "transfeminine",
          "X-gender",
          "shemale",
          "feminine",
          "third gender",
          "female organism",
          "muxe",
          "Erkek",
          "neutrois",
          "homosexuality",
          "pangender",
          "kathoey",
          "transmasculine",
          "demiboy",
          "androgyny"
         ],
         "y": [
          0.7529548519234683,
          0.24677831772847547,
          0.0001329381233462243,
          0.000049613270913901895,
          0.000035142733564013844,
          0.000019559077956442093,
          0.000009700030531243639,
          0.000004452473030734785,
          0.0000028623040911866478,
          0.0000022262365153673925,
          0.0000017491858335029513,
          0.0000014311520455933239,
          0.0000011131182576836962,
          9.541013637288825e-7,
          9.541013637288825e-7,
          6.360675758192551e-7,
          6.360675758192551e-7,
          4.770506818644413e-7,
          3.1803378790962754e-7,
          1.5901689395481377e-7,
          1.5901689395481377e-7,
          1.5901689395481377e-7,
          1.5901689395481377e-7,
          1.5901689395481377e-7,
          1.5901689395481377e-7,
          1.5901689395481377e-7,
          1.5901689395481377e-7,
          1.5901689395481377e-7,
          1.5901689395481377e-7,
          1.5901689395481377e-7,
          1.5901689395481377e-7,
          1.5901689395481377e-7
         ]
        }
       ],
       "layout": {
        "template": {
         "data": {
          "bar": [
           {
            "error_x": {
             "color": "#2a3f5f"
            },
            "error_y": {
             "color": "#2a3f5f"
            },
            "marker": {
             "line": {
              "color": "#E5ECF6",
              "width": 0.5
             },
             "pattern": {
              "fillmode": "overlay",
              "size": 10,
              "solidity": 0.2
             }
            },
            "type": "bar"
           }
          ],
          "barpolar": [
           {
            "marker": {
             "line": {
              "color": "#E5ECF6",
              "width": 0.5
             },
             "pattern": {
              "fillmode": "overlay",
              "size": 10,
              "solidity": 0.2
             }
            },
            "type": "barpolar"
           }
          ],
          "carpet": [
           {
            "aaxis": {
             "endlinecolor": "#2a3f5f",
             "gridcolor": "white",
             "linecolor": "white",
             "minorgridcolor": "white",
             "startlinecolor": "#2a3f5f"
            },
            "baxis": {
             "endlinecolor": "#2a3f5f",
             "gridcolor": "white",
             "linecolor": "white",
             "minorgridcolor": "white",
             "startlinecolor": "#2a3f5f"
            },
            "type": "carpet"
           }
          ],
          "choropleth": [
           {
            "colorbar": {
             "outlinewidth": 0,
             "ticks": ""
            },
            "type": "choropleth"
           }
          ],
          "contour": [
           {
            "colorbar": {
             "outlinewidth": 0,
             "ticks": ""
            },
            "colorscale": [
             [
              0,
              "#0d0887"
             ],
             [
              0.1111111111111111,
              "#46039f"
             ],
             [
              0.2222222222222222,
              "#7201a8"
             ],
             [
              0.3333333333333333,
              "#9c179e"
             ],
             [
              0.4444444444444444,
              "#bd3786"
             ],
             [
              0.5555555555555556,
              "#d8576b"
             ],
             [
              0.6666666666666666,
              "#ed7953"
             ],
             [
              0.7777777777777778,
              "#fb9f3a"
             ],
             [
              0.8888888888888888,
              "#fdca26"
             ],
             [
              1,
              "#f0f921"
             ]
            ],
            "type": "contour"
           }
          ],
          "contourcarpet": [
           {
            "colorbar": {
             "outlinewidth": 0,
             "ticks": ""
            },
            "type": "contourcarpet"
           }
          ],
          "heatmap": [
           {
            "colorbar": {
             "outlinewidth": 0,
             "ticks": ""
            },
            "colorscale": [
             [
              0,
              "#0d0887"
             ],
             [
              0.1111111111111111,
              "#46039f"
             ],
             [
              0.2222222222222222,
              "#7201a8"
             ],
             [
              0.3333333333333333,
              "#9c179e"
             ],
             [
              0.4444444444444444,
              "#bd3786"
             ],
             [
              0.5555555555555556,
              "#d8576b"
             ],
             [
              0.6666666666666666,
              "#ed7953"
             ],
             [
              0.7777777777777778,
              "#fb9f3a"
             ],
             [
              0.8888888888888888,
              "#fdca26"
             ],
             [
              1,
              "#f0f921"
             ]
            ],
            "type": "heatmap"
           }
          ],
          "heatmapgl": [
           {
            "colorbar": {
             "outlinewidth": 0,
             "ticks": ""
            },
            "colorscale": [
             [
              0,
              "#0d0887"
             ],
             [
              0.1111111111111111,
              "#46039f"
             ],
             [
              0.2222222222222222,
              "#7201a8"
             ],
             [
              0.3333333333333333,
              "#9c179e"
             ],
             [
              0.4444444444444444,
              "#bd3786"
             ],
             [
              0.5555555555555556,
              "#d8576b"
             ],
             [
              0.6666666666666666,
              "#ed7953"
             ],
             [
              0.7777777777777778,
              "#fb9f3a"
             ],
             [
              0.8888888888888888,
              "#fdca26"
             ],
             [
              1,
              "#f0f921"
             ]
            ],
            "type": "heatmapgl"
           }
          ],
          "histogram": [
           {
            "marker": {
             "pattern": {
              "fillmode": "overlay",
              "size": 10,
              "solidity": 0.2
             }
            },
            "type": "histogram"
           }
          ],
          "histogram2d": [
           {
            "colorbar": {
             "outlinewidth": 0,
             "ticks": ""
            },
            "colorscale": [
             [
              0,
              "#0d0887"
             ],
             [
              0.1111111111111111,
              "#46039f"
             ],
             [
              0.2222222222222222,
              "#7201a8"
             ],
             [
              0.3333333333333333,
              "#9c179e"
             ],
             [
              0.4444444444444444,
              "#bd3786"
             ],
             [
              0.5555555555555556,
              "#d8576b"
             ],
             [
              0.6666666666666666,
              "#ed7953"
             ],
             [
              0.7777777777777778,
              "#fb9f3a"
             ],
             [
              0.8888888888888888,
              "#fdca26"
             ],
             [
              1,
              "#f0f921"
             ]
            ],
            "type": "histogram2d"
           }
          ],
          "histogram2dcontour": [
           {
            "colorbar": {
             "outlinewidth": 0,
             "ticks": ""
            },
            "colorscale": [
             [
              0,
              "#0d0887"
             ],
             [
              0.1111111111111111,
              "#46039f"
             ],
             [
              0.2222222222222222,
              "#7201a8"
             ],
             [
              0.3333333333333333,
              "#9c179e"
             ],
             [
              0.4444444444444444,
              "#bd3786"
             ],
             [
              0.5555555555555556,
              "#d8576b"
             ],
             [
              0.6666666666666666,
              "#ed7953"
             ],
             [
              0.7777777777777778,
              "#fb9f3a"
             ],
             [
              0.8888888888888888,
              "#fdca26"
             ],
             [
              1,
              "#f0f921"
             ]
            ],
            "type": "histogram2dcontour"
           }
          ],
          "mesh3d": [
           {
            "colorbar": {
             "outlinewidth": 0,
             "ticks": ""
            },
            "type": "mesh3d"
           }
          ],
          "parcoords": [
           {
            "line": {
             "colorbar": {
              "outlinewidth": 0,
              "ticks": ""
             }
            },
            "type": "parcoords"
           }
          ],
          "pie": [
           {
            "automargin": true,
            "type": "pie"
           }
          ],
          "scatter": [
           {
            "marker": {
             "colorbar": {
              "outlinewidth": 0,
              "ticks": ""
             }
            },
            "type": "scatter"
           }
          ],
          "scatter3d": [
           {
            "line": {
             "colorbar": {
              "outlinewidth": 0,
              "ticks": ""
             }
            },
            "marker": {
             "colorbar": {
              "outlinewidth": 0,
              "ticks": ""
             }
            },
            "type": "scatter3d"
           }
          ],
          "scattercarpet": [
           {
            "marker": {
             "colorbar": {
              "outlinewidth": 0,
              "ticks": ""
             }
            },
            "type": "scattercarpet"
           }
          ],
          "scattergeo": [
           {
            "marker": {
             "colorbar": {
              "outlinewidth": 0,
              "ticks": ""
             }
            },
            "type": "scattergeo"
           }
          ],
          "scattergl": [
           {
            "marker": {
             "colorbar": {
              "outlinewidth": 0,
              "ticks": ""
             }
            },
            "type": "scattergl"
           }
          ],
          "scattermapbox": [
           {
            "marker": {
             "colorbar": {
              "outlinewidth": 0,
              "ticks": ""
             }
            },
            "type": "scattermapbox"
           }
          ],
          "scatterpolar": [
           {
            "marker": {
             "colorbar": {
              "outlinewidth": 0,
              "ticks": ""
             }
            },
            "type": "scatterpolar"
           }
          ],
          "scatterpolargl": [
           {
            "marker": {
             "colorbar": {
              "outlinewidth": 0,
              "ticks": ""
             }
            },
            "type": "scatterpolargl"
           }
          ],
          "scatterternary": [
           {
            "marker": {
             "colorbar": {
              "outlinewidth": 0,
              "ticks": ""
             }
            },
            "type": "scatterternary"
           }
          ],
          "surface": [
           {
            "colorbar": {
             "outlinewidth": 0,
             "ticks": ""
            },
            "colorscale": [
             [
              0,
              "#0d0887"
             ],
             [
              0.1111111111111111,
              "#46039f"
             ],
             [
              0.2222222222222222,
              "#7201a8"
             ],
             [
              0.3333333333333333,
              "#9c179e"
             ],
             [
              0.4444444444444444,
              "#bd3786"
             ],
             [
              0.5555555555555556,
              "#d8576b"
             ],
             [
              0.6666666666666666,
              "#ed7953"
             ],
             [
              0.7777777777777778,
              "#fb9f3a"
             ],
             [
              0.8888888888888888,
              "#fdca26"
             ],
             [
              1,
              "#f0f921"
             ]
            ],
            "type": "surface"
           }
          ],
          "table": [
           {
            "cells": {
             "fill": {
              "color": "#EBF0F8"
             },
             "line": {
              "color": "white"
             }
            },
            "header": {
             "fill": {
              "color": "#C8D4E3"
             },
             "line": {
              "color": "white"
             }
            },
            "type": "table"
           }
          ]
         },
         "layout": {
          "annotationdefaults": {
           "arrowcolor": "#2a3f5f",
           "arrowhead": 0,
           "arrowwidth": 1
          },
          "autotypenumbers": "strict",
          "coloraxis": {
           "colorbar": {
            "outlinewidth": 0,
            "ticks": ""
           }
          },
          "colorscale": {
           "diverging": [
            [
             0,
             "#8e0152"
            ],
            [
             0.1,
             "#c51b7d"
            ],
            [
             0.2,
             "#de77ae"
            ],
            [
             0.3,
             "#f1b6da"
            ],
            [
             0.4,
             "#fde0ef"
            ],
            [
             0.5,
             "#f7f7f7"
            ],
            [
             0.6,
             "#e6f5d0"
            ],
            [
             0.7,
             "#b8e186"
            ],
            [
             0.8,
             "#7fbc41"
            ],
            [
             0.9,
             "#4d9221"
            ],
            [
             1,
             "#276419"
            ]
           ],
           "sequential": [
            [
             0,
             "#0d0887"
            ],
            [
             0.1111111111111111,
             "#46039f"
            ],
            [
             0.2222222222222222,
             "#7201a8"
            ],
            [
             0.3333333333333333,
             "#9c179e"
            ],
            [
             0.4444444444444444,
             "#bd3786"
            ],
            [
             0.5555555555555556,
             "#d8576b"
            ],
            [
             0.6666666666666666,
             "#ed7953"
            ],
            [
             0.7777777777777778,
             "#fb9f3a"
            ],
            [
             0.8888888888888888,
             "#fdca26"
            ],
            [
             1,
             "#f0f921"
            ]
           ],
           "sequentialminus": [
            [
             0,
             "#0d0887"
            ],
            [
             0.1111111111111111,
             "#46039f"
            ],
            [
             0.2222222222222222,
             "#7201a8"
            ],
            [
             0.3333333333333333,
             "#9c179e"
            ],
            [
             0.4444444444444444,
             "#bd3786"
            ],
            [
             0.5555555555555556,
             "#d8576b"
            ],
            [
             0.6666666666666666,
             "#ed7953"
            ],
            [
             0.7777777777777778,
             "#fb9f3a"
            ],
            [
             0.8888888888888888,
             "#fdca26"
            ],
            [
             1,
             "#f0f921"
            ]
           ]
          },
          "colorway": [
           "#636efa",
           "#EF553B",
           "#00cc96",
           "#ab63fa",
           "#FFA15A",
           "#19d3f3",
           "#FF6692",
           "#B6E880",
           "#FF97FF",
           "#FECB52"
          ],
          "font": {
           "color": "#2a3f5f"
          },
          "geo": {
           "bgcolor": "white",
           "lakecolor": "white",
           "landcolor": "#E5ECF6",
           "showlakes": true,
           "showland": true,
           "subunitcolor": "white"
          },
          "hoverlabel": {
           "align": "left"
          },
          "hovermode": "closest",
          "mapbox": {
           "style": "light"
          },
          "paper_bgcolor": "white",
          "plot_bgcolor": "#E5ECF6",
          "polar": {
           "angularaxis": {
            "gridcolor": "white",
            "linecolor": "white",
            "ticks": ""
           },
           "bgcolor": "#E5ECF6",
           "radialaxis": {
            "gridcolor": "white",
            "linecolor": "white",
            "ticks": ""
           }
          },
          "scene": {
           "xaxis": {
            "backgroundcolor": "#E5ECF6",
            "gridcolor": "white",
            "gridwidth": 2,
            "linecolor": "white",
            "showbackground": true,
            "ticks": "",
            "zerolinecolor": "white"
           },
           "yaxis": {
            "backgroundcolor": "#E5ECF6",
            "gridcolor": "white",
            "gridwidth": 2,
            "linecolor": "white",
            "showbackground": true,
            "ticks": "",
            "zerolinecolor": "white"
           },
           "zaxis": {
            "backgroundcolor": "#E5ECF6",
            "gridcolor": "white",
            "gridwidth": 2,
            "linecolor": "white",
            "showbackground": true,
            "ticks": "",
            "zerolinecolor": "white"
           }
          },
          "shapedefaults": {
           "line": {
            "color": "#2a3f5f"
           }
          },
          "ternary": {
           "aaxis": {
            "gridcolor": "white",
            "linecolor": "white",
            "ticks": ""
           },
           "baxis": {
            "gridcolor": "white",
            "linecolor": "white",
            "ticks": ""
           },
           "bgcolor": "#E5ECF6",
           "caxis": {
            "gridcolor": "white",
            "linecolor": "white",
            "ticks": ""
           }
          },
          "title": {
           "x": 0.05
          },
          "xaxis": {
           "automargin": true,
           "gridcolor": "white",
           "linecolor": "white",
           "ticks": "",
           "title": {
            "standoff": 15
           },
           "zerolinecolor": "white",
           "zerolinewidth": 2
          },
          "yaxis": {
           "automargin": true,
           "gridcolor": "white",
           "linecolor": "white",
           "ticks": "",
           "title": {
            "standoff": 15
           },
           "zerolinecolor": "white",
           "zerolinewidth": 2
          }
         }
        },
        "title": {
         "text": "Gender distribution of the quotations",
         "x": 0.5
        },
        "xaxis": {
         "tickangle": 45,
         "title": {
          "text": "Genders"
         }
        },
        "yaxis": {
         "title": {
          "text": "Speakers (log scale)"
         },
         "type": "log"
        }
       }
      }
     },
     "metadata": {},
     "output_type": "display_data"
    }
   ],
   "source": [
    "trace_genders = go.Bar(x = df_genders.index, y = df_genders['genders'], marker_color = colors[0])\n",
    "\n",
    "my_layout = {\n",
    "    'title': 'Gender distribution of the quotations',\n",
    "    'xaxis': {'title': 'Genders'},\n",
    "    'yaxis': {'title': 'Speakers (log scale)'},\n",
    "    }\n",
    "\n",
    "fig = go.Figure()\n",
    "fig.add_trace(trace_genders)\n",
    "fig.update_layout(my_layout)\n",
    "fig.update_layout(title_x = 0.5)\n",
    "fig.update_yaxes(type = \"log\")\n",
    "fig.update_xaxes(tickangle = 45)\n",
    "\n",
    "fig.show()"
   ]
  },
  {
   "cell_type": "markdown",
   "metadata": {},
   "source": [
    "The figure is then saved."
   ]
  },
  {
   "cell_type": "code",
   "execution_count": 26,
   "metadata": {},
   "outputs": [],
   "source": [
    "\"\"\"html_path = IMAGE_PATH + \"genders_dist_plot.html\"\n",
    "fig.write_html(html_path)\"\"\";"
   ]
  },
  {
   "cell_type": "markdown",
   "metadata": {},
   "source": [
    "Let's now print fuller explanations to those genders."
   ]
  },
  {
   "cell_type": "code",
   "execution_count": 28,
   "metadata": {},
   "outputs": [
    {
     "data": {
      "text/html": [
       "<div>\n",
       "<style scoped>\n",
       "    .dataframe tbody tr th:only-of-type {\n",
       "        vertical-align: middle;\n",
       "    }\n",
       "\n",
       "    .dataframe tbody tr th {\n",
       "        vertical-align: top;\n",
       "    }\n",
       "\n",
       "    .dataframe thead th {\n",
       "        text-align: right;\n",
       "    }\n",
       "</style>\n",
       "<table border=\"1\" class=\"dataframe\">\n",
       "  <thead>\n",
       "    <tr style=\"text-align: right;\">\n",
       "      <th></th>\n",
       "      <th>Label</th>\n",
       "      <th>Description</th>\n",
       "    </tr>\n",
       "    <tr>\n",
       "      <th>QID</th>\n",
       "      <th></th>\n",
       "      <th></th>\n",
       "    </tr>\n",
       "  </thead>\n",
       "  <tbody>\n",
       "    <tr>\n",
       "      <th>Q6581097</th>\n",
       "      <td>male</td>\n",
       "      <td>to be used in \"sex or gender\" (P21) to indicat...</td>\n",
       "    </tr>\n",
       "    <tr>\n",
       "      <th>Q6581072</th>\n",
       "      <td>female</td>\n",
       "      <td>to be used in \"sex or gender\" (P21) to indicat...</td>\n",
       "    </tr>\n",
       "    <tr>\n",
       "      <th>Q179294</th>\n",
       "      <td>eunuch</td>\n",
       "      <td>castrated male human</td>\n",
       "    </tr>\n",
       "    <tr>\n",
       "      <th>Q1052281</th>\n",
       "      <td>transgender female</td>\n",
       "      <td>female person who was assigned a different gen...</td>\n",
       "    </tr>\n",
       "    <tr>\n",
       "      <th>Q48270</th>\n",
       "      <td>non-binary</td>\n",
       "      <td>range of gender identities that are not exclus...</td>\n",
       "    </tr>\n",
       "    <tr>\n",
       "      <th>Q2449503</th>\n",
       "      <td>transgender male</td>\n",
       "      <td>person assigned to the female sex at birth who...</td>\n",
       "    </tr>\n",
       "    <tr>\n",
       "      <th>Q18116794</th>\n",
       "      <td>genderfluid</td>\n",
       "      <td>gender identity which doesn't conform to fixed...</td>\n",
       "    </tr>\n",
       "    <tr>\n",
       "      <th>Q12964198</th>\n",
       "      <td>genderqueer</td>\n",
       "      <td>range of gender identities that are not exclus...</td>\n",
       "    </tr>\n",
       "    <tr>\n",
       "      <th>Q15145779</th>\n",
       "      <td>cisgender female</td>\n",
       "      <td>female person who was assigned female at birth</td>\n",
       "    </tr>\n",
       "    <tr>\n",
       "      <th>Q189125</th>\n",
       "      <td>transgender person</td>\n",
       "      <td>person whose gender identity is different from...</td>\n",
       "    </tr>\n",
       "    <tr>\n",
       "      <th>Q859614</th>\n",
       "      <td>bigender</td>\n",
       "      <td>gender identity that includes any two gender i...</td>\n",
       "    </tr>\n",
       "    <tr>\n",
       "      <th>Q1097630</th>\n",
       "      <td>intersex</td>\n",
       "      <td>innate variations in sex characteristics such ...</td>\n",
       "    </tr>\n",
       "    <tr>\n",
       "      <th>Q44148</th>\n",
       "      <td>male organism</td>\n",
       "      <td>for use with plants or non-human animals; use ...</td>\n",
       "    </tr>\n",
       "    <tr>\n",
       "      <th>Q1289754</th>\n",
       "      <td>neutrois</td>\n",
       "      <td>non-binary gender identity</td>\n",
       "    </tr>\n",
       "    <tr>\n",
       "      <th>Q301702</th>\n",
       "      <td>two-spirit</td>\n",
       "      <td>umbrella term for the third gender in the indi...</td>\n",
       "    </tr>\n",
       "    <tr>\n",
       "      <th>Q106299064</th>\n",
       "      <td>Erkek</td>\n",
       "      <td>family name</td>\n",
       "    </tr>\n",
       "    <tr>\n",
       "      <th>Q27679684</th>\n",
       "      <td>transfeminine</td>\n",
       "      <td>gender of individuals who were assigned male a...</td>\n",
       "    </tr>\n",
       "    <tr>\n",
       "      <th>Q15145778</th>\n",
       "      <td>cisgender male</td>\n",
       "      <td>male person who was assigned male at birth</td>\n",
       "    </tr>\n",
       "    <tr>\n",
       "      <th>Q52261234</th>\n",
       "      <td>neutral sex</td>\n",
       "      <td>human who has neutral sex (use with Property:P...</td>\n",
       "    </tr>\n",
       "    <tr>\n",
       "      <th>Q207959</th>\n",
       "      <td>androgyny</td>\n",
       "      <td>combination of male and female traits</td>\n",
       "    </tr>\n",
       "    <tr>\n",
       "      <th>Q505371</th>\n",
       "      <td>agender</td>\n",
       "      <td>absence of a gender identity</td>\n",
       "    </tr>\n",
       "    <tr>\n",
       "      <th>Q7130936</th>\n",
       "      <td>pangender</td>\n",
       "      <td>non-binary gender defined as being more than o...</td>\n",
       "    </tr>\n",
       "    <tr>\n",
       "      <th>Q43445</th>\n",
       "      <td>female organism</td>\n",
       "      <td>plant or animal which is female</td>\n",
       "    </tr>\n",
       "    <tr>\n",
       "      <th>Q96000630</th>\n",
       "      <td>X-gender</td>\n",
       "      <td>a third gender or non-binary gender identity t...</td>\n",
       "    </tr>\n",
       "    <tr>\n",
       "      <th>Q27679766</th>\n",
       "      <td>transmasculine</td>\n",
       "      <td>gender of individuals who were assigned female...</td>\n",
       "    </tr>\n",
       "    <tr>\n",
       "      <th>Q1984232</th>\n",
       "      <td>shemale</td>\n",
       "      <td>term primarily used in sex work to describe a ...</td>\n",
       "    </tr>\n",
       "    <tr>\n",
       "      <th>Q93954933</th>\n",
       "      <td>demiboy</td>\n",
       "      <td>gender identity where a person identifies as o...</td>\n",
       "    </tr>\n",
       "    <tr>\n",
       "      <th>Q746411</th>\n",
       "      <td>kathoey</td>\n",
       "      <td>third gender in Thai culture, usually transgen...</td>\n",
       "    </tr>\n",
       "    <tr>\n",
       "      <th>Q48279</th>\n",
       "      <td>third gender</td>\n",
       "      <td>set of gender identities that are not exclusiv...</td>\n",
       "    </tr>\n",
       "    <tr>\n",
       "      <th>Q3177577</th>\n",
       "      <td>muxe</td>\n",
       "      <td>Zapotec gender identity, often regarded as tra...</td>\n",
       "    </tr>\n",
       "    <tr>\n",
       "      <th>Q1775415</th>\n",
       "      <td>feminine</td>\n",
       "      <td>grammatical gender</td>\n",
       "    </tr>\n",
       "    <tr>\n",
       "      <th>Q6636</th>\n",
       "      <td>homosexuality</td>\n",
       "      <td>romantic or sexual attraction or behavior betw...</td>\n",
       "    </tr>\n",
       "  </tbody>\n",
       "</table>\n",
       "</div>"
      ],
      "text/plain": [
       "                         Label  \\\n",
       "QID                              \n",
       "Q6581097                  male   \n",
       "Q6581072                female   \n",
       "Q179294                 eunuch   \n",
       "Q1052281    transgender female   \n",
       "Q48270              non-binary   \n",
       "Q2449503      transgender male   \n",
       "Q18116794          genderfluid   \n",
       "Q12964198          genderqueer   \n",
       "Q15145779     cisgender female   \n",
       "Q189125     transgender person   \n",
       "Q859614               bigender   \n",
       "Q1097630              intersex   \n",
       "Q44148           male organism   \n",
       "Q1289754              neutrois   \n",
       "Q301702             two-spirit   \n",
       "Q106299064               Erkek   \n",
       "Q27679684        transfeminine   \n",
       "Q15145778       cisgender male   \n",
       "Q52261234          neutral sex   \n",
       "Q207959              androgyny   \n",
       "Q505371                agender   \n",
       "Q7130936             pangender   \n",
       "Q43445         female organism   \n",
       "Q96000630             X-gender   \n",
       "Q27679766       transmasculine   \n",
       "Q1984232               shemale   \n",
       "Q93954933              demiboy   \n",
       "Q746411                kathoey   \n",
       "Q48279            third gender   \n",
       "Q3177577                  muxe   \n",
       "Q1775415              feminine   \n",
       "Q6636            homosexuality   \n",
       "\n",
       "                                                  Description  \n",
       "QID                                                            \n",
       "Q6581097    to be used in \"sex or gender\" (P21) to indicat...  \n",
       "Q6581072    to be used in \"sex or gender\" (P21) to indicat...  \n",
       "Q179294                                  castrated male human  \n",
       "Q1052281    female person who was assigned a different gen...  \n",
       "Q48270      range of gender identities that are not exclus...  \n",
       "Q2449503    person assigned to the female sex at birth who...  \n",
       "Q18116794   gender identity which doesn't conform to fixed...  \n",
       "Q12964198   range of gender identities that are not exclus...  \n",
       "Q15145779      female person who was assigned female at birth  \n",
       "Q189125     person whose gender identity is different from...  \n",
       "Q859614     gender identity that includes any two gender i...  \n",
       "Q1097630    innate variations in sex characteristics such ...  \n",
       "Q44148      for use with plants or non-human animals; use ...  \n",
       "Q1289754                           non-binary gender identity  \n",
       "Q301702     umbrella term for the third gender in the indi...  \n",
       "Q106299064                                        family name  \n",
       "Q27679684   gender of individuals who were assigned male a...  \n",
       "Q15145778          male person who was assigned male at birth  \n",
       "Q52261234   human who has neutral sex (use with Property:P...  \n",
       "Q207959                 combination of male and female traits  \n",
       "Q505371                          absence of a gender identity  \n",
       "Q7130936    non-binary gender defined as being more than o...  \n",
       "Q43445                        plant or animal which is female  \n",
       "Q96000630   a third gender or non-binary gender identity t...  \n",
       "Q27679766   gender of individuals who were assigned female...  \n",
       "Q1984232    term primarily used in sex work to describe a ...  \n",
       "Q93954933   gender identity where a person identifies as o...  \n",
       "Q746411     third gender in Thai culture, usually transgen...  \n",
       "Q48279      set of gender identities that are not exclusiv...  \n",
       "Q3177577    Zapotec gender identity, often regarded as tra...  \n",
       "Q1775415                                   grammatical gender  \n",
       "Q6636       romantic or sexual attraction or behavior betw...  "
      ]
     },
     "execution_count": 28,
     "metadata": {},
     "output_type": "execute_result"
    }
   ],
   "source": [
    "qid_label.loc[cleaned_wikidata['gender'].unique()]"
   ]
  },
  {
   "cell_type": "markdown",
   "metadata": {},
   "source": [
    "We define the male and female genders for further analysis."
   ]
  },
  {
   "cell_type": "code",
   "execution_count": 7,
   "metadata": {},
   "outputs": [],
   "source": [
    "male_label = \"Q6581097\"\n",
    "female_label = \"Q6581072\""
   ]
  },
  {
   "cell_type": "markdown",
   "metadata": {},
   "source": [
    "Let's compute the proportion of non-male and non-female genders."
   ]
  },
  {
   "cell_type": "code",
   "execution_count": 30,
   "metadata": {},
   "outputs": [
    {
     "data": {
      "text/plain": [
       "0.0002668303480561776"
      ]
     },
     "execution_count": 30,
     "metadata": {},
     "output_type": "execute_result"
    }
   ],
   "source": [
    "genders_dist[(genders_dist.index != 'male') & (genders_dist.index != 'female')].sum()"
   ]
  },
  {
   "cell_type": "markdown",
   "metadata": {},
   "source": [
    "We can see that less than 0.03% of the data is neither considered a male or a female. For simplicity in our study we will ignore those cases."
   ]
  },
  {
   "cell_type": "code",
   "execution_count": 31,
   "metadata": {},
   "outputs": [],
   "source": [
    "cleaned_wikidata = cleaned_wikidata[cleaned_wikidata.gender.isin([male_label, female_label])]"
   ]
  },
  {
   "cell_type": "markdown",
   "metadata": {},
   "source": [
    "We know creates an occupation data frame where everyone's occupation is known (not `None`)."
   ]
  },
  {
   "cell_type": "code",
   "execution_count": 35,
   "metadata": {},
   "outputs": [],
   "source": [
    "\"\"\"Only intented to be run once \n",
    "wiki_occupation = cleaned_wikidata[~cleaned_wikidata['occupation'].isin([None])]\"\"\";"
   ]
  },
  {
   "cell_type": "markdown",
   "metadata": {},
   "source": [
    "Then, we create a complete data frame where occupation, religion, nationality, ethnic_group and academic_degree are known for every speaker in the dataset."
   ]
  },
  {
   "cell_type": "code",
   "execution_count": 36,
   "metadata": {},
   "outputs": [],
   "source": [
    "\"\"\" Only intented to be run once \n",
    "wiki_background = wiki_occupation[~(wiki_occupation['religion'].isin([None, \"None\"]) & \n",
    "                        wiki_occupation['nationality'].isin([None, \"None\"]) &\n",
    "                        wiki_occupation['ethnic_group'].isin([None, \"None\"]) & \n",
    "                        wiki_occupation['academic_degree'].isin([None, \"None\"]))]\"\"\";"
   ]
  },
  {
   "cell_type": "markdown",
   "metadata": {},
   "source": [
    "We save those data frames as pickle for further analysis. We already ran the following cell and the files can be found in \"Data\"."
   ]
  },
  {
   "cell_type": "code",
   "execution_count": 37,
   "metadata": {},
   "outputs": [],
   "source": [
    "\"\"\" Only intented to be run once \n",
    "wiki_occupation.to_pickle(DATA_PATH + \"wiki_occupation.pck\")\n",
    "wiki_background.to_pickle(DATA_PATH + \"wiki_background.pck\")\"\"\";"
   ]
  },
  {
   "cell_type": "markdown",
   "metadata": {},
   "source": [
    "Now that all the pre-processing is done, we can start our analysis. "
   ]
  },
  {
   "cell_type": "markdown",
   "metadata": {
    "tags": []
   },
   "source": [
    "## 2.  Creation of our sub data frames <a class = anchor id=\"dataframes\"></a>"
   ]
  },
  {
   "cell_type": "markdown",
   "metadata": {},
   "source": [
    "First, we will focus on the initial matter, being to what extent we can observe the differences in communicative acts in relation to gender within a professional area and whether there are noticeable differences between those professional areas."
   ]
  },
  {
   "cell_type": "markdown",
   "metadata": {},
   "source": [
    "### Imports <a class = anchor id=\"2imports\"></a>"
   ]
  },
  {
   "cell_type": "markdown",
   "metadata": {},
   "source": [
    "First we import Empath, a tool for analyzing text across lexical categories."
   ]
  },
  {
   "cell_type": "code",
   "execution_count": 32,
   "metadata": {},
   "outputs": [],
   "source": [
    "from empath import Empath"
   ]
  },
  {
   "cell_type": "markdown",
   "metadata": {},
   "source": [
    "### Functions <a class = anchor id=\"2functions\"></a>"
   ]
  },
  {
   "cell_type": "markdown",
   "metadata": {},
   "source": [
    "Let's define the functions needed for this part."
   ]
  },
  {
   "cell_type": "code",
   "execution_count": 33,
   "metadata": {},
   "outputs": [],
   "source": [
    "def add_columns(column, target, init_df, name_column):\n",
    "    \"\"\"\n",
    "    Checks if a target ('politician', 'male', 'female' etc...) is in a certain column.\n",
    "    If it is, we return True in an additional column (name_column).\n",
    "    Inputs:\n",
    "        * column : name of column to search for target\n",
    "        * target : item of interest \n",
    "        * init_df : initial data frame\n",
    "        * name_column : name of new column of booleans\n",
    "    Output:\n",
    "        * final_df : dataframe with new column and only rows which contains the item\n",
    "    \"\"\"\n",
    "    final_df = init_df.copy(deep = True)\n",
    "    final_df[name_column] = final_df[column].apply(lambda x: np.any(x) in target)\n",
    "    return final_df\n",
    "\n",
    "def extracting_sub_df(quotebank, wikidata, column):\n",
    "    \"\"\"\n",
    "    Creates a sub dataframe with information from quotebank and wikidata.\n",
    "    We only take the rows in column which are True.\n",
    "    Inputs:\n",
    "        * quotebank : data frame extracted from quotebank\n",
    "        * wikidata : data frame extracted from wikidata\n",
    "        * column : column on which we base the merge\n",
    "    Output:\n",
    "        * sub_df : merged dataframe \n",
    "    \"\"\"\n",
    "    merged_df = pd.merge(quotebank, wikidata, left_on = 'speaker', right_on = 'label')\n",
    "    merged_df['qids'] = merged_df['qids'].apply(lambda x : x[0])\n",
    "    merged_df = merged_df[merged_df['qids'] == merged_df['id']]\n",
    "    sub_df = merged_df[merged_df[column] == True]\n",
    "    return sub_df\n",
    "\n",
    "def clean_quotebank(df):\n",
    "    \"\"\" \n",
    "    Cleans quotebank dataset by droping quotes from unknown speakers and\n",
    "    quotes where the speaker is uncertain (p < 0.5).\n",
    "    Input:\n",
    "        * df : quotebank data frame to clean  \n",
    "    Output:\n",
    "        * df_copy : cleaned data frame\n",
    "    \"\"\" \n",
    "    df_copy = df.copy(deep = True)\n",
    "    df_copy = df_copy[~df_copy.speaker.isin(['None', None])]\n",
    "    df_copy =  df_copy[df_copy['probas'].apply(lambda x: x[0][1]).values.astype(float) > 0.5]\n",
    "    return df_copy \n",
    "\n",
    "def create_df_with_conditions(column, conditions, wikidata, columns_temp, start, stop):\n",
    "    \"\"\"\n",
    "    From quotebank data, extracts and returns a data frame with only the rows that respect the condition.\n",
    "    Inputs:\n",
    "        * column : name of column where the condition is applied\n",
    "        * conditions : conditions of interest \n",
    "        * wikidata : wiki database\n",
    "        * columns_temp : name of new columns of booleans\n",
    "    Output:\n",
    "        * sub_df : data frame with only rows which contains the item\n",
    "    \"\"\"\n",
    "    wiki_plus = wikidata.copy(deep = True)\n",
    "    for j in range(len(conditions)):\n",
    "        wiki_plus = add_columns(column, conditions[j], wiki_plus, columns_temp[j])\n",
    "    sub_df = {}\n",
    "    for g in range(len(columns_temp)):\n",
    "        sub_df[str(g)] = pd.DataFrame()\n",
    "    for i in range(start,stop):\n",
    "        DATA_FILE = 'quotes-20{}.json.bz2'.format(i)\n",
    "        with pd.read_json(DATA_PATH + DATA_FILE, lines = True, compression ='bz2', chunksize = 100000) as df_reader:\n",
    "            for chunk in df_reader:\n",
    "                for k in range(len(columns_temp)):\n",
    "                    sub_df[str(k)] = pd.concat([sub_df[str(k)], extracting_sub_df(clean_quotebank(chunk),\n",
    "                                                                                  wiki_plus, columns_temp[k])])\n",
    "    for l in range(len(columns_temp)):\n",
    "        sub_df[str(l)] = sub_df[str(l)].drop(columns_temp, axis = 1)\n",
    "    return sub_df['0'], sub_df['1'], sub_df['2'], sub_df['3']\n",
    "\n",
    "def merging(quotebank, wikidata):\n",
    "    \"\"\"\n",
    "    Creates a sub dataframe with information from quotebank and wikidata.\n",
    "    Inputs:\n",
    "        * quotebank : data frame extracted from quotebank\n",
    "        * wikidata : data frame extracted from wikidata\n",
    "    Output:\n",
    "        * sub_df : merged data frame \n",
    "    \"\"\"\n",
    "    merged_df = pd.merge(quotebank, wikidata, left_on = 'speaker', right_on = 'label')\n",
    "    merged_df['qids'] = merged_df['qids'].apply(lambda x : x[0])\n",
    "    merged_df = merged_df[merged_df['qids'] == merged_df['id']]\n",
    "    return merged_df\n",
    "\n",
    "def create_df(wikidata, start, stop):\n",
    "    \"\"\"\n",
    "    From quotebank data, extracts and returns a data frame with only the rows where all informations are present.\n",
    "    Inputs:\n",
    "        * wikidata : wiki database\n",
    "        * start : years of beginning, for example 15 for 2015. Have to be between 15 and 21\n",
    "        * stop : years of end + 1, for example 16 if you only want 2015. Have to be between 15 and 21\n",
    "    Output:\n",
    "        * sub_df : data frame only the rows that have all the information of interest (without 'None')\n",
    "    \"\"\"\n",
    "    sub_df = pd.DataFrame()\n",
    "    for i in range(start, stop):\n",
    "        DATA_FILE = 'quotes-20{}.json.bz2'.format(i)\n",
    "        with pd.read_json(DATA_PATH + DATA_FILE, lines = True, compression ='bz2', chunksize = 100000) as df_reader:\n",
    "            for chunk in df_reader:\n",
    "                new_chunk = chunk.sample(n = 10000, random_state = seed)\n",
    "                sub_df = pd.concat([sub_df, merging(clean_quotebank(new_chunk), wikidata)])\n",
    "    return sub_df\n",
    "\n",
    "def return_english_df(df):\n",
    "    \"\"\"\n",
    "    Returns a data frame containing the rows of data frame if the quote is in English.\n",
    "    Input:\n",
    "        * df : data frame with quotes in all languages\n",
    "    Output:\n",
    "        * english : data frame with only English quotes \n",
    "    \"\"\"\n",
    "    english = df.copy(deep = True)\n",
    "    english['language'] = english['quotation'].apply(det)\n",
    "    english = english[english['language'] == 'en']\n",
    "    english.drop('language', axis = 1)\n",
    "    return english"
   ]
  },
  {
   "cell_type": "markdown",
   "metadata": {},
   "source": [
    "### 2.1 Creation of professional fields <a class = anchor id=\"2.1\"></a>"
   ]
  },
  {
   "cell_type": "markdown",
   "metadata": {},
   "source": [
    "Let's create data frames with different fields of professions to compare quotations of men and women without the bias of the professional background. To do that, we start by choosing four professional fields: arts, science, economy and politics. We then create our lists of professions related to each field. For this, we use the `occupation` list from Empath, as well as other intuitive professions we felt relevant to complement it with. We then manually assign each profession/occupation to a professional field, after checking its presence and relevance in `qid_label`."
   ]
  },
  {
   "cell_type": "code",
   "execution_count": 34,
   "metadata": {},
   "outputs": [
    {
     "data": {
      "text/plain": [
       "['psychologist',\n",
       " 'waiter',\n",
       " 'electrician',\n",
       " 'server',\n",
       " 'worker',\n",
       " 'manager',\n",
       " 'chemist',\n",
       " 'interview',\n",
       " 'technician',\n",
       " 'nanny',\n",
       " 'accountant',\n",
       " 'owner',\n",
       " 'retirement',\n",
       " 'hairdresser',\n",
       " 'cashier']"
      ]
     },
     "execution_count": 34,
     "metadata": {},
     "output_type": "execute_result"
    }
   ],
   "source": [
    "lexicon = Empath()\n",
    "lexicon.cats[\"occupation\"][:15]"
   ]
  },
  {
   "cell_type": "code",
   "execution_count": 35,
   "metadata": {
    "tags": []
   },
   "outputs": [],
   "source": [
    "art_professions = qid_label[qid_label['Label'].str.contains('cineast|painter|musician|sculpter|architect|dancer| \\\n",
    "        philosoph|writer|actor|actress|choreographer|music interpreter|singer|photographer|entertainer', na = False)]\n",
    "\n",
    "scientific_professions = qid_label[qid_label['Label'].str.contains('scientific|researcher|mathematician|doctor| \\\n",
    "        astronomist|biologist|chemist|physicist|physician|psychologist|engineer|anatomist|neurologist| \\\n",
    "        pediatrician|veterinarian|pharmacist|obstetrician|gynecologist|therapist|dentist|surgeon|nurse| \\\n",
    "        psychiatrist|Scientific', na = False)]\n",
    "\n",
    "economic_professions = qid_label[qid_label['Label'].str.contains('economist|banke|financ|CEO|CTO|chairman|auditor| \\\n",
    "        stockbroker|insurer|business manager|retail merchandizer|pricing analyst|statistician|financial consultant| \\\n",
    "        salesperson|risk analyst|Data analyst|accountant|economic researcher|Investm|actuary', na = False)]\n",
    "\n",
    "political_professions = qid_label[qid_label['Label'].str.contains('politician|president|minister|government \\\n",
    "        accountant General', na = False)]"
   ]
  },
  {
   "cell_type": "markdown",
   "metadata": {},
   "source": [
    "### 2.2 Creation of sub-dataframes  <a class = anchor id=\"2.2\"></a>"
   ]
  },
  {
   "cell_type": "markdown",
   "metadata": {},
   "source": [
    "To create the sub data frames, we need to read the pickle files that we previously saved. Still, the creation and saving of our sub pickle files is already done and those files can be found in \"Data\"."
   ]
  },
  {
   "cell_type": "code",
   "execution_count": 42,
   "metadata": {},
   "outputs": [],
   "source": [
    "\"\"\" Only intented to be run once\n",
    "wiki_occupation = pd.read_pickle(DATA_PATH + \"wiki_occupation.pck\")\n",
    "wiki_background = pd.read_pickle(DATA_PATH + \"wiki_background.pck\")\"\"\";"
   ]
  },
  {
   "cell_type": "markdown",
   "metadata": {},
   "source": [
    "The merge is done on the `label` for _Wikidata_ and `speaker` in _Quotebank_. As several `label` are often selected (speakers having the same name), we chose the speaker (`label`) having his/her `id` (in Wikidata) equal to the first speaker in `qids` (`qids`[0] in Quotebank)."
   ]
  },
  {
   "cell_type": "markdown",
   "metadata": {},
   "source": [
    "#### Creation of sub-dataframes per professions (from 2015 to 2020)"
   ]
  },
  {
   "cell_type": "markdown",
   "metadata": {},
   "source": [
    "We now want to combine the information of the speakers from wikidata with our professional fields to create data frames of specific speakers' professions."
   ]
  },
  {
   "cell_type": "code",
   "execution_count": 43,
   "metadata": {},
   "outputs": [],
   "source": [
    "\"\"\" Only intented to be run once \n",
    "df_per_year = {}\n",
    "conditions = [political_professions.index, art_professions.index, scientific_professions.index,\n",
    "                                                                                        economic_professions.index]\n",
    "columns = ['ispolitician', 'isartist', 'isscientist','iseconomist']\n",
    "for i in range(15,21):\n",
    "    df_per_year['df_politicians_20' + str(i)], df_per_year['df_artists_20' + str(i)],\n",
    "            df_per_year['df_scientists_20' + str(i)], df_per_year['df_economists_20' + str(i)] = \\\n",
    "                        create_df_with_conditions('occupation', conditions, wiki_occupation, columns, i, i + 1)\"\"\";"
   ]
  },
  {
   "cell_type": "markdown",
   "metadata": {},
   "source": [
    "#### Creation of a general background sub-dataframes (from 2015 to 2020)"
   ]
  },
  {
   "cell_type": "markdown",
   "metadata": {},
   "source": [
    "We now create our data frame from the more precise wikidata where the `occupation`, `religion`, `nationality`, `ethnic_group` and `academic_degree` are known for every speaker in the dataset."
   ]
  },
  {
   "cell_type": "code",
   "execution_count": 44,
   "metadata": {},
   "outputs": [],
   "source": [
    "\"\"\" Only intented to be run once\n",
    "df_no_conditions_per_year = {}\n",
    "for i in range(15,21):\n",
    "    df_no_conditions_per_year['20' + str(i)] = create_df(wiki_background, i, i + 1)\"\"\";"
   ]
  },
  {
   "cell_type": "markdown",
   "metadata": {},
   "source": [
    "### 2.3 Creation of Data Frames with English Quotes only <a class = anchor id=\"2.3\"></a>"
   ]
  },
  {
   "cell_type": "code",
   "execution_count": 45,
   "metadata": {},
   "outputs": [],
   "source": [
    "\"\"\"Only intended to be run once\n",
    "df_english = {}\n",
    "for i in range(15, 21):\n",
    "    df_english['df_politicians_english_20' + str(i)] = return_english_df(df_per_year['df_politicians_20' + str(i)])\n",
    "    df_english['df_artists_english_20' + str(i)] = return_english_df(df_per_year['df_artists_20' + str(i)])\n",
    "    df_english['df_scientists_english_20' + str(i)] = return_english_df(df_per_year['df_scientists_20' + str(i)])\n",
    "    df_english['df_economists_english_20' + str(i)] = return_english_df(df_per_year['df_economists_20' + str(i)])\n",
    "    df_english['df_no_conditions_20' + str(i)] = return_english_df(df_no_conditions_per_year['20' + str(i)])\"\"\";"
   ]
  },
  {
   "cell_type": "markdown",
   "metadata": {},
   "source": [
    "### 2.4 Saving of all sub data frames <a class = anchor id=\"2.4\"></a>"
   ]
  },
  {
   "cell_type": "markdown",
   "metadata": {},
   "source": [
    "Finally, we generate pickle files where we store all the english quotations of both genders with the same professional field, from 2015 to 2020, as well as the files containing the speakers with more background information (ex : \"df_no_conditions_2020.pck\"). As mentioned above, the saving is already done and the files can be found in \"Data\"."
   ]
  },
  {
   "cell_type": "markdown",
   "metadata": {},
   "source": [
    "#### Saving of sub-dataframes per professions and general background sub-dataframes (from 2015 to 2020)"
   ]
  },
  {
   "cell_type": "code",
   "execution_count": 46,
   "metadata": {},
   "outputs": [],
   "source": [
    "\"\"\" Only intented to be run once\n",
    "for i in range(15, 21):\n",
    "    df_english['df_politicians_english_20' + str(i)].to_pickle(DATA_PATH + \"politicians_english_20\" + str(i) + \".pck\")\n",
    "    df_english['df_artists_english_20' + str(i)].to_pickle(DATA_PATH + \"artists_english_20\" + str(i) + \".pck\")\n",
    "    df_english['df_scientists_english_20' + str(i)].to_pickle(DATA_PATH + \"scientists_english_20\" + str(i) + \".pck\")\n",
    "    df_english['df_economists_english_20' + str(i)].to_pickle(DATA_PATH + \"economists_english_20\" + str(i) + \".pck\")\n",
    "    df_english['df_no_conditions_20' + str(i)].to_pickle(DATA_PATH + \"df_no_conditions_english_20\" + str(i) + \".pck\")\n",
    "    \"\"\";"
   ]
  },
  {
   "cell_type": "markdown",
   "metadata": {},
   "source": [
    "Our specific data frames are now saved and ready for the classification."
   ]
  },
  {
   "cell_type": "markdown",
   "metadata": {},
   "source": [
    "## 3. Classification of the quotes <a class = anchor id=\"classifier\"></a>"
   ]
  },
  {
   "cell_type": "markdown",
   "metadata": {},
   "source": [
    "To distinguish between uncertain and certain quotations, we use the uncertainty detection classifier from the following paper \"P. A. Jean, S. Harispe, S. Ranwez, P. Bellot, and J. Montmain, “[Uncertainty detection in natural language: A probabilistic model](https://www.researchgate.net/publication/303842922)” ACM Int. Conf. Proceeding Ser., vol. 13-15-June, no. June, 2016, doi: 10.1145/2912845.2912873\". Its public git repository is: https://github.com/PAJEAN/uncertaintyDetection.\n",
    "\n",
    "Uncertainty is defined by speculative verbs (like suggest or presume), adjectives and adverbs (like probably, possibly), auxiliary verbs (must, should) or the use of some tense or modes of conjugation (subjunctive, conditional). This classifier is an automatic machine learning method to detect uncertainty in natural language. It is inspired by binary classification methods, and is based on an optimal features’ selection. This classifier has as learning ground three corpora: Bioscope (a corpus in the biomedical domain containing 1.871 sentences), WikiWeasel (a generic corpus composed of paragraphs extracted from Wikipedia) and SFU (17.263 sentences extracted from various resources (movies, books, etc.)). Here, we only use SFU to train our classifier. In milestone 3, we will try do have a more optimal classifier by training it using the three training sets. From the set of extracted features, a vectorial representation is then defined for each sentence. The most certain and uncertain sentences are then extracted from the our test data.\n",
    "\n",
    "Still, as this classifier was created 6 years ago, it only runs on python2. As we are using python3, we modified it to run for our project. We describe below how to run it."
   ]
  },
  {
   "cell_type": "markdown",
   "metadata": {},
   "source": [
    "### Pathways <a class = anchor id=\"3pathways\"></a>"
   ]
  },
  {
   "cell_type": "markdown",
   "metadata": {},
   "source": [
    "As already mentionned in the [1. Pre-processing of the data](#pre-processing), the data folder \"txt_files\" must be downloaded and added in the same directory as this notebook."
   ]
  },
  {
   "cell_type": "code",
   "execution_count": 8,
   "metadata": {
    "tags": []
   },
   "outputs": [],
   "source": [
    "PATH_TXT = 'txt_files/'"
   ]
  },
  {
   "cell_type": "markdown",
   "metadata": {},
   "source": [
    "### Functions <a class = anchor id=\"3functions\"></a>"
   ]
  },
  {
   "cell_type": "code",
   "execution_count": 37,
   "metadata": {},
   "outputs": [],
   "source": [
    "def quotes_to_txt(file_name, df):\n",
    "    \"\"\"\n",
    "    Changes quotes dataframe to a text file.\n",
    "    Inputs:\n",
    "        * file_name : text name\n",
    "        * df : dataframe to convert\n",
    "    \"\"\"\n",
    "    quotes = df.quotation.astype(str)\n",
    "    with open(file_name, \"w\", encoding = \"utf-8\") as f:\n",
    "        for ind, quote in enumerate(quotes):\n",
    "            f.write(str(ind) + \" \" + quote + \"\\n\")\n",
    "    f.close()"
   ]
  },
  {
   "cell_type": "markdown",
   "metadata": {},
   "source": [
    "### 3.1 Reading of all sub data frames <a class = anchor id=\"3.1\"></a>"
   ]
  },
  {
   "cell_type": "markdown",
   "metadata": {},
   "source": [
    "We start by reading our sub data frames."
   ]
  },
  {
   "cell_type": "markdown",
   "metadata": {},
   "source": [
    "#### Sub data frames per professions"
   ]
  },
  {
   "cell_type": "markdown",
   "metadata": {},
   "source": [
    "We start by creating a dictionnary containing the data frames of all the professions per year (`df_per_year`)."
   ]
  },
  {
   "cell_type": "code",
   "execution_count": 8,
   "metadata": {},
   "outputs": [],
   "source": [
    "df_per_year = {}\n",
    "for i in range(15, 21): #(15, 21)\n",
    "    df_per_year['df_politicians_20' + str(i)] = pd.read_pickle(DATA_PATH + \"politicians_english_20\" + str(i) + \".pck\")\n",
    "    df_per_year['df_artists_20' + str(i)] = pd.read_pickle(DATA_PATH + \"artists_english_20\" + str(i) + \".pck\")\n",
    "    df_per_year['df_scientists_20' + str(i)] = pd.read_pickle(DATA_PATH + \"scientists_english_20\" + str(i) + \".pck\")\n",
    "    df_per_year['df_economists_20' + str(i)] = pd.read_pickle(DATA_PATH + \"economists_english_20\" + str(i) + \".pck\")"
   ]
  },
  {
   "cell_type": "markdown",
   "metadata": {},
   "source": [
    "We create a small version to avoid memory errors."
   ]
  },
  {
   "cell_type": "code",
   "execution_count": 25,
   "metadata": {},
   "outputs": [],
   "source": [
    "\"\"\"Only intented to be run once\n",
    "small_df_per_year = {}\n",
    "\n",
    "for i in range(15, 21):\n",
    "    print(i)\n",
    "    small_df_per_year['df_politicians_20' + str(i)]= pd.read_pickle(DATA_PATH + \\\n",
    "        \"politicians_english_20\" + str(i) + \".pck\").sample(n = 10000, random_state = seed)\n",
    "    small_df_per_year['df_artists_20' + str(i)]= pd.read_pickle(DATA_PATH + \\\n",
    "        \"artists_english_20\" + str(i) + \".pck\").sample(n = 10000, random_state = seed)\n",
    "    small_df_per_year['df_scientists_20' + str(i)]= pd.read_pickle(DATA_PATH + \\\n",
    "        \"scientists_english_20\" + str(i) + \".pck\").sample(n = 10000, random_state = seed)\n",
    "    small_df_per_year['df_economists_20' + str(i)]= pd.read_pickle(DATA_PATH + \\\n",
    "        \"economists_english_20\" + str(i) + \".pck\").sample(n = 10000, random_state = seed)\n",
    "        \n",
    "for i in range(15, 21):\n",
    "    small_df_per_year['df_politiciancs_20' + str(i)].to_pickle(DATA_PATH + \"small_politicians_20\" + str(i) + \".pck\")\n",
    "    small_df_per_year['df_artists_20' + str(i)].to_pickle(DATA_PATH + \"small_artists_english_20\" + str(i) + \".pck\")\n",
    "    small_df_per_year['df_scientists_20' + str(i)].to_pickle(DATA_PATH + \"small_scientists_20\" + str(i) + \".pck\")\n",
    "    small_df_per_year['df_economists_20' + str(i)].to_pickle(DATA_PATH + \"small_economists_20\" + str(i) + \".pck\")\"\"\";"
   ]
  },
  {
   "cell_type": "markdown",
   "metadata": {},
   "source": [
    "#### Sub data frame with no conditions on profession"
   ]
  },
  {
   "cell_type": "markdown",
   "metadata": {},
   "source": [
    "We now create a dictionnary containing the data frames of background information of the speakers per year (`df_no_conditions_per_year`)."
   ]
  },
  {
   "cell_type": "code",
   "execution_count": 9,
   "metadata": {},
   "outputs": [],
   "source": [
    "df_no_conditions_per_year = {}\n",
    "\n",
    "for i in range(15, 21):\n",
    "    df_no_conditions_per_year['20' + str(i)] = pd.read_pickle(DATA_PATH + \\\n",
    "                                                    \"df_no_conditions_english_20\" + str(i) + \".pck\")"
   ]
  },
  {
   "cell_type": "markdown",
   "metadata": {},
   "source": [
    "We also create a data frame with all background information of all years."
   ]
  },
  {
   "cell_type": "code",
   "execution_count": 10,
   "metadata": {},
   "outputs": [],
   "source": [
    "df_no_conditions_all_years = df_no_conditions_per_year['2015']\n",
    "\n",
    "for i in range(16,21):\n",
    "    df_no_conditions_all_years = pd.concat([df_no_conditions_all_years, df_no_conditions_per_year['20' + str(i)]])"
   ]
  },
  {
   "cell_type": "markdown",
   "metadata": {},
   "source": [
    "### 3.2 Creation of the text files <a class = anchor id=\"3.2\"></a>"
   ]
  },
  {
   "cell_type": "markdown",
   "metadata": {},
   "source": [
    "#### Sub data frames per professions"
   ]
  },
  {
   "cell_type": "markdown",
   "metadata": {},
   "source": [
    "To be able to run the classifier, we first need to create txt files with all the quotes and their indices for each professional field."
   ]
  },
  {
   "cell_type": "code",
   "execution_count": null,
   "metadata": {},
   "outputs": [],
   "source": [
    "\"\"\" Only intented to be run once\n",
    "for i in range(15,21):\n",
    "    quotes_to_txt(PATH_TXT + \"politicians_20\" + str(i)+ \".txt\", df_per_year['df_politicians_20' + str(i)])\n",
    "    quotes_to_txt(PATH_TXT + \"artists_20\" + str(i)+ \".txt\", df_per_year['df_artists_20' + str(i)])\n",
    "    quotes_to_txt(PATH_TXT + \"scientists_20\" + str(i)+ \".txt\", df_per_year['df_scientists_20' + str(i)])\n",
    "    quotes_to_txt(PATH_TXT + \"economists_20\" + str(i)+ \".txt\", df_per_year['df_economists_20' + str(i)])\"\"\";"
   ]
  },
  {
   "cell_type": "markdown",
   "metadata": {},
   "source": [
    "#### Sub data frame with no conditions on professions"
   ]
  },
  {
   "cell_type": "code",
   "execution_count": null,
   "metadata": {},
   "outputs": [],
   "source": [
    "\"\"\" Only intented to be run once\n",
    "for i in range(15,21):\n",
    "    quotes_to_txt(PATH_TXT + \"df_no_conditions_20\" + str(i) + \".txt\", df_no_conditions_per_year['20' + str(i)])\"\"\";"
   ]
  },
  {
   "cell_type": "markdown",
   "metadata": {},
   "source": [
    "All text files have already been saved and can be found in \"txt_files\". As we have generated the txt files, we can now use them with the classifier."
   ]
  },
  {
   "cell_type": "markdown",
   "metadata": {},
   "source": [
    "### 3.3 Use of the uncertainty detection classifier <a class = anchor id=\"3.3\"></a>"
   ]
  },
  {
   "cell_type": "markdown",
   "metadata": {},
   "source": [
    "After creating the files, we need to use the classifier to separate the uncertain and certain quotes. To continue, you must have downloaded the \"Classifier\" directory (see the [1. Pre-processing of the data](#pre-processing)) and add its files to the Classifier folder of the github repository."
   ]
  },
  {
   "cell_type": "markdown",
   "metadata": {},
   "source": [
    "#### How to run the classifier?"
   ]
  },
  {
   "cell_type": "markdown",
   "metadata": {},
   "source": [
    "To be able to run the file MUD.py, you will need in your ADA environment: \n",
    "* Python 3.8\n",
    "* nltk library\n",
    "* numpy library\n",
    "* sklearn library"
   ]
  },
  {
   "cell_type": "markdown",
   "metadata": {},
   "source": [
    "Once you have downloaded and installed all the libraries in your envrionment, you are good to go.  \n",
    "\n",
    "To run the program, you have to open a terminal on jupyter notebook or an anaconda prompt on anaconda. You must go in the project repository (in the main folder) and then in the Classifier folder. Then you have to run the following command : **python MUD.py w Input/name_of_the_file.txt**\n",
    "\n",
    "It is really important that you have the **ADA environment activated** to run this line.   \n",
    "\n",
    "The following files are the ones that you can put in the classifier (instead of name_of_the_file) :\n",
    "* politicians_year.txt\n",
    "* artists_year.txt\n",
    "* scientists_year.txt\n",
    "* economists_year.txt\n",
    "* df_no_conditions_year.txt\n",
    "\n",
    "With year between 2015 and 2020."
   ]
  },
  {
   "cell_type": "markdown",
   "metadata": {},
   "source": [
    "#### What does it return?"
   ]
  },
  {
   "cell_type": "markdown",
   "metadata": {},
   "source": [
    "The classifier will run for approximately 10 to 20 min depending on the file you give him. Once it is finished, you can find in the Data/Results folder two files, ***certainty_sentences*** and ***uncertainty_sentences***.  \n",
    "The file ***certainty_sentences*** is a txt file with all the quotes that have been considered as \"certain\" by the classifier; the file ***uncertainty_sentences*** is a txt file with all the quotes that have been considered as \"uncertain\" by the classifier.  \n",
    "\n",
    "You can find all these files under the following names in the txt_files folder : \n",
    "* uncertainty_politicians_year.txt\n",
    "* uncertainty_artists_year.txt\n",
    "* uncertainty_scientists_year.txt\n",
    "* uncertainty_economists_year.txt\n",
    "* uncertainty_df_no_conditions_year.txt\n",
    "\n",
    "With year between 2015 and 2020."
   ]
  },
  {
   "cell_type": "markdown",
   "metadata": {},
   "source": [
    "In the next section, we will load those files and start the statistical analysis."
   ]
  },
  {
   "cell_type": "markdown",
   "metadata": {
    "tags": []
   },
   "source": [
    "## 4. Results <a class = anchor id=\"results\"></a>"
   ]
  },
  {
   "cell_type": "markdown",
   "metadata": {},
   "source": [
    "### Imports <a class = anchor id=\"4imports\"></a>"
   ]
  },
  {
   "cell_type": "code",
   "execution_count": 11,
   "metadata": {},
   "outputs": [],
   "source": [
    "import statsmodels.formula.api as smf\n",
    "import plotly.offline as offline\n",
    "from plotly.graph_objs import *\n",
    "from plotly.offline import init_notebook_mode, iplot"
   ]
  },
  {
   "cell_type": "markdown",
   "metadata": {
    "tags": []
   },
   "source": [
    "### Functions <a class = anchor id=\"4functions\"></a>"
   ]
  },
  {
   "cell_type": "markdown",
   "metadata": {},
   "source": [
    "We define some functions important for our analysis."
   ]
  },
  {
   "cell_type": "code",
   "execution_count": 19,
   "metadata": {},
   "outputs": [],
   "source": [
    "def extract_lines(txt_file):\n",
    "    \"\"\"\n",
    "    Extracts the lines from a text file.\n",
    "    Input:\n",
    "        * txt_file : text file\n",
    "    Output:\n",
    "        * lines : all lines from text file\n",
    "    \"\"\"\n",
    "    lines = []\n",
    "    with open(txt_file, \"r\", encoding = \"utf8\") as file:\n",
    "        for line in file:\n",
    "            lines.append(line) \n",
    "    return lines\n",
    "\n",
    "def extract_indices(lines):\n",
    "    \"\"\"\n",
    "    Extracts the indices from every line.\n",
    "    Input:\n",
    "        * lines : all lines from text file\n",
    "    Output:\n",
    "        * indices : the indices from each lines\n",
    "    \"\"\"\n",
    "    indices = []\n",
    "    for i in range(0,len(lines)):\n",
    "        index = ''\n",
    "        line = lines[i]\n",
    "        for j in range(0,len(line)):\n",
    "            char = line[j]\n",
    "            if char.isspace():\n",
    "                break\n",
    "            else:\n",
    "                index += char\n",
    "        indices.append(index)\n",
    "    return indices\n",
    "\n",
    "def create_df_from_txt(txt_file, df_profession):\n",
    "    \"\"\"\n",
    "    Creates a sub data frame from df_profession containing the rows defined in the txt_file.\n",
    "    Inputs:\n",
    "        * txt_file : text file\n",
    "        * df_profession : data frame containing all the quotes from a field\n",
    "    Output:\n",
    "        * df_uncertain_profession : dataframe containing the uncertain quotes from this field\n",
    "    \"\"\"\n",
    "    df_uncertain_profession = df_profession.iloc[extract_indices(extract_lines(txt_file))]\n",
    "    return df_uncertain_profession\n",
    "\n",
    "\n",
    "def linear_reg(data, formula):\n",
    "    \"\"\"\n",
    "     Inputs:\n",
    "        * data : data to perfrom linear regression on\n",
    "        * formula : contains which feature we want to predict and the features that we use for the prediction\n",
    "    Output:\n",
    "        * res : statistical summary of the linear regression model\n",
    "    \"\"\"   \n",
    "    model_intercept = smf.ols(formula = formula, data = data)\n",
    "    # Fits the model (find the optimal coefficients, adding a random seed ensures consistency)\n",
    "    np.random.seed(seed)\n",
    "    res = model_intercept.fit()\n",
    "    return res\n",
    "\n",
    "def create_gender_dist(df_profession, df_uncertain_profession):\n",
    "    \"\"\"\n",
    "    Computes the gender distribution of uncertain speakers for a certain profession.\n",
    "    Inputs:\n",
    "        * df_profession : data frame containing all the quotes from a professional field\n",
    "        * df_uncertain_profession : dataframe containing the uncertain quotes from this professional field\n",
    "    Output:\n",
    "        * gender_dist : the gender distribution of uncertain speakers for a certain profession in percentage\n",
    "    \"\"\"\n",
    "    gender_dist = df_uncertain_profession.groupby('gender').size()/df_profession.groupby('gender').size() * 100\n",
    "    return gender_dist\n",
    "\n",
    "def calculate_percentage(uncertain, certain, influence):\n",
    "    \"\"\"\n",
    "    Computes the gender ratio of uncertain speakers by gender for a certain influence.\n",
    "    Inputs:\n",
    "        * uncertain : data frame containing all the uncertain quotes of the data frame df_no_conditions_all_year\n",
    "        * certain : dataframe containing all the certain quotes of the data frame df_no_conditions_all_year\n",
    "        * influence : feature we want to take in the data frame (like nationality, religion, academic_degree)\n",
    "    Output:\n",
    "        * uncertain_quotes : data frame containing ratio of uncertain quotes by gender over all quotes of an influence\n",
    "    \"\"\"\n",
    "    uncertain_quotes = uncertain.copy(deep = True)\n",
    "    certain_quotes = certain.copy(deep = True)\n",
    "\n",
    "    # We get rid of all the None in our influence.\n",
    "    certain_quotes = certain_quotes[~certain_quotes[influence].isin([None, \"None\"])]\n",
    "    uncertain_quotes = uncertain_quotes[~uncertain_quotes[influence].isin([None, \"None\"])]\n",
    "\n",
    "    # Because some of the influence that we use are array we need to take only the first \n",
    "    # argument of the array.\n",
    "    uncertain_quotes[influence] = uncertain_quotes[influence].apply(lambda x: x[0])\n",
    "    certain_quotes[influence] = certain_quotes[influence].apply(lambda x: x[0])\n",
    "\n",
    "    uncertain_quotes[influence] = qid_label.loc[uncertain_quotes[influence]].Label.values\n",
    "    certain_quotes[influence] = qid_label.loc[certain_quotes[influence]].Label.values\n",
    "\n",
    "    occur = uncertain_quotes.groupby(influence)[influence].agg('count').sort_values(ascending = False)\n",
    "    occur_certain = certain_quotes.groupby(influence)[influence].agg('count').sort_values(ascending = False)\n",
    "\n",
    "    uncertain_quotes = uncertain_quotes[uncertain_quotes[influence].isin(occur.index)]\n",
    "    certain_quotes = certain_quotes[certain_quotes[influence].isin(occur_certain.index)]\n",
    "\n",
    "    fem = uncertain_quotes[uncertain_quotes['gender'] == 'Q6581072']\n",
    "    fem_certain = certain_quotes[certain_quotes['gender'] == 'Q6581072']\n",
    "\n",
    "    mal = uncertain_quotes[uncertain_quotes['gender'] == 'Q6581097']\n",
    "    mal_certain = certain_quotes[certain_quotes['gender'] == 'Q6581097']\n",
    "\n",
    "    ratio_fem_uncertain = fem[influence].value_counts()/(fem[influence].value_counts() + fem_certain[influence].value_counts())\n",
    "    ratio_mal_uncertain = mal[influence].value_counts()/(mal[influence].value_counts() + mal_certain[influence].value_counts())\n",
    "    diff_mal_female = ratio_fem_uncertain - ratio_mal_uncertain\n",
    "\n",
    "    uncertain_quotes = pd.concat([ratio_fem_uncertain, ratio_mal_uncertain, diff_mal_female], axis = 1, sort = True)\n",
    "    uncertain_quotes.columns = [\"Female\", \"Male\", \"Diff\"]\n",
    "    uncertain_quotes[influence] = uncertain_quotes.index    \n",
    "    return uncertain_quotes"
   ]
  },
  {
   "cell_type": "markdown",
   "metadata": {},
   "source": [
    "### 4.1 Gender distribution <a class = anchor id=\"4.1\"></a>"
   ]
  },
  {
   "cell_type": "markdown",
   "metadata": {},
   "source": [
    "#### Accross occupations & in the general dataframe (containing background information)"
   ]
  },
  {
   "cell_type": "markdown",
   "metadata": {},
   "source": [
    "To have a general idea of the distribution of men and women speakers, we start by computing the number of men and women per professions."
   ]
  },
  {
   "cell_type": "code",
   "execution_count": 23,
   "metadata": {},
   "outputs": [],
   "source": [
    "gender_dist_prof = {}\n",
    "gender_dist_prof['politicians'] = df_per_year['df_politicians_2015'].groupby('gender').size()\n",
    "gender_dist_prof['artists'] = df_per_year['df_artists_2015'].groupby('gender').size()\n",
    "gender_dist_prof['scientists'] = df_per_year['df_scientists_2015'].groupby('gender').size()\n",
    "gender_dist_prof['economists'] = df_per_year['df_economists_2015'].groupby('gender').size()\n",
    "\n",
    "\n",
    "for i in range(16, 21): \n",
    "    gender_dist_prof['politicians'] += df_per_year['df_politicians_20' + str(i)].groupby('gender').size()\n",
    "    gender_dist_prof['artists'] += df_per_year['df_artists_20' + str(i)].groupby('gender').size()\n",
    "    gender_dist_prof['scientists'] += df_per_year['df_scientists_20' + str(i)].groupby('gender').size()\n",
    "    gender_dist_prof['economists'] += df_per_year['df_economists_20' + str(i)].groupby('gender').size()"
   ]
  },
  {
   "cell_type": "code",
   "execution_count": 24,
   "metadata": {},
   "outputs": [
    {
     "data": {
      "text/html": [
       "<div>\n",
       "<style scoped>\n",
       "    .dataframe tbody tr th:only-of-type {\n",
       "        vertical-align: middle;\n",
       "    }\n",
       "\n",
       "    .dataframe tbody tr th {\n",
       "        vertical-align: top;\n",
       "    }\n",
       "\n",
       "    .dataframe thead th {\n",
       "        text-align: right;\n",
       "    }\n",
       "</style>\n",
       "<table border=\"1\" class=\"dataframe\">\n",
       "  <thead>\n",
       "    <tr style=\"text-align: right;\">\n",
       "      <th></th>\n",
       "      <th>politicians</th>\n",
       "      <th>artists</th>\n",
       "      <th>scientists</th>\n",
       "      <th>economists</th>\n",
       "    </tr>\n",
       "  </thead>\n",
       "  <tbody>\n",
       "    <tr>\n",
       "      <th>Female</th>\n",
       "      <td>1990398</td>\n",
       "      <td>2624796</td>\n",
       "      <td>464902</td>\n",
       "      <td>570330</td>\n",
       "    </tr>\n",
       "    <tr>\n",
       "      <th>Male</th>\n",
       "      <td>7453866</td>\n",
       "      <td>5523509</td>\n",
       "      <td>1557733</td>\n",
       "      <td>2554092</td>\n",
       "    </tr>\n",
       "  </tbody>\n",
       "</table>\n",
       "</div>"
      ],
      "text/plain": [
       "        politicians  artists  scientists  economists\n",
       "Female      1990398  2624796      464902      570330\n",
       "Male        7453866  5523509     1557733     2554092"
      ]
     },
     "execution_count": 24,
     "metadata": {},
     "output_type": "execute_result"
    }
   ],
   "source": [
    "df_prof = pd.DataFrame(gender_dist_prof)\n",
    "df_prof.index = ['Female', 'Male']\n",
    "df_prof"
   ]
  },
  {
   "cell_type": "markdown",
   "metadata": {},
   "source": [
    "The same is done for the general data frame."
   ]
  },
  {
   "cell_type": "code",
   "execution_count": 27,
   "metadata": {},
   "outputs": [],
   "source": [
    "gender_dist_background = df_no_conditions_per_year['2015'].groupby('gender').size()\n",
    "\n",
    "for i in range(16,21):\n",
    "    gender_dist_background += df_no_conditions_per_year['20' + str(i)].groupby('gender').size()"
   ]
  },
  {
   "cell_type": "code",
   "execution_count": 28,
   "metadata": {},
   "outputs": [
    {
     "data": {
      "text/html": [
       "<div>\n",
       "<style scoped>\n",
       "    .dataframe tbody tr th:only-of-type {\n",
       "        vertical-align: middle;\n",
       "    }\n",
       "\n",
       "    .dataframe tbody tr th {\n",
       "        vertical-align: top;\n",
       "    }\n",
       "\n",
       "    .dataframe thead th {\n",
       "        text-align: right;\n",
       "    }\n",
       "</style>\n",
       "<table border=\"1\" class=\"dataframe\">\n",
       "  <thead>\n",
       "    <tr style=\"text-align: right;\">\n",
       "      <th></th>\n",
       "      <th>background</th>\n",
       "    </tr>\n",
       "  </thead>\n",
       "  <tbody>\n",
       "    <tr>\n",
       "      <th>Female</th>\n",
       "      <td>1196564</td>\n",
       "    </tr>\n",
       "    <tr>\n",
       "      <th>Male</th>\n",
       "      <td>5494955</td>\n",
       "    </tr>\n",
       "  </tbody>\n",
       "</table>\n",
       "</div>"
      ],
      "text/plain": [
       "        background\n",
       "Female     1196564\n",
       "Male       5494955"
      ]
     },
     "execution_count": 28,
     "metadata": {},
     "output_type": "execute_result"
    }
   ],
   "source": [
    "df_back = pd.DataFrame()\n",
    "df_back['background'] = gender_dist_background\n",
    "df_back.index = ['Female', 'Male']\n",
    "df_back"
   ]
  },
  {
   "cell_type": "markdown",
   "metadata": {},
   "source": [
    "Let's now plot the genders' distributions per professions and for the background dataframe."
   ]
  },
  {
   "cell_type": "code",
   "execution_count": 29,
   "metadata": {},
   "outputs": [
    {
     "data": {
      "application/vnd.plotly.v1+json": {
       "config": {
        "plotlyServerURL": "https://plot.ly"
       },
       "data": [
        {
         "marker": {
          "color": "#FF0000"
         },
         "name": "All professions",
         "type": "bar",
         "x": [
          "Female",
          "Male"
         ],
         "y": [
          1196564,
          5494955
         ]
        },
        {
         "marker": {
          "color": "#FF5252"
         },
         "name": "Politicians",
         "type": "bar",
         "x": [
          "Female",
          "Male"
         ],
         "y": [
          1990398,
          7453866
         ]
        },
        {
         "marker": {
          "color": "#FE8889"
         },
         "name": "Artists",
         "type": "bar",
         "x": [
          "Female",
          "Male"
         ],
         "y": [
          2624796,
          5523509
         ]
        },
        {
         "marker": {
          "color": "#FEBFC0"
         },
         "name": "Scientists",
         "type": "bar",
         "x": [
          "Female",
          "Male"
         ],
         "y": [
          464902,
          1557733
         ]
        },
        {
         "marker": {
          "color": "#FEF5F7"
         },
         "name": "Economists",
         "type": "bar",
         "x": [
          "Female",
          "Male"
         ],
         "y": [
          570330,
          2554092
         ]
        }
       ],
       "layout": {
        "template": {
         "data": {
          "bar": [
           {
            "error_x": {
             "color": "#2a3f5f"
            },
            "error_y": {
             "color": "#2a3f5f"
            },
            "marker": {
             "line": {
              "color": "#E5ECF6",
              "width": 0.5
             },
             "pattern": {
              "fillmode": "overlay",
              "size": 10,
              "solidity": 0.2
             }
            },
            "type": "bar"
           }
          ],
          "barpolar": [
           {
            "marker": {
             "line": {
              "color": "#E5ECF6",
              "width": 0.5
             },
             "pattern": {
              "fillmode": "overlay",
              "size": 10,
              "solidity": 0.2
             }
            },
            "type": "barpolar"
           }
          ],
          "carpet": [
           {
            "aaxis": {
             "endlinecolor": "#2a3f5f",
             "gridcolor": "white",
             "linecolor": "white",
             "minorgridcolor": "white",
             "startlinecolor": "#2a3f5f"
            },
            "baxis": {
             "endlinecolor": "#2a3f5f",
             "gridcolor": "white",
             "linecolor": "white",
             "minorgridcolor": "white",
             "startlinecolor": "#2a3f5f"
            },
            "type": "carpet"
           }
          ],
          "choropleth": [
           {
            "colorbar": {
             "outlinewidth": 0,
             "ticks": ""
            },
            "type": "choropleth"
           }
          ],
          "contour": [
           {
            "colorbar": {
             "outlinewidth": 0,
             "ticks": ""
            },
            "colorscale": [
             [
              0,
              "#0d0887"
             ],
             [
              0.1111111111111111,
              "#46039f"
             ],
             [
              0.2222222222222222,
              "#7201a8"
             ],
             [
              0.3333333333333333,
              "#9c179e"
             ],
             [
              0.4444444444444444,
              "#bd3786"
             ],
             [
              0.5555555555555556,
              "#d8576b"
             ],
             [
              0.6666666666666666,
              "#ed7953"
             ],
             [
              0.7777777777777778,
              "#fb9f3a"
             ],
             [
              0.8888888888888888,
              "#fdca26"
             ],
             [
              1,
              "#f0f921"
             ]
            ],
            "type": "contour"
           }
          ],
          "contourcarpet": [
           {
            "colorbar": {
             "outlinewidth": 0,
             "ticks": ""
            },
            "type": "contourcarpet"
           }
          ],
          "heatmap": [
           {
            "colorbar": {
             "outlinewidth": 0,
             "ticks": ""
            },
            "colorscale": [
             [
              0,
              "#0d0887"
             ],
             [
              0.1111111111111111,
              "#46039f"
             ],
             [
              0.2222222222222222,
              "#7201a8"
             ],
             [
              0.3333333333333333,
              "#9c179e"
             ],
             [
              0.4444444444444444,
              "#bd3786"
             ],
             [
              0.5555555555555556,
              "#d8576b"
             ],
             [
              0.6666666666666666,
              "#ed7953"
             ],
             [
              0.7777777777777778,
              "#fb9f3a"
             ],
             [
              0.8888888888888888,
              "#fdca26"
             ],
             [
              1,
              "#f0f921"
             ]
            ],
            "type": "heatmap"
           }
          ],
          "heatmapgl": [
           {
            "colorbar": {
             "outlinewidth": 0,
             "ticks": ""
            },
            "colorscale": [
             [
              0,
              "#0d0887"
             ],
             [
              0.1111111111111111,
              "#46039f"
             ],
             [
              0.2222222222222222,
              "#7201a8"
             ],
             [
              0.3333333333333333,
              "#9c179e"
             ],
             [
              0.4444444444444444,
              "#bd3786"
             ],
             [
              0.5555555555555556,
              "#d8576b"
             ],
             [
              0.6666666666666666,
              "#ed7953"
             ],
             [
              0.7777777777777778,
              "#fb9f3a"
             ],
             [
              0.8888888888888888,
              "#fdca26"
             ],
             [
              1,
              "#f0f921"
             ]
            ],
            "type": "heatmapgl"
           }
          ],
          "histogram": [
           {
            "marker": {
             "pattern": {
              "fillmode": "overlay",
              "size": 10,
              "solidity": 0.2
             }
            },
            "type": "histogram"
           }
          ],
          "histogram2d": [
           {
            "colorbar": {
             "outlinewidth": 0,
             "ticks": ""
            },
            "colorscale": [
             [
              0,
              "#0d0887"
             ],
             [
              0.1111111111111111,
              "#46039f"
             ],
             [
              0.2222222222222222,
              "#7201a8"
             ],
             [
              0.3333333333333333,
              "#9c179e"
             ],
             [
              0.4444444444444444,
              "#bd3786"
             ],
             [
              0.5555555555555556,
              "#d8576b"
             ],
             [
              0.6666666666666666,
              "#ed7953"
             ],
             [
              0.7777777777777778,
              "#fb9f3a"
             ],
             [
              0.8888888888888888,
              "#fdca26"
             ],
             [
              1,
              "#f0f921"
             ]
            ],
            "type": "histogram2d"
           }
          ],
          "histogram2dcontour": [
           {
            "colorbar": {
             "outlinewidth": 0,
             "ticks": ""
            },
            "colorscale": [
             [
              0,
              "#0d0887"
             ],
             [
              0.1111111111111111,
              "#46039f"
             ],
             [
              0.2222222222222222,
              "#7201a8"
             ],
             [
              0.3333333333333333,
              "#9c179e"
             ],
             [
              0.4444444444444444,
              "#bd3786"
             ],
             [
              0.5555555555555556,
              "#d8576b"
             ],
             [
              0.6666666666666666,
              "#ed7953"
             ],
             [
              0.7777777777777778,
              "#fb9f3a"
             ],
             [
              0.8888888888888888,
              "#fdca26"
             ],
             [
              1,
              "#f0f921"
             ]
            ],
            "type": "histogram2dcontour"
           }
          ],
          "mesh3d": [
           {
            "colorbar": {
             "outlinewidth": 0,
             "ticks": ""
            },
            "type": "mesh3d"
           }
          ],
          "parcoords": [
           {
            "line": {
             "colorbar": {
              "outlinewidth": 0,
              "ticks": ""
             }
            },
            "type": "parcoords"
           }
          ],
          "pie": [
           {
            "automargin": true,
            "type": "pie"
           }
          ],
          "scatter": [
           {
            "marker": {
             "colorbar": {
              "outlinewidth": 0,
              "ticks": ""
             }
            },
            "type": "scatter"
           }
          ],
          "scatter3d": [
           {
            "line": {
             "colorbar": {
              "outlinewidth": 0,
              "ticks": ""
             }
            },
            "marker": {
             "colorbar": {
              "outlinewidth": 0,
              "ticks": ""
             }
            },
            "type": "scatter3d"
           }
          ],
          "scattercarpet": [
           {
            "marker": {
             "colorbar": {
              "outlinewidth": 0,
              "ticks": ""
             }
            },
            "type": "scattercarpet"
           }
          ],
          "scattergeo": [
           {
            "marker": {
             "colorbar": {
              "outlinewidth": 0,
              "ticks": ""
             }
            },
            "type": "scattergeo"
           }
          ],
          "scattergl": [
           {
            "marker": {
             "colorbar": {
              "outlinewidth": 0,
              "ticks": ""
             }
            },
            "type": "scattergl"
           }
          ],
          "scattermapbox": [
           {
            "marker": {
             "colorbar": {
              "outlinewidth": 0,
              "ticks": ""
             }
            },
            "type": "scattermapbox"
           }
          ],
          "scatterpolar": [
           {
            "marker": {
             "colorbar": {
              "outlinewidth": 0,
              "ticks": ""
             }
            },
            "type": "scatterpolar"
           }
          ],
          "scatterpolargl": [
           {
            "marker": {
             "colorbar": {
              "outlinewidth": 0,
              "ticks": ""
             }
            },
            "type": "scatterpolargl"
           }
          ],
          "scatterternary": [
           {
            "marker": {
             "colorbar": {
              "outlinewidth": 0,
              "ticks": ""
             }
            },
            "type": "scatterternary"
           }
          ],
          "surface": [
           {
            "colorbar": {
             "outlinewidth": 0,
             "ticks": ""
            },
            "colorscale": [
             [
              0,
              "#0d0887"
             ],
             [
              0.1111111111111111,
              "#46039f"
             ],
             [
              0.2222222222222222,
              "#7201a8"
             ],
             [
              0.3333333333333333,
              "#9c179e"
             ],
             [
              0.4444444444444444,
              "#bd3786"
             ],
             [
              0.5555555555555556,
              "#d8576b"
             ],
             [
              0.6666666666666666,
              "#ed7953"
             ],
             [
              0.7777777777777778,
              "#fb9f3a"
             ],
             [
              0.8888888888888888,
              "#fdca26"
             ],
             [
              1,
              "#f0f921"
             ]
            ],
            "type": "surface"
           }
          ],
          "table": [
           {
            "cells": {
             "fill": {
              "color": "#EBF0F8"
             },
             "line": {
              "color": "white"
             }
            },
            "header": {
             "fill": {
              "color": "#C8D4E3"
             },
             "line": {
              "color": "white"
             }
            },
            "type": "table"
           }
          ]
         },
         "layout": {
          "annotationdefaults": {
           "arrowcolor": "#2a3f5f",
           "arrowhead": 0,
           "arrowwidth": 1
          },
          "autotypenumbers": "strict",
          "coloraxis": {
           "colorbar": {
            "outlinewidth": 0,
            "ticks": ""
           }
          },
          "colorscale": {
           "diverging": [
            [
             0,
             "#8e0152"
            ],
            [
             0.1,
             "#c51b7d"
            ],
            [
             0.2,
             "#de77ae"
            ],
            [
             0.3,
             "#f1b6da"
            ],
            [
             0.4,
             "#fde0ef"
            ],
            [
             0.5,
             "#f7f7f7"
            ],
            [
             0.6,
             "#e6f5d0"
            ],
            [
             0.7,
             "#b8e186"
            ],
            [
             0.8,
             "#7fbc41"
            ],
            [
             0.9,
             "#4d9221"
            ],
            [
             1,
             "#276419"
            ]
           ],
           "sequential": [
            [
             0,
             "#0d0887"
            ],
            [
             0.1111111111111111,
             "#46039f"
            ],
            [
             0.2222222222222222,
             "#7201a8"
            ],
            [
             0.3333333333333333,
             "#9c179e"
            ],
            [
             0.4444444444444444,
             "#bd3786"
            ],
            [
             0.5555555555555556,
             "#d8576b"
            ],
            [
             0.6666666666666666,
             "#ed7953"
            ],
            [
             0.7777777777777778,
             "#fb9f3a"
            ],
            [
             0.8888888888888888,
             "#fdca26"
            ],
            [
             1,
             "#f0f921"
            ]
           ],
           "sequentialminus": [
            [
             0,
             "#0d0887"
            ],
            [
             0.1111111111111111,
             "#46039f"
            ],
            [
             0.2222222222222222,
             "#7201a8"
            ],
            [
             0.3333333333333333,
             "#9c179e"
            ],
            [
             0.4444444444444444,
             "#bd3786"
            ],
            [
             0.5555555555555556,
             "#d8576b"
            ],
            [
             0.6666666666666666,
             "#ed7953"
            ],
            [
             0.7777777777777778,
             "#fb9f3a"
            ],
            [
             0.8888888888888888,
             "#fdca26"
            ],
            [
             1,
             "#f0f921"
            ]
           ]
          },
          "colorway": [
           "#636efa",
           "#EF553B",
           "#00cc96",
           "#ab63fa",
           "#FFA15A",
           "#19d3f3",
           "#FF6692",
           "#B6E880",
           "#FF97FF",
           "#FECB52"
          ],
          "font": {
           "color": "#2a3f5f"
          },
          "geo": {
           "bgcolor": "white",
           "lakecolor": "white",
           "landcolor": "#E5ECF6",
           "showlakes": true,
           "showland": true,
           "subunitcolor": "white"
          },
          "hoverlabel": {
           "align": "left"
          },
          "hovermode": "closest",
          "mapbox": {
           "style": "light"
          },
          "paper_bgcolor": "white",
          "plot_bgcolor": "#E5ECF6",
          "polar": {
           "angularaxis": {
            "gridcolor": "white",
            "linecolor": "white",
            "ticks": ""
           },
           "bgcolor": "#E5ECF6",
           "radialaxis": {
            "gridcolor": "white",
            "linecolor": "white",
            "ticks": ""
           }
          },
          "scene": {
           "xaxis": {
            "backgroundcolor": "#E5ECF6",
            "gridcolor": "white",
            "gridwidth": 2,
            "linecolor": "white",
            "showbackground": true,
            "ticks": "",
            "zerolinecolor": "white"
           },
           "yaxis": {
            "backgroundcolor": "#E5ECF6",
            "gridcolor": "white",
            "gridwidth": 2,
            "linecolor": "white",
            "showbackground": true,
            "ticks": "",
            "zerolinecolor": "white"
           },
           "zaxis": {
            "backgroundcolor": "#E5ECF6",
            "gridcolor": "white",
            "gridwidth": 2,
            "linecolor": "white",
            "showbackground": true,
            "ticks": "",
            "zerolinecolor": "white"
           }
          },
          "shapedefaults": {
           "line": {
            "color": "#2a3f5f"
           }
          },
          "ternary": {
           "aaxis": {
            "gridcolor": "white",
            "linecolor": "white",
            "ticks": ""
           },
           "baxis": {
            "gridcolor": "white",
            "linecolor": "white",
            "ticks": ""
           },
           "bgcolor": "#E5ECF6",
           "caxis": {
            "gridcolor": "white",
            "linecolor": "white",
            "ticks": ""
           }
          },
          "title": {
           "x": 0.05
          },
          "xaxis": {
           "automargin": true,
           "gridcolor": "white",
           "linecolor": "white",
           "ticks": "",
           "title": {
            "standoff": 15
           },
           "zerolinecolor": "white",
           "zerolinewidth": 2
          },
          "yaxis": {
           "automargin": true,
           "gridcolor": "white",
           "linecolor": "white",
           "ticks": "",
           "title": {
            "standoff": 15
           },
           "zerolinecolor": "white",
           "zerolinewidth": 2
          }
         }
        },
        "title": {
         "text": "Gender distribution across the professional fields and in our general dataframe",
         "x": 0.5
        },
        "xaxis": {
         "title": {
          "text": "Genders"
         }
        },
        "yaxis": {
         "title": {
          "text": "Speakers"
         }
        }
       }
      }
     },
     "metadata": {},
     "output_type": "display_data"
    }
   ],
   "source": [
    "trace_back = go.Bar(x = df_back.index, y = df_back['background'], name = \"All professions\", marker_color = colors[0])\n",
    "trace_pol = go.Bar(x = df_prof.index, y = df_prof['politicians'], name = \"Politicians\", marker_color = colors[3])\n",
    "trace_art = go.Bar(x = df_prof.index, y = df_prof['artists'], name = \"Artists\", marker_color = colors[5])\n",
    "trace_sci = go.Bar(x = df_prof.index, y = df_prof['scientists'], name = \"Scientists\", marker_color = colors[7])\n",
    "trace_eco = go.Bar(x = df_prof.index, y = df_prof['economists'], name = \"Economists\", marker_color = colors[9])\n",
    "\n",
    "my_layout = {\n",
    "    'title': 'Gender distribution across the professional fields and in our general dataframe',\n",
    "    'xaxis': {'title': 'Genders'},\n",
    "    'yaxis': {'title': 'Speakers'},\n",
    "    }\n",
    "\n",
    "fig = go.Figure()\n",
    "fig.add_trace(trace_back)\n",
    "fig.add_trace(trace_pol)\n",
    "fig.add_trace(trace_art)\n",
    "fig.add_trace(trace_sci)\n",
    "fig.add_trace(trace_eco)\n",
    "fig.update_layout(my_layout,title_x = 0.5)\n",
    "\n",
    "fig.show()"
   ]
  },
  {
   "cell_type": "markdown",
   "metadata": {},
   "source": [
    "We save the plot"
   ]
  },
  {
   "cell_type": "code",
   "execution_count": 30,
   "metadata": {},
   "outputs": [],
   "source": [
    "html_path = IMAGE_PATH + \"gender_dist_plot_across_prof_and_back.html\"\n",
    "fig.write_html(html_path)"
   ]
  },
  {
   "cell_type": "markdown",
   "metadata": {},
   "source": [
    "We can observe a majority of males in every occupation category, as well as in the general (background) dataframe."
   ]
  },
  {
   "cell_type": "markdown",
   "metadata": {},
   "source": [
    "#### Summary : computation of the ratios"
   ]
  },
  {
   "cell_type": "code",
   "execution_count": 31,
   "metadata": {},
   "outputs": [
    {
     "name": "stdout",
     "output_type": "stream",
     "text": [
      "The female ratio for the different occupation groups are: \n",
      " 0.21 in politicians, \n",
      " 0.32 in artist, \n",
      " 0.23 in scientists, \n",
      " 0.18 in economists, \n",
      " and 0.18 accross all different occupations.\n"
     ]
    }
   ],
   "source": [
    "politicians_female_ratio = gender_dist_prof['politicians'][female_label]/gender_dist_prof['politicians'].sum()\n",
    "artist_female_ratio = gender_dist_prof['artists'][female_label]/gender_dist_prof['artists'].sum()\n",
    "scientists_female_ratio = gender_dist_prof['scientists'][female_label]/gender_dist_prof['scientists'].sum()\n",
    "economists_female_ratio = gender_dist_prof['economists'][female_label]/gender_dist_prof['economists'].sum()\n",
    "background_female_ratio = gender_dist_background[female_label]/gender_dist_background.sum()\n",
    "\n",
    "print(\"The female ratio for the different occupation groups are:\", \"\\n\", \n",
    "      \"{:.2f} in politicians,\".format(politicians_female_ratio),\n",
    "      \"\\n\",  \"{:.2f} in artist,\".format(artist_female_ratio), \"\\n\", \n",
    "      \"{:.2f} in scientists,\".format(scientists_female_ratio),\n",
    "      \"\\n\", \"{:.2f} in economists,\".format(economists_female_ratio), \"\\n\",\n",
    "      \"and {:.2f} accross all different occupations.\".format(background_female_ratio))"
   ]
  },
  {
   "cell_type": "markdown",
   "metadata": {},
   "source": [
    "changer le pourcentage\n",
    "This represents an important imbalance in the dataset that we will take into account during our study and futur analysis. One could note that the highest imbalance (18% of women) is in the economist professions."
   ]
  },
  {
   "cell_type": "markdown",
   "metadata": {},
   "source": [
    "### 4.2 Analysis of the genders distribution per profession <a class = anchor id=\"4.2\"></a>"
   ]
  },
  {
   "cell_type": "markdown",
   "metadata": {},
   "source": [
    "Let's compute the uncertainty genders' distributions per professions (e.g., how many uncertain artists women are there compared to the total number of artists women). We start by creating a dictionnary containing the number of speaker from each profession per gender."
   ]
  },
  {
   "cell_type": "code",
   "execution_count": 11,
   "metadata": {},
   "outputs": [],
   "source": [
    "number_by_gender_all_years = {}\n",
    "number_by_gender_all_years['politicians'] = df_per_year['df_politicians_2015'].groupby('gender').size()\n",
    "number_by_gender_all_years['artists'] = df_per_year['df_artists_2015'].groupby('gender').size()\n",
    "number_by_gender_all_years['scientists'] = df_per_year['df_scientists_2015'].groupby('gender').size()\n",
    "number_by_gender_all_years['economists'] = df_per_year['df_economists_2015'].groupby('gender').size()\n",
    "\n",
    "for i in range(16,21): \n",
    "    number_by_gender_all_years['politicians'] += df_per_year['df_politicians_20' + str(i)].groupby('gender').size()\n",
    "    number_by_gender_all_years['artists'] += df_per_year['df_artists_20' + str(i)].groupby('gender').size()\n",
    "    number_by_gender_all_years['scientists'] += df_per_year['df_scientists_20' + str(i)].groupby('gender').size()\n",
    "    number_by_gender_all_years['economists'] += df_per_year['df_economists_20' + str(i)].groupby('gender').size()"
   ]
  },
  {
   "cell_type": "markdown",
   "metadata": {},
   "source": [
    "We then create our dictionnary (`df_uncertain_professions_per_year`) containing our uncertain quotes per profession per year. This will also later be used in part [4.4 Possible variation from 2015 to 2020](#4.4)."
   ]
  },
  {
   "cell_type": "code",
   "execution_count": 10,
   "metadata": {},
   "outputs": [],
   "source": [
    "df_uncertain_professions_per_year = {}\n",
    "for i in range(15,21):\n",
    "    df_uncertain_professions_per_year['df_uncertain_politicians_20' + str(i)] = create_df_from_txt(PATH_TXT + \\\n",
    "                            \"uncertainty_politicians_20\" + str(i) + \".txt\", df_per_year['df_politicians_20' + str(i)])\n",
    "    \n",
    "    df_uncertain_professions_per_year['df_uncertain_artists_20' + str(i)] = create_df_from_txt(PATH_TXT + \\\n",
    "                            \"uncertainty_artists_20\" + str(i) + \".txt\", df_per_year['df_artists_20' + str(i)])\n",
    "    \n",
    "    df_uncertain_professions_per_year['df_uncertain_scientists_20' + str(i)] = create_df_from_txt(PATH_TXT + \\\n",
    "                            \"uncertainty_scientists_20\" + str(i) + \".txt\", df_per_year['df_scientists_20' + str(i)])\n",
    "    \n",
    "    df_uncertain_professions_per_year['df_uncertain_economists_20' + str(i)] = create_df_from_txt(PATH_TXT + \\\n",
    "                            \"uncertainty_economists_20\" + str(i) + \".txt\", df_per_year['df_economists_20' + str(i)])"
   ]
  },
  {
   "cell_type": "markdown",
   "metadata": {},
   "source": [
    "We now create a dictionnary containing the number of all uncertain quotes per profession (regrouping all years)."
   ]
  },
  {
   "cell_type": "code",
   "execution_count": 13,
   "metadata": {},
   "outputs": [],
   "source": [
    "number_uncertain_by_gender_all_years = {}\n",
    "number_uncertain_by_gender_all_years['politicians'] = \\\n",
    "                        df_uncertain_professions_per_year['df_uncertain_politicians_2015'].groupby('gender').size()\n",
    "number_uncertain_by_gender_all_years['artists'] = \\\n",
    "                            df_uncertain_professions_per_year['df_uncertain_artists_2015'].groupby('gender').size()\n",
    "number_uncertain_by_gender_all_years['scientists'] = \\\n",
    "                            df_uncertain_professions_per_year['df_uncertain_scientists_2015'].groupby('gender').size()\n",
    "number_uncertain_by_gender_all_years['economists'] = \\\n",
    "                            df_uncertain_professions_per_year['df_uncertain_economists_2015'].groupby('gender').size()\n",
    "\n",
    "for i in range(16,21):\n",
    "    number_uncertain_by_gender_all_years['politicians'] += df_uncertain_professions_per_year \\\n",
    "                                                    ['df_uncertain_politicians_20' + str(i)].groupby('gender').size()\n",
    "    number_uncertain_by_gender_all_years['artists'] += df_uncertain_professions_per_year \\\n",
    "                                                    ['df_uncertain_artists_20' + str(i)].groupby('gender').size()\n",
    "    number_uncertain_by_gender_all_years['scientists'] += df_uncertain_professions_per_year \\\n",
    "                                                    ['df_uncertain_scientists_20' + str(i)].groupby('gender').size()\n",
    "    number_uncertain_by_gender_all_years['economists'] += df_uncertain_professions_per_year \\\n",
    "                                                    ['df_uncertain_economists_20' + str(i)].groupby('gender').size()"
   ]
  },
  {
   "cell_type": "markdown",
   "metadata": {},
   "source": [
    "We now compute the gender ratios (in %) of each profession."
   ]
  },
  {
   "cell_type": "code",
   "execution_count": 14,
   "metadata": {},
   "outputs": [],
   "source": [
    "gender_dist_ratio = {}\n",
    "gender_dist_ratio['politicians'] = number_uncertain_by_gender_all_years['politicians']/ \\\n",
    "                                                                        number_by_gender_all_years['politicians']*100\n",
    "gender_dist_ratio['artists'] = number_uncertain_by_gender_all_years['artists']/ \\\n",
    "                                                                        number_by_gender_all_years['artists']*100\n",
    "gender_dist_ratio['scientists'] = number_uncertain_by_gender_all_years['scientists']/ \\\n",
    "                                                                        number_by_gender_all_years['scientists']*100\n",
    "gender_dist_ratio['economists'] = number_uncertain_by_gender_all_years['economists']/ \\\n",
    "                                                                        number_by_gender_all_years['economists']*100"
   ]
  },
  {
   "cell_type": "markdown",
   "metadata": {},
   "source": [
    "Lastly, we plot those genders' distributions per occupation."
   ]
  },
  {
   "cell_type": "code",
   "execution_count": 15,
   "metadata": {},
   "outputs": [
    {
     "data": {
      "text/html": [
       "<div>\n",
       "<style scoped>\n",
       "    .dataframe tbody tr th:only-of-type {\n",
       "        vertical-align: middle;\n",
       "    }\n",
       "\n",
       "    .dataframe tbody tr th {\n",
       "        vertical-align: top;\n",
       "    }\n",
       "\n",
       "    .dataframe thead th {\n",
       "        text-align: right;\n",
       "    }\n",
       "</style>\n",
       "<table border=\"1\" class=\"dataframe\">\n",
       "  <thead>\n",
       "    <tr style=\"text-align: right;\">\n",
       "      <th></th>\n",
       "      <th>politicians</th>\n",
       "      <th>artists</th>\n",
       "      <th>scientists</th>\n",
       "      <th>economists</th>\n",
       "    </tr>\n",
       "  </thead>\n",
       "  <tbody>\n",
       "    <tr>\n",
       "      <th>Female</th>\n",
       "      <td>28.50</td>\n",
       "      <td>29.96</td>\n",
       "      <td>30.50</td>\n",
       "      <td>30.09</td>\n",
       "    </tr>\n",
       "    <tr>\n",
       "      <th>Male</th>\n",
       "      <td>28.86</td>\n",
       "      <td>30.03</td>\n",
       "      <td>30.73</td>\n",
       "      <td>30.57</td>\n",
       "    </tr>\n",
       "  </tbody>\n",
       "</table>\n",
       "</div>"
      ],
      "text/plain": [
       "        politicians  artists  scientists  economists\n",
       "Female        28.50    29.96       30.50       30.09\n",
       "Male          28.86    30.03       30.73       30.57"
      ]
     },
     "execution_count": 15,
     "metadata": {},
     "output_type": "execute_result"
    }
   ],
   "source": [
    "df_ratio_prof = pd.DataFrame(gender_dist_ratio)\n",
    "df_ratio_prof.index = ['Female', 'Male']\n",
    "df_ratio_prof.round(decimals = 2)"
   ]
  },
  {
   "cell_type": "code",
   "execution_count": 16,
   "metadata": {},
   "outputs": [
    {
     "data": {
      "application/vnd.plotly.v1+json": {
       "config": {
        "plotlyServerURL": "https://plot.ly"
       },
       "data": [
        {
         "marker": {
          "color": "#FF5252"
         },
         "name": "Politicians",
         "type": "bar",
         "x": [
          "Female",
          "Male"
         ],
         "y": [
          28.498822848495625,
          28.855388599687732
         ]
        },
        {
         "marker": {
          "color": "#FE8889"
         },
         "name": "Artists",
         "type": "bar",
         "x": [
          "Female",
          "Male"
         ],
         "y": [
          29.957566226099097,
          30.027524169871
         ]
        },
        {
         "marker": {
          "color": "#FEBFC0"
         },
         "name": "Scientists",
         "type": "bar",
         "x": [
          "Female",
          "Male"
         ],
         "y": [
          30.50105183458019,
          30.72747383537487
         ]
        },
        {
         "marker": {
          "color": "#FEF5F7"
         },
         "name": "Economists",
         "type": "bar",
         "x": [
          "Female",
          "Male"
         ],
         "y": [
          30.088194554030125,
          30.56847599851532
         ]
        }
       ],
       "layout": {
        "template": {
         "data": {
          "bar": [
           {
            "error_x": {
             "color": "#2a3f5f"
            },
            "error_y": {
             "color": "#2a3f5f"
            },
            "marker": {
             "line": {
              "color": "#E5ECF6",
              "width": 0.5
             },
             "pattern": {
              "fillmode": "overlay",
              "size": 10,
              "solidity": 0.2
             }
            },
            "type": "bar"
           }
          ],
          "barpolar": [
           {
            "marker": {
             "line": {
              "color": "#E5ECF6",
              "width": 0.5
             },
             "pattern": {
              "fillmode": "overlay",
              "size": 10,
              "solidity": 0.2
             }
            },
            "type": "barpolar"
           }
          ],
          "carpet": [
           {
            "aaxis": {
             "endlinecolor": "#2a3f5f",
             "gridcolor": "white",
             "linecolor": "white",
             "minorgridcolor": "white",
             "startlinecolor": "#2a3f5f"
            },
            "baxis": {
             "endlinecolor": "#2a3f5f",
             "gridcolor": "white",
             "linecolor": "white",
             "minorgridcolor": "white",
             "startlinecolor": "#2a3f5f"
            },
            "type": "carpet"
           }
          ],
          "choropleth": [
           {
            "colorbar": {
             "outlinewidth": 0,
             "ticks": ""
            },
            "type": "choropleth"
           }
          ],
          "contour": [
           {
            "colorbar": {
             "outlinewidth": 0,
             "ticks": ""
            },
            "colorscale": [
             [
              0,
              "#0d0887"
             ],
             [
              0.1111111111111111,
              "#46039f"
             ],
             [
              0.2222222222222222,
              "#7201a8"
             ],
             [
              0.3333333333333333,
              "#9c179e"
             ],
             [
              0.4444444444444444,
              "#bd3786"
             ],
             [
              0.5555555555555556,
              "#d8576b"
             ],
             [
              0.6666666666666666,
              "#ed7953"
             ],
             [
              0.7777777777777778,
              "#fb9f3a"
             ],
             [
              0.8888888888888888,
              "#fdca26"
             ],
             [
              1,
              "#f0f921"
             ]
            ],
            "type": "contour"
           }
          ],
          "contourcarpet": [
           {
            "colorbar": {
             "outlinewidth": 0,
             "ticks": ""
            },
            "type": "contourcarpet"
           }
          ],
          "heatmap": [
           {
            "colorbar": {
             "outlinewidth": 0,
             "ticks": ""
            },
            "colorscale": [
             [
              0,
              "#0d0887"
             ],
             [
              0.1111111111111111,
              "#46039f"
             ],
             [
              0.2222222222222222,
              "#7201a8"
             ],
             [
              0.3333333333333333,
              "#9c179e"
             ],
             [
              0.4444444444444444,
              "#bd3786"
             ],
             [
              0.5555555555555556,
              "#d8576b"
             ],
             [
              0.6666666666666666,
              "#ed7953"
             ],
             [
              0.7777777777777778,
              "#fb9f3a"
             ],
             [
              0.8888888888888888,
              "#fdca26"
             ],
             [
              1,
              "#f0f921"
             ]
            ],
            "type": "heatmap"
           }
          ],
          "heatmapgl": [
           {
            "colorbar": {
             "outlinewidth": 0,
             "ticks": ""
            },
            "colorscale": [
             [
              0,
              "#0d0887"
             ],
             [
              0.1111111111111111,
              "#46039f"
             ],
             [
              0.2222222222222222,
              "#7201a8"
             ],
             [
              0.3333333333333333,
              "#9c179e"
             ],
             [
              0.4444444444444444,
              "#bd3786"
             ],
             [
              0.5555555555555556,
              "#d8576b"
             ],
             [
              0.6666666666666666,
              "#ed7953"
             ],
             [
              0.7777777777777778,
              "#fb9f3a"
             ],
             [
              0.8888888888888888,
              "#fdca26"
             ],
             [
              1,
              "#f0f921"
             ]
            ],
            "type": "heatmapgl"
           }
          ],
          "histogram": [
           {
            "marker": {
             "pattern": {
              "fillmode": "overlay",
              "size": 10,
              "solidity": 0.2
             }
            },
            "type": "histogram"
           }
          ],
          "histogram2d": [
           {
            "colorbar": {
             "outlinewidth": 0,
             "ticks": ""
            },
            "colorscale": [
             [
              0,
              "#0d0887"
             ],
             [
              0.1111111111111111,
              "#46039f"
             ],
             [
              0.2222222222222222,
              "#7201a8"
             ],
             [
              0.3333333333333333,
              "#9c179e"
             ],
             [
              0.4444444444444444,
              "#bd3786"
             ],
             [
              0.5555555555555556,
              "#d8576b"
             ],
             [
              0.6666666666666666,
              "#ed7953"
             ],
             [
              0.7777777777777778,
              "#fb9f3a"
             ],
             [
              0.8888888888888888,
              "#fdca26"
             ],
             [
              1,
              "#f0f921"
             ]
            ],
            "type": "histogram2d"
           }
          ],
          "histogram2dcontour": [
           {
            "colorbar": {
             "outlinewidth": 0,
             "ticks": ""
            },
            "colorscale": [
             [
              0,
              "#0d0887"
             ],
             [
              0.1111111111111111,
              "#46039f"
             ],
             [
              0.2222222222222222,
              "#7201a8"
             ],
             [
              0.3333333333333333,
              "#9c179e"
             ],
             [
              0.4444444444444444,
              "#bd3786"
             ],
             [
              0.5555555555555556,
              "#d8576b"
             ],
             [
              0.6666666666666666,
              "#ed7953"
             ],
             [
              0.7777777777777778,
              "#fb9f3a"
             ],
             [
              0.8888888888888888,
              "#fdca26"
             ],
             [
              1,
              "#f0f921"
             ]
            ],
            "type": "histogram2dcontour"
           }
          ],
          "mesh3d": [
           {
            "colorbar": {
             "outlinewidth": 0,
             "ticks": ""
            },
            "type": "mesh3d"
           }
          ],
          "parcoords": [
           {
            "line": {
             "colorbar": {
              "outlinewidth": 0,
              "ticks": ""
             }
            },
            "type": "parcoords"
           }
          ],
          "pie": [
           {
            "automargin": true,
            "type": "pie"
           }
          ],
          "scatter": [
           {
            "marker": {
             "colorbar": {
              "outlinewidth": 0,
              "ticks": ""
             }
            },
            "type": "scatter"
           }
          ],
          "scatter3d": [
           {
            "line": {
             "colorbar": {
              "outlinewidth": 0,
              "ticks": ""
             }
            },
            "marker": {
             "colorbar": {
              "outlinewidth": 0,
              "ticks": ""
             }
            },
            "type": "scatter3d"
           }
          ],
          "scattercarpet": [
           {
            "marker": {
             "colorbar": {
              "outlinewidth": 0,
              "ticks": ""
             }
            },
            "type": "scattercarpet"
           }
          ],
          "scattergeo": [
           {
            "marker": {
             "colorbar": {
              "outlinewidth": 0,
              "ticks": ""
             }
            },
            "type": "scattergeo"
           }
          ],
          "scattergl": [
           {
            "marker": {
             "colorbar": {
              "outlinewidth": 0,
              "ticks": ""
             }
            },
            "type": "scattergl"
           }
          ],
          "scattermapbox": [
           {
            "marker": {
             "colorbar": {
              "outlinewidth": 0,
              "ticks": ""
             }
            },
            "type": "scattermapbox"
           }
          ],
          "scatterpolar": [
           {
            "marker": {
             "colorbar": {
              "outlinewidth": 0,
              "ticks": ""
             }
            },
            "type": "scatterpolar"
           }
          ],
          "scatterpolargl": [
           {
            "marker": {
             "colorbar": {
              "outlinewidth": 0,
              "ticks": ""
             }
            },
            "type": "scatterpolargl"
           }
          ],
          "scatterternary": [
           {
            "marker": {
             "colorbar": {
              "outlinewidth": 0,
              "ticks": ""
             }
            },
            "type": "scatterternary"
           }
          ],
          "surface": [
           {
            "colorbar": {
             "outlinewidth": 0,
             "ticks": ""
            },
            "colorscale": [
             [
              0,
              "#0d0887"
             ],
             [
              0.1111111111111111,
              "#46039f"
             ],
             [
              0.2222222222222222,
              "#7201a8"
             ],
             [
              0.3333333333333333,
              "#9c179e"
             ],
             [
              0.4444444444444444,
              "#bd3786"
             ],
             [
              0.5555555555555556,
              "#d8576b"
             ],
             [
              0.6666666666666666,
              "#ed7953"
             ],
             [
              0.7777777777777778,
              "#fb9f3a"
             ],
             [
              0.8888888888888888,
              "#fdca26"
             ],
             [
              1,
              "#f0f921"
             ]
            ],
            "type": "surface"
           }
          ],
          "table": [
           {
            "cells": {
             "fill": {
              "color": "#EBF0F8"
             },
             "line": {
              "color": "white"
             }
            },
            "header": {
             "fill": {
              "color": "#C8D4E3"
             },
             "line": {
              "color": "white"
             }
            },
            "type": "table"
           }
          ]
         },
         "layout": {
          "annotationdefaults": {
           "arrowcolor": "#2a3f5f",
           "arrowhead": 0,
           "arrowwidth": 1
          },
          "autotypenumbers": "strict",
          "coloraxis": {
           "colorbar": {
            "outlinewidth": 0,
            "ticks": ""
           }
          },
          "colorscale": {
           "diverging": [
            [
             0,
             "#8e0152"
            ],
            [
             0.1,
             "#c51b7d"
            ],
            [
             0.2,
             "#de77ae"
            ],
            [
             0.3,
             "#f1b6da"
            ],
            [
             0.4,
             "#fde0ef"
            ],
            [
             0.5,
             "#f7f7f7"
            ],
            [
             0.6,
             "#e6f5d0"
            ],
            [
             0.7,
             "#b8e186"
            ],
            [
             0.8,
             "#7fbc41"
            ],
            [
             0.9,
             "#4d9221"
            ],
            [
             1,
             "#276419"
            ]
           ],
           "sequential": [
            [
             0,
             "#0d0887"
            ],
            [
             0.1111111111111111,
             "#46039f"
            ],
            [
             0.2222222222222222,
             "#7201a8"
            ],
            [
             0.3333333333333333,
             "#9c179e"
            ],
            [
             0.4444444444444444,
             "#bd3786"
            ],
            [
             0.5555555555555556,
             "#d8576b"
            ],
            [
             0.6666666666666666,
             "#ed7953"
            ],
            [
             0.7777777777777778,
             "#fb9f3a"
            ],
            [
             0.8888888888888888,
             "#fdca26"
            ],
            [
             1,
             "#f0f921"
            ]
           ],
           "sequentialminus": [
            [
             0,
             "#0d0887"
            ],
            [
             0.1111111111111111,
             "#46039f"
            ],
            [
             0.2222222222222222,
             "#7201a8"
            ],
            [
             0.3333333333333333,
             "#9c179e"
            ],
            [
             0.4444444444444444,
             "#bd3786"
            ],
            [
             0.5555555555555556,
             "#d8576b"
            ],
            [
             0.6666666666666666,
             "#ed7953"
            ],
            [
             0.7777777777777778,
             "#fb9f3a"
            ],
            [
             0.8888888888888888,
             "#fdca26"
            ],
            [
             1,
             "#f0f921"
            ]
           ]
          },
          "colorway": [
           "#636efa",
           "#EF553B",
           "#00cc96",
           "#ab63fa",
           "#FFA15A",
           "#19d3f3",
           "#FF6692",
           "#B6E880",
           "#FF97FF",
           "#FECB52"
          ],
          "font": {
           "color": "#2a3f5f"
          },
          "geo": {
           "bgcolor": "white",
           "lakecolor": "white",
           "landcolor": "#E5ECF6",
           "showlakes": true,
           "showland": true,
           "subunitcolor": "white"
          },
          "hoverlabel": {
           "align": "left"
          },
          "hovermode": "closest",
          "mapbox": {
           "style": "light"
          },
          "paper_bgcolor": "white",
          "plot_bgcolor": "#E5ECF6",
          "polar": {
           "angularaxis": {
            "gridcolor": "white",
            "linecolor": "white",
            "ticks": ""
           },
           "bgcolor": "#E5ECF6",
           "radialaxis": {
            "gridcolor": "white",
            "linecolor": "white",
            "ticks": ""
           }
          },
          "scene": {
           "xaxis": {
            "backgroundcolor": "#E5ECF6",
            "gridcolor": "white",
            "gridwidth": 2,
            "linecolor": "white",
            "showbackground": true,
            "ticks": "",
            "zerolinecolor": "white"
           },
           "yaxis": {
            "backgroundcolor": "#E5ECF6",
            "gridcolor": "white",
            "gridwidth": 2,
            "linecolor": "white",
            "showbackground": true,
            "ticks": "",
            "zerolinecolor": "white"
           },
           "zaxis": {
            "backgroundcolor": "#E5ECF6",
            "gridcolor": "white",
            "gridwidth": 2,
            "linecolor": "white",
            "showbackground": true,
            "ticks": "",
            "zerolinecolor": "white"
           }
          },
          "shapedefaults": {
           "line": {
            "color": "#2a3f5f"
           }
          },
          "ternary": {
           "aaxis": {
            "gridcolor": "white",
            "linecolor": "white",
            "ticks": ""
           },
           "baxis": {
            "gridcolor": "white",
            "linecolor": "white",
            "ticks": ""
           },
           "bgcolor": "#E5ECF6",
           "caxis": {
            "gridcolor": "white",
            "linecolor": "white",
            "ticks": ""
           }
          },
          "title": {
           "x": 0.05
          },
          "xaxis": {
           "automargin": true,
           "gridcolor": "white",
           "linecolor": "white",
           "ticks": "",
           "title": {
            "standoff": 15
           },
           "zerolinecolor": "white",
           "zerolinewidth": 2
          },
          "yaxis": {
           "automargin": true,
           "gridcolor": "white",
           "linecolor": "white",
           "ticks": "",
           "title": {
            "standoff": 15
           },
           "zerolinecolor": "white",
           "zerolinewidth": 2
          }
         }
        },
        "title": {
         "text": "Relative % of uncertain speakers within a gender for each profession",
         "x": 0.5
        },
        "xaxis": {
         "title": {
          "text": "Genders"
         }
        },
        "yaxis": {
         "title": {
          "text": "% of uncertain speakers"
         }
        }
       }
      }
     },
     "metadata": {},
     "output_type": "display_data"
    }
   ],
   "source": [
    "trace_pol = go.Bar(x = df_ratio_prof.index, y = df_ratio_prof['politicians'], name = \"Politicians\", \n",
    "                   marker_color = colors[3])\n",
    "trace_art = go.Bar(x = df_ratio_prof.index, y = df_ratio_prof['artists'], name = \"Artists\", \n",
    "                   marker_color = colors[5])\n",
    "trace_sci = go.Bar(x = df_ratio_prof.index, y = df_ratio_prof['scientists'], name = \"Scientists\", \n",
    "                   marker_color = colors[7])\n",
    "trace_eco = go.Bar(x = df_ratio_prof.index, y = df_ratio_prof['economists'], name = \"Economists\", \n",
    "                   marker_color = colors[9])\n",
    "\n",
    "my_layout = {\n",
    "    'title': 'Relative % of uncertain speakers within a gender for each profession',\n",
    "    'xaxis': {'title': 'Genders'},\n",
    "    'yaxis': {'title': '% of uncertain speakers'},\n",
    "    }\n",
    "\n",
    "fig = go.Figure()\n",
    "fig.add_trace(trace_pol)\n",
    "fig.add_trace(trace_art)\n",
    "fig.add_trace(trace_sci)\n",
    "fig.add_trace(trace_eco)\n",
    "fig.update_layout(my_layout, title_x=0.5)\n",
    "\n",
    "fig.show()"
   ]
  },
  {
   "cell_type": "markdown",
   "metadata": {},
   "source": [
    "The plot is then saved."
   ]
  },
  {
   "cell_type": "code",
   "execution_count": 17,
   "metadata": {},
   "outputs": [],
   "source": [
    "html_path = IMAGE_PATH + \"percentage_uncertain_plot_across_prof.html\"\n",
    "fig.write_html(html_path)"
   ]
  },
  {
   "cell_type": "markdown",
   "metadata": {
    "tags": []
   },
   "source": [
    "### 4.3 Background influence <a class = anchor id=\"4.3\"></a>"
   ]
  },
  {
   "cell_type": "markdown",
   "metadata": {},
   "source": [
    "Let's have a look at our second question which investigates the roles culture/traditions, education and place of living play in determining those differences in speech between men and women."
   ]
  },
  {
   "cell_type": "markdown",
   "metadata": {},
   "source": [
    "First, we create the dictionnary of uncertain quotes per year."
   ]
  },
  {
   "cell_type": "code",
   "execution_count": 13,
   "metadata": {},
   "outputs": [],
   "source": [
    "df_uncertain_no_conditions_per_year = {}\n",
    "\n",
    "for i in range(15,21): # A CHANGER EN (15, 21)\n",
    "    df_uncertain_no_conditions_per_year['20' + str(i)] = create_df_from_txt(PATH_TXT + \\\n",
    "                                                                \"uncertainty_df_no_conditions_20\" + str(i) + \".txt\",\n",
    "                                                                df_no_conditions_per_year['20' + str(i)])"
   ]
  },
  {
   "cell_type": "markdown",
   "metadata": {},
   "source": [
    "We also create a data frame containing all uncertain quotes."
   ]
  },
  {
   "cell_type": "code",
   "execution_count": 14,
   "metadata": {},
   "outputs": [],
   "source": [
    "df_uncertain_no_conditions_all_years = df_uncertain_no_conditions_per_year['2015']\n",
    "\n",
    "for i in range(16,21):\n",
    "    df_uncertain_no_conditions_all_years = pd.concat([df_uncertain_no_conditions_all_years,\n",
    "         df_uncertain_no_conditions_per_year['20' + str(i)]])"
   ]
  },
  {
   "cell_type": "markdown",
   "metadata": {},
   "source": [
    "We do the same thing for the certain quotes."
   ]
  },
  {
   "cell_type": "code",
   "execution_count": 15,
   "metadata": {},
   "outputs": [],
   "source": [
    "df_certain_no_conditions_per_year = {}\n",
    "\n",
    "for i in range(15,21):\n",
    "    df_certain_no_conditions_per_year['20' + str(i)] = df_no_conditions_per_year['20' + str(i)] \\\n",
    "    [~df_no_conditions_per_year['20'+ str(i)].quoteID \\\n",
    "                                             .isin(df_uncertain_no_conditions_per_year['20'+ str(i)].quoteID)].copy()"
   ]
  },
  {
   "cell_type": "code",
   "execution_count": 16,
   "metadata": {},
   "outputs": [],
   "source": [
    "df_certain_no_conditions_all_years = df_certain_no_conditions_per_year['2015']\n",
    "\n",
    "for i in range(16,21):\n",
    "    df_certain_no_conditions_all_years = pd.concat([df_certain_no_conditions_all_years,\n",
    "         df_certain_no_conditions_per_year['20' + str(i)]])"
   ]
  },
  {
   "cell_type": "markdown",
   "metadata": {},
   "source": [
    "Let's first have a look at our features and which could relate to culture, education or country."
   ]
  },
  {
   "cell_type": "code",
   "execution_count": 17,
   "metadata": {},
   "outputs": [
    {
     "data": {
      "text/plain": [
       "Index(['quoteID', 'quotation', 'speaker', 'qids', 'date', 'numOccurrences',\n",
       "       'probas', 'urls', 'phase', 'aliases', 'date_of_birth', 'nationality',\n",
       "       'gender', 'lastrevid', 'ethnic_group', 'US_congress_bio_ID',\n",
       "       'occupation', 'party', 'academic_degree', 'id', 'label', 'candidacy',\n",
       "       'type', 'religion', 'language'],\n",
       "      dtype='object')"
      ]
     },
     "execution_count": 17,
     "metadata": {},
     "output_type": "execute_result"
    }
   ],
   "source": [
    "df_uncertain_no_conditions_all_years.columns"
   ]
  },
  {
   "cell_type": "markdown",
   "metadata": {},
   "source": [
    "We see that `nationality` and `religion` could give cultural, traditional and surrounding environmental background information on the speaker, while `academic_degree` gives information on the educational aspect of the quote's author."
   ]
  },
  {
   "cell_type": "markdown",
   "metadata": {},
   "source": [
    "#### Nationality"
   ]
  },
  {
   "cell_type": "markdown",
   "metadata": {},
   "source": [
    "We will first take a look to the `nationality` feature. To do so, we compute the difference of the percentages of uncertain females and uncertain males, by country."
   ]
  },
  {
   "cell_type": "code",
   "execution_count": 18,
   "metadata": {},
   "outputs": [],
   "source": [
    "influence = 'nationality'"
   ]
  },
  {
   "cell_type": "code",
   "execution_count": 20,
   "metadata": {},
   "outputs": [
    {
     "data": {
      "text/html": [
       "        <script type=\"text/javascript\">\n",
       "        window.PlotlyConfig = {MathJaxConfig: 'local'};\n",
       "        if (window.MathJax) {MathJax.Hub.Config({SVG: {font: \"STIX-Web\"}});}\n",
       "        if (typeof require !== 'undefined') {\n",
       "        require.undef(\"plotly\");\n",
       "        requirejs.config({\n",
       "            paths: {\n",
       "                'plotly': ['https://cdn.plot.ly/plotly-2.6.3.min']\n",
       "            }\n",
       "        });\n",
       "        require(['plotly'], function(Plotly) {\n",
       "            window._Plotly = Plotly;\n",
       "        });\n",
       "        }\n",
       "        </script>\n",
       "        "
      ]
     },
     "metadata": {},
     "output_type": "display_data"
    },
    {
     "data": {
      "application/vnd.plotly.v1+json": {
       "config": {
        "linkText": "Export to plot.ly",
        "plotlyServerURL": "https://plot.ly",
        "showLink": false
       },
       "data": [
        {
         "colorscale": [
          [
           0,
           "#000000"
          ],
          [
           0.2,
           "#FF3637"
          ],
          [
           0.4,
           "#FF6D6E"
          ],
          [
           0.6,
           "#FEA3A5"
          ],
          [
           0.8,
           "#FEDADC"
          ],
          [
           1,
           "#FEF5F7"
          ]
         ],
         "locationmode": "country names",
         "locations": [
          "Afghanistan",
          "Africa",
          "Albania",
          "Algeria",
          "Algerian Arabic",
          "American Samoa",
          "Americans",
          "Andorra",
          "Angola",
          "Antigua and Barbuda",
          "Argentina",
          "Armenia",
          "Armenian Soviet Socialist Republic",
          "Australasia at the Olympics",
          "Australia",
          "Australians",
          "Austria",
          "Austria-Hungary",
          "Austrians",
          "Azerbaijan",
          "Ba'athist Iraq",
          "Bahrain",
          "Bangladesh",
          "Barbados",
          "Belarus",
          "Belgium",
          "Belize",
          "Benin",
          "Bermuda",
          "Bhutan",
          "Bolivia",
          "Bosnia and Herzegovina",
          "Botswana",
          "Brazil",
          "Brazilians",
          "British Hong Kong",
          "British India",
          "British National (Overseas)",
          "British Virgin Islands",
          "Brunei",
          "Bulgaria",
          "Burkina Faso",
          "Burundi",
          "Cambodia",
          "Cameroon",
          "Canada",
          "Canada–United States border",
          "Canadia",
          "Canadian French",
          "Canadians",
          "Cape Verde",
          "Cayman Islands",
          "Central African Republic",
          "Chad",
          "Cherokee",
          "Chile",
          "China",
          "Colombia",
          "Colonial Nigeria",
          "Colony and Protectorate of Nigeria",
          "Cook Islands",
          "Costa Rica",
          "Croatia",
          "Cuba",
          "Cyprus",
          "Czech Republic",
          "Czechoslovak Republic",
          "Czechoslovakia",
          "Democratic Republic of the Congo",
          "Denmark",
          "Djibouti",
          "Dominica",
          "Dominican Republic",
          "East Germany",
          "East Timor",
          "Eastern Han",
          "Ecuador",
          "Egypt",
          "El Salvador",
          "Empire of Japan",
          "England",
          "English Wikipedia",
          "English people",
          "Equatorial Guinea",
          "Eritrea",
          "Estonia",
          "Eswatini",
          "Ethiopia",
          "Faroe Islands",
          "Federal People's Republic of Yugoslavia",
          "Federal Republic of Yugoslavia",
          "Federated States of Micronesia",
          "Federation of Rhodesia and Nyasaland",
          "Fiji",
          "Finland",
          "First Czechoslovak Republic",
          "Flor",
          "France",
          "Gabon",
          "Georgia",
          "Germany",
          "Ghana",
          "Gibraltar",
          "Great Britain",
          "Greece",
          "Greenland",
          "Grenada",
          "Guam",
          "Guatemala",
          "Guernsey",
          "Guinea",
          "Guinea-Bissau",
          "Guyana",
          "Haiti",
          "Han dynasty",
          "Honduras",
          "Hong Kong",
          "Hungary",
          "Iceland",
          "Imperial State of Iran",
          "India",
          "Indians",
          "Indonesia",
          "Iran",
          "Iraq",
          "Iraqi Republic (1958–68)",
          "Ireland",
          "Irish Free State",
          "Irish Republic",
          "Irish people",
          "Isle of Man",
          "Israel",
          "Italian",
          "Italy",
          "Ivory Coast",
          "Jamaica",
          "Japan",
          "Japanese",
          "Jordan",
          "Jozef Israëls",
          "Kazakhstan",
          "Kenya",
          "Kingdom of Afghanistan",
          "Kingdom of Egypt",
          "Kingdom of England",
          "Kingdom of Iraq",
          "Kingdom of Italy",
          "Kingdom of Romania",
          "Kingdom of Scotland",
          "Kingdom of Yugoslavia",
          "Kingdom of the Netherlands",
          "Kiribati",
          "Kosovo",
          "Kurdistan",
          "Kuwait",
          "Kyrgyzstan",
          "Laos",
          "Latvia",
          "Lebanon",
          "Lesotho",
          "Liberia",
          "Liberland",
          "Libya",
          "Liechtenstein",
          "Lithuania",
          "Luxembourg",
          "Macau",
          "Madagascar",
          "Makhmalbaf",
          "Malawi",
          "Malaysia",
          "Malaysians",
          "Maldives",
          "Mali",
          "Malta",
          "Mandatory Palestine",
          "Marshall Islands",
          "Mauritania",
          "Mauritius",
          "Mexicali",
          "Mexico",
          "Mexico City",
          "Ming dynasty",
          "Moldova",
          "Monaco",
          "Mongolia",
          "Montenegro",
          "Morocco",
          "Mozambique",
          "Myanmar",
          "Namibia",
          "Nauru",
          "Nelson",
          "Nepal",
          "New Zealand",
          "Nicaragua",
          "Niger",
          "Nigeria",
          "Niue",
          "North Korea",
          "North Macedonia",
          "Northern Ireland",
          "Northern Mariana Islands",
          "Norway",
          "Oman",
          "Pakistan",
          "Pakistanis",
          "Palau",
          "Palestine",
          "Palestinian National Authority",
          "Panama",
          "Papua New Guinea",
          "Paraguay",
          "Patiala State",
          "People's Republic of Bulgaria",
          "People's Republic of China",
          "Persian",
          "Peru",
          "Peruana",
          "Philippines",
          "Pitcairn Islands",
          "Poland",
          "Poles",
          "Polish People's Republic",
          "Portugal",
          "Puerto Rico",
          "Qatar",
          "Qin (state)",
          "Qin dynasty",
          "Qing dynasty",
          "Republic of China (1912–1949)",
          "Republic of Egypt (1953–1958)",
          "Republic of the Congo",
          "Rhodesia",
          "Romania",
          "Russia",
          "Russian Empire",
          "Russian Socialist Federative Soviet Republic (1918-1923)",
          "Rwanda",
          "Sahrawi Arab Democratic Republic",
          "Saint Kitts and Nevis",
          "Saint Lucia",
          "Saint Vincent and the Grenadines",
          "Samoa",
          "San Marino",
          "Saudi Arabia",
          "Scotland",
          "Second Polish Republic",
          "Second Syrian Republic",
          "Senegal",
          "Serbia",
          "Serbia and Montenegro",
          "Serbs",
          "Seychelles",
          "Sierra Leone",
          "Singapore",
          "Slovakia",
          "Slovenia",
          "Socialist Federal Republic of Yugoslavia",
          "Solomon Islands",
          "Somalia",
          "Song dynasty",
          "South Africa",
          "South Korea",
          "South Sudan",
          "Southern Rhodesia",
          "Soviet Union",
          "Spain",
          "Sri Lanka",
          "State of Mexico",
          "State of Palestine",
          "Sudan",
          "Suriname",
          "Sweden",
          "Switzerland",
          "Syria",
          "Syrian",
          "São Tomé and Príncipe",
          "Taiwan",
          "Taiwan under Japanese rule",
          "Tajikistan",
          "Tang Empire",
          "Tanzania",
          "Thailand",
          "The Bahamas",
          "The Gambia",
          "The Netherlands",
          "Tibet",
          "Togo",
          "Tonga",
          "Trinidad and Tobago",
          "Tunisia",
          "Turkey",
          "Turkish Republic of Northern Cyprus",
          "Tuvalu",
          "Uganda",
          "Ukraine",
          "Ukrainian Soviet Socialist Republic",
          "Ukrainians",
          "Union of South Africa",
          "United Arab Emirates",
          "United Arab Republic",
          "United Kingdom",
          "United Kingdom of Great Britain and Ireland",
          "United States Virgin Islands",
          "United States of America",
          "Uruguay",
          "Uzbekistan",
          "Vanuatu",
          "Venezuela",
          "Vietnam",
          "Virgin Islands",
          "Wales",
          "Weimar Republic",
          "Welsh people",
          "West Germany",
          "Western Jin dynasty",
          "Western Sahara",
          "Yemen",
          "Yemen Arab Republic",
          "Yuan Empire",
          "Yugoslavia",
          "Zaire",
          "Zambia",
          "Zimbabwe",
          "ancient Rome",
          "فلسطين."
         ],
         "type": "choropleth",
         "z": [
          -0.0502152080344333,
          null,
          0.07471264367816088,
          0.12677165354330708,
          null,
          null,
          null,
          -0.19999999999999996,
          0.06432748538011696,
          0.18095238095238092,
          0.03949925261584453,
          -0.14583333333333334,
          null,
          null,
          -0.007305245210906974,
          0.10130718954248369,
          -0.030691828604559823,
          null,
          null,
          null,
          null,
          0.11153846153846159,
          0.08542471042471045,
          -0.03815028901734108,
          -0.08049535603715169,
          0.05661953344072551,
          -0.2908704883227176,
          null,
          0.10000000000000003,
          null,
          0.02277039848197343,
          0.1627329192546584,
          0.2577777777777778,
          0.017894769701415625,
          null,
          0.13611111111111113,
          0.05334374186833202,
          null,
          null,
          null,
          -0.08464342674868991,
          0.2222222222222222,
          0.08717948717948715,
          0.023809523809523808,
          -0.04411764705882354,
          0.004002584094313699,
          null,
          null,
          null,
          0.07267441860465118,
          null,
          null,
          0.05194805194805194,
          null,
          null,
          -0.045291800930898685,
          0.2901785714285714,
          -0.08189950350967304,
          null,
          null,
          null,
          0.03985813207228506,
          0.11028037383177575,
          0.04472415173830538,
          0.07981220657276994,
          0.09731670445956159,
          null,
          0.017595307917888603,
          null,
          -0.002749146041828965,
          null,
          null,
          0.014766839378238361,
          -0.13517665130568357,
          null,
          null,
          -0.124765478424015,
          -0.02723453570911194,
          0.21666666666666667,
          null,
          -0.08415874941041707,
          null,
          null,
          null,
          0.16666666666666669,
          0.12931726907630525,
          null,
          0.09669046073977935,
          -0.2394957983193277,
          null,
          null,
          null,
          null,
          -0.030882352941176472,
          0.07550784034212399,
          null,
          null,
          -0.008579344404185063,
          null,
          -0.08333333333333331,
          0.004106038668597156,
          -0.01041805691854758,
          null,
          -0.18566308243727597,
          0.10880972107152717,
          null,
          -0.02525252525252525,
          0.2,
          0.005970149253731349,
          null,
          null,
          null,
          -0.01861042183622824,
          -0.07773109243697479,
          null,
          -0.04719101123595504,
          -0.06720959761810938,
          -0.05108811040339703,
          0.07517182130584193,
          null,
          0.019503891827960418,
          -0.0625,
          -0.00310600052868093,
          -0.014660462877542024,
          -0.011494252873563232,
          null,
          0.014340025258953726,
          null,
          null,
          null,
          null,
          0.04150142677515378,
          null,
          0.00006868131868131844,
          -0.056410256410256376,
          -0.013187774094678972,
          -0.030381944444444475,
          null,
          -0.05818181818181817,
          null,
          0.14423076923076922,
          -0.022164268286610556,
          null,
          null,
          0.10430107526881721,
          null,
          null,
          null,
          null,
          null,
          -0.03191647192342689,
          null,
          null,
          null,
          0.09420289855072461,
          null,
          null,
          -0.04565217391304349,
          -0.08938263229308008,
          null,
          0.17767857142857144,
          null,
          null,
          null,
          -0.17221135029354206,
          -0.010194174757281571,
          null,
          null,
          null,
          0.13941480206540446,
          0.005719815346282964,
          null,
          -0.014150943396226412,
          0.15051020408163265,
          0.0066208301502418965,
          null,
          null,
          null,
          null,
          null,
          0.013527191321639931,
          null,
          null,
          0.0222222222222222,
          null,
          null,
          null,
          0.018846153846153846,
          0.125,
          0.06339899937460913,
          -0.1853448275862069,
          null,
          null,
          0.0060383613544873205,
          0.013072450122993462,
          0.22916666666666663,
          null,
          0.0839923605418883,
          null,
          null,
          0.49666666666666665,
          -0.007375776397515521,
          null,
          0.017282035370772553,
          null,
          -0.01931601912057651,
          null,
          null,
          null,
          null,
          0.07050645481628598,
          null,
          null,
          null,
          null,
          0.027306967984934094,
          null,
          -0.044186046511627886,
          null,
          0.0679941288273071,
          null,
          0.046277402325102523,
          null,
          null,
          -0.048726665473847436,
          0.043650793650793634,
          null,
          null,
          null,
          null,
          null,
          null,
          null,
          null,
          0.004804138950480374,
          0.08230341053823292,
          null,
          null,
          -0.2365097588978186,
          null,
          null,
          -0.23598435462842243,
          null,
          null,
          null,
          0.0898450946643718,
          -0.01372793816729434,
          null,
          null,
          null,
          0.4298245614035088,
          -0.021739130434782594,
          null,
          0.3205128205128205,
          0.06934032983508245,
          0.014522737414303655,
          null,
          0.11969696969696972,
          null,
          null,
          0.1453839516824849,
          null,
          0.015536353782253265,
          -0.029798761609907132,
          null,
          null,
          -0.04523054880166727,
          -0.008377923107411811,
          0.06666666666666671,
          null,
          -0.09530346112363958,
          null,
          null,
          -0.0036574240686960136,
          -0.01187918227024376,
          0.11701546860782527,
          null,
          null,
          -0.004776021080368897,
          null,
          null,
          null,
          0.10617059891107078,
          0.13970588235294118,
          -0.13522012578616352,
          0.0067542213883677316,
          null,
          null,
          null,
          null,
          -0.0891829689298044,
          0.14678362573099416,
          -0.09595771144278606,
          null,
          null,
          0.07804459691252147,
          -0.045157456922162775,
          null,
          null,
          null,
          0.06715806715806716,
          null,
          0.0015589442985489144,
          0.1504815409309791,
          null,
          -0.001941197872777467,
          0.06100628930817609,
          -0.27777777777777785,
          null,
          0.02710792721891503,
          -0.0625,
          null,
          -0.024386972751860914,
          null,
          null,
          null,
          null,
          null,
          null,
          null,
          null,
          null,
          null,
          0.09895833333333331,
          0.022197819436818533,
          null,
          null
         ]
        },
        {
         "colorscale": [
          [
           0,
           "#000000"
          ],
          [
           0.2,
           "#FF3637"
          ],
          [
           0.4,
           "#FF6D6E"
          ],
          [
           0.6,
           "#FEA3A5"
          ],
          [
           0.8,
           "#FEDADC"
          ],
          [
           1,
           "#FEF5F7"
          ]
         ],
         "locationmode": "country names",
         "locations": [
          "Afghanistan",
          "Albania",
          "Algeria",
          "Algerian Arabic",
          "American Samoa",
          "Americans",
          "Andorra",
          "Angola",
          "Antigua and Barbuda",
          "Argentina",
          "Armenia",
          "Australasia at the Olympics",
          "Australia",
          "Australians",
          "Austria",
          "Azerbaijan",
          "Bahrain",
          "Bangladesh",
          "Bangladeshis",
          "Barbados",
          "Belarus",
          "Belgium",
          "Belize",
          "Benin",
          "Bermuda",
          "Bhutan",
          "Bolivia",
          "Bosnia and Herzegovina",
          "Botswana",
          "Brazil",
          "British Hong Kong",
          "British India",
          "British National (Overseas)",
          "British Virgin Islands",
          "Brunei",
          "Bulgaria",
          "Burkina Faso",
          "Burundi",
          "Cambodia",
          "Cameroon",
          "Canada",
          "Canada–United States border",
          "Canadia",
          "Canadian French",
          "Canadians",
          "Cape Verde",
          "Cayman Islands",
          "Chad",
          "Cherokee",
          "Chile",
          "China",
          "Colombia",
          "Colonial Nigeria",
          "Colony and Protectorate of Nigeria",
          "Comoros",
          "Cook Islands",
          "Costa Rica",
          "Croatia",
          "Cuba",
          "Cyprus",
          "Czech Republic",
          "Czechoslovak Republic",
          "Czechoslovak Socialist Republic",
          "Czechoslovakia",
          "Democratic Republic of the Congo",
          "Denmark",
          "Djibouti",
          "Dominica",
          "Dominican Republic",
          "East Germany",
          "East Timor",
          "Eastern Wu",
          "Ecuador",
          "Egypt",
          "El Salvador",
          "England",
          "English",
          "English people",
          "Equatorial Guinea",
          "Eritrea",
          "Estonia",
          "Eswatini",
          "Ethiopia",
          "Faroe Islands",
          "Federal People's Republic of Yugoslavia",
          "Federal Republic of Yugoslavia",
          "Federated States of Micronesia",
          "Federation of Rhodesia and Nyasaland",
          "Fiji",
          "Finland",
          "First Czechoslovak Republic",
          "First Republic of Austria",
          "Flor",
          "France",
          "Gabon",
          "Georgia",
          "German Empire",
          "German Reich",
          "Germany",
          "Ghana",
          "Gibraltar",
          "Glaspy",
          "Great Britain",
          "Greece",
          "Greenland",
          "Grenada",
          "Guam",
          "Guatemala",
          "Guernsey",
          "Guinea",
          "Guinea-Bissau",
          "Guyana",
          "Haiti",
          "Han dynasty",
          "Honduras",
          "Hong Kong",
          "Hungary",
          "Iceland",
          "Imperial State of Iran",
          "India",
          "Indians",
          "Indonesia",
          "Iran",
          "Iraq",
          "Ireland",
          "Irish Free State",
          "Irish Republic",
          "Isle of Man",
          "Israel",
          "Italy",
          "Ivory Coast",
          "Jamaica",
          "Japan",
          "Japanese",
          "Jordan",
          "Jozef Israëls",
          "Kazakhstan",
          "Kenya",
          "Kingdom of Afghanistan",
          "Kingdom of Egypt",
          "Kingdom of England",
          "Kingdom of Hungary",
          "Kingdom of Italy",
          "Kingdom of Libya",
          "Kingdom of Scotland",
          "Kingdom of the Netherlands",
          "Kiribati",
          "Kosovo",
          "Kurdistan",
          "Kuwait",
          "Kyrgyzstan",
          "Laos",
          "Later Tang Dynasty",
          "Latin Americans",
          "Latvia",
          "Lebanon",
          "Lesotho",
          "Liberia",
          "Libya",
          "Liechtenstein",
          "Lithuania",
          "Luxembourg",
          "Macau",
          "Madagascar",
          "Malawi",
          "Malaysia",
          "Maldives",
          "Mali",
          "Malta",
          "Mandatory Palestine",
          "Marshall Islands",
          "Mauritania",
          "Mauritius",
          "Mexico",
          "Mexico City",
          "Min",
          "Ming dynasty",
          "Moldova",
          "Monaco",
          "Mongolia",
          "Montserrat",
          "Morocco",
          "Mozambique",
          "Myanmar",
          "Namibia",
          "Nauru",
          "Nepal",
          "Nepali",
          "Netherlands",
          "New Zealand",
          "New Zealanders",
          "Nicaragua",
          "Niger",
          "Nigeria",
          "Norfolk Island",
          "North Korea",
          "North Macedonia",
          "Northern Ireland",
          "Northern Mariana Islands",
          "Norway",
          "Oman",
          "Pakistan",
          "Pakistanis",
          "Palau",
          "Palestine",
          "Panama",
          "Papua New Guinea",
          "Paraguay",
          "Patiala State",
          "People's Republic of Bulgaria",
          "People's Republic of China",
          "Persian",
          "Peru",
          "Peruvian",
          "Philippines",
          "Poland",
          "Poles",
          "Polish People's Republic",
          "Port Colborne",
          "Portugal",
          "Puerto Rico",
          "Qatar",
          "Qin (state)",
          "Qing dynasty",
          "Republic of China (1912–1949)",
          "Republic of Venice",
          "Rhodesia",
          "Romania",
          "Russia",
          "Russian Empire",
          "Russian Socialist Federative Soviet Republic (1918-1923)",
          "Rwanda",
          "Sahrawi Arab Democratic Republic",
          "Saint Kitts and Nevis",
          "Saint Lucia",
          "Saint Vincent and the Grenadines",
          "Samoa",
          "San Marino",
          "Saudi Arabia",
          "Scotland",
          "Second Syrian Republic",
          "Senegal",
          "Serbia",
          "Serbia and Montenegro",
          "Seychelles",
          "Sierra Leone",
          "Singapore",
          "Siria",
          "Slovakia",
          "Slovenia",
          "Socialist Federal Republic of Yugoslavia",
          "Solomon Islands",
          "Somalia",
          "Song dynasty",
          "South Africa",
          "South Korea",
          "South Sudan",
          "Southern Rhodesia",
          "Southern Tang",
          "Soviet Union",
          "Spain",
          "Sri Lanka",
          "State of Mexico",
          "State of Palestine",
          "Sudan",
          "Sui dynasty",
          "Suriname",
          "Sweden",
          "Switzerland",
          "Syria",
          "Syrian",
          "São Tomé and Príncipe",
          "Taiwan",
          "Taiwan under Japanese rule",
          "Tajikistan",
          "Tang Empire",
          "Tanzania",
          "Temuco",
          "Thailand",
          "The Bahamas",
          "The Gambia",
          "The Netherlands",
          "Tibet",
          "Togo",
          "Tonga",
          "Trinidad and Tobago",
          "Tunisia",
          "Turkey",
          "Turkish Republic of Northern Cyprus",
          "Turkmenistan",
          "Tuvalu",
          "Uganda",
          "Ukraine",
          "Ukrainian Soviet Socialist Republic",
          "Union of South Africa",
          "United Arab Emirates",
          "United Kingdom",
          "United Kingdom of Great Britain and Ireland",
          "United States Virgin Islands",
          "United States of America",
          "Uruguay",
          "Uzbekistan",
          "Vanuatu",
          "Vatican City",
          "Venezuela",
          "Vietnam",
          "Virgin Islands",
          "Wales",
          "Weimar Republic",
          "West Germany",
          "Western Han",
          "Yemen",
          "Yuan Empire",
          "Yugoslavia",
          "Yuta",
          "Zambia",
          "Zimbabwe",
          "ancient Rome",
          "الجمهورية العربية السورية",
          "فلسطين."
         ],
         "type": "choropleth",
         "z": [
          0.0016064257028112205,
          null,
          -0.0896057347670251,
          null,
          null,
          null,
          null,
          -0.027272727272727282,
          null,
          -0.005974804553003588,
          null,
          null,
          -0.0031653365905595643,
          0.12745098039215688,
          -0.057169117647058815,
          null,
          -0.1076555023923445,
          0.0048902821316614276,
          null,
          -0.1669254658385093,
          0.14411764705882354,
          -0.03038853546754222,
          -0.20394736842105265,
          null,
          null,
          null,
          -0.12030075187969924,
          null,
          0.36111111111111116,
          -0.018774390243902428,
          0.10047846889952156,
          0.11337790730898906,
          null,
          null,
          null,
          0.08039215686274512,
          null,
          0.20833333333333331,
          null,
          null,
          0.006188451555840246,
          null,
          null,
          null,
          null,
          -0.06666666666666671,
          null,
          null,
          null,
          -0.016301703163017045,
          -0.060185185185185175,
          -0.04433323520753607,
          null,
          null,
          null,
          null,
          0.1097859327217125,
          0.10256410256410253,
          -0.06058339566192969,
          -0.07017543859649122,
          0.11853832442067738,
          null,
          null,
          0.14987244897959184,
          null,
          0.017909197425694412,
          null,
          -0.006342494714587754,
          0.05732177263969171,
          -0.027956989247311825,
          null,
          null,
          null,
          -0.04454804454804456,
          null,
          -0.07251786625829507,
          null,
          null,
          null,
          null,
          -0.12424242424242427,
          null,
          0.05990133897110639,
          0.047619047619047616,
          null,
          null,
          null,
          null,
          0.36666666666666664,
          0.09670710571923746,
          null,
          null,
          null,
          -0.004854690270353401,
          null,
          null,
          null,
          null,
          0.0028837330050972554,
          0.048646106295773706,
          null,
          null,
          -0.016666666666666663,
          0.0007341544987356508,
          null,
          0.21250000000000002,
          null,
          -0.10038610038610041,
          null,
          null,
          null,
          -0.19713261648745523,
          0.13556338028169015,
          null,
          0.1421188630490956,
          -0.09551908537709755,
          0.1659431728492502,
          0.09282700421940926,
          null,
          0.0035245715379187414,
          null,
          0.04127856062415414,
          0.03912893190459732,
          0.456043956043956,
          0.007697888384465723,
          null,
          null,
          null,
          0.027754853841810312,
          -0.0019959179288860374,
          null,
          -0.02119703282186769,
          -0.05117851500789891,
          null,
          0.06959706959706963,
          null,
          0.019230769230769218,
          -0.024167806657546753,
          null,
          null,
          null,
          null,
          null,
          null,
          null,
          0.032743362831858414,
          null,
          null,
          null,
          0.01470588235294118,
          null,
          null,
          null,
          null,
          0.010526315789473661,
          -0.016183035714285726,
          null,
          0.003105590062111807,
          null,
          null,
          0.1097560975609756,
          -0.07138694638694637,
          null,
          null,
          -0.17237862097103226,
          0.0027188286820557517,
          null,
          null,
          -0.00721500721500723,
          null,
          null,
          null,
          0.08333333333333334,
          -0.04732624727062995,
          null,
          null,
          null,
          null,
          null,
          null,
          null,
          0.2,
          null,
          -0.036747273589378876,
          0.16666666666666669,
          null,
          0.03243540406816936,
          null,
          null,
          0.00007609369710509517,
          null,
          0.2181818181818182,
          null,
          -0.028829993535875897,
          null,
          null,
          null,
          -0.07406909530850919,
          null,
          0.0278301639687778,
          null,
          0.017282445075360586,
          null,
          null,
          null,
          -0.15057113187954307,
          null,
          0.0761904761904762,
          null,
          null,
          0.01843852473440108,
          null,
          -0.21742424242424246,
          null,
          0.03925096583055526,
          -0.10232843137254904,
          null,
          null,
          null,
          0.07738095238095238,
          -0.07472096787935589,
          null,
          null,
          null,
          null,
          null,
          null,
          -0.09210526315789475,
          0.029656862745098045,
          null,
          null,
          0.17567567567567566,
          null,
          null,
          -0.03030303030303033,
          null,
          null,
          null,
          0.26164874551971323,
          0.07041804063397511,
          null,
          0.14428312159709616,
          0.2035714285714286,
          null,
          0.07352941176470587,
          0.1540616246498599,
          -0.01983273596176821,
          null,
          null,
          -0.1075268817204301,
          null,
          null,
          0.06746031746031744,
          null,
          0.01700715205694997,
          0.07182141701714656,
          null,
          null,
          null,
          -0.048188679658658945,
          -0.05017231736626507,
          0.2630958102145135,
          null,
          0.06524122807017543,
          null,
          null,
          0.06060606060606061,
          -0.01008285913946294,
          0.019802088101309956,
          0.09893575088687423,
          null,
          null,
          -0.05488728503965068,
          null,
          null,
          null,
          -0.09936362621413419,
          null,
          -0.0688601645123384,
          -0.10531135531135533,
          0.07823129251700678,
          null,
          null,
          null,
          null,
          -0.1323024054982818,
          0.12145748987854255,
          -0.0061108686163247605,
          null,
          null,
          null,
          -0.016442048517520236,
          0.0032092426187419476,
          null,
          null,
          -0.05802469135802468,
          0.0015806553569969184,
          0.03384367445608383,
          null,
          -0.00862696839691568,
          0.03494143339289263,
          null,
          null,
          null,
          -0.017436791630340037,
          0.05747126436781608,
          null,
          -0.06653620352250489,
          null,
          null,
          null,
          null,
          null,
          null,
          null,
          0.12,
          0.05092684475846465,
          null,
          null,
          null
         ]
        },
        {
         "colorscale": [
          [
           0,
           "#000000"
          ],
          [
           0.2,
           "#FF3637"
          ],
          [
           0.4,
           "#FF6D6E"
          ],
          [
           0.6,
           "#FEA3A5"
          ],
          [
           0.8,
           "#FEDADC"
          ],
          [
           1,
           "#FEF5F7"
          ]
         ],
         "locationmode": "country names",
         "locations": [
          "Afghanistan",
          "Africa",
          "Albania",
          "Algeria",
          "Algerian Arabic",
          "American Samoa",
          "Americans",
          "Ancient Egypt",
          "Andorra",
          "Angola",
          "Antigua and Barbuda",
          "Argentina",
          "Armenia",
          "Armenian Soviet Socialist Republic",
          "Australasia at the Olympics",
          "Australia",
          "Australians",
          "Austria",
          "Austrians",
          "Azerbaijan",
          "Bahrain",
          "Bangladesh",
          "Bangladeshis",
          "Barbados",
          "Belarus",
          "Belgium",
          "Belize",
          "Benin",
          "Bermuda",
          "Bhutan",
          "Bolivia",
          "Bosnia and Herzegovina",
          "Bosnians",
          "Botswana",
          "Brazil",
          "Brazilians",
          "British Hong Kong",
          "British India",
          "British National (Overseas)",
          "British Virgin Islands",
          "Britons",
          "Brunei",
          "Bulgaria",
          "Burkina Faso",
          "Burundi",
          "Cambodia",
          "Cameroon",
          "Canada",
          "Canadia",
          "Canadian French",
          "Canadians",
          "Cape Verde",
          "Cayman Islands",
          "Central African Republic",
          "Chad",
          "Cherokee",
          "Chile",
          "China",
          "Colombia",
          "Colonial Nigeria",
          "Colony and Protectorate of Nigeria",
          "Comoros",
          "Cook Islands",
          "Costa Rica",
          "Croatia",
          "Cuba",
          "Cyprus",
          "Czech Republic",
          "Czechoslovak Republic",
          "Czechoslovak Socialist Republic",
          "Czechoslovakia",
          "Democratic Republic of the Congo",
          "Denmark",
          "Djibouti",
          "Dominica",
          "Dominican Republic",
          "East Germany",
          "East Timor",
          "Eastern Han",
          "Eastern Wu",
          "Ecuador",
          "Egypt",
          "El Salvador",
          "Empire of Japan",
          "England",
          "English",
          "English Wikipedia",
          "English people",
          "Equatorial Guinea",
          "Eritrea",
          "Estonia",
          "Eswatini",
          "Ethiopia",
          "Faroe Islands",
          "Federal People's Republic of Yugoslavia",
          "Federal Republic of Yugoslavia",
          "Federated States of Micronesia",
          "Federation of Rhodesia and Nyasaland",
          "Fiji",
          "Finland",
          "First Czechoslovak Republic",
          "Flor",
          "France",
          "Free City of Danzig",
          "French",
          "Gabon",
          "Georgia",
          "German Empire",
          "Germany",
          "Ghana",
          "Gibraltar",
          "Glaspy",
          "Great Britain",
          "Greece",
          "Greenland",
          "Grenada",
          "Guam",
          "Guatemala",
          "Guinea",
          "Guinea-Bissau",
          "Guyana",
          "Haiti",
          "Honduras",
          "Hong Kong",
          "Hongkongers",
          "Hungary",
          "Iceland",
          "Imperial State of Iran",
          "India",
          "Indians",
          "Indonesia",
          "Iran",
          "Iraq",
          "Iraqi Republic (1958–68)",
          "Ireland",
          "Irish Free State",
          "Irish Republic",
          "Irish people",
          "Isle of Man",
          "Israel",
          "Italy",
          "Ivory Coast",
          "Jamaica",
          "Japan",
          "Jordan",
          "Joseon",
          "Jozef Israëls",
          "Kazakhstan",
          "Kenya",
          "Kingdom of Afghanistan",
          "Kingdom of Aragon",
          "Kingdom of Egypt",
          "Kingdom of England",
          "Kingdom of France",
          "Kingdom of Iraq",
          "Kingdom of Italy",
          "Kingdom of Libya",
          "Kingdom of Portugal",
          "Kingdom of Scotland",
          "Kingdom of Sikkim",
          "Kingdom of the Netherlands",
          "Kiribati",
          "Korea",
          "Kosovo",
          "Kuwait",
          "Kyrgyzstan",
          "Laos",
          "Latin Americans",
          "Latvia",
          "Lebanon",
          "Lesotho",
          "Liberia",
          "Libya",
          "Liechtenstein",
          "Lithuania",
          "Lithuanian Soviet Socialist Republic",
          "Luxembourg",
          "Macau",
          "Madagascar",
          "Malawi",
          "Malaysia",
          "Malaysians",
          "Maldives",
          "Mali",
          "Malta",
          "Marshall Islands",
          "Mauritania",
          "Mauritius",
          "Mexico",
          "Mexico City",
          "Ming dynasty",
          "Moldova",
          "Monaco",
          "Mongolia",
          "Mongolian People's Republic",
          "Montenegro",
          "Morocco",
          "Mozambique",
          "Myanmar",
          "Namibia",
          "Nauru",
          "Nepal",
          "Nepalis",
          "Netherlands",
          "New Zealand",
          "Nicaragua",
          "Niger",
          "Nigeria",
          "Norfolk Island",
          "North Korea",
          "North Macedonia",
          "Northern Ireland",
          "Northern Mariana Islands",
          "Norway",
          "Oman",
          "Pakistan",
          "Pakistanis",
          "Palau",
          "Palestine",
          "Palestinian",
          "Palestinian National Authority",
          "Panama",
          "Papua New Guinea",
          "Paraguay",
          "Patiala State",
          "People's Republic of Bulgaria",
          "People's Republic of China",
          "People's Socialist Republic of Albania",
          "Persian",
          "Peru",
          "Peruvian",
          "Philippines",
          "Poland",
          "Poles",
          "Portugal",
          "Puerto Rico",
          "Qatar",
          "Qin (state)",
          "Qing dynasty",
          "Republic of Abkhazia",
          "Republic of China (1912–1949)",
          "Republic of Egypt (1953–1958)",
          "Republic of Venice",
          "Republic of the Congo",
          "Rhodesia",
          "Romania",
          "Russia",
          "Russian Empire",
          "Russian Socialist Federative Soviet Republic (1918-1923)",
          "Rwanda",
          "Saar Protectorate",
          "Saint Kitts and Nevis",
          "Saint Lucia",
          "Saint Vincent and the Grenadines",
          "Samoa",
          "San Marino",
          "Saudi Arabia",
          "Scotland",
          "Second Polish Republic",
          "Second Syrian Republic",
          "Senegal",
          "Serbia",
          "Serbia and Montenegro",
          "Seychelles",
          "Sierra Leone",
          "Singapore",
          "Siria",
          "Slovakia",
          "Slovenia",
          "Socialist Federal Republic of Yugoslavia",
          "Solomon Islands",
          "Somalia",
          "Somaliland",
          "Song dynasty",
          "South Africa",
          "South Korea",
          "South Sudan",
          "South Vietnam",
          "Southern Rhodesia",
          "Soviet Union",
          "Spain",
          "Sri Lanka",
          "State of Mexico",
          "State of Palestine",
          "Sudan",
          "Suriname",
          "Sweden",
          "Switzerland",
          "Syria",
          "São Tomé and Príncipe",
          "Taiwan",
          "Taiwan under Japanese rule",
          "Tajikistan",
          "Tang Empire",
          "Tanzania",
          "Temuco",
          "Thailand",
          "The Bahamas",
          "The Gambia",
          "The Netherlands",
          "Tibet",
          "Togo",
          "Tonga",
          "Transnistria",
          "Trinidad and Tobago",
          "Tunis",
          "Tunisia",
          "Turkey",
          "Turkish Republic of Northern Cyprus",
          "Turkmenistan",
          "Tuvalu",
          "Uganda",
          "Ukraine",
          "Ukrainian Soviet Socialist Republic",
          "United Arab Emirates",
          "United Kingdom",
          "United Kingdom of Great Britain and Ireland",
          "United States Virgin Islands",
          "United States of America",
          "Uruguay",
          "Uzbekistan",
          "Vanuatu",
          "Vatican City",
          "Venezuela",
          "Vietnam",
          "Virgin Islands",
          "Wales",
          "Weimar Republic",
          "Welsh people",
          "West Germany",
          "West Indies",
          "Western Han",
          "Western Jin dynasty",
          "Western Zhou Dynasty",
          "Yemen",
          "Yuan Empire",
          "Yugoslavia",
          "Zambia",
          "Zimbabwe",
          "ancient Rome",
          "فلسطين."
         ],
         "type": "choropleth",
         "z": [
          0.03301491536785653,
          null,
          null,
          -0.04400185270958776,
          null,
          null,
          null,
          null,
          -0.08750000000000002,
          0.12,
          0.03389830508474573,
          0.021921341070277267,
          null,
          null,
          null,
          0.001447475208460225,
          0.3076923076923077,
          0.01480324653287085,
          null,
          null,
          -0.016666666666666663,
          -0.02182064048189808,
          null,
          0.17698561601000629,
          0.01617250673854448,
          0.018983557548579943,
          -0.10426382411725521,
          0.16666666666666669,
          -0.05232558139534882,
          0.30434782608695654,
          0.1606837606837607,
          null,
          null,
          0.23934837092731828,
          0.04288381838179639,
          null,
          -0.06857142857142856,
          -0.09626814623394386,
          null,
          -0.09333333333333335,
          null,
          null,
          -0.00741176470588234,
          0.1333333333333333,
          0.20531400966183572,
          -0.03550973654066436,
          -0.029761904761904767,
          0.004404928347724046,
          null,
          null,
          0.18903318903318905,
          null,
          null,
          null,
          null,
          null,
          -0.08657260773586717,
          -0.1111111111111111,
          -0.02192833179365003,
          null,
          null,
          null,
          null,
          0.08139194139194136,
          0.04803149606299212,
          0.07453386785673763,
          0.19868637110016418,
          -0.017272727272727273,
          null,
          null,
          0.07420042643923241,
          null,
          0.00946401218335241,
          null,
          -0.12393822393822393,
          0.03020565552699228,
          null,
          null,
          null,
          null,
          -0.22193877551020408,
          0.10399156750159497,
          -0.10588235294117648,
          null,
          -0.005494383272161063,
          null,
          null,
          null,
          null,
          null,
          -0.025468164794007486,
          0.4920634920634921,
          0.17196969696969694,
          -0.04999999999999999,
          null,
          null,
          null,
          null,
          -0.044794188861985496,
          0.02446460230950348,
          null,
          null,
          -0.0239180487271225,
          null,
          null,
          null,
          -0.07723577235772358,
          null,
          -0.022193590630428917,
          -0.020948234155781287,
          null,
          null,
          0.23232323232323232,
          0.02896650670360662,
          null,
          -0.14285714285714285,
          0.22432701894317048,
          0.01081730769230771,
          null,
          null,
          0.041666666666666685,
          0,
          0.1322981366459627,
          -0.03722950687796639,
          null,
          -0.15787504676393566,
          0.046029919447640955,
          null,
          0.027352212402829312,
          0.1274193548387097,
          0.047434645474851544,
          -0.021298388908713634,
          -0.03663003663003661,
          null,
          -0.013189313517065149,
          null,
          null,
          null,
          null,
          0.026441747870319277,
          -0.015537650482743415,
          null,
          -0.03402548104866293,
          -0.04824284620636857,
          -0.105982905982906,
          null,
          null,
          -0.15909090909090912,
          -0.015393167902030325,
          null,
          null,
          null,
          -0.10826210826210825,
          null,
          null,
          null,
          null,
          null,
          null,
          null,
          -0.015926305598268686,
          null,
          null,
          null,
          -0.09166666666666667,
          null,
          null,
          null,
          -0.06591070163004964,
          0.03842222513432056,
          null,
          0.013675213675213654,
          null,
          null,
          0.2394957983193277,
          null,
          0.028715296679368507,
          null,
          null,
          0.031073854603266393,
          -0.005461790904828845,
          null,
          null,
          0.015151515151515138,
          0.03552526062550121,
          0.04999999999999999,
          null,
          0.09743589743589745,
          -0.016757776910061195,
          null,
          null,
          -0.00840336134453784,
          null,
          null,
          null,
          null,
          0.06589147286821706,
          0.11904761904761904,
          0.11793372319688111,
          -0.04363636363636364,
          null,
          0.17244224422442245,
          null,
          null,
          0.006299622037702013,
          -0.08270676691729323,
          null,
          0.0021505276743425394,
          null,
          null,
          null,
          -0.07569974554707382,
          null,
          0.009216869975270214,
          null,
          0.04792728910549199,
          null,
          null,
          null,
          null,
          null,
          0.024092409240924095,
          0.36507936507936506,
          0.057040998217468775,
          null,
          null,
          -0.007829917191174374,
          null,
          null,
          -0.07800224466891134,
          null,
          0.039938314456459734,
          -0.08431643711898851,
          null,
          0.05670946421799661,
          0.07106409345215314,
          null,
          null,
          null,
          null,
          null,
          null,
          null,
          null,
          null,
          0.025500140884756273,
          0.017464895285215276,
          null,
          null,
          -0.10446877774489496,
          null,
          null,
          null,
          -0.0892857142857143,
          null,
          null,
          -0.042230818826563515,
          0.0033257964564715747,
          null,
          -0.4666666666666666,
          -0.010344827586206917,
          0.011363636363636354,
          null,
          null,
          0.17073170731707316,
          -0.02050458502071406,
          null,
          0.5172413793103449,
          -0.09026915113871634,
          null,
          null,
          0.11666666666666667,
          null,
          null,
          0.007867062596897623,
          0.05698850574712641,
          0.20833333333333331,
          null,
          null,
          0.011310655101781142,
          -0.003041836957539068,
          0.01702258681739205,
          null,
          -0.0679245283018868,
          null,
          0.19047619047619047,
          -0.018920557771909097,
          0.024472964385378382,
          -0.023714036617262402,
          null,
          -0.0912424621068072,
          null,
          null,
          null,
          0.05387624466571839,
          null,
          -0.0935672514619883,
          0.04325955734406439,
          0.1833333333333333,
          null,
          null,
          -0.015151515151515166,
          null,
          null,
          -0.03397366195481452,
          null,
          0.08619650391802289,
          0.06184548508199961,
          null,
          null,
          null,
          0.023631008167090684,
          -0.04077680495322261,
          null,
          -0.06123737373737376,
          -0.00404599076367268,
          0.0986948694869487,
          null,
          -0.0036371293017806172,
          0.04617623034510926,
          null,
          null,
          null,
          -0.019553946545096984,
          0.05315614617940198,
          null,
          -0.0675438596491228,
          null,
          null,
          -0.39230769230769225,
          null,
          null,
          null,
          null,
          null,
          null,
          null,
          -0.11282051282051281,
          0.030467418595272466,
          null,
          null
         ]
        },
        {
         "colorscale": [
          [
           0,
           "#000000"
          ],
          [
           0.2,
           "#FF3637"
          ],
          [
           0.4,
           "#FF6D6E"
          ],
          [
           0.6,
           "#FEA3A5"
          ],
          [
           0.8,
           "#FEDADC"
          ],
          [
           1,
           "#FEF5F7"
          ]
         ],
         "locationmode": "country names",
         "locations": [
          "Afghanistan",
          "Albania",
          "Algeria",
          "Algerian Arabic",
          "American Samoa",
          "Americans",
          "Ancient Egypt",
          "Andorra",
          "Angola",
          "Antigua and Barbuda",
          "Argentina",
          "Armenia",
          "Aruba",
          "Australasia at the Olympics",
          "Australia",
          "Australians",
          "Austria",
          "Austrians",
          "Azerbaijan",
          "Bahrain",
          "Bangladesh",
          "Bangladeshis",
          "Barbados",
          "Belarus",
          "Belgium",
          "Belize",
          "Benin",
          "Bermuda",
          "Bhutan",
          "Bolivia",
          "Bosnia and Herzegovina",
          "Bosniaks",
          "Botswana",
          "Brazil",
          "Brazilians",
          "British Empire",
          "British Honduras",
          "British Hong Kong",
          "British India",
          "British National (Overseas)",
          "British Virgin Islands",
          "Britons",
          "Brunei",
          "Bulgaria",
          "Burkina Faso",
          "Burundi",
          "Byzantine Empire",
          "Cambodia",
          "Cameroon",
          "Canada",
          "Canada–United States border",
          "Canadia",
          "Canadian French",
          "Canadians",
          "Cape Verde",
          "Cayman Islands",
          "Central African Republic",
          "Chad",
          "Cherokee",
          "Chile",
          "China",
          "Colombia",
          "Colonial Nigeria",
          "Colony and Protectorate of Nigeria",
          "Comoros",
          "Cook Islands",
          "Costa Rica",
          "Croatia",
          "Cuba",
          "Cyprus",
          "Czech Republic",
          "Czechoslovak Republic",
          "Czechoslovakia",
          "Danish Realm",
          "Democratic Republic of the Congo",
          "Denmark",
          "Derry",
          "Djibouti",
          "Dominica",
          "Dominican Republic",
          "East Germany",
          "East Timor",
          "Eastern Han",
          "Eastern Wu",
          "Ecuador",
          "Egypt",
          "El Salvador",
          "Emirate of Dubai",
          "England",
          "English Wikipedia",
          "English people",
          "Equatorial Guinea",
          "Eritrea",
          "Estonia",
          "Eswatini",
          "Ethiopia",
          "Falkland Islands",
          "Faroe Islands",
          "Federal People's Republic of Yugoslavia",
          "Federal Republic of Yugoslavia",
          "Federated States of Micronesia",
          "Federation of Rhodesia and Nyasaland",
          "Fiji",
          "Finland",
          "First Czechoslovak Republic",
          "Flor",
          "France",
          "Gabon",
          "Georgia",
          "Germany",
          "Ghana",
          "Gibraltar",
          "Glaspy",
          "Great Britain",
          "Greece",
          "Greenland",
          "Grenada",
          "Guam",
          "Guatemala",
          "Guernsey",
          "Guinea",
          "Guinea-Bissau",
          "Guyana",
          "Haiti",
          "Honduras",
          "Hong Kong",
          "Hongkongers",
          "Hungary",
          "Iceland",
          "Imperial State of Iran",
          "India",
          "Indian",
          "Indians",
          "Indonesia",
          "Iran",
          "Iraq",
          "Iraqi Republic (1958–68)",
          "Ireland",
          "Irish Free State",
          "Irish Republic",
          "Irish people",
          "Isle of Man",
          "Israel",
          "Italiana",
          "Italy",
          "Ivory Coast",
          "Jamaica",
          "Jammu and Kashmir",
          "Japan",
          "Japanese",
          "Jordan",
          "Jozef Israëls",
          "Kazakhstan",
          "Kenya",
          "Kenya Colony",
          "Kingdom of Afghanistan",
          "Kingdom of Egypt",
          "Kingdom of England",
          "Kingdom of Greece",
          "Kingdom of Hungary",
          "Kingdom of Iraq",
          "Kingdom of Italy",
          "Kingdom of Libya",
          "Kingdom of Romania",
          "Kingdom of Scotland",
          "Kingdom of Sikkim",
          "Kingdom of the Netherlands",
          "Kiribati",
          "Kosovo",
          "Kuwait",
          "Kyrgyzstan",
          "Laos",
          "Latin Americans",
          "Latvia",
          "Lebanon",
          "Lesotho",
          "Liberia",
          "Libya",
          "Liechtenstein",
          "Lithuania",
          "Lithuanian Soviet Socialist Republic",
          "Luxembourg",
          "Macau",
          "Madagascar",
          "Madrid",
          "Malawi",
          "Malaysia",
          "Malaysians",
          "Maldives",
          "Mali",
          "Malta",
          "Mandatory Palestine",
          "Marshall Islands",
          "Mauritania",
          "Mauritius",
          "Mexico",
          "Min",
          "Ming dynasty",
          "Moldova",
          "Monaco",
          "Mongolia",
          "Mongolian People's Republic",
          "Montenegro",
          "Montserrat",
          "Morocco",
          "Mozambique",
          "Myanmar",
          "Namibia",
          "Nauru",
          "Nazareth",
          "Nazi Germany",
          "Nepal",
          "Netherlands",
          "New Zealand",
          "New Zealanders",
          "Nicaragua",
          "Niger",
          "Nigeria",
          "Niue",
          "Norfolk Island",
          "North Korea",
          "North Macedonia",
          "Northern Ireland",
          "Northern Mariana Islands",
          "Norway",
          "Oman",
          "Pakistan",
          "Pakistanis",
          "Palau",
          "Palestine",
          "Palestinian",
          "Palestinian National Authority",
          "Panama",
          "Papua New Guinea",
          "Paraguay",
          "Patiala State",
          "People's Republic of Bulgaria",
          "People's Republic of China",
          "People's Socialist Republic of Albania",
          "Persian",
          "Perth",
          "Peru",
          "Peruvian",
          "Philippines",
          "Poland",
          "Poles",
          "Polish People's Republic",
          "Portugal",
          "Principality of Sealand",
          "Puerto Rico",
          "Qatar",
          "Qin (state)",
          "Qin dynasty",
          "Qing dynasty",
          "Republic of China (1912–1949)",
          "Republic of Venice",
          "Republic of the Congo",
          "Rhodesia",
          "Romania",
          "Russia",
          "Russian Empire",
          "Russian Socialist Federative Soviet Republic (1918-1923)",
          "Rwanda",
          "Sahrawi Arab Democratic Republic",
          "Saint Kitts and Nevis",
          "Saint Lucia",
          "Saint Vincent and the Grenadines",
          "Samoa",
          "San Marino",
          "Saudi Arabia",
          "Scotland",
          "Second Polish Republic",
          "Senegal",
          "Serbia",
          "Serbia and Montenegro",
          "Seychelles",
          "Sierra Leone",
          "Singapore",
          "Siria",
          "Slovakia",
          "Slovenia",
          "Socialist Federal Republic of Yugoslavia",
          "Solomon Islands",
          "Somalia",
          "Somaliland",
          "Song dynasty",
          "South Africa",
          "South Korea",
          "South Sudan",
          "South Vietnam",
          "Southern Rhodesia",
          "Soviet Union",
          "Spain",
          "Sri Lanka",
          "State of Mexico",
          "State of Palestine",
          "Sudan",
          "Sui dynasty",
          "Suriname",
          "Sweden",
          "Switzerland",
          "Syria",
          "Syrian",
          "São Tomé and Príncipe",
          "Taiwan",
          "Taiwan under Japanese rule",
          "Tajikistan",
          "Tang Empire",
          "Tanzania",
          "Temuco",
          "Thailand",
          "The Bahamas",
          "The Gambia",
          "The Netherlands",
          "Tibet",
          "Togo",
          "Tonga",
          "Transnistria",
          "Trinidad and Tobago",
          "Tunisia",
          "Turkey",
          "Turkish Republic of Northern Cyprus",
          "Tuvalu",
          "Uganda",
          "Ukraine",
          "Ukrainian Soviet Socialist Republic",
          "Unified Team at the Olympics",
          "Union of South Africa",
          "United Arab Emirates",
          "United Kingdom",
          "United Kingdom of Great Britain and Ireland",
          "United States Virgin Islands",
          "United States of America",
          "Uruguay",
          "Uzbekistan",
          "Vanuatu",
          "Vatican City",
          "Venezuela",
          "Vietnam",
          "Virgin Islands",
          "Wales",
          "Weimar Republic",
          "West Germany",
          "West Indies",
          "Western Han",
          "Western Jin dynasty",
          "Yemen",
          "Yuan Empire",
          "Yugoslavia",
          "Yuta",
          "Zambia",
          "Zimbabwe",
          "al-Andalus",
          "ancient Rome",
          "statelessness",
          "الجمهورية العربية السورية"
         ],
         "type": "choropleth",
         "z": [
          -0.06274193548387091,
          null,
          null,
          null,
          null,
          0,
          null,
          -0.019047619047619035,
          0,
          -0.1871794871794872,
          0.06247122328580362,
          -0.11228813559322035,
          null,
          null,
          -0.0014735047930827805,
          -0.0780952380952381,
          0.0038503671406414086,
          null,
          null,
          0.1111111111111111,
          0.04613381527040944,
          null,
          -0.023362235067437342,
          -0.03639045979837721,
          0.06482177413781187,
          -0.17874911158493245,
          null,
          -0.03099173553719009,
          null,
          -0.03116883116883118,
          0.380952380952381,
          null,
          -0.12820512820512825,
          0.009283092616425959,
          null,
          null,
          null,
          0.0024576992154267674,
          0.013499480789200435,
          null,
          null,
          null,
          null,
          -0.1022128556375132,
          null,
          -0.06060606060606061,
          null,
          -0.07494473102431834,
          0.12470588235294117,
          0.016455585909498915,
          null,
          null,
          null,
          -0.23921568627450981,
          null,
          null,
          null,
          0.11594202898550723,
          null,
          0.05607551077302958,
          0.16810344827586207,
          -0.008985115020297696,
          null,
          null,
          null,
          null,
          0.001436781609195359,
          -0.1681726907630522,
          0.05915459095578432,
          null,
          -0.053571428571428575,
          null,
          0.18703358208955223,
          null,
          null,
          0.031154872747074236,
          null,
          null,
          -0.15555555555555556,
          0.24168245547555892,
          -0.04179918218991366,
          null,
          null,
          null,
          -0.04421768707482995,
          0.10226385636221702,
          0.008988764044943837,
          null,
          -0.026879429265905863,
          null,
          null,
          null,
          null,
          -0.0745995423340961,
          0.17676767676767674,
          0.013513513513513542,
          null,
          null,
          null,
          null,
          null,
          null,
          0.07053596223271313,
          0.06484238484657862,
          null,
          null,
          0.004246223579647712,
          null,
          0.20588235294117646,
          -0.010497481862841773,
          0.029678235433631128,
          null,
          null,
          0.32872340425531915,
          0.04137869927343607,
          null,
          0.037037037037037035,
          0.058536585365853655,
          0.13363636363636364,
          null,
          null,
          null,
          -0.03504273504273503,
          -0.012755102040816313,
          null,
          -0.02323232323232327,
          null,
          -0.04322051840425853,
          0.20440251572327045,
          null,
          0.02804299352044448,
          null,
          -0.19047619047619047,
          -0.008747092729295192,
          0.023641444223840014,
          -0.010163339382940118,
          null,
          0.011098214176301413,
          null,
          null,
          null,
          null,
          0.015862595559297255,
          null,
          -0.004508443999152234,
          0.23344947735191635,
          -0.01376782627204437,
          null,
          -0.02432445292715038,
          null,
          -0.02786885245901638,
          null,
          0.08743169398907102,
          0.009470864709152482,
          null,
          null,
          null,
          0.18404907975460122,
          null,
          null,
          null,
          null,
          null,
          null,
          null,
          null,
          -0.011198547215496346,
          null,
          null,
          null,
          null,
          null,
          null,
          -0.006237006237006237,
          -0.003361344537815142,
          null,
          -0.03620032661948833,
          null,
          0.25,
          -0.16415662650602408,
          null,
          -0.01769264976812146,
          null,
          null,
          null,
          -0.07124498817723862,
          -0.001243911193149816,
          null,
          0.11435523114355228,
          -0.010869565217391297,
          0.022263859803813513,
          null,
          null,
          null,
          -0.06578947368421051,
          0.0346538764362867,
          null,
          null,
          0.10755148741418763,
          0.27927927927927926,
          null,
          null,
          null,
          null,
          0.029761904761904767,
          null,
          0.16666666666666666,
          0.14835164835164832,
          null,
          null,
          null,
          0.10403726708074534,
          null,
          0.01919265285301469,
          null,
          0.02797619047619046,
          null,
          0.02252561502054401,
          null,
          null,
          0.15384615384615383,
          null,
          -0.029728102575784676,
          null,
          -0.004498856670701934,
          null,
          0.06243770343186045,
          null,
          null,
          0.050980392156862744,
          null,
          null,
          0.0007621951219511924,
          -0.06192660550458717,
          -0.03432835820895522,
          null,
          null,
          0.009261243062357205,
          null,
          null,
          null,
          -0.07237137469695609,
          null,
          0.010070119772940256,
          -0.050155659895886495,
          null,
          null,
          -0.07127985543683216,
          null,
          0.0687881710061074,
          null,
          null,
          null,
          null,
          -0.09146341463414637,
          null,
          null,
          null,
          0.06666666666666665,
          0.014025647910722139,
          null,
          null,
          -0.020952380952380945,
          null,
          null,
          0.05205811138014527,
          null,
          null,
          null,
          -0.030001327492366947,
          -0.0021958360442420055,
          null,
          0.16057692307692306,
          0.08181818181818185,
          null,
          null,
          -0.05128205128205132,
          -0.09597726861172359,
          null,
          null,
          0.03239087301587301,
          null,
          null,
          0.03918411164787977,
          null,
          null,
          -0.0065456856813789766,
          -0.006322385721479362,
          null,
          null,
          null,
          -0.016455078330464945,
          0.032495863052002694,
          -0.0246282527881041,
          null,
          0.06233766233766233,
          null,
          null,
          null,
          -0.02187306444294762,
          -0.08486972147349503,
          0.1597222222222222,
          null,
          null,
          -0.08521730370469865,
          null,
          null,
          null,
          -0.02721762773309161,
          null,
          -0.11645394963780614,
          -0.048494983277591996,
          0.1111111111111111,
          null,
          null,
          0.23333333333333336,
          null,
          null,
          0.017360674777707974,
          -0.015151515151515138,
          -0.01645933142772793,
          null,
          null,
          0.05488101019912578,
          0.004957187922487616,
          null,
          null,
          null,
          -0.05864978902953588,
          0.00009849041998855057,
          0.09755689424364122,
          null,
          -0.0023027578941669513,
          -0.037559599104797114,
          0.3125,
          null,
          null,
          -0.021645207439198844,
          -0.08653846153846151,
          null,
          -0.02487264494218483,
          null,
          0.25,
          null,
          null,
          null,
          null,
          null,
          0.1477272727272727,
          null,
          -0.034632034632034625,
          0.0001567193417787438,
          null,
          null,
          null,
          null
         ]
        },
        {
         "colorscale": [
          [
           0,
           "#000000"
          ],
          [
           0.2,
           "#FF3637"
          ],
          [
           0.4,
           "#FF6D6E"
          ],
          [
           0.6,
           "#FEA3A5"
          ],
          [
           0.8,
           "#FEDADC"
          ],
          [
           1,
           "#FEF5F7"
          ]
         ],
         "locationmode": "country names",
         "locations": [
          "Afghanistan",
          "Albania",
          "Algeria",
          "Algerian Arabic",
          "American Samoa",
          "Americans",
          "Andorra",
          "Angola",
          "Antigua and Barbuda",
          "Argentina",
          "Armenia",
          "Armenian Soviet Socialist Republic",
          "Australasia at the Olympics",
          "Australia",
          "Australians",
          "Austria",
          "Azerbaijan",
          "Ba'athist Iraq",
          "Bahrain",
          "Bangladesh",
          "Bangladeshis",
          "Barbados",
          "Belarus",
          "Belgium",
          "Belize",
          "Benin",
          "Bermuda",
          "Bhutan",
          "Bolivia",
          "Bosnia and Herzegovina",
          "Botswana",
          "Brazil",
          "Brazilians",
          "British Hong Kong",
          "British India",
          "British National (Overseas)",
          "British Virgin Islands",
          "Brunei",
          "Bulgaria",
          "Burkina Faso",
          "Burundi",
          "Cambodia",
          "Cameroon",
          "Canada",
          "Canada–United States border",
          "Canadia",
          "Canadian French",
          "Canadians",
          "Cape Verde",
          "Cayman Islands",
          "Central African Republic",
          "Chad",
          "Chechen Republic of Ichkeria",
          "Cherokee",
          "Chile",
          "China",
          "Colombia",
          "Colonial Nigeria",
          "Colony and Protectorate of Nigeria",
          "Comoros",
          "Cook Islands",
          "Costa Rica",
          "Croatia",
          "Cuba",
          "Cyprus",
          "Czech Republic",
          "Czechoslovak Republic",
          "Czechoslovakia",
          "Democratic Republic of the Congo",
          "Denmark",
          "Derry",
          "Dominica",
          "Dominican Republic",
          "East Germany",
          "East Timor",
          "Ecuador",
          "Egypt",
          "El Salvador",
          "England",
          "English",
          "English Wikipedia",
          "English people",
          "Equatorial Guinea",
          "Eritrea",
          "Estonia",
          "Eswatini",
          "Ethiopia",
          "European Netherlands",
          "Faroe Islands",
          "Federal People's Republic of Yugoslavia",
          "Federal Republic of Yugoslavia",
          "Federated States of Micronesia",
          "Federation of Rhodesia and Nyasaland",
          "Fiji",
          "Finland",
          "Flor",
          "France",
          "Gabon",
          "Georgia",
          "German Empire",
          "German Reich",
          "Germany",
          "Ghana",
          "Gibraltar",
          "Great Britain",
          "Greece",
          "Greenland",
          "Grenada",
          "Guam",
          "Guatemala",
          "Guernsey",
          "Guinea",
          "Guinea-Bissau",
          "Guyana",
          "Haiti",
          "Han dynasty",
          "Honduras",
          "Hong Kong",
          "Hongkongers",
          "Hospitaller-controlled Malta",
          "Hungary",
          "Iceland",
          "Imperial State of Iran",
          "India",
          "Indians",
          "Indonesia",
          "Iran",
          "Iraq",
          "Ireland",
          "Irish Free State",
          "Irish Republic",
          "Irish people",
          "Isle of Man",
          "Israel",
          "Italy",
          "Ivory Coast",
          "Jamaica",
          "Japan",
          "Japanese",
          "Jin dynasty",
          "Jordan",
          "Jozef Israëls",
          "Kazakhstan",
          "Kenya",
          "Kenya Colony",
          "Kingdom of Afghanistan",
          "Kingdom of Egypt",
          "Kingdom of England",
          "Kingdom of France",
          "Kingdom of Iraq",
          "Kingdom of Italy",
          "Kingdom of Libya",
          "Kingdom of Portugal",
          "Kingdom of Romania",
          "Kingdom of Scotland",
          "Kingdom of Sikkim",
          "Kingdom of the Netherlands",
          "Kiribati",
          "Kosovo",
          "Kurdistan",
          "Kuwait",
          "Kyrgyzstan",
          "Laos",
          "Later Tang Dynasty",
          "Latin Americans",
          "Latvia",
          "Lebanon",
          "Lesotho",
          "Liberia",
          "Libya",
          "Liechtenstein",
          "Lithuania",
          "Lithuanian Soviet Socialist Republic",
          "Luxembourg",
          "Madagascar",
          "Malawi",
          "Malaya",
          "Malaysia",
          "Maldives",
          "Mali",
          "Malta",
          "Marshall Islands",
          "Mauritania",
          "Mauritius",
          "Mexico",
          "Mexico City",
          "Min",
          "Ming dynasty",
          "Moldova",
          "Monaco",
          "Mongolia",
          "Montenegro",
          "Montserrat",
          "Morocco",
          "Mozambique",
          "Myanmar",
          "Namibia",
          "Nauru",
          "Nelson",
          "Nepal",
          "Nepali",
          "Netherlands",
          "New Zealand",
          "New Zealanders",
          "Nicaragua",
          "Niger",
          "Nigeria",
          "Niue",
          "North Korea",
          "North Macedonia",
          "Northern Ireland",
          "Northern Mariana Islands",
          "Norway",
          "Oman",
          "Pakistan",
          "Pakistanis",
          "Palau",
          "Palestine",
          "Palestinian",
          "Panama",
          "Papua New Guinea",
          "Paraguay",
          "Patiala State",
          "People's Republic of Bulgaria",
          "People's Republic of China",
          "People's Socialist Republic of Albania",
          "Persian",
          "Peru",
          "Peruvian",
          "Philippines",
          "Poland",
          "Portugal",
          "Protectorate of Bohemia and Moravia",
          "Puerto Rico",
          "Qatar",
          "Qin (state)",
          "Qin dynasty",
          "Qing dynasty",
          "Republic of China (1912–1949)",
          "Republic of the Congo",
          "Romania",
          "Russia",
          "Russian Empire",
          "Russian Socialist Federative Soviet Republic (1918-1923)",
          "Rwanda",
          "Saar",
          "Sahrawi Arab Democratic Republic",
          "Saint Kitts and Nevis",
          "Saint Lucia",
          "Saint Vincent and the Grenadines",
          "Samoa",
          "San Marino",
          "Saudi Arabia",
          "Scotland",
          "Second Polish Republic",
          "Senegal",
          "Serbia",
          "Serbia and Montenegro",
          "Seychelles",
          "Sierra Leone",
          "Singapore",
          "Siria",
          "Slovakia",
          "Slovenia",
          "Socialist Federal Republic of Yugoslavia",
          "Solomon Islands",
          "Somalia",
          "Somaliland",
          "Song dynasty",
          "South Africa",
          "South Korea",
          "South Sudan",
          "Southern Rhodesia",
          "Soviet Union",
          "Spain",
          "Sri Lanka",
          "State of Mexico",
          "State of Palestine",
          "Sudan",
          "Suriname",
          "Sweden",
          "Switzerland",
          "Syria",
          "Syrian",
          "São Tomé and Príncipe",
          "Taiwan",
          "Taiwan under Japanese rule",
          "Tang Empire",
          "Tanzania",
          "Temuco",
          "Thailand",
          "The Bahamas",
          "The Gambia",
          "The Netherlands",
          "Tibet",
          "Togo",
          "Tonga",
          "Trinidad and Tobago",
          "Tunisia",
          "Turkey",
          "Turkish Republic of Northern Cyprus",
          "Tuvalu",
          "Uganda",
          "Ukraine",
          "Ukrainian Soviet Socialist Republic",
          "Unified Team at the Olympics",
          "Union of South Africa",
          "United Arab Emirates",
          "United Arab Republic",
          "United Kingdom",
          "United Kingdom of Great Britain and Ireland",
          "United States Virgin Islands",
          "United States of America",
          "Uruguay",
          "Uzbek Soviet Socialist Republic",
          "Uzbekistan",
          "Vanuatu",
          "Vatican City",
          "Venezuela",
          "Vietnam",
          "Virgin Islands",
          "Wales",
          "Weimar Republic",
          "Welsh people",
          "West Germany",
          "West Indies",
          "Western Han",
          "Western Jin dynasty",
          "Western Sahara",
          "Yemen",
          "Yuan Empire",
          "Yugoslavia",
          "Zambia",
          "Zimbabwe",
          "ancient Rome",
          "statelessness",
          "الجمهورية العربية السورية",
          "فلسطين."
         ],
         "type": "choropleth",
         "z": [
          0.07224958949096882,
          -0.041379310344827586,
          0.1069433359936153,
          null,
          null,
          -0.36538461538461536,
          0.012820512820512803,
          0.010101010101010083,
          null,
          0.020264434562093425,
          0.13737373737373737,
          null,
          null,
          0.0035093195492798546,
          0.03137254901960784,
          -0.04054731714306181,
          null,
          null,
          0.01666666666666669,
          -0.010067340067340114,
          null,
          0.023098791755508163,
          0.013381369016984002,
          0.06073011651469101,
          0.03850267379679145,
          -0.3333333333333333,
          -0.1280193236714976,
          0.2641509433962264,
          0.6767068273092369,
          -0.06746031746031747,
          0.0174825174825175,
          -0.008550749898983523,
          null,
          0.011604347025234829,
          -0.0030612244897958996,
          null,
          null,
          0.2142857142857143,
          -0.026220095693779866,
          null,
          0.07352941176470587,
          -0.1508819538670285,
          0.11921411921411917,
          -0.005827157866121535,
          null,
          null,
          null,
          0.040816326530612235,
          -0.3214285714285714,
          0.1923076923076923,
          null,
          0.23333333333333336,
          null,
          null,
          0.0021987633474653823,
          0.028260869565217395,
          0.03241298348858834,
          null,
          null,
          null,
          null,
          0.11818609022556392,
          0.2391304347826087,
          0.03512991573033708,
          null,
          -0.04368321810182274,
          null,
          0.1124348473566642,
          null,
          -0.019497888156783216,
          null,
          0.1844863731656185,
          0.11185983827493262,
          0.1743421052631579,
          null,
          0.08923076923076922,
          0.048151719704275175,
          null,
          -0.039826534677740666,
          null,
          null,
          null,
          null,
          0.4,
          0.18445121951219512,
          0.21999999999999997,
          -0.023263433813892537,
          null,
          null,
          null,
          null,
          null,
          null,
          0.001210653753026647,
          -0.03740404487747273,
          null,
          -0.01124488592321038,
          null,
          -0.013605442176870763,
          null,
          null,
          -0.015583717532344665,
          -0.013352120236178211,
          null,
          0.36494252873563215,
          0.14719558267945365,
          null,
          null,
          0.019230769230769218,
          -0.13865979381443297,
          null,
          null,
          null,
          -0.10711665443873808,
          -0.13112244897959185,
          null,
          -0.16229508196721312,
          -0.057700132234767554,
          null,
          null,
          0.006683375104427736,
          0.07657657657657657,
          null,
          0.030885321135636246,
          -0.19762845849802374,
          0.0172860723236663,
          0.10179020979020978,
          -0.02670807453416149,
          0.00711676071490952,
          null,
          null,
          null,
          null,
          0.0024405116867750043,
          0.03530324550732716,
          0.1843137254901961,
          -0.03533689333418094,
          0.038460799511390587,
          null,
          null,
          0.12834224598930483,
          null,
          0.1875,
          -0.025126145608073358,
          null,
          null,
          null,
          0.04385964912280699,
          null,
          null,
          null,
          null,
          null,
          null,
          null,
          null,
          -0.016463626706958445,
          null,
          -0.10401002506265664,
          null,
          null,
          null,
          null,
          null,
          null,
          0.007025761124121788,
          0.04215300473554323,
          null,
          0.20114942528735635,
          null,
          null,
          null,
          null,
          0.2485754985754986,
          null,
          0.06126443531023684,
          null,
          -0.06611782138127242,
          null,
          -0.11904761904761904,
          0.08733974358974361,
          null,
          null,
          -0.17972350230414746,
          -0.004253781846120963,
          null,
          null,
          null,
          -0.12238325281803542,
          null,
          null,
          null,
          null,
          0.09979838709677419,
          0.32456140350877194,
          -0.16582278481012655,
          0.12903225806451613,
          null,
          null,
          -0.02737403100775193,
          null,
          null,
          0.005881243008820203,
          null,
          -0.12235294117647058,
          null,
          0.02496725329645466,
          null,
          0,
          -0.11363636363636365,
          -0.05018025918347463,
          null,
          0.0023362302588543216,
          null,
          -0.011777987747805252,
          null,
          null,
          0.18333333333333335,
          null,
          0.06969696969696967,
          0.04032258064516128,
          -0.16629711751662973,
          null,
          null,
          0.003059308429033236,
          null,
          null,
          -0.007575757575757569,
          null,
          0.01972381495729625,
          0.04698972099853155,
          0.1147727272727273,
          null,
          0.0005565337057049646,
          null,
          null,
          null,
          null,
          null,
          null,
          -0.000835421888053467,
          -0.037524781367420046,
          null,
          null,
          0.04434697855750486,
          null,
          null,
          null,
          null,
          -0.326530612244898,
          null,
          null,
          0.23457371643900138,
          -0.003358710255261965,
          null,
          0.018518518518518517,
          0.20833333333333331,
          null,
          -0.01149425287356326,
          0.17142857142857146,
          0.05157984880699268,
          null,
          0.05782312925170069,
          -0.10274110855435792,
          null,
          null,
          -0.13611111111111113,
          null,
          null,
          -0.0028970995697802926,
          0.04738732475958751,
          null,
          null,
          0.012659583822976883,
          -0.0320689880211627,
          -0.023061224489795917,
          null,
          -0.028103044496487123,
          null,
          -0.1388888888888889,
          0.0023073079892810267,
          -0.03965560869980045,
          -0.03607770582793707,
          null,
          null,
          -0.0741859588142707,
          null,
          null,
          -0.02030596522121947,
          null,
          -0.03057102303744952,
          -0.10491054434716407,
          -0.11660079051383399,
          null,
          null,
          null,
          null,
          -0.09238621606112773,
          0.11314984709480119,
          0.016797961075069534,
          null,
          null,
          0.08035629678764333,
          -0.020405320704784458,
          null,
          null,
          null,
          -0.07005494505494508,
          null,
          -0.0037862834470292484,
          0.09694800162379602,
          null,
          -0.00484606117770936,
          0.06442892543365625,
          null,
          null,
          null,
          null,
          -0.05276109493586076,
          0.1415525114155251,
          null,
          0.03007518796992481,
          null,
          null,
          0.1746031746031746,
          null,
          null,
          null,
          null,
          0.012500000000000011,
          null,
          0,
          0.004807692307692291,
          0.09374641422834196,
          null,
          null,
          null,
          null
         ]
        },
        {
         "colorscale": [
          [
           0,
           "#000000"
          ],
          [
           0.2,
           "#FF3637"
          ],
          [
           0.4,
           "#FF6D6E"
          ],
          [
           0.6,
           "#FEA3A5"
          ],
          [
           0.8,
           "#FEDADC"
          ],
          [
           1,
           "#FEF5F7"
          ]
         ],
         "locationmode": "country names",
         "locations": [
          "Abkhazia",
          "Afghanistan",
          "Albania",
          "Algeria",
          "Algerian Arabic",
          "American Samoa",
          "Americans",
          "Ancient China",
          "Andorra",
          "Angola",
          "Antigua and Barbuda",
          "Argentina",
          "Armenia",
          "Australasia at the Olympics",
          "Australia",
          "Australians",
          "Austria",
          "Azerbaijan",
          "Ba'athist Iraq",
          "Bahrain",
          "Bangladesh",
          "Barbados",
          "Belarus",
          "Belgium",
          "Belize",
          "Benin",
          "Bermuda",
          "Bhutan",
          "Bolivia",
          "Bosnia and Herzegovina",
          "Botswana",
          "Brazil",
          "Brazilians",
          "British Empire",
          "British Hong Kong",
          "British India",
          "British National (Overseas)",
          "British Virgin Islands",
          "Brunei",
          "Bulgaria",
          "Burkina Faso",
          "Burundi",
          "Cambodia",
          "Cameroon",
          "Canada",
          "Canada–United States border",
          "Canadia",
          "Canadian French",
          "Canadians",
          "Cape Verde",
          "Cayman Islands",
          "Central African Republic",
          "Chad",
          "Cherokee",
          "Chile",
          "China",
          "Colombia",
          "Colonial Nigeria",
          "Colony and Protectorate of Nigeria",
          "Comoros",
          "Cook Islands",
          "Costa Rica",
          "Croatia",
          "Cuba",
          "Curaçao",
          "Cyprus",
          "Czech Republic",
          "Czechoslovak Republic",
          "Czechoslovakia",
          "Democratic Republic of the Congo",
          "Denmark",
          "Derry",
          "Dominica",
          "Dominican Republic",
          "East Germany",
          "East Timor",
          "East Turkestan",
          "Eastern Han",
          "Ecuador",
          "Egypt",
          "El Salvador",
          "England",
          "English",
          "English people",
          "Equatorial Guinea",
          "Eritrea",
          "Estonia",
          "Eswatini",
          "Ethiopia",
          "Falkland Islands",
          "Faroe Islands",
          "Federal People's Republic of Yugoslavia",
          "Federal Republic of Yugoslavia",
          "Federated States of Micronesia",
          "Federation of Rhodesia and Nyasaland",
          "Fiji",
          "Finland",
          "First Czechoslovak Republic",
          "Flor",
          "France",
          "Francesa",
          "French",
          "Gabon",
          "Georgia",
          "German Reich",
          "Germany",
          "Ghana",
          "Gibraltar",
          "Glaspy",
          "Great Britain",
          "Greece",
          "Greenland",
          "Grenada",
          "Guam",
          "Guatemala",
          "Guernsey",
          "Guinea",
          "Guinea-Bissau",
          "Guyana",
          "Haiti",
          "Honduras",
          "Hong Kong",
          "Hungary",
          "Iceland",
          "Imperial State of Iran",
          "India",
          "Indians",
          "Indonesia",
          "Iran",
          "Iraq",
          "Ireland",
          "Irish Free State",
          "Irish Republic",
          "Irish people",
          "Isle of Man",
          "Israel",
          "Italy",
          "Ivory Coast",
          "Jamaica",
          "Japan",
          "Japanese",
          "Jordan",
          "Joseon",
          "Jozef Israëls",
          "Kazakhstan",
          "Kenya",
          "Kenya Colony",
          "Kingdom of Afghanistan",
          "Kingdom of Aragon",
          "Kingdom of Bavaria",
          "Kingdom of Egypt",
          "Kingdom of England",
          "Kingdom of Hungary",
          "Kingdom of Iraq",
          "Kingdom of Italy",
          "Kingdom of Libya",
          "Kingdom of Mysore",
          "Kingdom of Portugal",
          "Kingdom of Romania",
          "Kingdom of Scotland",
          "Kingdom of the Netherlands",
          "Kiribati",
          "Korea",
          "Kosovo",
          "Kuwait",
          "Laos",
          "Latin Americans",
          "Latvia",
          "Lebanon",
          "Lesotho",
          "Liberia",
          "Libya",
          "Liechtenstein",
          "Lithuania",
          "Luxembourg",
          "Madagascar",
          "Malawi",
          "Malaya",
          "Malaysia",
          "Malaysians",
          "Maldives",
          "Mali",
          "Malta",
          "Mandatory Palestine",
          "Marshall Islands",
          "Mauritania",
          "Mauritius",
          "Mengele medicus: medicine's Nazi heritage.",
          "Mexican Spanish",
          "Mexico",
          "Mexico City",
          "Ming dynasty",
          "Moldova",
          "Monaco",
          "Mongolia",
          "Morocco",
          "Mozambique",
          "Myanmar",
          "Namibia",
          "Nelson",
          "Nepal",
          "Nepali",
          "Netherlands",
          "New Zealand",
          "Nicaragua",
          "Niger",
          "Nigeria",
          "Norfolk Island",
          "North Korea",
          "North Macedonia",
          "Northern Ireland",
          "Northern Mariana Islands",
          "Norway",
          "Oman",
          "Pakistan",
          "Pakistanis",
          "Palau",
          "Palestine",
          "Palestinian",
          "Palestinian National Authority",
          "Panama",
          "Papua New Guinea",
          "Paraguay",
          "Patiala State",
          "People's Republic of Bulgaria",
          "People's Republic of China",
          "Persian",
          "Peru",
          "Peruvian",
          "Philippines",
          "Poland",
          "Polish People's Republic",
          "Portugal",
          "Puerto Rico",
          "Qatar",
          "Qin (state)",
          "Qin dynasty",
          "Qing dynasty",
          "Republic of Abkhazia",
          "Republic of China (1912–1949)",
          "Republic of Venice",
          "Republic of the Congo",
          "Rhodesia",
          "Romania",
          "Russia",
          "Russian Empire",
          "Russian Socialist Federative Soviet Republic (1918-1923)",
          "Rwanda",
          "Sahrawi Arab Democratic Republic",
          "Saint Kitts and Nevis",
          "Saint Lucia",
          "Saint Vincent and the Grenadines",
          "Samoa",
          "San Marino",
          "Saudi Arabia",
          "Scotland",
          "Second Polish Republic",
          "Senegal",
          "Serbia",
          "Seychelles",
          "Sierra Leone",
          "Singapore",
          "Slovakia",
          "Slovenia",
          "Socialist Federal Republic of Yugoslavia",
          "Solomon Islands",
          "Somalia",
          "Somaliland",
          "Song dynasty",
          "South Africa",
          "South Korea",
          "South Sudan",
          "Southern Rhodesia",
          "Soviet Union",
          "Spain",
          "Sri Lanka",
          "State of Mexico",
          "State of Palestine",
          "Sudan",
          "Sui dynasty",
          "Suriname",
          "Sweden",
          "Switzerland",
          "Syria",
          "São Tomé and Príncipe",
          "Taiwan",
          "Taiwan under Japanese rule",
          "Tajikistan",
          "Tang Empire",
          "Tanzania",
          "Temuco",
          "Thailand",
          "The Bahamas",
          "The Gambia",
          "The Netherlands",
          "Tibet",
          "Togo",
          "Tonga",
          "Transnistria",
          "Trinidad and Tobago",
          "Tunisia",
          "Turkey",
          "Turkish Republic of Northern Cyprus",
          "Tuvalu",
          "Uganda",
          "Ukraine",
          "Ukrainian Soviet Socialist Republic",
          "Unified Team at the Olympics",
          "United Arab Emirates",
          "United Kingdom",
          "United Kingdom of Great Britain and Ireland",
          "United States Virgin Islands",
          "United States of America",
          "Uruguay",
          "Uzbekistan",
          "Vanuatu",
          "Vatican City",
          "Venezuela",
          "Vietnam",
          "Virgin Islands",
          "Wales",
          "Wei",
          "Weimar Republic",
          "West Germany",
          "Western Han",
          "Western Jin dynasty",
          "Yemen",
          "Yuan Empire",
          "Yugoslavia",
          "Zambia",
          "Zimbabwe",
          "ancient Rome",
          "statelessness",
          "فلسطين."
         ],
         "type": "choropleth",
         "z": [
          null,
          0.18858560794044665,
          0.10175438596491226,
          -0.12320675105485233,
          null,
          null,
          null,
          null,
          -0.10526315789473684,
          -0.08482142857142858,
          -0.14437689969604867,
          0.025796066281896235,
          0.18095238095238098,
          null,
          0.001149854258321703,
          -0.009505171931786405,
          0.010044691220356339,
          null,
          null,
          -0.26190476190476186,
          -0.01014413889978616,
          -0.0500823594007373,
          -0.011178180192264686,
          0.034713080785919725,
          -0.2618393405527719,
          0.16666666666666666,
          -0.14511627906976743,
          null,
          null,
          0.2096774193548387,
          0.07056277056277055,
          0.001234514541338716,
          null,
          null,
          0.05038759689922484,
          -0.05480847595762023,
          null,
          null,
          -0.375,
          -0.05828857858933045,
          null,
          null,
          -0.038157894736842085,
          0.003759398496240629,
          -0.0009817391627652827,
          null,
          null,
          null,
          -0.014316012725344662,
          -0.1067193675889328,
          0.20176991150442475,
          null,
          0.3709677419354839,
          null,
          0.014864928353300472,
          0.0733031674208145,
          -0.0644748672221862,
          null,
          null,
          null,
          null,
          0.060980626054049636,
          -0.057588075880758816,
          -0.01444227644343321,
          null,
          -0.08325504083255042,
          0.013435957948937982,
          null,
          0.1016187050359712,
          0.046337817638266054,
          -0.017581046755619834,
          null,
          -0.06873614190687366,
          0.04992397807306259,
          -0.06410256410256412,
          null,
          null,
          null,
          -0.04553063274188149,
          -0.011859985440427101,
          0.03270223752151463,
          -0.004750995472644959,
          null,
          null,
          null,
          null,
          -0.021124506561399803,
          0.4576923076923077,
          -0.061188907953727806,
          null,
          -0.2100840336134454,
          null,
          null,
          null,
          null,
          -0.008771929824561403,
          0.00504928249729808,
          null,
          null,
          0.0058647674910550784,
          null,
          null,
          null,
          0.13333333333333336,
          null,
          -0.022413666596398985,
          -0.04148098573648701,
          null,
          null,
          -0.07675276752767529,
          0.03446312981817001,
          0.33333333333333337,
          0.09411764705882353,
          0.06521739130434784,
          0.03986254295532646,
          null,
          -0.020833333333333343,
          null,
          -0.03144654088050314,
          -0.08983387504514267,
          0.04118993135011445,
          -0.018873346401338253,
          -0.0527857142857143,
          0.006519295616335741,
          0.288135593220339,
          0.02199811010000441,
          0.1511627906976744,
          -0.051248351234218975,
          0.004403389015718517,
          null,
          -0.010418314896878722,
          null,
          null,
          null,
          null,
          0.051089918763217806,
          0.030426741692761716,
          -0.17753120665742028,
          -0.007483476721463156,
          -0.033796035303359395,
          null,
          0.17803030303030304,
          null,
          null,
          -0.10249091852620651,
          -0.019341738698194166,
          null,
          null,
          null,
          null,
          0.008547008547008544,
          0.18046357615894038,
          null,
          null,
          null,
          null,
          null,
          null,
          null,
          null,
          0.005626279609740437,
          null,
          null,
          null,
          -0.12307692307692308,
          -0.0357142857142857,
          null,
          0.08111111111111108,
          -0.025081506149691485,
          null,
          0.1265795206971677,
          null,
          null,
          0.20346320346320346,
          -0.09772541112721317,
          null,
          -0.013064163559213082,
          null,
          -0.010661191834376305,
          null,
          0.169811320754717,
          0.1628169014084507,
          0.027148972866426424,
          null,
          null,
          null,
          -0.11969111969111973,
          null,
          null,
          0.005303242068068759,
          null,
          null,
          -0.15714285714285714,
          null,
          null,
          -0.01674836601307189,
          null,
          0.01656474699280963,
          0.004485852311939265,
          null,
          0.11974789915966388,
          null,
          null,
          0.010314934578107449,
          -0.11688311688311687,
          null,
          -0.011397527990175182,
          null,
          null,
          null,
          -0.03742158644544763,
          null,
          0.02125046347793841,
          null,
          0.01302480483401619,
          -0.16666666666666669,
          null,
          null,
          null,
          null,
          0.12059620596205961,
          0.09496644295302009,
          0.12669376693766937,
          null,
          null,
          0.05293428836473685,
          null,
          -0.0840448803895279,
          null,
          0.020615343462148328,
          0.045927569928838174,
          null,
          -0.04979861427908594,
          0.07371787678150601,
          0.13813229571984437,
          null,
          null,
          null,
          null,
          null,
          null,
          null,
          null,
          0.008058608058608085,
          -0.014763273175117053,
          null,
          null,
          0.030458089668615962,
          null,
          null,
          0.0021895527056615682,
          0.041666666666666685,
          null,
          null,
          0.273841961852861,
          -0.03067660448094256,
          null,
          0.09672293942403176,
          0.03003875968992248,
          null,
          0.17142857142857143,
          0.02594268635631658,
          0.07923655292076343,
          -0.031144659886484738,
          null,
          null,
          -0.002606590951405696,
          0,
          null,
          -0.0009705129532428525,
          0.09448818897637795,
          null,
          null,
          -0.02284551574763588,
          0.04378990171656638,
          -0.016949209462273185,
          null,
          0.0857285056613164,
          null,
          null,
          0.06493506493506493,
          -0.021565985032903634,
          -0.02541965204481811,
          0.19230169861305907,
          null,
          -0.08503563899206906,
          null,
          null,
          null,
          0.08026096640353209,
          null,
          -0.03482421005785491,
          0.1858050519138385,
          -0.00530679933665007,
          null,
          null,
          null,
          null,
          null,
          -0.0593416679231924,
          -0.08708938120702828,
          0.04010640810328542,
          -0.09027777777777779,
          null,
          -0.02654251441447414,
          0.10810202909647781,
          null,
          null,
          0.10915750915750916,
          -0.008781250580760958,
          -0.04362960114112685,
          null,
          -0.007239796275688715,
          0.0948423224285293,
          -0.18902439024390244,
          null,
          null,
          0.02937208861159707,
          0.010000000000000009,
          null,
          -0.042125792296440784,
          null,
          null,
          0.16083916083916078,
          null,
          null,
          null,
          null,
          0.018487394957983183,
          0.0772378516624041,
          -0.025947917489355876,
          null,
          null,
          null
         ]
        }
       ],
       "layout": {
        "geo": {
         "projection": {
          "type": "equirectangular"
         },
         "scope": "world",
         "showcountries": true
        },
        "sliders": [
         {
          "active": 0,
          "steps": [
           {
            "args": [
             "visible",
             [
              true,
              false,
              false,
              false,
              false,
              false
             ]
            ],
            "label": "Year 2015",
            "method": "restyle"
           },
           {
            "args": [
             "visible",
             [
              false,
              true,
              false,
              false,
              false,
              false
             ]
            ],
            "label": "Year 2016",
            "method": "restyle"
           },
           {
            "args": [
             "visible",
             [
              false,
              false,
              true,
              false,
              false,
              false
             ]
            ],
            "label": "Year 2017",
            "method": "restyle"
           },
           {
            "args": [
             "visible",
             [
              false,
              false,
              false,
              true,
              false,
              false
             ]
            ],
            "label": "Year 2018",
            "method": "restyle"
           },
           {
            "args": [
             "visible",
             [
              false,
              false,
              false,
              false,
              true,
              false
             ]
            ],
            "label": "Year 2019",
            "method": "restyle"
           },
           {
            "args": [
             "visible",
             [
              false,
              false,
              false,
              false,
              false,
              true
             ]
            ],
            "label": "Year 2020",
            "method": "restyle"
           }
          ]
         }
        ],
        "template": {
         "data": {
          "bar": [
           {
            "error_x": {
             "color": "#2a3f5f"
            },
            "error_y": {
             "color": "#2a3f5f"
            },
            "marker": {
             "line": {
              "color": "#E5ECF6",
              "width": 0.5
             },
             "pattern": {
              "fillmode": "overlay",
              "size": 10,
              "solidity": 0.2
             }
            },
            "type": "bar"
           }
          ],
          "barpolar": [
           {
            "marker": {
             "line": {
              "color": "#E5ECF6",
              "width": 0.5
             },
             "pattern": {
              "fillmode": "overlay",
              "size": 10,
              "solidity": 0.2
             }
            },
            "type": "barpolar"
           }
          ],
          "carpet": [
           {
            "aaxis": {
             "endlinecolor": "#2a3f5f",
             "gridcolor": "white",
             "linecolor": "white",
             "minorgridcolor": "white",
             "startlinecolor": "#2a3f5f"
            },
            "baxis": {
             "endlinecolor": "#2a3f5f",
             "gridcolor": "white",
             "linecolor": "white",
             "minorgridcolor": "white",
             "startlinecolor": "#2a3f5f"
            },
            "type": "carpet"
           }
          ],
          "choropleth": [
           {
            "colorbar": {
             "outlinewidth": 0,
             "ticks": ""
            },
            "type": "choropleth"
           }
          ],
          "contour": [
           {
            "colorbar": {
             "outlinewidth": 0,
             "ticks": ""
            },
            "colorscale": [
             [
              0,
              "#0d0887"
             ],
             [
              0.1111111111111111,
              "#46039f"
             ],
             [
              0.2222222222222222,
              "#7201a8"
             ],
             [
              0.3333333333333333,
              "#9c179e"
             ],
             [
              0.4444444444444444,
              "#bd3786"
             ],
             [
              0.5555555555555556,
              "#d8576b"
             ],
             [
              0.6666666666666666,
              "#ed7953"
             ],
             [
              0.7777777777777778,
              "#fb9f3a"
             ],
             [
              0.8888888888888888,
              "#fdca26"
             ],
             [
              1,
              "#f0f921"
             ]
            ],
            "type": "contour"
           }
          ],
          "contourcarpet": [
           {
            "colorbar": {
             "outlinewidth": 0,
             "ticks": ""
            },
            "type": "contourcarpet"
           }
          ],
          "heatmap": [
           {
            "colorbar": {
             "outlinewidth": 0,
             "ticks": ""
            },
            "colorscale": [
             [
              0,
              "#0d0887"
             ],
             [
              0.1111111111111111,
              "#46039f"
             ],
             [
              0.2222222222222222,
              "#7201a8"
             ],
             [
              0.3333333333333333,
              "#9c179e"
             ],
             [
              0.4444444444444444,
              "#bd3786"
             ],
             [
              0.5555555555555556,
              "#d8576b"
             ],
             [
              0.6666666666666666,
              "#ed7953"
             ],
             [
              0.7777777777777778,
              "#fb9f3a"
             ],
             [
              0.8888888888888888,
              "#fdca26"
             ],
             [
              1,
              "#f0f921"
             ]
            ],
            "type": "heatmap"
           }
          ],
          "heatmapgl": [
           {
            "colorbar": {
             "outlinewidth": 0,
             "ticks": ""
            },
            "colorscale": [
             [
              0,
              "#0d0887"
             ],
             [
              0.1111111111111111,
              "#46039f"
             ],
             [
              0.2222222222222222,
              "#7201a8"
             ],
             [
              0.3333333333333333,
              "#9c179e"
             ],
             [
              0.4444444444444444,
              "#bd3786"
             ],
             [
              0.5555555555555556,
              "#d8576b"
             ],
             [
              0.6666666666666666,
              "#ed7953"
             ],
             [
              0.7777777777777778,
              "#fb9f3a"
             ],
             [
              0.8888888888888888,
              "#fdca26"
             ],
             [
              1,
              "#f0f921"
             ]
            ],
            "type": "heatmapgl"
           }
          ],
          "histogram": [
           {
            "marker": {
             "pattern": {
              "fillmode": "overlay",
              "size": 10,
              "solidity": 0.2
             }
            },
            "type": "histogram"
           }
          ],
          "histogram2d": [
           {
            "colorbar": {
             "outlinewidth": 0,
             "ticks": ""
            },
            "colorscale": [
             [
              0,
              "#0d0887"
             ],
             [
              0.1111111111111111,
              "#46039f"
             ],
             [
              0.2222222222222222,
              "#7201a8"
             ],
             [
              0.3333333333333333,
              "#9c179e"
             ],
             [
              0.4444444444444444,
              "#bd3786"
             ],
             [
              0.5555555555555556,
              "#d8576b"
             ],
             [
              0.6666666666666666,
              "#ed7953"
             ],
             [
              0.7777777777777778,
              "#fb9f3a"
             ],
             [
              0.8888888888888888,
              "#fdca26"
             ],
             [
              1,
              "#f0f921"
             ]
            ],
            "type": "histogram2d"
           }
          ],
          "histogram2dcontour": [
           {
            "colorbar": {
             "outlinewidth": 0,
             "ticks": ""
            },
            "colorscale": [
             [
              0,
              "#0d0887"
             ],
             [
              0.1111111111111111,
              "#46039f"
             ],
             [
              0.2222222222222222,
              "#7201a8"
             ],
             [
              0.3333333333333333,
              "#9c179e"
             ],
             [
              0.4444444444444444,
              "#bd3786"
             ],
             [
              0.5555555555555556,
              "#d8576b"
             ],
             [
              0.6666666666666666,
              "#ed7953"
             ],
             [
              0.7777777777777778,
              "#fb9f3a"
             ],
             [
              0.8888888888888888,
              "#fdca26"
             ],
             [
              1,
              "#f0f921"
             ]
            ],
            "type": "histogram2dcontour"
           }
          ],
          "mesh3d": [
           {
            "colorbar": {
             "outlinewidth": 0,
             "ticks": ""
            },
            "type": "mesh3d"
           }
          ],
          "parcoords": [
           {
            "line": {
             "colorbar": {
              "outlinewidth": 0,
              "ticks": ""
             }
            },
            "type": "parcoords"
           }
          ],
          "pie": [
           {
            "automargin": true,
            "type": "pie"
           }
          ],
          "scatter": [
           {
            "marker": {
             "colorbar": {
              "outlinewidth": 0,
              "ticks": ""
             }
            },
            "type": "scatter"
           }
          ],
          "scatter3d": [
           {
            "line": {
             "colorbar": {
              "outlinewidth": 0,
              "ticks": ""
             }
            },
            "marker": {
             "colorbar": {
              "outlinewidth": 0,
              "ticks": ""
             }
            },
            "type": "scatter3d"
           }
          ],
          "scattercarpet": [
           {
            "marker": {
             "colorbar": {
              "outlinewidth": 0,
              "ticks": ""
             }
            },
            "type": "scattercarpet"
           }
          ],
          "scattergeo": [
           {
            "marker": {
             "colorbar": {
              "outlinewidth": 0,
              "ticks": ""
             }
            },
            "type": "scattergeo"
           }
          ],
          "scattergl": [
           {
            "marker": {
             "colorbar": {
              "outlinewidth": 0,
              "ticks": ""
             }
            },
            "type": "scattergl"
           }
          ],
          "scattermapbox": [
           {
            "marker": {
             "colorbar": {
              "outlinewidth": 0,
              "ticks": ""
             }
            },
            "type": "scattermapbox"
           }
          ],
          "scatterpolar": [
           {
            "marker": {
             "colorbar": {
              "outlinewidth": 0,
              "ticks": ""
             }
            },
            "type": "scatterpolar"
           }
          ],
          "scatterpolargl": [
           {
            "marker": {
             "colorbar": {
              "outlinewidth": 0,
              "ticks": ""
             }
            },
            "type": "scatterpolargl"
           }
          ],
          "scatterternary": [
           {
            "marker": {
             "colorbar": {
              "outlinewidth": 0,
              "ticks": ""
             }
            },
            "type": "scatterternary"
           }
          ],
          "surface": [
           {
            "colorbar": {
             "outlinewidth": 0,
             "ticks": ""
            },
            "colorscale": [
             [
              0,
              "#0d0887"
             ],
             [
              0.1111111111111111,
              "#46039f"
             ],
             [
              0.2222222222222222,
              "#7201a8"
             ],
             [
              0.3333333333333333,
              "#9c179e"
             ],
             [
              0.4444444444444444,
              "#bd3786"
             ],
             [
              0.5555555555555556,
              "#d8576b"
             ],
             [
              0.6666666666666666,
              "#ed7953"
             ],
             [
              0.7777777777777778,
              "#fb9f3a"
             ],
             [
              0.8888888888888888,
              "#fdca26"
             ],
             [
              1,
              "#f0f921"
             ]
            ],
            "type": "surface"
           }
          ],
          "table": [
           {
            "cells": {
             "fill": {
              "color": "#EBF0F8"
             },
             "line": {
              "color": "white"
             }
            },
            "header": {
             "fill": {
              "color": "#C8D4E3"
             },
             "line": {
              "color": "white"
             }
            },
            "type": "table"
           }
          ]
         },
         "layout": {
          "annotationdefaults": {
           "arrowcolor": "#2a3f5f",
           "arrowhead": 0,
           "arrowwidth": 1
          },
          "autotypenumbers": "strict",
          "coloraxis": {
           "colorbar": {
            "outlinewidth": 0,
            "ticks": ""
           }
          },
          "colorscale": {
           "diverging": [
            [
             0,
             "#8e0152"
            ],
            [
             0.1,
             "#c51b7d"
            ],
            [
             0.2,
             "#de77ae"
            ],
            [
             0.3,
             "#f1b6da"
            ],
            [
             0.4,
             "#fde0ef"
            ],
            [
             0.5,
             "#f7f7f7"
            ],
            [
             0.6,
             "#e6f5d0"
            ],
            [
             0.7,
             "#b8e186"
            ],
            [
             0.8,
             "#7fbc41"
            ],
            [
             0.9,
             "#4d9221"
            ],
            [
             1,
             "#276419"
            ]
           ],
           "sequential": [
            [
             0,
             "#0d0887"
            ],
            [
             0.1111111111111111,
             "#46039f"
            ],
            [
             0.2222222222222222,
             "#7201a8"
            ],
            [
             0.3333333333333333,
             "#9c179e"
            ],
            [
             0.4444444444444444,
             "#bd3786"
            ],
            [
             0.5555555555555556,
             "#d8576b"
            ],
            [
             0.6666666666666666,
             "#ed7953"
            ],
            [
             0.7777777777777778,
             "#fb9f3a"
            ],
            [
             0.8888888888888888,
             "#fdca26"
            ],
            [
             1,
             "#f0f921"
            ]
           ],
           "sequentialminus": [
            [
             0,
             "#0d0887"
            ],
            [
             0.1111111111111111,
             "#46039f"
            ],
            [
             0.2222222222222222,
             "#7201a8"
            ],
            [
             0.3333333333333333,
             "#9c179e"
            ],
            [
             0.4444444444444444,
             "#bd3786"
            ],
            [
             0.5555555555555556,
             "#d8576b"
            ],
            [
             0.6666666666666666,
             "#ed7953"
            ],
            [
             0.7777777777777778,
             "#fb9f3a"
            ],
            [
             0.8888888888888888,
             "#fdca26"
            ],
            [
             1,
             "#f0f921"
            ]
           ]
          },
          "colorway": [
           "#636efa",
           "#EF553B",
           "#00cc96",
           "#ab63fa",
           "#FFA15A",
           "#19d3f3",
           "#FF6692",
           "#B6E880",
           "#FF97FF",
           "#FECB52"
          ],
          "font": {
           "color": "#2a3f5f"
          },
          "geo": {
           "bgcolor": "white",
           "lakecolor": "white",
           "landcolor": "#E5ECF6",
           "showlakes": true,
           "showland": true,
           "subunitcolor": "white"
          },
          "hoverlabel": {
           "align": "left"
          },
          "hovermode": "closest",
          "mapbox": {
           "style": "light"
          },
          "paper_bgcolor": "white",
          "plot_bgcolor": "#E5ECF6",
          "polar": {
           "angularaxis": {
            "gridcolor": "white",
            "linecolor": "white",
            "ticks": ""
           },
           "bgcolor": "#E5ECF6",
           "radialaxis": {
            "gridcolor": "white",
            "linecolor": "white",
            "ticks": ""
           }
          },
          "scene": {
           "xaxis": {
            "backgroundcolor": "#E5ECF6",
            "gridcolor": "white",
            "gridwidth": 2,
            "linecolor": "white",
            "showbackground": true,
            "ticks": "",
            "zerolinecolor": "white"
           },
           "yaxis": {
            "backgroundcolor": "#E5ECF6",
            "gridcolor": "white",
            "gridwidth": 2,
            "linecolor": "white",
            "showbackground": true,
            "ticks": "",
            "zerolinecolor": "white"
           },
           "zaxis": {
            "backgroundcolor": "#E5ECF6",
            "gridcolor": "white",
            "gridwidth": 2,
            "linecolor": "white",
            "showbackground": true,
            "ticks": "",
            "zerolinecolor": "white"
           }
          },
          "shapedefaults": {
           "line": {
            "color": "#2a3f5f"
           }
          },
          "ternary": {
           "aaxis": {
            "gridcolor": "white",
            "linecolor": "white",
            "ticks": ""
           },
           "baxis": {
            "gridcolor": "white",
            "linecolor": "white",
            "ticks": ""
           },
           "bgcolor": "#E5ECF6",
           "caxis": {
            "gridcolor": "white",
            "linecolor": "white",
            "ticks": ""
           }
          },
          "title": {
           "x": 0.05
          },
          "xaxis": {
           "automargin": true,
           "gridcolor": "white",
           "linecolor": "white",
           "ticks": "",
           "title": {
            "standoff": 15
           },
           "zerolinecolor": "white",
           "zerolinewidth": 2
          },
          "yaxis": {
           "automargin": true,
           "gridcolor": "white",
           "linecolor": "white",
           "ticks": "",
           "title": {
            "standoff": 15
           },
           "zerolinecolor": "white",
           "zerolinewidth": 2
          }
         }
        },
        "title": {
         "text": "Difference of uncertainty between Females and Males over years (2015 to 2020)",
         "x": 0.5
        }
       }
      },
      "text/html": [
       "<div>                            <div id=\"5cab5b18-89e0-4da3-a0b5-dd97676b9000\" class=\"plotly-graph-div\" style=\"height:525px; width:100%;\"></div>            <script type=\"text/javascript\">                require([\"plotly\"], function(Plotly) {                    window.PLOTLYENV=window.PLOTLYENV || {};                                    if (document.getElementById(\"5cab5b18-89e0-4da3-a0b5-dd97676b9000\")) {                    Plotly.newPlot(                        \"5cab5b18-89e0-4da3-a0b5-dd97676b9000\",                        [{\"colorscale\":[[0.0,\"#000000\"],[0.2,\"#FF3637\"],[0.4,\"#FF6D6E\"],[0.6,\"#FEA3A5\"],[0.8,\"#FEDADC\"],[1.0,\"#FEF5F7\"]],\"locationmode\":\"country names\",\"locations\":[\"Afghanistan\",\"Africa\",\"Albania\",\"Algeria\",\"Algerian Arabic\",\"American Samoa\",\"Americans\",\"Andorra\",\"Angola\",\"Antigua and Barbuda\",\"Argentina\",\"Armenia\",\"Armenian Soviet Socialist Republic\",\"Australasia at the Olympics\",\"Australia\",\"Australians\",\"Austria\",\"Austria-Hungary\",\"Austrians\",\"Azerbaijan\",\"Ba'athist Iraq\",\"Bahrain\",\"Bangladesh\",\"Barbados\",\"Belarus\",\"Belgium\",\"Belize\",\"Benin\",\"Bermuda\",\"Bhutan\",\"Bolivia\",\"Bosnia and Herzegovina\",\"Botswana\",\"Brazil\",\"Brazilians\",\"British Hong Kong\",\"British India\",\"British National (Overseas)\",\"British Virgin Islands\",\"Brunei\",\"Bulgaria\",\"Burkina Faso\",\"Burundi\",\"Cambodia\",\"Cameroon\",\"Canada\",\"Canada\\u2013United States border\",\"Canadia\",\"Canadian French\",\"Canadians\",\"Cape Verde\",\"Cayman Islands\",\"Central African Republic\",\"Chad\",\"Cherokee\",\"Chile\",\"China\",\"Colombia\",\"Colonial Nigeria\",\"Colony and Protectorate of Nigeria\",\"Cook Islands\",\"Costa Rica\",\"Croatia\",\"Cuba\",\"Cyprus\",\"Czech Republic\",\"Czechoslovak Republic\",\"Czechoslovakia\",\"Democratic Republic of the Congo\",\"Denmark\",\"Djibouti\",\"Dominica\",\"Dominican Republic\",\"East Germany\",\"East Timor\",\"Eastern Han\",\"Ecuador\",\"Egypt\",\"El Salvador\",\"Empire of Japan\",\"England\",\"English Wikipedia\",\"English people\",\"Equatorial Guinea\",\"Eritrea\",\"Estonia\",\"Eswatini\",\"Ethiopia\",\"Faroe Islands\",\"Federal People's Republic of Yugoslavia\",\"Federal Republic of Yugoslavia\",\"Federated States of Micronesia\",\"Federation of Rhodesia and Nyasaland\",\"Fiji\",\"Finland\",\"First Czechoslovak Republic\",\"Flor\",\"France\",\"Gabon\",\"Georgia\",\"Germany\",\"Ghana\",\"Gibraltar\",\"Great Britain\",\"Greece\",\"Greenland\",\"Grenada\",\"Guam\",\"Guatemala\",\"Guernsey\",\"Guinea\",\"Guinea-Bissau\",\"Guyana\",\"Haiti\",\"Han dynasty\",\"Honduras\",\"Hong Kong\",\"Hungary\",\"Iceland\",\"Imperial State of Iran\",\"India\",\"Indians\",\"Indonesia\",\"Iran\",\"Iraq\",\"Iraqi Republic (1958\\u201368)\",\"Ireland\",\"Irish Free State\",\"Irish Republic\",\"Irish people\",\"Isle of Man\",\"Israel\",\"Italian\",\"Italy\",\"Ivory Coast\",\"Jamaica\",\"Japan\",\"Japanese\",\"Jordan\",\"Jozef Isra\\u00ebls\",\"Kazakhstan\",\"Kenya\",\"Kingdom of Afghanistan\",\"Kingdom of Egypt\",\"Kingdom of England\",\"Kingdom of Iraq\",\"Kingdom of Italy\",\"Kingdom of Romania\",\"Kingdom of Scotland\",\"Kingdom of Yugoslavia\",\"Kingdom of the Netherlands\",\"Kiribati\",\"Kosovo\",\"Kurdistan\",\"Kuwait\",\"Kyrgyzstan\",\"Laos\",\"Latvia\",\"Lebanon\",\"Lesotho\",\"Liberia\",\"Liberland\",\"Libya\",\"Liechtenstein\",\"Lithuania\",\"Luxembourg\",\"Macau\",\"Madagascar\",\"Makhmalbaf\",\"Malawi\",\"Malaysia\",\"Malaysians\",\"Maldives\",\"Mali\",\"Malta\",\"Mandatory Palestine\",\"Marshall Islands\",\"Mauritania\",\"Mauritius\",\"Mexicali\",\"Mexico\",\"Mexico City\",\"Ming dynasty\",\"Moldova\",\"Monaco\",\"Mongolia\",\"Montenegro\",\"Morocco\",\"Mozambique\",\"Myanmar\",\"Namibia\",\"Nauru\",\"Nelson\",\"Nepal\",\"New Zealand\",\"Nicaragua\",\"Niger\",\"Nigeria\",\"Niue\",\"North Korea\",\"North Macedonia\",\"Northern Ireland\",\"Northern Mariana Islands\",\"Norway\",\"Oman\",\"Pakistan\",\"Pakistanis\",\"Palau\",\"Palestine\",\"Palestinian National Authority\",\"Panama\",\"Papua New Guinea\",\"Paraguay\",\"Patiala State\",\"People's Republic of Bulgaria\",\"People's Republic of China\",\"Persian\",\"Peru\",\"Peruana\",\"Philippines\",\"Pitcairn Islands\",\"Poland\",\"Poles\",\"Polish People's Republic\",\"Portugal\",\"Puerto Rico\",\"Qatar\",\"Qin (state)\",\"Qin dynasty\",\"Qing dynasty\",\"Republic of China (1912\\u20131949)\",\"Republic of Egypt (1953\\u20131958)\",\"Republic of the Congo\",\"Rhodesia\",\"Romania\",\"Russia\",\"Russian Empire\",\"Russian Socialist Federative Soviet Republic (1918-1923)\",\"Rwanda\",\"Sahrawi Arab Democratic Republic\",\"Saint Kitts and Nevis\",\"Saint Lucia\",\"Saint Vincent and the Grenadines\",\"Samoa\",\"San Marino\",\"Saudi Arabia\",\"Scotland\",\"Second Polish Republic\",\"Second Syrian Republic\",\"Senegal\",\"Serbia\",\"Serbia and Montenegro\",\"Serbs\",\"Seychelles\",\"Sierra Leone\",\"Singapore\",\"Slovakia\",\"Slovenia\",\"Socialist Federal Republic of Yugoslavia\",\"Solomon Islands\",\"Somalia\",\"Song dynasty\",\"South Africa\",\"South Korea\",\"South Sudan\",\"Southern Rhodesia\",\"Soviet Union\",\"Spain\",\"Sri Lanka\",\"State of Mexico\",\"State of Palestine\",\"Sudan\",\"Suriname\",\"Sweden\",\"Switzerland\",\"Syria\",\"Syrian\",\"S\\u00e3o Tom\\u00e9 and Pr\\u00edncipe\",\"Taiwan\",\"Taiwan under Japanese rule\",\"Tajikistan\",\"Tang Empire\",\"Tanzania\",\"Thailand\",\"The Bahamas\",\"The Gambia\",\"The Netherlands\",\"Tibet\",\"Togo\",\"Tonga\",\"Trinidad and Tobago\",\"Tunisia\",\"Turkey\",\"Turkish Republic of Northern Cyprus\",\"Tuvalu\",\"Uganda\",\"Ukraine\",\"Ukrainian Soviet Socialist Republic\",\"Ukrainians\",\"Union of South Africa\",\"United Arab Emirates\",\"United Arab Republic\",\"United Kingdom\",\"United Kingdom of Great Britain and Ireland\",\"United States Virgin Islands\",\"United States of America\",\"Uruguay\",\"Uzbekistan\",\"Vanuatu\",\"Venezuela\",\"Vietnam\",\"Virgin Islands\",\"Wales\",\"Weimar Republic\",\"Welsh people\",\"West Germany\",\"Western Jin dynasty\",\"Western Sahara\",\"Yemen\",\"Yemen Arab Republic\",\"Yuan Empire\",\"Yugoslavia\",\"Zaire\",\"Zambia\",\"Zimbabwe\",\"ancient Rome\",\"\\u0641\\u0644\\u0633\\u0637\\u064a\\u0646.\"],\"z\":[-0.0502152080344333,null,0.07471264367816088,0.12677165354330708,null,null,null,-0.19999999999999996,0.06432748538011696,0.18095238095238092,0.03949925261584453,-0.14583333333333334,null,null,-0.007305245210906974,0.10130718954248369,-0.030691828604559823,null,null,null,null,0.11153846153846159,0.08542471042471045,-0.03815028901734108,-0.08049535603715169,0.05661953344072551,-0.2908704883227176,null,0.10000000000000003,null,0.02277039848197343,0.1627329192546584,0.2577777777777778,0.017894769701415625,null,0.13611111111111113,0.05334374186833202,null,null,null,-0.08464342674868991,0.2222222222222222,0.08717948717948715,0.023809523809523808,-0.04411764705882354,0.004002584094313699,null,null,null,0.07267441860465118,null,null,0.05194805194805194,null,null,-0.045291800930898685,0.2901785714285714,-0.08189950350967304,null,null,null,0.03985813207228506,0.11028037383177575,0.04472415173830538,0.07981220657276994,0.09731670445956159,null,0.017595307917888603,null,-0.002749146041828965,null,null,0.014766839378238361,-0.13517665130568357,null,null,-0.124765478424015,-0.02723453570911194,0.21666666666666667,null,-0.08415874941041707,null,null,null,0.16666666666666669,0.12931726907630525,null,0.09669046073977935,-0.2394957983193277,null,null,null,null,-0.030882352941176472,0.07550784034212399,null,null,-0.008579344404185063,null,-0.08333333333333331,0.004106038668597156,-0.01041805691854758,null,-0.18566308243727597,0.10880972107152717,null,-0.02525252525252525,0.2,0.005970149253731349,null,null,null,-0.01861042183622824,-0.07773109243697479,null,-0.04719101123595504,-0.06720959761810938,-0.05108811040339703,0.07517182130584193,null,0.019503891827960418,-0.0625,-0.00310600052868093,-0.014660462877542024,-0.011494252873563232,null,0.014340025258953726,null,null,null,null,0.04150142677515378,null,6.868131868131844e-05,-0.056410256410256376,-0.013187774094678972,-0.030381944444444475,null,-0.05818181818181817,null,0.14423076923076922,-0.022164268286610556,null,null,0.10430107526881721,null,null,null,null,null,-0.03191647192342689,null,null,null,0.09420289855072461,null,null,-0.04565217391304349,-0.08938263229308008,null,0.17767857142857144,null,null,null,-0.17221135029354206,-0.010194174757281571,null,null,null,0.13941480206540446,0.005719815346282964,null,-0.014150943396226412,0.15051020408163265,0.0066208301502418965,null,null,null,null,null,0.013527191321639931,null,null,0.0222222222222222,null,null,null,0.018846153846153846,0.125,0.06339899937460913,-0.1853448275862069,null,null,0.0060383613544873205,0.013072450122993462,0.22916666666666663,null,0.0839923605418883,null,null,0.49666666666666665,-0.007375776397515521,null,0.017282035370772553,null,-0.01931601912057651,null,null,null,null,0.07050645481628598,null,null,null,null,0.027306967984934094,null,-0.044186046511627886,null,0.0679941288273071,null,0.046277402325102523,null,null,-0.048726665473847436,0.043650793650793634,null,null,null,null,null,null,null,null,0.004804138950480374,0.08230341053823292,null,null,-0.2365097588978186,null,null,-0.23598435462842243,null,null,null,0.0898450946643718,-0.01372793816729434,null,null,null,0.4298245614035088,-0.021739130434782594,null,0.3205128205128205,0.06934032983508245,0.014522737414303655,null,0.11969696969696972,null,null,0.1453839516824849,null,0.015536353782253265,-0.029798761609907132,null,null,-0.04523054880166727,-0.008377923107411811,0.06666666666666671,null,-0.09530346112363958,null,null,-0.0036574240686960136,-0.01187918227024376,0.11701546860782527,null,null,-0.004776021080368897,null,null,null,0.10617059891107078,0.13970588235294118,-0.13522012578616352,0.0067542213883677316,null,null,null,null,-0.0891829689298044,0.14678362573099416,-0.09595771144278606,null,null,0.07804459691252147,-0.045157456922162775,null,null,null,0.06715806715806716,null,0.0015589442985489144,0.1504815409309791,null,-0.001941197872777467,0.06100628930817609,-0.27777777777777785,null,0.02710792721891503,-0.0625,null,-0.024386972751860914,null,null,null,null,null,null,null,null,null,null,0.09895833333333331,0.022197819436818533,null,null],\"type\":\"choropleth\"},{\"colorscale\":[[0.0,\"#000000\"],[0.2,\"#FF3637\"],[0.4,\"#FF6D6E\"],[0.6,\"#FEA3A5\"],[0.8,\"#FEDADC\"],[1.0,\"#FEF5F7\"]],\"locationmode\":\"country names\",\"locations\":[\"Afghanistan\",\"Albania\",\"Algeria\",\"Algerian Arabic\",\"American Samoa\",\"Americans\",\"Andorra\",\"Angola\",\"Antigua and Barbuda\",\"Argentina\",\"Armenia\",\"Australasia at the Olympics\",\"Australia\",\"Australians\",\"Austria\",\"Azerbaijan\",\"Bahrain\",\"Bangladesh\",\"Bangladeshis\",\"Barbados\",\"Belarus\",\"Belgium\",\"Belize\",\"Benin\",\"Bermuda\",\"Bhutan\",\"Bolivia\",\"Bosnia and Herzegovina\",\"Botswana\",\"Brazil\",\"British Hong Kong\",\"British India\",\"British National (Overseas)\",\"British Virgin Islands\",\"Brunei\",\"Bulgaria\",\"Burkina Faso\",\"Burundi\",\"Cambodia\",\"Cameroon\",\"Canada\",\"Canada\\u2013United States border\",\"Canadia\",\"Canadian French\",\"Canadians\",\"Cape Verde\",\"Cayman Islands\",\"Chad\",\"Cherokee\",\"Chile\",\"China\",\"Colombia\",\"Colonial Nigeria\",\"Colony and Protectorate of Nigeria\",\"Comoros\",\"Cook Islands\",\"Costa Rica\",\"Croatia\",\"Cuba\",\"Cyprus\",\"Czech Republic\",\"Czechoslovak Republic\",\"Czechoslovak Socialist Republic\",\"Czechoslovakia\",\"Democratic Republic of the Congo\",\"Denmark\",\"Djibouti\",\"Dominica\",\"Dominican Republic\",\"East Germany\",\"East Timor\",\"Eastern Wu\",\"Ecuador\",\"Egypt\",\"El Salvador\",\"England\",\"English\",\"English people\",\"Equatorial Guinea\",\"Eritrea\",\"Estonia\",\"Eswatini\",\"Ethiopia\",\"Faroe Islands\",\"Federal People's Republic of Yugoslavia\",\"Federal Republic of Yugoslavia\",\"Federated States of Micronesia\",\"Federation of Rhodesia and Nyasaland\",\"Fiji\",\"Finland\",\"First Czechoslovak Republic\",\"First Republic of Austria\",\"Flor\",\"France\",\"Gabon\",\"Georgia\",\"German Empire\",\"German Reich\",\"Germany\",\"Ghana\",\"Gibraltar\",\"Glaspy\",\"Great Britain\",\"Greece\",\"Greenland\",\"Grenada\",\"Guam\",\"Guatemala\",\"Guernsey\",\"Guinea\",\"Guinea-Bissau\",\"Guyana\",\"Haiti\",\"Han dynasty\",\"Honduras\",\"Hong Kong\",\"Hungary\",\"Iceland\",\"Imperial State of Iran\",\"India\",\"Indians\",\"Indonesia\",\"Iran\",\"Iraq\",\"Ireland\",\"Irish Free State\",\"Irish Republic\",\"Isle of Man\",\"Israel\",\"Italy\",\"Ivory Coast\",\"Jamaica\",\"Japan\",\"Japanese\",\"Jordan\",\"Jozef Isra\\u00ebls\",\"Kazakhstan\",\"Kenya\",\"Kingdom of Afghanistan\",\"Kingdom of Egypt\",\"Kingdom of England\",\"Kingdom of Hungary\",\"Kingdom of Italy\",\"Kingdom of Libya\",\"Kingdom of Scotland\",\"Kingdom of the Netherlands\",\"Kiribati\",\"Kosovo\",\"Kurdistan\",\"Kuwait\",\"Kyrgyzstan\",\"Laos\",\"Later Tang Dynasty\",\"Latin Americans\",\"Latvia\",\"Lebanon\",\"Lesotho\",\"Liberia\",\"Libya\",\"Liechtenstein\",\"Lithuania\",\"Luxembourg\",\"Macau\",\"Madagascar\",\"Malawi\",\"Malaysia\",\"Maldives\",\"Mali\",\"Malta\",\"Mandatory Palestine\",\"Marshall Islands\",\"Mauritania\",\"Mauritius\",\"Mexico\",\"Mexico City\",\"Min\",\"Ming dynasty\",\"Moldova\",\"Monaco\",\"Mongolia\",\"Montserrat\",\"Morocco\",\"Mozambique\",\"Myanmar\",\"Namibia\",\"Nauru\",\"Nepal\",\"Nepali\",\"Netherlands\",\"New Zealand\",\"New Zealanders\",\"Nicaragua\",\"Niger\",\"Nigeria\",\"Norfolk Island\",\"North Korea\",\"North Macedonia\",\"Northern Ireland\",\"Northern Mariana Islands\",\"Norway\",\"Oman\",\"Pakistan\",\"Pakistanis\",\"Palau\",\"Palestine\",\"Panama\",\"Papua New Guinea\",\"Paraguay\",\"Patiala State\",\"People's Republic of Bulgaria\",\"People's Republic of China\",\"Persian\",\"Peru\",\"Peruvian\",\"Philippines\",\"Poland\",\"Poles\",\"Polish People's Republic\",\"Port Colborne\",\"Portugal\",\"Puerto Rico\",\"Qatar\",\"Qin (state)\",\"Qing dynasty\",\"Republic of China (1912\\u20131949)\",\"Republic of Venice\",\"Rhodesia\",\"Romania\",\"Russia\",\"Russian Empire\",\"Russian Socialist Federative Soviet Republic (1918-1923)\",\"Rwanda\",\"Sahrawi Arab Democratic Republic\",\"Saint Kitts and Nevis\",\"Saint Lucia\",\"Saint Vincent and the Grenadines\",\"Samoa\",\"San Marino\",\"Saudi Arabia\",\"Scotland\",\"Second Syrian Republic\",\"Senegal\",\"Serbia\",\"Serbia and Montenegro\",\"Seychelles\",\"Sierra Leone\",\"Singapore\",\"Siria\",\"Slovakia\",\"Slovenia\",\"Socialist Federal Republic of Yugoslavia\",\"Solomon Islands\",\"Somalia\",\"Song dynasty\",\"South Africa\",\"South Korea\",\"South Sudan\",\"Southern Rhodesia\",\"Southern Tang\",\"Soviet Union\",\"Spain\",\"Sri Lanka\",\"State of Mexico\",\"State of Palestine\",\"Sudan\",\"Sui dynasty\",\"Suriname\",\"Sweden\",\"Switzerland\",\"Syria\",\"Syrian\",\"S\\u00e3o Tom\\u00e9 and Pr\\u00edncipe\",\"Taiwan\",\"Taiwan under Japanese rule\",\"Tajikistan\",\"Tang Empire\",\"Tanzania\",\"Temuco\",\"Thailand\",\"The Bahamas\",\"The Gambia\",\"The Netherlands\",\"Tibet\",\"Togo\",\"Tonga\",\"Trinidad and Tobago\",\"Tunisia\",\"Turkey\",\"Turkish Republic of Northern Cyprus\",\"Turkmenistan\",\"Tuvalu\",\"Uganda\",\"Ukraine\",\"Ukrainian Soviet Socialist Republic\",\"Union of South Africa\",\"United Arab Emirates\",\"United Kingdom\",\"United Kingdom of Great Britain and Ireland\",\"United States Virgin Islands\",\"United States of America\",\"Uruguay\",\"Uzbekistan\",\"Vanuatu\",\"Vatican City\",\"Venezuela\",\"Vietnam\",\"Virgin Islands\",\"Wales\",\"Weimar Republic\",\"West Germany\",\"Western Han\",\"Yemen\",\"Yuan Empire\",\"Yugoslavia\",\"Yuta\",\"Zambia\",\"Zimbabwe\",\"ancient Rome\",\"\\u0627\\u0644\\u062c\\u0645\\u0647\\u0648\\u0631\\u064a\\u0629 \\u0627\\u0644\\u0639\\u0631\\u0628\\u064a\\u0629 \\u0627\\u0644\\u0633\\u0648\\u0631\\u064a\\u0629\",\"\\u0641\\u0644\\u0633\\u0637\\u064a\\u0646.\"],\"z\":[0.0016064257028112205,null,-0.0896057347670251,null,null,null,null,-0.027272727272727282,null,-0.005974804553003588,null,null,-0.0031653365905595643,0.12745098039215688,-0.057169117647058815,null,-0.1076555023923445,0.0048902821316614276,null,-0.1669254658385093,0.14411764705882354,-0.03038853546754222,-0.20394736842105265,null,null,null,-0.12030075187969924,null,0.36111111111111116,-0.018774390243902428,0.10047846889952156,0.11337790730898906,null,null,null,0.08039215686274512,null,0.20833333333333331,null,null,0.006188451555840246,null,null,null,null,-0.06666666666666671,null,null,null,-0.016301703163017045,-0.060185185185185175,-0.04433323520753607,null,null,null,null,0.1097859327217125,0.10256410256410253,-0.06058339566192969,-0.07017543859649122,0.11853832442067738,null,null,0.14987244897959184,null,0.017909197425694412,null,-0.006342494714587754,0.05732177263969171,-0.027956989247311825,null,null,null,-0.04454804454804456,null,-0.07251786625829507,null,null,null,null,-0.12424242424242427,null,0.05990133897110639,0.047619047619047616,null,null,null,null,0.36666666666666664,0.09670710571923746,null,null,null,-0.004854690270353401,null,null,null,null,0.0028837330050972554,0.048646106295773706,null,null,-0.016666666666666663,0.0007341544987356508,null,0.21250000000000002,null,-0.10038610038610041,null,null,null,-0.19713261648745523,0.13556338028169015,null,0.1421188630490956,-0.09551908537709755,0.1659431728492502,0.09282700421940926,null,0.0035245715379187414,null,0.04127856062415414,0.03912893190459732,0.456043956043956,0.007697888384465723,null,null,null,0.027754853841810312,-0.0019959179288860374,null,-0.02119703282186769,-0.05117851500789891,null,0.06959706959706963,null,0.019230769230769218,-0.024167806657546753,null,null,null,null,null,null,null,0.032743362831858414,null,null,null,0.01470588235294118,null,null,null,null,0.010526315789473661,-0.016183035714285726,null,0.003105590062111807,null,null,0.1097560975609756,-0.07138694638694637,null,null,-0.17237862097103226,0.0027188286820557517,null,null,-0.00721500721500723,null,null,null,0.08333333333333334,-0.04732624727062995,null,null,null,null,null,null,null,0.2,null,-0.036747273589378876,0.16666666666666669,null,0.03243540406816936,null,null,7.609369710509517e-05,null,0.2181818181818182,null,-0.028829993535875897,null,null,null,-0.07406909530850919,null,0.0278301639687778,null,0.017282445075360586,null,null,null,-0.15057113187954307,null,0.0761904761904762,null,null,0.01843852473440108,null,-0.21742424242424246,null,0.03925096583055526,-0.10232843137254904,null,null,null,0.07738095238095238,-0.07472096787935589,null,null,null,null,null,null,-0.09210526315789475,0.029656862745098045,null,null,0.17567567567567566,null,null,-0.03030303030303033,null,null,null,0.26164874551971323,0.07041804063397511,null,0.14428312159709616,0.2035714285714286,null,0.07352941176470587,0.1540616246498599,-0.01983273596176821,null,null,-0.1075268817204301,null,null,0.06746031746031744,null,0.01700715205694997,0.07182141701714656,null,null,null,-0.048188679658658945,-0.05017231736626507,0.2630958102145135,null,0.06524122807017543,null,null,0.06060606060606061,-0.01008285913946294,0.019802088101309956,0.09893575088687423,null,null,-0.05488728503965068,null,null,null,-0.09936362621413419,null,-0.0688601645123384,-0.10531135531135533,0.07823129251700678,null,null,null,null,-0.1323024054982818,0.12145748987854255,-0.0061108686163247605,null,null,null,-0.016442048517520236,0.0032092426187419476,null,null,-0.05802469135802468,0.0015806553569969184,0.03384367445608383,null,-0.00862696839691568,0.03494143339289263,null,null,null,-0.017436791630340037,0.05747126436781608,null,-0.06653620352250489,null,null,null,null,null,null,null,0.12,0.05092684475846465,null,null,null],\"type\":\"choropleth\"},{\"colorscale\":[[0.0,\"#000000\"],[0.2,\"#FF3637\"],[0.4,\"#FF6D6E\"],[0.6,\"#FEA3A5\"],[0.8,\"#FEDADC\"],[1.0,\"#FEF5F7\"]],\"locationmode\":\"country names\",\"locations\":[\"Afghanistan\",\"Africa\",\"Albania\",\"Algeria\",\"Algerian Arabic\",\"American Samoa\",\"Americans\",\"Ancient Egypt\",\"Andorra\",\"Angola\",\"Antigua and Barbuda\",\"Argentina\",\"Armenia\",\"Armenian Soviet Socialist Republic\",\"Australasia at the Olympics\",\"Australia\",\"Australians\",\"Austria\",\"Austrians\",\"Azerbaijan\",\"Bahrain\",\"Bangladesh\",\"Bangladeshis\",\"Barbados\",\"Belarus\",\"Belgium\",\"Belize\",\"Benin\",\"Bermuda\",\"Bhutan\",\"Bolivia\",\"Bosnia and Herzegovina\",\"Bosnians\",\"Botswana\",\"Brazil\",\"Brazilians\",\"British Hong Kong\",\"British India\",\"British National (Overseas)\",\"British Virgin Islands\",\"Britons\",\"Brunei\",\"Bulgaria\",\"Burkina Faso\",\"Burundi\",\"Cambodia\",\"Cameroon\",\"Canada\",\"Canadia\",\"Canadian French\",\"Canadians\",\"Cape Verde\",\"Cayman Islands\",\"Central African Republic\",\"Chad\",\"Cherokee\",\"Chile\",\"China\",\"Colombia\",\"Colonial Nigeria\",\"Colony and Protectorate of Nigeria\",\"Comoros\",\"Cook Islands\",\"Costa Rica\",\"Croatia\",\"Cuba\",\"Cyprus\",\"Czech Republic\",\"Czechoslovak Republic\",\"Czechoslovak Socialist Republic\",\"Czechoslovakia\",\"Democratic Republic of the Congo\",\"Denmark\",\"Djibouti\",\"Dominica\",\"Dominican Republic\",\"East Germany\",\"East Timor\",\"Eastern Han\",\"Eastern Wu\",\"Ecuador\",\"Egypt\",\"El Salvador\",\"Empire of Japan\",\"England\",\"English\",\"English Wikipedia\",\"English people\",\"Equatorial Guinea\",\"Eritrea\",\"Estonia\",\"Eswatini\",\"Ethiopia\",\"Faroe Islands\",\"Federal People's Republic of Yugoslavia\",\"Federal Republic of Yugoslavia\",\"Federated States of Micronesia\",\"Federation of Rhodesia and Nyasaland\",\"Fiji\",\"Finland\",\"First Czechoslovak Republic\",\"Flor\",\"France\",\"Free City of Danzig\",\"French\",\"Gabon\",\"Georgia\",\"German Empire\",\"Germany\",\"Ghana\",\"Gibraltar\",\"Glaspy\",\"Great Britain\",\"Greece\",\"Greenland\",\"Grenada\",\"Guam\",\"Guatemala\",\"Guinea\",\"Guinea-Bissau\",\"Guyana\",\"Haiti\",\"Honduras\",\"Hong Kong\",\"Hongkongers\",\"Hungary\",\"Iceland\",\"Imperial State of Iran\",\"India\",\"Indians\",\"Indonesia\",\"Iran\",\"Iraq\",\"Iraqi Republic (1958\\u201368)\",\"Ireland\",\"Irish Free State\",\"Irish Republic\",\"Irish people\",\"Isle of Man\",\"Israel\",\"Italy\",\"Ivory Coast\",\"Jamaica\",\"Japan\",\"Jordan\",\"Joseon\",\"Jozef Isra\\u00ebls\",\"Kazakhstan\",\"Kenya\",\"Kingdom of Afghanistan\",\"Kingdom of Aragon\",\"Kingdom of Egypt\",\"Kingdom of England\",\"Kingdom of France\",\"Kingdom of Iraq\",\"Kingdom of Italy\",\"Kingdom of Libya\",\"Kingdom of Portugal\",\"Kingdom of Scotland\",\"Kingdom of Sikkim\",\"Kingdom of the Netherlands\",\"Kiribati\",\"Korea\",\"Kosovo\",\"Kuwait\",\"Kyrgyzstan\",\"Laos\",\"Latin Americans\",\"Latvia\",\"Lebanon\",\"Lesotho\",\"Liberia\",\"Libya\",\"Liechtenstein\",\"Lithuania\",\"Lithuanian Soviet Socialist Republic\",\"Luxembourg\",\"Macau\",\"Madagascar\",\"Malawi\",\"Malaysia\",\"Malaysians\",\"Maldives\",\"Mali\",\"Malta\",\"Marshall Islands\",\"Mauritania\",\"Mauritius\",\"Mexico\",\"Mexico City\",\"Ming dynasty\",\"Moldova\",\"Monaco\",\"Mongolia\",\"Mongolian People's Republic\",\"Montenegro\",\"Morocco\",\"Mozambique\",\"Myanmar\",\"Namibia\",\"Nauru\",\"Nepal\",\"Nepalis\",\"Netherlands\",\"New Zealand\",\"Nicaragua\",\"Niger\",\"Nigeria\",\"Norfolk Island\",\"North Korea\",\"North Macedonia\",\"Northern Ireland\",\"Northern Mariana Islands\",\"Norway\",\"Oman\",\"Pakistan\",\"Pakistanis\",\"Palau\",\"Palestine\",\"Palestinian\",\"Palestinian National Authority\",\"Panama\",\"Papua New Guinea\",\"Paraguay\",\"Patiala State\",\"People's Republic of Bulgaria\",\"People's Republic of China\",\"People's Socialist Republic of Albania\",\"Persian\",\"Peru\",\"Peruvian\",\"Philippines\",\"Poland\",\"Poles\",\"Portugal\",\"Puerto Rico\",\"Qatar\",\"Qin (state)\",\"Qing dynasty\",\"Republic of Abkhazia\",\"Republic of China (1912\\u20131949)\",\"Republic of Egypt (1953\\u20131958)\",\"Republic of Venice\",\"Republic of the Congo\",\"Rhodesia\",\"Romania\",\"Russia\",\"Russian Empire\",\"Russian Socialist Federative Soviet Republic (1918-1923)\",\"Rwanda\",\"Saar Protectorate\",\"Saint Kitts and Nevis\",\"Saint Lucia\",\"Saint Vincent and the Grenadines\",\"Samoa\",\"San Marino\",\"Saudi Arabia\",\"Scotland\",\"Second Polish Republic\",\"Second Syrian Republic\",\"Senegal\",\"Serbia\",\"Serbia and Montenegro\",\"Seychelles\",\"Sierra Leone\",\"Singapore\",\"Siria\",\"Slovakia\",\"Slovenia\",\"Socialist Federal Republic of Yugoslavia\",\"Solomon Islands\",\"Somalia\",\"Somaliland\",\"Song dynasty\",\"South Africa\",\"South Korea\",\"South Sudan\",\"South Vietnam\",\"Southern Rhodesia\",\"Soviet Union\",\"Spain\",\"Sri Lanka\",\"State of Mexico\",\"State of Palestine\",\"Sudan\",\"Suriname\",\"Sweden\",\"Switzerland\",\"Syria\",\"S\\u00e3o Tom\\u00e9 and Pr\\u00edncipe\",\"Taiwan\",\"Taiwan under Japanese rule\",\"Tajikistan\",\"Tang Empire\",\"Tanzania\",\"Temuco\",\"Thailand\",\"The Bahamas\",\"The Gambia\",\"The Netherlands\",\"Tibet\",\"Togo\",\"Tonga\",\"Transnistria\",\"Trinidad and Tobago\",\"Tunis\",\"Tunisia\",\"Turkey\",\"Turkish Republic of Northern Cyprus\",\"Turkmenistan\",\"Tuvalu\",\"Uganda\",\"Ukraine\",\"Ukrainian Soviet Socialist Republic\",\"United Arab Emirates\",\"United Kingdom\",\"United Kingdom of Great Britain and Ireland\",\"United States Virgin Islands\",\"United States of America\",\"Uruguay\",\"Uzbekistan\",\"Vanuatu\",\"Vatican City\",\"Venezuela\",\"Vietnam\",\"Virgin Islands\",\"Wales\",\"Weimar Republic\",\"Welsh people\",\"West Germany\",\"West Indies\",\"Western Han\",\"Western Jin dynasty\",\"Western Zhou Dynasty\",\"Yemen\",\"Yuan Empire\",\"Yugoslavia\",\"Zambia\",\"Zimbabwe\",\"ancient Rome\",\"\\u0641\\u0644\\u0633\\u0637\\u064a\\u0646.\"],\"z\":[0.03301491536785653,null,null,-0.04400185270958776,null,null,null,null,-0.08750000000000002,0.12,0.03389830508474573,0.021921341070277267,null,null,null,0.001447475208460225,0.3076923076923077,0.01480324653287085,null,null,-0.016666666666666663,-0.02182064048189808,null,0.17698561601000629,0.01617250673854448,0.018983557548579943,-0.10426382411725521,0.16666666666666669,-0.05232558139534882,0.30434782608695654,0.1606837606837607,null,null,0.23934837092731828,0.04288381838179639,null,-0.06857142857142856,-0.09626814623394386,null,-0.09333333333333335,null,null,-0.00741176470588234,0.1333333333333333,0.20531400966183572,-0.03550973654066436,-0.029761904761904767,0.004404928347724046,null,null,0.18903318903318905,null,null,null,null,null,-0.08657260773586717,-0.1111111111111111,-0.02192833179365003,null,null,null,null,0.08139194139194136,0.04803149606299212,0.07453386785673763,0.19868637110016418,-0.017272727272727273,null,null,0.07420042643923241,null,0.00946401218335241,null,-0.12393822393822393,0.03020565552699228,null,null,null,null,-0.22193877551020408,0.10399156750159497,-0.10588235294117648,null,-0.005494383272161063,null,null,null,null,null,-0.025468164794007486,0.4920634920634921,0.17196969696969694,-0.04999999999999999,null,null,null,null,-0.044794188861985496,0.02446460230950348,null,null,-0.0239180487271225,null,null,null,-0.07723577235772358,null,-0.022193590630428917,-0.020948234155781287,null,null,0.23232323232323232,0.02896650670360662,null,-0.14285714285714285,0.22432701894317048,0.01081730769230771,null,null,0.041666666666666685,0.0,0.1322981366459627,-0.03722950687796639,null,-0.15787504676393566,0.046029919447640955,null,0.027352212402829312,0.1274193548387097,0.047434645474851544,-0.021298388908713634,-0.03663003663003661,null,-0.013189313517065149,null,null,null,null,0.026441747870319277,-0.015537650482743415,null,-0.03402548104866293,-0.04824284620636857,-0.105982905982906,null,null,-0.15909090909090912,-0.015393167902030325,null,null,null,-0.10826210826210825,null,null,null,null,null,null,null,-0.015926305598268686,null,null,null,-0.09166666666666667,null,null,null,-0.06591070163004964,0.03842222513432056,null,0.013675213675213654,null,null,0.2394957983193277,null,0.028715296679368507,null,null,0.031073854603266393,-0.005461790904828845,null,null,0.015151515151515138,0.03552526062550121,0.04999999999999999,null,0.09743589743589745,-0.016757776910061195,null,null,-0.00840336134453784,null,null,null,null,0.06589147286821706,0.11904761904761904,0.11793372319688111,-0.04363636363636364,null,0.17244224422442245,null,null,0.006299622037702013,-0.08270676691729323,null,0.0021505276743425394,null,null,null,-0.07569974554707382,null,0.009216869975270214,null,0.04792728910549199,null,null,null,null,null,0.024092409240924095,0.36507936507936506,0.057040998217468775,null,null,-0.007829917191174374,null,null,-0.07800224466891134,null,0.039938314456459734,-0.08431643711898851,null,0.05670946421799661,0.07106409345215314,null,null,null,null,null,null,null,null,null,0.025500140884756273,0.017464895285215276,null,null,-0.10446877774489496,null,null,null,-0.0892857142857143,null,null,-0.042230818826563515,0.0033257964564715747,null,-0.4666666666666666,-0.010344827586206917,0.011363636363636354,null,null,0.17073170731707316,-0.02050458502071406,null,0.5172413793103449,-0.09026915113871634,null,null,0.11666666666666667,null,null,0.007867062596897623,0.05698850574712641,0.20833333333333331,null,null,0.011310655101781142,-0.003041836957539068,0.01702258681739205,null,-0.0679245283018868,null,0.19047619047619047,-0.018920557771909097,0.024472964385378382,-0.023714036617262402,null,-0.0912424621068072,null,null,null,0.05387624466571839,null,-0.0935672514619883,0.04325955734406439,0.1833333333333333,null,null,-0.015151515151515166,null,null,-0.03397366195481452,null,0.08619650391802289,0.06184548508199961,null,null,null,0.023631008167090684,-0.04077680495322261,null,-0.06123737373737376,-0.00404599076367268,0.0986948694869487,null,-0.0036371293017806172,0.04617623034510926,null,null,null,-0.019553946545096984,0.05315614617940198,null,-0.0675438596491228,null,null,-0.39230769230769225,null,null,null,null,null,null,null,-0.11282051282051281,0.030467418595272466,null,null],\"type\":\"choropleth\"},{\"colorscale\":[[0.0,\"#000000\"],[0.2,\"#FF3637\"],[0.4,\"#FF6D6E\"],[0.6,\"#FEA3A5\"],[0.8,\"#FEDADC\"],[1.0,\"#FEF5F7\"]],\"locationmode\":\"country names\",\"locations\":[\"Afghanistan\",\"Albania\",\"Algeria\",\"Algerian Arabic\",\"American Samoa\",\"Americans\",\"Ancient Egypt\",\"Andorra\",\"Angola\",\"Antigua and Barbuda\",\"Argentina\",\"Armenia\",\"Aruba\",\"Australasia at the Olympics\",\"Australia\",\"Australians\",\"Austria\",\"Austrians\",\"Azerbaijan\",\"Bahrain\",\"Bangladesh\",\"Bangladeshis\",\"Barbados\",\"Belarus\",\"Belgium\",\"Belize\",\"Benin\",\"Bermuda\",\"Bhutan\",\"Bolivia\",\"Bosnia and Herzegovina\",\"Bosniaks\",\"Botswana\",\"Brazil\",\"Brazilians\",\"British Empire\",\"British Honduras\",\"British Hong Kong\",\"British India\",\"British National (Overseas)\",\"British Virgin Islands\",\"Britons\",\"Brunei\",\"Bulgaria\",\"Burkina Faso\",\"Burundi\",\"Byzantine Empire\",\"Cambodia\",\"Cameroon\",\"Canada\",\"Canada\\u2013United States border\",\"Canadia\",\"Canadian French\",\"Canadians\",\"Cape Verde\",\"Cayman Islands\",\"Central African Republic\",\"Chad\",\"Cherokee\",\"Chile\",\"China\",\"Colombia\",\"Colonial Nigeria\",\"Colony and Protectorate of Nigeria\",\"Comoros\",\"Cook Islands\",\"Costa Rica\",\"Croatia\",\"Cuba\",\"Cyprus\",\"Czech Republic\",\"Czechoslovak Republic\",\"Czechoslovakia\",\"Danish Realm\",\"Democratic Republic of the Congo\",\"Denmark\",\"Derry\",\"Djibouti\",\"Dominica\",\"Dominican Republic\",\"East Germany\",\"East Timor\",\"Eastern Han\",\"Eastern Wu\",\"Ecuador\",\"Egypt\",\"El Salvador\",\"Emirate of Dubai\",\"England\",\"English Wikipedia\",\"English people\",\"Equatorial Guinea\",\"Eritrea\",\"Estonia\",\"Eswatini\",\"Ethiopia\",\"Falkland Islands\",\"Faroe Islands\",\"Federal People's Republic of Yugoslavia\",\"Federal Republic of Yugoslavia\",\"Federated States of Micronesia\",\"Federation of Rhodesia and Nyasaland\",\"Fiji\",\"Finland\",\"First Czechoslovak Republic\",\"Flor\",\"France\",\"Gabon\",\"Georgia\",\"Germany\",\"Ghana\",\"Gibraltar\",\"Glaspy\",\"Great Britain\",\"Greece\",\"Greenland\",\"Grenada\",\"Guam\",\"Guatemala\",\"Guernsey\",\"Guinea\",\"Guinea-Bissau\",\"Guyana\",\"Haiti\",\"Honduras\",\"Hong Kong\",\"Hongkongers\",\"Hungary\",\"Iceland\",\"Imperial State of Iran\",\"India\",\"Indian\",\"Indians\",\"Indonesia\",\"Iran\",\"Iraq\",\"Iraqi Republic (1958\\u201368)\",\"Ireland\",\"Irish Free State\",\"Irish Republic\",\"Irish people\",\"Isle of Man\",\"Israel\",\"Italiana\",\"Italy\",\"Ivory Coast\",\"Jamaica\",\"Jammu and Kashmir\",\"Japan\",\"Japanese\",\"Jordan\",\"Jozef Isra\\u00ebls\",\"Kazakhstan\",\"Kenya\",\"Kenya Colony\",\"Kingdom of Afghanistan\",\"Kingdom of Egypt\",\"Kingdom of England\",\"Kingdom of Greece\",\"Kingdom of Hungary\",\"Kingdom of Iraq\",\"Kingdom of Italy\",\"Kingdom of Libya\",\"Kingdom of Romania\",\"Kingdom of Scotland\",\"Kingdom of Sikkim\",\"Kingdom of the Netherlands\",\"Kiribati\",\"Kosovo\",\"Kuwait\",\"Kyrgyzstan\",\"Laos\",\"Latin Americans\",\"Latvia\",\"Lebanon\",\"Lesotho\",\"Liberia\",\"Libya\",\"Liechtenstein\",\"Lithuania\",\"Lithuanian Soviet Socialist Republic\",\"Luxembourg\",\"Macau\",\"Madagascar\",\"Madrid\",\"Malawi\",\"Malaysia\",\"Malaysians\",\"Maldives\",\"Mali\",\"Malta\",\"Mandatory Palestine\",\"Marshall Islands\",\"Mauritania\",\"Mauritius\",\"Mexico\",\"Min\",\"Ming dynasty\",\"Moldova\",\"Monaco\",\"Mongolia\",\"Mongolian People's Republic\",\"Montenegro\",\"Montserrat\",\"Morocco\",\"Mozambique\",\"Myanmar\",\"Namibia\",\"Nauru\",\"Nazareth\",\"Nazi Germany\",\"Nepal\",\"Netherlands\",\"New Zealand\",\"New Zealanders\",\"Nicaragua\",\"Niger\",\"Nigeria\",\"Niue\",\"Norfolk Island\",\"North Korea\",\"North Macedonia\",\"Northern Ireland\",\"Northern Mariana Islands\",\"Norway\",\"Oman\",\"Pakistan\",\"Pakistanis\",\"Palau\",\"Palestine\",\"Palestinian\",\"Palestinian National Authority\",\"Panama\",\"Papua New Guinea\",\"Paraguay\",\"Patiala State\",\"People's Republic of Bulgaria\",\"People's Republic of China\",\"People's Socialist Republic of Albania\",\"Persian\",\"Perth\",\"Peru\",\"Peruvian\",\"Philippines\",\"Poland\",\"Poles\",\"Polish People's Republic\",\"Portugal\",\"Principality of Sealand\",\"Puerto Rico\",\"Qatar\",\"Qin (state)\",\"Qin dynasty\",\"Qing dynasty\",\"Republic of China (1912\\u20131949)\",\"Republic of Venice\",\"Republic of the Congo\",\"Rhodesia\",\"Romania\",\"Russia\",\"Russian Empire\",\"Russian Socialist Federative Soviet Republic (1918-1923)\",\"Rwanda\",\"Sahrawi Arab Democratic Republic\",\"Saint Kitts and Nevis\",\"Saint Lucia\",\"Saint Vincent and the Grenadines\",\"Samoa\",\"San Marino\",\"Saudi Arabia\",\"Scotland\",\"Second Polish Republic\",\"Senegal\",\"Serbia\",\"Serbia and Montenegro\",\"Seychelles\",\"Sierra Leone\",\"Singapore\",\"Siria\",\"Slovakia\",\"Slovenia\",\"Socialist Federal Republic of Yugoslavia\",\"Solomon Islands\",\"Somalia\",\"Somaliland\",\"Song dynasty\",\"South Africa\",\"South Korea\",\"South Sudan\",\"South Vietnam\",\"Southern Rhodesia\",\"Soviet Union\",\"Spain\",\"Sri Lanka\",\"State of Mexico\",\"State of Palestine\",\"Sudan\",\"Sui dynasty\",\"Suriname\",\"Sweden\",\"Switzerland\",\"Syria\",\"Syrian\",\"S\\u00e3o Tom\\u00e9 and Pr\\u00edncipe\",\"Taiwan\",\"Taiwan under Japanese rule\",\"Tajikistan\",\"Tang Empire\",\"Tanzania\",\"Temuco\",\"Thailand\",\"The Bahamas\",\"The Gambia\",\"The Netherlands\",\"Tibet\",\"Togo\",\"Tonga\",\"Transnistria\",\"Trinidad and Tobago\",\"Tunisia\",\"Turkey\",\"Turkish Republic of Northern Cyprus\",\"Tuvalu\",\"Uganda\",\"Ukraine\",\"Ukrainian Soviet Socialist Republic\",\"Unified Team at the Olympics\",\"Union of South Africa\",\"United Arab Emirates\",\"United Kingdom\",\"United Kingdom of Great Britain and Ireland\",\"United States Virgin Islands\",\"United States of America\",\"Uruguay\",\"Uzbekistan\",\"Vanuatu\",\"Vatican City\",\"Venezuela\",\"Vietnam\",\"Virgin Islands\",\"Wales\",\"Weimar Republic\",\"West Germany\",\"West Indies\",\"Western Han\",\"Western Jin dynasty\",\"Yemen\",\"Yuan Empire\",\"Yugoslavia\",\"Yuta\",\"Zambia\",\"Zimbabwe\",\"al-Andalus\",\"ancient Rome\",\"statelessness\",\"\\u0627\\u0644\\u062c\\u0645\\u0647\\u0648\\u0631\\u064a\\u0629 \\u0627\\u0644\\u0639\\u0631\\u0628\\u064a\\u0629 \\u0627\\u0644\\u0633\\u0648\\u0631\\u064a\\u0629\"],\"z\":[-0.06274193548387091,null,null,null,null,0.0,null,-0.019047619047619035,0.0,-0.1871794871794872,0.06247122328580362,-0.11228813559322035,null,null,-0.0014735047930827805,-0.0780952380952381,0.0038503671406414086,null,null,0.1111111111111111,0.04613381527040944,null,-0.023362235067437342,-0.03639045979837721,0.06482177413781187,-0.17874911158493245,null,-0.03099173553719009,null,-0.03116883116883118,0.380952380952381,null,-0.12820512820512825,0.009283092616425959,null,null,null,0.0024576992154267674,0.013499480789200435,null,null,null,null,-0.1022128556375132,null,-0.06060606060606061,null,-0.07494473102431834,0.12470588235294117,0.016455585909498915,null,null,null,-0.23921568627450981,null,null,null,0.11594202898550723,null,0.05607551077302958,0.16810344827586207,-0.008985115020297696,null,null,null,null,0.001436781609195359,-0.1681726907630522,0.05915459095578432,null,-0.053571428571428575,null,0.18703358208955223,null,null,0.031154872747074236,null,null,-0.15555555555555556,0.24168245547555892,-0.04179918218991366,null,null,null,-0.04421768707482995,0.10226385636221702,0.008988764044943837,null,-0.026879429265905863,null,null,null,null,-0.0745995423340961,0.17676767676767674,0.013513513513513542,null,null,null,null,null,null,0.07053596223271313,0.06484238484657862,null,null,0.004246223579647712,null,0.20588235294117646,-0.010497481862841773,0.029678235433631128,null,null,0.32872340425531915,0.04137869927343607,null,0.037037037037037035,0.058536585365853655,0.13363636363636364,null,null,null,-0.03504273504273503,-0.012755102040816313,null,-0.02323232323232327,null,-0.04322051840425853,0.20440251572327045,null,0.02804299352044448,null,-0.19047619047619047,-0.008747092729295192,0.023641444223840014,-0.010163339382940118,null,0.011098214176301413,null,null,null,null,0.015862595559297255,null,-0.004508443999152234,0.23344947735191635,-0.01376782627204437,null,-0.02432445292715038,null,-0.02786885245901638,null,0.08743169398907102,0.009470864709152482,null,null,null,0.18404907975460122,null,null,null,null,null,null,null,null,-0.011198547215496346,null,null,null,null,null,null,-0.006237006237006237,-0.003361344537815142,null,-0.03620032661948833,null,0.25,-0.16415662650602408,null,-0.01769264976812146,null,null,null,-0.07124498817723862,-0.001243911193149816,null,0.11435523114355228,-0.010869565217391297,0.022263859803813513,null,null,null,-0.06578947368421051,0.0346538764362867,null,null,0.10755148741418763,0.27927927927927926,null,null,null,null,0.029761904761904767,null,0.16666666666666666,0.14835164835164832,null,null,null,0.10403726708074534,null,0.01919265285301469,null,0.02797619047619046,null,0.02252561502054401,null,null,0.15384615384615383,null,-0.029728102575784676,null,-0.004498856670701934,null,0.06243770343186045,null,null,0.050980392156862744,null,null,0.0007621951219511924,-0.06192660550458717,-0.03432835820895522,null,null,0.009261243062357205,null,null,null,-0.07237137469695609,null,0.010070119772940256,-0.050155659895886495,null,null,-0.07127985543683216,null,0.0687881710061074,null,null,null,null,-0.09146341463414637,null,null,null,0.06666666666666665,0.014025647910722139,null,null,-0.020952380952380945,null,null,0.05205811138014527,null,null,null,-0.030001327492366947,-0.0021958360442420055,null,0.16057692307692306,0.08181818181818185,null,null,-0.05128205128205132,-0.09597726861172359,null,null,0.03239087301587301,null,null,0.03918411164787977,null,null,-0.0065456856813789766,-0.006322385721479362,null,null,null,-0.016455078330464945,0.032495863052002694,-0.0246282527881041,null,0.06233766233766233,null,null,null,-0.02187306444294762,-0.08486972147349503,0.1597222222222222,null,null,-0.08521730370469865,null,null,null,-0.02721762773309161,null,-0.11645394963780614,-0.048494983277591996,0.1111111111111111,null,null,0.23333333333333336,null,null,0.017360674777707974,-0.015151515151515138,-0.01645933142772793,null,null,0.05488101019912578,0.004957187922487616,null,null,null,-0.05864978902953588,9.849041998855057e-05,0.09755689424364122,null,-0.0023027578941669513,-0.037559599104797114,0.3125,null,null,-0.021645207439198844,-0.08653846153846151,null,-0.02487264494218483,null,0.25,null,null,null,null,null,0.1477272727272727,null,-0.034632034632034625,0.0001567193417787438,null,null,null,null],\"type\":\"choropleth\"},{\"colorscale\":[[0.0,\"#000000\"],[0.2,\"#FF3637\"],[0.4,\"#FF6D6E\"],[0.6,\"#FEA3A5\"],[0.8,\"#FEDADC\"],[1.0,\"#FEF5F7\"]],\"locationmode\":\"country names\",\"locations\":[\"Afghanistan\",\"Albania\",\"Algeria\",\"Algerian Arabic\",\"American Samoa\",\"Americans\",\"Andorra\",\"Angola\",\"Antigua and Barbuda\",\"Argentina\",\"Armenia\",\"Armenian Soviet Socialist Republic\",\"Australasia at the Olympics\",\"Australia\",\"Australians\",\"Austria\",\"Azerbaijan\",\"Ba'athist Iraq\",\"Bahrain\",\"Bangladesh\",\"Bangladeshis\",\"Barbados\",\"Belarus\",\"Belgium\",\"Belize\",\"Benin\",\"Bermuda\",\"Bhutan\",\"Bolivia\",\"Bosnia and Herzegovina\",\"Botswana\",\"Brazil\",\"Brazilians\",\"British Hong Kong\",\"British India\",\"British National (Overseas)\",\"British Virgin Islands\",\"Brunei\",\"Bulgaria\",\"Burkina Faso\",\"Burundi\",\"Cambodia\",\"Cameroon\",\"Canada\",\"Canada\\u2013United States border\",\"Canadia\",\"Canadian French\",\"Canadians\",\"Cape Verde\",\"Cayman Islands\",\"Central African Republic\",\"Chad\",\"Chechen Republic of Ichkeria\",\"Cherokee\",\"Chile\",\"China\",\"Colombia\",\"Colonial Nigeria\",\"Colony and Protectorate of Nigeria\",\"Comoros\",\"Cook Islands\",\"Costa Rica\",\"Croatia\",\"Cuba\",\"Cyprus\",\"Czech Republic\",\"Czechoslovak Republic\",\"Czechoslovakia\",\"Democratic Republic of the Congo\",\"Denmark\",\"Derry\",\"Dominica\",\"Dominican Republic\",\"East Germany\",\"East Timor\",\"Ecuador\",\"Egypt\",\"El Salvador\",\"England\",\"English\",\"English Wikipedia\",\"English people\",\"Equatorial Guinea\",\"Eritrea\",\"Estonia\",\"Eswatini\",\"Ethiopia\",\"European Netherlands\",\"Faroe Islands\",\"Federal People's Republic of Yugoslavia\",\"Federal Republic of Yugoslavia\",\"Federated States of Micronesia\",\"Federation of Rhodesia and Nyasaland\",\"Fiji\",\"Finland\",\"Flor\",\"France\",\"Gabon\",\"Georgia\",\"German Empire\",\"German Reich\",\"Germany\",\"Ghana\",\"Gibraltar\",\"Great Britain\",\"Greece\",\"Greenland\",\"Grenada\",\"Guam\",\"Guatemala\",\"Guernsey\",\"Guinea\",\"Guinea-Bissau\",\"Guyana\",\"Haiti\",\"Han dynasty\",\"Honduras\",\"Hong Kong\",\"Hongkongers\",\"Hospitaller-controlled Malta\",\"Hungary\",\"Iceland\",\"Imperial State of Iran\",\"India\",\"Indians\",\"Indonesia\",\"Iran\",\"Iraq\",\"Ireland\",\"Irish Free State\",\"Irish Republic\",\"Irish people\",\"Isle of Man\",\"Israel\",\"Italy\",\"Ivory Coast\",\"Jamaica\",\"Japan\",\"Japanese\",\"Jin dynasty\",\"Jordan\",\"Jozef Isra\\u00ebls\",\"Kazakhstan\",\"Kenya\",\"Kenya Colony\",\"Kingdom of Afghanistan\",\"Kingdom of Egypt\",\"Kingdom of England\",\"Kingdom of France\",\"Kingdom of Iraq\",\"Kingdom of Italy\",\"Kingdom of Libya\",\"Kingdom of Portugal\",\"Kingdom of Romania\",\"Kingdom of Scotland\",\"Kingdom of Sikkim\",\"Kingdom of the Netherlands\",\"Kiribati\",\"Kosovo\",\"Kurdistan\",\"Kuwait\",\"Kyrgyzstan\",\"Laos\",\"Later Tang Dynasty\",\"Latin Americans\",\"Latvia\",\"Lebanon\",\"Lesotho\",\"Liberia\",\"Libya\",\"Liechtenstein\",\"Lithuania\",\"Lithuanian Soviet Socialist Republic\",\"Luxembourg\",\"Madagascar\",\"Malawi\",\"Malaya\",\"Malaysia\",\"Maldives\",\"Mali\",\"Malta\",\"Marshall Islands\",\"Mauritania\",\"Mauritius\",\"Mexico\",\"Mexico City\",\"Min\",\"Ming dynasty\",\"Moldova\",\"Monaco\",\"Mongolia\",\"Montenegro\",\"Montserrat\",\"Morocco\",\"Mozambique\",\"Myanmar\",\"Namibia\",\"Nauru\",\"Nelson\",\"Nepal\",\"Nepali\",\"Netherlands\",\"New Zealand\",\"New Zealanders\",\"Nicaragua\",\"Niger\",\"Nigeria\",\"Niue\",\"North Korea\",\"North Macedonia\",\"Northern Ireland\",\"Northern Mariana Islands\",\"Norway\",\"Oman\",\"Pakistan\",\"Pakistanis\",\"Palau\",\"Palestine\",\"Palestinian\",\"Panama\",\"Papua New Guinea\",\"Paraguay\",\"Patiala State\",\"People's Republic of Bulgaria\",\"People's Republic of China\",\"People's Socialist Republic of Albania\",\"Persian\",\"Peru\",\"Peruvian\",\"Philippines\",\"Poland\",\"Portugal\",\"Protectorate of Bohemia and Moravia\",\"Puerto Rico\",\"Qatar\",\"Qin (state)\",\"Qin dynasty\",\"Qing dynasty\",\"Republic of China (1912\\u20131949)\",\"Republic of the Congo\",\"Romania\",\"Russia\",\"Russian Empire\",\"Russian Socialist Federative Soviet Republic (1918-1923)\",\"Rwanda\",\"Saar\",\"Sahrawi Arab Democratic Republic\",\"Saint Kitts and Nevis\",\"Saint Lucia\",\"Saint Vincent and the Grenadines\",\"Samoa\",\"San Marino\",\"Saudi Arabia\",\"Scotland\",\"Second Polish Republic\",\"Senegal\",\"Serbia\",\"Serbia and Montenegro\",\"Seychelles\",\"Sierra Leone\",\"Singapore\",\"Siria\",\"Slovakia\",\"Slovenia\",\"Socialist Federal Republic of Yugoslavia\",\"Solomon Islands\",\"Somalia\",\"Somaliland\",\"Song dynasty\",\"South Africa\",\"South Korea\",\"South Sudan\",\"Southern Rhodesia\",\"Soviet Union\",\"Spain\",\"Sri Lanka\",\"State of Mexico\",\"State of Palestine\",\"Sudan\",\"Suriname\",\"Sweden\",\"Switzerland\",\"Syria\",\"Syrian\",\"S\\u00e3o Tom\\u00e9 and Pr\\u00edncipe\",\"Taiwan\",\"Taiwan under Japanese rule\",\"Tang Empire\",\"Tanzania\",\"Temuco\",\"Thailand\",\"The Bahamas\",\"The Gambia\",\"The Netherlands\",\"Tibet\",\"Togo\",\"Tonga\",\"Trinidad and Tobago\",\"Tunisia\",\"Turkey\",\"Turkish Republic of Northern Cyprus\",\"Tuvalu\",\"Uganda\",\"Ukraine\",\"Ukrainian Soviet Socialist Republic\",\"Unified Team at the Olympics\",\"Union of South Africa\",\"United Arab Emirates\",\"United Arab Republic\",\"United Kingdom\",\"United Kingdom of Great Britain and Ireland\",\"United States Virgin Islands\",\"United States of America\",\"Uruguay\",\"Uzbek Soviet Socialist Republic\",\"Uzbekistan\",\"Vanuatu\",\"Vatican City\",\"Venezuela\",\"Vietnam\",\"Virgin Islands\",\"Wales\",\"Weimar Republic\",\"Welsh people\",\"West Germany\",\"West Indies\",\"Western Han\",\"Western Jin dynasty\",\"Western Sahara\",\"Yemen\",\"Yuan Empire\",\"Yugoslavia\",\"Zambia\",\"Zimbabwe\",\"ancient Rome\",\"statelessness\",\"\\u0627\\u0644\\u062c\\u0645\\u0647\\u0648\\u0631\\u064a\\u0629 \\u0627\\u0644\\u0639\\u0631\\u0628\\u064a\\u0629 \\u0627\\u0644\\u0633\\u0648\\u0631\\u064a\\u0629\",\"\\u0641\\u0644\\u0633\\u0637\\u064a\\u0646.\"],\"z\":[0.07224958949096882,-0.041379310344827586,0.1069433359936153,null,null,-0.36538461538461536,0.012820512820512803,0.010101010101010083,null,0.020264434562093425,0.13737373737373737,null,null,0.0035093195492798546,0.03137254901960784,-0.04054731714306181,null,null,0.01666666666666669,-0.010067340067340114,null,0.023098791755508163,0.013381369016984002,0.06073011651469101,0.03850267379679145,-0.3333333333333333,-0.1280193236714976,0.2641509433962264,0.6767068273092369,-0.06746031746031747,0.0174825174825175,-0.008550749898983523,null,0.011604347025234829,-0.0030612244897958996,null,null,0.2142857142857143,-0.026220095693779866,null,0.07352941176470587,-0.1508819538670285,0.11921411921411917,-0.005827157866121535,null,null,null,0.040816326530612235,-0.3214285714285714,0.1923076923076923,null,0.23333333333333336,null,null,0.0021987633474653823,0.028260869565217395,0.03241298348858834,null,null,null,null,0.11818609022556392,0.2391304347826087,0.03512991573033708,null,-0.04368321810182274,null,0.1124348473566642,null,-0.019497888156783216,null,0.1844863731656185,0.11185983827493262,0.1743421052631579,null,0.08923076923076922,0.048151719704275175,null,-0.039826534677740666,null,null,null,null,0.4,0.18445121951219512,0.21999999999999997,-0.023263433813892537,null,null,null,null,null,null,0.001210653753026647,-0.03740404487747273,null,-0.01124488592321038,null,-0.013605442176870763,null,null,-0.015583717532344665,-0.013352120236178211,null,0.36494252873563215,0.14719558267945365,null,null,0.019230769230769218,-0.13865979381443297,null,null,null,-0.10711665443873808,-0.13112244897959185,null,-0.16229508196721312,-0.057700132234767554,null,null,0.006683375104427736,0.07657657657657657,null,0.030885321135636246,-0.19762845849802374,0.0172860723236663,0.10179020979020978,-0.02670807453416149,0.00711676071490952,null,null,null,null,0.0024405116867750043,0.03530324550732716,0.1843137254901961,-0.03533689333418094,0.038460799511390587,null,null,0.12834224598930483,null,0.1875,-0.025126145608073358,null,null,null,0.04385964912280699,null,null,null,null,null,null,null,null,-0.016463626706958445,null,-0.10401002506265664,null,null,null,null,null,null,0.007025761124121788,0.04215300473554323,null,0.20114942528735635,null,null,null,null,0.2485754985754986,null,0.06126443531023684,null,-0.06611782138127242,null,-0.11904761904761904,0.08733974358974361,null,null,-0.17972350230414746,-0.004253781846120963,null,null,null,-0.12238325281803542,null,null,null,null,0.09979838709677419,0.32456140350877194,-0.16582278481012655,0.12903225806451613,null,null,-0.02737403100775193,null,null,0.005881243008820203,null,-0.12235294117647058,null,0.02496725329645466,null,0.0,-0.11363636363636365,-0.05018025918347463,null,0.0023362302588543216,null,-0.011777987747805252,null,null,0.18333333333333335,null,0.06969696969696967,0.04032258064516128,-0.16629711751662973,null,null,0.003059308429033236,null,null,-0.007575757575757569,null,0.01972381495729625,0.04698972099853155,0.1147727272727273,null,0.0005565337057049646,null,null,null,null,null,null,-0.000835421888053467,-0.037524781367420046,null,null,0.04434697855750486,null,null,null,null,-0.326530612244898,null,null,0.23457371643900138,-0.003358710255261965,null,0.018518518518518517,0.20833333333333331,null,-0.01149425287356326,0.17142857142857146,0.05157984880699268,null,0.05782312925170069,-0.10274110855435792,null,null,-0.13611111111111113,null,null,-0.0028970995697802926,0.04738732475958751,null,null,0.012659583822976883,-0.0320689880211627,-0.023061224489795917,null,-0.028103044496487123,null,-0.1388888888888889,0.0023073079892810267,-0.03965560869980045,-0.03607770582793707,null,null,-0.0741859588142707,null,null,-0.02030596522121947,null,-0.03057102303744952,-0.10491054434716407,-0.11660079051383399,null,null,null,null,-0.09238621606112773,0.11314984709480119,0.016797961075069534,null,null,0.08035629678764333,-0.020405320704784458,null,null,null,-0.07005494505494508,null,-0.0037862834470292484,0.09694800162379602,null,-0.00484606117770936,0.06442892543365625,null,null,null,null,-0.05276109493586076,0.1415525114155251,null,0.03007518796992481,null,null,0.1746031746031746,null,null,null,null,0.012500000000000011,null,0.0,0.004807692307692291,0.09374641422834196,null,null,null,null],\"type\":\"choropleth\"},{\"colorscale\":[[0.0,\"#000000\"],[0.2,\"#FF3637\"],[0.4,\"#FF6D6E\"],[0.6,\"#FEA3A5\"],[0.8,\"#FEDADC\"],[1.0,\"#FEF5F7\"]],\"locationmode\":\"country names\",\"locations\":[\"Abkhazia\",\"Afghanistan\",\"Albania\",\"Algeria\",\"Algerian Arabic\",\"American Samoa\",\"Americans\",\"Ancient China\",\"Andorra\",\"Angola\",\"Antigua and Barbuda\",\"Argentina\",\"Armenia\",\"Australasia at the Olympics\",\"Australia\",\"Australians\",\"Austria\",\"Azerbaijan\",\"Ba'athist Iraq\",\"Bahrain\",\"Bangladesh\",\"Barbados\",\"Belarus\",\"Belgium\",\"Belize\",\"Benin\",\"Bermuda\",\"Bhutan\",\"Bolivia\",\"Bosnia and Herzegovina\",\"Botswana\",\"Brazil\",\"Brazilians\",\"British Empire\",\"British Hong Kong\",\"British India\",\"British National (Overseas)\",\"British Virgin Islands\",\"Brunei\",\"Bulgaria\",\"Burkina Faso\",\"Burundi\",\"Cambodia\",\"Cameroon\",\"Canada\",\"Canada\\u2013United States border\",\"Canadia\",\"Canadian French\",\"Canadians\",\"Cape Verde\",\"Cayman Islands\",\"Central African Republic\",\"Chad\",\"Cherokee\",\"Chile\",\"China\",\"Colombia\",\"Colonial Nigeria\",\"Colony and Protectorate of Nigeria\",\"Comoros\",\"Cook Islands\",\"Costa Rica\",\"Croatia\",\"Cuba\",\"Cura\\u00e7ao\",\"Cyprus\",\"Czech Republic\",\"Czechoslovak Republic\",\"Czechoslovakia\",\"Democratic Republic of the Congo\",\"Denmark\",\"Derry\",\"Dominica\",\"Dominican Republic\",\"East Germany\",\"East Timor\",\"East Turkestan\",\"Eastern Han\",\"Ecuador\",\"Egypt\",\"El Salvador\",\"England\",\"English\",\"English people\",\"Equatorial Guinea\",\"Eritrea\",\"Estonia\",\"Eswatini\",\"Ethiopia\",\"Falkland Islands\",\"Faroe Islands\",\"Federal People's Republic of Yugoslavia\",\"Federal Republic of Yugoslavia\",\"Federated States of Micronesia\",\"Federation of Rhodesia and Nyasaland\",\"Fiji\",\"Finland\",\"First Czechoslovak Republic\",\"Flor\",\"France\",\"Francesa\",\"French\",\"Gabon\",\"Georgia\",\"German Reich\",\"Germany\",\"Ghana\",\"Gibraltar\",\"Glaspy\",\"Great Britain\",\"Greece\",\"Greenland\",\"Grenada\",\"Guam\",\"Guatemala\",\"Guernsey\",\"Guinea\",\"Guinea-Bissau\",\"Guyana\",\"Haiti\",\"Honduras\",\"Hong Kong\",\"Hungary\",\"Iceland\",\"Imperial State of Iran\",\"India\",\"Indians\",\"Indonesia\",\"Iran\",\"Iraq\",\"Ireland\",\"Irish Free State\",\"Irish Republic\",\"Irish people\",\"Isle of Man\",\"Israel\",\"Italy\",\"Ivory Coast\",\"Jamaica\",\"Japan\",\"Japanese\",\"Jordan\",\"Joseon\",\"Jozef Isra\\u00ebls\",\"Kazakhstan\",\"Kenya\",\"Kenya Colony\",\"Kingdom of Afghanistan\",\"Kingdom of Aragon\",\"Kingdom of Bavaria\",\"Kingdom of Egypt\",\"Kingdom of England\",\"Kingdom of Hungary\",\"Kingdom of Iraq\",\"Kingdom of Italy\",\"Kingdom of Libya\",\"Kingdom of Mysore\",\"Kingdom of Portugal\",\"Kingdom of Romania\",\"Kingdom of Scotland\",\"Kingdom of the Netherlands\",\"Kiribati\",\"Korea\",\"Kosovo\",\"Kuwait\",\"Laos\",\"Latin Americans\",\"Latvia\",\"Lebanon\",\"Lesotho\",\"Liberia\",\"Libya\",\"Liechtenstein\",\"Lithuania\",\"Luxembourg\",\"Madagascar\",\"Malawi\",\"Malaya\",\"Malaysia\",\"Malaysians\",\"Maldives\",\"Mali\",\"Malta\",\"Mandatory Palestine\",\"Marshall Islands\",\"Mauritania\",\"Mauritius\",\"Mengele medicus: medicine's Nazi heritage.\",\"Mexican Spanish\",\"Mexico\",\"Mexico City\",\"Ming dynasty\",\"Moldova\",\"Monaco\",\"Mongolia\",\"Morocco\",\"Mozambique\",\"Myanmar\",\"Namibia\",\"Nelson\",\"Nepal\",\"Nepali\",\"Netherlands\",\"New Zealand\",\"Nicaragua\",\"Niger\",\"Nigeria\",\"Norfolk Island\",\"North Korea\",\"North Macedonia\",\"Northern Ireland\",\"Northern Mariana Islands\",\"Norway\",\"Oman\",\"Pakistan\",\"Pakistanis\",\"Palau\",\"Palestine\",\"Palestinian\",\"Palestinian National Authority\",\"Panama\",\"Papua New Guinea\",\"Paraguay\",\"Patiala State\",\"People's Republic of Bulgaria\",\"People's Republic of China\",\"Persian\",\"Peru\",\"Peruvian\",\"Philippines\",\"Poland\",\"Polish People's Republic\",\"Portugal\",\"Puerto Rico\",\"Qatar\",\"Qin (state)\",\"Qin dynasty\",\"Qing dynasty\",\"Republic of Abkhazia\",\"Republic of China (1912\\u20131949)\",\"Republic of Venice\",\"Republic of the Congo\",\"Rhodesia\",\"Romania\",\"Russia\",\"Russian Empire\",\"Russian Socialist Federative Soviet Republic (1918-1923)\",\"Rwanda\",\"Sahrawi Arab Democratic Republic\",\"Saint Kitts and Nevis\",\"Saint Lucia\",\"Saint Vincent and the Grenadines\",\"Samoa\",\"San Marino\",\"Saudi Arabia\",\"Scotland\",\"Second Polish Republic\",\"Senegal\",\"Serbia\",\"Seychelles\",\"Sierra Leone\",\"Singapore\",\"Slovakia\",\"Slovenia\",\"Socialist Federal Republic of Yugoslavia\",\"Solomon Islands\",\"Somalia\",\"Somaliland\",\"Song dynasty\",\"South Africa\",\"South Korea\",\"South Sudan\",\"Southern Rhodesia\",\"Soviet Union\",\"Spain\",\"Sri Lanka\",\"State of Mexico\",\"State of Palestine\",\"Sudan\",\"Sui dynasty\",\"Suriname\",\"Sweden\",\"Switzerland\",\"Syria\",\"S\\u00e3o Tom\\u00e9 and Pr\\u00edncipe\",\"Taiwan\",\"Taiwan under Japanese rule\",\"Tajikistan\",\"Tang Empire\",\"Tanzania\",\"Temuco\",\"Thailand\",\"The Bahamas\",\"The Gambia\",\"The Netherlands\",\"Tibet\",\"Togo\",\"Tonga\",\"Transnistria\",\"Trinidad and Tobago\",\"Tunisia\",\"Turkey\",\"Turkish Republic of Northern Cyprus\",\"Tuvalu\",\"Uganda\",\"Ukraine\",\"Ukrainian Soviet Socialist Republic\",\"Unified Team at the Olympics\",\"United Arab Emirates\",\"United Kingdom\",\"United Kingdom of Great Britain and Ireland\",\"United States Virgin Islands\",\"United States of America\",\"Uruguay\",\"Uzbekistan\",\"Vanuatu\",\"Vatican City\",\"Venezuela\",\"Vietnam\",\"Virgin Islands\",\"Wales\",\"Wei\",\"Weimar Republic\",\"West Germany\",\"Western Han\",\"Western Jin dynasty\",\"Yemen\",\"Yuan Empire\",\"Yugoslavia\",\"Zambia\",\"Zimbabwe\",\"ancient Rome\",\"statelessness\",\"\\u0641\\u0644\\u0633\\u0637\\u064a\\u0646.\"],\"z\":[null,0.18858560794044665,0.10175438596491226,-0.12320675105485233,null,null,null,null,-0.10526315789473684,-0.08482142857142858,-0.14437689969604867,0.025796066281896235,0.18095238095238098,null,0.001149854258321703,-0.009505171931786405,0.010044691220356339,null,null,-0.26190476190476186,-0.01014413889978616,-0.0500823594007373,-0.011178180192264686,0.034713080785919725,-0.2618393405527719,0.16666666666666666,-0.14511627906976743,null,null,0.2096774193548387,0.07056277056277055,0.001234514541338716,null,null,0.05038759689922484,-0.05480847595762023,null,null,-0.375,-0.05828857858933045,null,null,-0.038157894736842085,0.003759398496240629,-0.0009817391627652827,null,null,null,-0.014316012725344662,-0.1067193675889328,0.20176991150442475,null,0.3709677419354839,null,0.014864928353300472,0.0733031674208145,-0.0644748672221862,null,null,null,null,0.060980626054049636,-0.057588075880758816,-0.01444227644343321,null,-0.08325504083255042,0.013435957948937982,null,0.1016187050359712,0.046337817638266054,-0.017581046755619834,null,-0.06873614190687366,0.04992397807306259,-0.06410256410256412,null,null,null,-0.04553063274188149,-0.011859985440427101,0.03270223752151463,-0.004750995472644959,null,null,null,null,-0.021124506561399803,0.4576923076923077,-0.061188907953727806,null,-0.2100840336134454,null,null,null,null,-0.008771929824561403,0.00504928249729808,null,null,0.0058647674910550784,null,null,null,0.13333333333333336,null,-0.022413666596398985,-0.04148098573648701,null,null,-0.07675276752767529,0.03446312981817001,0.33333333333333337,0.09411764705882353,0.06521739130434784,0.03986254295532646,null,-0.020833333333333343,null,-0.03144654088050314,-0.08983387504514267,0.04118993135011445,-0.018873346401338253,-0.0527857142857143,0.006519295616335741,0.288135593220339,0.02199811010000441,0.1511627906976744,-0.051248351234218975,0.004403389015718517,null,-0.010418314896878722,null,null,null,null,0.051089918763217806,0.030426741692761716,-0.17753120665742028,-0.007483476721463156,-0.033796035303359395,null,0.17803030303030304,null,null,-0.10249091852620651,-0.019341738698194166,null,null,null,null,0.008547008547008544,0.18046357615894038,null,null,null,null,null,null,null,null,0.005626279609740437,null,null,null,-0.12307692307692308,-0.0357142857142857,null,0.08111111111111108,-0.025081506149691485,null,0.1265795206971677,null,null,0.20346320346320346,-0.09772541112721317,null,-0.013064163559213082,null,-0.010661191834376305,null,0.169811320754717,0.1628169014084507,0.027148972866426424,null,null,null,-0.11969111969111973,null,null,0.005303242068068759,null,null,-0.15714285714285714,null,null,-0.01674836601307189,null,0.01656474699280963,0.004485852311939265,null,0.11974789915966388,null,null,0.010314934578107449,-0.11688311688311687,null,-0.011397527990175182,null,null,null,-0.03742158644544763,null,0.02125046347793841,null,0.01302480483401619,-0.16666666666666669,null,null,null,null,0.12059620596205961,0.09496644295302009,0.12669376693766937,null,null,0.05293428836473685,null,-0.0840448803895279,null,0.020615343462148328,0.045927569928838174,null,-0.04979861427908594,0.07371787678150601,0.13813229571984437,null,null,null,null,null,null,null,null,0.008058608058608085,-0.014763273175117053,null,null,0.030458089668615962,null,null,0.0021895527056615682,0.041666666666666685,null,null,0.273841961852861,-0.03067660448094256,null,0.09672293942403176,0.03003875968992248,null,0.17142857142857143,0.02594268635631658,0.07923655292076343,-0.031144659886484738,null,null,-0.002606590951405696,0.0,null,-0.0009705129532428525,0.09448818897637795,null,null,-0.02284551574763588,0.04378990171656638,-0.016949209462273185,null,0.0857285056613164,null,null,0.06493506493506493,-0.021565985032903634,-0.02541965204481811,0.19230169861305907,null,-0.08503563899206906,null,null,null,0.08026096640353209,null,-0.03482421005785491,0.1858050519138385,-0.00530679933665007,null,null,null,null,null,-0.0593416679231924,-0.08708938120702828,0.04010640810328542,-0.09027777777777779,null,-0.02654251441447414,0.10810202909647781,null,null,0.10915750915750916,-0.008781250580760958,-0.04362960114112685,null,-0.007239796275688715,0.0948423224285293,-0.18902439024390244,null,null,0.02937208861159707,0.010000000000000009,null,-0.042125792296440784,null,null,0.16083916083916078,null,null,null,null,0.018487394957983183,0.0772378516624041,-0.025947917489355876,null,null,null],\"type\":\"choropleth\"}],                        {\"geo\":{\"projection\":{\"type\":\"equirectangular\"},\"scope\":\"world\",\"showcountries\":true},\"sliders\":[{\"active\":0,\"steps\":[{\"args\":[\"visible\",[true,false,false,false,false,false]],\"label\":\"Year 2015\",\"method\":\"restyle\"},{\"args\":[\"visible\",[false,true,false,false,false,false]],\"label\":\"Year 2016\",\"method\":\"restyle\"},{\"args\":[\"visible\",[false,false,true,false,false,false]],\"label\":\"Year 2017\",\"method\":\"restyle\"},{\"args\":[\"visible\",[false,false,false,true,false,false]],\"label\":\"Year 2018\",\"method\":\"restyle\"},{\"args\":[\"visible\",[false,false,false,false,true,false]],\"label\":\"Year 2019\",\"method\":\"restyle\"},{\"args\":[\"visible\",[false,false,false,false,false,true]],\"label\":\"Year 2020\",\"method\":\"restyle\"}]}],\"template\":{\"data\":{\"barpolar\":[{\"marker\":{\"line\":{\"color\":\"#E5ECF6\",\"width\":0.5},\"pattern\":{\"fillmode\":\"overlay\",\"size\":10,\"solidity\":0.2}},\"type\":\"barpolar\"}],\"bar\":[{\"error_x\":{\"color\":\"#2a3f5f\"},\"error_y\":{\"color\":\"#2a3f5f\"},\"marker\":{\"line\":{\"color\":\"#E5ECF6\",\"width\":0.5},\"pattern\":{\"fillmode\":\"overlay\",\"size\":10,\"solidity\":0.2}},\"type\":\"bar\"}],\"carpet\":[{\"aaxis\":{\"endlinecolor\":\"#2a3f5f\",\"gridcolor\":\"white\",\"linecolor\":\"white\",\"minorgridcolor\":\"white\",\"startlinecolor\":\"#2a3f5f\"},\"baxis\":{\"endlinecolor\":\"#2a3f5f\",\"gridcolor\":\"white\",\"linecolor\":\"white\",\"minorgridcolor\":\"white\",\"startlinecolor\":\"#2a3f5f\"},\"type\":\"carpet\"}],\"choropleth\":[{\"colorbar\":{\"outlinewidth\":0,\"ticks\":\"\"},\"type\":\"choropleth\"}],\"contourcarpet\":[{\"colorbar\":{\"outlinewidth\":0,\"ticks\":\"\"},\"type\":\"contourcarpet\"}],\"contour\":[{\"colorbar\":{\"outlinewidth\":0,\"ticks\":\"\"},\"colorscale\":[[0.0,\"#0d0887\"],[0.1111111111111111,\"#46039f\"],[0.2222222222222222,\"#7201a8\"],[0.3333333333333333,\"#9c179e\"],[0.4444444444444444,\"#bd3786\"],[0.5555555555555556,\"#d8576b\"],[0.6666666666666666,\"#ed7953\"],[0.7777777777777778,\"#fb9f3a\"],[0.8888888888888888,\"#fdca26\"],[1.0,\"#f0f921\"]],\"type\":\"contour\"}],\"heatmapgl\":[{\"colorbar\":{\"outlinewidth\":0,\"ticks\":\"\"},\"colorscale\":[[0.0,\"#0d0887\"],[0.1111111111111111,\"#46039f\"],[0.2222222222222222,\"#7201a8\"],[0.3333333333333333,\"#9c179e\"],[0.4444444444444444,\"#bd3786\"],[0.5555555555555556,\"#d8576b\"],[0.6666666666666666,\"#ed7953\"],[0.7777777777777778,\"#fb9f3a\"],[0.8888888888888888,\"#fdca26\"],[1.0,\"#f0f921\"]],\"type\":\"heatmapgl\"}],\"heatmap\":[{\"colorbar\":{\"outlinewidth\":0,\"ticks\":\"\"},\"colorscale\":[[0.0,\"#0d0887\"],[0.1111111111111111,\"#46039f\"],[0.2222222222222222,\"#7201a8\"],[0.3333333333333333,\"#9c179e\"],[0.4444444444444444,\"#bd3786\"],[0.5555555555555556,\"#d8576b\"],[0.6666666666666666,\"#ed7953\"],[0.7777777777777778,\"#fb9f3a\"],[0.8888888888888888,\"#fdca26\"],[1.0,\"#f0f921\"]],\"type\":\"heatmap\"}],\"histogram2dcontour\":[{\"colorbar\":{\"outlinewidth\":0,\"ticks\":\"\"},\"colorscale\":[[0.0,\"#0d0887\"],[0.1111111111111111,\"#46039f\"],[0.2222222222222222,\"#7201a8\"],[0.3333333333333333,\"#9c179e\"],[0.4444444444444444,\"#bd3786\"],[0.5555555555555556,\"#d8576b\"],[0.6666666666666666,\"#ed7953\"],[0.7777777777777778,\"#fb9f3a\"],[0.8888888888888888,\"#fdca26\"],[1.0,\"#f0f921\"]],\"type\":\"histogram2dcontour\"}],\"histogram2d\":[{\"colorbar\":{\"outlinewidth\":0,\"ticks\":\"\"},\"colorscale\":[[0.0,\"#0d0887\"],[0.1111111111111111,\"#46039f\"],[0.2222222222222222,\"#7201a8\"],[0.3333333333333333,\"#9c179e\"],[0.4444444444444444,\"#bd3786\"],[0.5555555555555556,\"#d8576b\"],[0.6666666666666666,\"#ed7953\"],[0.7777777777777778,\"#fb9f3a\"],[0.8888888888888888,\"#fdca26\"],[1.0,\"#f0f921\"]],\"type\":\"histogram2d\"}],\"histogram\":[{\"marker\":{\"pattern\":{\"fillmode\":\"overlay\",\"size\":10,\"solidity\":0.2}},\"type\":\"histogram\"}],\"mesh3d\":[{\"colorbar\":{\"outlinewidth\":0,\"ticks\":\"\"},\"type\":\"mesh3d\"}],\"parcoords\":[{\"line\":{\"colorbar\":{\"outlinewidth\":0,\"ticks\":\"\"}},\"type\":\"parcoords\"}],\"pie\":[{\"automargin\":true,\"type\":\"pie\"}],\"scatter3d\":[{\"line\":{\"colorbar\":{\"outlinewidth\":0,\"ticks\":\"\"}},\"marker\":{\"colorbar\":{\"outlinewidth\":0,\"ticks\":\"\"}},\"type\":\"scatter3d\"}],\"scattercarpet\":[{\"marker\":{\"colorbar\":{\"outlinewidth\":0,\"ticks\":\"\"}},\"type\":\"scattercarpet\"}],\"scattergeo\":[{\"marker\":{\"colorbar\":{\"outlinewidth\":0,\"ticks\":\"\"}},\"type\":\"scattergeo\"}],\"scattergl\":[{\"marker\":{\"colorbar\":{\"outlinewidth\":0,\"ticks\":\"\"}},\"type\":\"scattergl\"}],\"scattermapbox\":[{\"marker\":{\"colorbar\":{\"outlinewidth\":0,\"ticks\":\"\"}},\"type\":\"scattermapbox\"}],\"scatterpolargl\":[{\"marker\":{\"colorbar\":{\"outlinewidth\":0,\"ticks\":\"\"}},\"type\":\"scatterpolargl\"}],\"scatterpolar\":[{\"marker\":{\"colorbar\":{\"outlinewidth\":0,\"ticks\":\"\"}},\"type\":\"scatterpolar\"}],\"scatter\":[{\"marker\":{\"colorbar\":{\"outlinewidth\":0,\"ticks\":\"\"}},\"type\":\"scatter\"}],\"scatterternary\":[{\"marker\":{\"colorbar\":{\"outlinewidth\":0,\"ticks\":\"\"}},\"type\":\"scatterternary\"}],\"surface\":[{\"colorbar\":{\"outlinewidth\":0,\"ticks\":\"\"},\"colorscale\":[[0.0,\"#0d0887\"],[0.1111111111111111,\"#46039f\"],[0.2222222222222222,\"#7201a8\"],[0.3333333333333333,\"#9c179e\"],[0.4444444444444444,\"#bd3786\"],[0.5555555555555556,\"#d8576b\"],[0.6666666666666666,\"#ed7953\"],[0.7777777777777778,\"#fb9f3a\"],[0.8888888888888888,\"#fdca26\"],[1.0,\"#f0f921\"]],\"type\":\"surface\"}],\"table\":[{\"cells\":{\"fill\":{\"color\":\"#EBF0F8\"},\"line\":{\"color\":\"white\"}},\"header\":{\"fill\":{\"color\":\"#C8D4E3\"},\"line\":{\"color\":\"white\"}},\"type\":\"table\"}]},\"layout\":{\"annotationdefaults\":{\"arrowcolor\":\"#2a3f5f\",\"arrowhead\":0,\"arrowwidth\":1},\"autotypenumbers\":\"strict\",\"coloraxis\":{\"colorbar\":{\"outlinewidth\":0,\"ticks\":\"\"}},\"colorscale\":{\"diverging\":[[0,\"#8e0152\"],[0.1,\"#c51b7d\"],[0.2,\"#de77ae\"],[0.3,\"#f1b6da\"],[0.4,\"#fde0ef\"],[0.5,\"#f7f7f7\"],[0.6,\"#e6f5d0\"],[0.7,\"#b8e186\"],[0.8,\"#7fbc41\"],[0.9,\"#4d9221\"],[1,\"#276419\"]],\"sequential\":[[0.0,\"#0d0887\"],[0.1111111111111111,\"#46039f\"],[0.2222222222222222,\"#7201a8\"],[0.3333333333333333,\"#9c179e\"],[0.4444444444444444,\"#bd3786\"],[0.5555555555555556,\"#d8576b\"],[0.6666666666666666,\"#ed7953\"],[0.7777777777777778,\"#fb9f3a\"],[0.8888888888888888,\"#fdca26\"],[1.0,\"#f0f921\"]],\"sequentialminus\":[[0.0,\"#0d0887\"],[0.1111111111111111,\"#46039f\"],[0.2222222222222222,\"#7201a8\"],[0.3333333333333333,\"#9c179e\"],[0.4444444444444444,\"#bd3786\"],[0.5555555555555556,\"#d8576b\"],[0.6666666666666666,\"#ed7953\"],[0.7777777777777778,\"#fb9f3a\"],[0.8888888888888888,\"#fdca26\"],[1.0,\"#f0f921\"]]},\"colorway\":[\"#636efa\",\"#EF553B\",\"#00cc96\",\"#ab63fa\",\"#FFA15A\",\"#19d3f3\",\"#FF6692\",\"#B6E880\",\"#FF97FF\",\"#FECB52\"],\"font\":{\"color\":\"#2a3f5f\"},\"geo\":{\"bgcolor\":\"white\",\"lakecolor\":\"white\",\"landcolor\":\"#E5ECF6\",\"showlakes\":true,\"showland\":true,\"subunitcolor\":\"white\"},\"hoverlabel\":{\"align\":\"left\"},\"hovermode\":\"closest\",\"mapbox\":{\"style\":\"light\"},\"paper_bgcolor\":\"white\",\"plot_bgcolor\":\"#E5ECF6\",\"polar\":{\"angularaxis\":{\"gridcolor\":\"white\",\"linecolor\":\"white\",\"ticks\":\"\"},\"bgcolor\":\"#E5ECF6\",\"radialaxis\":{\"gridcolor\":\"white\",\"linecolor\":\"white\",\"ticks\":\"\"}},\"scene\":{\"xaxis\":{\"backgroundcolor\":\"#E5ECF6\",\"gridcolor\":\"white\",\"gridwidth\":2,\"linecolor\":\"white\",\"showbackground\":true,\"ticks\":\"\",\"zerolinecolor\":\"white\"},\"yaxis\":{\"backgroundcolor\":\"#E5ECF6\",\"gridcolor\":\"white\",\"gridwidth\":2,\"linecolor\":\"white\",\"showbackground\":true,\"ticks\":\"\",\"zerolinecolor\":\"white\"},\"zaxis\":{\"backgroundcolor\":\"#E5ECF6\",\"gridcolor\":\"white\",\"gridwidth\":2,\"linecolor\":\"white\",\"showbackground\":true,\"ticks\":\"\",\"zerolinecolor\":\"white\"}},\"shapedefaults\":{\"line\":{\"color\":\"#2a3f5f\"}},\"ternary\":{\"aaxis\":{\"gridcolor\":\"white\",\"linecolor\":\"white\",\"ticks\":\"\"},\"baxis\":{\"gridcolor\":\"white\",\"linecolor\":\"white\",\"ticks\":\"\"},\"bgcolor\":\"#E5ECF6\",\"caxis\":{\"gridcolor\":\"white\",\"linecolor\":\"white\",\"ticks\":\"\"}},\"title\":{\"x\":0.05},\"xaxis\":{\"automargin\":true,\"gridcolor\":\"white\",\"linecolor\":\"white\",\"ticks\":\"\",\"title\":{\"standoff\":15},\"zerolinecolor\":\"white\",\"zerolinewidth\":2},\"yaxis\":{\"automargin\":true,\"gridcolor\":\"white\",\"linecolor\":\"white\",\"ticks\":\"\",\"title\":{\"standoff\":15},\"zerolinecolor\":\"white\",\"zerolinewidth\":2}}},\"title\":{\"text\":\"Difference of uncertainty between Females and Males over years (2015 to 2020)\",\"x\":0.5}},                        {\"responsive\": true}                    ).then(function(){\n",
       "                            \n",
       "var gd = document.getElementById('5cab5b18-89e0-4da3-a0b5-dd97676b9000');\n",
       "var x = new MutationObserver(function (mutations, observer) {{\n",
       "        var display = window.getComputedStyle(gd).display;\n",
       "        if (!display || display === 'none') {{\n",
       "            console.log([gd, 'removed!']);\n",
       "            Plotly.purge(gd);\n",
       "            observer.disconnect();\n",
       "        }}\n",
       "}});\n",
       "\n",
       "// Listen for the removal of the full notebook cells\n",
       "var notebookContainer = gd.closest('#notebook-container');\n",
       "if (notebookContainer) {{\n",
       "    x.observe(notebookContainer, {childList: true});\n",
       "}}\n",
       "\n",
       "// Listen for the clearing of the current output cell\n",
       "var outputEl = gd.closest('.output');\n",
       "if (outputEl) {{\n",
       "    x.observe(outputEl, {childList: true});\n",
       "}}\n",
       "\n",
       "                        })                };                });            </script>        </div>"
      ]
     },
     "metadata": {},
     "output_type": "display_data"
    },
    {
     "data": {
      "text/plain": [
       "'Images/world_map.html'"
      ]
     },
     "execution_count": 20,
     "metadata": {},
     "output_type": "execute_result"
    }
   ],
   "source": [
    "init_notebook_mode(connected=True)\n",
    "\n",
    "data_slider = []\n",
    "years = ['2015', '2016', '2017', '2018', '2019', '2020']\n",
    "\n",
    "\n",
    "scl = [[0.0, '#000000'],[0.2, colors[2]],[0.4, colors[4]], \n",
    "       [0.6, colors[6]],[0.8, colors[8]],[1.0, colors[9]]]\n",
    "\n",
    "for year in years:\n",
    "    # Selection of the year\n",
    "    df_percentage = calculate_percentage(df_uncertain_no_conditions_per_year[year], df_certain_no_conditions_per_year[year],influence)\n",
    "    for col in df_percentage.columns:  # transform into string\n",
    "        df_percentage[col] = df_percentage[col].astype(str)\n",
    "    ### create the dictionary with the data for the current year\n",
    "    data_one_year = dict(type='choropleth',locations = df_percentage['nationality'],\n",
    "                        z=df_percentage['Diff'].astype(float),\n",
    "                        locationmode='country names',\n",
    "                        colorscale = scl,\n",
    "                        )\n",
    "    data_slider.append(data_one_year)\n",
    "\n",
    "##  Creation of step for slider\n",
    "steps = []\n",
    "for i in range(len(data_slider)):\n",
    "    step = dict(method='restyle',\n",
    "                args=['visible', [False] * len(data_slider)],\n",
    "                label='Year {}'.format(2015 + i)) # label to be displayed for each step (year)\n",
    "    step['args'][1][i] = True\n",
    "    steps.append(step)\n",
    "    \n",
    "#  creation of the 'sliders' object from the 'steps' \n",
    "sliders = [dict(active=0, steps=steps)]  \n",
    "# Set up the layout (including slider option)\n",
    "layout = dict(geo=dict(scope='world',\n",
    "                       projection={'type': 'equirectangular'},\n",
    "                       showcountries = True),\n",
    "                       title = 'Difference of uncertainty between Females and Males over years (2015 to 2020)',\n",
    "                       title_x = 0.5,\n",
    "              sliders=sliders)\n",
    "\n",
    "# Creation of the figure object:\n",
    "fig = dict(data=data_slider, layout=layout) \n",
    "\n",
    "# to plot in the notebook\n",
    "plotly.offline.iplot(fig)\n",
    "\n",
    "#To save the map\n",
    "offline.plot(fig, auto_open=True, \n",
    "             image_width=4000, image_height=2000, \n",
    "             filename='Images/world_map.html', validate=True)"
   ]
  },
  {
   "cell_type": "markdown",
   "metadata": {},
   "source": [
    "#### Religion"
   ]
  },
  {
   "cell_type": "markdown",
   "metadata": {},
   "source": [
    "We now look at the `Religion` feature."
   ]
  },
  {
   "cell_type": "code",
   "execution_count": 21,
   "metadata": {},
   "outputs": [],
   "source": [
    "influence = 'religion'"
   ]
  },
  {
   "cell_type": "code",
   "execution_count": 22,
   "metadata": {},
   "outputs": [],
   "source": [
    "df = calculate_percentage(df_uncertain_no_conditions_all_years, df_certain_no_conditions_all_years, influence)"
   ]
  },
  {
   "cell_type": "markdown",
   "metadata": {},
   "source": [
    "We now focus on 5 of the major religions, best representing the global population."
   ]
  },
  {
   "cell_type": "code",
   "execution_count": 24,
   "metadata": {},
   "outputs": [
    {
     "data": {
      "application/vnd.plotly.v1+json": {
       "config": {
        "plotlyServerURL": "https://plot.ly"
       },
       "data": [
        {
         "domain": {
          "x": [
           0,
           0.16399999999999998
          ],
          "y": [
           0.575,
           1
          ]
         },
         "hole": 0.6,
         "labels": [
          "Certain speakers",
          "Uncertain speakers"
         ],
         "marker": {
          "colors": [
           "#FF3637",
           "#FEA3A5"
          ]
         },
         "type": "pie",
         "values": [
          0.7162537692898954,
          0.28374623071010463
         ]
        },
        {
         "domain": {
          "x": [
           0.204,
           0.368
          ],
          "y": [
           0.575,
           1
          ]
         },
         "hole": 0.6,
         "labels": [
          "Certain speakers",
          "Uncertain speakers"
         ],
         "marker": {
          "colors": [
           "#FF3637",
           "#FEA3A5"
          ]
         },
         "type": "pie",
         "values": [
          0.6328956706884314,
          0.3671043293115685
         ]
        },
        {
         "domain": {
          "x": [
           0.408,
           0.572
          ],
          "y": [
           0.575,
           1
          ]
         },
         "hole": 0.6,
         "labels": [
          "Certain speakers",
          "Uncertain speakers"
         ],
         "marker": {
          "colors": [
           "#FF3637",
           "#FEA3A5"
          ]
         },
         "type": "pie",
         "values": [
          0.6862459209886829,
          0.3137540790113171
         ]
        },
        {
         "domain": {
          "x": [
           0.6119999999999999,
           0.7759999999999998
          ],
          "y": [
           0.575,
           1
          ]
         },
         "hole": 0.6,
         "labels": [
          "Certain speakers",
          "Uncertain speakers"
         ],
         "marker": {
          "colors": [
           "#FF3637",
           "#FEA3A5"
          ]
         },
         "type": "pie",
         "values": [
          0.7044850203864563,
          0.29551497961354367
         ]
        },
        {
         "domain": {
          "x": [
           0.816,
           0.98
          ],
          "y": [
           0.575,
           1
          ]
         },
         "hole": 0.6,
         "labels": [
          "Certain speakers",
          "Uncertain speakers"
         ],
         "marker": {
          "colors": [
           "#FF3637",
           "#FEA3A5"
          ]
         },
         "type": "pie",
         "values": [
          0.7121677495569994,
          0.2878322504430006
         ]
        },
        {
         "domain": {
          "x": [
           0,
           0.16399999999999998
          ],
          "y": [
           0,
           0.425
          ]
         },
         "hole": 0.6,
         "labels": [
          "Certain speakers",
          "Uncertain speakers"
         ],
         "marker": {
          "colors": [
           "#FF3637",
           "#FEA3A5"
          ]
         },
         "type": "pie",
         "values": [
          0.6966575885120079,
          0.30334241148799207
         ]
        },
        {
         "domain": {
          "x": [
           0.204,
           0.368
          ],
          "y": [
           0,
           0.425
          ]
         },
         "hole": 0.6,
         "labels": [
          "Certain speakers",
          "Uncertain speakers"
         ],
         "marker": {
          "colors": [
           "#FF3637",
           "#FEA3A5"
          ]
         },
         "type": "pie",
         "values": [
          0.6361673595279603,
          0.36383264047203967
         ]
        },
        {
         "domain": {
          "x": [
           0.408,
           0.572
          ],
          "y": [
           0,
           0.425
          ]
         },
         "hole": 0.6,
         "labels": [
          "Certain speakers",
          "Uncertain speakers"
         ],
         "marker": {
          "colors": [
           "#FF3637",
           "#FEA3A5"
          ]
         },
         "type": "pie",
         "values": [
          0.7015631496735478,
          0.2984368503264522
         ]
        },
        {
         "domain": {
          "x": [
           0.6119999999999999,
           0.7759999999999998
          ],
          "y": [
           0,
           0.425
          ]
         },
         "hole": 0.6,
         "labels": [
          "Certain speakers",
          "Uncertain speakers"
         ],
         "marker": {
          "colors": [
           "#FF3637",
           "#FEA3A5"
          ]
         },
         "type": "pie",
         "values": [
          0.6856857807971874,
          0.3143142192028125
         ]
        },
        {
         "domain": {
          "x": [
           0.816,
           0.98
          ],
          "y": [
           0,
           0.425
          ]
         },
         "hole": 0.6,
         "labels": [
          "Certain speakers",
          "Uncertain speakers"
         ],
         "marker": {
          "colors": [
           "#FF3637",
           "#FEA3A5"
          ]
         },
         "type": "pie",
         "values": [
          0.7267855940760687,
          0.2732144059239313
         ]
        }
       ],
       "layout": {
        "annotations": [
         {
          "font": {
           "size": 12
          },
          "showarrow": false,
          "text": "Christianity",
          "x": 0.08199999999999999,
          "xanchor": "center",
          "xref": "paper",
          "y": 1,
          "yanchor": "bottom",
          "yref": "paper"
         },
         {
          "font": {
           "size": 12
          },
          "showarrow": false,
          "text": "Hinduism",
          "x": 0.286,
          "xanchor": "center",
          "xref": "paper",
          "y": 1,
          "yanchor": "bottom",
          "yref": "paper"
         },
         {
          "font": {
           "size": 12
          },
          "showarrow": false,
          "text": "Islam",
          "x": 0.49,
          "xanchor": "center",
          "xref": "paper",
          "y": 1,
          "yanchor": "bottom",
          "yref": "paper"
         },
         {
          "font": {
           "size": 12
          },
          "showarrow": false,
          "text": "Atheism",
          "x": 0.6939999999999998,
          "xanchor": "center",
          "xref": "paper",
          "y": 1,
          "yanchor": "bottom",
          "yref": "paper"
         },
         {
          "font": {
           "size": 12
          },
          "showarrow": false,
          "text": "Judaism",
          "x": 0.8979999999999999,
          "xanchor": "center",
          "xref": "paper",
          "y": 1,
          "yanchor": "bottom",
          "yref": "paper"
         },
         {
          "font": {
           "size": 12
          },
          "showarrow": false,
          "text": "Female",
          "textangle": 90,
          "x": 0.98,
          "xanchor": "left",
          "xref": "paper",
          "y": 0.7875,
          "yanchor": "middle",
          "yref": "paper"
         },
         {
          "font": {
           "size": 12
          },
          "showarrow": false,
          "text": "Male",
          "textangle": 90,
          "x": 0.98,
          "xanchor": "left",
          "xref": "paper",
          "y": 0.2125,
          "yanchor": "middle",
          "yref": "paper"
         }
        ],
        "template": {
         "data": {
          "bar": [
           {
            "error_x": {
             "color": "#2a3f5f"
            },
            "error_y": {
             "color": "#2a3f5f"
            },
            "marker": {
             "line": {
              "color": "#E5ECF6",
              "width": 0.5
             },
             "pattern": {
              "fillmode": "overlay",
              "size": 10,
              "solidity": 0.2
             }
            },
            "type": "bar"
           }
          ],
          "barpolar": [
           {
            "marker": {
             "line": {
              "color": "#E5ECF6",
              "width": 0.5
             },
             "pattern": {
              "fillmode": "overlay",
              "size": 10,
              "solidity": 0.2
             }
            },
            "type": "barpolar"
           }
          ],
          "carpet": [
           {
            "aaxis": {
             "endlinecolor": "#2a3f5f",
             "gridcolor": "white",
             "linecolor": "white",
             "minorgridcolor": "white",
             "startlinecolor": "#2a3f5f"
            },
            "baxis": {
             "endlinecolor": "#2a3f5f",
             "gridcolor": "white",
             "linecolor": "white",
             "minorgridcolor": "white",
             "startlinecolor": "#2a3f5f"
            },
            "type": "carpet"
           }
          ],
          "choropleth": [
           {
            "colorbar": {
             "outlinewidth": 0,
             "ticks": ""
            },
            "type": "choropleth"
           }
          ],
          "contour": [
           {
            "colorbar": {
             "outlinewidth": 0,
             "ticks": ""
            },
            "colorscale": [
             [
              0,
              "#0d0887"
             ],
             [
              0.1111111111111111,
              "#46039f"
             ],
             [
              0.2222222222222222,
              "#7201a8"
             ],
             [
              0.3333333333333333,
              "#9c179e"
             ],
             [
              0.4444444444444444,
              "#bd3786"
             ],
             [
              0.5555555555555556,
              "#d8576b"
             ],
             [
              0.6666666666666666,
              "#ed7953"
             ],
             [
              0.7777777777777778,
              "#fb9f3a"
             ],
             [
              0.8888888888888888,
              "#fdca26"
             ],
             [
              1,
              "#f0f921"
             ]
            ],
            "type": "contour"
           }
          ],
          "contourcarpet": [
           {
            "colorbar": {
             "outlinewidth": 0,
             "ticks": ""
            },
            "type": "contourcarpet"
           }
          ],
          "heatmap": [
           {
            "colorbar": {
             "outlinewidth": 0,
             "ticks": ""
            },
            "colorscale": [
             [
              0,
              "#0d0887"
             ],
             [
              0.1111111111111111,
              "#46039f"
             ],
             [
              0.2222222222222222,
              "#7201a8"
             ],
             [
              0.3333333333333333,
              "#9c179e"
             ],
             [
              0.4444444444444444,
              "#bd3786"
             ],
             [
              0.5555555555555556,
              "#d8576b"
             ],
             [
              0.6666666666666666,
              "#ed7953"
             ],
             [
              0.7777777777777778,
              "#fb9f3a"
             ],
             [
              0.8888888888888888,
              "#fdca26"
             ],
             [
              1,
              "#f0f921"
             ]
            ],
            "type": "heatmap"
           }
          ],
          "heatmapgl": [
           {
            "colorbar": {
             "outlinewidth": 0,
             "ticks": ""
            },
            "colorscale": [
             [
              0,
              "#0d0887"
             ],
             [
              0.1111111111111111,
              "#46039f"
             ],
             [
              0.2222222222222222,
              "#7201a8"
             ],
             [
              0.3333333333333333,
              "#9c179e"
             ],
             [
              0.4444444444444444,
              "#bd3786"
             ],
             [
              0.5555555555555556,
              "#d8576b"
             ],
             [
              0.6666666666666666,
              "#ed7953"
             ],
             [
              0.7777777777777778,
              "#fb9f3a"
             ],
             [
              0.8888888888888888,
              "#fdca26"
             ],
             [
              1,
              "#f0f921"
             ]
            ],
            "type": "heatmapgl"
           }
          ],
          "histogram": [
           {
            "marker": {
             "pattern": {
              "fillmode": "overlay",
              "size": 10,
              "solidity": 0.2
             }
            },
            "type": "histogram"
           }
          ],
          "histogram2d": [
           {
            "colorbar": {
             "outlinewidth": 0,
             "ticks": ""
            },
            "colorscale": [
             [
              0,
              "#0d0887"
             ],
             [
              0.1111111111111111,
              "#46039f"
             ],
             [
              0.2222222222222222,
              "#7201a8"
             ],
             [
              0.3333333333333333,
              "#9c179e"
             ],
             [
              0.4444444444444444,
              "#bd3786"
             ],
             [
              0.5555555555555556,
              "#d8576b"
             ],
             [
              0.6666666666666666,
              "#ed7953"
             ],
             [
              0.7777777777777778,
              "#fb9f3a"
             ],
             [
              0.8888888888888888,
              "#fdca26"
             ],
             [
              1,
              "#f0f921"
             ]
            ],
            "type": "histogram2d"
           }
          ],
          "histogram2dcontour": [
           {
            "colorbar": {
             "outlinewidth": 0,
             "ticks": ""
            },
            "colorscale": [
             [
              0,
              "#0d0887"
             ],
             [
              0.1111111111111111,
              "#46039f"
             ],
             [
              0.2222222222222222,
              "#7201a8"
             ],
             [
              0.3333333333333333,
              "#9c179e"
             ],
             [
              0.4444444444444444,
              "#bd3786"
             ],
             [
              0.5555555555555556,
              "#d8576b"
             ],
             [
              0.6666666666666666,
              "#ed7953"
             ],
             [
              0.7777777777777778,
              "#fb9f3a"
             ],
             [
              0.8888888888888888,
              "#fdca26"
             ],
             [
              1,
              "#f0f921"
             ]
            ],
            "type": "histogram2dcontour"
           }
          ],
          "mesh3d": [
           {
            "colorbar": {
             "outlinewidth": 0,
             "ticks": ""
            },
            "type": "mesh3d"
           }
          ],
          "parcoords": [
           {
            "line": {
             "colorbar": {
              "outlinewidth": 0,
              "ticks": ""
             }
            },
            "type": "parcoords"
           }
          ],
          "pie": [
           {
            "automargin": true,
            "type": "pie"
           }
          ],
          "scatter": [
           {
            "marker": {
             "colorbar": {
              "outlinewidth": 0,
              "ticks": ""
             }
            },
            "type": "scatter"
           }
          ],
          "scatter3d": [
           {
            "line": {
             "colorbar": {
              "outlinewidth": 0,
              "ticks": ""
             }
            },
            "marker": {
             "colorbar": {
              "outlinewidth": 0,
              "ticks": ""
             }
            },
            "type": "scatter3d"
           }
          ],
          "scattercarpet": [
           {
            "marker": {
             "colorbar": {
              "outlinewidth": 0,
              "ticks": ""
             }
            },
            "type": "scattercarpet"
           }
          ],
          "scattergeo": [
           {
            "marker": {
             "colorbar": {
              "outlinewidth": 0,
              "ticks": ""
             }
            },
            "type": "scattergeo"
           }
          ],
          "scattergl": [
           {
            "marker": {
             "colorbar": {
              "outlinewidth": 0,
              "ticks": ""
             }
            },
            "type": "scattergl"
           }
          ],
          "scattermapbox": [
           {
            "marker": {
             "colorbar": {
              "outlinewidth": 0,
              "ticks": ""
             }
            },
            "type": "scattermapbox"
           }
          ],
          "scatterpolar": [
           {
            "marker": {
             "colorbar": {
              "outlinewidth": 0,
              "ticks": ""
             }
            },
            "type": "scatterpolar"
           }
          ],
          "scatterpolargl": [
           {
            "marker": {
             "colorbar": {
              "outlinewidth": 0,
              "ticks": ""
             }
            },
            "type": "scatterpolargl"
           }
          ],
          "scatterternary": [
           {
            "marker": {
             "colorbar": {
              "outlinewidth": 0,
              "ticks": ""
             }
            },
            "type": "scatterternary"
           }
          ],
          "surface": [
           {
            "colorbar": {
             "outlinewidth": 0,
             "ticks": ""
            },
            "colorscale": [
             [
              0,
              "#0d0887"
             ],
             [
              0.1111111111111111,
              "#46039f"
             ],
             [
              0.2222222222222222,
              "#7201a8"
             ],
             [
              0.3333333333333333,
              "#9c179e"
             ],
             [
              0.4444444444444444,
              "#bd3786"
             ],
             [
              0.5555555555555556,
              "#d8576b"
             ],
             [
              0.6666666666666666,
              "#ed7953"
             ],
             [
              0.7777777777777778,
              "#fb9f3a"
             ],
             [
              0.8888888888888888,
              "#fdca26"
             ],
             [
              1,
              "#f0f921"
             ]
            ],
            "type": "surface"
           }
          ],
          "table": [
           {
            "cells": {
             "fill": {
              "color": "#EBF0F8"
             },
             "line": {
              "color": "white"
             }
            },
            "header": {
             "fill": {
              "color": "#C8D4E3"
             },
             "line": {
              "color": "white"
             }
            },
            "type": "table"
           }
          ]
         },
         "layout": {
          "annotationdefaults": {
           "arrowcolor": "#2a3f5f",
           "arrowhead": 0,
           "arrowwidth": 1
          },
          "autotypenumbers": "strict",
          "coloraxis": {
           "colorbar": {
            "outlinewidth": 0,
            "ticks": ""
           }
          },
          "colorscale": {
           "diverging": [
            [
             0,
             "#8e0152"
            ],
            [
             0.1,
             "#c51b7d"
            ],
            [
             0.2,
             "#de77ae"
            ],
            [
             0.3,
             "#f1b6da"
            ],
            [
             0.4,
             "#fde0ef"
            ],
            [
             0.5,
             "#f7f7f7"
            ],
            [
             0.6,
             "#e6f5d0"
            ],
            [
             0.7,
             "#b8e186"
            ],
            [
             0.8,
             "#7fbc41"
            ],
            [
             0.9,
             "#4d9221"
            ],
            [
             1,
             "#276419"
            ]
           ],
           "sequential": [
            [
             0,
             "#0d0887"
            ],
            [
             0.1111111111111111,
             "#46039f"
            ],
            [
             0.2222222222222222,
             "#7201a8"
            ],
            [
             0.3333333333333333,
             "#9c179e"
            ],
            [
             0.4444444444444444,
             "#bd3786"
            ],
            [
             0.5555555555555556,
             "#d8576b"
            ],
            [
             0.6666666666666666,
             "#ed7953"
            ],
            [
             0.7777777777777778,
             "#fb9f3a"
            ],
            [
             0.8888888888888888,
             "#fdca26"
            ],
            [
             1,
             "#f0f921"
            ]
           ],
           "sequentialminus": [
            [
             0,
             "#0d0887"
            ],
            [
             0.1111111111111111,
             "#46039f"
            ],
            [
             0.2222222222222222,
             "#7201a8"
            ],
            [
             0.3333333333333333,
             "#9c179e"
            ],
            [
             0.4444444444444444,
             "#bd3786"
            ],
            [
             0.5555555555555556,
             "#d8576b"
            ],
            [
             0.6666666666666666,
             "#ed7953"
            ],
            [
             0.7777777777777778,
             "#fb9f3a"
            ],
            [
             0.8888888888888888,
             "#fdca26"
            ],
            [
             1,
             "#f0f921"
            ]
           ]
          },
          "colorway": [
           "#636efa",
           "#EF553B",
           "#00cc96",
           "#ab63fa",
           "#FFA15A",
           "#19d3f3",
           "#FF6692",
           "#B6E880",
           "#FF97FF",
           "#FECB52"
          ],
          "font": {
           "color": "#2a3f5f"
          },
          "geo": {
           "bgcolor": "white",
           "lakecolor": "white",
           "landcolor": "#E5ECF6",
           "showlakes": true,
           "showland": true,
           "subunitcolor": "white"
          },
          "hoverlabel": {
           "align": "left"
          },
          "hovermode": "closest",
          "mapbox": {
           "style": "light"
          },
          "paper_bgcolor": "white",
          "plot_bgcolor": "#E5ECF6",
          "polar": {
           "angularaxis": {
            "gridcolor": "white",
            "linecolor": "white",
            "ticks": ""
           },
           "bgcolor": "#E5ECF6",
           "radialaxis": {
            "gridcolor": "white",
            "linecolor": "white",
            "ticks": ""
           }
          },
          "scene": {
           "xaxis": {
            "backgroundcolor": "#E5ECF6",
            "gridcolor": "white",
            "gridwidth": 2,
            "linecolor": "white",
            "showbackground": true,
            "ticks": "",
            "zerolinecolor": "white"
           },
           "yaxis": {
            "backgroundcolor": "#E5ECF6",
            "gridcolor": "white",
            "gridwidth": 2,
            "linecolor": "white",
            "showbackground": true,
            "ticks": "",
            "zerolinecolor": "white"
           },
           "zaxis": {
            "backgroundcolor": "#E5ECF6",
            "gridcolor": "white",
            "gridwidth": 2,
            "linecolor": "white",
            "showbackground": true,
            "ticks": "",
            "zerolinecolor": "white"
           }
          },
          "shapedefaults": {
           "line": {
            "color": "#2a3f5f"
           }
          },
          "ternary": {
           "aaxis": {
            "gridcolor": "white",
            "linecolor": "white",
            "ticks": ""
           },
           "baxis": {
            "gridcolor": "white",
            "linecolor": "white",
            "ticks": ""
           },
           "bgcolor": "#E5ECF6",
           "caxis": {
            "gridcolor": "white",
            "linecolor": "white",
            "ticks": ""
           }
          },
          "title": {
           "x": 0.05
          },
          "xaxis": {
           "automargin": true,
           "gridcolor": "white",
           "linecolor": "white",
           "ticks": "",
           "title": {
            "standoff": 15
           },
           "zerolinecolor": "white",
           "zerolinewidth": 2
          },
          "yaxis": {
           "automargin": true,
           "gridcolor": "white",
           "linecolor": "white",
           "ticks": "",
           "title": {
            "standoff": 15
           },
           "zerolinecolor": "white",
           "zerolinewidth": 2
          }
         }
        },
        "title": {
         "text": "% of certain and uncertain speakers in the main 5 religions",
         "x": 0.5
        }
       }
      },
      "text/html": [
       "<div>                            <div id=\"b908dc6a-b8bd-4f07-b895-30130d6519ef\" class=\"plotly-graph-div\" style=\"height:525px; width:100%;\"></div>            <script type=\"text/javascript\">                require([\"plotly\"], function(Plotly) {                    window.PLOTLYENV=window.PLOTLYENV || {};                                    if (document.getElementById(\"b908dc6a-b8bd-4f07-b895-30130d6519ef\")) {                    Plotly.newPlot(                        \"b908dc6a-b8bd-4f07-b895-30130d6519ef\",                        [{\"labels\":[\"Certain speakers\",\"Uncertain speakers\"],\"values\":[0.7162537692898954,0.28374623071010463],\"type\":\"pie\",\"domain\":{\"x\":[0.0,0.16399999999999998],\"y\":[0.575,1.0]},\"marker\":{\"colors\":[\"#FF3637\",\"#FEA3A5\"]},\"hole\":0.6},{\"labels\":[\"Certain speakers\",\"Uncertain speakers\"],\"values\":[0.6328956706884314,0.3671043293115685],\"type\":\"pie\",\"domain\":{\"x\":[0.204,0.368],\"y\":[0.575,1.0]},\"marker\":{\"colors\":[\"#FF3637\",\"#FEA3A5\"]},\"hole\":0.6},{\"labels\":[\"Certain speakers\",\"Uncertain speakers\"],\"values\":[0.6862459209886829,0.3137540790113171],\"type\":\"pie\",\"domain\":{\"x\":[0.408,0.572],\"y\":[0.575,1.0]},\"marker\":{\"colors\":[\"#FF3637\",\"#FEA3A5\"]},\"hole\":0.6},{\"labels\":[\"Certain speakers\",\"Uncertain speakers\"],\"values\":[0.7044850203864563,0.29551497961354367],\"type\":\"pie\",\"domain\":{\"x\":[0.6119999999999999,0.7759999999999998],\"y\":[0.575,1.0]},\"marker\":{\"colors\":[\"#FF3637\",\"#FEA3A5\"]},\"hole\":0.6},{\"labels\":[\"Certain speakers\",\"Uncertain speakers\"],\"values\":[0.7121677495569994,0.2878322504430006],\"type\":\"pie\",\"domain\":{\"x\":[0.816,0.98],\"y\":[0.575,1.0]},\"marker\":{\"colors\":[\"#FF3637\",\"#FEA3A5\"]},\"hole\":0.6},{\"labels\":[\"Certain speakers\",\"Uncertain speakers\"],\"values\":[0.6966575885120079,0.30334241148799207],\"type\":\"pie\",\"domain\":{\"x\":[0.0,0.16399999999999998],\"y\":[0.0,0.425]},\"marker\":{\"colors\":[\"#FF3637\",\"#FEA3A5\"]},\"hole\":0.6},{\"labels\":[\"Certain speakers\",\"Uncertain speakers\"],\"values\":[0.6361673595279603,0.36383264047203967],\"type\":\"pie\",\"domain\":{\"x\":[0.204,0.368],\"y\":[0.0,0.425]},\"marker\":{\"colors\":[\"#FF3637\",\"#FEA3A5\"]},\"hole\":0.6},{\"labels\":[\"Certain speakers\",\"Uncertain speakers\"],\"values\":[0.7015631496735478,0.2984368503264522],\"type\":\"pie\",\"domain\":{\"x\":[0.408,0.572],\"y\":[0.0,0.425]},\"marker\":{\"colors\":[\"#FF3637\",\"#FEA3A5\"]},\"hole\":0.6},{\"labels\":[\"Certain speakers\",\"Uncertain speakers\"],\"values\":[0.6856857807971874,0.3143142192028125],\"type\":\"pie\",\"domain\":{\"x\":[0.6119999999999999,0.7759999999999998],\"y\":[0.0,0.425]},\"marker\":{\"colors\":[\"#FF3637\",\"#FEA3A5\"]},\"hole\":0.6},{\"labels\":[\"Certain speakers\",\"Uncertain speakers\"],\"values\":[0.7267855940760687,0.2732144059239313],\"type\":\"pie\",\"domain\":{\"x\":[0.816,0.98],\"y\":[0.0,0.425]},\"marker\":{\"colors\":[\"#FF3637\",\"#FEA3A5\"]},\"hole\":0.6}],                        {\"template\":{\"data\":{\"bar\":[{\"error_x\":{\"color\":\"#2a3f5f\"},\"error_y\":{\"color\":\"#2a3f5f\"},\"marker\":{\"line\":{\"color\":\"#E5ECF6\",\"width\":0.5},\"pattern\":{\"fillmode\":\"overlay\",\"size\":10,\"solidity\":0.2}},\"type\":\"bar\"}],\"barpolar\":[{\"marker\":{\"line\":{\"color\":\"#E5ECF6\",\"width\":0.5},\"pattern\":{\"fillmode\":\"overlay\",\"size\":10,\"solidity\":0.2}},\"type\":\"barpolar\"}],\"carpet\":[{\"aaxis\":{\"endlinecolor\":\"#2a3f5f\",\"gridcolor\":\"white\",\"linecolor\":\"white\",\"minorgridcolor\":\"white\",\"startlinecolor\":\"#2a3f5f\"},\"baxis\":{\"endlinecolor\":\"#2a3f5f\",\"gridcolor\":\"white\",\"linecolor\":\"white\",\"minorgridcolor\":\"white\",\"startlinecolor\":\"#2a3f5f\"},\"type\":\"carpet\"}],\"choropleth\":[{\"colorbar\":{\"outlinewidth\":0,\"ticks\":\"\"},\"type\":\"choropleth\"}],\"contour\":[{\"colorbar\":{\"outlinewidth\":0,\"ticks\":\"\"},\"colorscale\":[[0.0,\"#0d0887\"],[0.1111111111111111,\"#46039f\"],[0.2222222222222222,\"#7201a8\"],[0.3333333333333333,\"#9c179e\"],[0.4444444444444444,\"#bd3786\"],[0.5555555555555556,\"#d8576b\"],[0.6666666666666666,\"#ed7953\"],[0.7777777777777778,\"#fb9f3a\"],[0.8888888888888888,\"#fdca26\"],[1.0,\"#f0f921\"]],\"type\":\"contour\"}],\"contourcarpet\":[{\"colorbar\":{\"outlinewidth\":0,\"ticks\":\"\"},\"type\":\"contourcarpet\"}],\"heatmap\":[{\"colorbar\":{\"outlinewidth\":0,\"ticks\":\"\"},\"colorscale\":[[0.0,\"#0d0887\"],[0.1111111111111111,\"#46039f\"],[0.2222222222222222,\"#7201a8\"],[0.3333333333333333,\"#9c179e\"],[0.4444444444444444,\"#bd3786\"],[0.5555555555555556,\"#d8576b\"],[0.6666666666666666,\"#ed7953\"],[0.7777777777777778,\"#fb9f3a\"],[0.8888888888888888,\"#fdca26\"],[1.0,\"#f0f921\"]],\"type\":\"heatmap\"}],\"heatmapgl\":[{\"colorbar\":{\"outlinewidth\":0,\"ticks\":\"\"},\"colorscale\":[[0.0,\"#0d0887\"],[0.1111111111111111,\"#46039f\"],[0.2222222222222222,\"#7201a8\"],[0.3333333333333333,\"#9c179e\"],[0.4444444444444444,\"#bd3786\"],[0.5555555555555556,\"#d8576b\"],[0.6666666666666666,\"#ed7953\"],[0.7777777777777778,\"#fb9f3a\"],[0.8888888888888888,\"#fdca26\"],[1.0,\"#f0f921\"]],\"type\":\"heatmapgl\"}],\"histogram\":[{\"marker\":{\"pattern\":{\"fillmode\":\"overlay\",\"size\":10,\"solidity\":0.2}},\"type\":\"histogram\"}],\"histogram2d\":[{\"colorbar\":{\"outlinewidth\":0,\"ticks\":\"\"},\"colorscale\":[[0.0,\"#0d0887\"],[0.1111111111111111,\"#46039f\"],[0.2222222222222222,\"#7201a8\"],[0.3333333333333333,\"#9c179e\"],[0.4444444444444444,\"#bd3786\"],[0.5555555555555556,\"#d8576b\"],[0.6666666666666666,\"#ed7953\"],[0.7777777777777778,\"#fb9f3a\"],[0.8888888888888888,\"#fdca26\"],[1.0,\"#f0f921\"]],\"type\":\"histogram2d\"}],\"histogram2dcontour\":[{\"colorbar\":{\"outlinewidth\":0,\"ticks\":\"\"},\"colorscale\":[[0.0,\"#0d0887\"],[0.1111111111111111,\"#46039f\"],[0.2222222222222222,\"#7201a8\"],[0.3333333333333333,\"#9c179e\"],[0.4444444444444444,\"#bd3786\"],[0.5555555555555556,\"#d8576b\"],[0.6666666666666666,\"#ed7953\"],[0.7777777777777778,\"#fb9f3a\"],[0.8888888888888888,\"#fdca26\"],[1.0,\"#f0f921\"]],\"type\":\"histogram2dcontour\"}],\"mesh3d\":[{\"colorbar\":{\"outlinewidth\":0,\"ticks\":\"\"},\"type\":\"mesh3d\"}],\"parcoords\":[{\"line\":{\"colorbar\":{\"outlinewidth\":0,\"ticks\":\"\"}},\"type\":\"parcoords\"}],\"pie\":[{\"automargin\":true,\"type\":\"pie\"}],\"scatter\":[{\"marker\":{\"colorbar\":{\"outlinewidth\":0,\"ticks\":\"\"}},\"type\":\"scatter\"}],\"scatter3d\":[{\"line\":{\"colorbar\":{\"outlinewidth\":0,\"ticks\":\"\"}},\"marker\":{\"colorbar\":{\"outlinewidth\":0,\"ticks\":\"\"}},\"type\":\"scatter3d\"}],\"scattercarpet\":[{\"marker\":{\"colorbar\":{\"outlinewidth\":0,\"ticks\":\"\"}},\"type\":\"scattercarpet\"}],\"scattergeo\":[{\"marker\":{\"colorbar\":{\"outlinewidth\":0,\"ticks\":\"\"}},\"type\":\"scattergeo\"}],\"scattergl\":[{\"marker\":{\"colorbar\":{\"outlinewidth\":0,\"ticks\":\"\"}},\"type\":\"scattergl\"}],\"scattermapbox\":[{\"marker\":{\"colorbar\":{\"outlinewidth\":0,\"ticks\":\"\"}},\"type\":\"scattermapbox\"}],\"scatterpolar\":[{\"marker\":{\"colorbar\":{\"outlinewidth\":0,\"ticks\":\"\"}},\"type\":\"scatterpolar\"}],\"scatterpolargl\":[{\"marker\":{\"colorbar\":{\"outlinewidth\":0,\"ticks\":\"\"}},\"type\":\"scatterpolargl\"}],\"scatterternary\":[{\"marker\":{\"colorbar\":{\"outlinewidth\":0,\"ticks\":\"\"}},\"type\":\"scatterternary\"}],\"surface\":[{\"colorbar\":{\"outlinewidth\":0,\"ticks\":\"\"},\"colorscale\":[[0.0,\"#0d0887\"],[0.1111111111111111,\"#46039f\"],[0.2222222222222222,\"#7201a8\"],[0.3333333333333333,\"#9c179e\"],[0.4444444444444444,\"#bd3786\"],[0.5555555555555556,\"#d8576b\"],[0.6666666666666666,\"#ed7953\"],[0.7777777777777778,\"#fb9f3a\"],[0.8888888888888888,\"#fdca26\"],[1.0,\"#f0f921\"]],\"type\":\"surface\"}],\"table\":[{\"cells\":{\"fill\":{\"color\":\"#EBF0F8\"},\"line\":{\"color\":\"white\"}},\"header\":{\"fill\":{\"color\":\"#C8D4E3\"},\"line\":{\"color\":\"white\"}},\"type\":\"table\"}]},\"layout\":{\"annotationdefaults\":{\"arrowcolor\":\"#2a3f5f\",\"arrowhead\":0,\"arrowwidth\":1},\"autotypenumbers\":\"strict\",\"coloraxis\":{\"colorbar\":{\"outlinewidth\":0,\"ticks\":\"\"}},\"colorscale\":{\"diverging\":[[0,\"#8e0152\"],[0.1,\"#c51b7d\"],[0.2,\"#de77ae\"],[0.3,\"#f1b6da\"],[0.4,\"#fde0ef\"],[0.5,\"#f7f7f7\"],[0.6,\"#e6f5d0\"],[0.7,\"#b8e186\"],[0.8,\"#7fbc41\"],[0.9,\"#4d9221\"],[1,\"#276419\"]],\"sequential\":[[0.0,\"#0d0887\"],[0.1111111111111111,\"#46039f\"],[0.2222222222222222,\"#7201a8\"],[0.3333333333333333,\"#9c179e\"],[0.4444444444444444,\"#bd3786\"],[0.5555555555555556,\"#d8576b\"],[0.6666666666666666,\"#ed7953\"],[0.7777777777777778,\"#fb9f3a\"],[0.8888888888888888,\"#fdca26\"],[1.0,\"#f0f921\"]],\"sequentialminus\":[[0.0,\"#0d0887\"],[0.1111111111111111,\"#46039f\"],[0.2222222222222222,\"#7201a8\"],[0.3333333333333333,\"#9c179e\"],[0.4444444444444444,\"#bd3786\"],[0.5555555555555556,\"#d8576b\"],[0.6666666666666666,\"#ed7953\"],[0.7777777777777778,\"#fb9f3a\"],[0.8888888888888888,\"#fdca26\"],[1.0,\"#f0f921\"]]},\"colorway\":[\"#636efa\",\"#EF553B\",\"#00cc96\",\"#ab63fa\",\"#FFA15A\",\"#19d3f3\",\"#FF6692\",\"#B6E880\",\"#FF97FF\",\"#FECB52\"],\"font\":{\"color\":\"#2a3f5f\"},\"geo\":{\"bgcolor\":\"white\",\"lakecolor\":\"white\",\"landcolor\":\"#E5ECF6\",\"showlakes\":true,\"showland\":true,\"subunitcolor\":\"white\"},\"hoverlabel\":{\"align\":\"left\"},\"hovermode\":\"closest\",\"mapbox\":{\"style\":\"light\"},\"paper_bgcolor\":\"white\",\"plot_bgcolor\":\"#E5ECF6\",\"polar\":{\"angularaxis\":{\"gridcolor\":\"white\",\"linecolor\":\"white\",\"ticks\":\"\"},\"bgcolor\":\"#E5ECF6\",\"radialaxis\":{\"gridcolor\":\"white\",\"linecolor\":\"white\",\"ticks\":\"\"}},\"scene\":{\"xaxis\":{\"backgroundcolor\":\"#E5ECF6\",\"gridcolor\":\"white\",\"gridwidth\":2,\"linecolor\":\"white\",\"showbackground\":true,\"ticks\":\"\",\"zerolinecolor\":\"white\"},\"yaxis\":{\"backgroundcolor\":\"#E5ECF6\",\"gridcolor\":\"white\",\"gridwidth\":2,\"linecolor\":\"white\",\"showbackground\":true,\"ticks\":\"\",\"zerolinecolor\":\"white\"},\"zaxis\":{\"backgroundcolor\":\"#E5ECF6\",\"gridcolor\":\"white\",\"gridwidth\":2,\"linecolor\":\"white\",\"showbackground\":true,\"ticks\":\"\",\"zerolinecolor\":\"white\"}},\"shapedefaults\":{\"line\":{\"color\":\"#2a3f5f\"}},\"ternary\":{\"aaxis\":{\"gridcolor\":\"white\",\"linecolor\":\"white\",\"ticks\":\"\"},\"baxis\":{\"gridcolor\":\"white\",\"linecolor\":\"white\",\"ticks\":\"\"},\"bgcolor\":\"#E5ECF6\",\"caxis\":{\"gridcolor\":\"white\",\"linecolor\":\"white\",\"ticks\":\"\"}},\"title\":{\"x\":0.05},\"xaxis\":{\"automargin\":true,\"gridcolor\":\"white\",\"linecolor\":\"white\",\"ticks\":\"\",\"title\":{\"standoff\":15},\"zerolinecolor\":\"white\",\"zerolinewidth\":2},\"yaxis\":{\"automargin\":true,\"gridcolor\":\"white\",\"linecolor\":\"white\",\"ticks\":\"\",\"title\":{\"standoff\":15},\"zerolinecolor\":\"white\",\"zerolinewidth\":2}}},\"annotations\":[{\"font\":{\"size\":12},\"showarrow\":false,\"text\":\"Christianity\",\"x\":0.08199999999999999,\"xanchor\":\"center\",\"xref\":\"paper\",\"y\":1.0,\"yanchor\":\"bottom\",\"yref\":\"paper\"},{\"font\":{\"size\":12},\"showarrow\":false,\"text\":\"Hinduism\",\"x\":0.286,\"xanchor\":\"center\",\"xref\":\"paper\",\"y\":1.0,\"yanchor\":\"bottom\",\"yref\":\"paper\"},{\"font\":{\"size\":12},\"showarrow\":false,\"text\":\"Islam\",\"x\":0.49,\"xanchor\":\"center\",\"xref\":\"paper\",\"y\":1.0,\"yanchor\":\"bottom\",\"yref\":\"paper\"},{\"font\":{\"size\":12},\"showarrow\":false,\"text\":\"Atheism\",\"x\":0.6939999999999998,\"xanchor\":\"center\",\"xref\":\"paper\",\"y\":1.0,\"yanchor\":\"bottom\",\"yref\":\"paper\"},{\"font\":{\"size\":12},\"showarrow\":false,\"text\":\"Judaism\",\"x\":0.8979999999999999,\"xanchor\":\"center\",\"xref\":\"paper\",\"y\":1.0,\"yanchor\":\"bottom\",\"yref\":\"paper\"},{\"font\":{\"size\":12},\"showarrow\":false,\"text\":\"Female\",\"textangle\":90,\"x\":0.98,\"xanchor\":\"left\",\"xref\":\"paper\",\"y\":0.7875,\"yanchor\":\"middle\",\"yref\":\"paper\"},{\"font\":{\"size\":12},\"showarrow\":false,\"text\":\"Male\",\"textangle\":90,\"x\":0.98,\"xanchor\":\"left\",\"xref\":\"paper\",\"y\":0.2125,\"yanchor\":\"middle\",\"yref\":\"paper\"}],\"title\":{\"text\":\"% of certain and uncertain speakers in the main 5 religions\",\"x\":0.5}},                        {\"responsive\": true}                    ).then(function(){\n",
       "                            \n",
       "var gd = document.getElementById('b908dc6a-b8bd-4f07-b895-30130d6519ef');\n",
       "var x = new MutationObserver(function (mutations, observer) {{\n",
       "        var display = window.getComputedStyle(gd).display;\n",
       "        if (!display || display === 'none') {{\n",
       "            console.log([gd, 'removed!']);\n",
       "            Plotly.purge(gd);\n",
       "            observer.disconnect();\n",
       "        }}\n",
       "}});\n",
       "\n",
       "// Listen for the removal of the full notebook cells\n",
       "var notebookContainer = gd.closest('#notebook-container');\n",
       "if (notebookContainer) {{\n",
       "    x.observe(notebookContainer, {childList: true});\n",
       "}}\n",
       "\n",
       "// Listen for the clearing of the current output cell\n",
       "var outputEl = gd.closest('.output');\n",
       "if (outputEl) {{\n",
       "    x.observe(outputEl, {childList: true});\n",
       "}}\n",
       "\n",
       "                        })                };                });            </script>        </div>"
      ]
     },
     "metadata": {},
     "output_type": "display_data"
    }
   ],
   "source": [
    "labels = ['Certain speakers','Uncertain speakers']\n",
    "\n",
    "# Create subplots: use 'domain' type for Pie subplot\n",
    "fig = make_subplots(rows = 2, cols = 5, column_titles = ['Christianity', 'Hinduism', 'Islam','Atheism', 'Judaism'],\n",
    "                    row_titles = ['Female', 'Male'], specs = [[{\"type\": \"pie\"}, {\"type\": \"pie\"}, {\"type\": \"pie\"}, \n",
    "                    {\"type\": \"pie\"}, {\"type\": \"pie\"}], [{\"type\": \"pie\"}, {\"type\": \"pie\"}, {\"type\": \"pie\"}, \n",
    "                    {\"type\": \"pie\"}, {\"type\": \"pie\"}]])\n",
    "\n",
    "fig.update_annotations(font_size=12)\n",
    "\n",
    "# Females\n",
    "fig.add_trace(go.Pie(labels = labels, values = [1 - df[df.religion == 'Christianity']['Female'].values[0],\n",
    "                                                df[df.religion == 'Christianity']['Female'].values[0]]), 1, 1)\n",
    "fig.add_trace(go.Pie(labels = labels, values = [1 - df[df.religion == 'Hinduism']['Female'].values[0],\n",
    "                                                df[df.religion == 'Hinduism']['Female'].values[0]]), 1, 2)\n",
    "fig.add_trace(go.Pie(labels = labels, values = [1 - df[df.religion == 'Islam']['Female'].values[0],\n",
    "                                                df[df.religion == 'Islam']['Female'].values[0]]), 1, 3)\n",
    "fig.add_trace(go.Pie(labels = labels, values = [1 - df[df.religion == 'atheism']['Female'].values[0],\n",
    "                                               df[df.religion == 'atheism']['Female'].values[0]]), 1, 4)\n",
    "fig.add_trace(go.Pie(labels = labels, values = [1 - df[df.religion == 'Judaism']['Female'].values[0],\n",
    "                                               df[df.religion == 'Judaism']['Female'].values[0]]), 1, 5)\n",
    "\n",
    "# Males\n",
    "fig.add_trace(go.Pie(labels = labels, values = [1 - df[df.religion == 'Christianity']['Male'].values[0],\n",
    "       df[df.religion == 'Christianity']['Male'].values[0]]), 2, 1)\n",
    "fig.add_trace(go.Pie(labels = labels, values = [1 - df[df.religion == 'Hinduism']['Male'].values[0],\n",
    "       df[df.religion == 'Hinduism']['Male'].values[0]]),2, 2)\n",
    "fig.add_trace(go.Pie(labels = labels, values = [1 - df[df.religion == 'Islam']['Male'].values[0],\n",
    "       df[df.religion == 'Islam']['Male'].values[0]]), 2, 3)\n",
    "fig.add_trace(go.Pie(labels = labels, values = [1 - df[df.religion == 'atheism']['Male'].values[0],\n",
    "       df[df.religion == 'atheism']['Male'].values[0]]),2, 4)\n",
    "fig.add_trace(go.Pie(labels = labels, values = [1 - df[df.religion == 'Judaism']['Male'].values[0],\n",
    "       df[df.religion == 'Judaism']['Male'].values[0]]), 2, 5)\n",
    "\n",
    "fig.update_traces(hole = .6, marker = dict(colors = [colors[2], colors[6]]))\n",
    "\n",
    "fig.update_layout(title_text = \"% of certain and uncertain speakers in the main 5 religions\", title_x=0.5)\n",
    "\n",
    "fig.show()"
   ]
  },
  {
   "cell_type": "markdown",
   "metadata": {},
   "source": [
    "We save the plot for the data story."
   ]
  },
  {
   "cell_type": "code",
   "execution_count": 25,
   "metadata": {},
   "outputs": [],
   "source": [
    "\"\"\"html_path = IMAGE_PATH + \"percentage_religions.html\"\n",
    "fig.write_html(html_path)\"\"\";"
   ]
  },
  {
   "cell_type": "markdown",
   "metadata": {},
   "source": [
    "#### Academic Degree"
   ]
  },
  {
   "cell_type": "markdown",
   "metadata": {},
   "source": [
    "Finally, we look at the `academic_degree` feature."
   ]
  },
  {
   "cell_type": "code",
   "execution_count": 26,
   "metadata": {},
   "outputs": [],
   "source": [
    "influence = 'academic_degree'"
   ]
  },
  {
   "cell_type": "code",
   "execution_count": 27,
   "metadata": {},
   "outputs": [],
   "source": [
    "df = calculate_percentage(df_uncertain_no_conditions_all_years, df_certain_no_conditions_all_years, influence)"
   ]
  },
  {
   "cell_type": "code",
   "execution_count": 28,
   "metadata": {},
   "outputs": [
    {
     "data": {
      "application/vnd.plotly.v1+json": {
       "config": {
        "plotlyServerURL": "https://plot.ly"
       },
       "data": [
        {
         "domain": {
          "x": [
           0,
           0.16399999999999998
          ],
          "y": [
           0.575,
           1
          ]
         },
         "hole": 0.5,
         "labels": [
          "Certain speakers",
          "Uncertain speakers"
         ],
         "marker": {
          "colors": [
           "#FF3637",
           "#FEA3A5"
          ]
         },
         "type": "pie",
         "values": [
          0.7537345487519687,
          0.24626545124803131
         ]
        },
        {
         "domain": {
          "x": [
           0.204,
           0.368
          ],
          "y": [
           0.575,
           1
          ]
         },
         "hole": 0.5,
         "labels": [
          "Certain speakers",
          "Uncertain speakers"
         ],
         "marker": {
          "colors": [
           "#FF3637",
           "#FEA3A5"
          ]
         },
         "type": "pie",
         "values": [
          0.7000360100828231,
          0.2999639899171768
         ]
        },
        {
         "domain": {
          "x": [
           0.408,
           0.572
          ],
          "y": [
           0.575,
           1
          ]
         },
         "hole": 0.5,
         "labels": [
          "Certain speakers",
          "Uncertain speakers"
         ],
         "marker": {
          "colors": [
           "#FF3637",
           "#FEA3A5"
          ]
         },
         "type": "pie",
         "values": [
          0.6868424470710481,
          0.3131575529289518
         ]
        },
        {
         "domain": {
          "x": [
           0.6119999999999999,
           0.7759999999999998
          ],
          "y": [
           0.575,
           1
          ]
         },
         "hole": 0.5,
         "labels": [
          "Certain speakers",
          "Uncertain speakers"
         ],
         "marker": {
          "colors": [
           "#FF3637",
           "#FEA3A5"
          ]
         },
         "type": "pie",
         "values": [
          0.6843992827256425,
          0.31560071727435746
         ]
        },
        {
         "domain": {
          "x": [
           0.816,
           0.98
          ],
          "y": [
           0.575,
           1
          ]
         },
         "hole": 0.5,
         "labels": [
          "Certain speakers",
          "Uncertain speakers"
         ],
         "marker": {
          "colors": [
           "#FF3637",
           "#FEA3A5"
          ]
         },
         "type": "pie",
         "values": [
          0.7232156503133119,
          0.2767843496866881
         ]
        },
        {
         "domain": {
          "x": [
           0,
           0.16399999999999998
          ],
          "y": [
           0,
           0.425
          ]
         },
         "hole": 0.5,
         "labels": [
          "Certain speakers",
          "Uncertain speakers"
         ],
         "marker": {
          "colors": [
           "#FF3637",
           "#FEA3A5"
          ]
         },
         "type": "pie",
         "values": [
          0.7443820224719101,
          0.2556179775280899
         ]
        },
        {
         "domain": {
          "x": [
           0.204,
           0.368
          ],
          "y": [
           0,
           0.425
          ]
         },
         "hole": 0.5,
         "labels": [
          "Certain speakers",
          "Uncertain speakers"
         ],
         "marker": {
          "colors": [
           "#FF3637",
           "#FEA3A5"
          ]
         },
         "type": "pie",
         "values": [
          0.7288116909703631,
          0.27118830902963686
         ]
        },
        {
         "domain": {
          "x": [
           0.408,
           0.572
          ],
          "y": [
           0,
           0.425
          ]
         },
         "hole": 0.5,
         "labels": [
          "Certain speakers",
          "Uncertain speakers"
         ],
         "marker": {
          "colors": [
           "#FF3637",
           "#FEA3A5"
          ]
         },
         "type": "pie",
         "values": [
          0.6833937239351884,
          0.3166062760648117
         ]
        },
        {
         "domain": {
          "x": [
           0.6119999999999999,
           0.7759999999999998
          ],
          "y": [
           0,
           0.425
          ]
         },
         "hole": 0.5,
         "labels": [
          "Certain speakers",
          "Uncertain speakers"
         ],
         "marker": {
          "colors": [
           "#FF3637",
           "#FEA3A5"
          ]
         },
         "type": "pie",
         "values": [
          0.7417461665251486,
          0.2582538334748514
         ]
        },
        {
         "domain": {
          "x": [
           0.816,
           0.98
          ],
          "y": [
           0,
           0.425
          ]
         },
         "hole": 0.5,
         "labels": [
          "Certain speakers",
          "Uncertain speakers"
         ],
         "marker": {
          "colors": [
           "#FF3637",
           "#FEA3A5"
          ]
         },
         "type": "pie",
         "values": [
          0.7142320161631349,
          0.2857679838368651
         ]
        }
       ],
       "layout": {
        "annotations": [
         {
          "font": {
           "size": 12
          },
          "showarrow": false,
          "text": "Bachelor's degree",
          "x": 0.08199999999999999,
          "xanchor": "center",
          "xref": "paper",
          "y": 1,
          "yanchor": "bottom",
          "yref": "paper"
         },
         {
          "font": {
           "size": 12
          },
          "showarrow": false,
          "text": "Bachelor of Arts",
          "x": 0.286,
          "xanchor": "center",
          "xref": "paper",
          "y": 1,
          "yanchor": "bottom",
          "yref": "paper"
         },
         {
          "font": {
           "size": 12
          },
          "showarrow": false,
          "text": "Doctor of Philosophy",
          "x": 0.49,
          "xanchor": "center",
          "xref": "paper",
          "y": 1,
          "yanchor": "bottom",
          "yref": "paper"
         },
         {
          "font": {
           "size": 12
          },
          "showarrow": false,
          "text": "Bachelor of Science",
          "x": 0.6939999999999998,
          "xanchor": "center",
          "xref": "paper",
          "y": 1,
          "yanchor": "bottom",
          "yref": "paper"
         },
         {
          "font": {
           "size": 12
          },
          "showarrow": false,
          "text": "Doctorate",
          "x": 0.8979999999999999,
          "xanchor": "center",
          "xref": "paper",
          "y": 1,
          "yanchor": "bottom",
          "yref": "paper"
         },
         {
          "font": {
           "size": 12
          },
          "showarrow": false,
          "text": "Female",
          "textangle": 90,
          "x": 0.98,
          "xanchor": "left",
          "xref": "paper",
          "y": 0.7875,
          "yanchor": "middle",
          "yref": "paper"
         },
         {
          "font": {
           "size": 12
          },
          "showarrow": false,
          "text": "Male",
          "textangle": 90,
          "x": 0.98,
          "xanchor": "left",
          "xref": "paper",
          "y": 0.2125,
          "yanchor": "middle",
          "yref": "paper"
         }
        ],
        "template": {
         "data": {
          "bar": [
           {
            "error_x": {
             "color": "#2a3f5f"
            },
            "error_y": {
             "color": "#2a3f5f"
            },
            "marker": {
             "line": {
              "color": "#E5ECF6",
              "width": 0.5
             },
             "pattern": {
              "fillmode": "overlay",
              "size": 10,
              "solidity": 0.2
             }
            },
            "type": "bar"
           }
          ],
          "barpolar": [
           {
            "marker": {
             "line": {
              "color": "#E5ECF6",
              "width": 0.5
             },
             "pattern": {
              "fillmode": "overlay",
              "size": 10,
              "solidity": 0.2
             }
            },
            "type": "barpolar"
           }
          ],
          "carpet": [
           {
            "aaxis": {
             "endlinecolor": "#2a3f5f",
             "gridcolor": "white",
             "linecolor": "white",
             "minorgridcolor": "white",
             "startlinecolor": "#2a3f5f"
            },
            "baxis": {
             "endlinecolor": "#2a3f5f",
             "gridcolor": "white",
             "linecolor": "white",
             "minorgridcolor": "white",
             "startlinecolor": "#2a3f5f"
            },
            "type": "carpet"
           }
          ],
          "choropleth": [
           {
            "colorbar": {
             "outlinewidth": 0,
             "ticks": ""
            },
            "type": "choropleth"
           }
          ],
          "contour": [
           {
            "colorbar": {
             "outlinewidth": 0,
             "ticks": ""
            },
            "colorscale": [
             [
              0,
              "#0d0887"
             ],
             [
              0.1111111111111111,
              "#46039f"
             ],
             [
              0.2222222222222222,
              "#7201a8"
             ],
             [
              0.3333333333333333,
              "#9c179e"
             ],
             [
              0.4444444444444444,
              "#bd3786"
             ],
             [
              0.5555555555555556,
              "#d8576b"
             ],
             [
              0.6666666666666666,
              "#ed7953"
             ],
             [
              0.7777777777777778,
              "#fb9f3a"
             ],
             [
              0.8888888888888888,
              "#fdca26"
             ],
             [
              1,
              "#f0f921"
             ]
            ],
            "type": "contour"
           }
          ],
          "contourcarpet": [
           {
            "colorbar": {
             "outlinewidth": 0,
             "ticks": ""
            },
            "type": "contourcarpet"
           }
          ],
          "heatmap": [
           {
            "colorbar": {
             "outlinewidth": 0,
             "ticks": ""
            },
            "colorscale": [
             [
              0,
              "#0d0887"
             ],
             [
              0.1111111111111111,
              "#46039f"
             ],
             [
              0.2222222222222222,
              "#7201a8"
             ],
             [
              0.3333333333333333,
              "#9c179e"
             ],
             [
              0.4444444444444444,
              "#bd3786"
             ],
             [
              0.5555555555555556,
              "#d8576b"
             ],
             [
              0.6666666666666666,
              "#ed7953"
             ],
             [
              0.7777777777777778,
              "#fb9f3a"
             ],
             [
              0.8888888888888888,
              "#fdca26"
             ],
             [
              1,
              "#f0f921"
             ]
            ],
            "type": "heatmap"
           }
          ],
          "heatmapgl": [
           {
            "colorbar": {
             "outlinewidth": 0,
             "ticks": ""
            },
            "colorscale": [
             [
              0,
              "#0d0887"
             ],
             [
              0.1111111111111111,
              "#46039f"
             ],
             [
              0.2222222222222222,
              "#7201a8"
             ],
             [
              0.3333333333333333,
              "#9c179e"
             ],
             [
              0.4444444444444444,
              "#bd3786"
             ],
             [
              0.5555555555555556,
              "#d8576b"
             ],
             [
              0.6666666666666666,
              "#ed7953"
             ],
             [
              0.7777777777777778,
              "#fb9f3a"
             ],
             [
              0.8888888888888888,
              "#fdca26"
             ],
             [
              1,
              "#f0f921"
             ]
            ],
            "type": "heatmapgl"
           }
          ],
          "histogram": [
           {
            "marker": {
             "pattern": {
              "fillmode": "overlay",
              "size": 10,
              "solidity": 0.2
             }
            },
            "type": "histogram"
           }
          ],
          "histogram2d": [
           {
            "colorbar": {
             "outlinewidth": 0,
             "ticks": ""
            },
            "colorscale": [
             [
              0,
              "#0d0887"
             ],
             [
              0.1111111111111111,
              "#46039f"
             ],
             [
              0.2222222222222222,
              "#7201a8"
             ],
             [
              0.3333333333333333,
              "#9c179e"
             ],
             [
              0.4444444444444444,
              "#bd3786"
             ],
             [
              0.5555555555555556,
              "#d8576b"
             ],
             [
              0.6666666666666666,
              "#ed7953"
             ],
             [
              0.7777777777777778,
              "#fb9f3a"
             ],
             [
              0.8888888888888888,
              "#fdca26"
             ],
             [
              1,
              "#f0f921"
             ]
            ],
            "type": "histogram2d"
           }
          ],
          "histogram2dcontour": [
           {
            "colorbar": {
             "outlinewidth": 0,
             "ticks": ""
            },
            "colorscale": [
             [
              0,
              "#0d0887"
             ],
             [
              0.1111111111111111,
              "#46039f"
             ],
             [
              0.2222222222222222,
              "#7201a8"
             ],
             [
              0.3333333333333333,
              "#9c179e"
             ],
             [
              0.4444444444444444,
              "#bd3786"
             ],
             [
              0.5555555555555556,
              "#d8576b"
             ],
             [
              0.6666666666666666,
              "#ed7953"
             ],
             [
              0.7777777777777778,
              "#fb9f3a"
             ],
             [
              0.8888888888888888,
              "#fdca26"
             ],
             [
              1,
              "#f0f921"
             ]
            ],
            "type": "histogram2dcontour"
           }
          ],
          "mesh3d": [
           {
            "colorbar": {
             "outlinewidth": 0,
             "ticks": ""
            },
            "type": "mesh3d"
           }
          ],
          "parcoords": [
           {
            "line": {
             "colorbar": {
              "outlinewidth": 0,
              "ticks": ""
             }
            },
            "type": "parcoords"
           }
          ],
          "pie": [
           {
            "automargin": true,
            "type": "pie"
           }
          ],
          "scatter": [
           {
            "marker": {
             "colorbar": {
              "outlinewidth": 0,
              "ticks": ""
             }
            },
            "type": "scatter"
           }
          ],
          "scatter3d": [
           {
            "line": {
             "colorbar": {
              "outlinewidth": 0,
              "ticks": ""
             }
            },
            "marker": {
             "colorbar": {
              "outlinewidth": 0,
              "ticks": ""
             }
            },
            "type": "scatter3d"
           }
          ],
          "scattercarpet": [
           {
            "marker": {
             "colorbar": {
              "outlinewidth": 0,
              "ticks": ""
             }
            },
            "type": "scattercarpet"
           }
          ],
          "scattergeo": [
           {
            "marker": {
             "colorbar": {
              "outlinewidth": 0,
              "ticks": ""
             }
            },
            "type": "scattergeo"
           }
          ],
          "scattergl": [
           {
            "marker": {
             "colorbar": {
              "outlinewidth": 0,
              "ticks": ""
             }
            },
            "type": "scattergl"
           }
          ],
          "scattermapbox": [
           {
            "marker": {
             "colorbar": {
              "outlinewidth": 0,
              "ticks": ""
             }
            },
            "type": "scattermapbox"
           }
          ],
          "scatterpolar": [
           {
            "marker": {
             "colorbar": {
              "outlinewidth": 0,
              "ticks": ""
             }
            },
            "type": "scatterpolar"
           }
          ],
          "scatterpolargl": [
           {
            "marker": {
             "colorbar": {
              "outlinewidth": 0,
              "ticks": ""
             }
            },
            "type": "scatterpolargl"
           }
          ],
          "scatterternary": [
           {
            "marker": {
             "colorbar": {
              "outlinewidth": 0,
              "ticks": ""
             }
            },
            "type": "scatterternary"
           }
          ],
          "surface": [
           {
            "colorbar": {
             "outlinewidth": 0,
             "ticks": ""
            },
            "colorscale": [
             [
              0,
              "#0d0887"
             ],
             [
              0.1111111111111111,
              "#46039f"
             ],
             [
              0.2222222222222222,
              "#7201a8"
             ],
             [
              0.3333333333333333,
              "#9c179e"
             ],
             [
              0.4444444444444444,
              "#bd3786"
             ],
             [
              0.5555555555555556,
              "#d8576b"
             ],
             [
              0.6666666666666666,
              "#ed7953"
             ],
             [
              0.7777777777777778,
              "#fb9f3a"
             ],
             [
              0.8888888888888888,
              "#fdca26"
             ],
             [
              1,
              "#f0f921"
             ]
            ],
            "type": "surface"
           }
          ],
          "table": [
           {
            "cells": {
             "fill": {
              "color": "#EBF0F8"
             },
             "line": {
              "color": "white"
             }
            },
            "header": {
             "fill": {
              "color": "#C8D4E3"
             },
             "line": {
              "color": "white"
             }
            },
            "type": "table"
           }
          ]
         },
         "layout": {
          "annotationdefaults": {
           "arrowcolor": "#2a3f5f",
           "arrowhead": 0,
           "arrowwidth": 1
          },
          "autotypenumbers": "strict",
          "coloraxis": {
           "colorbar": {
            "outlinewidth": 0,
            "ticks": ""
           }
          },
          "colorscale": {
           "diverging": [
            [
             0,
             "#8e0152"
            ],
            [
             0.1,
             "#c51b7d"
            ],
            [
             0.2,
             "#de77ae"
            ],
            [
             0.3,
             "#f1b6da"
            ],
            [
             0.4,
             "#fde0ef"
            ],
            [
             0.5,
             "#f7f7f7"
            ],
            [
             0.6,
             "#e6f5d0"
            ],
            [
             0.7,
             "#b8e186"
            ],
            [
             0.8,
             "#7fbc41"
            ],
            [
             0.9,
             "#4d9221"
            ],
            [
             1,
             "#276419"
            ]
           ],
           "sequential": [
            [
             0,
             "#0d0887"
            ],
            [
             0.1111111111111111,
             "#46039f"
            ],
            [
             0.2222222222222222,
             "#7201a8"
            ],
            [
             0.3333333333333333,
             "#9c179e"
            ],
            [
             0.4444444444444444,
             "#bd3786"
            ],
            [
             0.5555555555555556,
             "#d8576b"
            ],
            [
             0.6666666666666666,
             "#ed7953"
            ],
            [
             0.7777777777777778,
             "#fb9f3a"
            ],
            [
             0.8888888888888888,
             "#fdca26"
            ],
            [
             1,
             "#f0f921"
            ]
           ],
           "sequentialminus": [
            [
             0,
             "#0d0887"
            ],
            [
             0.1111111111111111,
             "#46039f"
            ],
            [
             0.2222222222222222,
             "#7201a8"
            ],
            [
             0.3333333333333333,
             "#9c179e"
            ],
            [
             0.4444444444444444,
             "#bd3786"
            ],
            [
             0.5555555555555556,
             "#d8576b"
            ],
            [
             0.6666666666666666,
             "#ed7953"
            ],
            [
             0.7777777777777778,
             "#fb9f3a"
            ],
            [
             0.8888888888888888,
             "#fdca26"
            ],
            [
             1,
             "#f0f921"
            ]
           ]
          },
          "colorway": [
           "#636efa",
           "#EF553B",
           "#00cc96",
           "#ab63fa",
           "#FFA15A",
           "#19d3f3",
           "#FF6692",
           "#B6E880",
           "#FF97FF",
           "#FECB52"
          ],
          "font": {
           "color": "#2a3f5f"
          },
          "geo": {
           "bgcolor": "white",
           "lakecolor": "white",
           "landcolor": "#E5ECF6",
           "showlakes": true,
           "showland": true,
           "subunitcolor": "white"
          },
          "hoverlabel": {
           "align": "left"
          },
          "hovermode": "closest",
          "mapbox": {
           "style": "light"
          },
          "paper_bgcolor": "white",
          "plot_bgcolor": "#E5ECF6",
          "polar": {
           "angularaxis": {
            "gridcolor": "white",
            "linecolor": "white",
            "ticks": ""
           },
           "bgcolor": "#E5ECF6",
           "radialaxis": {
            "gridcolor": "white",
            "linecolor": "white",
            "ticks": ""
           }
          },
          "scene": {
           "xaxis": {
            "backgroundcolor": "#E5ECF6",
            "gridcolor": "white",
            "gridwidth": 2,
            "linecolor": "white",
            "showbackground": true,
            "ticks": "",
            "zerolinecolor": "white"
           },
           "yaxis": {
            "backgroundcolor": "#E5ECF6",
            "gridcolor": "white",
            "gridwidth": 2,
            "linecolor": "white",
            "showbackground": true,
            "ticks": "",
            "zerolinecolor": "white"
           },
           "zaxis": {
            "backgroundcolor": "#E5ECF6",
            "gridcolor": "white",
            "gridwidth": 2,
            "linecolor": "white",
            "showbackground": true,
            "ticks": "",
            "zerolinecolor": "white"
           }
          },
          "shapedefaults": {
           "line": {
            "color": "#2a3f5f"
           }
          },
          "ternary": {
           "aaxis": {
            "gridcolor": "white",
            "linecolor": "white",
            "ticks": ""
           },
           "baxis": {
            "gridcolor": "white",
            "linecolor": "white",
            "ticks": ""
           },
           "bgcolor": "#E5ECF6",
           "caxis": {
            "gridcolor": "white",
            "linecolor": "white",
            "ticks": ""
           }
          },
          "title": {
           "x": 0.05
          },
          "xaxis": {
           "automargin": true,
           "gridcolor": "white",
           "linecolor": "white",
           "ticks": "",
           "title": {
            "standoff": 15
           },
           "zerolinecolor": "white",
           "zerolinewidth": 2
          },
          "yaxis": {
           "automargin": true,
           "gridcolor": "white",
           "linecolor": "white",
           "ticks": "",
           "title": {
            "standoff": 15
           },
           "zerolinecolor": "white",
           "zerolinewidth": 2
          }
         }
        },
        "title": {
         "text": "% of certain and uncertain speakers in the main 5 categories of academic degrees",
         "x": 0.5
        }
       }
      },
      "text/html": [
       "<div>                            <div id=\"f0caaa1c-3cc2-4acc-af78-5c1780b8b2d2\" class=\"plotly-graph-div\" style=\"height:525px; width:100%;\"></div>            <script type=\"text/javascript\">                require([\"plotly\"], function(Plotly) {                    window.PLOTLYENV=window.PLOTLYENV || {};                                    if (document.getElementById(\"f0caaa1c-3cc2-4acc-af78-5c1780b8b2d2\")) {                    Plotly.newPlot(                        \"f0caaa1c-3cc2-4acc-af78-5c1780b8b2d2\",                        [{\"labels\":[\"Certain speakers\",\"Uncertain speakers\"],\"values\":[0.7537345487519687,0.24626545124803131],\"type\":\"pie\",\"domain\":{\"x\":[0.0,0.16399999999999998],\"y\":[0.575,1.0]},\"marker\":{\"colors\":[\"#FF3637\",\"#FEA3A5\"]},\"hole\":0.5},{\"labels\":[\"Certain speakers\",\"Uncertain speakers\"],\"values\":[0.7000360100828231,0.2999639899171768],\"type\":\"pie\",\"domain\":{\"x\":[0.204,0.368],\"y\":[0.575,1.0]},\"marker\":{\"colors\":[\"#FF3637\",\"#FEA3A5\"]},\"hole\":0.5},{\"labels\":[\"Certain speakers\",\"Uncertain speakers\"],\"values\":[0.6868424470710481,0.3131575529289518],\"type\":\"pie\",\"domain\":{\"x\":[0.408,0.572],\"y\":[0.575,1.0]},\"marker\":{\"colors\":[\"#FF3637\",\"#FEA3A5\"]},\"hole\":0.5},{\"labels\":[\"Certain speakers\",\"Uncertain speakers\"],\"values\":[0.6843992827256425,0.31560071727435746],\"type\":\"pie\",\"domain\":{\"x\":[0.6119999999999999,0.7759999999999998],\"y\":[0.575,1.0]},\"marker\":{\"colors\":[\"#FF3637\",\"#FEA3A5\"]},\"hole\":0.5},{\"labels\":[\"Certain speakers\",\"Uncertain speakers\"],\"values\":[0.7232156503133119,0.2767843496866881],\"type\":\"pie\",\"domain\":{\"x\":[0.816,0.98],\"y\":[0.575,1.0]},\"marker\":{\"colors\":[\"#FF3637\",\"#FEA3A5\"]},\"hole\":0.5},{\"labels\":[\"Certain speakers\",\"Uncertain speakers\"],\"values\":[0.7443820224719101,0.2556179775280899],\"type\":\"pie\",\"domain\":{\"x\":[0.0,0.16399999999999998],\"y\":[0.0,0.425]},\"marker\":{\"colors\":[\"#FF3637\",\"#FEA3A5\"]},\"hole\":0.5},{\"labels\":[\"Certain speakers\",\"Uncertain speakers\"],\"values\":[0.7288116909703631,0.27118830902963686],\"type\":\"pie\",\"domain\":{\"x\":[0.204,0.368],\"y\":[0.0,0.425]},\"marker\":{\"colors\":[\"#FF3637\",\"#FEA3A5\"]},\"hole\":0.5},{\"labels\":[\"Certain speakers\",\"Uncertain speakers\"],\"values\":[0.6833937239351884,0.3166062760648117],\"type\":\"pie\",\"domain\":{\"x\":[0.408,0.572],\"y\":[0.0,0.425]},\"marker\":{\"colors\":[\"#FF3637\",\"#FEA3A5\"]},\"hole\":0.5},{\"labels\":[\"Certain speakers\",\"Uncertain speakers\"],\"values\":[0.7417461665251486,0.2582538334748514],\"type\":\"pie\",\"domain\":{\"x\":[0.6119999999999999,0.7759999999999998],\"y\":[0.0,0.425]},\"marker\":{\"colors\":[\"#FF3637\",\"#FEA3A5\"]},\"hole\":0.5},{\"labels\":[\"Certain speakers\",\"Uncertain speakers\"],\"values\":[0.7142320161631349,0.2857679838368651],\"type\":\"pie\",\"domain\":{\"x\":[0.816,0.98],\"y\":[0.0,0.425]},\"marker\":{\"colors\":[\"#FF3637\",\"#FEA3A5\"]},\"hole\":0.5}],                        {\"template\":{\"data\":{\"bar\":[{\"error_x\":{\"color\":\"#2a3f5f\"},\"error_y\":{\"color\":\"#2a3f5f\"},\"marker\":{\"line\":{\"color\":\"#E5ECF6\",\"width\":0.5},\"pattern\":{\"fillmode\":\"overlay\",\"size\":10,\"solidity\":0.2}},\"type\":\"bar\"}],\"barpolar\":[{\"marker\":{\"line\":{\"color\":\"#E5ECF6\",\"width\":0.5},\"pattern\":{\"fillmode\":\"overlay\",\"size\":10,\"solidity\":0.2}},\"type\":\"barpolar\"}],\"carpet\":[{\"aaxis\":{\"endlinecolor\":\"#2a3f5f\",\"gridcolor\":\"white\",\"linecolor\":\"white\",\"minorgridcolor\":\"white\",\"startlinecolor\":\"#2a3f5f\"},\"baxis\":{\"endlinecolor\":\"#2a3f5f\",\"gridcolor\":\"white\",\"linecolor\":\"white\",\"minorgridcolor\":\"white\",\"startlinecolor\":\"#2a3f5f\"},\"type\":\"carpet\"}],\"choropleth\":[{\"colorbar\":{\"outlinewidth\":0,\"ticks\":\"\"},\"type\":\"choropleth\"}],\"contour\":[{\"colorbar\":{\"outlinewidth\":0,\"ticks\":\"\"},\"colorscale\":[[0.0,\"#0d0887\"],[0.1111111111111111,\"#46039f\"],[0.2222222222222222,\"#7201a8\"],[0.3333333333333333,\"#9c179e\"],[0.4444444444444444,\"#bd3786\"],[0.5555555555555556,\"#d8576b\"],[0.6666666666666666,\"#ed7953\"],[0.7777777777777778,\"#fb9f3a\"],[0.8888888888888888,\"#fdca26\"],[1.0,\"#f0f921\"]],\"type\":\"contour\"}],\"contourcarpet\":[{\"colorbar\":{\"outlinewidth\":0,\"ticks\":\"\"},\"type\":\"contourcarpet\"}],\"heatmap\":[{\"colorbar\":{\"outlinewidth\":0,\"ticks\":\"\"},\"colorscale\":[[0.0,\"#0d0887\"],[0.1111111111111111,\"#46039f\"],[0.2222222222222222,\"#7201a8\"],[0.3333333333333333,\"#9c179e\"],[0.4444444444444444,\"#bd3786\"],[0.5555555555555556,\"#d8576b\"],[0.6666666666666666,\"#ed7953\"],[0.7777777777777778,\"#fb9f3a\"],[0.8888888888888888,\"#fdca26\"],[1.0,\"#f0f921\"]],\"type\":\"heatmap\"}],\"heatmapgl\":[{\"colorbar\":{\"outlinewidth\":0,\"ticks\":\"\"},\"colorscale\":[[0.0,\"#0d0887\"],[0.1111111111111111,\"#46039f\"],[0.2222222222222222,\"#7201a8\"],[0.3333333333333333,\"#9c179e\"],[0.4444444444444444,\"#bd3786\"],[0.5555555555555556,\"#d8576b\"],[0.6666666666666666,\"#ed7953\"],[0.7777777777777778,\"#fb9f3a\"],[0.8888888888888888,\"#fdca26\"],[1.0,\"#f0f921\"]],\"type\":\"heatmapgl\"}],\"histogram\":[{\"marker\":{\"pattern\":{\"fillmode\":\"overlay\",\"size\":10,\"solidity\":0.2}},\"type\":\"histogram\"}],\"histogram2d\":[{\"colorbar\":{\"outlinewidth\":0,\"ticks\":\"\"},\"colorscale\":[[0.0,\"#0d0887\"],[0.1111111111111111,\"#46039f\"],[0.2222222222222222,\"#7201a8\"],[0.3333333333333333,\"#9c179e\"],[0.4444444444444444,\"#bd3786\"],[0.5555555555555556,\"#d8576b\"],[0.6666666666666666,\"#ed7953\"],[0.7777777777777778,\"#fb9f3a\"],[0.8888888888888888,\"#fdca26\"],[1.0,\"#f0f921\"]],\"type\":\"histogram2d\"}],\"histogram2dcontour\":[{\"colorbar\":{\"outlinewidth\":0,\"ticks\":\"\"},\"colorscale\":[[0.0,\"#0d0887\"],[0.1111111111111111,\"#46039f\"],[0.2222222222222222,\"#7201a8\"],[0.3333333333333333,\"#9c179e\"],[0.4444444444444444,\"#bd3786\"],[0.5555555555555556,\"#d8576b\"],[0.6666666666666666,\"#ed7953\"],[0.7777777777777778,\"#fb9f3a\"],[0.8888888888888888,\"#fdca26\"],[1.0,\"#f0f921\"]],\"type\":\"histogram2dcontour\"}],\"mesh3d\":[{\"colorbar\":{\"outlinewidth\":0,\"ticks\":\"\"},\"type\":\"mesh3d\"}],\"parcoords\":[{\"line\":{\"colorbar\":{\"outlinewidth\":0,\"ticks\":\"\"}},\"type\":\"parcoords\"}],\"pie\":[{\"automargin\":true,\"type\":\"pie\"}],\"scatter\":[{\"marker\":{\"colorbar\":{\"outlinewidth\":0,\"ticks\":\"\"}},\"type\":\"scatter\"}],\"scatter3d\":[{\"line\":{\"colorbar\":{\"outlinewidth\":0,\"ticks\":\"\"}},\"marker\":{\"colorbar\":{\"outlinewidth\":0,\"ticks\":\"\"}},\"type\":\"scatter3d\"}],\"scattercarpet\":[{\"marker\":{\"colorbar\":{\"outlinewidth\":0,\"ticks\":\"\"}},\"type\":\"scattercarpet\"}],\"scattergeo\":[{\"marker\":{\"colorbar\":{\"outlinewidth\":0,\"ticks\":\"\"}},\"type\":\"scattergeo\"}],\"scattergl\":[{\"marker\":{\"colorbar\":{\"outlinewidth\":0,\"ticks\":\"\"}},\"type\":\"scattergl\"}],\"scattermapbox\":[{\"marker\":{\"colorbar\":{\"outlinewidth\":0,\"ticks\":\"\"}},\"type\":\"scattermapbox\"}],\"scatterpolar\":[{\"marker\":{\"colorbar\":{\"outlinewidth\":0,\"ticks\":\"\"}},\"type\":\"scatterpolar\"}],\"scatterpolargl\":[{\"marker\":{\"colorbar\":{\"outlinewidth\":0,\"ticks\":\"\"}},\"type\":\"scatterpolargl\"}],\"scatterternary\":[{\"marker\":{\"colorbar\":{\"outlinewidth\":0,\"ticks\":\"\"}},\"type\":\"scatterternary\"}],\"surface\":[{\"colorbar\":{\"outlinewidth\":0,\"ticks\":\"\"},\"colorscale\":[[0.0,\"#0d0887\"],[0.1111111111111111,\"#46039f\"],[0.2222222222222222,\"#7201a8\"],[0.3333333333333333,\"#9c179e\"],[0.4444444444444444,\"#bd3786\"],[0.5555555555555556,\"#d8576b\"],[0.6666666666666666,\"#ed7953\"],[0.7777777777777778,\"#fb9f3a\"],[0.8888888888888888,\"#fdca26\"],[1.0,\"#f0f921\"]],\"type\":\"surface\"}],\"table\":[{\"cells\":{\"fill\":{\"color\":\"#EBF0F8\"},\"line\":{\"color\":\"white\"}},\"header\":{\"fill\":{\"color\":\"#C8D4E3\"},\"line\":{\"color\":\"white\"}},\"type\":\"table\"}]},\"layout\":{\"annotationdefaults\":{\"arrowcolor\":\"#2a3f5f\",\"arrowhead\":0,\"arrowwidth\":1},\"autotypenumbers\":\"strict\",\"coloraxis\":{\"colorbar\":{\"outlinewidth\":0,\"ticks\":\"\"}},\"colorscale\":{\"diverging\":[[0,\"#8e0152\"],[0.1,\"#c51b7d\"],[0.2,\"#de77ae\"],[0.3,\"#f1b6da\"],[0.4,\"#fde0ef\"],[0.5,\"#f7f7f7\"],[0.6,\"#e6f5d0\"],[0.7,\"#b8e186\"],[0.8,\"#7fbc41\"],[0.9,\"#4d9221\"],[1,\"#276419\"]],\"sequential\":[[0.0,\"#0d0887\"],[0.1111111111111111,\"#46039f\"],[0.2222222222222222,\"#7201a8\"],[0.3333333333333333,\"#9c179e\"],[0.4444444444444444,\"#bd3786\"],[0.5555555555555556,\"#d8576b\"],[0.6666666666666666,\"#ed7953\"],[0.7777777777777778,\"#fb9f3a\"],[0.8888888888888888,\"#fdca26\"],[1.0,\"#f0f921\"]],\"sequentialminus\":[[0.0,\"#0d0887\"],[0.1111111111111111,\"#46039f\"],[0.2222222222222222,\"#7201a8\"],[0.3333333333333333,\"#9c179e\"],[0.4444444444444444,\"#bd3786\"],[0.5555555555555556,\"#d8576b\"],[0.6666666666666666,\"#ed7953\"],[0.7777777777777778,\"#fb9f3a\"],[0.8888888888888888,\"#fdca26\"],[1.0,\"#f0f921\"]]},\"colorway\":[\"#636efa\",\"#EF553B\",\"#00cc96\",\"#ab63fa\",\"#FFA15A\",\"#19d3f3\",\"#FF6692\",\"#B6E880\",\"#FF97FF\",\"#FECB52\"],\"font\":{\"color\":\"#2a3f5f\"},\"geo\":{\"bgcolor\":\"white\",\"lakecolor\":\"white\",\"landcolor\":\"#E5ECF6\",\"showlakes\":true,\"showland\":true,\"subunitcolor\":\"white\"},\"hoverlabel\":{\"align\":\"left\"},\"hovermode\":\"closest\",\"mapbox\":{\"style\":\"light\"},\"paper_bgcolor\":\"white\",\"plot_bgcolor\":\"#E5ECF6\",\"polar\":{\"angularaxis\":{\"gridcolor\":\"white\",\"linecolor\":\"white\",\"ticks\":\"\"},\"bgcolor\":\"#E5ECF6\",\"radialaxis\":{\"gridcolor\":\"white\",\"linecolor\":\"white\",\"ticks\":\"\"}},\"scene\":{\"xaxis\":{\"backgroundcolor\":\"#E5ECF6\",\"gridcolor\":\"white\",\"gridwidth\":2,\"linecolor\":\"white\",\"showbackground\":true,\"ticks\":\"\",\"zerolinecolor\":\"white\"},\"yaxis\":{\"backgroundcolor\":\"#E5ECF6\",\"gridcolor\":\"white\",\"gridwidth\":2,\"linecolor\":\"white\",\"showbackground\":true,\"ticks\":\"\",\"zerolinecolor\":\"white\"},\"zaxis\":{\"backgroundcolor\":\"#E5ECF6\",\"gridcolor\":\"white\",\"gridwidth\":2,\"linecolor\":\"white\",\"showbackground\":true,\"ticks\":\"\",\"zerolinecolor\":\"white\"}},\"shapedefaults\":{\"line\":{\"color\":\"#2a3f5f\"}},\"ternary\":{\"aaxis\":{\"gridcolor\":\"white\",\"linecolor\":\"white\",\"ticks\":\"\"},\"baxis\":{\"gridcolor\":\"white\",\"linecolor\":\"white\",\"ticks\":\"\"},\"bgcolor\":\"#E5ECF6\",\"caxis\":{\"gridcolor\":\"white\",\"linecolor\":\"white\",\"ticks\":\"\"}},\"title\":{\"x\":0.05},\"xaxis\":{\"automargin\":true,\"gridcolor\":\"white\",\"linecolor\":\"white\",\"ticks\":\"\",\"title\":{\"standoff\":15},\"zerolinecolor\":\"white\",\"zerolinewidth\":2},\"yaxis\":{\"automargin\":true,\"gridcolor\":\"white\",\"linecolor\":\"white\",\"ticks\":\"\",\"title\":{\"standoff\":15},\"zerolinecolor\":\"white\",\"zerolinewidth\":2}}},\"annotations\":[{\"font\":{\"size\":12},\"showarrow\":false,\"text\":\"Bachelor's degree\",\"x\":0.08199999999999999,\"xanchor\":\"center\",\"xref\":\"paper\",\"y\":1.0,\"yanchor\":\"bottom\",\"yref\":\"paper\"},{\"font\":{\"size\":12},\"showarrow\":false,\"text\":\"Bachelor of Arts\",\"x\":0.286,\"xanchor\":\"center\",\"xref\":\"paper\",\"y\":1.0,\"yanchor\":\"bottom\",\"yref\":\"paper\"},{\"font\":{\"size\":12},\"showarrow\":false,\"text\":\"Doctor of Philosophy\",\"x\":0.49,\"xanchor\":\"center\",\"xref\":\"paper\",\"y\":1.0,\"yanchor\":\"bottom\",\"yref\":\"paper\"},{\"font\":{\"size\":12},\"showarrow\":false,\"text\":\"Bachelor of Science\",\"x\":0.6939999999999998,\"xanchor\":\"center\",\"xref\":\"paper\",\"y\":1.0,\"yanchor\":\"bottom\",\"yref\":\"paper\"},{\"font\":{\"size\":12},\"showarrow\":false,\"text\":\"Doctorate\",\"x\":0.8979999999999999,\"xanchor\":\"center\",\"xref\":\"paper\",\"y\":1.0,\"yanchor\":\"bottom\",\"yref\":\"paper\"},{\"font\":{\"size\":12},\"showarrow\":false,\"text\":\"Female\",\"textangle\":90,\"x\":0.98,\"xanchor\":\"left\",\"xref\":\"paper\",\"y\":0.7875,\"yanchor\":\"middle\",\"yref\":\"paper\"},{\"font\":{\"size\":12},\"showarrow\":false,\"text\":\"Male\",\"textangle\":90,\"x\":0.98,\"xanchor\":\"left\",\"xref\":\"paper\",\"y\":0.2125,\"yanchor\":\"middle\",\"yref\":\"paper\"}],\"title\":{\"text\":\"% of certain and uncertain speakers in the main 5 categories of academic degrees\",\"x\":0.5}},                        {\"responsive\": true}                    ).then(function(){\n",
       "                            \n",
       "var gd = document.getElementById('f0caaa1c-3cc2-4acc-af78-5c1780b8b2d2');\n",
       "var x = new MutationObserver(function (mutations, observer) {{\n",
       "        var display = window.getComputedStyle(gd).display;\n",
       "        if (!display || display === 'none') {{\n",
       "            console.log([gd, 'removed!']);\n",
       "            Plotly.purge(gd);\n",
       "            observer.disconnect();\n",
       "        }}\n",
       "}});\n",
       "\n",
       "// Listen for the removal of the full notebook cells\n",
       "var notebookContainer = gd.closest('#notebook-container');\n",
       "if (notebookContainer) {{\n",
       "    x.observe(notebookContainer, {childList: true});\n",
       "}}\n",
       "\n",
       "// Listen for the clearing of the current output cell\n",
       "var outputEl = gd.closest('.output');\n",
       "if (outputEl) {{\n",
       "    x.observe(outputEl, {childList: true});\n",
       "}}\n",
       "\n",
       "                        })                };                });            </script>        </div>"
      ]
     },
     "metadata": {},
     "output_type": "display_data"
    }
   ],
   "source": [
    "labels = ['Certain speakers','Uncertain speakers']\n",
    "\n",
    "# Create subplots: use 'domain' type for Pie subplot\n",
    "fig = make_subplots(rows = 2, cols = 5, column_titles = [\"Bachelor's degree\", 'Bachelor of Arts', \n",
    "                    'Doctor of Philosophy','Bachelor of Science', 'Doctorate'], row_titles = ['Female', 'Male'],\n",
    "                     specs = [[{\"type\": \"pie\"}, {\"type\": \"pie\"}, {\"type\": \"pie\"}, {\"type\": \"pie\"}, {\"type\": \"pie\"}], \n",
    "                             [{\"type\": \"pie\"}, {\"type\": \"pie\"}, {\"type\": \"pie\"}, {\"type\": \"pie\"}, {\"type\": \"pie\"}]])\n",
    "\n",
    "fig.update_annotations(font_size=12)\n",
    "\n",
    "# Females\n",
    "fig.add_trace(go.Pie(labels = labels, values = [1 - df[df.academic_degree == \"bachelor's degree\"]['Female'].values[0],\n",
    "                                    df[df.academic_degree == \"bachelor's degree\"]['Female'].values[0]]), 1, 1)\n",
    "fig.add_trace(go.Pie(labels = labels, values = [1 - df[df.academic_degree == 'Bachelor of Arts']['Female'].values[0],\n",
    "                                    df[df.academic_degree == 'Bachelor of Arts']['Female'].values[0]]), 1, 2)\n",
    "fig.add_trace(go.Pie(labels = labels, values = [1 - df[df.academic_degree == 'Doctor of Philosophy']['Female']. \\\n",
    "                                    values[0], df[df.academic_degree == 'Doctor of Philosophy']['Female'].values[0]]),\n",
    "                                    1, 3)\n",
    "fig.add_trace(go.Pie(labels = labels, values = [1 - df[df.academic_degree == 'Bachelor of Science']['Female']. \\\n",
    "                                    values[0], df[df.academic_degree == 'Bachelor of Science']['Female'].values[0]]), \n",
    "                                    1, 4)\n",
    "fig.add_trace(go.Pie(labels = labels, values = [1 - df[df.academic_degree == 'doctorate']['Female'].values[0],\n",
    "                                    df[df.academic_degree == 'doctorate']['Female'].values[0]]), 1, 5)\n",
    "\n",
    "# Males\n",
    "fig.add_trace(go.Pie(labels = labels, values = [1 - df[df.academic_degree == \"bachelor's degree\"]['Male'].values[0],\n",
    "                                    df[df.academic_degree == \"bachelor's degree\"]['Male'].values[0]]), 2, 1)\n",
    "fig.add_trace(go.Pie(labels = labels, values = [1 - df[df.academic_degree == 'Bachelor of Arts']['Male'].values[0],\n",
    "                                    df[df.academic_degree == 'Bachelor of Arts']['Male'].values[0]]), 2, 2)\n",
    "fig.add_trace(go.Pie(labels = labels, values = [1 - df[df.academic_degree == 'Doctor of Philosophy']['Male']. \\\n",
    "                                    values[0], df[df.academic_degree == 'Doctor of Philosophy']['Male'].values[0]]), \n",
    "                                    2, 3)\n",
    "fig.add_trace(go.Pie(labels = labels, values = [1 - df[df.academic_degree == 'Bachelor of Science']['Male'].values[0],\n",
    "                                    df[df.academic_degree == 'Bachelor of Science']['Male'].values[0]]), 2, 4)\n",
    "fig.add_trace(go.Pie(labels = labels, values = [1 - df[df.academic_degree == 'doctorate']['Male'].values[0],\n",
    "                                    df[df.academic_degree == 'doctorate']['Male'].values[0]]), 2, 5)\n",
    "\n",
    "fig.update_traces(hole = .5, marker = dict(colors = [colors[2], colors[6]]))\n",
    "\n",
    "fig.update_layout \\\n",
    "        (title_text = \"% of certain and uncertain speakers in the main 5 categories of academic degrees\", title_x=0.5)\n",
    "\n",
    "fig.show()"
   ]
  },
  {
   "cell_type": "markdown",
   "metadata": {},
   "source": [
    "We save the figure."
   ]
  },
  {
   "cell_type": "code",
   "execution_count": 29,
   "metadata": {},
   "outputs": [],
   "source": [
    "\"\"\"html_path = IMAGE_PATH + \"percentage_academic_degree.html\"\n",
    "fig.write_html(html_path)\"\"\";"
   ]
  },
  {
   "cell_type": "markdown",
   "metadata": {},
   "source": [
    "### 4.4 Possible variation from 2015 to 2020 <a class = anchor id=\"4.4\"></a>"
   ]
  },
  {
   "cell_type": "markdown",
   "metadata": {},
   "source": [
    "Finally, we want to see if those distributions would vary between years. Let's compare the possible change between 2015 and 2020 concerning speech uncertainty gender difference. "
   ]
  },
  {
   "cell_type": "markdown",
   "metadata": {},
   "source": [
    "#### Accross occupations"
   ]
  },
  {
   "cell_type": "markdown",
   "metadata": {},
   "source": [
    "Here, again, we still separate between the different profesionnal fields. We use the previously created dictionnary containing all uncertainty quotes from each profession per year (`df_uncertain_professions_per_year`) from part [4.2 Analysis of the genders distribution per professions](#4.2)"
   ]
  },
  {
   "cell_type": "code",
   "execution_count": 18,
   "metadata": {},
   "outputs": [],
   "source": [
    "gender_dist_ratio_professions_per_year = {}\n",
    "for i in range(15,21): # A CHANGER EN (15, 21)\n",
    "    gender_dist_ratio_professions_per_year['politicians_20' + str(i)] = \\\n",
    "                                            create_gender_dist(df_per_year['df_politicians_20' + str(i)],\n",
    "                                            df_uncertain_professions_per_year['df_uncertain_politicians_20' + str(i)])\n",
    "    gender_dist_ratio_professions_per_year['artists_20' + str(i)] = \\\n",
    "                                            create_gender_dist(df_per_year['df_artists_20' + str(i)],\n",
    "                                            df_uncertain_professions_per_year['df_uncertain_artists_20' + str(i)])\n",
    "    gender_dist_ratio_professions_per_year['scientists_20' + str(i)] = \\\n",
    "                                            create_gender_dist(df_per_year['df_scientists_20' + str(i)],\n",
    "                                            df_uncertain_professions_per_year['df_uncertain_scientists_20' + str(i)])\n",
    "    gender_dist_ratio_professions_per_year['economists_20' + str(i)] = \\\n",
    "                                            create_gender_dist(df_per_year['df_economists_20' + str(i)],\n",
    "                                            df_uncertain_professions_per_year['df_uncertain_economists_20' + str(i)])"
   ]
  },
  {
   "cell_type": "markdown",
   "metadata": {},
   "source": [
    "We visualise our ratio in percentages in a table."
   ]
  },
  {
   "cell_type": "code",
   "execution_count": 24,
   "metadata": {
    "scrolled": true
   },
   "outputs": [],
   "source": [
    "df_years = pd.DataFrame(gender_dist_ratio_professions_per_year)\n",
    "df_years.index = ['Female', 'Male']"
   ]
  },
  {
   "cell_type": "markdown",
   "metadata": {},
   "source": [
    "We plot the change in distributions of uncertain speakers from 2015 to 2020 in our four professional fields, after inserting our data in a differently designed dataframe."
   ]
  },
  {
   "cell_type": "code",
   "execution_count": 21,
   "metadata": {},
   "outputs": [],
   "source": [
    "df = pd.DataFrame(columns = ['female_politicians', 'female_artists', 'female_scientists', 'female_economists', \n",
    "                             'male_politicians', 'male_artists', 'male_scientists', 'male_economists'], \n",
    "                  index = ['2015', '2016', '2017', '2018', '2019', '2020'])\n",
    "\n",
    "for i in range(15,21) : \n",
    "    df.at[df.index == '20'+ str(i), 'female_politicians'] = \\\n",
    "                                            df_years[df_years.index == 'Female']['politicians_20' + str(i)].values[0]\n",
    "    df.at[df.index == '20' + str(i), 'female_artists'] = \\\n",
    "                                            df_years[df_years.index == 'Female']['artists_20' + str(i)].values[0]\n",
    "    df.at[df.index == '20' + str(i), 'female_scientists'] = \\\n",
    "                                            df_years[df_years.index == 'Female']['scientists_20' + str(i)].values[0]\n",
    "    df.at[df.index == '20' + str(i), 'female_economists'] = \\\n",
    "                                            df_years[df_years.index == 'Female']['economists_20' + str(i)].values[0]\n",
    "    df.at[df.index == '20' + str(i), 'male_politicians'] = \\\n",
    "                                            df_years[df_years.index == 'Male']['politicians_20' + str(i)].values[0]\n",
    "    df.at[df.index == '20' + str(i), 'male_artists'] = \\\n",
    "                                            df_years[df_years.index == 'Male']['artists_20' + str(i)].values[0]\n",
    "    df.at[df.index == '20' + str(i), 'male_scientists'] = \\\n",
    "                                            df_years[df_years.index == 'Male']['scientists_20' + str(i)].values[0]\n",
    "    df.at[df.index == '20' + str(i), 'male_economists'] = \\\n",
    "                                            df_years[df_years.index == 'Male']['economists_20' + str(i)].values[0]"
   ]
  },
  {
   "cell_type": "code",
   "execution_count": 41,
   "metadata": {},
   "outputs": [
    {
     "data": {
      "text/html": [
       "<div>\n",
       "<style scoped>\n",
       "    .dataframe tbody tr th:only-of-type {\n",
       "        vertical-align: middle;\n",
       "    }\n",
       "\n",
       "    .dataframe tbody tr th {\n",
       "        vertical-align: top;\n",
       "    }\n",
       "\n",
       "    .dataframe thead th {\n",
       "        text-align: right;\n",
       "    }\n",
       "</style>\n",
       "<table border=\"1\" class=\"dataframe\">\n",
       "  <thead>\n",
       "    <tr style=\"text-align: right;\">\n",
       "      <th></th>\n",
       "      <th>female_politicians</th>\n",
       "      <th>female_artists</th>\n",
       "      <th>female_scientists</th>\n",
       "      <th>female_economists</th>\n",
       "      <th>male_politicians</th>\n",
       "      <th>male_artists</th>\n",
       "      <th>male_scientists</th>\n",
       "      <th>male_economists</th>\n",
       "    </tr>\n",
       "  </thead>\n",
       "  <tbody>\n",
       "    <tr>\n",
       "      <th>2015</th>\n",
       "      <td>28.69</td>\n",
       "      <td>29.12</td>\n",
       "      <td>30.27</td>\n",
       "      <td>30.81</td>\n",
       "      <td>28.71</td>\n",
       "      <td>29.30</td>\n",
       "      <td>30.70</td>\n",
       "      <td>30.55</td>\n",
       "    </tr>\n",
       "    <tr>\n",
       "      <th>2016</th>\n",
       "      <td>28.04</td>\n",
       "      <td>29.02</td>\n",
       "      <td>29.92</td>\n",
       "      <td>31.03</td>\n",
       "      <td>28.54</td>\n",
       "      <td>29.34</td>\n",
       "      <td>30.21</td>\n",
       "      <td>31.50</td>\n",
       "    </tr>\n",
       "    <tr>\n",
       "      <th>2017</th>\n",
       "      <td>28.43</td>\n",
       "      <td>29.80</td>\n",
       "      <td>29.94</td>\n",
       "      <td>31.35</td>\n",
       "      <td>28.68</td>\n",
       "      <td>29.68</td>\n",
       "      <td>30.19</td>\n",
       "      <td>31.74</td>\n",
       "    </tr>\n",
       "    <tr>\n",
       "      <th>2018</th>\n",
       "      <td>28.68</td>\n",
       "      <td>30.33</td>\n",
       "      <td>30.75</td>\n",
       "      <td>30.99</td>\n",
       "      <td>28.99</td>\n",
       "      <td>30.27</td>\n",
       "      <td>30.69</td>\n",
       "      <td>31.33</td>\n",
       "    </tr>\n",
       "    <tr>\n",
       "      <th>2019</th>\n",
       "      <td>28.33</td>\n",
       "      <td>30.70</td>\n",
       "      <td>31.15</td>\n",
       "      <td>31.42</td>\n",
       "      <td>29.05</td>\n",
       "      <td>31.04</td>\n",
       "      <td>31.38</td>\n",
       "      <td>31.33</td>\n",
       "    </tr>\n",
       "    <tr>\n",
       "      <th>2020</th>\n",
       "      <td>29.09</td>\n",
       "      <td>30.61</td>\n",
       "      <td>31.30</td>\n",
       "      <td>29.90</td>\n",
       "      <td>29.42</td>\n",
       "      <td>31.39</td>\n",
       "      <td>32.17</td>\n",
       "      <td>30.38</td>\n",
       "    </tr>\n",
       "  </tbody>\n",
       "</table>\n",
       "</div>"
      ],
      "text/plain": [
       "      female_politicians  female_artists  female_scientists  \\\n",
       "2015               28.69           29.12              30.27   \n",
       "2016               28.04           29.02              29.92   \n",
       "2017               28.43           29.80              29.94   \n",
       "2018               28.68           30.33              30.75   \n",
       "2019               28.33           30.70              31.15   \n",
       "2020               29.09           30.61              31.30   \n",
       "\n",
       "      female_economists  male_politicians  male_artists  male_scientists  \\\n",
       "2015              30.81             28.71         29.30            30.70   \n",
       "2016              31.03             28.54         29.34            30.21   \n",
       "2017              31.35             28.68         29.68            30.19   \n",
       "2018              30.99             28.99         30.27            30.69   \n",
       "2019              31.42             29.05         31.04            31.38   \n",
       "2020              29.90             29.42         31.39            32.17   \n",
       "\n",
       "      male_economists  \n",
       "2015            30.55  \n",
       "2016            31.50  \n",
       "2017            31.74  \n",
       "2018            31.33  \n",
       "2019            31.33  \n",
       "2020            30.38  "
      ]
     },
     "execution_count": 41,
     "metadata": {},
     "output_type": "execute_result"
    }
   ],
   "source": [
    "df.astype(float).round(2)"
   ]
  },
  {
   "cell_type": "code",
   "execution_count": 51,
   "metadata": {},
   "outputs": [
    {
     "data": {
      "application/vnd.plotly.v1+json": {
       "config": {
        "plotlyServerURL": "https://plot.ly"
       },
       "data": [
        {
         "line": {
          "width": 3
         },
         "marker": {
          "color": "#FF5252"
         },
         "name": "Female politicians",
         "type": "scatter",
         "x": [
          "2015",
          "2016",
          "2017",
          "2018",
          "2019",
          "2020"
         ],
         "y": [
          28.694518681140487,
          28.043632316434287,
          28.429219632156837,
          28.678127976485495,
          28.33123247380776,
          29.093705518776453
         ]
        },
        {
         "line": {
          "width": 3
         },
         "marker": {
          "color": "#FE8889"
         },
         "name": "Female artists",
         "type": "scatter",
         "x": [
          "2015",
          "2016",
          "2017",
          "2018",
          "2019",
          "2020"
         ],
         "y": [
          29.120801433382702,
          29.02288735402776,
          29.802575311223034,
          30.33038322334068,
          30.70297986178197,
          30.606369078367617
         ]
        },
        {
         "line": {
          "width": 3
         },
         "marker": {
          "color": "#FEBFC0"
         },
         "name": "Female scientists",
         "type": "scatter",
         "x": [
          "2015",
          "2016",
          "2017",
          "2018",
          "2019",
          "2020"
         ],
         "y": [
          30.265206593491435,
          29.91701960483701,
          29.94054064322486,
          30.747641763207916,
          31.148003166307024,
          31.29594703822024
         ]
        },
        {
         "line": {
          "width": 3
         },
         "marker": {
          "color": "#FEF5F7"
         },
         "name": "Female economists",
         "type": "scatter",
         "x": [
          "2015",
          "2016",
          "2017",
          "2018",
          "2019",
          "2020"
         ],
         "y": [
          30.81083763398174,
          31.03088299260548,
          31.347015805614532,
          30.988481114385213,
          31.42100617828773,
          29.898220941912886
         ]
        },
        {
         "line": {
          "dash": "dash",
          "width": 3
         },
         "marker": {
          "color": "#FF5252"
         },
         "name": "Male politicians",
         "type": "scatter",
         "x": [
          "2015",
          "2016",
          "2017",
          "2018",
          "2019",
          "2020"
         ],
         "y": [
          28.712743933997015,
          28.543543790871205,
          28.680510762321127,
          28.986310775436642,
          29.05475689337115,
          29.422827778473394
         ]
        },
        {
         "line": {
          "dash": "dash",
          "width": 3
         },
         "marker": {
          "color": "#FE8889"
         },
         "name": "Male artists",
         "type": "scatter",
         "x": [
          "2015",
          "2016",
          "2017",
          "2018",
          "2019",
          "2020"
         ],
         "y": [
          29.295425142594024,
          29.33659320131164,
          29.677468723695654,
          30.27381699698084,
          31.04371979005012,
          31.38776423673984
         ]
        },
        {
         "line": {
          "dash": "dash",
          "width": 3
         },
         "marker": {
          "color": "#FEBFC0"
         },
         "name": "Male scientists",
         "type": "scatter",
         "x": [
          "2015",
          "2016",
          "2017",
          "2018",
          "2019",
          "2020"
         ],
         "y": [
          30.6950993759595,
          30.208940451971188,
          30.194325509713376,
          30.68783211939523,
          31.381400351709893,
          32.16700626857536
         ]
        },
        {
         "line": {
          "dash": "dash",
          "width": 3
         },
         "marker": {
          "color": "#FEF5F7"
         },
         "name": "Male economists",
         "type": "scatter",
         "x": [
          "2015",
          "2016",
          "2017",
          "2018",
          "2019",
          "2020"
         ],
         "y": [
          30.547771102883715,
          31.49890526066631,
          31.74269043293127,
          31.331041600384886,
          31.33296087232936,
          30.376381544872956
         ]
        }
       ],
       "layout": {
        "template": {
         "data": {
          "bar": [
           {
            "error_x": {
             "color": "#2a3f5f"
            },
            "error_y": {
             "color": "#2a3f5f"
            },
            "marker": {
             "line": {
              "color": "#E5ECF6",
              "width": 0.5
             },
             "pattern": {
              "fillmode": "overlay",
              "size": 10,
              "solidity": 0.2
             }
            },
            "type": "bar"
           }
          ],
          "barpolar": [
           {
            "marker": {
             "line": {
              "color": "#E5ECF6",
              "width": 0.5
             },
             "pattern": {
              "fillmode": "overlay",
              "size": 10,
              "solidity": 0.2
             }
            },
            "type": "barpolar"
           }
          ],
          "carpet": [
           {
            "aaxis": {
             "endlinecolor": "#2a3f5f",
             "gridcolor": "white",
             "linecolor": "white",
             "minorgridcolor": "white",
             "startlinecolor": "#2a3f5f"
            },
            "baxis": {
             "endlinecolor": "#2a3f5f",
             "gridcolor": "white",
             "linecolor": "white",
             "minorgridcolor": "white",
             "startlinecolor": "#2a3f5f"
            },
            "type": "carpet"
           }
          ],
          "choropleth": [
           {
            "colorbar": {
             "outlinewidth": 0,
             "ticks": ""
            },
            "type": "choropleth"
           }
          ],
          "contour": [
           {
            "colorbar": {
             "outlinewidth": 0,
             "ticks": ""
            },
            "colorscale": [
             [
              0,
              "#0d0887"
             ],
             [
              0.1111111111111111,
              "#46039f"
             ],
             [
              0.2222222222222222,
              "#7201a8"
             ],
             [
              0.3333333333333333,
              "#9c179e"
             ],
             [
              0.4444444444444444,
              "#bd3786"
             ],
             [
              0.5555555555555556,
              "#d8576b"
             ],
             [
              0.6666666666666666,
              "#ed7953"
             ],
             [
              0.7777777777777778,
              "#fb9f3a"
             ],
             [
              0.8888888888888888,
              "#fdca26"
             ],
             [
              1,
              "#f0f921"
             ]
            ],
            "type": "contour"
           }
          ],
          "contourcarpet": [
           {
            "colorbar": {
             "outlinewidth": 0,
             "ticks": ""
            },
            "type": "contourcarpet"
           }
          ],
          "heatmap": [
           {
            "colorbar": {
             "outlinewidth": 0,
             "ticks": ""
            },
            "colorscale": [
             [
              0,
              "#0d0887"
             ],
             [
              0.1111111111111111,
              "#46039f"
             ],
             [
              0.2222222222222222,
              "#7201a8"
             ],
             [
              0.3333333333333333,
              "#9c179e"
             ],
             [
              0.4444444444444444,
              "#bd3786"
             ],
             [
              0.5555555555555556,
              "#d8576b"
             ],
             [
              0.6666666666666666,
              "#ed7953"
             ],
             [
              0.7777777777777778,
              "#fb9f3a"
             ],
             [
              0.8888888888888888,
              "#fdca26"
             ],
             [
              1,
              "#f0f921"
             ]
            ],
            "type": "heatmap"
           }
          ],
          "heatmapgl": [
           {
            "colorbar": {
             "outlinewidth": 0,
             "ticks": ""
            },
            "colorscale": [
             [
              0,
              "#0d0887"
             ],
             [
              0.1111111111111111,
              "#46039f"
             ],
             [
              0.2222222222222222,
              "#7201a8"
             ],
             [
              0.3333333333333333,
              "#9c179e"
             ],
             [
              0.4444444444444444,
              "#bd3786"
             ],
             [
              0.5555555555555556,
              "#d8576b"
             ],
             [
              0.6666666666666666,
              "#ed7953"
             ],
             [
              0.7777777777777778,
              "#fb9f3a"
             ],
             [
              0.8888888888888888,
              "#fdca26"
             ],
             [
              1,
              "#f0f921"
             ]
            ],
            "type": "heatmapgl"
           }
          ],
          "histogram": [
           {
            "marker": {
             "pattern": {
              "fillmode": "overlay",
              "size": 10,
              "solidity": 0.2
             }
            },
            "type": "histogram"
           }
          ],
          "histogram2d": [
           {
            "colorbar": {
             "outlinewidth": 0,
             "ticks": ""
            },
            "colorscale": [
             [
              0,
              "#0d0887"
             ],
             [
              0.1111111111111111,
              "#46039f"
             ],
             [
              0.2222222222222222,
              "#7201a8"
             ],
             [
              0.3333333333333333,
              "#9c179e"
             ],
             [
              0.4444444444444444,
              "#bd3786"
             ],
             [
              0.5555555555555556,
              "#d8576b"
             ],
             [
              0.6666666666666666,
              "#ed7953"
             ],
             [
              0.7777777777777778,
              "#fb9f3a"
             ],
             [
              0.8888888888888888,
              "#fdca26"
             ],
             [
              1,
              "#f0f921"
             ]
            ],
            "type": "histogram2d"
           }
          ],
          "histogram2dcontour": [
           {
            "colorbar": {
             "outlinewidth": 0,
             "ticks": ""
            },
            "colorscale": [
             [
              0,
              "#0d0887"
             ],
             [
              0.1111111111111111,
              "#46039f"
             ],
             [
              0.2222222222222222,
              "#7201a8"
             ],
             [
              0.3333333333333333,
              "#9c179e"
             ],
             [
              0.4444444444444444,
              "#bd3786"
             ],
             [
              0.5555555555555556,
              "#d8576b"
             ],
             [
              0.6666666666666666,
              "#ed7953"
             ],
             [
              0.7777777777777778,
              "#fb9f3a"
             ],
             [
              0.8888888888888888,
              "#fdca26"
             ],
             [
              1,
              "#f0f921"
             ]
            ],
            "type": "histogram2dcontour"
           }
          ],
          "mesh3d": [
           {
            "colorbar": {
             "outlinewidth": 0,
             "ticks": ""
            },
            "type": "mesh3d"
           }
          ],
          "parcoords": [
           {
            "line": {
             "colorbar": {
              "outlinewidth": 0,
              "ticks": ""
             }
            },
            "type": "parcoords"
           }
          ],
          "pie": [
           {
            "automargin": true,
            "type": "pie"
           }
          ],
          "scatter": [
           {
            "marker": {
             "colorbar": {
              "outlinewidth": 0,
              "ticks": ""
             }
            },
            "type": "scatter"
           }
          ],
          "scatter3d": [
           {
            "line": {
             "colorbar": {
              "outlinewidth": 0,
              "ticks": ""
             }
            },
            "marker": {
             "colorbar": {
              "outlinewidth": 0,
              "ticks": ""
             }
            },
            "type": "scatter3d"
           }
          ],
          "scattercarpet": [
           {
            "marker": {
             "colorbar": {
              "outlinewidth": 0,
              "ticks": ""
             }
            },
            "type": "scattercarpet"
           }
          ],
          "scattergeo": [
           {
            "marker": {
             "colorbar": {
              "outlinewidth": 0,
              "ticks": ""
             }
            },
            "type": "scattergeo"
           }
          ],
          "scattergl": [
           {
            "marker": {
             "colorbar": {
              "outlinewidth": 0,
              "ticks": ""
             }
            },
            "type": "scattergl"
           }
          ],
          "scattermapbox": [
           {
            "marker": {
             "colorbar": {
              "outlinewidth": 0,
              "ticks": ""
             }
            },
            "type": "scattermapbox"
           }
          ],
          "scatterpolar": [
           {
            "marker": {
             "colorbar": {
              "outlinewidth": 0,
              "ticks": ""
             }
            },
            "type": "scatterpolar"
           }
          ],
          "scatterpolargl": [
           {
            "marker": {
             "colorbar": {
              "outlinewidth": 0,
              "ticks": ""
             }
            },
            "type": "scatterpolargl"
           }
          ],
          "scatterternary": [
           {
            "marker": {
             "colorbar": {
              "outlinewidth": 0,
              "ticks": ""
             }
            },
            "type": "scatterternary"
           }
          ],
          "surface": [
           {
            "colorbar": {
             "outlinewidth": 0,
             "ticks": ""
            },
            "colorscale": [
             [
              0,
              "#0d0887"
             ],
             [
              0.1111111111111111,
              "#46039f"
             ],
             [
              0.2222222222222222,
              "#7201a8"
             ],
             [
              0.3333333333333333,
              "#9c179e"
             ],
             [
              0.4444444444444444,
              "#bd3786"
             ],
             [
              0.5555555555555556,
              "#d8576b"
             ],
             [
              0.6666666666666666,
              "#ed7953"
             ],
             [
              0.7777777777777778,
              "#fb9f3a"
             ],
             [
              0.8888888888888888,
              "#fdca26"
             ],
             [
              1,
              "#f0f921"
             ]
            ],
            "type": "surface"
           }
          ],
          "table": [
           {
            "cells": {
             "fill": {
              "color": "#EBF0F8"
             },
             "line": {
              "color": "white"
             }
            },
            "header": {
             "fill": {
              "color": "#C8D4E3"
             },
             "line": {
              "color": "white"
             }
            },
            "type": "table"
           }
          ]
         },
         "layout": {
          "annotationdefaults": {
           "arrowcolor": "#2a3f5f",
           "arrowhead": 0,
           "arrowwidth": 1
          },
          "autotypenumbers": "strict",
          "coloraxis": {
           "colorbar": {
            "outlinewidth": 0,
            "ticks": ""
           }
          },
          "colorscale": {
           "diverging": [
            [
             0,
             "#8e0152"
            ],
            [
             0.1,
             "#c51b7d"
            ],
            [
             0.2,
             "#de77ae"
            ],
            [
             0.3,
             "#f1b6da"
            ],
            [
             0.4,
             "#fde0ef"
            ],
            [
             0.5,
             "#f7f7f7"
            ],
            [
             0.6,
             "#e6f5d0"
            ],
            [
             0.7,
             "#b8e186"
            ],
            [
             0.8,
             "#7fbc41"
            ],
            [
             0.9,
             "#4d9221"
            ],
            [
             1,
             "#276419"
            ]
           ],
           "sequential": [
            [
             0,
             "#0d0887"
            ],
            [
             0.1111111111111111,
             "#46039f"
            ],
            [
             0.2222222222222222,
             "#7201a8"
            ],
            [
             0.3333333333333333,
             "#9c179e"
            ],
            [
             0.4444444444444444,
             "#bd3786"
            ],
            [
             0.5555555555555556,
             "#d8576b"
            ],
            [
             0.6666666666666666,
             "#ed7953"
            ],
            [
             0.7777777777777778,
             "#fb9f3a"
            ],
            [
             0.8888888888888888,
             "#fdca26"
            ],
            [
             1,
             "#f0f921"
            ]
           ],
           "sequentialminus": [
            [
             0,
             "#0d0887"
            ],
            [
             0.1111111111111111,
             "#46039f"
            ],
            [
             0.2222222222222222,
             "#7201a8"
            ],
            [
             0.3333333333333333,
             "#9c179e"
            ],
            [
             0.4444444444444444,
             "#bd3786"
            ],
            [
             0.5555555555555556,
             "#d8576b"
            ],
            [
             0.6666666666666666,
             "#ed7953"
            ],
            [
             0.7777777777777778,
             "#fb9f3a"
            ],
            [
             0.8888888888888888,
             "#fdca26"
            ],
            [
             1,
             "#f0f921"
            ]
           ]
          },
          "colorway": [
           "#636efa",
           "#EF553B",
           "#00cc96",
           "#ab63fa",
           "#FFA15A",
           "#19d3f3",
           "#FF6692",
           "#B6E880",
           "#FF97FF",
           "#FECB52"
          ],
          "font": {
           "color": "#2a3f5f"
          },
          "geo": {
           "bgcolor": "white",
           "lakecolor": "white",
           "landcolor": "#E5ECF6",
           "showlakes": true,
           "showland": true,
           "subunitcolor": "white"
          },
          "hoverlabel": {
           "align": "left"
          },
          "hovermode": "closest",
          "mapbox": {
           "style": "light"
          },
          "paper_bgcolor": "white",
          "plot_bgcolor": "#E5ECF6",
          "polar": {
           "angularaxis": {
            "gridcolor": "white",
            "linecolor": "white",
            "ticks": ""
           },
           "bgcolor": "#E5ECF6",
           "radialaxis": {
            "gridcolor": "white",
            "linecolor": "white",
            "ticks": ""
           }
          },
          "scene": {
           "xaxis": {
            "backgroundcolor": "#E5ECF6",
            "gridcolor": "white",
            "gridwidth": 2,
            "linecolor": "white",
            "showbackground": true,
            "ticks": "",
            "zerolinecolor": "white"
           },
           "yaxis": {
            "backgroundcolor": "#E5ECF6",
            "gridcolor": "white",
            "gridwidth": 2,
            "linecolor": "white",
            "showbackground": true,
            "ticks": "",
            "zerolinecolor": "white"
           },
           "zaxis": {
            "backgroundcolor": "#E5ECF6",
            "gridcolor": "white",
            "gridwidth": 2,
            "linecolor": "white",
            "showbackground": true,
            "ticks": "",
            "zerolinecolor": "white"
           }
          },
          "shapedefaults": {
           "line": {
            "color": "#2a3f5f"
           }
          },
          "ternary": {
           "aaxis": {
            "gridcolor": "white",
            "linecolor": "white",
            "ticks": ""
           },
           "baxis": {
            "gridcolor": "white",
            "linecolor": "white",
            "ticks": ""
           },
           "bgcolor": "#E5ECF6",
           "caxis": {
            "gridcolor": "white",
            "linecolor": "white",
            "ticks": ""
           }
          },
          "title": {
           "x": 0.05
          },
          "xaxis": {
           "automargin": true,
           "gridcolor": "white",
           "linecolor": "white",
           "ticks": "",
           "title": {
            "standoff": 15
           },
           "zerolinecolor": "white",
           "zerolinewidth": 2
          },
          "yaxis": {
           "automargin": true,
           "gridcolor": "white",
           "linecolor": "white",
           "ticks": "",
           "title": {
            "standoff": 15
           },
           "zerolinecolor": "white",
           "zerolinewidth": 2
          }
         }
        },
        "title": {
         "text": "Relative % of uncertain speakers within a gender for each profession <br> from 2015 to 2020",
         "x": 0.5
        },
        "xaxis": {
         "title": {
          "text": "Years"
         }
        },
        "yaxis": {
         "title": {
          "text": "% of uncertain speakers"
         }
        }
       }
      }
     },
     "metadata": {},
     "output_type": "display_data"
    }
   ],
   "source": [
    "# Females\n",
    "trace_fem_pol = go.Scatter(x = df.index, y = df['female_politicians'], name = \"Female politicians\", \n",
    "                   marker_color = colors[3], line = dict(width = 3))\n",
    "trace_fem_art = go.Scatter(x = df.index, y = df['female_artists'], name = \"Female artists\", \n",
    "                   marker_color = colors[5], line = dict(width = 3))\n",
    "trace_fem_sci = go.Scatter(x = df.index, y = df['female_scientists'], name = \"Female scientists\", \n",
    "                   marker_color = colors[7], line = dict(width = 3))\n",
    "trace_fem_eco = go.Scatter(x = df.index, y = df['female_economists'], name = \"Female economists\", \n",
    "                   marker_color = colors[9], line = dict(width = 3))\n",
    "\n",
    "# Males\n",
    "trace_mal_pol = go.Scatter(x = df.index, y = df['male_politicians'], name = \"Male politicians\", \n",
    "                   marker_color = colors[3], line = dict(dash='dash', width = 3))\n",
    "trace_mal_art = go.Scatter(x = df.index, y = df['male_artists'], name = \"Male artists\", \n",
    "                   marker_color = colors[5], line = dict(dash='dash', width = 3))\n",
    "trace_mal_sci = go.Scatter(x = df.index, y = df['male_scientists'], name = \"Male scientists\", \n",
    "                   marker_color = colors[7], line = dict(dash='dash', width = 3))\n",
    "trace_mal_eco = go.Scatter(x = df.index, y = df['male_economists'], name = \"Male economists\", \n",
    "                   marker_color = colors[9], line = dict(dash='dash', width = 3))\n",
    "\n",
    "my_layout = {\n",
    "    'title': 'Relative % of uncertain speakers within a gender for each profession <br> from 2015 to 2020',\n",
    "    'xaxis': {'title': 'Years'},\n",
    "    'yaxis': {'title': '% of uncertain speakers'},\n",
    "    }\n",
    "\n",
    "fig = go.Figure()\n",
    "fig.add_trace(trace_fem_pol)\n",
    "fig.add_trace(trace_fem_art)\n",
    "fig.add_trace(trace_fem_sci)\n",
    "fig.add_trace(trace_fem_eco)\n",
    "fig.add_trace(trace_mal_pol)\n",
    "fig.add_trace(trace_mal_art)\n",
    "fig.add_trace(trace_mal_sci)\n",
    "fig.add_trace(trace_mal_eco)                        \n",
    "fig.update_layout(my_layout, title_x=0.5)\n",
    "\n",
    "fig.show()"
   ]
  },
  {
   "cell_type": "markdown",
   "metadata": {},
   "source": [
    "We then save the figure."
   ]
  },
  {
   "cell_type": "code",
   "execution_count": 52,
   "metadata": {},
   "outputs": [],
   "source": [
    "\"\"\"html_path = IMAGE_PATH + \"percentage_uncertain_plot_across_prof_across_time.html\"\n",
    "fig.write_html(html_path)\"\"\""
   ]
  },
  {
   "cell_type": "markdown",
   "metadata": {},
   "source": [
    "Again, we see that that the genders' distributions are slightly different depending on the profession."
   ]
  },
  {
   "cell_type": "markdown",
   "metadata": {},
   "source": [
    "#### Accross the general dataframe (containing background information)"
   ]
  },
  {
   "cell_type": "markdown",
   "metadata": {},
   "source": [
    "We compute our Female/Male ratios. We use the `df_uncertain_no_conditions_per_year` already defined in [4.3 Background influence](#4.3)."
   ]
  },
  {
   "cell_type": "code",
   "execution_count": 30,
   "metadata": {},
   "outputs": [],
   "source": [
    "gender_dist_ratio_no_conditions_per_year = {}\n",
    "\n",
    "for i in range(15,21):\n",
    "    gender_dist_ratio_no_conditions_per_year['20' + str(i)] = create_gender_dist(df_no_conditions_per_year['20' + \\\n",
    "                                                          str(i)], df_uncertain_no_conditions_per_year['20' + str(i)])"
   ]
  },
  {
   "cell_type": "markdown",
   "metadata": {},
   "source": [
    "The uncertainty percentages per gender per year are displayed in the following table."
   ]
  },
  {
   "cell_type": "code",
   "execution_count": 31,
   "metadata": {},
   "outputs": [
    {
     "data": {
      "text/html": [
       "<div>\n",
       "<style scoped>\n",
       "    .dataframe tbody tr th:only-of-type {\n",
       "        vertical-align: middle;\n",
       "    }\n",
       "\n",
       "    .dataframe tbody tr th {\n",
       "        vertical-align: top;\n",
       "    }\n",
       "\n",
       "    .dataframe thead th {\n",
       "        text-align: right;\n",
       "    }\n",
       "</style>\n",
       "<table border=\"1\" class=\"dataframe\">\n",
       "  <thead>\n",
       "    <tr style=\"text-align: right;\">\n",
       "      <th></th>\n",
       "      <th>2015</th>\n",
       "      <th>2016</th>\n",
       "      <th>2017</th>\n",
       "      <th>2018</th>\n",
       "      <th>2019</th>\n",
       "      <th>2020</th>\n",
       "    </tr>\n",
       "  </thead>\n",
       "  <tbody>\n",
       "    <tr>\n",
       "      <th>Female</th>\n",
       "      <td>28.87</td>\n",
       "      <td>28.26</td>\n",
       "      <td>28.96</td>\n",
       "      <td>29.49</td>\n",
       "      <td>29.64</td>\n",
       "      <td>29.78</td>\n",
       "    </tr>\n",
       "    <tr>\n",
       "      <th>Male</th>\n",
       "      <td>28.77</td>\n",
       "      <td>28.68</td>\n",
       "      <td>29.06</td>\n",
       "      <td>29.39</td>\n",
       "      <td>29.94</td>\n",
       "      <td>30.31</td>\n",
       "    </tr>\n",
       "  </tbody>\n",
       "</table>\n",
       "</div>"
      ],
      "text/plain": [
       "         2015   2016   2017   2018   2019   2020\n",
       "Female  28.87  28.26  28.96  29.49  29.64  29.78\n",
       "Male    28.77  28.68  29.06  29.39  29.94  30.31"
      ]
     },
     "execution_count": 31,
     "metadata": {},
     "output_type": "execute_result"
    }
   ],
   "source": [
    "df_ratio_back_years = pd.DataFrame()\n",
    "\n",
    "for i in range(15,21):\n",
    "    df_ratio_back_years['20' + str(i)] = pd.DataFrame(gender_dist_ratio_no_conditions_per_year['20' + str(i)])\n",
    "\n",
    "df_ratio_back_years.index = ['Female', 'Male']\n",
    "df_ratio_back_years.round(decimals = 2)"
   ]
  },
  {
   "cell_type": "markdown",
   "metadata": {},
   "source": [
    "We again create a dataframe containing the same data as in `df_ratio_back_years` but in a different design."
   ]
  },
  {
   "cell_type": "code",
   "execution_count": 32,
   "metadata": {},
   "outputs": [],
   "source": [
    "df = pd.DataFrame(columns = ['female', 'male'], \n",
    "                  index = ['2015', '2016', '2017', '2018', '2019', '2020'])\n",
    "\n",
    "for i in range(15,21) : \n",
    "    df.at[df.index == '20'+ str(i), 'female'] = df_ratio_back_years[df_ratio_back_years.index == 'Female'] \\\n",
    "                                                                                            ['20' + str(i)].values[0]\n",
    "    df.at[df.index == '20' + str(i), 'male'] = df_ratio_back_years[df_ratio_back_years.index == 'Male'] \\\n",
    "                                                                                            ['20' + str(i)].values[0]\n",
    "    "
   ]
  },
  {
   "cell_type": "markdown",
   "metadata": {},
   "source": [
    "Finally, we visualise our distributions from 2015 to 2020."
   ]
  },
  {
   "cell_type": "code",
   "execution_count": 33,
   "metadata": {},
   "outputs": [
    {
     "data": {
      "application/vnd.plotly.v1+json": {
       "config": {
        "plotlyServerURL": "https://plot.ly"
       },
       "data": [
        {
         "line": {
          "width": 3
         },
         "marker": {
          "color": "#FF5252"
         },
         "name": "Females",
         "type": "scatter",
         "x": [
          "2015",
          "2016",
          "2017",
          "2018",
          "2019",
          "2020"
         ],
         "y": [
          28.86705763699526,
          28.257992689997057,
          28.9597684323333,
          29.4895295228573,
          29.644524706245768,
          29.775838552341234
         ]
        },
        {
         "line": {
          "dash": "dash",
          "width": 3
         },
         "marker": {
          "color": "#FF5252"
         },
         "name": "Males",
         "type": "scatter",
         "x": [
          "2015",
          "2016",
          "2017",
          "2018",
          "2019",
          "2020"
         ],
         "y": [
          28.76673793181051,
          28.675188001077252,
          29.064143589516462,
          29.391319767699603,
          29.939631464862682,
          30.305889414784254
         ]
        }
       ],
       "layout": {
        "template": {
         "data": {
          "bar": [
           {
            "error_x": {
             "color": "#2a3f5f"
            },
            "error_y": {
             "color": "#2a3f5f"
            },
            "marker": {
             "line": {
              "color": "#E5ECF6",
              "width": 0.5
             },
             "pattern": {
              "fillmode": "overlay",
              "size": 10,
              "solidity": 0.2
             }
            },
            "type": "bar"
           }
          ],
          "barpolar": [
           {
            "marker": {
             "line": {
              "color": "#E5ECF6",
              "width": 0.5
             },
             "pattern": {
              "fillmode": "overlay",
              "size": 10,
              "solidity": 0.2
             }
            },
            "type": "barpolar"
           }
          ],
          "carpet": [
           {
            "aaxis": {
             "endlinecolor": "#2a3f5f",
             "gridcolor": "white",
             "linecolor": "white",
             "minorgridcolor": "white",
             "startlinecolor": "#2a3f5f"
            },
            "baxis": {
             "endlinecolor": "#2a3f5f",
             "gridcolor": "white",
             "linecolor": "white",
             "minorgridcolor": "white",
             "startlinecolor": "#2a3f5f"
            },
            "type": "carpet"
           }
          ],
          "choropleth": [
           {
            "colorbar": {
             "outlinewidth": 0,
             "ticks": ""
            },
            "type": "choropleth"
           }
          ],
          "contour": [
           {
            "colorbar": {
             "outlinewidth": 0,
             "ticks": ""
            },
            "colorscale": [
             [
              0,
              "#0d0887"
             ],
             [
              0.1111111111111111,
              "#46039f"
             ],
             [
              0.2222222222222222,
              "#7201a8"
             ],
             [
              0.3333333333333333,
              "#9c179e"
             ],
             [
              0.4444444444444444,
              "#bd3786"
             ],
             [
              0.5555555555555556,
              "#d8576b"
             ],
             [
              0.6666666666666666,
              "#ed7953"
             ],
             [
              0.7777777777777778,
              "#fb9f3a"
             ],
             [
              0.8888888888888888,
              "#fdca26"
             ],
             [
              1,
              "#f0f921"
             ]
            ],
            "type": "contour"
           }
          ],
          "contourcarpet": [
           {
            "colorbar": {
             "outlinewidth": 0,
             "ticks": ""
            },
            "type": "contourcarpet"
           }
          ],
          "heatmap": [
           {
            "colorbar": {
             "outlinewidth": 0,
             "ticks": ""
            },
            "colorscale": [
             [
              0,
              "#0d0887"
             ],
             [
              0.1111111111111111,
              "#46039f"
             ],
             [
              0.2222222222222222,
              "#7201a8"
             ],
             [
              0.3333333333333333,
              "#9c179e"
             ],
             [
              0.4444444444444444,
              "#bd3786"
             ],
             [
              0.5555555555555556,
              "#d8576b"
             ],
             [
              0.6666666666666666,
              "#ed7953"
             ],
             [
              0.7777777777777778,
              "#fb9f3a"
             ],
             [
              0.8888888888888888,
              "#fdca26"
             ],
             [
              1,
              "#f0f921"
             ]
            ],
            "type": "heatmap"
           }
          ],
          "heatmapgl": [
           {
            "colorbar": {
             "outlinewidth": 0,
             "ticks": ""
            },
            "colorscale": [
             [
              0,
              "#0d0887"
             ],
             [
              0.1111111111111111,
              "#46039f"
             ],
             [
              0.2222222222222222,
              "#7201a8"
             ],
             [
              0.3333333333333333,
              "#9c179e"
             ],
             [
              0.4444444444444444,
              "#bd3786"
             ],
             [
              0.5555555555555556,
              "#d8576b"
             ],
             [
              0.6666666666666666,
              "#ed7953"
             ],
             [
              0.7777777777777778,
              "#fb9f3a"
             ],
             [
              0.8888888888888888,
              "#fdca26"
             ],
             [
              1,
              "#f0f921"
             ]
            ],
            "type": "heatmapgl"
           }
          ],
          "histogram": [
           {
            "marker": {
             "pattern": {
              "fillmode": "overlay",
              "size": 10,
              "solidity": 0.2
             }
            },
            "type": "histogram"
           }
          ],
          "histogram2d": [
           {
            "colorbar": {
             "outlinewidth": 0,
             "ticks": ""
            },
            "colorscale": [
             [
              0,
              "#0d0887"
             ],
             [
              0.1111111111111111,
              "#46039f"
             ],
             [
              0.2222222222222222,
              "#7201a8"
             ],
             [
              0.3333333333333333,
              "#9c179e"
             ],
             [
              0.4444444444444444,
              "#bd3786"
             ],
             [
              0.5555555555555556,
              "#d8576b"
             ],
             [
              0.6666666666666666,
              "#ed7953"
             ],
             [
              0.7777777777777778,
              "#fb9f3a"
             ],
             [
              0.8888888888888888,
              "#fdca26"
             ],
             [
              1,
              "#f0f921"
             ]
            ],
            "type": "histogram2d"
           }
          ],
          "histogram2dcontour": [
           {
            "colorbar": {
             "outlinewidth": 0,
             "ticks": ""
            },
            "colorscale": [
             [
              0,
              "#0d0887"
             ],
             [
              0.1111111111111111,
              "#46039f"
             ],
             [
              0.2222222222222222,
              "#7201a8"
             ],
             [
              0.3333333333333333,
              "#9c179e"
             ],
             [
              0.4444444444444444,
              "#bd3786"
             ],
             [
              0.5555555555555556,
              "#d8576b"
             ],
             [
              0.6666666666666666,
              "#ed7953"
             ],
             [
              0.7777777777777778,
              "#fb9f3a"
             ],
             [
              0.8888888888888888,
              "#fdca26"
             ],
             [
              1,
              "#f0f921"
             ]
            ],
            "type": "histogram2dcontour"
           }
          ],
          "mesh3d": [
           {
            "colorbar": {
             "outlinewidth": 0,
             "ticks": ""
            },
            "type": "mesh3d"
           }
          ],
          "parcoords": [
           {
            "line": {
             "colorbar": {
              "outlinewidth": 0,
              "ticks": ""
             }
            },
            "type": "parcoords"
           }
          ],
          "pie": [
           {
            "automargin": true,
            "type": "pie"
           }
          ],
          "scatter": [
           {
            "marker": {
             "colorbar": {
              "outlinewidth": 0,
              "ticks": ""
             }
            },
            "type": "scatter"
           }
          ],
          "scatter3d": [
           {
            "line": {
             "colorbar": {
              "outlinewidth": 0,
              "ticks": ""
             }
            },
            "marker": {
             "colorbar": {
              "outlinewidth": 0,
              "ticks": ""
             }
            },
            "type": "scatter3d"
           }
          ],
          "scattercarpet": [
           {
            "marker": {
             "colorbar": {
              "outlinewidth": 0,
              "ticks": ""
             }
            },
            "type": "scattercarpet"
           }
          ],
          "scattergeo": [
           {
            "marker": {
             "colorbar": {
              "outlinewidth": 0,
              "ticks": ""
             }
            },
            "type": "scattergeo"
           }
          ],
          "scattergl": [
           {
            "marker": {
             "colorbar": {
              "outlinewidth": 0,
              "ticks": ""
             }
            },
            "type": "scattergl"
           }
          ],
          "scattermapbox": [
           {
            "marker": {
             "colorbar": {
              "outlinewidth": 0,
              "ticks": ""
             }
            },
            "type": "scattermapbox"
           }
          ],
          "scatterpolar": [
           {
            "marker": {
             "colorbar": {
              "outlinewidth": 0,
              "ticks": ""
             }
            },
            "type": "scatterpolar"
           }
          ],
          "scatterpolargl": [
           {
            "marker": {
             "colorbar": {
              "outlinewidth": 0,
              "ticks": ""
             }
            },
            "type": "scatterpolargl"
           }
          ],
          "scatterternary": [
           {
            "marker": {
             "colorbar": {
              "outlinewidth": 0,
              "ticks": ""
             }
            },
            "type": "scatterternary"
           }
          ],
          "surface": [
           {
            "colorbar": {
             "outlinewidth": 0,
             "ticks": ""
            },
            "colorscale": [
             [
              0,
              "#0d0887"
             ],
             [
              0.1111111111111111,
              "#46039f"
             ],
             [
              0.2222222222222222,
              "#7201a8"
             ],
             [
              0.3333333333333333,
              "#9c179e"
             ],
             [
              0.4444444444444444,
              "#bd3786"
             ],
             [
              0.5555555555555556,
              "#d8576b"
             ],
             [
              0.6666666666666666,
              "#ed7953"
             ],
             [
              0.7777777777777778,
              "#fb9f3a"
             ],
             [
              0.8888888888888888,
              "#fdca26"
             ],
             [
              1,
              "#f0f921"
             ]
            ],
            "type": "surface"
           }
          ],
          "table": [
           {
            "cells": {
             "fill": {
              "color": "#EBF0F8"
             },
             "line": {
              "color": "white"
             }
            },
            "header": {
             "fill": {
              "color": "#C8D4E3"
             },
             "line": {
              "color": "white"
             }
            },
            "type": "table"
           }
          ]
         },
         "layout": {
          "annotationdefaults": {
           "arrowcolor": "#2a3f5f",
           "arrowhead": 0,
           "arrowwidth": 1
          },
          "autotypenumbers": "strict",
          "coloraxis": {
           "colorbar": {
            "outlinewidth": 0,
            "ticks": ""
           }
          },
          "colorscale": {
           "diverging": [
            [
             0,
             "#8e0152"
            ],
            [
             0.1,
             "#c51b7d"
            ],
            [
             0.2,
             "#de77ae"
            ],
            [
             0.3,
             "#f1b6da"
            ],
            [
             0.4,
             "#fde0ef"
            ],
            [
             0.5,
             "#f7f7f7"
            ],
            [
             0.6,
             "#e6f5d0"
            ],
            [
             0.7,
             "#b8e186"
            ],
            [
             0.8,
             "#7fbc41"
            ],
            [
             0.9,
             "#4d9221"
            ],
            [
             1,
             "#276419"
            ]
           ],
           "sequential": [
            [
             0,
             "#0d0887"
            ],
            [
             0.1111111111111111,
             "#46039f"
            ],
            [
             0.2222222222222222,
             "#7201a8"
            ],
            [
             0.3333333333333333,
             "#9c179e"
            ],
            [
             0.4444444444444444,
             "#bd3786"
            ],
            [
             0.5555555555555556,
             "#d8576b"
            ],
            [
             0.6666666666666666,
             "#ed7953"
            ],
            [
             0.7777777777777778,
             "#fb9f3a"
            ],
            [
             0.8888888888888888,
             "#fdca26"
            ],
            [
             1,
             "#f0f921"
            ]
           ],
           "sequentialminus": [
            [
             0,
             "#0d0887"
            ],
            [
             0.1111111111111111,
             "#46039f"
            ],
            [
             0.2222222222222222,
             "#7201a8"
            ],
            [
             0.3333333333333333,
             "#9c179e"
            ],
            [
             0.4444444444444444,
             "#bd3786"
            ],
            [
             0.5555555555555556,
             "#d8576b"
            ],
            [
             0.6666666666666666,
             "#ed7953"
            ],
            [
             0.7777777777777778,
             "#fb9f3a"
            ],
            [
             0.8888888888888888,
             "#fdca26"
            ],
            [
             1,
             "#f0f921"
            ]
           ]
          },
          "colorway": [
           "#636efa",
           "#EF553B",
           "#00cc96",
           "#ab63fa",
           "#FFA15A",
           "#19d3f3",
           "#FF6692",
           "#B6E880",
           "#FF97FF",
           "#FECB52"
          ],
          "font": {
           "color": "#2a3f5f"
          },
          "geo": {
           "bgcolor": "white",
           "lakecolor": "white",
           "landcolor": "#E5ECF6",
           "showlakes": true,
           "showland": true,
           "subunitcolor": "white"
          },
          "hoverlabel": {
           "align": "left"
          },
          "hovermode": "closest",
          "mapbox": {
           "style": "light"
          },
          "paper_bgcolor": "white",
          "plot_bgcolor": "#E5ECF6",
          "polar": {
           "angularaxis": {
            "gridcolor": "white",
            "linecolor": "white",
            "ticks": ""
           },
           "bgcolor": "#E5ECF6",
           "radialaxis": {
            "gridcolor": "white",
            "linecolor": "white",
            "ticks": ""
           }
          },
          "scene": {
           "xaxis": {
            "backgroundcolor": "#E5ECF6",
            "gridcolor": "white",
            "gridwidth": 2,
            "linecolor": "white",
            "showbackground": true,
            "ticks": "",
            "zerolinecolor": "white"
           },
           "yaxis": {
            "backgroundcolor": "#E5ECF6",
            "gridcolor": "white",
            "gridwidth": 2,
            "linecolor": "white",
            "showbackground": true,
            "ticks": "",
            "zerolinecolor": "white"
           },
           "zaxis": {
            "backgroundcolor": "#E5ECF6",
            "gridcolor": "white",
            "gridwidth": 2,
            "linecolor": "white",
            "showbackground": true,
            "ticks": "",
            "zerolinecolor": "white"
           }
          },
          "shapedefaults": {
           "line": {
            "color": "#2a3f5f"
           }
          },
          "ternary": {
           "aaxis": {
            "gridcolor": "white",
            "linecolor": "white",
            "ticks": ""
           },
           "baxis": {
            "gridcolor": "white",
            "linecolor": "white",
            "ticks": ""
           },
           "bgcolor": "#E5ECF6",
           "caxis": {
            "gridcolor": "white",
            "linecolor": "white",
            "ticks": ""
           }
          },
          "title": {
           "x": 0.05
          },
          "xaxis": {
           "automargin": true,
           "gridcolor": "white",
           "linecolor": "white",
           "ticks": "",
           "title": {
            "standoff": 15
           },
           "zerolinecolor": "white",
           "zerolinewidth": 2
          },
          "yaxis": {
           "automargin": true,
           "gridcolor": "white",
           "linecolor": "white",
           "ticks": "",
           "title": {
            "standoff": 15
           },
           "zerolinecolor": "white",
           "zerolinewidth": 2
          }
         }
        },
        "title": {
         "text": "Relative % of uncertain speakers from 2015 to 2020 in our general dataframe",
         "x": 0.5
        },
        "xaxis": {
         "title": {
          "text": "Years"
         }
        },
        "yaxis": {
         "title": {
          "text": "% of uncertain speakers"
         }
        }
       }
      },
      "text/html": [
       "<div>                            <div id=\"6ef8b31b-b736-4a99-8965-40ba4217f5cc\" class=\"plotly-graph-div\" style=\"height:525px; width:100%;\"></div>            <script type=\"text/javascript\">                require([\"plotly\"], function(Plotly) {                    window.PLOTLYENV=window.PLOTLYENV || {};                                    if (document.getElementById(\"6ef8b31b-b736-4a99-8965-40ba4217f5cc\")) {                    Plotly.newPlot(                        \"6ef8b31b-b736-4a99-8965-40ba4217f5cc\",                        [{\"line\":{\"width\":3},\"marker\":{\"color\":\"#FF5252\"},\"name\":\"Females\",\"x\":[\"2015\",\"2016\",\"2017\",\"2018\",\"2019\",\"2020\"],\"y\":[28.86705763699526,28.257992689997057,28.9597684323333,29.4895295228573,29.644524706245768,29.775838552341234],\"type\":\"scatter\"},{\"line\":{\"dash\":\"dash\",\"width\":3},\"marker\":{\"color\":\"#FF5252\"},\"name\":\"Males\",\"x\":[\"2015\",\"2016\",\"2017\",\"2018\",\"2019\",\"2020\"],\"y\":[28.76673793181051,28.675188001077252,29.064143589516462,29.391319767699603,29.939631464862682,30.305889414784254],\"type\":\"scatter\"}],                        {\"template\":{\"data\":{\"bar\":[{\"error_x\":{\"color\":\"#2a3f5f\"},\"error_y\":{\"color\":\"#2a3f5f\"},\"marker\":{\"line\":{\"color\":\"#E5ECF6\",\"width\":0.5},\"pattern\":{\"fillmode\":\"overlay\",\"size\":10,\"solidity\":0.2}},\"type\":\"bar\"}],\"barpolar\":[{\"marker\":{\"line\":{\"color\":\"#E5ECF6\",\"width\":0.5},\"pattern\":{\"fillmode\":\"overlay\",\"size\":10,\"solidity\":0.2}},\"type\":\"barpolar\"}],\"carpet\":[{\"aaxis\":{\"endlinecolor\":\"#2a3f5f\",\"gridcolor\":\"white\",\"linecolor\":\"white\",\"minorgridcolor\":\"white\",\"startlinecolor\":\"#2a3f5f\"},\"baxis\":{\"endlinecolor\":\"#2a3f5f\",\"gridcolor\":\"white\",\"linecolor\":\"white\",\"minorgridcolor\":\"white\",\"startlinecolor\":\"#2a3f5f\"},\"type\":\"carpet\"}],\"choropleth\":[{\"colorbar\":{\"outlinewidth\":0,\"ticks\":\"\"},\"type\":\"choropleth\"}],\"contour\":[{\"colorbar\":{\"outlinewidth\":0,\"ticks\":\"\"},\"colorscale\":[[0.0,\"#0d0887\"],[0.1111111111111111,\"#46039f\"],[0.2222222222222222,\"#7201a8\"],[0.3333333333333333,\"#9c179e\"],[0.4444444444444444,\"#bd3786\"],[0.5555555555555556,\"#d8576b\"],[0.6666666666666666,\"#ed7953\"],[0.7777777777777778,\"#fb9f3a\"],[0.8888888888888888,\"#fdca26\"],[1.0,\"#f0f921\"]],\"type\":\"contour\"}],\"contourcarpet\":[{\"colorbar\":{\"outlinewidth\":0,\"ticks\":\"\"},\"type\":\"contourcarpet\"}],\"heatmap\":[{\"colorbar\":{\"outlinewidth\":0,\"ticks\":\"\"},\"colorscale\":[[0.0,\"#0d0887\"],[0.1111111111111111,\"#46039f\"],[0.2222222222222222,\"#7201a8\"],[0.3333333333333333,\"#9c179e\"],[0.4444444444444444,\"#bd3786\"],[0.5555555555555556,\"#d8576b\"],[0.6666666666666666,\"#ed7953\"],[0.7777777777777778,\"#fb9f3a\"],[0.8888888888888888,\"#fdca26\"],[1.0,\"#f0f921\"]],\"type\":\"heatmap\"}],\"heatmapgl\":[{\"colorbar\":{\"outlinewidth\":0,\"ticks\":\"\"},\"colorscale\":[[0.0,\"#0d0887\"],[0.1111111111111111,\"#46039f\"],[0.2222222222222222,\"#7201a8\"],[0.3333333333333333,\"#9c179e\"],[0.4444444444444444,\"#bd3786\"],[0.5555555555555556,\"#d8576b\"],[0.6666666666666666,\"#ed7953\"],[0.7777777777777778,\"#fb9f3a\"],[0.8888888888888888,\"#fdca26\"],[1.0,\"#f0f921\"]],\"type\":\"heatmapgl\"}],\"histogram\":[{\"marker\":{\"pattern\":{\"fillmode\":\"overlay\",\"size\":10,\"solidity\":0.2}},\"type\":\"histogram\"}],\"histogram2d\":[{\"colorbar\":{\"outlinewidth\":0,\"ticks\":\"\"},\"colorscale\":[[0.0,\"#0d0887\"],[0.1111111111111111,\"#46039f\"],[0.2222222222222222,\"#7201a8\"],[0.3333333333333333,\"#9c179e\"],[0.4444444444444444,\"#bd3786\"],[0.5555555555555556,\"#d8576b\"],[0.6666666666666666,\"#ed7953\"],[0.7777777777777778,\"#fb9f3a\"],[0.8888888888888888,\"#fdca26\"],[1.0,\"#f0f921\"]],\"type\":\"histogram2d\"}],\"histogram2dcontour\":[{\"colorbar\":{\"outlinewidth\":0,\"ticks\":\"\"},\"colorscale\":[[0.0,\"#0d0887\"],[0.1111111111111111,\"#46039f\"],[0.2222222222222222,\"#7201a8\"],[0.3333333333333333,\"#9c179e\"],[0.4444444444444444,\"#bd3786\"],[0.5555555555555556,\"#d8576b\"],[0.6666666666666666,\"#ed7953\"],[0.7777777777777778,\"#fb9f3a\"],[0.8888888888888888,\"#fdca26\"],[1.0,\"#f0f921\"]],\"type\":\"histogram2dcontour\"}],\"mesh3d\":[{\"colorbar\":{\"outlinewidth\":0,\"ticks\":\"\"},\"type\":\"mesh3d\"}],\"parcoords\":[{\"line\":{\"colorbar\":{\"outlinewidth\":0,\"ticks\":\"\"}},\"type\":\"parcoords\"}],\"pie\":[{\"automargin\":true,\"type\":\"pie\"}],\"scatter\":[{\"marker\":{\"colorbar\":{\"outlinewidth\":0,\"ticks\":\"\"}},\"type\":\"scatter\"}],\"scatter3d\":[{\"line\":{\"colorbar\":{\"outlinewidth\":0,\"ticks\":\"\"}},\"marker\":{\"colorbar\":{\"outlinewidth\":0,\"ticks\":\"\"}},\"type\":\"scatter3d\"}],\"scattercarpet\":[{\"marker\":{\"colorbar\":{\"outlinewidth\":0,\"ticks\":\"\"}},\"type\":\"scattercarpet\"}],\"scattergeo\":[{\"marker\":{\"colorbar\":{\"outlinewidth\":0,\"ticks\":\"\"}},\"type\":\"scattergeo\"}],\"scattergl\":[{\"marker\":{\"colorbar\":{\"outlinewidth\":0,\"ticks\":\"\"}},\"type\":\"scattergl\"}],\"scattermapbox\":[{\"marker\":{\"colorbar\":{\"outlinewidth\":0,\"ticks\":\"\"}},\"type\":\"scattermapbox\"}],\"scatterpolar\":[{\"marker\":{\"colorbar\":{\"outlinewidth\":0,\"ticks\":\"\"}},\"type\":\"scatterpolar\"}],\"scatterpolargl\":[{\"marker\":{\"colorbar\":{\"outlinewidth\":0,\"ticks\":\"\"}},\"type\":\"scatterpolargl\"}],\"scatterternary\":[{\"marker\":{\"colorbar\":{\"outlinewidth\":0,\"ticks\":\"\"}},\"type\":\"scatterternary\"}],\"surface\":[{\"colorbar\":{\"outlinewidth\":0,\"ticks\":\"\"},\"colorscale\":[[0.0,\"#0d0887\"],[0.1111111111111111,\"#46039f\"],[0.2222222222222222,\"#7201a8\"],[0.3333333333333333,\"#9c179e\"],[0.4444444444444444,\"#bd3786\"],[0.5555555555555556,\"#d8576b\"],[0.6666666666666666,\"#ed7953\"],[0.7777777777777778,\"#fb9f3a\"],[0.8888888888888888,\"#fdca26\"],[1.0,\"#f0f921\"]],\"type\":\"surface\"}],\"table\":[{\"cells\":{\"fill\":{\"color\":\"#EBF0F8\"},\"line\":{\"color\":\"white\"}},\"header\":{\"fill\":{\"color\":\"#C8D4E3\"},\"line\":{\"color\":\"white\"}},\"type\":\"table\"}]},\"layout\":{\"annotationdefaults\":{\"arrowcolor\":\"#2a3f5f\",\"arrowhead\":0,\"arrowwidth\":1},\"autotypenumbers\":\"strict\",\"coloraxis\":{\"colorbar\":{\"outlinewidth\":0,\"ticks\":\"\"}},\"colorscale\":{\"diverging\":[[0,\"#8e0152\"],[0.1,\"#c51b7d\"],[0.2,\"#de77ae\"],[0.3,\"#f1b6da\"],[0.4,\"#fde0ef\"],[0.5,\"#f7f7f7\"],[0.6,\"#e6f5d0\"],[0.7,\"#b8e186\"],[0.8,\"#7fbc41\"],[0.9,\"#4d9221\"],[1,\"#276419\"]],\"sequential\":[[0.0,\"#0d0887\"],[0.1111111111111111,\"#46039f\"],[0.2222222222222222,\"#7201a8\"],[0.3333333333333333,\"#9c179e\"],[0.4444444444444444,\"#bd3786\"],[0.5555555555555556,\"#d8576b\"],[0.6666666666666666,\"#ed7953\"],[0.7777777777777778,\"#fb9f3a\"],[0.8888888888888888,\"#fdca26\"],[1.0,\"#f0f921\"]],\"sequentialminus\":[[0.0,\"#0d0887\"],[0.1111111111111111,\"#46039f\"],[0.2222222222222222,\"#7201a8\"],[0.3333333333333333,\"#9c179e\"],[0.4444444444444444,\"#bd3786\"],[0.5555555555555556,\"#d8576b\"],[0.6666666666666666,\"#ed7953\"],[0.7777777777777778,\"#fb9f3a\"],[0.8888888888888888,\"#fdca26\"],[1.0,\"#f0f921\"]]},\"colorway\":[\"#636efa\",\"#EF553B\",\"#00cc96\",\"#ab63fa\",\"#FFA15A\",\"#19d3f3\",\"#FF6692\",\"#B6E880\",\"#FF97FF\",\"#FECB52\"],\"font\":{\"color\":\"#2a3f5f\"},\"geo\":{\"bgcolor\":\"white\",\"lakecolor\":\"white\",\"landcolor\":\"#E5ECF6\",\"showlakes\":true,\"showland\":true,\"subunitcolor\":\"white\"},\"hoverlabel\":{\"align\":\"left\"},\"hovermode\":\"closest\",\"mapbox\":{\"style\":\"light\"},\"paper_bgcolor\":\"white\",\"plot_bgcolor\":\"#E5ECF6\",\"polar\":{\"angularaxis\":{\"gridcolor\":\"white\",\"linecolor\":\"white\",\"ticks\":\"\"},\"bgcolor\":\"#E5ECF6\",\"radialaxis\":{\"gridcolor\":\"white\",\"linecolor\":\"white\",\"ticks\":\"\"}},\"scene\":{\"xaxis\":{\"backgroundcolor\":\"#E5ECF6\",\"gridcolor\":\"white\",\"gridwidth\":2,\"linecolor\":\"white\",\"showbackground\":true,\"ticks\":\"\",\"zerolinecolor\":\"white\"},\"yaxis\":{\"backgroundcolor\":\"#E5ECF6\",\"gridcolor\":\"white\",\"gridwidth\":2,\"linecolor\":\"white\",\"showbackground\":true,\"ticks\":\"\",\"zerolinecolor\":\"white\"},\"zaxis\":{\"backgroundcolor\":\"#E5ECF6\",\"gridcolor\":\"white\",\"gridwidth\":2,\"linecolor\":\"white\",\"showbackground\":true,\"ticks\":\"\",\"zerolinecolor\":\"white\"}},\"shapedefaults\":{\"line\":{\"color\":\"#2a3f5f\"}},\"ternary\":{\"aaxis\":{\"gridcolor\":\"white\",\"linecolor\":\"white\",\"ticks\":\"\"},\"baxis\":{\"gridcolor\":\"white\",\"linecolor\":\"white\",\"ticks\":\"\"},\"bgcolor\":\"#E5ECF6\",\"caxis\":{\"gridcolor\":\"white\",\"linecolor\":\"white\",\"ticks\":\"\"}},\"title\":{\"x\":0.05},\"xaxis\":{\"automargin\":true,\"gridcolor\":\"white\",\"linecolor\":\"white\",\"ticks\":\"\",\"title\":{\"standoff\":15},\"zerolinecolor\":\"white\",\"zerolinewidth\":2},\"yaxis\":{\"automargin\":true,\"gridcolor\":\"white\",\"linecolor\":\"white\",\"ticks\":\"\",\"title\":{\"standoff\":15},\"zerolinecolor\":\"white\",\"zerolinewidth\":2}}},\"title\":{\"text\":\"Relative % of uncertain speakers from 2015 to 2020 in our general dataframe\",\"x\":0.5},\"xaxis\":{\"title\":{\"text\":\"Years\"}},\"yaxis\":{\"title\":{\"text\":\"% of uncertain speakers\"}}},                        {\"responsive\": true}                    ).then(function(){\n",
       "                            \n",
       "var gd = document.getElementById('6ef8b31b-b736-4a99-8965-40ba4217f5cc');\n",
       "var x = new MutationObserver(function (mutations, observer) {{\n",
       "        var display = window.getComputedStyle(gd).display;\n",
       "        if (!display || display === 'none') {{\n",
       "            console.log([gd, 'removed!']);\n",
       "            Plotly.purge(gd);\n",
       "            observer.disconnect();\n",
       "        }}\n",
       "}});\n",
       "\n",
       "// Listen for the removal of the full notebook cells\n",
       "var notebookContainer = gd.closest('#notebook-container');\n",
       "if (notebookContainer) {{\n",
       "    x.observe(notebookContainer, {childList: true});\n",
       "}}\n",
       "\n",
       "// Listen for the clearing of the current output cell\n",
       "var outputEl = gd.closest('.output');\n",
       "if (outputEl) {{\n",
       "    x.observe(outputEl, {childList: true});\n",
       "}}\n",
       "\n",
       "                        })                };                });            </script>        </div>"
      ]
     },
     "metadata": {},
     "output_type": "display_data"
    }
   ],
   "source": [
    "trace_back_female = go.Scatter(x = df.index, y = df['female'], marker_color = colors[3], name = \"Females\", line = dict(width = 3))\n",
    "trace_back_male = go.Scatter(x = df.index, y = df['male'], marker_color = colors[3], line = dict(dash = 'dash', width = 3),\n",
    "                             name = \"Males\")\n",
    "\n",
    "\n",
    "my_layout = {\n",
    "    'title': 'Relative % of uncertain speakers from 2015 to 2020 in our general dataframe',\n",
    "    'xaxis': {'title': 'Years'},\n",
    "    'yaxis': {'title': '% of uncertain speakers'},\n",
    "    }\n",
    "\n",
    "fig = go.Figure()\n",
    "fig.add_trace(trace_back_female)\n",
    "fig.add_trace(trace_back_male)\n",
    "fig.update_layout(my_layout, title_x = 0.5)\n",
    "\n",
    "fig.show()"
   ]
  },
  {
   "cell_type": "markdown",
   "metadata": {},
   "source": [
    "The figure is saved."
   ]
  },
  {
   "cell_type": "code",
   "execution_count": 34,
   "metadata": {},
   "outputs": [],
   "source": [
    "\"\"\"html_path = IMAGE_PATH + \"percentage_uncertain_plot_across_back_across_time.html\"\n",
    "fig.write_html(html_path)\"\"\";"
   ]
  },
  {
   "cell_type": "markdown",
   "metadata": {},
   "source": [
    "## 5. Statistical analysis <a class = anchor id=\"statanalysis\"></a>"
   ]
  },
  {
   "cell_type": "markdown",
   "metadata": {},
   "source": [
    "We now need to analyse the statistical relevance of our findings.\n",
    "\n",
    "We can state the following statements regarding our results:\n",
    "- The observation we have were selected randomly amongst populations of our choice.\n",
    "- The proportions of male and female is unbalanced (less females) but the ratio is averagely constant amongst the different backgrounds and profession, thus we assume parameters independence and no multi-collinearity.\n",
    "- We also assume that there isn’t autocorrelation between certainty in year 2015 and certainty in the following years.\n",
    "\n",
    "As a result, we decide to use OLS (Ordinary Least Squares) regression as it provides simple relationship modeling between the dependent and independent variables and they are easily interpretable. Indeed, we will now perform linear regression using the certainty label we obtained from the Pajean uncertainty classifier to identify important features for certainty prediciton.\n",
    "\n",
    "It is important to keep in mind that the classifier has a 62.8 F-score thus some of the results we obtain could be due to chance.\n",
    "\n",
    "We will consider features with p-values over 0.05 not statisticaly significant."
   ]
  },
  {
   "cell_type": "markdown",
   "metadata": {},
   "source": [
    "### 5.1 Analysis of the genders distribution <a class = anchor id=\"5.1\"></a>"
   ]
  },
  {
   "cell_type": "markdown",
   "metadata": {},
   "source": [
    "First, we want to build an uncertainty labeled dataset to perform a linear regression on, to identify important features and possible correlation between them."
   ]
  },
  {
   "cell_type": "code",
   "execution_count": 35,
   "metadata": {},
   "outputs": [],
   "source": [
    "df_certain_no_conditions_all_years = df_no_conditions_all_years[~df_no_conditions_all_years.quoteID.isin(\n",
    "                                                                df_uncertain_no_conditions_all_years.quoteID)].copy()"
   ]
  },
  {
   "cell_type": "markdown",
   "metadata": {},
   "source": [
    "We label certain and uncertain quotes."
   ]
  },
  {
   "cell_type": "code",
   "execution_count": 36,
   "metadata": {},
   "outputs": [],
   "source": [
    "df_certain_no_conditions_all_years['uncertainty_label'] = 1\n",
    "df_uncertain_no_conditions_all_years['uncertainty_label'] = 0\n",
    "my_df = pd.concat([df_uncertain_no_conditions_all_years, df_certain_no_conditions_all_years], ignore_index = True)"
   ]
  },
  {
   "cell_type": "markdown",
   "metadata": {},
   "source": [
    "We label the genders."
   ]
  },
  {
   "cell_type": "code",
   "execution_count": 37,
   "metadata": {},
   "outputs": [],
   "source": [
    "my_df['gender'] = qid_label.loc[my_df['gender']].Label.values"
   ]
  },
  {
   "cell_type": "markdown",
   "metadata": {},
   "source": [
    "We make a first linear regression analysis only using gender as variable."
   ]
  },
  {
   "cell_type": "code",
   "execution_count": 38,
   "metadata": {},
   "outputs": [
    {
     "name": "stdout",
     "output_type": "stream",
     "text": [
      "                            OLS Regression Results                            \n",
      "==============================================================================\n",
      "Dep. Variable:      uncertainty_label   R-squared:                       0.000\n",
      "Model:                            OLS   Adj. R-squared:                  0.000\n",
      "Method:                 Least Squares   F-statistic:                     16.54\n",
      "Date:                Fri, 17 Dec 2021   Prob (F-statistic):           4.76e-05\n",
      "Time:                        19:24:04   Log-Likelihood:            -4.2420e+06\n",
      "No. Observations:             6691519   AIC:                         8.484e+06\n",
      "Df Residuals:                 6691517   BIC:                         8.484e+06\n",
      "Df Model:                           1                                         \n",
      "Covariance Type:            nonrobust                                         \n",
      "====================================================================================================================\n",
      "                                                       coef    std err          t      P>|t|      [0.025      0.975]\n",
      "--------------------------------------------------------------------------------------------------------------------\n",
      "Intercept                                            0.7045      0.000   3620.550      0.000       0.704       0.705\n",
      "C(gender, Treatment(reference=\"male\"))[T.female]     0.0019      0.000      4.067      0.000       0.001       0.003\n",
      "==============================================================================\n",
      "Omnibus:                  6267601.379   Durbin-Watson:                   0.000\n",
      "Prob(Omnibus):                  0.000   Jarque-Bera (JB):          1296634.454\n",
      "Skew:                          -0.898   Prob(JB):                         0.00\n",
      "Kurtosis:                       1.807   Cond. No.                         2.71\n",
      "==============================================================================\n",
      "\n",
      "Notes:\n",
      "[1] Standard Errors assume that the covariance matrix of the errors is correctly specified.\n"
     ]
    }
   ],
   "source": [
    "res = linear_reg(data = my_df, formula = 'uncertainty_label ~  C(gender, Treatment(reference=\"male\"))')\n",
    "print(res.summary())"
   ]
  },
  {
   "cell_type": "markdown",
   "metadata": {},
   "source": [
    "On this first analysis using all of our datasets with no conditions, we can note that, in our model, the probability that a quote belonging to a male is 0.7045 to be certain.\n",
    "The speaker being a female is correlated to a +0.19% probability of having a certain quote (the probability that a quote belonging to a female is 0.7064 to be certain).\n",
    "We have a p-value inferior to 0.001 thus this result is statisticaly significant. Furthermore, the 95% CI (confidence interval) is fully positive between 0.1 and 0.3%.\n",
    "It is important to note that our model isn't able to properly predict the uncertainty using only the gender feature as we obtain a R_squared close to 0."
   ]
  },
  {
   "cell_type": "markdown",
   "metadata": {},
   "source": [
    "### 5.2 Analysis of the gender distribution per professions <a class = anchor id=\"5.2\"></a>"
   ]
  },
  {
   "cell_type": "markdown",
   "metadata": {},
   "source": [
    "We build `df_all_professions_all_years`, a dataset that contains all quotes from professions [artist, economists, artists, politicians] for all years. To do this, we use samples of our datasets to avoid memory errors. The samples are created below."
   ]
  },
  {
   "cell_type": "markdown",
   "metadata": {},
   "source": [
    "# fin Test"
   ]
  },
  {
   "cell_type": "code",
   "execution_count": 23,
   "metadata": {},
   "outputs": [
    {
     "name": "stdout",
     "output_type": "stream",
     "text": [
      "15\n",
      "16\n",
      "17\n",
      "18\n",
      "19\n",
      "20\n"
     ]
    }
   ],
   "source": [
    "small_df_per_year = {}\n",
    "for i in range(15, 21): #(15, 21)\n",
    "    print(i)\n",
    "    small_df_per_year['df_politicians_20' + str(i)] = pd.read_pickle(DATA_PATH + \"small_politicians_20\" + str(i) + \\\n",
    "                                                                     \".pck\")\n",
    "    small_df_per_year['df_artists_20' + str(i)] = pd.read_pickle(DATA_PATH + \"small_artists_english_20\" + str(i) + \\\n",
    "                                                                     \".pck\")\n",
    "    small_df_per_year['df_scientists_20' + str(i)] = pd.read_pickle(DATA_PATH + \"small_scientists_20\" + str(i) + \\\n",
    "                                                                     \".pck\")\n",
    "    small_df_per_year['df_economists_20' + str(i)] = pd.read_pickle(DATA_PATH + \"small_economists_20\" + str(i) + \\\n",
    "                                                                     \".pck\")"
   ]
  },
  {
   "cell_type": "markdown",
   "metadata": {},
   "source": [
    "Then, we create data frames per professions."
   ]
  },
  {
   "cell_type": "code",
   "execution_count": 24,
   "metadata": {},
   "outputs": [
    {
     "name": "stdout",
     "output_type": "stream",
     "text": [
      "16\n",
      "17\n",
      "18\n",
      "19\n",
      "20\n"
     ]
    }
   ],
   "source": [
    "df_professions_all_years = {} #Changer 2020 en 2015\n",
    "df_professions_all_years['politicians'] = small_df_per_year['df_politicians_2015']\n",
    "df_professions_all_years['artists'] = small_df_per_year['df_artists_2015']\n",
    "df_professions_all_years['scientists'] = small_df_per_year['df_scientists_2015']\n",
    "df_professions_all_years['economists'] = small_df_per_year['df_economists_2015']\n",
    "\n",
    "# We concatenate over different years\n",
    "for i in range(16,21): #changer en 16 21\n",
    "    print(i)\n",
    "    df_professions_all_years['politicians'] = pd.concat([df_professions_all_years['politicians'], \n",
    "                                                              small_df_per_year['df_politicians_20' + str(i)]])\n",
    "    \n",
    "    df_professions_all_years['artists'] = pd.concat([df_professions_all_years['artists'], \n",
    "                                                              small_df_per_year['df_artists_20' + str(i)]])\n",
    "    \n",
    "    df_professions_all_years['scientists'] = pd.concat([df_professions_all_years['scientists'], \n",
    "                                                              small_df_per_year['df_scientists_20' + str(i)]])\n",
    "    \n",
    "    df_professions_all_years['economists'] = pd.concat([df_professions_all_years['economists'], \n",
    "                                                              small_df_per_year['df_economists_20' + str(i)]])"
   ]
  },
  {
   "cell_type": "markdown",
   "metadata": {},
   "source": [
    "Those data frames are then concatenated to create `df_all_professions_all_years`."
   ]
  },
  {
   "cell_type": "code",
   "execution_count": 25,
   "metadata": {},
   "outputs": [],
   "source": [
    "occupations = ['artists', 'economists', 'politicians', 'scientists']\n",
    "\n",
    "df_all_professions_all_years = pd.DataFrame()\n",
    "\n",
    "# We concatenate over different professions\n",
    "for occupation in occupations:\n",
    "    df_professions_all_years[occupation]['occupation_label'] = occupation\n",
    "    \n",
    "df_all_professions_all_years = pd.concat([df_professions_all_years['artists'], \n",
    "                                          df_professions_all_years['economists']])\n",
    "df_all_professions_all_years = pd.concat([df_all_professions_all_years, df_professions_all_years['politicians']])\n",
    "df_all_professions_all_years = pd.concat([df_all_professions_all_years, df_professions_all_years['scientists']])\n"
   ]
  },
  {
   "cell_type": "markdown",
   "metadata": {},
   "source": [
    "We label certain and uncertain quotes."
   ]
  },
  {
   "cell_type": "code",
   "execution_count": 26,
   "metadata": {},
   "outputs": [],
   "source": [
    "df_certain_all_professions_all_years = df_all_professions_all_years[~df_all_professions_all_years.quoteID.isin(\n",
    "                                                                df_uncertain_no_conditions_all_years.quoteID)].copy()\n",
    "df_uncertain_all_professions_all_years = df_all_professions_all_years[df_all_professions_all_years.quoteID.isin(\n",
    "                                                                df_uncertain_no_conditions_all_years.quoteID)].copy()\n",
    "df_certain_all_professions_all_years['uncertainty_label'] = 1\n",
    "df_uncertain_all_professions_all_years['uncertainty_label'] = 0\n",
    "my_professions_df = pd.concat([df_uncertain_all_professions_all_years, df_certain_all_professions_all_years], \n",
    "                              ignore_index = True)"
   ]
  },
  {
   "cell_type": "markdown",
   "metadata": {},
   "source": [
    "As the occupations are categorical, we divide them in multiple features with one hot encoding. Each profession is associated to a column attribute. For example, an artist quote looks as follow:"
   ]
  },
  {
   "cell_type": "code",
   "execution_count": 27,
   "metadata": {},
   "outputs": [
    {
     "data": {
      "text/html": [
       "<div>\n",
       "<style scoped>\n",
       "    .dataframe tbody tr th:only-of-type {\n",
       "        vertical-align: middle;\n",
       "    }\n",
       "\n",
       "    .dataframe tbody tr th {\n",
       "        vertical-align: top;\n",
       "    }\n",
       "\n",
       "    .dataframe thead th {\n",
       "        text-align: right;\n",
       "    }\n",
       "</style>\n",
       "<table border=\"1\" class=\"dataframe\">\n",
       "  <thead>\n",
       "    <tr style=\"text-align: right;\">\n",
       "      <th></th>\n",
       "      <th>Quote</th>\n",
       "      <th>Artist</th>\n",
       "      <th>Politician</th>\n",
       "      <th>Economist</th>\n",
       "      <th>Scientist</th>\n",
       "    </tr>\n",
       "  </thead>\n",
       "  <tbody>\n",
       "    <tr>\n",
       "      <th>0</th>\n",
       "      <td>An artist quote</td>\n",
       "      <td>1</td>\n",
       "      <td>0</td>\n",
       "      <td>0</td>\n",
       "      <td>0</td>\n",
       "    </tr>\n",
       "  </tbody>\n",
       "</table>\n",
       "</div>"
      ],
      "text/plain": [
       "             Quote  Artist  Politician  Economist  Scientist\n",
       "0  An artist quote       1           0          0          0"
      ]
     },
     "execution_count": 27,
     "metadata": {},
     "output_type": "execute_result"
    }
   ],
   "source": [
    "an_artist_quote_data = {\"Quote\": [\"An artist quote\"], \"Artist\":[1], \"Politician\":[0], \"Economist\":[0], \"Scientist\":[0]} \n",
    "an_artist_quote = pd.DataFrame(an_artist_quote_data)\n",
    "an_artist_quote"
   ]
  },
  {
   "cell_type": "markdown",
   "metadata": {},
   "source": [
    "We now perform this on all our data."
   ]
  },
  {
   "cell_type": "code",
   "execution_count": 28,
   "metadata": {},
   "outputs": [],
   "source": [
    "X = pd.get_dummies(my_professions_df['occupation_label'])\n",
    "my_professions_df = my_professions_df.join(X)"
   ]
  },
  {
   "cell_type": "code",
   "execution_count": 29,
   "metadata": {},
   "outputs": [],
   "source": [
    "my_professions_df['gender'] = qid_label.loc[my_professions_df['gender']].Label.values"
   ]
  },
  {
   "cell_type": "markdown",
   "metadata": {},
   "source": [
    "Now that we have our labeled dataset to perform linear regression, let's start!"
   ]
  },
  {
   "cell_type": "markdown",
   "metadata": {},
   "source": [
    "We plot the linear regression of the uncertainty label using variables *scientist*, *gender* and the combination of both.\n",
    "For *gender* we set the reference as male (for *scientist*, it is set to 0).\n",
    "We perform this analysis independently on each profession."
   ]
  },
  {
   "cell_type": "code",
   "execution_count": 30,
   "metadata": {},
   "outputs": [
    {
     "name": "stdout",
     "output_type": "stream",
     "text": [
      "                            OLS Regression Results                            \n",
      "==============================================================================\n",
      "Dep. Variable:      uncertainty_label   R-squared:                       0.001\n",
      "Model:                            OLS   Adj. R-squared:                  0.001\n",
      "Method:                 Least Squares   F-statistic:                     57.13\n",
      "Date:                Thu, 16 Dec 2021   Prob (F-statistic):           6.61e-37\n",
      "Time:                        15:51:06   Log-Likelihood:                 8622.8\n",
      "No. Observations:              240000   AIC:                        -1.724e+04\n",
      "Df Residuals:                  239996   BIC:                        -1.720e+04\n",
      "Df Model:                           3                                         \n",
      "Covariance Type:            nonrobust                                         \n",
      "================================================================================================================================\n",
      "                                                                   coef    std err          t      P>|t|      [0.025      0.975]\n",
      "--------------------------------------------------------------------------------------------------------------------------------\n",
      "Intercept                                                        0.9469      0.001   1505.256      0.000       0.946       0.948\n",
      "C(gender, Treatment(reference=\"male\"))[T.female]                -0.0061      0.001     -4.736      0.000      -0.009      -0.004\n",
      "politicians                                                     -0.0158      0.001    -12.684      0.000      -0.018      -0.013\n",
      "politicians:C(gender, Treatment(reference=\"male\"))[T.female]     0.0116      0.003      4.335      0.000       0.006       0.017\n",
      "==============================================================================\n",
      "Omnibus:                   180136.003   Durbin-Watson:                   0.000\n",
      "Prob(Omnibus):                  0.000   Jarque-Bera (JB):          2090538.565\n",
      "Skew:                          -3.783   Prob(JB):                         0.00\n",
      "Kurtosis:                      15.322   Cond. No.                         6.36\n",
      "==============================================================================\n",
      "\n",
      "Notes:\n",
      "[1] Standard Errors assume that the covariance matrix of the errors is correctly specified.\n"
     ]
    }
   ],
   "source": [
    "res_politicians_gender = linear_reg(data = my_professions_df, formula = 'uncertainty_label ~ \\\n",
    "    politicians * C(gender, Treatment(reference=\"male\"))')\n",
    "\n",
    "print(res_politicians_gender.summary())"
   ]
  },
  {
   "cell_type": "markdown",
   "metadata": {},
   "source": [
    "In our model, we can see that a reference quote (male and not a politician) is associated with a probability of 0.9469 that the quote is certain.\n",
    "We can immediatly note that the base rate of certainty is 20% higher on this \"artists, politicians, economists and scientists selected dataset\".\n",
    "\n",
    "Compared to that reference, a female also not being a politician is correlated to a -0.61% probability to have issued a certain quote.\n",
    "Similarly, a male who is a politician is correlated to a -1.58% probabiblity to have written a certain quote.\n",
    "\n",
    "A female politician would be correlated to a +1.16% chance to have pronounced a certain quote compared to the reference (a male not politician). \n",
    "\n",
    "\n"
   ]
  },
  {
   "cell_type": "markdown",
   "metadata": {},
   "source": [
    "Now we will use all occupation features to compare their relative correlations."
   ]
  },
  {
   "cell_type": "code",
   "execution_count": 31,
   "metadata": {},
   "outputs": [
    {
     "name": "stdout",
     "output_type": "stream",
     "text": [
      "                            OLS Regression Results                            \n",
      "==============================================================================\n",
      "Dep. Variable:      uncertainty_label   R-squared:                       0.005\n",
      "Model:                            OLS   Adj. R-squared:                  0.005\n",
      "Method:                 Least Squares   F-statistic:                     163.9\n",
      "Date:                Thu, 16 Dec 2021   Prob (F-statistic):          7.69e-243\n",
      "Time:                        15:51:07   Log-Likelihood:                 9109.3\n",
      "No. Observations:              240000   AIC:                        -1.820e+04\n",
      "Df Residuals:                  239992   BIC:                        -1.812e+04\n",
      "Df Model:                           7                                         \n",
      "Covariance Type:            nonrobust                                         \n",
      "================================================================================================================================\n",
      "                                                                   coef    std err          t      P>|t|      [0.025      0.975]\n",
      "--------------------------------------------------------------------------------------------------------------------------------\n",
      "Intercept                                                        0.9373      0.001    909.058      0.000       0.935       0.939\n",
      "C(gender, Treatment(reference=\"male\"))[T.female]                -0.0132      0.003     -4.935      0.000      -0.018      -0.008\n",
      "scientists                                                       0.0302      0.001     20.170      0.000       0.027       0.033\n",
      "scientists:C(gender, Treatment(reference=\"male\"))[T.female]      0.0199      0.003      5.696      0.000       0.013       0.027\n",
      "politicians                                                     -0.0063      0.001     -4.214      0.000      -0.009      -0.003\n",
      "politicians:C(gender, Treatment(reference=\"male\"))[T.female]     0.0186      0.004      5.252      0.000       0.012       0.026\n",
      "artists                                                         -0.0021      0.002     -1.329      0.184      -0.005       0.001\n",
      "artists:C(gender, Treatment(reference=\"male\"))[T.female]         0.0024      0.003      0.711      0.477      -0.004       0.009\n",
      "==============================================================================\n",
      "Omnibus:                   179186.122   Durbin-Watson:                   0.001\n",
      "Prob(Omnibus):                  0.000   Jarque-Bera (JB):          2056580.947\n",
      "Skew:                          -3.759   Prob(JB):                         0.00\n",
      "Kurtosis:                      15.212   Cond. No.                         13.7\n",
      "==============================================================================\n",
      "\n",
      "Notes:\n",
      "[1] Standard Errors assume that the covariance matrix of the errors is correctly specified.\n"
     ]
    }
   ],
   "source": [
    "res_all_gender = linear_reg(data = my_professions_df, formula = 'uncertainty_label ~ \\\n",
    "    scientists * C(gender, Treatment(reference=\"male\"))+\\\n",
    "        politicians * C(gender, Treatment(reference=\"male\"))+artists * C(gender, Treatment(reference=\"male\"))')\n",
    "\n",
    "print(res_all_gender.summary())"
   ]
  },
  {
   "cell_type": "markdown",
   "metadata": {},
   "source": [
    "Note:\n",
    "\n",
    "   - Model is getting better but has no real predictive value: R_squared = 0.005\n",
    "   - Being a scientist is correlated with the highest certainty probability boost: +3.02%\n",
    "   - Being a female here is correlated to a the highest certainty probability drop: -1.32% and it is unrelated to the female profession.\n",
    "    "
   ]
  },
  {
   "cell_type": "markdown",
   "metadata": {},
   "source": [
    "### 5.3 Analysis of background influence regarding gender distribution <a class = anchor id=\"5.3\"></a>"
   ]
  },
  {
   "cell_type": "markdown",
   "metadata": {},
   "source": [
    "We build a different dataset to regroup the quotes per `nationality`, `religion` and `academic_degree`.\n",
    "The intersection of those datasets would be too small to be properly analysed."
   ]
  },
  {
   "cell_type": "code",
   "execution_count": 32,
   "metadata": {},
   "outputs": [],
   "source": [
    "df_nat, df_rel, df_eth, df_aca = pd.DataFrame(), pd.DataFrame(), pd.DataFrame(), pd.DataFrame()"
   ]
  },
  {
   "cell_type": "markdown",
   "metadata": {},
   "source": [
    "We use a dictionary structure to store our datasets and we regroup for each category the most represented features."
   ]
  },
  {
   "cell_type": "code",
   "execution_count": 33,
   "metadata": {},
   "outputs": [],
   "source": [
    "dict_df = {\n",
    "  \"nationality\": df_nat,\n",
    "  \"religion\": df_rel,\n",
    "  \"ethnic_group\": df_eth,\n",
    "  \"academic_degree\": df_aca\n",
    "}"
   ]
  },
  {
   "cell_type": "markdown",
   "metadata": {},
   "source": [
    "For each influence, a selected list of possibilities are chosen for further analysis."
   ]
  },
  {
   "cell_type": "code",
   "execution_count": 37,
   "metadata": {},
   "outputs": [
    {
     "name": "stdout",
     "output_type": "stream",
     "text": [
      "nationality\n",
      "religion\n",
      "ethnic_group\n",
      "academic_degree\n"
     ]
    }
   ],
   "source": [
    "for influence in influences:\n",
    "    print(influence)\n",
    "    dict_df[influence] = my_df.copy(deep = True)\n",
    "    dict_df[influence] = dict_df[influence][~dict_df[influence][influence].isin([None, \"None\"])]\n",
    "    dict_df[influence][influence] = dict_df[influence][influence].apply(lambda x: x[0])\n",
    "    dict_df[influence][influence] = qid_label.loc[dict_df[influence][influence]].Label.values\n",
    "    if influence == 'nationality':\n",
    "        dict_df[influence] = dict_df[influence][dict_df[influence]['nationality'].isin([\n",
    "            'United States of America', 'United Kingdom', 'India', 'Canada', 'Australia'])]\n",
    "        X = pd.get_dummies(dict_df[influence]['nationality'])\n",
    "        dict_df[influence] = dict_df[influence].join(X)\n",
    "        dict_df[influence].rename(columns = {'United States of America': 'USA', 'United Kingdom': 'UK'}, \n",
    "                                  inplace = True)\n",
    "    if influence == 'religion':\n",
    "        dict_df[influence] = dict_df[influence][dict_df[influence]['religion'].isin([\n",
    "            'Catholicism', 'Judaism', 'Hinduism', 'Islam', 'atheism', 'Anglicansim', 'agnosticism'])]\n",
    "        X = pd.get_dummies(dict_df[influence]['religion'])\n",
    "        dict_df[influence] = dict_df[influence].join(X)\n",
    "    if influence == 'academic_degree':\n",
    "        dict_df[influence] = dict_df[influence][dict_df[influence]['academic_degree'].isin([\n",
    "            'Bachelor of Arts', 'Bachelor of Science', 'Juris Doctor', 'Doctor of Philosophy', \"bachelor's degree\"])]\n",
    "        X = pd.get_dummies(dict_df[influence]['academic_degree'])\n",
    "        dict_df[influence] = dict_df[influence].join(X)\n",
    "        dict_df[influence].rename(columns = {'Bachelor of Arts': 'Bachelor_of_Arts', \n",
    "                                             'Bachelor of Science': 'Bachelor_of_Science',\n",
    "                                             'Juris Doctor': 'Juris_Doctor', \n",
    "                                             'Doctor of Philosophy': 'Doctor_of_Philosophy',\n",
    "                                             \"bachelor's degree\": \"bachelor_degree\"}, \n",
    "                                  inplace = True)                    "
   ]
  },
  {
   "cell_type": "markdown",
   "metadata": {},
   "source": [
    "Let's have a brief overview of the mean uncertainty and std deviation:"
   ]
  },
  {
   "cell_type": "code",
   "execution_count": 35,
   "metadata": {},
   "outputs": [
    {
     "name": "stdout",
     "output_type": "stream",
     "text": [
      "United States of America: mean:  0.712707136676242 std:  0.4866571075234479 \n",
      "United Kingdom: mean: 0.7069002279847135 std:  0.38707031947458437 \n",
      "India: mean:  0.6160903141767206 std:  0.2386860366518763 \n",
      "Canada: mean:  0.7036667910248894 std:  0.2561332709851297\n"
     ]
    }
   ],
   "source": [
    "print('United States of America: mean: ', dict_df['nationality'][dict_df['nationality']['USA'] == 1]\\\n",
    "            ['uncertainty_label'].mean(), \"std: \", dict_df['nationality']['USA'].std(),\n",
    "      '\\nUnited Kingdom: mean:', dict_df['nationality'][dict_df['nationality']['UK'] == 1]\\\n",
    "            ['uncertainty_label'].mean(),\"std: \", dict_df['nationality']['UK'].std(),\n",
    "      '\\nIndia: mean: ', dict_df['nationality'][dict_df['nationality']['India'] == 1]\\\n",
    "            ['uncertainty_label'].mean(), \"std: \", dict_df['nationality']['India'].std(),\n",
    "      '\\nCanada: mean: ', dict_df['nationality'][dict_df['nationality']['Canada'] == 1]\\\n",
    "            ['uncertainty_label'].mean(),\"std: \", dict_df['nationality']['Canada'].std())"
   ]
  },
  {
   "cell_type": "markdown",
   "metadata": {},
   "source": [
    "Let's look at some possible analyses!"
   ]
  },
  {
   "cell_type": "code",
   "execution_count": 46,
   "metadata": {},
   "outputs": [
    {
     "name": "stdout",
     "output_type": "stream",
     "text": [
      "                            OLS Regression Results                            \n",
      "==============================================================================\n",
      "Dep. Variable:      uncertainty_label   R-squared:                       0.003\n",
      "Model:                            OLS   Adj. R-squared:                  0.003\n",
      "Method:                 Least Squares   F-statistic:                     1489.\n",
      "Date:                Thu, 16 Dec 2021   Prob (F-statistic):               0.00\n",
      "Time:                        16:02:53   Log-Likelihood:            -3.3650e+06\n",
      "No. Observations:             5316609   AIC:                         6.730e+06\n",
      "Df Residuals:                 5316599   BIC:                         6.730e+06\n",
      "Df Model:                           9                                         \n",
      "Covariance Type:            nonrobust                                         \n",
      "===========================================================================================================================\n",
      "                                                              coef    std err          t      P>|t|      [0.025      0.975]\n",
      "---------------------------------------------------------------------------------------------------------------------------\n",
      "Intercept                                                   0.7049      0.001    844.623      0.000       0.703       0.707\n",
      "C(gender, Treatment(reference=\"male\"))[T.female]           -0.0007      0.002     -0.371      0.711      -0.004       0.003\n",
      "USA                                                         0.0069      0.001      7.871      0.000       0.005       0.009\n",
      "USA:C(gender, Treatment(reference=\"male\"))[T.female]        0.0051      0.002      2.620      0.009       0.001       0.009\n",
      "UK                                                          0.0014      0.001      1.422      0.155      -0.001       0.003\n",
      "UK:C(gender, Treatment(reference=\"male\"))[T.female]         0.0043      0.002      1.947      0.051   -2.79e-05       0.009\n",
      "Canada                                                     -0.0006      0.001     -0.526      0.599      -0.003       0.002\n",
      "Canada:C(gender, Treatment(reference=\"male\"))[T.female]    -0.0029      0.003     -1.083      0.279      -0.008       0.002\n",
      "India                                                      -0.0851      0.001    -70.474      0.000      -0.087      -0.083\n",
      "India:C(gender, Treatment(reference=\"male\"))[T.female]     -0.0232      0.003     -8.043      0.000      -0.029      -0.018\n",
      "==============================================================================\n",
      "Omnibus:                  4747512.410   Durbin-Watson:                   0.004\n",
      "Prob(Omnibus):                  0.000   Jarque-Bera (JB):          1021137.459\n",
      "Skew:                          -0.894   Prob(JB):                         0.00\n",
      "Kurtosis:                       1.813   Cond. No.                         28.2\n",
      "==============================================================================\n",
      "\n",
      "Notes:\n",
      "[1] Standard Errors assume that the covariance matrix of the errors is correctly specified.\n"
     ]
    }
   ],
   "source": [
    "res_nationality_gender = linear_reg(data = dict_df['nationality'], formula = 'uncertainty_label ~ \\\n",
    "    USA * C(gender, Treatment(reference=\"male\")) + UK * C(gender, Treatment(reference=\"male\")) +\\\n",
    "        Canada * C(gender, Treatment(reference=\"male\")) + India * C(gender, Treatment(reference=\"male\"))')\n",
    "\n",
    "print(res_nationality_gender.summary())"
   ]
  },
  {
   "cell_type": "markdown",
   "metadata": {},
   "source": [
    "Note:\n",
    "\n",
    "    - India is correlated to a very important certainty probability drop of -8.51%."
   ]
  },
  {
   "cell_type": "markdown",
   "metadata": {},
   "source": [
    "We now perform a linear regression on religion features related to gender."
   ]
  },
  {
   "cell_type": "code",
   "execution_count": null,
   "metadata": {},
   "outputs": [
    {
     "name": "stdout",
     "output_type": "stream",
     "text": [
      "                            OLS Regression Results                            \n",
      "==============================================================================\n",
      "Dep. Variable:      uncertainty_label   R-squared:                       0.005\n",
      "Model:                            OLS   Adj. R-squared:                  0.005\n",
      "Method:                 Least Squares   F-statistic:                     235.4\n",
      "Date:                Wed, 15 Dec 2021   Prob (F-statistic):               0.00\n",
      "Time:                        17:07:36   Log-Likelihood:            -3.0636e+05\n",
      "No. Observations:              480782   AIC:                         6.127e+05\n",
      "Df Residuals:                  480770   BIC:                         6.129e+05\n",
      "Df Model:                          11                                         \n",
      "Covariance Type:            nonrobust                                         \n",
      "================================================================================================================================\n",
      "                                                                   coef    std err          t      P>|t|      [0.025      0.975]\n",
      "--------------------------------------------------------------------------------------------------------------------------------\n",
      "Intercept                                                        0.7113      0.004    178.917      0.000       0.703       0.719\n",
      "C(gender, Treatment(reference=\"male\"))[T.female]                 0.0081      0.024      0.334      0.739      -0.039       0.056\n",
      "Catholicism                                                      0.0164      0.004      3.876      0.000       0.008       0.025\n",
      "Catholicism:C(gender, Treatment(reference=\"male\"))[T.female]    -0.0129      0.024     -0.530      0.596      -0.061       0.035\n",
      "Judaism                                                          0.0155      0.004      3.596      0.000       0.007       0.024\n",
      "Judaism:C(gender, Treatment(reference=\"male\"))[T.female]        -0.0227      0.025     -0.925      0.355      -0.071       0.025\n",
      "Hinduism                                                        -0.0751      0.004    -17.408      0.000      -0.084      -0.067\n",
      "Hinduism:C(gender, Treatment(reference=\"male\"))[T.female]       -0.0114      0.025     -0.463      0.644      -0.059       0.037\n",
      "Islam                                                           -0.0097      0.004     -2.277      0.023      -0.018      -0.001\n",
      "Islam:C(gender, Treatment(reference=\"male\"))[T.female]          -0.0234      0.025     -0.953      0.341      -0.072       0.025\n",
      "atheism                                                         -0.0256      0.005     -5.612      0.000      -0.035      -0.017\n",
      "atheism:C(gender, Treatment(reference=\"male\"))[T.female]         0.0107      0.025      0.428      0.669      -0.038       0.060\n",
      "==============================================================================\n",
      "Omnibus:                   658827.978   Durbin-Watson:                   0.006\n",
      "Prob(Omnibus):                  0.000   Jarque-Bera (JB):            89764.634\n",
      "Skew:                          -0.860   Prob(JB):                         0.00\n",
      "Kurtosis:                       1.765   Cond. No.                         101.\n",
      "==============================================================================\n",
      "\n",
      "Notes:\n",
      "[1] Standard Errors assume that the covariance matrix of the errors is correctly specified.\n"
     ]
    }
   ],
   "source": [
    "res_religion_gender = linear_reg(data = dict_df['religion'], formula = 'uncertainty_label ~ \\\n",
    "    Catholicism * C(gender, Treatment(reference=\"male\")) + Judaism * C(gender, Treatment(reference=\"male\")) + \\\n",
    "        Hinduism * C(gender, Treatment(reference=\"male\")) + Islam * C(gender, Treatment(reference=\"male\")) + \\\n",
    "            atheism * C(gender, Treatment(reference=\"male\"))')\n",
    "\n",
    "print(res_religion_gender.summary())"
   ]
  },
  {
   "cell_type": "markdown",
   "metadata": {},
   "source": [
    "Note:\n",
    "\n",
    "    - Lowest correlated certainty: Hinduism => -7.51% and Female Islam => -2.34%\n",
    "    - Highest: Caholicism and Judahism"
   ]
  },
  {
   "cell_type": "markdown",
   "metadata": {},
   "source": [
    "Next, we do a linear regression on academic degree features related to gender:"
   ]
  },
  {
   "cell_type": "code",
   "execution_count": null,
   "metadata": {},
   "outputs": [
    {
     "name": "stdout",
     "output_type": "stream",
     "text": [
      "                            OLS Regression Results                            \n",
      "==============================================================================\n",
      "Dep. Variable:      uncertainty_label   R-squared:                       0.003\n",
      "Model:                            OLS   Adj. R-squared:                  0.003\n",
      "Method:                 Least Squares   F-statistic:                     55.72\n",
      "Date:                Wed, 15 Dec 2021   Prob (F-statistic):          3.87e-102\n",
      "Time:                        17:14:46   Log-Likelihood:            -1.1760e+05\n",
      "No. Observations:              195519   AIC:                         2.352e+05\n",
      "Df Residuals:                  195509   BIC:                         2.353e+05\n",
      "Df Model:                           9                                         \n",
      "Covariance Type:            nonrobust                                         \n",
      "=========================================================================================================================================\n",
      "                                                                            coef    std err          t      P>|t|      [0.025      0.975]\n",
      "-----------------------------------------------------------------------------------------------------------------------------------------\n",
      "Intercept                                                                 0.7587      0.002    304.166      0.000       0.754       0.764\n",
      "C(gender, Treatment(reference=\"male\"))[T.female]                         -0.0127      0.006     -1.962      0.050      -0.025   -1.55e-05\n",
      "bachelor_degree                                                          -0.0143      0.007     -2.061      0.039      -0.028      -0.001\n",
      "bachelor_degree:C(gender, Treatment(reference=\"male\"))[T.female]          0.0220      0.010      2.282      0.022       0.003       0.041\n",
      "Bachelor_of_Arts                                                         -0.0299      0.003     -9.809      0.000      -0.036      -0.024\n",
      "Bachelor_of_Arts:C(gender, Treatment(reference=\"male\"))[T.female]        -0.0161      0.009     -1.804      0.071      -0.034       0.001\n",
      "Bachelor_of_Science                                                      -0.0170      0.003     -5.094      0.000      -0.023      -0.010\n",
      "Bachelor_of_Science:C(gender, Treatment(reference=\"male\"))[T.female]     -0.0447      0.013     -3.499      0.000      -0.070      -0.020\n",
      "Doctor_of_Philosophy                                                     -0.0753      0.004    -17.034      0.000      -0.084      -0.067\n",
      "Doctor_of_Philosophy:C(gender, Treatment(reference=\"male\"))[T.female]     0.0161      0.009      1.798      0.072      -0.001       0.034\n",
      "==============================================================================\n",
      "Omnibus:                    49202.029   Durbin-Watson:                   0.002\n",
      "Prob(Omnibus):                  0.000   Jarque-Bera (JB):            42395.815\n",
      "Skew:                          -1.053   Prob(JB):                         0.00\n",
      "Kurtosis:                       2.121   Cond. No.                         18.8\n",
      "==============================================================================\n",
      "\n",
      "Notes:\n",
      "[1] Standard Errors assume that the covariance matrix of the errors is correctly specified.\n"
     ]
    }
   ],
   "source": [
    "res_degree_gender = linear_reg(data = dict_df['academic_degree'], formula = 'uncertainty_label ~ \\\n",
    "    bachelor_degree * C(gender, Treatment(reference=\"male\")) + Bachelor_of_Arts * C(gender, \\\n",
    "    Treatment(reference=\"male\")) + Bachelor_of_Science * C(gender, Treatment(reference=\"male\")) + \\\n",
    "    Doctor_of_Philosophy * C(gender, Treatment(reference=\"male\"))')\n",
    "\n",
    "print(res_degree_gender.summary())"
   ]
  },
  {
   "cell_type": "markdown",
   "metadata": {},
   "source": [
    "Notes:\n",
    "\n",
    "    - Lowest: Doctor of Philosophy\n",
    "    - Highest: Female Doctor of Philosophy and Female Bachelor degree"
   ]
  },
  {
   "cell_type": "markdown",
   "metadata": {},
   "source": [
    "### 5.4 Possible variation from 2015 to 2020 <a class = anchor id=\"5.4\"></a>"
   ]
  },
  {
   "cell_type": "markdown",
   "metadata": {},
   "source": [
    "Finally, we analyse a possible variation from 2015 to 2020. To start, we build a year labeled dataset."
   ]
  },
  {
   "cell_type": "code",
   "execution_count": null,
   "metadata": {},
   "outputs": [
    {
     "data": {
      "text/plain": [
       "array([0, 1, 2, 3, 4, 5], dtype=int64)"
      ]
     },
     "execution_count": 46,
     "metadata": {},
     "output_type": "execute_result"
    }
   ],
   "source": [
    "my_df['year_label'] = pd.DatetimeIndex(my_df['date']).year - 2015\n",
    "\n",
    "my_df['year_label'].unique()"
   ]
  },
  {
   "cell_type": "markdown",
   "metadata": {},
   "source": [
    "A value of 0 corresponds to the year 2015 (first year in our dataset) and other values correspond to the number of years elapsed since 2015.\n",
    "\n",
    "Ex: 2016 is encoded as 1.\n",
    "\n",
    "We now perform a linear regression on years and gender."
   ]
  },
  {
   "cell_type": "code",
   "execution_count": 48,
   "metadata": {},
   "outputs": [
    {
     "name": "stdout",
     "output_type": "stream",
     "text": [
      "                            OLS Regression Results                            \n",
      "==============================================================================\n",
      "Dep. Variable:      uncertainty_label   R-squared:                       0.000\n",
      "Model:                            OLS   Adj. R-squared:                  0.000\n",
      "Method:                 Least Squares   F-statistic:                     369.0\n",
      "Date:                Wed, 15 Dec 2021   Prob (F-statistic):          1.10e-239\n",
      "Time:                        15:08:59   Log-Likelihood:            -4.2415e+06\n",
      "No. Observations:             6691519   AIC:                         8.483e+06\n",
      "Df Residuals:                 6691515   BIC:                         8.483e+06\n",
      "Df Model:                           3                                         \n",
      "Covariance Type:            nonrobust                                         \n",
      "===============================================================================================================================\n",
      "                                                                  coef    std err          t      P>|t|      [0.025      0.975]\n",
      "-------------------------------------------------------------------------------------------------------------------------------\n",
      "Intercept                                                       0.7149      0.000   1860.025      0.000       0.714       0.716\n",
      "C(gender, Treatment(reference=\"male\"))[T.female]               -0.0007      0.001     -0.721      0.471      -0.003       0.001\n",
      "year_label                                                     -0.0035      0.000    -31.418      0.000      -0.004      -0.003\n",
      "year_label:C(gender, Treatment(reference=\"male\"))[T.female]     0.0010      0.000      3.755      0.000       0.000       0.002\n",
      "==============================================================================\n",
      "Omnibus:                  6247851.607   Durbin-Watson:                   0.000\n",
      "Prob(Omnibus):                  0.000   Jarque-Bera (JB):          1295936.452\n",
      "Skew:                          -0.898   Prob(JB):                         0.00\n",
      "Kurtosis:                       1.807   Cond. No.                         21.0\n",
      "==============================================================================\n",
      "\n",
      "Notes:\n",
      "[1] Standard Errors assume that the covariance matrix of the errors is correctly specified.\n"
     ]
    }
   ],
   "source": [
    "res_year_gender = linear_reg(data = my_df, formula = 'uncertainty_label ~ \\\n",
    "    year_label * C(gender, Treatment(reference=\"male\"))')\n",
    "\n",
    "print(res_year_gender.summary())"
   ]
  },
  {
   "cell_type": "markdown",
   "metadata": {},
   "source": [
    "Notes: \n",
    "\n",
    "    - It is interesting to observe that each year elapsed since 2015 correlates with a drop of the certainty probability of the quotes of -0.35%.\n",
    "    - On the other hand, we can see that quotes written from a woman are becoming slightly more certain by 0.1% each year.\n",
    "\n",
    "This sugests that quotes are generally becoming more uncertain year after year, whereas female quotes are getting slighlty more certain."
   ]
  },
  {
   "cell_type": "markdown",
   "metadata": {},
   "source": [
    "### Statistical analysis summary:\n",
    "\n",
    "We performed linear regression unsing the certainty label we obtained from the Pajean uncertainty classifier to identify important features for certainty prediciton. It is important to keep in mind that the classifier has a 62.8 F-score thus some of the results we obtain could be due to chance.\n",
    "We considered features with p-value under 0.05 not statisticaly significant.\n",
    "\n",
    "Considering all quotes, our first findings were that the average certainty for a male's quote was 0.70 and a female's quote is correlated with an increase in certainty probability of 0.19%. This could be slightly unintuitive at first.\n",
    "\n",
    "Then, we selected a smaller portions of the quotes selecting only quotes from artists, economists, politicians and scientists.\n",
    "Our first surprise was that amongst this population, the base probability for having a certain quote was of 93%, 20% more than quotes from any individual.\n",
    "In this subset, we could observe that the most certain were estimated to be the scientists with an increase of 3% in quote certainty estimation.\n",
    "We also found that the feature which was lowering the most the certainty probability in our model was being a female, with a -1.3% certainty probability drop without relation with the female's profession.\n",
    "\n",
    "Going back to our full dataset, we analysed the backgrounds of the speakers.\n",
    "We found that Indians' quotes are correlated with an important -8.5% certainty probability drop. Similarly hinduists' quotes are also associated with a -7.5% certainty fall. Doctors in philosphy are also matched with a low certainty, -7.5%. \n",
    "\n",
    "Cases of background and gender interactions were rarely significants. It could be due to the large inegality proportions of male and females in the different background categories. Our most representative case of interaction was with a female with a bachelor of science. Having a bachelor of science in our model is correlated with a -1.7% and a female with a bachelor of science is correlated with a -4.5% of having a certain quote. \n",
    "\n",
    "Finally we found that quotes were seemingly getting more uncertain, -0.35% a year, when women's quotes are slightly becoming more certain, +0.1% per year."
   ]
  },
  {
   "cell_type": "markdown",
   "metadata": {
    "tags": []
   },
   "source": [
    "## 6. Conclusion <a class = anchor id=\"conclusion\"></a>"
   ]
  },
  {
   "cell_type": "markdown",
   "metadata": {},
   "source": [
    "(OLD TEXT)\n",
    "\n",
    "Through this notebook, we aimed to analyse the speech difference between women and men using the Quotebank dataset. We started from the hypothesis that women speak less confidently than men and in a more uncertain way. To verify this claim, we conducted an analysis with the help of a classifier which distinguishes uncertain quotations from certain quotation. We also used Wikidata as a supplement input data to study more closely the quotation speakers.   \n",
    "We performed various data frame separation with respect to the `occupation`, `religion`, `nationality` and `education`, to be able to measure the impact of each influence and to remove out the bias. For our initial question, it seems that there is no significant difference between men and women when compared in the same field of work. However, there seems that women in some culture or education level do show speech uncertainty more than men. However, it is important to follow these intial suggestions by a robust data statistical analysis with hypothesis testing.   \n",
    "As a continuation of our milestone 2, it would be interesting to dive deeper on the statistical analysis of our findings as well as generalize to all of our quotebank dataset from 2015 up to 2020.\n",
    "\n",
    "+ conclusions M3?\n",
    "\n",
    "+  further extensions on the project.?"
   ]
  },
  {
   "cell_type": "code",
   "execution_count": null,
   "metadata": {},
   "outputs": [],
   "source": []
  }
 ],
 "metadata": {
  "interpreter": {
   "hash": "a53c85f19ec6b2954a44487f2d44944431fd108845d569e7201686def1655526"
  },
  "kernelspec": {
   "display_name": "Python 3 (ipykernel)",
   "language": "python",
   "name": "python3"
  },
  "language_info": {
   "codemirror_mode": {
    "name": "ipython",
    "version": 3
   },
   "file_extension": ".py",
   "mimetype": "text/x-python",
   "name": "python",
   "nbconvert_exporter": "python",
   "pygments_lexer": "ipython3",
   "version": "3.8.5"
  }
 },
 "nbformat": 4,
 "nbformat_minor": 4
}
