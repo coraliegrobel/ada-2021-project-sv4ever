{
 "cells": [
  {
   "cell_type": "markdown",
   "metadata": {},
   "source": [
    "# Project Milestone 2 (P2)\n",
    "\n",
    "## Context\n",
    "\n",
    "In this project, we are going to analyze data from...\n",
    "\n",
    "\n",
    "## The data\n",
    "\n",
    "...\n",
    "\n",
    "### Quotebank\n",
    "\n",
    "...\n",
    "\n",
    "### Wikidata\n",
    "\n",
    "...\n",
    "\n",
    "### Classifier\n",
    "\n",
    "...\n",
    "\n",
    "\n",
    "## Project proposal and initial analyses\n",
    "\n",
    " ..."
   ]
  },
  {
   "cell_type": "markdown",
   "metadata": {},
   "source": [
    "## 1. Loading of the data"
   ]
  },
  {
   "cell_type": "code",
   "execution_count": null,
   "metadata": {},
   "outputs": [],
   "source": [
    "import pandas as pd\n",
    "import numpy as np\n",
    "import seaborn as sns\n",
    "import matplotlib.pyplot as plt\n",
    "PATH = 'Data/'"
   ]
  },
  {
   "cell_type": "markdown",
   "metadata": {},
   "source": [
    "### 1.1. Extracting only a sub data frame of interest"
   ]
  },
  {
   "cell_type": "markdown",
   "metadata": {},
   "source": [
    "We are only interested by the quotes containing ... So to be quicker each time we load the data, we create a sub data frame containing only the quotes of interest. We save it as a pickle file."
   ]
  },
  {
   "cell_type": "markdown",
   "metadata": {},
   "source": [
    "#### Extraction and loading functions"
   ]
  },
  {
   "cell_type": "code",
   "execution_count": null,
   "metadata": {},
   "outputs": [],
   "source": [
    "def extract_quotes(df, word):\n",
    "    \"\"\"\n",
    "    Create a sub data frame from df with quotations that contains the word (only one for now).\n",
    "    Inputs:\n",
    "        * df : data frame of intereset\n",
    "        * word : single word to extract\n",
    "    Outputs:\n",
    "        * df_quotes : dataframe containing the word of reference\n",
    "    \"\"\"\n",
    "    df_quotes = df[df['quotation'].str.contains(word)]\n",
    "    return df_quotes\n",
    "\n",
    "\n",
    "def saving_wikidata(path):\n",
    "    \"\"\"\n",
    "    Transforming all the wikidata file in one dataset saved as pickle. \n",
    "    This allows to load the file and use it more quickly and easily.\n",
    "    Inputs:\n",
    "        * path : pathway where to save the pickle file\n",
    "    \"\"\"\n",
    "    wikidata_all = pd.DataFrame()\n",
    "    PATH_PARQUET = 'Data_parquet/'\n",
    "    for i in range(1,16):\n",
    "        if i < 10:\n",
    "            DATA_FILE = 'part-0000{}-0d587965-3d8f-41ce-9771-5b8c9024dce9-c000.snappy.parquet'.format(i)\n",
    "        else:\n",
    "            DATA_FILE = 'part-000{}-0d587965-3d8f-41ce-9771-5b8c9024dce9-c000.snappy.parquet'.format(i)\n",
    "        print(PATH_PARQUET + DATA_FILE)\n",
    "        wikidata = pd.read_parquet(PATH_PARQUET + DATA_FILE)\n",
    "        wikidata_all = pd.concat([wikidata_all, wikidata])\n",
    "    wikidata_all.to_pickle(path)\n",
    "\n",
    "\n",
    "def add_columns(column, target, init_df, name_column):\n",
    "    \"\"\"\n",
    "    Check if a target ('politician', 'male', 'female' etc...) is in a certain column.\n",
    "    If it is, we return True in an additional column (name_column).\n",
    "    Inputs:\n",
    "        * column : name of column to search for target\n",
    "        * target : item of interest \n",
    "        * init_df : initial data frame\n",
    "        * name_column : name of new column of booleans\n",
    "    Outputs:\n",
    "        * final_df : dataframe with new column and only rows which contains the item\n",
    "    \"\"\"\n",
    "    final_df = init_df.copy(deep = True)\n",
    "    print('name', name_column)\n",
    "    print('col',column)\n",
    "    print('tar',target)\n",
    "    final_df[name_column] = final_df[column].apply(lambda x: np.any(x) in target)\n",
    "    return final_df\n",
    "\n",
    "\n",
    "def extracting_sub_df(quotebank, wikidata, column):\n",
    "    \"\"\"\n",
    "    Create a sub dataframe with information from quotebank and wikidata.\n",
    "    We only take the rows in column which are True.\n",
    "    Inputs:\n",
    "        * quotebank : dataframe extracted from quotebank\n",
    "        * wikidata : dataframe extracted from wikidata\n",
    "        * column : column on which we base the merge\n",
    "    Outputs :\n",
    "        * sub_df : merged dataframe \n",
    "    \"\"\"\n",
    "    merged_df = pd.merge(quotebank, wikidata, left_on= 'speaker', right_on='label')\n",
    "    sub_df = merged_df[merged_df[column] == True]\n",
    "    return sub_df\n",
    "\n",
    "\n",
    "def create_df_with_conditions(column, condition, wikidata, column_temp):\n",
    "    \"\"\"\n",
    "    From quotebank data, extracts and returns a data frame with only the rows that respect the condition.\n",
    "    Inputs:\n",
    "        * column : name of column where the condition is applied\n",
    "        * condition : condition of interest \n",
    "        * wikidata : wiki database\n",
    "        * column_temp : name of new column of booleans\n",
    "    Outputs:\n",
    "        * sub_df : dataframe with new column and only rows which contains the item\n",
    "    \"\"\"\n",
    "    wiki_plus = add_columns(column, condition, wikidata, column_temp)\n",
    "    sub_df = pd.DataFrame()\n",
    "    for i in range(20,21): #(15,21)\n",
    "        DATA_FILE = 'quotes-20{}.json.bz2'.format(i)\n",
    "        with pd.read_json(PATH + DATA_FILE, lines=True, compression='bz2', chunksize=100000) as df_reader:\n",
    "            for chunk in df_reader:\n",
    "                sub_df = pd.concat([sub_df, extracting_sub_df(chunk, wiki_plus, column_temp)])\n",
    "    sub_df = sub_df.drop(column_temp, axis = 1)\n",
    "    return sub_df"
   ]
  },
  {
   "cell_type": "markdown",
   "metadata": {},
   "source": [
    "The following cell is only intented to be run once to transforming all the wikidata files in one dataset saved as pickle:"
   ]
  },
  {
   "cell_type": "code",
   "execution_count": null,
   "metadata": {},
   "outputs": [],
   "source": [
    "saving_wikidata(\"data/parquet.pck\")"
   ]
  },
  {
   "cell_type": "markdown",
   "metadata": {},
   "source": [
    "### 1.2 Loading wikidata labels"
   ]
  },
  {
   "cell_type": "markdown",
   "metadata": {},
   "source": [
    "Wikidata labels are encoded in items called QIDs, to map them back to human readable labels, we upload the following dataset."
   ]
  },
  {
   "cell_type": "code",
   "execution_count": null,
   "metadata": {},
   "outputs": [],
   "source": [
    "qid_label = pd.read_csv(PATH+'wikidata_labels_descriptions_quotebank.csv.bz2', compression='bz2', index_col='QID')"
   ]
  },
  {
   "cell_type": "code",
   "execution_count": null,
   "metadata": {},
   "outputs": [],
   "source": [
    "qid_label.head()"
   ]
  },
  {
   "cell_type": "markdown",
   "metadata": {},
   "source": [
    "### 1.3 Loading information about the speaker"
   ]
  },
  {
   "cell_type": "markdown",
   "metadata": {},
   "source": [
    "To be able to find information about the speaker, we use wikidata. The next cell was used to create a pickle of all the speaker."
   ]
  },
  {
   "cell_type": "code",
   "execution_count": 9,
   "metadata": {},
   "outputs": [
    {
     "data": {
      "text/plain": [
       "(8583613, 15)"
      ]
     },
     "execution_count": 9,
     "metadata": {},
     "output_type": "execute_result"
    }
   ],
   "source": [
    "wikidata_all = pd.read_pickle(\"Data/parquet.pck\")\n",
    "wikidata_all.shape"
   ]
  },
  {
   "cell_type": "markdown",
   "metadata": {},
   "source": [
    "Let's start by searching for redundant speaker."
   ]
  },
  {
   "cell_type": "code",
   "execution_count": 10,
   "metadata": {},
   "outputs": [
    {
     "data": {
      "text/plain": [
       "False"
      ]
     },
     "execution_count": 10,
     "metadata": {},
     "output_type": "execute_result"
    }
   ],
   "source": [
    "wikidata_all['label'].is_unique"
   ]
  },
  {
   "cell_type": "markdown",
   "metadata": {},
   "source": [
    "We can see that there are indeed duplicate rows. We'll now create a new dataframe (`cleaned_wikidata`) without this redundancy."
   ]
  },
  {
   "cell_type": "code",
   "execution_count": 11,
   "metadata": {},
   "outputs": [
    {
     "data": {
      "text/plain": [
       "True"
      ]
     },
     "execution_count": 11,
     "metadata": {},
     "output_type": "execute_result"
    }
   ],
   "source": [
    "# Creation of a clean version of the data (without modifying the original one)\n",
    "cleaned_wikidata = wikidata_all.copy(deep=True)\n",
    "\n",
    "# Removal of duplicates of each id (the first is kept)\n",
    "cleaned_wikidata = cleaned_wikidata[~cleaned_wikidata['label'].duplicated(keep='first')]\n",
    "\n",
    "# Check for any duplicate ids\n",
    "cleaned_wikidata['label'].is_unique"
   ]
  },
  {
   "cell_type": "markdown",
   "metadata": {},
   "source": [
    "Let's now check if some rows have been removed"
   ]
  },
  {
   "cell_type": "code",
   "execution_count": 12,
   "metadata": {},
   "outputs": [
    {
     "data": {
      "text/plain": [
       "(6935018, 15)"
      ]
     },
     "execution_count": 12,
     "metadata": {},
     "output_type": "execute_result"
    }
   ],
   "source": [
    "cleaned_wikidata.shape"
   ]
  },
  {
   "cell_type": "markdown",
   "metadata": {},
   "source": [
    "We can see that 1,648,595 `label` have been removed."
   ]
  },
  {
   "cell_type": "code",
   "execution_count": 13,
   "metadata": {},
   "outputs": [
    {
     "data": {
      "text/html": [
       "<div>\n",
       "<style scoped>\n",
       "    .dataframe tbody tr th:only-of-type {\n",
       "        vertical-align: middle;\n",
       "    }\n",
       "\n",
       "    .dataframe tbody tr th {\n",
       "        vertical-align: top;\n",
       "    }\n",
       "\n",
       "    .dataframe thead th {\n",
       "        text-align: right;\n",
       "    }\n",
       "</style>\n",
       "<table border=\"1\" class=\"dataframe\">\n",
       "  <thead>\n",
       "    <tr style=\"text-align: right;\">\n",
       "      <th></th>\n",
       "      <th>aliases</th>\n",
       "      <th>date_of_birth</th>\n",
       "      <th>nationality</th>\n",
       "      <th>gender</th>\n",
       "      <th>lastrevid</th>\n",
       "      <th>ethnic_group</th>\n",
       "      <th>US_congress_bio_ID</th>\n",
       "      <th>occupation</th>\n",
       "      <th>party</th>\n",
       "      <th>academic_degree</th>\n",
       "      <th>id</th>\n",
       "      <th>label</th>\n",
       "      <th>candidacy</th>\n",
       "      <th>type</th>\n",
       "      <th>religion</th>\n",
       "    </tr>\n",
       "  </thead>\n",
       "  <tbody>\n",
       "    <tr>\n",
       "      <th>0</th>\n",
       "      <td>None</td>\n",
       "      <td>None</td>\n",
       "      <td>None</td>\n",
       "      <td>[Q6581097]</td>\n",
       "      <td>985453603</td>\n",
       "      <td>None</td>\n",
       "      <td>None</td>\n",
       "      <td>None</td>\n",
       "      <td>None</td>\n",
       "      <td>None</td>\n",
       "      <td>Q45441526</td>\n",
       "      <td>Cui Yan</td>\n",
       "      <td>None</td>\n",
       "      <td>item</td>\n",
       "      <td>None</td>\n",
       "    </tr>\n",
       "    <tr>\n",
       "      <th>1</th>\n",
       "      <td>None</td>\n",
       "      <td>None</td>\n",
       "      <td>[Q9903]</td>\n",
       "      <td>[Q6581097]</td>\n",
       "      <td>1008699604</td>\n",
       "      <td>None</td>\n",
       "      <td>None</td>\n",
       "      <td>None</td>\n",
       "      <td>None</td>\n",
       "      <td>None</td>\n",
       "      <td>Q45441555</td>\n",
       "      <td>Guo Ziyi</td>\n",
       "      <td>None</td>\n",
       "      <td>item</td>\n",
       "      <td>None</td>\n",
       "    </tr>\n",
       "    <tr>\n",
       "      <th>2</th>\n",
       "      <td>None</td>\n",
       "      <td>None</td>\n",
       "      <td>[Q9903]</td>\n",
       "      <td>[Q6581097]</td>\n",
       "      <td>1008699709</td>\n",
       "      <td>None</td>\n",
       "      <td>None</td>\n",
       "      <td>None</td>\n",
       "      <td>None</td>\n",
       "      <td>None</td>\n",
       "      <td>Q45441562</td>\n",
       "      <td>Wan Zikui</td>\n",
       "      <td>None</td>\n",
       "      <td>item</td>\n",
       "      <td>None</td>\n",
       "    </tr>\n",
       "    <tr>\n",
       "      <th>3</th>\n",
       "      <td>None</td>\n",
       "      <td>None</td>\n",
       "      <td>[Q9903]</td>\n",
       "      <td>[Q6581097]</td>\n",
       "      <td>1008699728</td>\n",
       "      <td>None</td>\n",
       "      <td>None</td>\n",
       "      <td>None</td>\n",
       "      <td>None</td>\n",
       "      <td>None</td>\n",
       "      <td>Q45441563</td>\n",
       "      <td>Lin Pei</td>\n",
       "      <td>None</td>\n",
       "      <td>item</td>\n",
       "      <td>None</td>\n",
       "    </tr>\n",
       "    <tr>\n",
       "      <th>4</th>\n",
       "      <td>None</td>\n",
       "      <td>None</td>\n",
       "      <td>[Q9683]</td>\n",
       "      <td>[Q6581097]</td>\n",
       "      <td>985261661</td>\n",
       "      <td>None</td>\n",
       "      <td>None</td>\n",
       "      <td>None</td>\n",
       "      <td>None</td>\n",
       "      <td>None</td>\n",
       "      <td>Q45441565</td>\n",
       "      <td>Guan Zhen</td>\n",
       "      <td>None</td>\n",
       "      <td>item</td>\n",
       "      <td>None</td>\n",
       "    </tr>\n",
       "  </tbody>\n",
       "</table>\n",
       "</div>"
      ],
      "text/plain": [
       "  aliases date_of_birth nationality      gender   lastrevid ethnic_group  \\\n",
       "0    None          None        None  [Q6581097]   985453603         None   \n",
       "1    None          None     [Q9903]  [Q6581097]  1008699604         None   \n",
       "2    None          None     [Q9903]  [Q6581097]  1008699709         None   \n",
       "3    None          None     [Q9903]  [Q6581097]  1008699728         None   \n",
       "4    None          None     [Q9683]  [Q6581097]   985261661         None   \n",
       "\n",
       "  US_congress_bio_ID occupation party academic_degree         id      label  \\\n",
       "0               None       None  None            None  Q45441526    Cui Yan   \n",
       "1               None       None  None            None  Q45441555   Guo Ziyi   \n",
       "2               None       None  None            None  Q45441562  Wan Zikui   \n",
       "3               None       None  None            None  Q45441563    Lin Pei   \n",
       "4               None       None  None            None  Q45441565  Guan Zhen   \n",
       "\n",
       "  candidacy  type religion  \n",
       "0      None  item     None  \n",
       "1      None  item     None  \n",
       "2      None  item     None  \n",
       "3      None  item     None  \n",
       "4      None  item     None  "
      ]
     },
     "execution_count": 13,
     "metadata": {},
     "output_type": "execute_result"
    }
   ],
   "source": [
    "cleaned_wikidata.head()"
   ]
  },
  {
   "cell_type": "markdown",
   "metadata": {},
   "source": [
    "Now we want to remove rows where import values are missing like the name of the speaker or his or her gender as we will focus only on speakers who identify as binary."
   ]
  },
  {
   "cell_type": "code",
   "execution_count": 14,
   "metadata": {},
   "outputs": [
    {
     "name": "stdout",
     "output_type": "stream",
     "text": [
      "(6935017, 15)\n",
      "(5351326, 15)\n"
     ]
    }
   ],
   "source": [
    "clean_copy = cleaned_wikidata.copy(deep=True)\n",
    "clean_copy = clean_copy[~clean_copy.label.isin([None])]\n",
    "print(clean_copy.shape)\n",
    "clean_copy = clean_copy[~clean_copy.gender.isin([None])]\n",
    "print(clean_copy.shape)"
   ]
  },
  {
   "cell_type": "code",
   "execution_count": 15,
   "metadata": {},
   "outputs": [],
   "source": [
    "clean_copy['gender'] = clean_copy['gender'].apply(lambda x: x[0])"
   ]
  },
  {
   "cell_type": "code",
   "execution_count": 16,
   "metadata": {},
   "outputs": [
    {
     "data": {
      "text/plain": [
       "(31,)"
      ]
     },
     "execution_count": 16,
     "metadata": {},
     "output_type": "execute_result"
    }
   ],
   "source": [
    "clean_copy['gender'].unique().shape"
   ]
  },
  {
   "cell_type": "markdown",
   "metadata": {},
   "source": [
    "We now made sure that we know every speaker name and gender and in the data."
   ]
  },
  {
   "cell_type": "code",
   "execution_count": 17,
   "metadata": {},
   "outputs": [
    {
     "data": {
      "text/plain": [
       "array(['Q6581097', 'Q6581072', 'Q179294', 'Q1052281', 'Q48270',\n",
       "       'Q2449503', 'Q18116794', 'Q12964198', 'Q15145779', 'Q189125',\n",
       "       'Q859614', 'Q1097630', 'Q44148', 'Q1289754', 'Q301702',\n",
       "       'Q106299064', 'Q27679684', 'Q15145778', 'Q52261234', 'Q207959',\n",
       "       'Q505371', 'Q7130936', 'Q43445', 'Q96000630', 'Q27679766',\n",
       "       'Q1984232', 'Q93954933', 'Q48279', 'Q3177577', 'Q1775415', 'Q6636'],\n",
       "      dtype=object)"
      ]
     },
     "execution_count": 17,
     "metadata": {},
     "output_type": "execute_result"
    }
   ],
   "source": [
    "clean_copy['gender'].unique()"
   ]
  },
  {
   "cell_type": "markdown",
   "metadata": {},
   "source": [
    "Doesn't the conflation between sex and gender into a single category ruin the entire point of wikidata?"
   ]
  },
  {
   "cell_type": "code",
   "execution_count": 18,
   "metadata": {},
   "outputs": [
    {
     "data": {
      "image/png": "[encoded data removed]",
      "text/plain": [
       "<Figure size 504x360 with 1 Axes>"
      ]
     },
     "metadata": {
      "needs_background": "light"
     },
     "output_type": "display_data"
    }
   ],
   "source": [
    "gender_dist = clean_copy.groupby('gender').size()\n",
    "gender_dist = gender_dist.div(gender_dist.sum(axis=0), axis=0)\n",
    "pl = gender_dist.plot(kind='bar', figsize=[7,5])\n",
    "pl.set_title('married')\n",
    "pl.set_ylabel('participants')\n",
    "pl.set_xlabel('gender_dist')\n",
    "pl.set_yscale('log')\n",
    "plt.show()\n"
   ]
  },
  {
   "cell_type": "code",
   "execution_count": null,
   "metadata": {},
   "outputs": [],
   "source": [
    "qid_label.loc[clean_copy['gender'].unique()]"
   ]
  },
  {
   "cell_type": "markdown",
   "metadata": {},
   "source": [
    "### Loading and cleaning Quotebank data"
   ]
  },
  {
   "cell_type": "code",
   "execution_count": 21,
   "metadata": {},
   "outputs": [
    {
     "data": {
      "text/html": [
       "<div>\n",
       "<style scoped>\n",
       "    .dataframe tbody tr th:only-of-type {\n",
       "        vertical-align: middle;\n",
       "    }\n",
       "\n",
       "    .dataframe tbody tr th {\n",
       "        vertical-align: top;\n",
       "    }\n",
       "\n",
       "    .dataframe thead th {\n",
       "        text-align: right;\n",
       "    }\n",
       "</style>\n",
       "<table border=\"1\" class=\"dataframe\">\n",
       "  <thead>\n",
       "    <tr style=\"text-align: right;\">\n",
       "      <th></th>\n",
       "      <th>quoteID</th>\n",
       "      <th>quotation</th>\n",
       "      <th>speaker</th>\n",
       "      <th>qids</th>\n",
       "      <th>date</th>\n",
       "      <th>numOccurrences</th>\n",
       "      <th>probas</th>\n",
       "      <th>urls</th>\n",
       "      <th>phase</th>\n",
       "    </tr>\n",
       "  </thead>\n",
       "  <tbody>\n",
       "    <tr>\n",
       "      <th>5200000</th>\n",
       "      <td>2020-01-18-041130</td>\n",
       "      <td>The price has moved up considerably from where...</td>\n",
       "      <td>John Murray</td>\n",
       "      <td>[Q14248464, Q15456175, Q20621123, Q43912232, Q...</td>\n",
       "      <td>2020-01-18 02:51:28</td>\n",
       "      <td>1</td>\n",
       "      <td>[[John Murray, 0.9178], [None, 0.0727], [Conor...</td>\n",
       "      <td>[https://www.reviewjournal.com/sports/betting/...</td>\n",
       "      <td>E</td>\n",
       "    </tr>\n",
       "    <tr>\n",
       "      <th>5200001</th>\n",
       "      <td>2020-04-02-060174</td>\n",
       "      <td>The price is already up at £ 65,000 upwards. L...</td>\n",
       "      <td>None</td>\n",
       "      <td>[]</td>\n",
       "      <td>2020-04-02 20:28:17</td>\n",
       "      <td>2</td>\n",
       "      <td>[[None, 0.5587], [Chris Woakes, 0.3666], [Jos ...</td>\n",
       "      <td>[http://thedailystar.net/sports/cricket/news/e...</td>\n",
       "      <td>E</td>\n",
       "    </tr>\n",
       "    <tr>\n",
       "      <th>5200002</th>\n",
       "      <td>2020-02-04-084580</td>\n",
       "      <td>The primary requirement to prevent and manage ...</td>\n",
       "      <td>None</td>\n",
       "      <td>[]</td>\n",
       "      <td>2020-02-04 03:04:09</td>\n",
       "      <td>1</td>\n",
       "      <td>[[None, 0.9064], [Harsh Vardhan, 0.0936]]</td>\n",
       "      <td>[https://www.thehindubusinessline.com/news/cor...</td>\n",
       "      <td>E</td>\n",
       "    </tr>\n",
       "    <tr>\n",
       "      <th>5200003</th>\n",
       "      <td>2020-02-13-091159</td>\n",
       "      <td>The prime minister has a different opinion tha...</td>\n",
       "      <td>Jiří Ovčáček</td>\n",
       "      <td>[Q15290758]</td>\n",
       "      <td>2020-02-13 23:50:00</td>\n",
       "      <td>1</td>\n",
       "      <td>[[Jiří Ovčáček, 0.8658], [None, 0.1116], [Milo...</td>\n",
       "      <td>[http://msn.com/en-au/news/world/czech-prime-m...</td>\n",
       "      <td>E</td>\n",
       "    </tr>\n",
       "    <tr>\n",
       "      <th>5200004</th>\n",
       "      <td>2020-03-30-050268</td>\n",
       "      <td>The problem is the number of bank accounts I h...</td>\n",
       "      <td>John Smith</td>\n",
       "      <td>[Q14948763, Q16225555, Q16674228, Q1701779, Q1...</td>\n",
       "      <td>2020-03-30 05:00:54</td>\n",
       "      <td>2</td>\n",
       "      <td>[[John Smith, 0.8909], [None, 0.1091]]</td>\n",
       "      <td>[https://www.energyvoice.com/coronavirus/23158...</td>\n",
       "      <td>E</td>\n",
       "    </tr>\n",
       "  </tbody>\n",
       "</table>\n",
       "</div>"
      ],
      "text/plain": [
       "                   quoteID                                          quotation  \\\n",
       "5200000  2020-01-18-041130  The price has moved up considerably from where...   \n",
       "5200001  2020-04-02-060174  The price is already up at £ 65,000 upwards. L...   \n",
       "5200002  2020-02-04-084580  The primary requirement to prevent and manage ...   \n",
       "5200003  2020-02-13-091159  The prime minister has a different opinion tha...   \n",
       "5200004  2020-03-30-050268  The problem is the number of bank accounts I h...   \n",
       "\n",
       "              speaker                                               qids  \\\n",
       "5200000   John Murray  [Q14248464, Q15456175, Q20621123, Q43912232, Q...   \n",
       "5200001          None                                                 []   \n",
       "5200002          None                                                 []   \n",
       "5200003  Jiří Ovčáček                                        [Q15290758]   \n",
       "5200004    John Smith  [Q14948763, Q16225555, Q16674228, Q1701779, Q1...   \n",
       "\n",
       "                       date  numOccurrences  \\\n",
       "5200000 2020-01-18 02:51:28               1   \n",
       "5200001 2020-04-02 20:28:17               2   \n",
       "5200002 2020-02-04 03:04:09               1   \n",
       "5200003 2020-02-13 23:50:00               1   \n",
       "5200004 2020-03-30 05:00:54               2   \n",
       "\n",
       "                                                    probas  \\\n",
       "5200000  [[John Murray, 0.9178], [None, 0.0727], [Conor...   \n",
       "5200001  [[None, 0.5587], [Chris Woakes, 0.3666], [Jos ...   \n",
       "5200002          [[None, 0.9064], [Harsh Vardhan, 0.0936]]   \n",
       "5200003  [[Jiří Ovčáček, 0.8658], [None, 0.1116], [Milo...   \n",
       "5200004             [[John Smith, 0.8909], [None, 0.1091]]   \n",
       "\n",
       "                                                      urls phase  \n",
       "5200000  [https://www.reviewjournal.com/sports/betting/...     E  \n",
       "5200001  [http://thedailystar.net/sports/cricket/news/e...     E  \n",
       "5200002  [https://www.thehindubusinessline.com/news/cor...     E  \n",
       "5200003  [http://msn.com/en-au/news/world/czech-prime-m...     E  \n",
       "5200004  [https://www.energyvoice.com/coronavirus/23158...     E  "
      ]
     },
     "execution_count": 21,
     "metadata": {},
     "output_type": "execute_result"
    }
   ],
   "source": [
    "quotebank = pd.read_pickle(PATH + 'small_df.pck')\n",
    "quotebank.head(5)"
   ]
  },
  {
   "cell_type": "code",
   "execution_count": 22,
   "metadata": {},
   "outputs": [
    {
     "data": {
      "text/plain": [
       "(44449, 9)"
      ]
     },
     "execution_count": 22,
     "metadata": {},
     "output_type": "execute_result"
    }
   ],
   "source": [
    "cleaned_quotebank = quotebank.copy(deep=True)\n",
    "cleaned_quotebank.shape"
   ]
  },
  {
   "cell_type": "code",
   "execution_count": 23,
   "metadata": {},
   "outputs": [
    {
     "data": {
      "text/plain": [
       "True"
      ]
     },
     "execution_count": 23,
     "metadata": {},
     "output_type": "execute_result"
    }
   ],
   "source": [
    "cleaned_quotebank['quotation'].is_unique"
   ]
  },
  {
   "cell_type": "markdown",
   "metadata": {},
   "source": [
    "It appears that there are no duplicate quotations is quotebank dataset.\n",
    "We will now remove rows with unknown speaker."
   ]
  },
  {
   "cell_type": "code",
   "execution_count": 24,
   "metadata": {},
   "outputs": [
    {
     "name": "stdout",
     "output_type": "stream",
     "text": [
      "(29140, 9)\n"
     ]
    }
   ],
   "source": [
    "cleaned_quotebank = cleaned_quotebank[~cleaned_quotebank.speaker.isin(['None', None])]\n",
    "print(cleaned_quotebank.shape)"
   ]
  },
  {
   "cell_type": "markdown",
   "metadata": {},
   "source": [
    "Here we drop the rows where the quotebank algorithm is uncertain (probability given for speaker inferior to 50%)"
   ]
  },
  {
   "cell_type": "code",
   "execution_count": 25,
   "metadata": {},
   "outputs": [
    {
     "data": {
      "text/plain": [
       "(27786, 9)"
      ]
     },
     "execution_count": 25,
     "metadata": {},
     "output_type": "execute_result"
    }
   ],
   "source": [
    "cleaned_quotebank =  cleaned_quotebank[cleaned_quotebank['probas'].apply(lambda x: x[0][1]).values.astype(float) > 0.5]\n",
    "cleaned_quotebank.shape "
   ]
  },
  {
   "cell_type": "markdown",
   "metadata": {
    "tags": []
   },
   "source": [
    "### Create a data frame with all information"
   ]
  },
  {
   "cell_type": "code",
   "execution_count": null,
   "metadata": {},
   "outputs": [],
   "source": [
    "qid_label.loc['Q82955']"
   ]
  },
  {
   "cell_type": "markdown",
   "metadata": {},
   "source": [
    "Let's search for professions"
   ]
  },
  {
   "cell_type": "markdown",
   "metadata": {},
   "source": [
    "We now want to merge information of the speaker with our sub-dataframe:"
   ]
  },
  {
   "cell_type": "code",
   "execution_count": null,
   "metadata": {},
   "outputs": [],
   "source": [
    "clean_copy.occupation[1] "
   ]
  },
  {
   "cell_type": "code",
   "execution_count": null,
   "metadata": {},
   "outputs": [],
   "source": [
    "clean_copy.occupation[1] == None"
   ]
  },
  {
   "cell_type": "code",
   "execution_count": null,
   "metadata": {},
   "outputs": [],
   "source": [
    "cleaned_wikidata.occupation.isin(['Q201788'])"
   ]
  },
  {
   "cell_type": "code",
   "execution_count": null,
   "metadata": {},
   "outputs": [],
   "source": [
    "cleaned_wikidata.occupation.str.contains(['Q82955'])"
   ]
  },
  {
   "cell_type": "code",
   "execution_count": null,
   "metadata": {},
   "outputs": [],
   "source": [
    "target = ['Q82955']\n",
    "cleaned_wikidata.query(\"occupation.str.contains(@target)\")"
   ]
  },
  {
   "cell_type": "code",
   "execution_count": null,
   "metadata": {},
   "outputs": [],
   "source": [
    "cleaned_wikidata[cleaned_wikidata[\"occupation\"].isin(['[Q82955]'])]"
   ]
  },
  {
   "cell_type": "code",
   "execution_count": null,
   "metadata": {},
   "outputs": [],
   "source": [
    "#Example for Politician\n",
    "target = ['Q82955']\n",
    "df_politician = create_df_with_conditions('occupation', target, cleaned_wikidata, 'ispolitician')\n",
    "df_politician.head()"
   ]
  },
  {
   "cell_type": "code",
   "execution_count": null,
   "metadata": {},
   "outputs": [],
   "source": [
    "#Example for Politician and Painter\n",
    "target = ['Q82955', 'Q1028181']\n",
    "df_politician = create_df_with_conditions('occupation', target, cleaned_wikidata, 'ispolitician')\n",
    "df_politician.head()"
   ]
  },
  {
   "cell_type": "code",
   "execution_count": null,
   "metadata": {},
   "outputs": [],
   "source": [
    "#politician_df.to_pickle(\"Data/politician.pck\")"
   ]
  },
  {
   "cell_type": "code",
   "execution_count": null,
   "metadata": {},
   "outputs": [],
   "source": [
    "#politician_df.head()\n",
    "politician_df = pd.read_pickle(\"Data/politician.pck\")\n",
    "politician_df.head()"
   ]
  },
  {
   "cell_type": "markdown",
   "metadata": {},
   "source": [
    "### Saving data frame useful for processing"
   ]
  },
  {
   "cell_type": "code",
   "execution_count": null,
   "metadata": {},
   "outputs": [],
   "source": [
    "\"\"\"vaccination_df.to_pickle(\"Data/2020_vaccin.pck\")\n",
    "wikidata_all.to_pickle(\"Data/parquet.pck\")\n",
    "merged_df.to_pickle(\"Data/merged_df.pck\") \"\"\""
   ]
  },
  {
   "cell_type": "markdown",
   "metadata": {},
   "source": [
    "## Processing"
   ]
  },
  {
   "cell_type": "code",
   "execution_count": null,
   "metadata": {},
   "outputs": [],
   "source": [
    "\"\"\"VACCINATION_DATASET = PATH+\"2020_vaccin.pck\"\n",
    "vaccination = pd.read_pickle(VACCINATION_DATASET)\n",
    "vaccination\"\"\""
   ]
  },
  {
   "cell_type": "markdown",
   "metadata": {},
   "source": [
    "Loading the quotes and information about speaker"
   ]
  },
  {
   "cell_type": "code",
   "execution_count": null,
   "metadata": {},
   "outputs": [],
   "source": [
    "#merged_df = pd.read_pickle(PATH+\"merged_df.pck\")"
   ]
  },
  {
   "cell_type": "code",
   "execution_count": null,
   "metadata": {},
   "outputs": [],
   "source": [
    "#merged_df.head()"
   ]
  },
  {
   "cell_type": "markdown",
   "metadata": {},
   "source": [
    "# Brouillon de trucs qui peuvent être utils"
   ]
  },
  {
   "cell_type": "markdown",
   "metadata": {},
   "source": [
    "Si on veut enregistrer dans un fichier txt les quotations pour le classifier "
   ]
  },
  {
   "cell_type": "code",
   "execution_count": null,
   "metadata": {},
   "outputs": [],
   "source": [
    "quotes = vaccination.quotation.astype(str)\n",
    "quotes.shape"
   ]
  },
  {
   "cell_type": "code",
   "execution_count": null,
   "metadata": {
    "scrolled": true
   },
   "outputs": [],
   "source": [
    "text_file = open(\"MoodDiary.txt\", \"w\")\n",
    "#Opens or creates the .txt file, sharing the directory of the script#\n",
    "for ind, quote in enumerate(quotes) : \n",
    "    print(quote)\n",
    "    text_file.write(str(ind) + \" \" + quote + \"\\n\")\n",
    "\n",
    "#Writes the variable into the .txt file#\n",
    "text_file.close()"
   ]
  },
  {
   "cell_type": "markdown",
   "metadata": {},
   "source": [
    "https://towardsdatascience.com/multi-class-text-classification-with-scikit-learn-12f1e60e0a9f"
   ]
  },
  {
   "cell_type": "markdown",
   "metadata": {},
   "source": [
    "## 2.Having Fun"
   ]
  },
  {
   "cell_type": "markdown",
   "metadata": {},
   "source": [
    "## For the label of Qid"
   ]
  },
  {
   "cell_type": "code",
   "execution_count": null,
   "metadata": {},
   "outputs": [],
   "source": [
    "from wikidata.client import Client\n",
    "\n",
    "entity = Client().get('Q6581097', load=True).label\n",
    "print(entity)"
   ]
  },
  {
   "cell_type": "code",
   "execution_count": null,
   "metadata": {},
   "outputs": [],
   "source": [
    "\n",
    "entity = Client().get('Q82955', load=True)\n",
    "print(entity.label)"
   ]
  },
  {
   "cell_type": "code",
   "execution_count": null,
   "metadata": {},
   "outputs": [],
   "source": [
    "genre = Client().get(wikidata_all.gender,load=True)"
   ]
  }
 ],
 "metadata": {
  "interpreter": {
   "hash": "a53c85f19ec6b2954a44487f2d44944431fd108845d569e7201686def1655526"
  },
  "kernelspec": {
   "display_name": "Python 3 (ipykernel)",
   "language": "python",
   "name": "python3"
  },
  "language_info": {
   "codemirror_mode": {
    "name": "ipython",
    "version": 3
   },
   "file_extension": ".py",
   "mimetype": "text/x-python",
   "name": "python",
   "nbconvert_exporter": "python",
   "pygments_lexer": "ipython3",
   "version": "3.8.11"
  }
 },
 "nbformat": 4,
 "nbformat_minor": 4
}
