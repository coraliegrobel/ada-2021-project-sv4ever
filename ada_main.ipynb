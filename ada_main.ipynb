{
 "cells": [
  {
   "cell_type": "markdown",
   "metadata": {},
   "source": [
    "# ADA - Project Milestone 2: \n",
    "# *Analysis of speech behaviours between genders*\n",
    "\n",
    "## Context\n",
    "\n",
    "In this project, we are going to analyze data from Quotebank. Quotebank, as the name suggests, is an open corpus which gathers 178 million quotations from 2008 and 2020. Still, in this project, we will only focus on the most recent quotations, being from 2015 to 2020, accounting from a little over a million quotations.\n",
    "\n",
    "We are interested in using this dataset to answer the following question: Do speech behaviours related to confidence and uncertainty vary between men and women?\n",
    "\n",
    "To answer this question, we'll go through the following points:\n",
    "\n",
    "1. To what extent can we observe the differences in communicative acts in relation to gender within a professional area? Are there noticeable differences between those professional areas?\n",
    "3. What are the roles of nationality, culture/tradition (religion, ethnic groups), and education (whether the speaker obtained an academic degree) in determining those differences in speech between men and women? How are the lines drawn between the language we use and the environment around us?\n",
    "4. Has there been a possible change over time (from 2015 to 2020)?\n",
    "\n",
    "In order to have access to the speakers' information (e.g., speakers' genders), we use the open source data from wikidata (https://www.wikidata.org/wiki/Wikidata:Main_Page).\n",
    "\n",
    "To analyse speech uncertainty, we adapted the public uncertainty detection classifier from the following paper \"P. A. Jean, S. Harispe, S. Ranwez, P. Bellot, and J. Montmain, “[Uncertainty detection in natural language: A probabilistic model](https://www.researchgate.net/publication/303842922)” ACM Int. Conf. Proceeding Ser., vol. 13-15-June, no. June, 2016, doi: 10.1145/2912845.2912873\"."
   ]
  },
  {
   "cell_type": "markdown",
   "metadata": {},
   "source": [
    "## Table of contents\n",
    "\n",
    "1. [Pre-processing of the data](#pre-processing)\n",
    "2. [Creation of the lists of similar professions](#professions)\n",
    "3. [Classification of the quotes](#classifier)\n",
    "4. [Statistical-analysis](#analysis)"
   ]
  },
  {
   "cell_type": "markdown",
   "metadata": {},
   "source": [
    "## 1. Pre-processing of the data <a name=\"pre-processing\"></a>"
   ]
  },
  {
   "cell_type": "markdown",
   "metadata": {},
   "source": [
    "### Imports"
   ]
  },
  {
   "cell_type": "markdown",
   "metadata": {},
   "source": [
    "Let's start by importing our libraries. "
   ]
  },
  {
   "cell_type": "code",
   "execution_count": 1,
   "metadata": {},
   "outputs": [],
   "source": [
    "import pandas as pd\n",
    "import numpy as np\n",
    "import seaborn as sns\n",
    "import matplotlib.pyplot as plt"
   ]
  },
  {
   "cell_type": "markdown",
   "metadata": {},
   "source": [
    "### Pathways"
   ]
  },
  {
   "cell_type": "markdown",
   "metadata": {},
   "source": [
    "In order to run this project, you need to download the directories and files from the following drive: https://drive.google.com/drive/folders/1UgvnLUFhs14NDcZYH6NuZx2f_YC5i06N?usp=sharing. The data folders \"Data\" and \"Data_parquet\" need to be added in the same directory as this notebook. The two other directories (\"Classifier\" and \"txt_files\") will be needed in the [Classification of the quotes](#classifier)."
   ]
  },
  {
   "cell_type": "code",
   "execution_count": 2,
   "metadata": {},
   "outputs": [],
   "source": [
    "# DATA_PATH contains all the quotes as well as the wikidata labels' descriptions\n",
    "DATA_PATH = 'Data/'\n",
    "# PATH_PARQUET contains all the data from wikidata\n",
    "PATH_PARQUET = 'Data_parquet/'"
   ]
  },
  {
   "cell_type": "markdown",
   "metadata": {},
   "source": [
    "### Functions"
   ]
  },
  {
   "cell_type": "markdown",
   "metadata": {},
   "source": [
    "The following functions are needed for the pre-processing."
   ]
  },
  {
   "cell_type": "code",
   "execution_count": null,
   "metadata": {},
   "outputs": [],
   "source": [
    "def saving_wikidata(path):\n",
    "    \"\"\"\n",
    "    Transforms all the wikidata files in one dataset saved as pickle. \n",
    "    This allows to load the file and use it more quickly and easily.\n",
    "    Inputs:\n",
    "        * path : pathway where to save the pickle file\n",
    "    \"\"\"\n",
    "    wikidata_all = pd.DataFrame()\n",
    "    for i in range(1,16):\n",
    "        if i < 10:\n",
    "            DATA_FILE = 'part-0000{}-0d587965-3d8f-41ce-9771-5b8c9024dce9-c000.snappy.parquet'.format(i)\n",
    "        else:\n",
    "            DATA_FILE = 'part-000{}-0d587965-3d8f-41ce-9771-5b8c9024dce9-c000.snappy.parquet'.format(i)\n",
    "        wikidata = pd.read_parquet(PATH_PARQUET + DATA_FILE)\n",
    "        wikidata_all = pd.concat([wikidata_all, wikidata])\n",
    "    wikidata_all.to_pickle(path)\n",
    "\n",
    "\n",
    "def add_columns(column, target, init_df, name_column):\n",
    "    \"\"\"\n",
    "    Checks if a target ('politician', 'male', 'female' etc...) is in a certain column.\n",
    "    If it is, we return True in an additional column (name_column).\n",
    "    Inputs:\n",
    "        * column : name of column to search for target\n",
    "        * target : item of interest \n",
    "        * init_df : initial data frame\n",
    "        * name_column : name of new column of booleans\n",
    "    Outputs:\n",
    "        * final_df : dataframe with new column and only rows which contains the item\n",
    "    \"\"\"\n",
    "    final_df = init_df.copy(deep = True)\n",
    "    final_df[name_column] = final_df[column].apply(lambda x: np.any(x) in target)\n",
    "    return final_df\n",
    "\n",
    "\n",
    "def extracting_sub_df(quotebank, wikidata, column):\n",
    "    \"\"\"\n",
    "    Creates a sub dataframe with information from quotebank and wikidata.\n",
    "    We only take the rows in column which are True.\n",
    "    Inputs:\n",
    "        * quotebank : dataframe extracted from quotebank\n",
    "        * wikidata : dataframe extracted from wikidata\n",
    "        * column : column on which we base the merge\n",
    "    Outputs :\n",
    "        * sub_df : merged dataframe \n",
    "    \"\"\"\n",
    "    merged_df = pd.merge(quotebank, wikidata, left_on = 'speaker', right_on = 'label')\n",
    "    merged_df['qids'] = merged_df['qids'].apply(lambda x : x[0])\n",
    "    merged_df = merged_df[merged_df['qids'] == merged_df['id']]\n",
    "    sub_df = merged_df[merged_df[column] == True]\n",
    "    return sub_df\n",
    "\n",
    "\n",
    "def quotes_to_txt(file_name, df):\n",
    "    \"\"\"\n",
    "    Changes quotes dataframe to a text file \n",
    "    Inputs:\n",
    "        * file_name : text name\n",
    "        * quotes : dataframe to convert\n",
    "    \"\"\"\n",
    "    quotes = df.quotation.astype(str)\n",
    "    with open(file_name, \"w\", encoding = \"utf-8\") as f:\n",
    "        for ind, quote in enumerate(quotes):\n",
    "            f.write(str(ind) + \" \" + quote + \"\\n\")\n",
    "    f.close()\n",
    "    \n",
    "def clean_quotebank(df):\n",
    "    \"\"\" \n",
    "    Clean quotebank dataset by droping quotes from unknown speakers and\n",
    "    quotes where the speaker is uncertain (p<0.5)\n",
    "    Inputs:\n",
    "        * df : quotebank datafram to clean    \n",
    "    \"\"\" \n",
    "    df_copy = df.copy(deep = True)\n",
    "    df_copy = df_copy[~df_copy.speaker.isin(['None', None])]\n",
    "    df_copy =  df_copy[df_copy['probas'].apply(lambda x: x[0][1]).values.astype(float) > 0.5]\n",
    "    return df_copy "
   ]
  },
  {
   "cell_type": "markdown",
   "metadata": {
    "tags": []
   },
   "source": [
    "### Merging files from wikidata into one file containing the 9 million speakers"
   ]
  },
  {
   "cell_type": "markdown",
   "metadata": {},
   "source": [
    "Here, we create the file \"all_wikidata.pck\" containing all the raw data from wikidata. We already ran this cell and the file can be found in \"Data\". As this is a huge dataset, we save the file as pickle then read it, as this is much less comutationally costly than directly working with the data."
   ]
  },
  {
   "cell_type": "code",
   "execution_count": null,
   "metadata": {},
   "outputs": [],
   "source": [
    "\"\"\" Only intented to be run once\n",
    "saving_wikidata(DATA_PATH + \"all_wikidata.pck\")\"\"\";"
   ]
  },
  {
   "cell_type": "markdown",
   "metadata": {},
   "source": [
    "### 1.1. Loading and pre-processing of Quotebank data"
   ]
  },
  {
   "cell_type": "markdown",
   "metadata": {},
   "source": [
    "We do a first cleaning of the quotebank dataset by living behind quotes from unknown speaker as they would not be useful towards our study. We chose to also drop the quotes from uncertain speakers, ie: where the speaker probability is bellow 0.5."
   ]
  },
  {
   "cell_type": "markdown",
   "metadata": {},
   "source": [
    "### 1.2 Loading wikidata labels"
   ]
  },
  {
   "cell_type": "markdown",
   "metadata": {},
   "source": [
    "Wikidata labels are encoded in items called QIDs, to map them back to human readable labels, we upload the following dataset."
   ]
  },
  {
   "cell_type": "code",
   "execution_count": 3,
   "metadata": {},
   "outputs": [],
   "source": [
    "qid_label = pd.read_csv(DATA_PATH+'wikidata_labels_descriptions_quotebank.csv.bz2', compression='bz2', index_col='QID')"
   ]
  },
  {
   "cell_type": "markdown",
   "metadata": {},
   "source": [
    "Let's have a quick look at this data frame."
   ]
  },
  {
   "cell_type": "code",
   "execution_count": 4,
   "metadata": {},
   "outputs": [
    {
     "data": {
      "text/html": [
       "<div>\n",
       "<style scoped>\n",
       "    .dataframe tbody tr th:only-of-type {\n",
       "        vertical-align: middle;\n",
       "    }\n",
       "\n",
       "    .dataframe tbody tr th {\n",
       "        vertical-align: top;\n",
       "    }\n",
       "\n",
       "    .dataframe thead th {\n",
       "        text-align: right;\n",
       "    }\n",
       "</style>\n",
       "<table border=\"1\" class=\"dataframe\">\n",
       "  <thead>\n",
       "    <tr style=\"text-align: right;\">\n",
       "      <th></th>\n",
       "      <th>Label</th>\n",
       "      <th>Description</th>\n",
       "    </tr>\n",
       "    <tr>\n",
       "      <th>QID</th>\n",
       "      <th></th>\n",
       "      <th></th>\n",
       "    </tr>\n",
       "  </thead>\n",
       "  <tbody>\n",
       "    <tr>\n",
       "      <th>Q31</th>\n",
       "      <td>Belgium</td>\n",
       "      <td>country in western Europe</td>\n",
       "    </tr>\n",
       "    <tr>\n",
       "      <th>Q45</th>\n",
       "      <td>Portugal</td>\n",
       "      <td>country in southwestern Europe</td>\n",
       "    </tr>\n",
       "    <tr>\n",
       "      <th>Q75</th>\n",
       "      <td>Internet</td>\n",
       "      <td>global system of connected computer networks</td>\n",
       "    </tr>\n",
       "    <tr>\n",
       "      <th>Q148</th>\n",
       "      <td>People's Republic of China</td>\n",
       "      <td>sovereign state in East Asia</td>\n",
       "    </tr>\n",
       "    <tr>\n",
       "      <th>Q155</th>\n",
       "      <td>Brazil</td>\n",
       "      <td>country in South America</td>\n",
       "    </tr>\n",
       "  </tbody>\n",
       "</table>\n",
       "</div>"
      ],
      "text/plain": [
       "                           Label                                   Description\n",
       "QID                                                                           \n",
       "Q31                      Belgium                     country in western Europe\n",
       "Q45                     Portugal                country in southwestern Europe\n",
       "Q75                     Internet  global system of connected computer networks\n",
       "Q148  People's Republic of China                  sovereign state in East Asia\n",
       "Q155                      Brazil                      country in South America"
      ]
     },
     "execution_count": 4,
     "metadata": {},
     "output_type": "execute_result"
    }
   ],
   "source": [
    "qid_label.head()"
   ]
  },
  {
   "cell_type": "markdown",
   "metadata": {},
   "source": [
    "### 1.3 Pre-processing of wikidata"
   ]
  },
  {
   "cell_type": "markdown",
   "metadata": {},
   "source": [
    "To be able to find information about the speakers, we use wikidata. Let's start by creating a data frame of all the speakers from our pickle file \"wikidata_all.pck\"."
   ]
  },
  {
   "cell_type": "code",
   "execution_count": 5,
   "metadata": {},
   "outputs": [
    {
     "data": {
      "text/plain": [
       "(8583613, 15)"
      ]
     },
     "execution_count": 5,
     "metadata": {},
     "output_type": "execute_result"
    }
   ],
   "source": [
    "wikidata_all = pd.read_pickle(\"Data/wikidata_all.pck\")\n",
    "wikidata_all.shape"
   ]
  },
  {
   "cell_type": "markdown",
   "metadata": {},
   "source": [
    "We now search for possible redundant speakers."
   ]
  },
  {
   "cell_type": "code",
   "execution_count": 6,
   "metadata": {},
   "outputs": [
    {
     "data": {
      "text/plain": [
       "True"
      ]
     },
     "execution_count": 6,
     "metadata": {},
     "output_type": "execute_result"
    }
   ],
   "source": [
    "wikidata_all['id'].is_unique"
   ]
  },
  {
   "cell_type": "markdown",
   "metadata": {},
   "source": [
    "As this returns `False`, we can see that there are indeed duplicate speakers in wikidata. We'll now create a new dataframe (`cleaned_wikidata`) without this redundancy."
   ]
  },
  {
   "cell_type": "code",
   "execution_count": 7,
   "metadata": {},
   "outputs": [
    {
     "data": {
      "text/plain": [
       "True"
      ]
     },
     "execution_count": 7,
     "metadata": {},
     "output_type": "execute_result"
    }
   ],
   "source": [
    "# Creation of a clean version of the data (without modifying the original one)\n",
    "cleaned_wikidata = wikidata_all.copy(deep=True)\n",
    "\n",
    "# Removal of duplicates of each id (the first is kept)\n",
    "cleaned_wikidata = cleaned_wikidata[~cleaned_wikidata['label'].duplicated(keep='first')]\n",
    "\n",
    "# Check for any duplicate ids\n",
    "cleaned_wikidata['label'].is_unique"
   ]
  },
  {
   "cell_type": "markdown",
   "metadata": {},
   "source": [
    "Let's now check if some rows (i.e. speakers) have been removed."
   ]
  },
  {
   "cell_type": "code",
   "execution_count": 8,
   "metadata": {},
   "outputs": [
    {
     "data": {
      "text/plain": [
       "(6935018, 15)"
      ]
     },
     "execution_count": 8,
     "metadata": {},
     "output_type": "execute_result"
    }
   ],
   "source": [
    "cleaned_wikidata.shape"
   ]
  },
  {
   "cell_type": "markdown",
   "metadata": {},
   "source": [
    "We can see that 1,648,595 `label` have been removed."
   ]
  },
  {
   "cell_type": "code",
   "execution_count": 9,
   "metadata": {},
   "outputs": [
    {
     "data": {
      "text/html": [
       "<div>\n",
       "<style scoped>\n",
       "    .dataframe tbody tr th:only-of-type {\n",
       "        vertical-align: middle;\n",
       "    }\n",
       "\n",
       "    .dataframe tbody tr th {\n",
       "        vertical-align: top;\n",
       "    }\n",
       "\n",
       "    .dataframe thead th {\n",
       "        text-align: right;\n",
       "    }\n",
       "</style>\n",
       "<table border=\"1\" class=\"dataframe\">\n",
       "  <thead>\n",
       "    <tr style=\"text-align: right;\">\n",
       "      <th></th>\n",
       "      <th>aliases</th>\n",
       "      <th>date_of_birth</th>\n",
       "      <th>nationality</th>\n",
       "      <th>gender</th>\n",
       "      <th>lastrevid</th>\n",
       "      <th>ethnic_group</th>\n",
       "      <th>US_congress_bio_ID</th>\n",
       "      <th>occupation</th>\n",
       "      <th>party</th>\n",
       "      <th>academic_degree</th>\n",
       "      <th>id</th>\n",
       "      <th>label</th>\n",
       "      <th>candidacy</th>\n",
       "      <th>type</th>\n",
       "      <th>religion</th>\n",
       "    </tr>\n",
       "  </thead>\n",
       "  <tbody>\n",
       "    <tr>\n",
       "      <th>0</th>\n",
       "      <td>None</td>\n",
       "      <td>None</td>\n",
       "      <td>None</td>\n",
       "      <td>[Q6581097]</td>\n",
       "      <td>985453603</td>\n",
       "      <td>None</td>\n",
       "      <td>None</td>\n",
       "      <td>None</td>\n",
       "      <td>None</td>\n",
       "      <td>None</td>\n",
       "      <td>Q45441526</td>\n",
       "      <td>Cui Yan</td>\n",
       "      <td>None</td>\n",
       "      <td>item</td>\n",
       "      <td>None</td>\n",
       "    </tr>\n",
       "    <tr>\n",
       "      <th>1</th>\n",
       "      <td>None</td>\n",
       "      <td>None</td>\n",
       "      <td>[Q9903]</td>\n",
       "      <td>[Q6581097]</td>\n",
       "      <td>1008699604</td>\n",
       "      <td>None</td>\n",
       "      <td>None</td>\n",
       "      <td>None</td>\n",
       "      <td>None</td>\n",
       "      <td>None</td>\n",
       "      <td>Q45441555</td>\n",
       "      <td>Guo Ziyi</td>\n",
       "      <td>None</td>\n",
       "      <td>item</td>\n",
       "      <td>None</td>\n",
       "    </tr>\n",
       "    <tr>\n",
       "      <th>2</th>\n",
       "      <td>None</td>\n",
       "      <td>None</td>\n",
       "      <td>[Q9903]</td>\n",
       "      <td>[Q6581097]</td>\n",
       "      <td>1008699709</td>\n",
       "      <td>None</td>\n",
       "      <td>None</td>\n",
       "      <td>None</td>\n",
       "      <td>None</td>\n",
       "      <td>None</td>\n",
       "      <td>Q45441562</td>\n",
       "      <td>Wan Zikui</td>\n",
       "      <td>None</td>\n",
       "      <td>item</td>\n",
       "      <td>None</td>\n",
       "    </tr>\n",
       "    <tr>\n",
       "      <th>3</th>\n",
       "      <td>None</td>\n",
       "      <td>None</td>\n",
       "      <td>[Q9903]</td>\n",
       "      <td>[Q6581097]</td>\n",
       "      <td>1008699728</td>\n",
       "      <td>None</td>\n",
       "      <td>None</td>\n",
       "      <td>None</td>\n",
       "      <td>None</td>\n",
       "      <td>None</td>\n",
       "      <td>Q45441563</td>\n",
       "      <td>Lin Pei</td>\n",
       "      <td>None</td>\n",
       "      <td>item</td>\n",
       "      <td>None</td>\n",
       "    </tr>\n",
       "    <tr>\n",
       "      <th>4</th>\n",
       "      <td>None</td>\n",
       "      <td>None</td>\n",
       "      <td>[Q9683]</td>\n",
       "      <td>[Q6581097]</td>\n",
       "      <td>985261661</td>\n",
       "      <td>None</td>\n",
       "      <td>None</td>\n",
       "      <td>None</td>\n",
       "      <td>None</td>\n",
       "      <td>None</td>\n",
       "      <td>Q45441565</td>\n",
       "      <td>Guan Zhen</td>\n",
       "      <td>None</td>\n",
       "      <td>item</td>\n",
       "      <td>None</td>\n",
       "    </tr>\n",
       "  </tbody>\n",
       "</table>\n",
       "</div>"
      ],
      "text/plain": [
       "  aliases date_of_birth nationality      gender   lastrevid ethnic_group  \\\n",
       "0    None          None        None  [Q6581097]   985453603         None   \n",
       "1    None          None     [Q9903]  [Q6581097]  1008699604         None   \n",
       "2    None          None     [Q9903]  [Q6581097]  1008699709         None   \n",
       "3    None          None     [Q9903]  [Q6581097]  1008699728         None   \n",
       "4    None          None     [Q9683]  [Q6581097]   985261661         None   \n",
       "\n",
       "  US_congress_bio_ID occupation party academic_degree         id      label  \\\n",
       "0               None       None  None            None  Q45441526    Cui Yan   \n",
       "1               None       None  None            None  Q45441555   Guo Ziyi   \n",
       "2               None       None  None            None  Q45441562  Wan Zikui   \n",
       "3               None       None  None            None  Q45441563    Lin Pei   \n",
       "4               None       None  None            None  Q45441565  Guan Zhen   \n",
       "\n",
       "  candidacy  type religion  \n",
       "0      None  item     None  \n",
       "1      None  item     None  \n",
       "2      None  item     None  \n",
       "3      None  item     None  \n",
       "4      None  item     None  "
      ]
     },
     "execution_count": 9,
     "metadata": {},
     "output_type": "execute_result"
    }
   ],
   "source": [
    "cleaned_wikidata.head()"
   ]
  },
  {
   "cell_type": "markdown",
   "metadata": {},
   "source": [
    "Now we want to remove rows where mandatory values for our study are missing like the name of the speaker and the gender."
   ]
  },
  {
   "cell_type": "code",
   "execution_count": 10,
   "metadata": {},
   "outputs": [
    {
     "name": "stdout",
     "output_type": "stream",
     "text": [
      "(6935017, 15)\n",
      "(5351326, 15)\n"
     ]
    }
   ],
   "source": [
    "cleaned_wikidata = cleaned_wikidata[~cleaned_wikidata.label.isin([None, \"None\"])]\n",
    "print(cleaned_wikidata.shape)\n",
    "cleaned_wikidata = cleaned_wikidata[~cleaned_wikidata.gender.isin([None, \"None\"])]\n",
    "print(cleaned_wikidata.shape)"
   ]
  },
  {
   "cell_type": "markdown",
   "metadata": {},
   "source": [
    "### 1.4 Exploratory Data Analysis of wikidata"
   ]
  },
  {
   "cell_type": "code",
   "execution_count": 11,
   "metadata": {},
   "outputs": [
    {
     "name": "stdout",
     "output_type": "stream",
     "text": [
      "There are (31,) different unique genders in wikidata\n"
     ]
    },
    {
     "data": {
      "text/plain": [
       "array(['Q6581097', 'Q6581072', 'Q179294', 'Q1052281', 'Q48270',\n",
       "       'Q2449503', 'Q18116794', 'Q12964198', 'Q15145779', 'Q189125',\n",
       "       'Q859614', 'Q1097630', 'Q44148', 'Q1289754', 'Q301702',\n",
       "       'Q106299064', 'Q27679684', 'Q15145778', 'Q52261234', 'Q207959',\n",
       "       'Q505371', 'Q7130936', 'Q43445', 'Q96000630', 'Q27679766',\n",
       "       'Q1984232', 'Q93954933', 'Q48279', 'Q3177577', 'Q1775415', 'Q6636'],\n",
       "      dtype=object)"
      ]
     },
     "execution_count": 11,
     "metadata": {},
     "output_type": "execute_result"
    }
   ],
   "source": [
    "cleaned_wikidata['gender'] = cleaned_wikidata['gender'].apply(lambda x: x[0])\n",
    "print(\"There are {} different unique genders in wikidata\".format(cleaned_wikidata['gender'].unique().shape))\n",
    "cleaned_wikidata['gender'].unique()\n"
   ]
  },
  {
   "cell_type": "markdown",
   "metadata": {},
   "source": [
    "Let's observe their distribution:"
   ]
  },
  {
   "cell_type": "code",
   "execution_count": 12,
   "metadata": {},
   "outputs": [
    {
     "data": {
      "image/png": "[encoded data removed]",
      "text/plain": [
       "<Figure size 504x360 with 1 Axes>"
      ]
     },
     "metadata": {
      "needs_background": "light"
     },
     "output_type": "display_data"
    }
   ],
   "source": [
    "gender_dist = cleaned_wikidata.groupby('gender').size()\n",
    "gender_dist = gender_dist.div(gender_dist.sum(axis=0), axis=0)\n",
    "pl = gender_dist.plot(kind='bar', figsize=[7,5])\n",
    "pl.set_title('Distribution of genders')\n",
    "pl.set_ylabel('participants')\n",
    "pl.set_xlabel('gender_dist')\n",
    "pl.set_yscale('log')\n",
    "plt.show()"
   ]
  },
  {
   "cell_type": "code",
   "execution_count": 14,
   "metadata": {},
   "outputs": [
    {
     "data": {
      "text/html": [
       "<div>\n",
       "<style scoped>\n",
       "    .dataframe tbody tr th:only-of-type {\n",
       "        vertical-align: middle;\n",
       "    }\n",
       "\n",
       "    .dataframe tbody tr th {\n",
       "        vertical-align: top;\n",
       "    }\n",
       "\n",
       "    .dataframe thead th {\n",
       "        text-align: right;\n",
       "    }\n",
       "</style>\n",
       "<table border=\"1\" class=\"dataframe\">\n",
       "  <thead>\n",
       "    <tr style=\"text-align: right;\">\n",
       "      <th></th>\n",
       "      <th>Label</th>\n",
       "      <th>Description</th>\n",
       "    </tr>\n",
       "    <tr>\n",
       "      <th>QID</th>\n",
       "      <th></th>\n",
       "      <th></th>\n",
       "    </tr>\n",
       "  </thead>\n",
       "  <tbody>\n",
       "    <tr>\n",
       "      <th>Q6581097</th>\n",
       "      <td>male</td>\n",
       "      <td>to be used in \"sex or gender\" (P21) to indicat...</td>\n",
       "    </tr>\n",
       "    <tr>\n",
       "      <th>Q6581072</th>\n",
       "      <td>female</td>\n",
       "      <td>to be used in \"sex or gender\" (P21) to indicat...</td>\n",
       "    </tr>\n",
       "    <tr>\n",
       "      <th>Q179294</th>\n",
       "      <td>eunuch</td>\n",
       "      <td>castrated male human</td>\n",
       "    </tr>\n",
       "    <tr>\n",
       "      <th>Q1052281</th>\n",
       "      <td>transgender female</td>\n",
       "      <td>female person who was assigned a different gen...</td>\n",
       "    </tr>\n",
       "    <tr>\n",
       "      <th>Q48270</th>\n",
       "      <td>non-binary</td>\n",
       "      <td>range of gender identities that are not exclus...</td>\n",
       "    </tr>\n",
       "    <tr>\n",
       "      <th>Q2449503</th>\n",
       "      <td>transgender male</td>\n",
       "      <td>person assigned to the female sex at birth who...</td>\n",
       "    </tr>\n",
       "    <tr>\n",
       "      <th>Q18116794</th>\n",
       "      <td>genderfluid</td>\n",
       "      <td>gender identity which doesn't conform to fixed...</td>\n",
       "    </tr>\n",
       "    <tr>\n",
       "      <th>Q12964198</th>\n",
       "      <td>genderqueer</td>\n",
       "      <td>range of gender identities that are not exclus...</td>\n",
       "    </tr>\n",
       "    <tr>\n",
       "      <th>Q15145779</th>\n",
       "      <td>cisgender female</td>\n",
       "      <td>female person who was assigned female at birth</td>\n",
       "    </tr>\n",
       "    <tr>\n",
       "      <th>Q189125</th>\n",
       "      <td>transgender person</td>\n",
       "      <td>person whose gender identity is different from...</td>\n",
       "    </tr>\n",
       "    <tr>\n",
       "      <th>Q859614</th>\n",
       "      <td>bigender</td>\n",
       "      <td>gender identity that includes any two gender i...</td>\n",
       "    </tr>\n",
       "    <tr>\n",
       "      <th>Q1097630</th>\n",
       "      <td>intersex</td>\n",
       "      <td>innate variations in sex characteristics such ...</td>\n",
       "    </tr>\n",
       "    <tr>\n",
       "      <th>Q44148</th>\n",
       "      <td>male organism</td>\n",
       "      <td>for use with plants or non-human animals; use ...</td>\n",
       "    </tr>\n",
       "    <tr>\n",
       "      <th>Q1289754</th>\n",
       "      <td>neutrois</td>\n",
       "      <td>non-binary gender identity</td>\n",
       "    </tr>\n",
       "    <tr>\n",
       "      <th>Q301702</th>\n",
       "      <td>two-spirit</td>\n",
       "      <td>umbrella term for the third gender in the indi...</td>\n",
       "    </tr>\n",
       "    <tr>\n",
       "      <th>Q106299064</th>\n",
       "      <td>Erkek</td>\n",
       "      <td>family name</td>\n",
       "    </tr>\n",
       "    <tr>\n",
       "      <th>Q27679684</th>\n",
       "      <td>transfeminine</td>\n",
       "      <td>gender of individuals who were assigned male a...</td>\n",
       "    </tr>\n",
       "    <tr>\n",
       "      <th>Q15145778</th>\n",
       "      <td>cisgender male</td>\n",
       "      <td>male person who was assigned male at birth</td>\n",
       "    </tr>\n",
       "    <tr>\n",
       "      <th>Q52261234</th>\n",
       "      <td>neutral sex</td>\n",
       "      <td>human who has neutral sex (use with Property:P...</td>\n",
       "    </tr>\n",
       "    <tr>\n",
       "      <th>Q207959</th>\n",
       "      <td>androgyny</td>\n",
       "      <td>combination of male and female traits</td>\n",
       "    </tr>\n",
       "    <tr>\n",
       "      <th>Q505371</th>\n",
       "      <td>agender</td>\n",
       "      <td>absence of a gender identity</td>\n",
       "    </tr>\n",
       "    <tr>\n",
       "      <th>Q7130936</th>\n",
       "      <td>pangender</td>\n",
       "      <td>non-binary gender defined as being more than o...</td>\n",
       "    </tr>\n",
       "    <tr>\n",
       "      <th>Q43445</th>\n",
       "      <td>female organism</td>\n",
       "      <td>plant or animal which is female</td>\n",
       "    </tr>\n",
       "    <tr>\n",
       "      <th>Q96000630</th>\n",
       "      <td>X-gender</td>\n",
       "      <td>a third gender or non-binary gender identity t...</td>\n",
       "    </tr>\n",
       "    <tr>\n",
       "      <th>Q27679766</th>\n",
       "      <td>transmasculine</td>\n",
       "      <td>gender of individuals who were assigned female...</td>\n",
       "    </tr>\n",
       "    <tr>\n",
       "      <th>Q1984232</th>\n",
       "      <td>shemale</td>\n",
       "      <td>term primarily used in sex work to describe a ...</td>\n",
       "    </tr>\n",
       "    <tr>\n",
       "      <th>Q93954933</th>\n",
       "      <td>demiboy</td>\n",
       "      <td>gender identity where a person identifies as o...</td>\n",
       "    </tr>\n",
       "    <tr>\n",
       "      <th>Q48279</th>\n",
       "      <td>third gender</td>\n",
       "      <td>set of gender identities that are not exclusiv...</td>\n",
       "    </tr>\n",
       "    <tr>\n",
       "      <th>Q3177577</th>\n",
       "      <td>muxe</td>\n",
       "      <td>Zapotec gender identity, often regarded as tra...</td>\n",
       "    </tr>\n",
       "    <tr>\n",
       "      <th>Q1775415</th>\n",
       "      <td>feminine</td>\n",
       "      <td>grammatical gender</td>\n",
       "    </tr>\n",
       "    <tr>\n",
       "      <th>Q6636</th>\n",
       "      <td>homosexuality</td>\n",
       "      <td>romantic or sexual attraction or behavior betw...</td>\n",
       "    </tr>\n",
       "  </tbody>\n",
       "</table>\n",
       "</div>"
      ],
      "text/plain": [
       "                         Label  \\\n",
       "QID                              \n",
       "Q6581097                  male   \n",
       "Q6581072                female   \n",
       "Q179294                 eunuch   \n",
       "Q1052281    transgender female   \n",
       "Q48270              non-binary   \n",
       "Q2449503      transgender male   \n",
       "Q18116794          genderfluid   \n",
       "Q12964198          genderqueer   \n",
       "Q15145779     cisgender female   \n",
       "Q189125     transgender person   \n",
       "Q859614               bigender   \n",
       "Q1097630              intersex   \n",
       "Q44148           male organism   \n",
       "Q1289754              neutrois   \n",
       "Q301702             two-spirit   \n",
       "Q106299064               Erkek   \n",
       "Q27679684        transfeminine   \n",
       "Q15145778       cisgender male   \n",
       "Q52261234          neutral sex   \n",
       "Q207959              androgyny   \n",
       "Q505371                agender   \n",
       "Q7130936             pangender   \n",
       "Q43445         female organism   \n",
       "Q96000630             X-gender   \n",
       "Q27679766       transmasculine   \n",
       "Q1984232               shemale   \n",
       "Q93954933              demiboy   \n",
       "Q48279            third gender   \n",
       "Q3177577                  muxe   \n",
       "Q1775415              feminine   \n",
       "Q6636            homosexuality   \n",
       "\n",
       "                                                  Description  \n",
       "QID                                                            \n",
       "Q6581097    to be used in \"sex or gender\" (P21) to indicat...  \n",
       "Q6581072    to be used in \"sex or gender\" (P21) to indicat...  \n",
       "Q179294                                  castrated male human  \n",
       "Q1052281    female person who was assigned a different gen...  \n",
       "Q48270      range of gender identities that are not exclus...  \n",
       "Q2449503    person assigned to the female sex at birth who...  \n",
       "Q18116794   gender identity which doesn't conform to fixed...  \n",
       "Q12964198   range of gender identities that are not exclus...  \n",
       "Q15145779      female person who was assigned female at birth  \n",
       "Q189125     person whose gender identity is different from...  \n",
       "Q859614     gender identity that includes any two gender i...  \n",
       "Q1097630    innate variations in sex characteristics such ...  \n",
       "Q44148      for use with plants or non-human animals; use ...  \n",
       "Q1289754                           non-binary gender identity  \n",
       "Q301702     umbrella term for the third gender in the indi...  \n",
       "Q106299064                                        family name  \n",
       "Q27679684   gender of individuals who were assigned male a...  \n",
       "Q15145778          male person who was assigned male at birth  \n",
       "Q52261234   human who has neutral sex (use with Property:P...  \n",
       "Q207959                 combination of male and female traits  \n",
       "Q505371                          absence of a gender identity  \n",
       "Q7130936    non-binary gender defined as being more than o...  \n",
       "Q43445                        plant or animal which is female  \n",
       "Q96000630   a third gender or non-binary gender identity t...  \n",
       "Q27679766   gender of individuals who were assigned female...  \n",
       "Q1984232    term primarily used in sex work to describe a ...  \n",
       "Q93954933   gender identity where a person identifies as o...  \n",
       "Q48279      set of gender identities that are not exclusiv...  \n",
       "Q3177577    Zapotec gender identity, often regarded as tra...  \n",
       "Q1775415                                   grammatical gender  \n",
       "Q6636       romantic or sexual attraction or behavior betw...  "
      ]
     },
     "execution_count": 14,
     "metadata": {},
     "output_type": "execute_result"
    }
   ],
   "source": [
    "qid_label.loc[cleaned_wikidata['gender'].unique()]"
   ]
  },
  {
   "cell_type": "code",
   "execution_count": 15,
   "metadata": {},
   "outputs": [],
   "source": [
    "male_label = \"Q6581097\"\n",
    "female_label= \"Q6581072\""
   ]
  },
  {
   "cell_type": "code",
   "execution_count": 16,
   "metadata": {},
   "outputs": [
    {
     "data": {
      "text/plain": [
       "0.0002870316628065641"
      ]
     },
     "execution_count": 16,
     "metadata": {},
     "output_type": "execute_result"
    }
   ],
   "source": [
    "gender_dist[(gender_dist.index != male_label) & (gender_dist.index != female_label)].sum()"
   ]
  },
  {
   "cell_type": "markdown",
   "metadata": {},
   "source": [
    "We can see that 0.02% of the data is neither considered a male or a female. For simplicity in our study we will ignore those cases."
   ]
  },
  {
   "cell_type": "code",
   "execution_count": null,
   "metadata": {},
   "outputs": [],
   "source": [
    "cleaned_wikidata = cleaned_wikidata[cleaned_wikidata.gender.isin([male_label, female_label])]"
   ]
  },
  {
   "cell_type": "markdown",
   "metadata": {
    "tags": []
   },
   "source": [
    "## 2.  Creation of the lists of similar professions <a name=\"professions\"></a>"
   ]
  },
  {
   "cell_type": "markdown",
   "metadata": {},
   "source": [
    "Now that all the pre-processing is done, we can start our analysis. \n",
    "\n",
    "First, we will focus on the initial matter, being to what extent we can observe the differences in communicative acts in relation to gender within a professional area and whether there noticeable differences between those professional areas."
   ]
  },
  {
   "cell_type": "markdown",
   "metadata": {},
   "source": [
    "### Functions"
   ]
  },
  {
   "cell_type": "code",
   "execution_count": null,
   "metadata": {},
   "outputs": [],
   "source": [
    "def create_df_with_conditions(column, condition, wikidata, column_temp):\n",
    "    \"\"\"\n",
    "    From quotebank data, extracts and returns a data frame with only the rows that respect the condition.\n",
    "    Inputs:\n",
    "        * column : name of column where the condition is applied\n",
    "        * condition : condition of interest \n",
    "        * wikidata : wiki database\n",
    "        * column_temp : name of new column of booleans\n",
    "    Outputs:\n",
    "        * sub_df : dataframe with new column and only rows which contains the item\n",
    "    \"\"\"\n",
    "    wiki_plus = add_columns(column, condition, wikidata, column_temp)\n",
    "    sub_df = pd.DataFrame()\n",
    "    # Milestone 2: (20,21) = only for 2020 quotes; Milestone 3: (15,21) = quotes from 2015 to 2020\n",
    "    for i in range(20,21):\n",
    "        DATA_FILE = 'quotes-20{}.json.bz2'.format(i)\n",
    "        with pd.read_json(DATA_PATH + DATA_FILE, lines = True, compression ='bz2', chunksize = 100000) as df_reader:\n",
    "            for chunk in df_reader:\n",
    "                sub_df = pd.concat([sub_df, extracting_sub_df(chunk, wiki_plus, column_temp)])\n",
    "    sub_df = sub_df.drop(column_temp, axis = 1)\n",
    "    return sub_df"
   ]
  },
  {
   "cell_type": "markdown",
   "metadata": {},
   "source": [
    "### 2.1 Creation of professional fields"
   ]
  },
  {
   "cell_type": "markdown",
   "metadata": {},
   "source": [
    "Let's create data frames with different fields of professions to compare quotations of men and women without the bias of the professional background. To do that, we manually selected various fields such as arts, science, economy and politics with different professions listed. "
   ]
  },
  {
   "cell_type": "code",
   "execution_count": 173,
   "metadata": {
    "tags": []
   },
   "outputs": [
    {
     "data": {
      "text/plain": [
       "\"\\nwith pd.option_context('display.max_rows', None, 'display.max_columns', None):\\n    print(economic_professions)\\n\""
      ]
     },
     "execution_count": 173,
     "metadata": {},
     "output_type": "execute_result"
    }
   ],
   "source": [
    "art_professions = qid_label[qid_label['Label'].str.contains('cineast|painter|musician|sculpter|architect|philosoph|writer|actor|dancer', na=False)]\n",
    "scientific_professions = qid_label[qid_label['Label'].str.contains('scientific|researcher|mathematician|doctor|astronomist|biologist|chemist|physicist|psychologist|sociologist|engineer|anatomist', na=False)]\n",
    "economic_professions = qid_label[qid_label['Label'].str.contains('economist|banke|financ|CEO|CTO|chairman|auditor|stockbroker|insurer|business manager|retail merchandizer|pricing analyst|statistician|financial consultant|salesperson|risk analyst|Data analyst|accountant|economic researcher|Investm|actuary', na=False)]\n",
    "political_professions = qid_label[qid_label['Label'].str.contains('politician|president|minister|government', na=False)]\n",
    "# Printing \n",
    "'''\n",
    "with pd.option_context('display.max_rows', None, 'display.max_columns', None):\n",
    "    print(economic_professions)\n",
    "'''"
   ]
  },
  {
   "cell_type": "markdown",
   "metadata": {},
   "source": [
    "### 2.2 Creation of sub-dataframes per professions"
   ]
  },
  {
   "cell_type": "markdown",
   "metadata": {},
   "source": [
    "We now want to combine the information of the speakers from wikidata with our professional fields to create data frames of specific speakers' professions."
   ]
  },
  {
   "cell_type": "code",
   "execution_count": null,
   "metadata": {},
   "outputs": [],
   "source": [
    "\"\"\" Only intented to be run once\n",
    "df_politicians = create_df_with_conditions('occupation', political_professions.index, cleaned_wikidata, 'ispolitician')\n",
    "df_artists = create_df_with_conditions('occupation', art_professions.index, cleaned_wikidata, 'isartist')\n",
    "df_scientists = create_df_with_conditions('occupation', scientific_professions.index, cleaned_wikidata, 'isscientist')\n",
    "df_economists = create_df_with_conditions('occupation', economic_professions.index, cleaned_wikidata, 'iseconomist') \"\"\";"
   ]
  },
  {
   "cell_type": "markdown",
   "metadata": {},
   "source": [
    "We now generate pickle files where we store all the quotations of both genders with the same professional field."
   ]
  },
  {
   "cell_type": "code",
   "execution_count": null,
   "metadata": {},
   "outputs": [],
   "source": [
    "\"\"\" Only intented to be run once\n",
    "df_politicians.to_pickle(DATA_PATH + \"politicians.pck\")\n",
    "df_artists.to_pickle(DATA_PATH + \"artists.pck\")\n",
    "df_scientists.to_pickle(DATA_PATH + \"scientists.pck\")\n",
    "df_economists.to_pickle(DATA_PATH + \"economists.pck\")\"\"\";"
   ]
  },
  {
   "cell_type": "markdown",
   "metadata": {},
   "source": [
    "### 2.3 Saving of all sub data frames useful for processing"
   ]
  },
  {
   "cell_type": "markdown",
   "metadata": {},
   "source": [
    "Once we generated the pickle files, we can use them with the classifier."
   ]
  },
  {
   "cell_type": "code",
   "execution_count": 110,
   "metadata": {},
   "outputs": [],
   "source": [
    "df_politicians = pd.read_pickle(DATA_PATH + \"politicians.pck\")\n",
    "df_artists = pd.read_pickle(DATA_PATH + \"artists.pck\")\n",
    "df_scientists = pd.read_pickle(DATA_PATH + \"scientists.pck\")\n",
    "df_economists = pd.read_pickle(DATA_PATH + \"economists.pck\")"
   ]
  },
  {
   "cell_type": "markdown",
   "metadata": {},
   "source": [
    "## 3. Classification of the quotes <a name=\"classifier\"></a>"
   ]
  },
  {
   "cell_type": "markdown",
   "metadata": {},
   "source": [
    "To distinguish between uncertain and certain quotations, we use the uncertainty detection classifier from the following paper \"P. A. Jean, S. Harispe, S. Ranwez, P. Bellot, and J. Montmain, “[Uncertainty detection in natural language: A probabilistic model](https://www.researchgate.net/publication/303842922)” ACM Int. Conf. Proceeding Ser., vol. 13-15-June, no. June, 2016, doi: 10.1145/2912845.2912873\". \n",
    "\n",
    "It's public git repository is: https://github.com/PAJEAN/uncertaintyDetection\n",
    "\n",
    "Still, as it was created 6 years ago, it only runs on python2. As we are using python3, we modified it to run for our project. We describe below how to run it.\n",
    "\n",
    "This uncertainty detection classifier is based on a very synthetic vector representation of sentences. Each dimension of this vector encrypts the main features of this sentence (e.g. uni-gram, bi-gram). The representation of the classifier is directly inspired by binary classification methods and returns only the uncertain quotations."
   ]
  },
  {
   "cell_type": "markdown",
   "metadata": {},
   "source": [
    "### Pathways"
   ]
  },
  {
   "cell_type": "markdown",
   "metadata": {},
   "source": [
    "As already mentionned in the [Pre-processing of the data](#pre-processing), the data folder \"txt_files\" must be downloaded and added in the same directory as this notebook."
   ]
  },
  {
   "cell_type": "code",
   "execution_count": null,
   "metadata": {},
   "outputs": [],
   "source": [
    "PATH_TXT = 'txt_files/'"
   ]
  },
  {
   "cell_type": "markdown",
   "metadata": {},
   "source": [
    "### 3.1 Creation of the text files"
   ]
  },
  {
   "cell_type": "markdown",
   "metadata": {},
   "source": [
    "To be able to run the classifier, we first need to create txt files with all the quotes and their index for each professional field. We already ran this cell and the files can be found in \"txt_files\"."
   ]
  },
  {
   "cell_type": "code",
   "execution_count": null,
   "metadata": {},
   "outputs": [],
   "source": [
    "\"\"\" Only intented to be run once\n",
    "quotes_to_txt(PATH_TXT + \"politicians.txt\", df_politicians)\n",
    "quotes_to_txt(PATH_TXT + \"artists.txt\", df_artists)\n",
    "quotes_to_txt(PATH_TXT + \"scientists.txt\", df_scientists)\n",
    "quotes_to_txt(PATH_TXT + \"economists.txt\", df_economists)\n",
    "\"\"\";"
   ]
  },
  {
   "cell_type": "markdown",
   "metadata": {},
   "source": [
    "### 3.2 Use of the uncertainty detection classifier"
   ]
  },
  {
   "cell_type": "markdown",
   "metadata": {},
   "source": [
    "After creating the files, we need to use the classifier to separate the uncertain and certain quotes. To continue, you must have downloaded the \"Classifier\" directory (see the [Pre-processing of the data](#pre-processing)) and add its files to the Classifier folder of the github repository."
   ]
  },
  {
   "cell_type": "markdown",
   "metadata": {},
   "source": [
    "### **How to run the classifier**"
   ]
  },
  {
   "cell_type": "markdown",
   "metadata": {},
   "source": [
    "To be able to run the file MUD.py, you will need in your ADA environment: \n",
    "* Python 3.8\n",
    "* nltk library\n",
    "* numpy library\n",
    "* sklearn library"
   ]
  },
  {
   "cell_type": "markdown",
   "metadata": {},
   "source": [
    "Once you have downloaded and installed all the libraries in your envrionment, you're good to go.  \n",
    "\n",
    "To run the program, you have to open a terminal on jupyter notebook or an anaconda prompt on anaconda. You have to go in the project repository (in the main folder) and run the following command : **python MUD.py sfu Classifier/Input/name_of_the_file.txt**\n",
    "\n",
    "It is really important that you have the **ADA environment activated** to run this line.   \n",
    "\n",
    "The following files are the ones that you can put in the classifier (instead of name_of_the_file) :\n",
    "* politicians.txt\n",
    "* artists.txt\n",
    "* scientists.txt\n",
    "* economists.txt"
   ]
  },
  {
   "cell_type": "markdown",
   "metadata": {},
   "source": [
    "### **What does it returns ?**"
   ]
  },
  {
   "cell_type": "markdown",
   "metadata": {},
   "source": [
    "The classifier will run for approximately 10 to 20 min depending on the file you give him. Once it is finished, you can find in the Data/Results folder two files, ***certainty_sentences*** and ***uncertainty_sentences***.  \n",
    "The file ***certainty_sentences*** : it is a txt file with all the quotes that have been considered as \"certain\" by the classifier; the file ***uncertainty_sentences*** is a txt file with all the quotes that have been considered as \"uncertain\" by the classifier.  \n",
    "\n",
    "You can find all these files under other names in function of the professions in the txt_files folder : \n",
    "* politicians_certainty.txt / politicians_uncertainty.txt\n",
    "* artists_certainty.txt / artists_uncertainty.txt\n",
    "* scientists_certainty.txt / scientists_uncertainty.txt\n",
    "* economists_certainty.txt / economists_uncertainty.txt"
   ]
  },
  {
   "cell_type": "markdown",
   "metadata": {},
   "source": [
    "In the next section, we will load those files and start the statistical analysis."
   ]
  },
  {
   "cell_type": "markdown",
   "metadata": {
    "tags": []
   },
   "source": [
    "## 4. Statistical analysis <a name=\"analysis\"></a>"
   ]
  },
  {
   "cell_type": "markdown",
   "metadata": {},
   "source": [
    "### 4.0 Functions"
   ]
  },
  {
   "cell_type": "code",
   "execution_count": 111,
   "metadata": {},
   "outputs": [],
   "source": [
    "def extract_lines(txt_file):\n",
    "    \"\"\"\n",
    "    Extracts the lines from a text file.\n",
    "    Inputs:\n",
    "        * txt_file : text file\n",
    "    Outputs:\n",
    "        * lines : all lines from text file\n",
    "    \"\"\"\n",
    "    lines = []\n",
    "    with open(txt_file, \"r\") as file:\n",
    "        for line in file:\n",
    "            lines.append(line) \n",
    "    return lines\n",
    "\n",
    "\n",
    "def extract_indices(lines):\n",
    "    \"\"\"\n",
    "    Extracts the indices from every line.\n",
    "    Inputs:\n",
    "        * lines : all lines from text file\n",
    "    Outputs:\n",
    "        * indices : the indices from each lines\n",
    "    \"\"\"\n",
    "    indices = []\n",
    "    for i in range(0,len(lines)):\n",
    "        index = ''\n",
    "        line = lines[i]\n",
    "        for j in range(0,len(line)):\n",
    "            char = line[j]\n",
    "            if char.isspace():\n",
    "                break\n",
    "            else:\n",
    "                index += char\n",
    "        indices.append(index)\n",
    "    return indices\n",
    "\n",
    "\n",
    "def create_df_from_txt(txt_file, df_profession):\n",
    "    \"\"\"\n",
    "    Creates a sub data frame from df_profession containing the rows defined in the txt_file.\n",
    "    Inputs:\n",
    "        * txt_file : text file\n",
    "        * df_profession : data frame containing all the quotes from a professional field\n",
    "    Outputs:\n",
    "        * df_uncertain_profession : dataframe containing the uncertain quotes from this professional field\n",
    "    \"\"\"\n",
    "    df_uncertain_profession = df_profession.iloc[extract_indices(extract_lines(txt_file))]\n",
    "    return df_uncertain_profession\n",
    "\n",
    "\n",
    "def create_gender_dist(df_profession, df_uncertain_profession):\n",
    "    \"\"\"\n",
    "    Computes the gender distribution of uncertain speakers for a certain profession.\n",
    "    Inputs:\n",
    "        * df_profession : data frame containing all the quotes from a professional field\n",
    "        * df_uncertain_profession : dataframe containing the uncertain quotes from this professional field\n",
    "    Outputs:\n",
    "        * gender_dist : the gender distribution of uncertain speakers for a certain profession in percentage\n",
    "    \"\"\"\n",
    "    gender_dist = df_uncertain_profession.groupby('gender').size()/df_profession.groupby('gender').size() * 100\n",
    "    return gender_dist\n",
    "\n",
    "def plot_hist(df, profession):\n",
    "    ax = df.plot(kind='bar')\n",
    "    labels = qid_label.loc[df.index]['Label'].values\n",
    "    ax.set_ylabel('% of {}'.format(profession))\n",
    "    ax.set_xticklabels(labels)\n",
    "    plt.title('Relative percentage of uncertain {a}  within a gender'.format(a=profession,b=profession), pad=20)"
   ]
  },
  {
   "cell_type": "markdown",
   "metadata": {
    "tags": []
   },
   "source": [
    "### 4.1 Creation of the uncertain and certain dataframes"
   ]
  },
  {
   "cell_type": "code",
   "execution_count": 113,
   "metadata": {},
   "outputs": [],
   "source": [
    "df_uncertain_politicians = create_df_from_txt(PATH_TXT + \"politicians_uncertainty.txt\", df_politicians)\n",
    "df_uncertain_artists = create_df_from_txt(PATH_TXT + \"artists_uncertainty.txt\", df_artists)\n",
    "df_uncertain_scientists = create_df_from_txt(PATH_TXT + \"scientists_uncertainty.txt\", df_scientists)\n",
    "df_uncertain_economists = create_df_from_txt(PATH_TXT + \"economists_uncertainty.txt\", df_economists)"
   ]
  },
  {
   "cell_type": "code",
   "execution_count": null,
   "metadata": {},
   "outputs": [],
   "source": [
    "df_certain_politicians = df_politicians[~df_politicians.quoteID.isin(df_uncertain_politicians.quoteID)]\n",
    "df_certain_artists = df_artists[~df_artists.quoteID.isin(df_uncertain_artists.quoteID)]\n",
    "df_certain_scientists = df_scientists[~df_scientists.quoteID.isin(df_uncertain_scientists.quoteID)]\n",
    "df_certain_economists = df_economists[~df_economists.quoteID.isin(df_uncertain_economists.quoteID)]"
   ]
  },
  {
   "cell_type": "markdown",
   "metadata": {},
   "source": [
    "### 4.2 Analysis of the gender distribution"
   ]
  },
  {
   "cell_type": "code",
   "execution_count": null,
   "metadata": {},
   "outputs": [],
   "source": [
    "politicians_gender_dist = create_gender_dist(df_politicians, df_uncertain_politicians)\n",
    "economists_gender_dist = create_gender_dist(df_economists, df_uncertain_economists)\n",
    "artists_gender_dist = create_gender_dist(df_artists, df_uncertain_artists)\n",
    "scientists_gender_dist = create_gender_dist(df_scientists, df_uncertain_scientists)"
   ]
  },
  {
   "cell_type": "code",
   "execution_count": 98,
   "metadata": {},
   "outputs": [
    {
     "data": {
      "image/png": "[encoded data removed]",
      "text/plain": [
       "<Figure size 1224x288 with 4 Axes>"
      ]
     },
     "metadata": {
      "needs_background": "light"
     },
     "output_type": "display_data"
    }
   ],
   "source": [
    "plt.figure(figsize=(17,4))\n",
    "\n",
    "plt.subplot(1,4,1)\n",
    "plot_hist(politicians_gender_dist, 'politician')\n",
    "plt.subplot(1,4,2)\n",
    "plot_hist(artists_gender_dist, 'artist')\n",
    "plt.subplot(1,4,3)\n",
    "plot_hist(scientists_gender_dist, 'scientist')\n",
    "plt.subplot(1,4,4)\n",
    "plot_hist(economists_gender_dist, 'economist')\n",
    "\n",
    "plt.show()"
   ]
  },
  {
   "cell_type": "markdown",
   "metadata": {
    "tags": []
   },
   "source": [
    "### 4.3 Background influence"
   ]
  },
  {
   "cell_type": "markdown",
   "metadata": {},
   "source": [
    "Let's have a look at our second question which investigates the roles culture, education and traditions play in determining those differences in speech between men and women."
   ]
  },
  {
   "cell_type": "markdown",
   "metadata": {},
   "source": [
    "Let's first have a look at our features and which could relate to culture, education or tradition."
   ]
  },
  {
   "cell_type": "code",
   "execution_count": 150,
   "metadata": {},
   "outputs": [
    {
     "data": {
      "text/plain": [
       "Index(['quoteID', 'quotation', 'speaker', 'qids', 'date', 'numOccurrences',\n",
       "       'probas', 'urls', 'phase', 'aliases', 'date_of_birth', 'nationality',\n",
       "       'gender', 'lastrevid', 'ethnic_group', 'US_congress_bio_ID',\n",
       "       'occupation', 'party', 'academic_degree', 'id', 'label', 'candidacy',\n",
       "       'type', 'religion'],\n",
       "      dtype='object')"
      ]
     },
     "execution_count": 150,
     "metadata": {},
     "output_type": "execute_result"
    }
   ],
   "source": [
    "df_artists.columns"
   ]
  },
  {
   "cell_type": "markdown",
   "metadata": {},
   "source": [
    "We see that `nationality`, `ethnic_group` and `religion` could give cultural and traditional background information on the speaker.  \n",
    "While `academic_degree` can give information on the educational aspect of the quotation author."
   ]
  },
  {
   "cell_type": "markdown",
   "metadata": {
    "tags": []
   },
   "source": [
    "#### Cultural background influence "
   ]
  },
  {
   "cell_type": "markdown",
   "metadata": {},
   "source": [
    "Let's compare the certain and uncertain spearkers with respect to nationality and gender:"
   ]
  },
  {
   "cell_type": "code",
   "execution_count": 207,
   "metadata": {},
   "outputs": [
    {
     "data": {
      "text/plain": [
       "29             None\n",
       "30             None\n",
       "32             None\n",
       "34             None\n",
       "35             None\n",
       "            ...    \n",
       "23693          None\n",
       "23708    [Q1062789]\n",
       "23726          None\n",
       "23731          None\n",
       "23737          None\n",
       "Name: religion, Length: 215997, dtype: object"
      ]
     },
     "execution_count": 207,
     "metadata": {},
     "output_type": "execute_result"
    }
   ],
   "source": [
    "df_certain_artists.religion"
   ]
  },
  {
   "cell_type": "code",
   "execution_count": 212,
   "metadata": {},
   "outputs": [
    {
     "data": {
      "text/plain": [
       "1119        [Q9268]\n",
       "1340        [Q9268]\n",
       "1342        [Q9268]\n",
       "1343        [Q9268]\n",
       "1344        [Q9268]\n",
       "            ...    \n",
       "22756      [Q93191]\n",
       "23145      [Q93191]\n",
       "23438     [Q288928]\n",
       "23669       [Q9268]\n",
       "23708    [Q1062789]\n",
       "Name: religion, Length: 28730, dtype: object"
      ]
     },
     "execution_count": 212,
     "metadata": {},
     "output_type": "execute_result"
    }
   ],
   "source": [
    "testtt = df_certain_artists[df_certain_artists['religion'].notnull()]\n",
    "testtt.religion"
   ]
  },
  {
   "cell_type": "code",
   "execution_count": 200,
   "metadata": {
    "collapsed": true,
    "jupyter": {
     "outputs_hidden": true,
     "source_hidden": true
    },
    "tags": []
   },
   "outputs": [
    {
     "data": {
      "text/plain": [
       "29        [Q30]\n",
       "30        [Q30]\n",
       "32        [Q30]\n",
       "34        [Q30]\n",
       "35        [Q30]\n",
       "          ...  \n",
       "23678    [Q408]\n",
       "23684     [Q16]\n",
       "23708     [Q30]\n",
       "23726    [Q928]\n",
       "23737    [Q145]\n",
       "Name: nationality, Length: 190002, dtype: object"
      ]
     },
     "execution_count": 200,
     "metadata": {},
     "output_type": "execute_result"
    }
   ],
   "source": [
    "np.count_nonzero(testtt.nationality == None)\n",
    "testtt.nationality"
   ]
  },
  {
   "cell_type": "code",
   "execution_count": 213,
   "metadata": {
    "tags": []
   },
   "outputs": [
    {
     "ename": "KeyboardInterrupt",
     "evalue": "",
     "output_type": "error",
     "traceback": [
      "\u001b[0;31m---------------------------------------------------------------------------\u001b[0m",
      "\u001b[0;31mKeyboardInterrupt\u001b[0m                         Traceback (most recent call last)",
      "\u001b[0;32m/var/folders/ls/v46b_70d2fv4_19mn0f_4ht80000gn/T/ipykernel_49947/314573400.py\u001b[0m in \u001b[0;36m<module>\u001b[0;34m\u001b[0m\n\u001b[0;32m----> 1\u001b[0;31m \u001b[0mplt\u001b[0m\u001b[0;34m.\u001b[0m\u001b[0mhist\u001b[0m\u001b[0;34m(\u001b[0m\u001b[0mtesttt\u001b[0m\u001b[0;34m.\u001b[0m\u001b[0mreligion\u001b[0m\u001b[0;34m)\u001b[0m\u001b[0;34m\u001b[0m\u001b[0;34m\u001b[0m\u001b[0m\n\u001b[0m\u001b[1;32m      2\u001b[0m \u001b[0;31m#sns.histplot(df_uncertain_artists.nationality)\u001b[0m\u001b[0;34m\u001b[0m\u001b[0;34m\u001b[0m\u001b[0;34m\u001b[0m\u001b[0m\n",
      "\u001b[0;32m~/opt/anaconda3/envs/ada/lib/python3.8/site-packages/matplotlib/pyplot.py\u001b[0m in \u001b[0;36mhist\u001b[0;34m(x, bins, range, density, weights, cumulative, bottom, histtype, align, orientation, rwidth, log, color, label, stacked, data, **kwargs)\u001b[0m\n\u001b[1;32m   2851\u001b[0m         \u001b[0morientation\u001b[0m\u001b[0;34m=\u001b[0m\u001b[0;34m'vertical'\u001b[0m\u001b[0;34m,\u001b[0m \u001b[0mrwidth\u001b[0m\u001b[0;34m=\u001b[0m\u001b[0;32mNone\u001b[0m\u001b[0;34m,\u001b[0m \u001b[0mlog\u001b[0m\u001b[0;34m=\u001b[0m\u001b[0;32mFalse\u001b[0m\u001b[0;34m,\u001b[0m \u001b[0mcolor\u001b[0m\u001b[0;34m=\u001b[0m\u001b[0;32mNone\u001b[0m\u001b[0;34m,\u001b[0m\u001b[0;34m\u001b[0m\u001b[0;34m\u001b[0m\u001b[0m\n\u001b[1;32m   2852\u001b[0m         label=None, stacked=False, *, data=None, **kwargs):\n\u001b[0;32m-> 2853\u001b[0;31m     return gca().hist(\n\u001b[0m\u001b[1;32m   2854\u001b[0m         \u001b[0mx\u001b[0m\u001b[0;34m,\u001b[0m \u001b[0mbins\u001b[0m\u001b[0;34m=\u001b[0m\u001b[0mbins\u001b[0m\u001b[0;34m,\u001b[0m \u001b[0mrange\u001b[0m\u001b[0;34m=\u001b[0m\u001b[0mrange\u001b[0m\u001b[0;34m,\u001b[0m \u001b[0mdensity\u001b[0m\u001b[0;34m=\u001b[0m\u001b[0mdensity\u001b[0m\u001b[0;34m,\u001b[0m \u001b[0mweights\u001b[0m\u001b[0;34m=\u001b[0m\u001b[0mweights\u001b[0m\u001b[0;34m,\u001b[0m\u001b[0;34m\u001b[0m\u001b[0;34m\u001b[0m\u001b[0m\n\u001b[1;32m   2855\u001b[0m         \u001b[0mcumulative\u001b[0m\u001b[0;34m=\u001b[0m\u001b[0mcumulative\u001b[0m\u001b[0;34m,\u001b[0m \u001b[0mbottom\u001b[0m\u001b[0;34m=\u001b[0m\u001b[0mbottom\u001b[0m\u001b[0;34m,\u001b[0m \u001b[0mhisttype\u001b[0m\u001b[0;34m=\u001b[0m\u001b[0mhisttype\u001b[0m\u001b[0;34m,\u001b[0m\u001b[0;34m\u001b[0m\u001b[0;34m\u001b[0m\u001b[0m\n",
      "\u001b[0;32m~/opt/anaconda3/envs/ada/lib/python3.8/site-packages/matplotlib/__init__.py\u001b[0m in \u001b[0;36minner\u001b[0;34m(ax, data, *args, **kwargs)\u001b[0m\n\u001b[1;32m   1359\u001b[0m     \u001b[0;32mdef\u001b[0m \u001b[0minner\u001b[0m\u001b[0;34m(\u001b[0m\u001b[0max\u001b[0m\u001b[0;34m,\u001b[0m \u001b[0;34m*\u001b[0m\u001b[0margs\u001b[0m\u001b[0;34m,\u001b[0m \u001b[0mdata\u001b[0m\u001b[0;34m=\u001b[0m\u001b[0;32mNone\u001b[0m\u001b[0;34m,\u001b[0m \u001b[0;34m**\u001b[0m\u001b[0mkwargs\u001b[0m\u001b[0;34m)\u001b[0m\u001b[0;34m:\u001b[0m\u001b[0;34m\u001b[0m\u001b[0;34m\u001b[0m\u001b[0m\n\u001b[1;32m   1360\u001b[0m         \u001b[0;32mif\u001b[0m \u001b[0mdata\u001b[0m \u001b[0;32mis\u001b[0m \u001b[0;32mNone\u001b[0m\u001b[0;34m:\u001b[0m\u001b[0;34m\u001b[0m\u001b[0;34m\u001b[0m\u001b[0m\n\u001b[0;32m-> 1361\u001b[0;31m             \u001b[0;32mreturn\u001b[0m \u001b[0mfunc\u001b[0m\u001b[0;34m(\u001b[0m\u001b[0max\u001b[0m\u001b[0;34m,\u001b[0m \u001b[0;34m*\u001b[0m\u001b[0mmap\u001b[0m\u001b[0;34m(\u001b[0m\u001b[0msanitize_sequence\u001b[0m\u001b[0;34m,\u001b[0m \u001b[0margs\u001b[0m\u001b[0;34m)\u001b[0m\u001b[0;34m,\u001b[0m \u001b[0;34m**\u001b[0m\u001b[0mkwargs\u001b[0m\u001b[0;34m)\u001b[0m\u001b[0;34m\u001b[0m\u001b[0;34m\u001b[0m\u001b[0m\n\u001b[0m\u001b[1;32m   1362\u001b[0m \u001b[0;34m\u001b[0m\u001b[0m\n\u001b[1;32m   1363\u001b[0m         \u001b[0mbound\u001b[0m \u001b[0;34m=\u001b[0m \u001b[0mnew_sig\u001b[0m\u001b[0;34m.\u001b[0m\u001b[0mbind\u001b[0m\u001b[0;34m(\u001b[0m\u001b[0max\u001b[0m\u001b[0;34m,\u001b[0m \u001b[0;34m*\u001b[0m\u001b[0margs\u001b[0m\u001b[0;34m,\u001b[0m \u001b[0;34m**\u001b[0m\u001b[0mkwargs\u001b[0m\u001b[0;34m)\u001b[0m\u001b[0;34m\u001b[0m\u001b[0;34m\u001b[0m\u001b[0m\n",
      "\u001b[0;32m~/opt/anaconda3/envs/ada/lib/python3.8/site-packages/matplotlib/axes/_axes.py\u001b[0m in \u001b[0;36mhist\u001b[0;34m(self, x, bins, range, density, weights, cumulative, bottom, histtype, align, orientation, rwidth, log, color, label, stacked, **kwargs)\u001b[0m\n\u001b[1;32m   6816\u001b[0m                 \u001b[0;32melse\u001b[0m\u001b[0;34m:\u001b[0m\u001b[0;34m\u001b[0m\u001b[0;34m\u001b[0m\u001b[0m\n\u001b[1;32m   6817\u001b[0m                     \u001b[0mheight\u001b[0m \u001b[0;34m=\u001b[0m \u001b[0mm\u001b[0m\u001b[0;34m\u001b[0m\u001b[0;34m\u001b[0m\u001b[0m\n\u001b[0;32m-> 6818\u001b[0;31m                 bars = _barfunc(bins[:-1]+boffset, height, width,\n\u001b[0m\u001b[1;32m   6819\u001b[0m                                 \u001b[0malign\u001b[0m\u001b[0;34m=\u001b[0m\u001b[0;34m'center'\u001b[0m\u001b[0;34m,\u001b[0m \u001b[0mlog\u001b[0m\u001b[0;34m=\u001b[0m\u001b[0mlog\u001b[0m\u001b[0;34m,\u001b[0m\u001b[0;34m\u001b[0m\u001b[0;34m\u001b[0m\u001b[0m\n\u001b[1;32m   6820\u001b[0m                                 color=c, **{bottom_kwarg: bottom})\n",
      "\u001b[0;32m~/opt/anaconda3/envs/ada/lib/python3.8/site-packages/matplotlib/__init__.py\u001b[0m in \u001b[0;36minner\u001b[0;34m(ax, data, *args, **kwargs)\u001b[0m\n\u001b[1;32m   1359\u001b[0m     \u001b[0;32mdef\u001b[0m \u001b[0minner\u001b[0m\u001b[0;34m(\u001b[0m\u001b[0max\u001b[0m\u001b[0;34m,\u001b[0m \u001b[0;34m*\u001b[0m\u001b[0margs\u001b[0m\u001b[0;34m,\u001b[0m \u001b[0mdata\u001b[0m\u001b[0;34m=\u001b[0m\u001b[0;32mNone\u001b[0m\u001b[0;34m,\u001b[0m \u001b[0;34m**\u001b[0m\u001b[0mkwargs\u001b[0m\u001b[0;34m)\u001b[0m\u001b[0;34m:\u001b[0m\u001b[0;34m\u001b[0m\u001b[0;34m\u001b[0m\u001b[0m\n\u001b[1;32m   1360\u001b[0m         \u001b[0;32mif\u001b[0m \u001b[0mdata\u001b[0m \u001b[0;32mis\u001b[0m \u001b[0;32mNone\u001b[0m\u001b[0;34m:\u001b[0m\u001b[0;34m\u001b[0m\u001b[0;34m\u001b[0m\u001b[0m\n\u001b[0;32m-> 1361\u001b[0;31m             \u001b[0;32mreturn\u001b[0m \u001b[0mfunc\u001b[0m\u001b[0;34m(\u001b[0m\u001b[0max\u001b[0m\u001b[0;34m,\u001b[0m \u001b[0;34m*\u001b[0m\u001b[0mmap\u001b[0m\u001b[0;34m(\u001b[0m\u001b[0msanitize_sequence\u001b[0m\u001b[0;34m,\u001b[0m \u001b[0margs\u001b[0m\u001b[0;34m)\u001b[0m\u001b[0;34m,\u001b[0m \u001b[0;34m**\u001b[0m\u001b[0mkwargs\u001b[0m\u001b[0;34m)\u001b[0m\u001b[0;34m\u001b[0m\u001b[0;34m\u001b[0m\u001b[0m\n\u001b[0m\u001b[1;32m   1362\u001b[0m \u001b[0;34m\u001b[0m\u001b[0m\n\u001b[1;32m   1363\u001b[0m         \u001b[0mbound\u001b[0m \u001b[0;34m=\u001b[0m \u001b[0mnew_sig\u001b[0m\u001b[0;34m.\u001b[0m\u001b[0mbind\u001b[0m\u001b[0;34m(\u001b[0m\u001b[0max\u001b[0m\u001b[0;34m,\u001b[0m \u001b[0;34m*\u001b[0m\u001b[0margs\u001b[0m\u001b[0;34m,\u001b[0m \u001b[0;34m**\u001b[0m\u001b[0mkwargs\u001b[0m\u001b[0;34m)\u001b[0m\u001b[0;34m\u001b[0m\u001b[0;34m\u001b[0m\u001b[0m\n",
      "\u001b[0;32m~/opt/anaconda3/envs/ada/lib/python3.8/site-packages/matplotlib/axes/_axes.py\u001b[0m in \u001b[0;36mbar\u001b[0;34m(self, x, height, width, bottom, align, **kwargs)\u001b[0m\n\u001b[1;32m   2369\u001b[0m             \u001b[0;32melif\u001b[0m \u001b[0morientation\u001b[0m \u001b[0;34m==\u001b[0m \u001b[0;34m'horizontal'\u001b[0m\u001b[0;34m:\u001b[0m\u001b[0;34m\u001b[0m\u001b[0;34m\u001b[0m\u001b[0m\n\u001b[1;32m   2370\u001b[0m                 \u001b[0mr\u001b[0m\u001b[0;34m.\u001b[0m\u001b[0msticky_edges\u001b[0m\u001b[0;34m.\u001b[0m\u001b[0mx\u001b[0m\u001b[0;34m.\u001b[0m\u001b[0mappend\u001b[0m\u001b[0;34m(\u001b[0m\u001b[0ml\u001b[0m\u001b[0;34m)\u001b[0m\u001b[0;34m\u001b[0m\u001b[0;34m\u001b[0m\u001b[0m\n\u001b[0;32m-> 2371\u001b[0;31m             \u001b[0mself\u001b[0m\u001b[0;34m.\u001b[0m\u001b[0madd_patch\u001b[0m\u001b[0;34m(\u001b[0m\u001b[0mr\u001b[0m\u001b[0;34m)\u001b[0m\u001b[0;34m\u001b[0m\u001b[0;34m\u001b[0m\u001b[0m\n\u001b[0m\u001b[1;32m   2372\u001b[0m             \u001b[0mpatches\u001b[0m\u001b[0;34m.\u001b[0m\u001b[0mappend\u001b[0m\u001b[0;34m(\u001b[0m\u001b[0mr\u001b[0m\u001b[0;34m)\u001b[0m\u001b[0;34m\u001b[0m\u001b[0;34m\u001b[0m\u001b[0m\n\u001b[1;32m   2373\u001b[0m \u001b[0;34m\u001b[0m\u001b[0m\n",
      "\u001b[0;32m~/opt/anaconda3/envs/ada/lib/python3.8/site-packages/matplotlib/axes/_base.py\u001b[0m in \u001b[0;36madd_patch\u001b[0;34m(self, p)\u001b[0m\n\u001b[1;32m   2167\u001b[0m         \u001b[0mself\u001b[0m\u001b[0;34m.\u001b[0m\u001b[0m_set_artist_props\u001b[0m\u001b[0;34m(\u001b[0m\u001b[0mp\u001b[0m\u001b[0;34m)\u001b[0m\u001b[0;34m\u001b[0m\u001b[0;34m\u001b[0m\u001b[0m\n\u001b[1;32m   2168\u001b[0m         \u001b[0;32mif\u001b[0m \u001b[0mp\u001b[0m\u001b[0;34m.\u001b[0m\u001b[0mget_clip_path\u001b[0m\u001b[0;34m(\u001b[0m\u001b[0;34m)\u001b[0m \u001b[0;32mis\u001b[0m \u001b[0;32mNone\u001b[0m\u001b[0;34m:\u001b[0m\u001b[0;34m\u001b[0m\u001b[0;34m\u001b[0m\u001b[0m\n\u001b[0;32m-> 2169\u001b[0;31m             \u001b[0mp\u001b[0m\u001b[0;34m.\u001b[0m\u001b[0mset_clip_path\u001b[0m\u001b[0;34m(\u001b[0m\u001b[0mself\u001b[0m\u001b[0;34m.\u001b[0m\u001b[0mpatch\u001b[0m\u001b[0;34m)\u001b[0m\u001b[0;34m\u001b[0m\u001b[0;34m\u001b[0m\u001b[0m\n\u001b[0m\u001b[1;32m   2170\u001b[0m         \u001b[0mself\u001b[0m\u001b[0;34m.\u001b[0m\u001b[0m_update_patch_limits\u001b[0m\u001b[0;34m(\u001b[0m\u001b[0mp\u001b[0m\u001b[0;34m)\u001b[0m\u001b[0;34m\u001b[0m\u001b[0;34m\u001b[0m\u001b[0m\n\u001b[1;32m   2171\u001b[0m         \u001b[0mself\u001b[0m\u001b[0;34m.\u001b[0m\u001b[0mpatches\u001b[0m\u001b[0;34m.\u001b[0m\u001b[0mappend\u001b[0m\u001b[0;34m(\u001b[0m\u001b[0mp\u001b[0m\u001b[0;34m)\u001b[0m\u001b[0;34m\u001b[0m\u001b[0;34m\u001b[0m\u001b[0m\n",
      "\u001b[0;32m~/opt/anaconda3/envs/ada/lib/python3.8/site-packages/matplotlib/artist.py\u001b[0m in \u001b[0;36mset_clip_path\u001b[0;34m(self, path, transform)\u001b[0m\n\u001b[1;32m    772\u001b[0m         \u001b[0;34m.\u001b[0m\u001b[0;34m.\u001b[0m \u001b[0mACCEPTS\u001b[0m\u001b[0;34m:\u001b[0m \u001b[0mPatch\u001b[0m \u001b[0;32mor\u001b[0m \u001b[0;34m(\u001b[0m\u001b[0mPath\u001b[0m\u001b[0;34m,\u001b[0m \u001b[0mTransform\u001b[0m\u001b[0;34m)\u001b[0m \u001b[0;32mor\u001b[0m \u001b[0;32mNone\u001b[0m\u001b[0;34m\u001b[0m\u001b[0;34m\u001b[0m\u001b[0m\n\u001b[1;32m    773\u001b[0m         \"\"\"\n\u001b[0;32m--> 774\u001b[0;31m         \u001b[0;32mfrom\u001b[0m \u001b[0mmatplotlib\u001b[0m\u001b[0;34m.\u001b[0m\u001b[0mpatches\u001b[0m \u001b[0;32mimport\u001b[0m \u001b[0mPatch\u001b[0m\u001b[0;34m,\u001b[0m \u001b[0mRectangle\u001b[0m\u001b[0;34m\u001b[0m\u001b[0;34m\u001b[0m\u001b[0m\n\u001b[0m\u001b[1;32m    775\u001b[0m \u001b[0;34m\u001b[0m\u001b[0m\n\u001b[1;32m    776\u001b[0m         \u001b[0msuccess\u001b[0m \u001b[0;34m=\u001b[0m \u001b[0;32mFalse\u001b[0m\u001b[0;34m\u001b[0m\u001b[0;34m\u001b[0m\u001b[0m\n",
      "\u001b[0;31mKeyboardInterrupt\u001b[0m: "
     ]
    },
    {
     "data": {
      "image/png": "[encoded data removed]",
      "text/plain": [
       "<Figure size 432x288 with 1 Axes>"
      ]
     },
     "metadata": {
      "needs_background": "light"
     },
     "output_type": "display_data"
    }
   ],
   "source": [
    "plt.hist(testtt.religion)\n",
    "#sns.histplot(df_uncertain_artists.nationality)"
   ]
  },
  {
   "cell_type": "code",
   "execution_count": null,
   "metadata": {},
   "outputs": [],
   "source": []
  },
  {
   "cell_type": "markdown",
   "metadata": {
    "tags": []
   },
   "source": [
    "#### Educational background influence "
   ]
  },
  {
   "cell_type": "code",
   "execution_count": null,
   "metadata": {},
   "outputs": [],
   "source": []
  }
 ],
 "metadata": {
  "interpreter": {
   "hash": "a53c85f19ec6b2954a44487f2d44944431fd108845d569e7201686def1655526"
  },
  "kernelspec": {
   "display_name": "Python 3 (ipykernel)",
   "language": "python",
   "name": "python3"
  },
  "language_info": {
   "codemirror_mode": {
    "name": "ipython",
    "version": 3
   },
   "file_extension": ".py",
   "mimetype": "text/x-python",
   "name": "python",
   "nbconvert_exporter": "python",
   "pygments_lexer": "ipython3",
   "version": "3.8.8"
  }
 },
 "nbformat": 4,
 "nbformat_minor": 4
}
